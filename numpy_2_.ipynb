{
  "nbformat": 4,
  "nbformat_minor": 0,
  "metadata": {
    "colab": {
      "provenance": [],
      "authorship_tag": "ABX9TyNmY1L8O3qgCU5cTvkqUzD7",
      "include_colab_link": true
    },
    "kernelspec": {
      "name": "python3",
      "display_name": "Python 3"
    },
    "language_info": {
      "name": "python"
    }
  },
  "cells": [
    {
      "cell_type": "markdown",
      "metadata": {
        "id": "view-in-github",
        "colab_type": "text"
      },
      "source": [
        "<a href=\"https://colab.research.google.com/github/TVsony/Data/blob/main/numpy_2_.ipynb\" target=\"_parent\"><img src=\"https://colab.research.google.com/assets/colab-badge.svg\" alt=\"Open In Colab\"/></a>"
      ]
    },
    {
      "cell_type": "code",
      "execution_count": 5,
      "metadata": {
        "id": "TEl92lIyi9bi"
      },
      "outputs": [],
      "source": [
        "import numpy as np"
      ]
    },
    {
      "cell_type": "code",
      "source": [
        "np.array([5,9,13])\n",
        "type([5,9,13])\n"
      ],
      "metadata": {
        "colab": {
          "base_uri": "https://localhost:8080/"
        },
        "id": "SxAwdwdsjKCa",
        "outputId": "18afa5e1-5f84-4798-dd60-7da58a4be283"
      },
      "execution_count": 6,
      "outputs": [
        {
          "output_type": "execute_result",
          "data": {
            "text/plain": [
              "list"
            ]
          },
          "metadata": {},
          "execution_count": 6
        }
      ]
    },
    {
      "cell_type": "markdown",
      "source": [
        "Two dimensions"
      ],
      "metadata": {
        "id": "dbqhVnVwjdxp"
      }
    },
    {
      "cell_type": "code",
      "source": [
        "a = np.array([[1,2], [3,4], [4,5]])\n",
        "print(a.dtype)\n",
        "print('\\n',a)"
      ],
      "metadata": {
        "colab": {
          "base_uri": "https://localhost:8080/"
        },
        "id": "KB-SFsoWjk_P",
        "outputId": "3498e36f-d72e-43f2-e88b-83780bd182f4"
      },
      "execution_count": 7,
      "outputs": [
        {
          "output_type": "stream",
          "name": "stdout",
          "text": [
            "int64\n",
            "\n",
            " [[1 2]\n",
            " [3 4]\n",
            " [4 5]]\n"
          ]
        }
      ]
    },
    {
      "cell_type": "code",
      "source": [
        "# Convert dtype\n",
        "\n",
        "np.array([1,2,3], dtype=float)"
      ],
      "metadata": {
        "colab": {
          "base_uri": "https://localhost:8080/"
        },
        "id": "T-04IHu7kCR9",
        "outputId": "8ab2f59a-b9a8-4727-fbb3-a61754501315"
      },
      "execution_count": 8,
      "outputs": [
        {
          "output_type": "execute_result",
          "data": {
            "text/plain": [
              "array([1., 2., 3.])"
            ]
          },
          "metadata": {},
          "execution_count": 8
        }
      ]
    },
    {
      "cell_type": "code",
      "source": [
        "# Creating Matrix using mat\n",
        "np.array(np.mat(('1 2 3; 3 4 5')))\n"
      ],
      "metadata": {
        "colab": {
          "base_uri": "https://localhost:8080/"
        },
        "id": "tY4yHW3tkhGV",
        "outputId": "53a4206b-fd70-41c5-f487-723cd999e46d"
      },
      "execution_count": 9,
      "outputs": [
        {
          "output_type": "execute_result",
          "data": {
            "text/plain": [
              "array([[1, 2, 3],\n",
              "       [3, 4, 5]])"
            ]
          },
          "metadata": {},
          "execution_count": 9
        }
      ]
    },
    {
      "cell_type": "code",
      "source": [
        "a =[1,2]\n",
        "c = np.array(a)\n",
        "print(c)"
      ],
      "metadata": {
        "colab": {
          "base_uri": "https://localhost:8080/"
        },
        "id": "PKEnzKQSlEQq",
        "outputId": "0c922335-c57a-40e3-f8bb-5c1ef80568f2"
      },
      "execution_count": 10,
      "outputs": [
        {
          "output_type": "stream",
          "name": "stdout",
          "text": [
            "[1 2]\n"
          ]
        }
      ]
    },
    {
      "cell_type": "code",
      "source": [
        "# copy array into other\n",
        "b=np.asarray(c)\n",
        "print(b)"
      ],
      "metadata": {
        "colab": {
          "base_uri": "https://localhost:8080/"
        },
        "id": "JS5gKYbZldcN",
        "outputId": "5a051ef7-abd0-40b9-a034-086b54fd707a"
      },
      "execution_count": 11,
      "outputs": [
        {
          "output_type": "stream",
          "name": "stdout",
          "text": [
            "[1 2]\n"
          ]
        }
      ]
    },
    {
      "cell_type": "markdown",
      "source": [
        "Data Type"
      ],
      "metadata": {
        "id": "biqWAQVsmCCt"
      }
    },
    {
      "cell_type": "code",
      "source": [
        "my_mat = [[1,2,3],[4,5,6],[7,8,9]]\n",
        "\n",
        "mat = np.array(my_mat)\n",
        "\n",
        "print(type(mat))\n",
        "\n",
        "print(mat, '\\n')\n",
        "\n",
        "print(mat.ndim,sep=\" \")\n",
        "\n",
        "print(mat.size, sep=' ')\n",
        "\n",
        "print(mat.shape)\n",
        "\n",
        "print(mat.dtype)"
      ],
      "metadata": {
        "colab": {
          "base_uri": "https://localhost:8080/"
        },
        "id": "ydOscCSemF3C",
        "outputId": "0a581975-d4a1-4687-e05d-89ba0e0b4f9c"
      },
      "execution_count": 12,
      "outputs": [
        {
          "output_type": "stream",
          "name": "stdout",
          "text": [
            "<class 'numpy.ndarray'>\n",
            "[[1 2 3]\n",
            " [4 5 6]\n",
            " [7 8 9]] \n",
            "\n",
            "2\n",
            "9\n",
            "(3, 3)\n",
            "int64\n"
          ]
        }
      ]
    },
    {
      "cell_type": "markdown",
      "source": [
        "arange & linspace"
      ],
      "metadata": {
        "id": "86cCSkbloOdG"
      }
    },
    {
      "cell_type": "code",
      "source": [
        "a = np.arange(2,10.5,.4) # start 2 endpoint 10.4 and step size 0.4\n",
        "a"
      ],
      "metadata": {
        "colab": {
          "base_uri": "https://localhost:8080/"
        },
        "id": "S8LswN3NoWrn",
        "outputId": "bd04bbcb-3daa-4374-8b1b-d7aeff8ed6a2"
      },
      "execution_count": 13,
      "outputs": [
        {
          "output_type": "execute_result",
          "data": {
            "text/plain": [
              "array([ 2. ,  2.4,  2.8,  3.2,  3.6,  4. ,  4.4,  4.8,  5.2,  5.6,  6. ,\n",
              "        6.4,  6.8,  7.2,  7.6,  8. ,  8.4,  8.8,  9.2,  9.6, 10. , 10.4])"
            ]
          },
          "metadata": {},
          "execution_count": 13
        }
      ]
    },
    {
      "cell_type": "code",
      "source": [
        "# Reverse Order\n",
        "a[: :-1]            # [ : :-1] start(start from zero) ,endpoint(all number), stepsize -1  from backword direction"
      ],
      "metadata": {
        "colab": {
          "base_uri": "https://localhost:8080/"
        },
        "id": "Zma-g9grolcm",
        "outputId": "5a7cdd16-14c3-41f4-d801-7ad0f4c58876"
      },
      "execution_count": 14,
      "outputs": [
        {
          "output_type": "execute_result",
          "data": {
            "text/plain": [
              "array([10.4, 10. ,  9.6,  9.2,  8.8,  8.4,  8. ,  7.6,  7.2,  6.8,  6.4,\n",
              "        6. ,  5.6,  5.2,  4.8,  4.4,  4. ,  3.6,  3.2,  2.8,  2.4,  2. ])"
            ]
          },
          "metadata": {},
          "execution_count": 14
        }
      ]
    },
    {
      "cell_type": "code",
      "source": [
        "b = np.arange(50,0,-5)  # reverse Order\n",
        "b"
      ],
      "metadata": {
        "colab": {
          "base_uri": "https://localhost:8080/"
        },
        "id": "qX1TU7mjo_93",
        "outputId": "75363ce1-4885-4c52-b6ac-6debdaeacbdb"
      },
      "execution_count": 15,
      "outputs": [
        {
          "output_type": "execute_result",
          "data": {
            "text/plain": [
              "array([50, 45, 40, 35, 30, 25, 20, 15, 10,  5])"
            ]
          },
          "metadata": {},
          "execution_count": 15
        }
      ]
    },
    {
      "cell_type": "code",
      "source": [
        "c = np.arange(5,51,5) # forword order\n",
        "c"
      ],
      "metadata": {
        "colab": {
          "base_uri": "https://localhost:8080/"
        },
        "id": "xCYB-cC9pqbL",
        "outputId": "af91c6d5-babf-4875-e939-ccc2762688f1"
      },
      "execution_count": 16,
      "outputs": [
        {
          "output_type": "execute_result",
          "data": {
            "text/plain": [
              "array([ 5, 10, 15, 20, 25, 30, 35, 40, 45, 50])"
            ]
          },
          "metadata": {},
          "execution_count": 16
        }
      ]
    },
    {
      "cell_type": "code",
      "source": [],
      "metadata": {
        "id": "SuTrqhMfsd35"
      },
      "execution_count": 16,
      "outputs": []
    },
    {
      "cell_type": "markdown",
      "source": [
        "**linspace**"
      ],
      "metadata": {
        "id": "QnPTzySQseih"
      }
    },
    {
      "cell_type": "code",
      "source": [
        "l=np.linspace(10,40,5) # number of elements required is 5 in bet 10 to 40 linearly spaced means equally spaced\n",
        "l"
      ],
      "metadata": {
        "colab": {
          "base_uri": "https://localhost:8080/"
        },
        "id": "F4ZJ_s8cq7cw",
        "outputId": "aadaa14d-a5ef-460b-bb1e-ef0e1fb3a5f9"
      },
      "execution_count": 17,
      "outputs": [
        {
          "output_type": "execute_result",
          "data": {
            "text/plain": [
              "array([10. , 17.5, 25. , 32.5, 40. ])"
            ]
          },
          "metadata": {},
          "execution_count": 17
        }
      ]
    },
    {
      "cell_type": "code",
      "source": [
        "L =np.linspace(2.0,3.0, num=4, endpoint=True , retstep=True) #  num=4 is want 4 elements ,\n",
        "# endpoint = True (include last numbers), retstep= True (we want dist bet two points)\n",
        "L"
      ],
      "metadata": {
        "colab": {
          "base_uri": "https://localhost:8080/"
        },
        "id": "pfejUlprpygF",
        "outputId": "62f2daeb-e319-4ea3-c1b2-4fd602c99fe4"
      },
      "execution_count": 18,
      "outputs": [
        {
          "output_type": "execute_result",
          "data": {
            "text/plain": [
              "(array([2.        , 2.33333333, 2.66666667, 3.        ]), 0.3333333333333333)"
            ]
          },
          "metadata": {},
          "execution_count": 18
        }
      ]
    },
    {
      "cell_type": "code",
      "source": [
        "N =np.linspace(2.0,3.0, num=4, endpoint=False , retstep=True)  # endpoint not include\n",
        "N"
      ],
      "metadata": {
        "colab": {
          "base_uri": "https://localhost:8080/"
        },
        "id": "jJxzTnVMr9oD",
        "outputId": "cd543e25-771d-4c5a-9805-3622bc2a0c90"
      },
      "execution_count": 19,
      "outputs": [
        {
          "output_type": "execute_result",
          "data": {
            "text/plain": [
              "(array([2.  , 2.25, 2.5 , 2.75]), 0.25)"
            ]
          },
          "metadata": {},
          "execution_count": 19
        }
      ]
    },
    {
      "cell_type": "code",
      "source": [],
      "metadata": {
        "id": "YbLi_cyisKUq"
      },
      "execution_count": 19,
      "outputs": []
    },
    {
      "cell_type": "markdown",
      "source": [
        "**Matrix Creation**"
      ],
      "metadata": {
        "id": "T6Xqg28es0Ka"
      }
    },
    {
      "cell_type": "code",
      "source": [
        "a = (np.zeros((5,6)))\n",
        "print(a)"
      ],
      "metadata": {
        "colab": {
          "base_uri": "https://localhost:8080/"
        },
        "id": "EoY2h1HFs5I7",
        "outputId": "4e4b22ae-d1c7-4c12-f3ae-befb802b4b23"
      },
      "execution_count": 20,
      "outputs": [
        {
          "output_type": "stream",
          "name": "stdout",
          "text": [
            "[[0. 0. 0. 0. 0. 0.]\n",
            " [0. 0. 0. 0. 0. 0.]\n",
            " [0. 0. 0. 0. 0. 0.]\n",
            " [0. 0. 0. 0. 0. 0.]\n",
            " [0. 0. 0. 0. 0. 0.]]\n"
          ]
        }
      ]
    },
    {
      "cell_type": "code",
      "source": [
        "b = (np.ones((5,6)))\n",
        "print(b)"
      ],
      "metadata": {
        "colab": {
          "base_uri": "https://localhost:8080/"
        },
        "id": "1tAmd_4XtGxz",
        "outputId": "e4d278bb-7d2b-49b7-8412-5112d84a2a59"
      },
      "execution_count": 21,
      "outputs": [
        {
          "output_type": "stream",
          "name": "stdout",
          "text": [
            "[[1. 1. 1. 1. 1. 1.]\n",
            " [1. 1. 1. 1. 1. 1.]\n",
            " [1. 1. 1. 1. 1. 1.]\n",
            " [1. 1. 1. 1. 1. 1.]\n",
            " [1. 1. 1. 1. 1. 1.]]\n"
          ]
        }
      ]
    },
    {
      "cell_type": "code",
      "source": [
        "b = 5*(np.ones((5,6)))\n",
        "b"
      ],
      "metadata": {
        "colab": {
          "base_uri": "https://localhost:8080/"
        },
        "id": "i3QBNMxWtj-P",
        "outputId": "beb50013-3862-40f8-cd7b-81d47fe40089"
      },
      "execution_count": 22,
      "outputs": [
        {
          "output_type": "execute_result",
          "data": {
            "text/plain": [
              "array([[5., 5., 5., 5., 5., 5.],\n",
              "       [5., 5., 5., 5., 5., 5.],\n",
              "       [5., 5., 5., 5., 5., 5.],\n",
              "       [5., 5., 5., 5., 5., 5.],\n",
              "       [5., 5., 5., 5., 5., 5.]])"
            ]
          },
          "metadata": {},
          "execution_count": 22
        }
      ]
    },
    {
      "cell_type": "markdown",
      "source": [
        "**Reshape**"
      ],
      "metadata": {
        "id": "blJmUuwMuM-9"
      }
    },
    {
      "cell_type": "code",
      "source": [
        "x = np.arange(30)\n",
        "x"
      ],
      "metadata": {
        "colab": {
          "base_uri": "https://localhost:8080/"
        },
        "id": "d6zhB3xatvBJ",
        "outputId": "eca4ebf9-01a0-4dff-ba1d-994d7308465d"
      },
      "execution_count": 23,
      "outputs": [
        {
          "output_type": "execute_result",
          "data": {
            "text/plain": [
              "array([ 0,  1,  2,  3,  4,  5,  6,  7,  8,  9, 10, 11, 12, 13, 14, 15, 16,\n",
              "       17, 18, 19, 20, 21, 22, 23, 24, 25, 26, 27, 28, 29])"
            ]
          },
          "metadata": {},
          "execution_count": 23
        }
      ]
    },
    {
      "cell_type": "code",
      "source": [
        "x = np.arange(30).reshape(3,10)\n",
        "print(x)"
      ],
      "metadata": {
        "colab": {
          "base_uri": "https://localhost:8080/"
        },
        "id": "C2geeKGxt8fQ",
        "outputId": "7334cd1b-6585-414b-a0af-45df4f2134f1"
      },
      "execution_count": 24,
      "outputs": [
        {
          "output_type": "stream",
          "name": "stdout",
          "text": [
            "[[ 0  1  2  3  4  5  6  7  8  9]\n",
            " [10 11 12 13 14 15 16 17 18 19]\n",
            " [20 21 22 23 24 25 26 27 28 29]]\n"
          ]
        }
      ]
    },
    {
      "cell_type": "code",
      "source": [],
      "metadata": {
        "id": "6wUaNmhduWkE"
      },
      "execution_count": 24,
      "outputs": []
    },
    {
      "cell_type": "markdown",
      "source": [
        "**Random Number genration**"
      ],
      "metadata": {
        "id": "NaLL0jmpuqFe"
      }
    },
    {
      "cell_type": "code",
      "source": [
        "import numpy as np\n",
        "\n"
      ],
      "metadata": {
        "id": "g6u5uHkZuxaa"
      },
      "execution_count": 25,
      "outputs": []
    },
    {
      "cell_type": "code",
      "source": [
        "np.random.seed(5) # Each seed number will generate similar data\n",
        "\n",
        "a = np.random.rand(10,6)  # rand (Uniform distribution number) which is random, 10 is rows and 6 columns\n",
        "print(a)\n",
        "\n",
        "import seaborn as sns\n",
        "import matplotlib.pyplot as plt\n",
        "\n",
        "# Assuming you have some data stored in a variable called 'data'\n",
        "sns.barplot(a)\n",
        "plt.show()\n"
      ],
      "metadata": {
        "colab": {
          "base_uri": "https://localhost:8080/",
          "height": 605
        },
        "id": "HEO-v58Au5S7",
        "outputId": "37b2bf0a-f63d-4c55-b268-088090491180"
      },
      "execution_count": 26,
      "outputs": [
        {
          "output_type": "stream",
          "name": "stdout",
          "text": [
            "[[0.22199317 0.87073231 0.20671916 0.91861091 0.48841119 0.61174386]\n",
            " [0.76590786 0.51841799 0.2968005  0.18772123 0.08074127 0.7384403 ]\n",
            " [0.44130922 0.15830987 0.87993703 0.27408646 0.41423502 0.29607993]\n",
            " [0.62878791 0.57983781 0.5999292  0.26581912 0.28468588 0.25358821]\n",
            " [0.32756395 0.1441643  0.16561286 0.96393053 0.96022672 0.18841466]\n",
            " [0.02430656 0.20455555 0.69984361 0.77951459 0.02293309 0.57766286]\n",
            " [0.00164217 0.51547261 0.63979518 0.9856244  0.2590976  0.80249689]\n",
            " [0.87048309 0.92274961 0.00221421 0.46948837 0.98146874 0.3989448 ]\n",
            " [0.81373248 0.5464565  0.77085409 0.48493107 0.02911156 0.08652569]\n",
            " [0.11145381 0.25124511 0.96491529 0.63176605 0.8166602  0.566082  ]]\n"
          ]
        },
        {
          "output_type": "display_data",
          "data": {
            "text/plain": [
              "<Figure size 640x480 with 1 Axes>"
            ],
            "image/png": "[encoded data removed]"
          },
          "metadata": {}
        }
      ]
    },
    {
      "cell_type": "code",
      "source": [
        "b = np.random.randn(10,3)  # randn genrate normal distribution data\n",
        "print(b)\n",
        "\n",
        "import seaborn as sns\n",
        "import matplotlib.pyplot as plt\n",
        "\n",
        "# Assuming you have some data stored in a variable called 'data'\n",
        "sns.distplot(b)\n",
        "plt.show()\n"
      ],
      "metadata": {
        "colab": {
          "base_uri": "https://localhost:8080/",
          "height": 794
        },
        "id": "z_Bmh_wkviaq",
        "outputId": "5a386f05-3714-4d0b-f91d-8f391741d5ab"
      },
      "execution_count": 27,
      "outputs": [
        {
          "output_type": "stream",
          "name": "stdout",
          "text": [
            "[[ 1.13934298  0.4944404  -0.33633626]\n",
            " [-0.10061435  1.41339802  0.22125412]\n",
            " [-1.31077313 -0.68956523 -0.57751323]\n",
            " [ 1.15220477 -0.10716398  2.26010677]\n",
            " [ 0.65661947  0.12480683 -0.43570392]\n",
            " [ 0.97217931 -0.24071114 -0.82412345]\n",
            " [ 0.56813272  0.01275832  1.18906073]\n",
            " [-0.07359332 -2.85968797  0.7893664 ]\n",
            " [-1.87774088  1.53875615  1.82136474]\n",
            " [-0.42703139 -1.16470191 -1.39707402]]\n"
          ]
        },
        {
          "output_type": "stream",
          "name": "stderr",
          "text": [
            "<ipython-input-27-90d4b1b4a81a>:8: UserWarning: \n",
            "\n",
            "`distplot` is a deprecated function and will be removed in seaborn v0.14.0.\n",
            "\n",
            "Please adapt your code to use either `displot` (a figure-level function with\n",
            "similar flexibility) or `histplot` (an axes-level function for histograms).\n",
            "\n",
            "For a guide to updating your code to use the new functions, please see\n",
            "https://gist.github.com/mwaskom/de44147ed2974457ad6372750bbe5751\n",
            "\n",
            "  sns.distplot(b)\n"
          ]
        },
        {
          "output_type": "display_data",
          "data": {
            "text/plain": [
              "<Figure size 640x480 with 1 Axes>"
            ],
            "image/png": "[encoded data removed]"
          },
          "metadata": {}
        }
      ]
    },
    {
      "cell_type": "code",
      "source": [
        "c = np.random.randint(5,20,10) # every thing bet 5 to 20 may be repeated 10 samples\n",
        "c"
      ],
      "metadata": {
        "colab": {
          "base_uri": "https://localhost:8080/"
        },
        "id": "6KQ5KKwBwJlj",
        "outputId": "7723defb-40a8-47de-d060-ad2f8cf50a47"
      },
      "execution_count": 28,
      "outputs": [
        {
          "output_type": "execute_result",
          "data": {
            "text/plain": [
              "array([18, 12,  6, 12,  7, 11,  8, 11, 13,  5])"
            ]
          },
          "metadata": {},
          "execution_count": 28
        }
      ]
    },
    {
      "cell_type": "code",
      "source": [
        "d = np.random.randint(1,30,(6,7))\n",
        "d"
      ],
      "metadata": {
        "colab": {
          "base_uri": "https://localhost:8080/"
        },
        "id": "8LDHa2u4x-88",
        "outputId": "e1aacf69-035a-4dac-b666-6faa74a23c27"
      },
      "execution_count": 29,
      "outputs": [
        {
          "output_type": "execute_result",
          "data": {
            "text/plain": [
              "array([[14, 10,  2, 10,  1,  9, 24],\n",
              "       [ 8, 26,  5, 16, 18, 28,  5],\n",
              "       [19,  2, 24,  6, 29,  5, 19],\n",
              "       [ 3, 14,  2, 19,  4,  2, 19],\n",
              "       [21, 10,  1, 18,  3, 15, 20],\n",
              "       [ 9, 11,  6, 27, 16, 22, 21]])"
            ]
          },
          "metadata": {},
          "execution_count": 29
        }
      ]
    },
    {
      "cell_type": "code",
      "source": [],
      "metadata": {
        "id": "ahekzReWzUOE"
      },
      "execution_count": 29,
      "outputs": []
    },
    {
      "cell_type": "markdown",
      "source": [
        "**Numpy condition **"
      ],
      "metadata": {
        "id": "gxmukV7xEWsE"
      }
    },
    {
      "cell_type": "code",
      "source": [
        "a=np.random.randint(1,40, 10)\n",
        "a"
      ],
      "metadata": {
        "colab": {
          "base_uri": "https://localhost:8080/"
        },
        "id": "DjoU4KtiEbfB",
        "outputId": "9733969b-f29d-4b16-a6f7-646d368713db"
      },
      "execution_count": 30,
      "outputs": [
        {
          "output_type": "execute_result",
          "data": {
            "text/plain": [
              "array([20, 27, 22, 26, 38, 18, 31,  1, 29,  9])"
            ]
          },
          "metadata": {},
          "execution_count": 30
        }
      ]
    },
    {
      "cell_type": "code",
      "source": [
        "# Replace data with fixed numbers\n",
        "b=np.clip(a, a_min=5, a_max=25)\n",
        "b"
      ],
      "metadata": {
        "colab": {
          "base_uri": "https://localhost:8080/"
        },
        "id": "7OexKfBfEjUG",
        "outputId": "d3ee2bd2-5971-4a5f-ba86-34a382c54fab"
      },
      "execution_count": 33,
      "outputs": [
        {
          "output_type": "execute_result",
          "data": {
            "text/plain": [
              "array([20, 25, 22, 25, 25, 18, 25,  5, 25,  9])"
            ]
          },
          "metadata": {},
          "execution_count": 33
        }
      ]
    },
    {
      "cell_type": "code",
      "source": [],
      "metadata": {
        "id": "AlY1KdIFGB3g"
      },
      "execution_count": null,
      "outputs": []
    },
    {
      "cell_type": "code",
      "source": [
        "# It gives index details\n",
        "print(b)\n",
        "print(np.where(b < 10))\n",
        "print(np.where(b >10 ))"
      ],
      "metadata": {
        "colab": {
          "base_uri": "https://localhost:8080/"
        },
        "id": "FMOvGBPGFWPx",
        "outputId": "789edfc5-b040-41b9-c531-7c81eac0d9d9"
      },
      "execution_count": 38,
      "outputs": [
        {
          "output_type": "stream",
          "name": "stdout",
          "text": [
            "[20 25 22 25 25 18 25  5 25  9]\n",
            "(array([7, 9]),)\n",
            "(array([0, 1, 2, 3, 4, 5, 6, 8]),)\n"
          ]
        }
      ]
    },
    {
      "cell_type": "code",
      "source": [
        "print(np.where(a==38))"
      ],
      "metadata": {
        "colab": {
          "base_uri": "https://localhost:8080/"
        },
        "id": "yiDhPxhUGa7R",
        "outputId": "0cdd87df-4b99-4d87-8d5d-92a28925d581"
      },
      "execution_count": 42,
      "outputs": [
        {
          "output_type": "stream",
          "name": "stdout",
          "text": [
            "(array([4]),)\n"
          ]
        }
      ]
    },
    {
      "cell_type": "code",
      "source": [],
      "metadata": {
        "id": "9t-uhkURG5fU"
      },
      "execution_count": null,
      "outputs": []
    },
    {
      "cell_type": "markdown",
      "source": [
        "Reshaping Other ways"
      ],
      "metadata": {
        "id": "UGTsi4lDHRq5"
      }
    },
    {
      "cell_type": "code",
      "source": [
        "import numpy as np\n",
        "from numpy.random import randint as ri\n",
        "a = ri(1,99,30)\n",
        "a"
      ],
      "metadata": {
        "colab": {
          "base_uri": "https://localhost:8080/"
        },
        "id": "ws_vsd5jHWaD",
        "outputId": "0904b435-1e8a-465d-faa3-0057608df3c8"
      },
      "execution_count": 43,
      "outputs": [
        {
          "output_type": "execute_result",
          "data": {
            "text/plain": [
              "array([15, 65, 32, 46,  6, 27, 42, 84, 29, 76, 36, 84, 56,  4, 24,  4, 96,\n",
              "        3, 55, 94, 39, 19, 72, 65, 36, 38,  2, 31, 92, 32])"
            ]
          },
          "metadata": {},
          "execution_count": 43
        }
      ]
    },
    {
      "cell_type": "code",
      "source": [
        "b = a.reshape(2,3,5)  # 2 matrix each should have 3 row & 5 columns\n",
        "b"
      ],
      "metadata": {
        "colab": {
          "base_uri": "https://localhost:8080/"
        },
        "id": "0CbWORrMHn_D",
        "outputId": "5ca17174-ce61-433e-dc64-00ea5ad62726"
      },
      "execution_count": 44,
      "outputs": [
        {
          "output_type": "execute_result",
          "data": {
            "text/plain": [
              "array([[[15, 65, 32, 46,  6],\n",
              "        [27, 42, 84, 29, 76],\n",
              "        [36, 84, 56,  4, 24]],\n",
              "\n",
              "       [[ 4, 96,  3, 55, 94],\n",
              "        [39, 19, 72, 65, 36],\n",
              "        [38,  2, 31, 92, 32]]])"
            ]
          },
          "metadata": {},
          "execution_count": 44
        }
      ]
    },
    {
      "cell_type": "code",
      "source": [
        "c = a.reshape(6,5)  # 30 element fit into matrix\n",
        "c"
      ],
      "metadata": {
        "colab": {
          "base_uri": "https://localhost:8080/"
        },
        "id": "WtHNjx-HHwpP",
        "outputId": "49105075-5a2c-455b-fc1b-9bb694df1f19"
      },
      "execution_count": 45,
      "outputs": [
        {
          "output_type": "execute_result",
          "data": {
            "text/plain": [
              "array([[15, 65, 32, 46,  6],\n",
              "       [27, 42, 84, 29, 76],\n",
              "       [36, 84, 56,  4, 24],\n",
              "       [ 4, 96,  3, 55, 94],\n",
              "       [39, 19, 72, 65, 36],\n",
              "       [38,  2, 31, 92, 32]])"
            ]
          },
          "metadata": {},
          "execution_count": 45
        }
      ]
    },
    {
      "cell_type": "code",
      "source": [
        "print(c.min())\n",
        "print(c.max())"
      ],
      "metadata": {
        "colab": {
          "base_uri": "https://localhost:8080/"
        },
        "id": "z8nC6qxvIJYx",
        "outputId": "3fc205d3-01f4-471c-858b-62edcdff0023"
      },
      "execution_count": 46,
      "outputs": [
        {
          "output_type": "stream",
          "name": "stdout",
          "text": [
            "2\n",
            "96\n"
          ]
        }
      ]
    },
    {
      "cell_type": "code",
      "source": [
        "# Sort\n",
        "\n",
        "M = ri(1,100,25).reshape(5,5)\n",
        "print(M)\n",
        "print(\"----------------\")\n",
        "print(np.sort(M))     # sorted with row wise\n",
        "print(\"----------------\")\n",
        "print(np.sort(M,axis=0)) # sorted with colunm wise"
      ],
      "metadata": {
        "colab": {
          "base_uri": "https://localhost:8080/"
        },
        "id": "4Qf4VLYoIZUT",
        "outputId": "388d3684-eb6f-4495-dfe4-6ea993c5ccaf"
      },
      "execution_count": 49,
      "outputs": [
        {
          "output_type": "stream",
          "name": "stdout",
          "text": [
            "[[84 52 86 17 97]\n",
            " [27 95 31 94 79]\n",
            " [15 99  9 58 82]\n",
            " [41 60 59 11  7]\n",
            " [59 74 55 94 34]]\n",
            "----------------\n",
            "[[17 52 84 86 97]\n",
            " [27 31 79 94 95]\n",
            " [ 9 15 58 82 99]\n",
            " [ 7 11 41 59 60]\n",
            " [34 55 59 74 94]]\n",
            "----------------\n",
            "[[15 52  9 11  7]\n",
            " [27 60 31 17 34]\n",
            " [41 74 55 58 79]\n",
            " [59 95 59 94 82]\n",
            " [84 99 86 94 97]]\n"
          ]
        }
      ]
    },
    {
      "cell_type": "code",
      "source": [],
      "metadata": {
        "id": "tYPwnf0_JExe"
      },
      "execution_count": null,
      "outputs": []
    },
    {
      "cell_type": "markdown",
      "source": [
        "**Indexing & Slicing**"
      ],
      "metadata": {
        "id": "2VQVI1DDJxyU"
      }
    },
    {
      "cell_type": "code",
      "source": [
        "arr = np.arange(13,30)\n",
        "print(arr)"
      ],
      "metadata": {
        "colab": {
          "base_uri": "https://localhost:8080/"
        },
        "id": "mwD2O3itJ2T9",
        "outputId": "8bcbdeec-245d-4860-ed05-9665a6c6b2ba"
      },
      "execution_count": 50,
      "outputs": [
        {
          "output_type": "stream",
          "name": "stdout",
          "text": [
            "[13 14 15 16 17 18 19 20 21 22 23 24 25 26 27 28 29]\n"
          ]
        }
      ]
    },
    {
      "cell_type": "code",
      "source": [
        "arr[7]"
      ],
      "metadata": {
        "colab": {
          "base_uri": "https://localhost:8080/"
        },
        "id": "cTJpuXYYJ9tw",
        "outputId": "e457dd4b-dc7b-4835-cda6-7b8078feed92"
      },
      "execution_count": 51,
      "outputs": [
        {
          "output_type": "execute_result",
          "data": {
            "text/plain": [
              "20"
            ]
          },
          "metadata": {},
          "execution_count": 51
        }
      ]
    },
    {
      "cell_type": "code",
      "source": [
        "arr[3:6]"
      ],
      "metadata": {
        "colab": {
          "base_uri": "https://localhost:8080/"
        },
        "id": "80jnOm5XKDml",
        "outputId": "dab1dbb8-fee0-4747-a8b5-a04b145df7c0"
      },
      "execution_count": 52,
      "outputs": [
        {
          "output_type": "execute_result",
          "data": {
            "text/plain": [
              "array([16, 17, 18])"
            ]
          },
          "metadata": {},
          "execution_count": 52
        }
      ]
    },
    {
      "cell_type": "code",
      "source": [
        "arr[4:]"
      ],
      "metadata": {
        "colab": {
          "base_uri": "https://localhost:8080/"
        },
        "id": "b7M028C2KHt4",
        "outputId": "4236a5c8-4f53-425b-bc4a-6eb2f46e94eb"
      },
      "execution_count": 53,
      "outputs": [
        {
          "output_type": "execute_result",
          "data": {
            "text/plain": [
              "array([17, 18, 19, 20, 21, 22, 23, 24, 25, 26, 27, 28, 29])"
            ]
          },
          "metadata": {},
          "execution_count": 53
        }
      ]
    },
    {
      "cell_type": "code",
      "source": [
        "print(arr)\n",
        "arr[-1: :-2] # -1 start point endpoint empty means every things -2 is step size"
      ],
      "metadata": {
        "colab": {
          "base_uri": "https://localhost:8080/"
        },
        "id": "F8yLDwMTKObb",
        "outputId": "346378c5-dc0d-4bd5-c2e8-30fa1603e08b"
      },
      "execution_count": 55,
      "outputs": [
        {
          "output_type": "stream",
          "name": "stdout",
          "text": [
            "[13 14 15 16 17 18 19 20 21 22 23 24 25 26 27 28 29]\n"
          ]
        },
        {
          "output_type": "execute_result",
          "data": {
            "text/plain": [
              "array([29, 27, 25, 23, 21, 19, 17, 15, 13])"
            ]
          },
          "metadata": {},
          "execution_count": 55
        }
      ]
    },
    {
      "cell_type": "code",
      "source": [
        "print(arr)\n",
        "arr[-1:-8:-1]"
      ],
      "metadata": {
        "colab": {
          "base_uri": "https://localhost:8080/"
        },
        "id": "KxfzJiBCKZRK",
        "outputId": "036eccb1-61e1-4ef2-a6aa-52ff774237c1"
      },
      "execution_count": 56,
      "outputs": [
        {
          "output_type": "stream",
          "name": "stdout",
          "text": [
            "[13 14 15 16 17 18 19 20 21 22 23 24 25 26 27 28 29]\n"
          ]
        },
        {
          "output_type": "execute_result",
          "data": {
            "text/plain": [
              "array([29, 28, 27, 26, 25, 24, 23])"
            ]
          },
          "metadata": {},
          "execution_count": 56
        }
      ]
    },
    {
      "cell_type": "code",
      "source": [
        "arr = np.arange(0,21,2)\n",
        "print(arr)"
      ],
      "metadata": {
        "colab": {
          "base_uri": "https://localhost:8080/"
        },
        "id": "tNPUJJzLK6Ea",
        "outputId": "b148e5bb-74e0-4513-f535-61f61d5a65b7"
      },
      "execution_count": 57,
      "outputs": [
        {
          "output_type": "stream",
          "name": "stdout",
          "text": [
            "[ 0  2  4  6  8 10 12 14 16 18 20]\n"
          ]
        }
      ]
    },
    {
      "cell_type": "code",
      "source": [
        "arr[[2,4,9]] # range given to slicing\n"
      ],
      "metadata": {
        "colab": {
          "base_uri": "https://localhost:8080/"
        },
        "id": "D2oMojSjLMzK",
        "outputId": "790ee603-340e-48a8-8b23-3e5a9d32a520"
      },
      "execution_count": 58,
      "outputs": [
        {
          "output_type": "execute_result",
          "data": {
            "text/plain": [
              "array([ 4,  8, 18])"
            ]
          },
          "metadata": {},
          "execution_count": 58
        }
      ]
    },
    {
      "cell_type": "code",
      "source": [
        "my_mat = [[1,2,3],[4,5,6],[7,8,9]]\n",
        "mat = np.array(my_mat)\n",
        "mat"
      ],
      "metadata": {
        "colab": {
          "base_uri": "https://localhost:8080/"
        },
        "id": "rmkcu9B_LXc0",
        "outputId": "7a6a2ed5-eeea-4351-ad42-b9e4d32ed657"
      },
      "execution_count": 59,
      "outputs": [
        {
          "output_type": "execute_result",
          "data": {
            "text/plain": [
              "array([[1, 2, 3],\n",
              "       [4, 5, 6],\n",
              "       [7, 8, 9]])"
            ]
          },
          "metadata": {},
          "execution_count": 59
        }
      ]
    },
    {
      "cell_type": "code",
      "source": [
        "mat[1][2] # slicing from matrix [1] is rows index and [2]column index\n"
      ],
      "metadata": {
        "colab": {
          "base_uri": "https://localhost:8080/"
        },
        "id": "gcUCXG6ULwoJ",
        "outputId": "4fb5488e-82ef-4f3a-c305-05e15151875c"
      },
      "execution_count": 60,
      "outputs": [
        {
          "output_type": "execute_result",
          "data": {
            "text/plain": [
              "6"
            ]
          },
          "metadata": {},
          "execution_count": 60
        }
      ]
    },
    {
      "cell_type": "code",
      "source": [
        "mat"
      ],
      "metadata": {
        "colab": {
          "base_uri": "https://localhost:8080/"
        },
        "id": "E5HHmZj9L88g",
        "outputId": "5ceff70e-09fd-4784-fc94-f2e4c16fd7d4"
      },
      "execution_count": 61,
      "outputs": [
        {
          "output_type": "execute_result",
          "data": {
            "text/plain": [
              "array([[1, 2, 3],\n",
              "       [4, 5, 6],\n",
              "       [7, 8, 9]])"
            ]
          },
          "metadata": {},
          "execution_count": 61
        }
      ]
    },
    {
      "cell_type": "code",
      "source": [
        "mat[2]"
      ],
      "metadata": {
        "colab": {
          "base_uri": "https://localhost:8080/"
        },
        "id": "zufxnrACMr_g",
        "outputId": "44fc1947-10e8-4f90-e265-6d9e6d7661b5"
      },
      "execution_count": 62,
      "outputs": [
        {
          "output_type": "execute_result",
          "data": {
            "text/plain": [
              "array([7, 8, 9])"
            ]
          },
          "metadata": {},
          "execution_count": 62
        }
      ]
    },
    {
      "cell_type": "code",
      "source": [
        "mat[:,1:]"
      ],
      "metadata": {
        "colab": {
          "base_uri": "https://localhost:8080/"
        },
        "id": "8ALfnBcqMu6F",
        "outputId": "94d2cc2d-d453-4cfc-888e-cef99cebf0b9"
      },
      "execution_count": 63,
      "outputs": [
        {
          "output_type": "execute_result",
          "data": {
            "text/plain": [
              "array([[2, 3],\n",
              "       [5, 6],\n",
              "       [8, 9]])"
            ]
          },
          "metadata": {},
          "execution_count": 63
        }
      ]
    },
    {
      "cell_type": "code",
      "source": [
        "mat\n",
        "mat[1:2,1:2]"
      ],
      "metadata": {
        "colab": {
          "base_uri": "https://localhost:8080/"
        },
        "id": "9FJY8-YPM0Pp",
        "outputId": "8b5ff910-0f00-4e0d-aada-5d3cb300172a"
      },
      "execution_count": 65,
      "outputs": [
        {
          "output_type": "execute_result",
          "data": {
            "text/plain": [
              "array([[5]])"
            ]
          },
          "metadata": {},
          "execution_count": 65
        }
      ]
    },
    {
      "cell_type": "code",
      "source": [
        "mat"
      ],
      "metadata": {
        "colab": {
          "base_uri": "https://localhost:8080/"
        },
        "id": "J8zY3U7NM-cQ",
        "outputId": "7c108b6e-c228-44ce-c7ce-cc6cdb94db6c"
      },
      "execution_count": 66,
      "outputs": [
        {
          "output_type": "execute_result",
          "data": {
            "text/plain": [
              "array([[1, 2, 3],\n",
              "       [4, 5, 6],\n",
              "       [7, 8, 9]])"
            ]
          },
          "metadata": {},
          "execution_count": 66
        }
      ]
    },
    {
      "cell_type": "code",
      "source": [
        "mat[0:2,[1,2]]"
      ],
      "metadata": {
        "colab": {
          "base_uri": "https://localhost:8080/"
        },
        "id": "pYwwYiukNRkL",
        "outputId": "74c550d8-0781-42e3-92f8-60b2cfaa8c45"
      },
      "execution_count": 68,
      "outputs": [
        {
          "output_type": "execute_result",
          "data": {
            "text/plain": [
              "array([[2, 3],\n",
              "       [5, 6]])"
            ]
          },
          "metadata": {},
          "execution_count": 68
        }
      ]
    },
    {
      "cell_type": "code",
      "source": [
        "# update matrix\n",
        "mat[0,1]=35\n",
        "mat"
      ],
      "metadata": {
        "colab": {
          "base_uri": "https://localhost:8080/"
        },
        "id": "k3nCMDLkOChb",
        "outputId": "bfd30cad-0a9b-4537-bbfe-24a208993fdc"
      },
      "execution_count": 69,
      "outputs": [
        {
          "output_type": "execute_result",
          "data": {
            "text/plain": [
              "array([[ 1, 35,  3],\n",
              "       [ 4,  5,  6],\n",
              "       [ 7,  8,  9]])"
            ]
          },
          "metadata": {},
          "execution_count": 69
        }
      ]
    },
    {
      "cell_type": "code",
      "source": [
        "mat[1,2]=44\n",
        "mat"
      ],
      "metadata": {
        "colab": {
          "base_uri": "https://localhost:8080/"
        },
        "id": "mMTZne6iOQEV",
        "outputId": "96106505-d8ad-459d-a110-45c2bf253458"
      },
      "execution_count": 70,
      "outputs": [
        {
          "output_type": "execute_result",
          "data": {
            "text/plain": [
              "array([[ 1, 35,  3],\n",
              "       [ 4,  5, 44],\n",
              "       [ 7,  8,  9]])"
            ]
          },
          "metadata": {},
          "execution_count": 70
        }
      ]
    },
    {
      "cell_type": "code",
      "source": [
        "mat[0,2]=55\n",
        "mat"
      ],
      "metadata": {
        "colab": {
          "base_uri": "https://localhost:8080/"
        },
        "id": "g1TMDMVHPDAp",
        "outputId": "fa20eda1-97d1-4afc-b181-f1caee11a4d3"
      },
      "execution_count": 71,
      "outputs": [
        {
          "output_type": "execute_result",
          "data": {
            "text/plain": [
              "array([[ 1, 35, 55],\n",
              "       [ 4,  5, 44],\n",
              "       [ 7,  8,  9]])"
            ]
          },
          "metadata": {},
          "execution_count": 71
        }
      ]
    },
    {
      "cell_type": "code",
      "source": [
        "mat[2,0]=33\n",
        "mat"
      ],
      "metadata": {
        "colab": {
          "base_uri": "https://localhost:8080/"
        },
        "id": "ykqPViMWPQmN",
        "outputId": "21436654-ee67-4d14-9cc1-74dc5f83fcaf"
      },
      "execution_count": 72,
      "outputs": [
        {
          "output_type": "execute_result",
          "data": {
            "text/plain": [
              "array([[ 1, 35, 55],\n",
              "       [ 4,  5, 44],\n",
              "       [33,  8,  9]])"
            ]
          },
          "metadata": {},
          "execution_count": 72
        }
      ]
    },
    {
      "cell_type": "code",
      "source": [],
      "metadata": {
        "id": "cZdpIx7_PZ1_"
      },
      "execution_count": null,
      "outputs": []
    },
    {
      "cell_type": "markdown",
      "source": [
        "**Subsetting**"
      ],
      "metadata": {
        "id": "933_70hgPlt5"
      }
    },
    {
      "cell_type": "code",
      "source": [
        "mat =np.array(ri(10,100,15)).reshape(3,5)\n",
        "mat"
      ],
      "metadata": {
        "colab": {
          "base_uri": "https://localhost:8080/"
        },
        "id": "ykMLZ71gPpa7",
        "outputId": "12dd6a4c-9168-4708-e477-ee2ff1f47fe5"
      },
      "execution_count": 73,
      "outputs": [
        {
          "output_type": "execute_result",
          "data": {
            "text/plain": [
              "array([[34, 28, 30, 56, 99],\n",
              "       [15, 86, 55, 89, 34],\n",
              "       [48, 22, 11, 15, 27]])"
            ]
          },
          "metadata": {},
          "execution_count": 73
        }
      ]
    },
    {
      "cell_type": "code",
      "source": [
        "xyx = mat[mat>70]\n",
        "xyx"
      ],
      "metadata": {
        "colab": {
          "base_uri": "https://localhost:8080/"
        },
        "id": "5f1LIveOP1KQ",
        "outputId": "670c1782-7b85-4b9e-a661-a5d7b05157a3"
      },
      "execution_count": 74,
      "outputs": [
        {
          "output_type": "execute_result",
          "data": {
            "text/plain": [
              "array([99, 86, 89])"
            ]
          },
          "metadata": {},
          "execution_count": 74
        }
      ]
    },
    {
      "cell_type": "code",
      "source": [
        "print(mat[mat>50])\n"
      ],
      "metadata": {
        "colab": {
          "base_uri": "https://localhost:8080/"
        },
        "id": "nBLkbwBpQB2f",
        "outputId": "8764c622-708d-45be-bc86-ba96ead6ae1c"
      },
      "execution_count": 75,
      "outputs": [
        {
          "output_type": "stream",
          "name": "stdout",
          "text": [
            "[56 99 86 55 89]\n"
          ]
        }
      ]
    },
    {
      "cell_type": "code",
      "source": [
        "print(mat[mat<50])"
      ],
      "metadata": {
        "colab": {
          "base_uri": "https://localhost:8080/"
        },
        "id": "x5Ve3B93QNhP",
        "outputId": "816cd3c2-3245-43bf-e0ab-2f15f4830dac"
      },
      "execution_count": 76,
      "outputs": [
        {
          "output_type": "stream",
          "name": "stdout",
          "text": [
            "[34 28 30 15 34 48 22 11 15 27]\n"
          ]
        }
      ]
    },
    {
      "cell_type": "code",
      "source": [
        "print(np.where(mat==55)) # it give you index positions\n"
      ],
      "metadata": {
        "colab": {
          "base_uri": "https://localhost:8080/"
        },
        "id": "pm8L8315QYiF",
        "outputId": "fedecadb-83b8-4647-d5f4-c62968f6e558"
      },
      "execution_count": 84,
      "outputs": [
        {
          "output_type": "stream",
          "name": "stdout",
          "text": [
            "(array([1]), array([2]))\n"
          ]
        }
      ]
    },
    {
      "cell_type": "code",
      "source": [
        "mat<50 # it will give True or False"
      ],
      "metadata": {
        "colab": {
          "base_uri": "https://localhost:8080/"
        },
        "id": "OHZIy3G6Qmdw",
        "outputId": "fb543827-4655-4885-b4b9-238fda114c0d"
      },
      "execution_count": 81,
      "outputs": [
        {
          "output_type": "execute_result",
          "data": {
            "text/plain": [
              "array([[ True,  True,  True, False, False],\n",
              "       [ True, False, False, False,  True],\n",
              "       [ True,  True,  True,  True,  True]])"
            ]
          },
          "metadata": {},
          "execution_count": 81
        }
      ]
    },
    {
      "cell_type": "code",
      "source": [
        "mat>70"
      ],
      "metadata": {
        "colab": {
          "base_uri": "https://localhost:8080/"
        },
        "id": "zffTCcoZQ4TB",
        "outputId": "1cfa640b-cef9-4919-eb04-afa6f55537dc"
      },
      "execution_count": 82,
      "outputs": [
        {
          "output_type": "execute_result",
          "data": {
            "text/plain": [
              "array([[False, False, False, False,  True],\n",
              "       [False,  True, False,  True, False],\n",
              "       [False, False, False, False, False]])"
            ]
          },
          "metadata": {},
          "execution_count": 82
        }
      ]
    },
    {
      "cell_type": "code",
      "source": [],
      "metadata": {
        "id": "hOZCZY4hQ7Wc"
      },
      "execution_count": null,
      "outputs": []
    },
    {
      "cell_type": "markdown",
      "source": [
        "**Universal functions **"
      ],
      "metadata": {
        "id": "xhN3ZH_3RajY"
      }
    },
    {
      "cell_type": "code",
      "source": [
        "mat1 = np.array(ri(1,10,9)).reshape(3,3)\n",
        "mat2 = np.array(ri(1,10,9)).reshape(3,3)\n",
        "\n",
        "print(mat1)\n",
        "print(\"------------\")\n",
        "print(mat2)"
      ],
      "metadata": {
        "colab": {
          "base_uri": "https://localhost:8080/"
        },
        "id": "jU_ekOF5RelW",
        "outputId": "47943c88-7a48-4fce-ebef-0bed731cac2e"
      },
      "execution_count": 87,
      "outputs": [
        {
          "output_type": "stream",
          "name": "stdout",
          "text": [
            "[[7 1 3]\n",
            " [6 8 6]\n",
            " [6 3 5]]\n",
            "------------\n",
            "[[5 4 1]\n",
            " [9 2 1]\n",
            " [5 6 4]]\n"
          ]
        }
      ]
    },
    {
      "cell_type": "code",
      "source": [
        "# Addition\n",
        "a = mat1+mat2\n",
        "print(a)\n",
        "print(\"---------------\")\n",
        "# subtraction\n",
        "b=mat1-mat2\n",
        "print(b)\n",
        "print(\"--------------\")\n",
        "# Multiplication\n",
        "c=mat1*mat2\n",
        "print(c)\n",
        "print(\"--------------\")\n",
        "#Dividation\n",
        "d=mat1/mat2\n",
        "print(d)\n",
        "print(\"--------------\")\n",
        "e=(3*mat1-2*mat2)\n",
        "print(e)\n"
      ],
      "metadata": {
        "colab": {
          "base_uri": "https://localhost:8080/"
        },
        "id": "YP19AfeMSAZZ",
        "outputId": "07a0f9b7-035c-4ec1-bae3-8321c54ab86a"
      },
      "execution_count": 89,
      "outputs": [
        {
          "output_type": "stream",
          "name": "stdout",
          "text": [
            "[[12  5  4]\n",
            " [15 10  7]\n",
            " [11  9  9]]\n",
            "---------------\n",
            "[[ 2 -3  2]\n",
            " [-3  6  5]\n",
            " [ 1 -3  1]]\n",
            "--------------\n",
            "[[35  4  3]\n",
            " [54 16  6]\n",
            " [30 18 20]]\n",
            "--------------\n",
            "[[1.4        0.25       3.        ]\n",
            " [0.66666667 4.         6.        ]\n",
            " [1.2        0.5        1.25      ]]\n",
            "--------------\n",
            "[[11 -5  7]\n",
            " [ 0 20 16]\n",
            " [ 8 -3  7]]\n"
          ]
        }
      ]
    },
    {
      "cell_type": "code",
      "source": [],
      "metadata": {
        "id": "LK1Eqsq7TgC2"
      },
      "execution_count": null,
      "outputs": []
    },
    {
      "cell_type": "markdown",
      "source": [
        "**Broadcasting**"
      ],
      "metadata": {
        "id": "0A9yI0quU5MW"
      }
    },
    {
      "cell_type": "code",
      "source": [
        "start = np.zeros((3,3))\n",
        "print(start)\n"
      ],
      "metadata": {
        "colab": {
          "base_uri": "https://localhost:8080/"
        },
        "id": "pCzWIEyWU_TK",
        "outputId": "2826f7c0-40eb-4ae7-ba0d-d34fb0c2aa50"
      },
      "execution_count": 90,
      "outputs": [
        {
          "output_type": "stream",
          "name": "stdout",
          "text": [
            "[[0. 0. 0.]\n",
            " [0. 0. 0.]\n",
            " [0. 0. 0.]]\n"
          ]
        }
      ]
    },
    {
      "cell_type": "code",
      "source": [
        "add_rows = np.array([[1,0,2]])\n",
        "print(add_rows)\n"
      ],
      "metadata": {
        "colab": {
          "base_uri": "https://localhost:8080/"
        },
        "id": "ypNUScJEVJS9",
        "outputId": "ae940cea-6a79-4f5a-c205-da200978c195"
      },
      "execution_count": 91,
      "outputs": [
        {
          "output_type": "stream",
          "name": "stdout",
          "text": [
            "[[1 0 2]]\n"
          ]
        }
      ]
    },
    {
      "cell_type": "code",
      "source": [
        "y = start + add_rows\n",
        "print(y)"
      ],
      "metadata": {
        "colab": {
          "base_uri": "https://localhost:8080/"
        },
        "id": "3AmfSPXHVXja",
        "outputId": "7a87cf03-835c-4c89-d946-b0982a6e9c34"
      },
      "execution_count": 92,
      "outputs": [
        {
          "output_type": "stream",
          "name": "stdout",
          "text": [
            "[[1. 0. 2.]\n",
            " [1. 0. 2.]\n",
            " [1. 0. 2.]]\n"
          ]
        }
      ]
    },
    {
      "cell_type": "code",
      "source": [
        "new_row = add_rows.T # covert ur data horizontal to verticle\n",
        "new_row"
      ],
      "metadata": {
        "colab": {
          "base_uri": "https://localhost:8080/"
        },
        "id": "7vIZZ3ThVgSW",
        "outputId": "bb682814-9965-474a-b69e-00bd83610659"
      },
      "execution_count": 93,
      "outputs": [
        {
          "output_type": "execute_result",
          "data": {
            "text/plain": [
              "array([[1],\n",
              "       [0],\n",
              "       [2]])"
            ]
          },
          "metadata": {},
          "execution_count": 93
        }
      ]
    },
    {
      "cell_type": "code",
      "source": [
        "test = new_row + start\n",
        "print(test)"
      ],
      "metadata": {
        "colab": {
          "base_uri": "https://localhost:8080/"
        },
        "id": "kEuXFR9rVu_o",
        "outputId": "8c2f1c4c-2629-4b77-de84-dfb56e4cdda7"
      },
      "execution_count": 94,
      "outputs": [
        {
          "output_type": "stream",
          "name": "stdout",
          "text": [
            "[[1. 1. 1.]\n",
            " [0. 0. 0.]\n",
            " [2. 2. 2.]]\n"
          ]
        }
      ]
    },
    {
      "cell_type": "code",
      "source": [
        "mat1 = np.array(ri(1,10,9)).reshape(3,3)\n",
        "mat1"
      ],
      "metadata": {
        "colab": {
          "base_uri": "https://localhost:8080/"
        },
        "id": "4k65Im4OWYUG",
        "outputId": "69fa7def-e5b0-4910-f810-1c16a871607e"
      },
      "execution_count": 96,
      "outputs": [
        {
          "output_type": "execute_result",
          "data": {
            "text/plain": [
              "array([[4, 4, 8],\n",
              "       [4, 2, 6],\n",
              "       [9, 3, 3]])"
            ]
          },
          "metadata": {},
          "execution_count": 96
        }
      ]
    },
    {
      "cell_type": "code",
      "source": [
        "np.sqrt(mat1)"
      ],
      "metadata": {
        "colab": {
          "base_uri": "https://localhost:8080/"
        },
        "id": "q20tpmzVWYbV",
        "outputId": "e6f5864e-bfe9-4715-d9ae-80a14a91717f"
      },
      "execution_count": 97,
      "outputs": [
        {
          "output_type": "execute_result",
          "data": {
            "text/plain": [
              "array([[2.        , 2.        , 2.82842712],\n",
              "       [2.        , 1.41421356, 2.44948974],\n",
              "       [3.        , 1.73205081, 1.73205081]])"
            ]
          },
          "metadata": {},
          "execution_count": 97
        }
      ]
    },
    {
      "cell_type": "code",
      "source": [
        "np.square(mat1)"
      ],
      "metadata": {
        "colab": {
          "base_uri": "https://localhost:8080/"
        },
        "id": "5gsk4T-TW0Tw",
        "outputId": "d6044147-8e9e-441f-de3c-ed674112d8d2"
      },
      "execution_count": 98,
      "outputs": [
        {
          "output_type": "execute_result",
          "data": {
            "text/plain": [
              "array([[16, 16, 64],\n",
              "       [16,  4, 36],\n",
              "       [81,  9,  9]])"
            ]
          },
          "metadata": {},
          "execution_count": 98
        }
      ]
    },
    {
      "cell_type": "code",
      "source": [],
      "metadata": {
        "id": "uAYrkLebW-0P"
      },
      "execution_count": null,
      "outputs": []
    }
  ]
}