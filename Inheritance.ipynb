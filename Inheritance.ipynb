{
  "nbformat": 4,
  "nbformat_minor": 0,
  "metadata": {
    "colab": {
      "provenance": [],
      "authorship_tag": "ABX9TyM2Hr6Z9wJVYBo6JVCOSDmQ",
      "include_colab_link": true
    },
    "kernelspec": {
      "name": "python3",
      "display_name": "Python 3"
    },
    "language_info": {
      "name": "python"
    }
  },
  "cells": [
    {
      "cell_type": "markdown",
      "metadata": {
        "id": "view-in-github",
        "colab_type": "text"
      },
      "source": [
        "<a href=\"https://colab.research.google.com/github/TVsony/Data/blob/main/Inheritance.ipynb\" target=\"_parent\"><img src=\"https://colab.research.google.com/assets/colab-badge.svg\" alt=\"Open In Colab\"/></a>"
      ]
    },
    {
      "cell_type": "markdown",
      "source": [
        "**Create class of person and inheritance by Student and teacher **"
      ],
      "metadata": {
        "id": "XSa9VslQN5M2"
      }
    },
    {
      "cell_type": "code",
      "execution_count": null,
      "metadata": {
        "colab": {
          "base_uri": "https://localhost:8080/"
        },
        "id": "lQMgwN8Ogw9f",
        "outputId": "6a051fa1-3471-4989-df95-9ea1842b2bc7"
      },
      "outputs": [
        {
          "output_type": "stream",
          "name": "stdout",
          "text": [
            "Name is : Bhimrao\n",
            "Grade is : A\n",
            "------------------\n",
            "Name is : Krish\n",
            "student is :NLP\n"
          ]
        }
      ],
      "source": [
        "# Create a class of Person\n",
        "class Person:\n",
        "  # constructor method person\n",
        "  def __init__(self,Name):\n",
        "    self.name = Name\n",
        "\n",
        "  # Display function\n",
        "  def display_info(self):\n",
        "        print(f\"Name is : {self.name}\")\n",
        "\n",
        "# Create a class of Student\n",
        "class Student(Person):\n",
        "  # Constructor method for student\n",
        "  def __init__(self,Name,grade):\n",
        "    super().__init__(Name)\n",
        "    self.grade = grade\n",
        "\n",
        "# Display function\n",
        "  def display_info(self):\n",
        "    super().display_info()\n",
        "    print(f\"Grade is : {self.grade}\")\n",
        "\n",
        "# object instance for student\n",
        "Student1 = Student(\"Bhimrao\", \"A\")\n",
        "Student1.display_info()\n",
        "print(\"------------------\")\n",
        "# Create a class of teacher\n",
        "class teacher(Person):\n",
        "  # Constructor method for teacher\n",
        "  def __init__(self,Name,subject):\n",
        "    super().__init__(Name)\n",
        "    self.subject = subject\n",
        "\n",
        "# Display function\n",
        "  def display_info(self):\n",
        "    super().display_info()\n",
        "    print(f\"student is :{self.subject}\")\n",
        "\n",
        "\n",
        "# object instance for student\n",
        "teacher = teacher(\"Krish\", \"NLP\")\n",
        "teacher.display_info()\n",
        "\n",
        "\n"
      ]
    },
    {
      "cell_type": "code",
      "source": [],
      "metadata": {
        "id": "kMrmaowokG0c"
      },
      "execution_count": null,
      "outputs": []
    },
    {
      "cell_type": "markdown",
      "source": [],
      "metadata": {
        "id": "IVwlAUo4N3nA"
      }
    },
    {
      "cell_type": "code",
      "source": [
        "# Create class of Vehicle\n",
        "class Vehicle:\n",
        "\n",
        "  # constructor for vehicle\n",
        "    def __init__(self, model):\n",
        "        self.model = model\n",
        "\n",
        "# start function for vehicle\n",
        "    def start(self):\n",
        "        print(\"Start the {}.\".format(self.model))\n",
        "\n",
        "\n",
        "# Display function\n",
        "    def display_info(self):\n",
        "        print(f\"Model is: {self.model}\")\n",
        "\n",
        "# create class bicycle for inheritance\n",
        "class Bicycle(Vehicle):\n",
        "# constructor for bicycle\n",
        "    def __init__(self, model, brand):\n",
        "        super().__init__(model)        # super function taking information from of model from parent Vehicle class\n",
        "        self.brand = brand\n",
        "\n",
        "# Display function\n",
        "    def display_info(self):\n",
        "        super().display_info()          # super().display method inharite the Vehicle info\n",
        "        print(f\"Bicycle is {self.model} and {self.brand}\")\n",
        "\n",
        "# Instance/object creation\n",
        "bicycle = Bicycle(\"Gear\", \"Hero\")\n",
        "bicycle.display_info()\n"
      ],
      "metadata": {
        "colab": {
          "base_uri": "https://localhost:8080/"
        },
        "id": "QHjsIFTAlxll",
        "outputId": "3ded5fce-3da9-47c5-9672-69f756ce6cf7"
      },
      "execution_count": null,
      "outputs": [
        {
          "output_type": "stream",
          "name": "stdout",
          "text": [
            "Model is: Gear\n",
            "Bicycle is Gear and Hero\n"
          ]
        }
      ]
    },
    {
      "cell_type": "code",
      "source": [
        "class Animal:\n",
        "    def __init__(self, Name):\n",
        "        self.Name = Name\n",
        "\n",
        "    def display_info(self):\n",
        "        print(f\"The name of the animal is {self.Name}\")\n",
        "\n",
        "\n",
        "class Cat(Animal):\n",
        "    def __init__(self, Name, sound):\n",
        "        super().__init__(Name)\n",
        "        self.sound = sound\n",
        "\n",
        "    def display_info(self):\n",
        "        super().display_info()\n",
        "        print(f\"The cat sound is {self.sound}\")\n",
        "\n",
        "\n",
        "class Dog(Animal):\n",
        "    def __init__(self, Name, sound, color):\n",
        "        super().__init__(Name)\n",
        "        self.sound = sound\n",
        "        self.color = color\n",
        "\n",
        "    def display_info(self):\n",
        "        super().display_info()\n",
        "        print(f\"The dog sound is {self.sound} and its color is {self.color}\")\n",
        "\n",
        "\n",
        "# instatnce\n",
        "Cat1 = Cat(\"CAT\", \"Meaow\")\n",
        "Cat1.display_info()\n",
        "\n",
        "Dog1 = Dog(\"DOG\", \"Bao Bao\", \"White\")\n",
        "Dog1.display_info()\n",
        "\n",
        "\n",
        "\n",
        "\n"
      ],
      "metadata": {
        "colab": {
          "base_uri": "https://localhost:8080/"
        },
        "id": "zKHZ8YhJQjcY",
        "outputId": "7dd815cc-d8f0-4951-c229-d02f4b789592"
      },
      "execution_count": null,
      "outputs": [
        {
          "output_type": "stream",
          "name": "stdout",
          "text": [
            "The name of the animal is CAT\n",
            "The cat sound is Meaow\n",
            "The name of the animal is DOG\n",
            "The dog sound is Bao Bao and its color is White\n"
          ]
        }
      ]
    },
    {
      "cell_type": "markdown",
      "source": [
        "**Public Access Modifier **\n",
        "\n",
        "The members of a class that are decleared public are easily accessible from any part of the program. All data members and member functions fo a class are public by default.\n",
        "\n"
      ],
      "metadata": {
        "id": "Z8MWsbneBosN"
      }
    },
    {
      "cell_type": "code",
      "source": [
        "# Create class of person\n",
        "class Person:\n",
        "#construction\n",
        "    def __init__(self, name, lastname):\n",
        "        self.name = name               # Public attribute\n",
        "        self.lastname = lastname       # Public attribute\n",
        "# Display method\n",
        "    def display(self):\n",
        "        print(f\"The name is {self.name} and {self.lastname}\")\n",
        "\n",
        "# initiator\n",
        "person1 = Person(\"Bhimrao\", \"Pawar\")\n",
        "person1.display()                      # Public\n",
        "\n",
        "## Protected Access Modifiers\n",
        "class Student:\n",
        "     # Constructor                            # Protected Attribute\n",
        "    def __init__(self, name, roll):\n",
        "        self._name = name             # Protected attribute define with _\n",
        "        self._roll = roll             # Protected attribute define with _\n",
        "\n",
        "# Display method\n",
        "    def _display(self):               ## Protected display method with _\n",
        "        print(f\"The Name is {self._name} and {self._roll}\")\n",
        "\n",
        "student = Student(\"Bhimrao\", \"123\")\n",
        "student._display()                    ## Protected display method with _\n",
        "# You can notice _ is used to only try to use these variables or functions inside a derived class\n",
        "\n",
        "\n",
        "\n",
        "class Genius(Student):\n",
        "    def __init__(self, name, roll):\n",
        "        super().__init__(name, roll)\n",
        "\n",
        "    def display_details(self):\n",
        "        print(f\"The name {self._name}\")\n",
        "        self._display()                  ## Protected display method with _\n",
        "\n",
        "genius1 = Genius(\"Bhimrao\", \"123\")\n",
        "genius1.display_details()\n",
        "\n",
        "# Corrected usage of dir() and added a comment to explain it\n",
        "print(dir(student))\n",
        "print(dir(genius1))\n"
      ],
      "metadata": {
        "colab": {
          "base_uri": "https://localhost:8080/"
        },
        "id": "ISIgXAZRaJH5",
        "outputId": "7036d0f7-538e-4d40-b5dc-5baaaaee7476"
      },
      "execution_count": null,
      "outputs": [
        {
          "output_type": "stream",
          "name": "stdout",
          "text": [
            "The name is Bhimrao and Pawar\n",
            "The Name is Bhimrao and 123\n",
            "The name Bhimrao\n",
            "The Name is Bhimrao and 123\n",
            "['__class__', '__delattr__', '__dict__', '__dir__', '__doc__', '__eq__', '__format__', '__ge__', '__getattribute__', '__gt__', '__hash__', '__init__', '__init_subclass__', '__le__', '__lt__', '__module__', '__ne__', '__new__', '__reduce__', '__reduce_ex__', '__repr__', '__setattr__', '__sizeof__', '__str__', '__subclasshook__', '__weakref__', '_display', '_name', '_roll']\n",
            "['__class__', '__delattr__', '__dict__', '__dir__', '__doc__', '__eq__', '__format__', '__ge__', '__getattribute__', '__gt__', '__hash__', '__init__', '__init_subclass__', '__le__', '__lt__', '__module__', '__ne__', '__new__', '__reduce__', '__reduce_ex__', '__repr__', '__setattr__', '__sizeof__', '__str__', '__subclasshook__', '__weakref__', '_display', '_name', '_roll', 'display_details']\n"
          ]
        }
      ]
    },
    {
      "cell_type": "code",
      "source": [
        "dir(person1)"
      ],
      "metadata": {
        "colab": {
          "base_uri": "https://localhost:8080/"
        },
        "id": "xtkoPW2rD_dm",
        "outputId": "bc8dde86-f291-44d1-96e0-e21074e46a60"
      },
      "execution_count": null,
      "outputs": [
        {
          "output_type": "execute_result",
          "data": {
            "text/plain": [
              "['__class__',\n",
              " '__delattr__',\n",
              " '__dict__',\n",
              " '__dir__',\n",
              " '__doc__',\n",
              " '__eq__',\n",
              " '__format__',\n",
              " '__ge__',\n",
              " '__getattribute__',\n",
              " '__gt__',\n",
              " '__hash__',\n",
              " '__init__',\n",
              " '__init_subclass__',\n",
              " '__le__',\n",
              " '__lt__',\n",
              " '__module__',\n",
              " '__ne__',\n",
              " '__new__',\n",
              " '__reduce__',\n",
              " '__reduce_ex__',\n",
              " '__repr__',\n",
              " '__setattr__',\n",
              " '__sizeof__',\n",
              " '__str__',\n",
              " '__subclasshook__',\n",
              " '__weakref__',\n",
              " 'display',\n",
              " 'lastname',\n",
              " 'name']"
            ]
          },
          "metadata": {},
          "execution_count": 8
        }
      ]
    },
    {
      "cell_type": "code",
      "source": [
        "\n",
        "## Protected Access Modifiers\n",
        "class Student:\n",
        "  # Protected Attribute\n",
        "  def __init__(self,name,roll):\n",
        "    self._name = name\n",
        "    self._roll = roll\n",
        "\n",
        "  def _display(self):\n",
        "    print(f\"The Name is {self._name} and {self._roll}\")\n",
        "\n",
        "student = Student(\"Bhimrao\",\"123\")\n",
        "dir(student)   # you can notice  _ is used to only try to use these variable are function inside a derived class\n",
        "\n",
        "\n"
      ],
      "metadata": {
        "colab": {
          "base_uri": "https://localhost:8080/"
        },
        "id": "TQ3ltJU1EdEo",
        "outputId": "cae38959-eaad-453f-9aef-967c443d9fbf"
      },
      "execution_count": null,
      "outputs": [
        {
          "output_type": "execute_result",
          "data": {
            "text/plain": [
              "['__class__',\n",
              " '__delattr__',\n",
              " '__dict__',\n",
              " '__dir__',\n",
              " '__doc__',\n",
              " '__eq__',\n",
              " '__format__',\n",
              " '__ge__',\n",
              " '__getattribute__',\n",
              " '__gt__',\n",
              " '__hash__',\n",
              " '__init__',\n",
              " '__init_subclass__',\n",
              " '__le__',\n",
              " '__lt__',\n",
              " '__module__',\n",
              " '__ne__',\n",
              " '__new__',\n",
              " '__reduce__',\n",
              " '__reduce_ex__',\n",
              " '__repr__',\n",
              " '__setattr__',\n",
              " '__sizeof__',\n",
              " '__str__',\n",
              " '__subclasshook__',\n",
              " '__weakref__',\n",
              " '_display',\n",
              " '_name',\n",
              " '_roll']"
            ]
          },
          "metadata": {},
          "execution_count": 9
        }
      ]
    },
    {
      "cell_type": "code",
      "source": [
        "class Genious(Student):\n",
        "  def __init__(self,name,roll):\n",
        "    super().__init__(name,roll)\n",
        "\n",
        "  def displaydetails(self):\n",
        "    print(f\"The name {self._name}\")\n",
        "    self._display()\n",
        "\n",
        "\n",
        "genious1 = Genious(\"Bhimrao\",123)\n",
        "genious1.displaydetails()\n",
        "dir(genious1)"
      ],
      "metadata": {
        "colab": {
          "base_uri": "https://localhost:8080/"
        },
        "id": "CMBBa9IlEnvB",
        "outputId": "146e3774-259c-4285-e6f7-8d62024b7084"
      },
      "execution_count": null,
      "outputs": [
        {
          "output_type": "stream",
          "name": "stdout",
          "text": [
            "The name Bhimrao\n",
            "The Name is Bhimrao and 123\n"
          ]
        },
        {
          "output_type": "execute_result",
          "data": {
            "text/plain": [
              "['__class__',\n",
              " '__delattr__',\n",
              " '__dict__',\n",
              " '__dir__',\n",
              " '__doc__',\n",
              " '__eq__',\n",
              " '__format__',\n",
              " '__ge__',\n",
              " '__getattribute__',\n",
              " '__gt__',\n",
              " '__hash__',\n",
              " '__init__',\n",
              " '__init_subclass__',\n",
              " '__le__',\n",
              " '__lt__',\n",
              " '__module__',\n",
              " '__ne__',\n",
              " '__new__',\n",
              " '__reduce__',\n",
              " '__reduce_ex__',\n",
              " '__repr__',\n",
              " '__setattr__',\n",
              " '__sizeof__',\n",
              " '__str__',\n",
              " '__subclasshook__',\n",
              " '__weakref__',\n",
              " '_display',\n",
              " '_name',\n",
              " '_roll',\n",
              " 'displaydetails']"
            ]
          },
          "metadata": {},
          "execution_count": 10
        }
      ]
    },
    {
      "cell_type": "code",
      "source": [
        "class Student:\n",
        "  # privet variables\n",
        "  def __init__(self,name,roll):\n",
        "    self.__name = name            # double undercore\n",
        "    self.__roll = roll            # double undercore\n",
        "\n",
        "  def _display(self):\n",
        "    print(f\"The Name is {self.__name} and {self.__roll}\")\n",
        "\n",
        "\n",
        "  def display(self):\n",
        "    self.__display()\n",
        "\n",
        "\n",
        "\n",
        "\n",
        "student = Student(\"Bhimrao\",\"123\")\n",
        "dir(student)"
      ],
      "metadata": {
        "colab": {
          "base_uri": "https://localhost:8080/"
        },
        "id": "Z1DoyEKyH4_c",
        "outputId": "a32b786f-9b87-4fa3-8b57-c7cea101a59a"
      },
      "execution_count": null,
      "outputs": [
        {
          "output_type": "execute_result",
          "data": {
            "text/plain": [
              "['_Student__name',\n",
              " '_Student__roll',\n",
              " '__class__',\n",
              " '__delattr__',\n",
              " '__dict__',\n",
              " '__dir__',\n",
              " '__doc__',\n",
              " '__eq__',\n",
              " '__format__',\n",
              " '__ge__',\n",
              " '__getattribute__',\n",
              " '__gt__',\n",
              " '__hash__',\n",
              " '__init__',\n",
              " '__init_subclass__',\n",
              " '__le__',\n",
              " '__lt__',\n",
              " '__module__',\n",
              " '__ne__',\n",
              " '__new__',\n",
              " '__reduce__',\n",
              " '__reduce_ex__',\n",
              " '__repr__',\n",
              " '__setattr__',\n",
              " '__sizeof__',\n",
              " '__str__',\n",
              " '__subclasshook__',\n",
              " '__weakref__',\n",
              " '_display',\n",
              " 'display']"
            ]
          },
          "metadata": {},
          "execution_count": 11
        }
      ]
    },
    {
      "cell_type": "markdown",
      "source": [
        "**Polymorphism**\n",
        "\n",
        "Poymorphism provide  flexibility in writting program in such way that the programer uses same method call to perfrom diffrent operation depending on the requirement ."
      ],
      "metadata": {
        "id": "65S7MzstTpwI"
      }
    },
    {
      "cell_type": "code",
      "source": [
        "# Polymorphism\n",
        "# Multiple Forms\n",
        "\n",
        "class Animal:\n",
        "  def __init__(self,name):\n",
        "    self.name = name\n",
        "\n",
        "  def make_sound(self):\n",
        "    pass\n",
        "\n",
        "class Dog(Animal):\n",
        "  def make_sound(self):\n",
        "    return \"Woof\"\n",
        "\n",
        "\n",
        "class Cat (Animal):\n",
        "  def make_sound(self):\n",
        "    return \"Meao\"\n",
        "\n",
        "\n",
        "\n",
        "cat1 = Cat(\"Tom\")\n",
        "cat1.make_sound()\n",
        "\n"
      ],
      "metadata": {
        "colab": {
          "base_uri": "https://localhost:8080/",
          "height": 35
        },
        "id": "aMiQ293hTfop",
        "outputId": "70cb7b4a-48c6-426e-bdb9-d2107faa80f8"
      },
      "execution_count": null,
      "outputs": [
        {
          "output_type": "execute_result",
          "data": {
            "text/plain": [
              "'Meao'"
            ],
            "application/vnd.google.colaboratory.intrinsic+json": {
              "type": "string"
            }
          },
          "metadata": {},
          "execution_count": 12
        }
      ]
    },
    {
      "cell_type": "code",
      "source": [
        "dog1 = Dog(\"Gery\")\n",
        "dog1.make_sound()"
      ],
      "metadata": {
        "colab": {
          "base_uri": "https://localhost:8080/",
          "height": 35
        },
        "id": "2j1yFXlFXxDi",
        "outputId": "a7e2ed38-7eb7-4726-af6f-1b42858ef1c0"
      },
      "execution_count": null,
      "outputs": [
        {
          "output_type": "execute_result",
          "data": {
            "text/plain": [
              "'Woof'"
            ],
            "application/vnd.google.colaboratory.intrinsic+json": {
              "type": "string"
            }
          },
          "metadata": {},
          "execution_count": 13
        }
      ]
    },
    {
      "cell_type": "code",
      "source": [],
      "metadata": {
        "id": "RkcCbrnXDR8Y"
      },
      "execution_count": null,
      "outputs": []
    },
    {
      "cell_type": "code",
      "source": [],
      "metadata": {
        "id": "CqmDpreFWlz1"
      },
      "execution_count": null,
      "outputs": []
    }
  ]
}