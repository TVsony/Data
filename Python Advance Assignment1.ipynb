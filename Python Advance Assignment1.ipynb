{
 "cells": [
  {
   "cell_type": "markdown",
   "id": "3cd16be8-4410-43f5-bb01-d4edc03a2f9d",
   "metadata": {},
   "source": [
    "## 1. What makes NumPy.shape() different from NumPy.size()?\n",
    "- arr.shape returns (3, 4), indicating the array has 3 rows and 4 columns.\n",
    "- arr.size returns 12, indicating there are a total of 12 elements in the array.\n",
    "- numpy.shape: Provides the dimensions of the array (e.g., number of rows and columns).\n",
    "- \n",
    "numpy.size: Provides the total count of elements in the array."
   ]
  },
  {
   "cell_type": "code",
   "execution_count": 1,
   "id": "a99aca26-6b57-4157-9aa6-05940bf67cde",
   "metadata": {},
   "outputs": [
    {
     "name": "stdout",
     "output_type": "stream",
     "text": [
      "Shape of the array: (3, 4)\n",
      "Size of the array: 12\n"
     ]
    }
   ],
   "source": [
    "import numpy as np\n",
    "\n",
    "arr = np.array([[1, 2, 3, 4],\n",
    "                [5, 6, 7, 8],\n",
    "                [9, 10, 11, 12]])\n",
    "\n",
    "print(\"Shape of the array:\", arr.shape)  # Output: (3, 4)\n",
    "print(\"Size of the array:\", arr.size)    # Output: 12"
   ]
  },
  {
   "cell_type": "markdown",
   "id": "7e4dbffb-3ae0-4cad-8a4a-f8f61e811a92",
   "metadata": {},
   "source": [
    "## 2. In NumPy, describe the idea of broadcasting ? \n",
    "- Broadcasting is particularly useful in scenarios involving element-wise operations across arrays of different shapes without the need for explicit    looping.\n",
    "- It is widely used in mathematical computations, data analysis, and machine learning."
   ]
  },
  {
   "cell_type": "code",
   "execution_count": 2,
   "id": "eb4c7098-f761-4ff1-a61d-1b9439524cee",
   "metadata": {},
   "outputs": [
    {
     "name": "stdout",
     "output_type": "stream",
     "text": [
      "[5 7 9]\n"
     ]
    }
   ],
   "source": [
    "# Simple Broadcasting \n",
    "import numpy as np\n",
    "\n",
    "A = np.array([1, 2, 3])\n",
    "B = np.array([4, 5, 6])\n",
    "\n",
    "C = A + B\n",
    "print(C) \n"
   ]
  },
  {
   "cell_type": "code",
   "execution_count": 3,
   "id": "8010ca17-b3ac-481b-a234-d0b558256679",
   "metadata": {},
   "outputs": [
    {
     "name": "stdout",
     "output_type": "stream",
     "text": [
      "[3 4 5]\n"
     ]
    }
   ],
   "source": [
    "# Broadcasting with Scalar\n",
    "import numpy as np\n",
    "\n",
    "A = np.array([1, 2, 3])\n",
    "B = 2\n",
    "\n",
    "C = A + B\n",
    "print(C) "
   ]
  },
  {
   "cell_type": "code",
   "execution_count": 4,
   "id": "0f5f5aed-0583-4887-926b-32213e2d441e",
   "metadata": {},
   "outputs": [
    {
     "name": "stdout",
     "output_type": "stream",
     "text": [
      "[[11 22 33]\n",
      " [14 25 36]]\n"
     ]
    }
   ],
   "source": [
    "# Higher Dimension Broadcasting\n",
    "import numpy as np\n",
    "\n",
    "A = np.array([[1, 2, 3], [4, 5, 6]])\n",
    "B = np.array([10, 20, 30])\n",
    "\n",
    "C = A + B\n",
    "print(C)  \n"
   ]
  },
  {
   "cell_type": "code",
   "execution_count": 6,
   "id": "e7a396bd-b500-46e1-b4d9-89a17537e40c",
   "metadata": {},
   "outputs": [
    {
     "data": {
      "text/plain": [
       "'import numpy as np\\n\\nA = np.array([[1, 2, 3], [4, 5, 6]])\\nB = np.array([1, 2])\\n\\n# This will raise a ValueError\\nC = A + B'"
      ]
     },
     "execution_count": 6,
     "metadata": {},
     "output_type": "execute_result"
    }
   ],
   "source": [
    "# Incompatible Shapes \n",
    "\"\"\"import numpy as np\n",
    "\n",
    "A = np.array([[1, 2, 3], [4, 5, 6]])\n",
    "B = np.array([1, 2])\n",
    "\n",
    "# This will raise a ValueError\n",
    "C = A + B\"\"\""
   ]
  },
  {
   "cell_type": "markdown",
   "id": "ab790792-380d-48c1-b535-817450f88e63",
   "metadata": {},
   "source": [
    "## What makes Python better than other libraries for numerical computation?\n",
    "Python is a popular choice for numerical computation due to several key advantages it offers over other programming languages and libraries. \n",
    "Here are some of the main reasons why Python is often considered better for numerical computation:\n",
    "\n",
    "1. Rich Ecosystem of Libraries\n",
    "NumPy: Provides support for large, multi-dimensional arrays and matrices, along with a collection of mathematical functions to operate on these arrays.\n",
    "SciPy: Builds on NumPy and provides additional functionality for scientific and technical computing, including modules for optimization, integration, interpolation, eigenvalue problems, and more.\n",
    "Pandas: Offers powerful, flexible data structures like DataFrames, which are ideal for data manipulation and analysis.\n",
    "Matplotlib and Seaborn: Libraries for data visualization, allowing users to create static, interactive, and animated visualizations in Python.\n",
    "SymPy: Provides symbolic mathematics capabilities, useful for algebraic manipulation, calculus, solving equations, etc.\n",
    "Scikit-learn: A powerful library for machine learning, offering simple and efficient tools for data mining and data analysis.\n",
    "2. Ease of Learning and Use\n",
    "Readable Syntax: Python's syntax is clear and intuitive, making it accessible to beginners and reducing the learning curve.\n",
    "High-Level Language: Python abstracts many low-level details, allowing users to focus on solving problems rather than managing memory or dealing with complex syntax.\n",
    "Interactive Development: Tools like Jupyter Notebooks provide an interactive environment where users can write and test code in small, manageable chunks, visualize data, and document their process.\n",
    "3. Community and Support\n",
    "Active Community: Python has a large, active community of developers who contribute to a wealth of tutorials, documentation, and forums, making it easier to find help and resources.\n",
    "Extensive Documentation: Most Python libraries are well-documented, with comprehensive guides and examples that help users understand how to use various functions and tools.\n",
    "4. Interoperability\n",
    "Integration with Other Languages: Python can interface with libraries written in C, C++, and Fortran, allowing users to leverage high-performance code while maintaining the simplicity of Python.\n",
    "Interoperability with Other Tools: Python can easily integrate with web services, databases, and other applications, making it a versatile choice for a wide range of tasks.\n",
    "5. Performance\n",
    "Optimized Libraries: Libraries like NumPy and SciPy are highly optimized and written in C, providing near C-level performance for many numerical operations.\n",
    "Parallel Computing: Python supports parallel and distributed computing through libraries like Dask, joblib, and multiprocessing, allowing for efficient computation on large datasets.\n",
    "6. Extensibility\n",
    "Custom Extensions: Users can write custom extensions in C or Cython to optimize performance-critical sections of their code.\n",
    "Rich Set of Tools: Python's ecosystem includes many tools for profiling, debugging, and optimizing code, such as cProfile, line_profiler, and PyCharm.\n",
    "7. Versatility\n",
    "General-Purpose Language: Unlike some languages that are specialized for numerical computation, Python is a general-purpose language. This makes it suitable for a wide range of applications, from web development to data analysis, machine learning, and more.\n",
    "Broad Application: Python is used in many domains including web development, automation, data analysis, artificial intelligence, and scientific research, making it a versatile tool in a programmer's toolkit.\n",
    "8. Community and Industry Adoption\n",
    "Industry Standard: Python has become a standard in many industries, particularly in data science and machine learning, leading to better industry support and more job opportunities.\n",
    "Extensive Use in Academia: Python is widely used in academia for research and teaching, fostering a continuous influx of new tools, libraries, and talent.\n",
    "Summary"
   ]
  },
  {
   "cell_type": "markdown",
   "id": "0cd08035-2a55-4ccc-8afa-b7a727f98bd6",
   "metadata": {},
   "source": [
    "## 4 How does NumPy deal with files?"
   ]
  },
  {
   "cell_type": "code",
   "execution_count": 10,
   "id": "23333480-825d-4eee-80a8-e1e672ca6b91",
   "metadata": {},
   "outputs": [],
   "source": [
    "# Text file \n",
    "import numpy as np\n",
    "data = np.array([[1, 2, 3], [4, 5, 6], [7, 8, 9]])\n",
    "np.savetxt('data.txt', data, delimiter=' ')"
   ]
  },
  {
   "cell_type": "code",
   "execution_count": 11,
   "id": "206438ee-beef-4d2b-8cb2-77fc557b236e",
   "metadata": {},
   "outputs": [],
   "source": [
    "# Binary Files \n",
    "import numpy as np\n",
    "data = np.array([1, 2, 3, 4, 5])\n",
    "np.save('data.npy', data)"
   ]
  },
  {
   "cell_type": "code",
   "execution_count": 13,
   "id": "2a83cc9b-75d3-4cee-8d63-7133b45f973d",
   "metadata": {},
   "outputs": [
    {
     "data": {
      "text/plain": [
       "\"import numpy as np\\n# Assuming 'data.csv' is a CSV file\\ndata = np.genfromtxt('data.csv', delimiter=',')\\nprint(data)\""
      ]
     },
     "execution_count": 13,
     "metadata": {},
     "output_type": "execute_result"
    }
   ],
   "source": [
    "\"\"\"import numpy as np\n",
    "# Assuming 'data.csv' is a CSV file\n",
    "data = np.genfromtxt('data.csv', delimiter=',')\n",
    "print(data)\"\"\""
   ]
  },
  {
   "cell_type": "markdown",
   "id": "60a8f61b-183c-469a-bc45-f9ea9e653025",
   "metadata": {},
   "source": [
    "## 5. Mention the importance of NumPy.empty().\n",
    "- It creates a new array of a specified shape and dtype without initializing the array elements to any particular value. "
   ]
  },
  {
   "cell_type": "code",
   "execution_count": 14,
   "id": "4f2a77e7-88ed-4b1d-860c-5c4b2714bc49",
   "metadata": {},
   "outputs": [],
   "source": [
    "import numpy as np\n",
    "# Create a 1000x1000 array without initializing its elements\n",
    "arr = np.empty((1000, 1000))"
   ]
  },
  {
   "cell_type": "code",
   "execution_count": null,
   "id": "631d4d7e-83cc-44c2-85ab-d588334a085d",
   "metadata": {},
   "outputs": [],
   "source": []
  }
 ],
 "metadata": {
  "kernelspec": {
   "display_name": "Python 3 (ipykernel)",
   "language": "python",
   "name": "python3"
  },
  "language_info": {
   "codemirror_mode": {
    "name": "ipython",
    "version": 3
   },
   "file_extension": ".py",
   "mimetype": "text/x-python",
   "name": "python",
   "nbconvert_exporter": "python",
   "pygments_lexer": "ipython3",
   "version": "3.11.7"
  }
 },
 "nbformat": 4,
 "nbformat_minor": 5
}
