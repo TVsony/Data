{
  "nbformat": 4,
  "nbformat_minor": 0,
  "metadata": {
    "colab": {
      "provenance": [],
      "authorship_tag": "ABX9TyPbguWi3sxczqJeSZzxz657",
      "include_colab_link": true
    },
    "kernelspec": {
      "name": "python3",
      "display_name": "Python 3"
    },
    "language_info": {
      "name": "python"
    }
  },
  "cells": [
    {
      "cell_type": "markdown",
      "metadata": {
        "id": "view-in-github",
        "colab_type": "text"
      },
      "source": [
        "<a href=\"https://colab.research.google.com/github/TVsony/Data/blob/main/Python%20Basic%20.ipynb\" target=\"_parent\"><img src=\"https://colab.research.google.com/assets/colab-badge.svg\" alt=\"Open In Colab\"/></a>"
      ]
    },
    {
      "cell_type": "markdown",
      "source": [
        "\n",
        " Welcome to Python"
      ],
      "metadata": {
        "id": "hzNX94HEqDJD"
      }
    },
    {
      "cell_type": "code",
      "execution_count": null,
      "metadata": {
        "id": "p-LKD3I6XMcM"
      },
      "outputs": [],
      "source": [
        "# Introduction"
      ]
    },
    {
      "cell_type": "markdown",
      "source": [],
      "metadata": {
        "id": "mNSbdfFzOLxl"
      }
    },
    {
      "cell_type": "code",
      "source": [
        "1+1"
      ],
      "metadata": {
        "colab": {
          "base_uri": "https://localhost:8080/"
        },
        "id": "z-3gS8laN2TO",
        "outputId": "0e9a27eb-9b1f-45d4-da73-7d0014f4c98f"
      },
      "execution_count": null,
      "outputs": [
        {
          "output_type": "execute_result",
          "data": {
            "text/plain": [
              "2"
            ]
          },
          "metadata": {},
          "execution_count": 1
        }
      ]
    },
    {
      "cell_type": "code",
      "source": [
        "2+2"
      ],
      "metadata": {
        "colab": {
          "base_uri": "https://localhost:8080/"
        },
        "id": "Ftu-ldZPN2Ui",
        "outputId": "67182325-85f6-47bf-f5bf-12de5c0d1413"
      },
      "execution_count": null,
      "outputs": [
        {
          "output_type": "execute_result",
          "data": {
            "text/plain": [
              "4"
            ]
          },
          "metadata": {},
          "execution_count": 2
        }
      ]
    },
    {
      "cell_type": "code",
      "source": [
        "2-1"
      ],
      "metadata": {
        "colab": {
          "base_uri": "https://localhost:8080/"
        },
        "id": "I7v_v3NqOUUi",
        "outputId": "911ed5d3-b3fd-4c37-b81c-9d766ef270c5"
      },
      "execution_count": null,
      "outputs": [
        {
          "output_type": "execute_result",
          "data": {
            "text/plain": [
              "1"
            ]
          },
          "metadata": {},
          "execution_count": 4
        }
      ]
    },
    {
      "cell_type": "code",
      "source": [
        "10/2"
      ],
      "metadata": {
        "colab": {
          "base_uri": "https://localhost:8080/"
        },
        "id": "aB2w8U5COe4G",
        "outputId": "972f74b1-b011-47b9-c65b-59f93c3539c3"
      },
      "execution_count": null,
      "outputs": [
        {
          "output_type": "execute_result",
          "data": {
            "text/plain": [
              "5.0"
            ]
          },
          "metadata": {},
          "execution_count": 6
        }
      ]
    },
    {
      "cell_type": "code",
      "source": [
        "3*2"
      ],
      "metadata": {
        "colab": {
          "base_uri": "https://localhost:8080/"
        },
        "id": "KcyePxcHOlzz",
        "outputId": "88e8540c-d1db-4b69-f178-3a82952ddf24"
      },
      "execution_count": null,
      "outputs": [
        {
          "output_type": "execute_result",
          "data": {
            "text/plain": [
              "6"
            ]
          },
          "metadata": {},
          "execution_count": 7
        }
      ]
    },
    {
      "cell_type": "code",
      "source": [
        "220*4"
      ],
      "metadata": {
        "colab": {
          "base_uri": "https://localhost:8080/"
        },
        "id": "XR-gXVpTOzGX",
        "outputId": "6933d21d-7cf6-46a1-9b1e-9a79dd4e0d96"
      },
      "execution_count": null,
      "outputs": [
        {
          "output_type": "execute_result",
          "data": {
            "text/plain": [
              "880"
            ]
          },
          "metadata": {},
          "execution_count": 9
        }
      ]
    },
    {
      "cell_type": "code",
      "source": [
        "10*2"
      ],
      "metadata": {
        "colab": {
          "base_uri": "https://localhost:8080/"
        },
        "id": "MOH6n6ZMOw7o",
        "outputId": "76aac820-8724-4dd5-c3e7-8d1f39392519"
      },
      "execution_count": null,
      "outputs": [
        {
          "output_type": "execute_result",
          "data": {
            "text/plain": [
              "20"
            ]
          },
          "metadata": {},
          "execution_count": 8
        }
      ]
    },
    {
      "cell_type": "code",
      "source": [
        "9//3 # Floor Division Remove Decimal point"
      ],
      "metadata": {
        "colab": {
          "base_uri": "https://localhost:8080/"
        },
        "id": "2eX74Y7xPK0b",
        "outputId": "96d3b147-ebf4-4298-a70a-a26e810ba162"
      },
      "execution_count": null,
      "outputs": [
        {
          "output_type": "execute_result",
          "data": {
            "text/plain": [
              "3"
            ]
          },
          "metadata": {},
          "execution_count": 14
        }
      ]
    },
    {
      "cell_type": "code",
      "source": [
        "9/3 # Normal Division"
      ],
      "metadata": {
        "colab": {
          "base_uri": "https://localhost:8080/"
        },
        "id": "5mietElrPPQy",
        "outputId": "90c2a457-fc86-4c86-c2f4-232db42c8198"
      },
      "execution_count": null,
      "outputs": [
        {
          "output_type": "execute_result",
          "data": {
            "text/plain": [
              "3.0"
            ]
          },
          "metadata": {},
          "execution_count": 12
        }
      ]
    },
    {
      "cell_type": "code",
      "source": [
        "9%3 # Modulus\n"
      ],
      "metadata": {
        "colab": {
          "base_uri": "https://localhost:8080/"
        },
        "id": "_3CponwOPSRP",
        "outputId": "ca06e626-ba81-410d-af0b-67112209bbbb"
      },
      "execution_count": null,
      "outputs": [
        {
          "output_type": "execute_result",
          "data": {
            "text/plain": [
              "0"
            ]
          },
          "metadata": {},
          "execution_count": 20
        }
      ]
    },
    {
      "cell_type": "code",
      "source": [
        "21%2 # Modulus give the remainder"
      ],
      "metadata": {
        "colab": {
          "base_uri": "https://localhost:8080/"
        },
        "id": "rZqc7SBTP3la",
        "outputId": "6c4833c7-8fc0-45cc-f2fd-49237556f383"
      },
      "execution_count": null,
      "outputs": [
        {
          "output_type": "execute_result",
          "data": {
            "text/plain": [
              "1"
            ]
          },
          "metadata": {},
          "execution_count": 22
        }
      ]
    },
    {
      "cell_type": "code",
      "source": [
        "a=2 # variable\n",
        "b=3\n",
        "a*b"
      ],
      "metadata": {
        "colab": {
          "base_uri": "https://localhost:8080/"
        },
        "id": "1yn8Ze1OQDmX",
        "outputId": "b6ef87de-36f3-40d0-a9c0-641c06cf2c90"
      },
      "execution_count": null,
      "outputs": [
        {
          "output_type": "execute_result",
          "data": {
            "text/plain": [
              "6"
            ]
          },
          "metadata": {},
          "execution_count": 24
        }
      ]
    },
    {
      "cell_type": "code",
      "source": [
        "2**2 # power function"
      ],
      "metadata": {
        "colab": {
          "base_uri": "https://localhost:8080/"
        },
        "id": "FzU4mL0kRNMq",
        "outputId": "4b3aaa17-7399-4f83-9ce6-4e9c6f933de6"
      },
      "execution_count": null,
      "outputs": [
        {
          "output_type": "execute_result",
          "data": {
            "text/plain": [
              "4"
            ]
          },
          "metadata": {},
          "execution_count": 28
        }
      ]
    },
    {
      "cell_type": "code",
      "source": [
        "4**3"
      ],
      "metadata": {
        "colab": {
          "base_uri": "https://localhost:8080/"
        },
        "id": "S76miiriRNWB",
        "outputId": "01337059-79a2-470f-b496-0a1ecda514ee"
      },
      "execution_count": null,
      "outputs": [
        {
          "output_type": "execute_result",
          "data": {
            "text/plain": [
              "64"
            ]
          },
          "metadata": {},
          "execution_count": 29
        }
      ]
    },
    {
      "cell_type": "code",
      "source": [],
      "metadata": {
        "id": "Il1eO23ERNY1"
      },
      "execution_count": null,
      "outputs": []
    },
    {
      "cell_type": "code",
      "source": [],
      "metadata": {
        "id": "ACQgx-GpRNZx"
      },
      "execution_count": null,
      "outputs": []
    },
    {
      "cell_type": "code",
      "source": [
        "x,y,z=2,3,4 # variable assigment\n",
        "x,y=1,4\n",
        "x=1\n",
        "a=10\n",
        "b=22\n",
        "c=a+b\n",
        "c"
      ],
      "metadata": {
        "colab": {
          "base_uri": "https://localhost:8080/"
        },
        "id": "DM6IVq1qQaSL",
        "outputId": "0bd38a97-c40b-42cf-abf7-4ce17f61cec3"
      },
      "execution_count": null,
      "outputs": [
        {
          "output_type": "execute_result",
          "data": {
            "text/plain": [
              "32"
            ]
          },
          "metadata": {},
          "execution_count": 32
        }
      ]
    },
    {
      "cell_type": "code",
      "source": [
        "print(\"Hello Python \")"
      ],
      "metadata": {
        "colab": {
          "base_uri": "https://localhost:8080/"
        },
        "id": "dWUcLMcSQt7O",
        "outputId": "9db97aee-9b73-44e7-ee03-c1ba569ad840"
      },
      "execution_count": null,
      "outputs": [
        {
          "output_type": "stream",
          "name": "stdout",
          "text": [
            "Hello Python \n"
          ]
        }
      ]
    },
    {
      "cell_type": "code",
      "source": [
        "country=\"France\""
      ],
      "metadata": {
        "id": "7oJiEZDiRD8U"
      },
      "execution_count": null,
      "outputs": []
    },
    {
      "cell_type": "code",
      "source": [
        "type(country)"
      ],
      "metadata": {
        "colab": {
          "base_uri": "https://localhost:8080/"
        },
        "id": "cPS1JS2qV14i",
        "outputId": "4bb2dc78-4457-450d-99c0-f14c0d391e7c"
      },
      "execution_count": null,
      "outputs": [
        {
          "output_type": "execute_result",
          "data": {
            "text/plain": [
              "str"
            ]
          },
          "metadata": {},
          "execution_count": 34
        }
      ]
    },
    {
      "cell_type": "code",
      "source": [
        "x=90"
      ],
      "metadata": {
        "id": "r5nMl7VaV9V5"
      },
      "execution_count": null,
      "outputs": []
    },
    {
      "cell_type": "code",
      "source": [
        "type(x)"
      ],
      "metadata": {
        "colab": {
          "base_uri": "https://localhost:8080/"
        },
        "id": "LGRi9bDnWF3B",
        "outputId": "198f20ce-16b2-4a63-c787-bb7b56ecfff0"
      },
      "execution_count": null,
      "outputs": [
        {
          "output_type": "execute_result",
          "data": {
            "text/plain": [
              "int"
            ]
          },
          "metadata": {},
          "execution_count": 36
        }
      ]
    },
    {
      "cell_type": "code",
      "source": [
        "x=90.3\n",
        "type(x)"
      ],
      "metadata": {
        "colab": {
          "base_uri": "https://localhost:8080/"
        },
        "id": "aaReT25aWHb5",
        "outputId": "4462a916-9b4b-4f96-bb86-9edd1a1ffa2a"
      },
      "execution_count": null,
      "outputs": [
        {
          "output_type": "execute_result",
          "data": {
            "text/plain": [
              "float"
            ]
          },
          "metadata": {},
          "execution_count": 37
        }
      ]
    },
    {
      "cell_type": "code",
      "source": [
        "city = 19\n",
        "type(city)"
      ],
      "metadata": {
        "colab": {
          "base_uri": "https://localhost:8080/"
        },
        "id": "QRuxH58BWN-t",
        "outputId": "b072cb52-e554-4379-c1a8-b5e246d7267a"
      },
      "execution_count": null,
      "outputs": [
        {
          "output_type": "execute_result",
          "data": {
            "text/plain": [
              "int"
            ]
          },
          "metadata": {},
          "execution_count": 41
        }
      ]
    },
    {
      "cell_type": "markdown",
      "source": [
        "# New Section"
      ],
      "metadata": {
        "id": "IP0sJktyqVdv"
      }
    },
    {
      "cell_type": "code",
      "source": [
        "city=\"London\"\n",
        "# print(City) # Python is case sensitive\n",
        "print('city')"
      ],
      "metadata": {
        "colab": {
          "base_uri": "https://localhost:8080/"
        },
        "id": "bLY7Z6vyWYQY",
        "outputId": "c5d85564-696a-4c82-f0ce-dd4fb3d3a0a3"
      },
      "execution_count": null,
      "outputs": [
        {
          "output_type": "stream",
          "name": "stdout",
          "text": [
            "city\n"
          ]
        }
      ]
    },
    {
      "cell_type": "code",
      "source": [
        "print(city)"
      ],
      "metadata": {
        "colab": {
          "base_uri": "https://localhost:8080/"
        },
        "id": "LgMXrrbiX9Mg",
        "outputId": "f3c1e0be-c180-4702-8485-d0163508b96a"
      },
      "execution_count": null,
      "outputs": [
        {
          "output_type": "stream",
          "name": "stdout",
          "text": [
            "London\n"
          ]
        }
      ]
    },
    {
      "cell_type": "code",
      "source": [
        "len('London')"
      ],
      "metadata": {
        "colab": {
          "base_uri": "https://localhost:8080/"
        },
        "id": "Oc6m91FOYWAJ",
        "outputId": "66c341ea-3b43-460a-ef62-252a6889103f"
      },
      "execution_count": null,
      "outputs": [
        {
          "output_type": "execute_result",
          "data": {
            "text/plain": [
              "6"
            ]
          },
          "metadata": {},
          "execution_count": 48
        }
      ]
    },
    {
      "cell_type": "code",
      "source": [
        "count='America'\n"
      ],
      "metadata": {
        "id": "pl62k-SrYlCO"
      },
      "execution_count": null,
      "outputs": []
    },
    {
      "cell_type": "code",
      "source": [
        "len(count)"
      ],
      "metadata": {
        "colab": {
          "base_uri": "https://localhost:8080/"
        },
        "id": "8V0vbIvPYt_W",
        "outputId": "24c54a41-0248-4e84-8223-875655ad2e3f"
      },
      "execution_count": null,
      "outputs": [
        {
          "output_type": "execute_result",
          "data": {
            "text/plain": [
              "7"
            ]
          },
          "metadata": {},
          "execution_count": 57
        }
      ]
    },
    {
      "cell_type": "code",
      "source": [
        "# Area of rectangles\n",
        "length=10\n",
        "breadth=10\n",
        "area=Length*breadth\n",
        "print('Area of Rectangle:',area)"
      ],
      "metadata": {
        "colab": {
          "base_uri": "https://localhost:8080/"
        },
        "id": "FMl6ZHQjZP70",
        "outputId": "b31b99ed-05d5-4edd-b99a-d835ecbe350a"
      },
      "execution_count": null,
      "outputs": [
        {
          "output_type": "stream",
          "name": "stdout",
          "text": [
            "Area of Rectangle: 100\n"
          ]
        }
      ]
    },
    {
      "cell_type": "code",
      "source": [
        "# Area of Circle\n",
        "\n",
        "pi=3.14\n",
        "r=15\n",
        "area_of_circle = pi *r**2"
      ],
      "metadata": {
        "id": "LCPx0WgxZ-Nl"
      },
      "execution_count": null,
      "outputs": []
    },
    {
      "cell_type": "code",
      "source": [
        "print(\"Area of Circle :\",area_of_circle)"
      ],
      "metadata": {
        "colab": {
          "base_uri": "https://localhost:8080/"
        },
        "id": "oILYMqpybtJI",
        "outputId": "7a51c5a5-587c-45a0-d7d0-00e238781da5"
      },
      "execution_count": null,
      "outputs": [
        {
          "output_type": "stream",
          "name": "stdout",
          "text": [
            "Area of Circle : 706.5\n"
          ]
        }
      ]
    },
    {
      "cell_type": "code",
      "source": [
        "# Mathematical Oprators"
      ],
      "metadata": {
        "id": "jilwPD_6b3K8"
      },
      "execution_count": null,
      "outputs": []
    },
    {
      "cell_type": "code",
      "source": [
        "33>10 # Greater than"
      ],
      "metadata": {
        "colab": {
          "base_uri": "https://localhost:8080/"
        },
        "id": "OFMCJn5icFMN",
        "outputId": "7ce1f26b-a283-44be-eab6-77101f94d341"
      },
      "execution_count": null,
      "outputs": [
        {
          "output_type": "execute_result",
          "data": {
            "text/plain": [
              "True"
            ]
          },
          "metadata": {},
          "execution_count": 64
        }
      ]
    },
    {
      "cell_type": "code",
      "source": [
        "33<10 # Less than"
      ],
      "metadata": {
        "colab": {
          "base_uri": "https://localhost:8080/"
        },
        "id": "x_jiLxB9cHMG",
        "outputId": "e4b9f908-3608-45f0-f416-108c448fb232"
      },
      "execution_count": null,
      "outputs": [
        {
          "output_type": "execute_result",
          "data": {
            "text/plain": [
              "False"
            ]
          },
          "metadata": {},
          "execution_count": 65
        }
      ]
    },
    {
      "cell_type": "code",
      "source": [
        "33<34  # Less than"
      ],
      "metadata": {
        "colab": {
          "base_uri": "https://localhost:8080/"
        },
        "id": "L0ImBTiBcJa9",
        "outputId": "159047fa-8bd4-4f70-e0b0-70dd34b93a8c"
      },
      "execution_count": null,
      "outputs": [
        {
          "output_type": "execute_result",
          "data": {
            "text/plain": [
              "True"
            ]
          },
          "metadata": {},
          "execution_count": 66
        }
      ]
    },
    {
      "cell_type": "code",
      "source": [
        "33>=34 # Greater than equal to"
      ],
      "metadata": {
        "colab": {
          "base_uri": "https://localhost:8080/"
        },
        "id": "RYRuOAaRcMW1",
        "outputId": "954daaa9-c01a-43a7-a9fa-a099b26e5d75"
      },
      "execution_count": null,
      "outputs": [
        {
          "output_type": "execute_result",
          "data": {
            "text/plain": [
              "False"
            ]
          },
          "metadata": {},
          "execution_count": 67
        }
      ]
    },
    {
      "cell_type": "code",
      "source": [
        "33>=32 # Greater than equal to"
      ],
      "metadata": {
        "colab": {
          "base_uri": "https://localhost:8080/"
        },
        "id": "qQAtnvjacQzj",
        "outputId": "c916ae4a-e014-4884-8042-93ac7e2fcf32"
      },
      "execution_count": null,
      "outputs": [
        {
          "output_type": "execute_result",
          "data": {
            "text/plain": [
              "True"
            ]
          },
          "metadata": {},
          "execution_count": 68
        }
      ]
    },
    {
      "cell_type": "code",
      "source": [
        "33<=34 # Less than equal to"
      ],
      "metadata": {
        "colab": {
          "base_uri": "https://localhost:8080/"
        },
        "id": "VikXmdEXcVzy",
        "outputId": "ebc83fd2-87ca-4ce1-f5ab-5467cba4b09c"
      },
      "execution_count": null,
      "outputs": [
        {
          "output_type": "execute_result",
          "data": {
            "text/plain": [
              "True"
            ]
          },
          "metadata": {},
          "execution_count": 69
        }
      ]
    },
    {
      "cell_type": "code",
      "source": [
        "34<=33 # Less than equal to"
      ],
      "metadata": {
        "colab": {
          "base_uri": "https://localhost:8080/"
        },
        "id": "9jm3fhfFcZzd",
        "outputId": "6dd4fd12-9281-4994-cb8e-84089f49467e"
      },
      "execution_count": null,
      "outputs": [
        {
          "output_type": "execute_result",
          "data": {
            "text/plain": [
              "False"
            ]
          },
          "metadata": {},
          "execution_count": 70
        }
      ]
    },
    {
      "cell_type": "code",
      "source": [
        "30!=30 # not equal to"
      ],
      "metadata": {
        "colab": {
          "base_uri": "https://localhost:8080/"
        },
        "id": "f26wjUqPcc2k",
        "outputId": "e0a29190-4bc5-4e02-f322-3c236640a3cd"
      },
      "execution_count": null,
      "outputs": [
        {
          "output_type": "execute_result",
          "data": {
            "text/plain": [
              "False"
            ]
          },
          "metadata": {},
          "execution_count": 71
        }
      ]
    },
    {
      "cell_type": "code",
      "source": [
        "200!=100 # not equal to"
      ],
      "metadata": {
        "colab": {
          "base_uri": "https://localhost:8080/"
        },
        "id": "bE82G5IleNZX",
        "outputId": "77af330e-4d68-46fd-ebbd-cc676caae689"
      },
      "execution_count": null,
      "outputs": [
        {
          "output_type": "execute_result",
          "data": {
            "text/plain": [
              "True"
            ]
          },
          "metadata": {},
          "execution_count": 74
        }
      ]
    },
    {
      "cell_type": "code",
      "source": [
        "30==30 # equal to"
      ],
      "metadata": {
        "colab": {
          "base_uri": "https://localhost:8080/"
        },
        "id": "Ftxw45Omcg_i",
        "outputId": "926aa3c3-e643-4189-d8c7-90a2510d117b"
      },
      "execution_count": null,
      "outputs": [
        {
          "output_type": "execute_result",
          "data": {
            "text/plain": [
              "True"
            ]
          },
          "metadata": {},
          "execution_count": 72
        }
      ]
    },
    {
      "cell_type": "code",
      "source": [
        "city = input(\"Enter City Name :\")"
      ],
      "metadata": {
        "colab": {
          "base_uri": "https://localhost:8080/"
        },
        "id": "sJXp0ElKckWl",
        "outputId": "bab9036c-325f-443d-d10b-74eee62fc2b4"
      },
      "execution_count": null,
      "outputs": [
        {
          "name": "stdout",
          "output_type": "stream",
          "text": [
            "Enter City Name :Sambhaji Nagar\n"
          ]
        }
      ]
    },
    {
      "cell_type": "code",
      "source": [
        "number = input(\"Enter Number:\")"
      ],
      "metadata": {
        "colab": {
          "base_uri": "https://localhost:8080/"
        },
        "id": "-j7gLXXJercj",
        "outputId": "21b3aeab-7767-4e2f-f679-4c0e87f2d25a"
      },
      "execution_count": null,
      "outputs": [
        {
          "name": "stdout",
          "output_type": "stream",
          "text": [
            "Enter Number:10\n"
          ]
        }
      ]
    },
    {
      "cell_type": "code",
      "source": [
        "10+10"
      ],
      "metadata": {
        "colab": {
          "base_uri": "https://localhost:8080/"
        },
        "id": "wud5rVFUgFpc",
        "outputId": "e9664180-7f32-480d-e6e8-2b907d48da36"
      },
      "execution_count": null,
      "outputs": [
        {
          "output_type": "execute_result",
          "data": {
            "text/plain": [
              "20"
            ]
          },
          "metadata": {},
          "execution_count": 78
        }
      ]
    },
    {
      "cell_type": "code",
      "source": [
        "'10'+'10' # String Concatination"
      ],
      "metadata": {
        "colab": {
          "base_uri": "https://localhost:8080/",
          "height": 35
        },
        "id": "si4YT-SbgL-F",
        "outputId": "365e7060-9ba6-466b-a944-de0152338ad5"
      },
      "execution_count": null,
      "outputs": [
        {
          "output_type": "execute_result",
          "data": {
            "text/plain": [
              "'1010'"
            ],
            "application/vnd.google.colaboratory.intrinsic+json": {
              "type": "string"
            }
          },
          "metadata": {},
          "execution_count": 79
        }
      ]
    },
    {
      "cell_type": "code",
      "source": [
        "\"Happy\"+\" Birthday\""
      ],
      "metadata": {
        "colab": {
          "base_uri": "https://localhost:8080/",
          "height": 35
        },
        "id": "7YDmfAGtgPMz",
        "outputId": "f305ee6d-12f4-4463-846a-03bc21ce7e01"
      },
      "execution_count": null,
      "outputs": [
        {
          "output_type": "execute_result",
          "data": {
            "text/plain": [
              "'Happy Birthday'"
            ],
            "application/vnd.google.colaboratory.intrinsic+json": {
              "type": "string"
            }
          },
          "metadata": {},
          "execution_count": 82
        }
      ]
    },
    {
      "cell_type": "code",
      "source": [
        "\"HAPPY\"+\"BIRTHDAY\""
      ],
      "metadata": {
        "colab": {
          "base_uri": "https://localhost:8080/",
          "height": 35
        },
        "id": "w1dzpOy7glaM",
        "outputId": "e2521179-61d3-46fb-b8ef-99cff3b6e15c"
      },
      "execution_count": null,
      "outputs": [
        {
          "output_type": "execute_result",
          "data": {
            "text/plain": [
              "'HAPPYBIRTHDAY'"
            ],
            "application/vnd.google.colaboratory.intrinsic+json": {
              "type": "string"
            }
          },
          "metadata": {},
          "execution_count": 83
        }
      ]
    },
    {
      "cell_type": "code",
      "source": [
        "a=input(\"Enter First Number:\")\n",
        "b=input(\"Enter Second Number:\")\n",
        "c=a+b"
      ],
      "metadata": {
        "colab": {
          "base_uri": "https://localhost:8080/"
        },
        "id": "nmdq_EVShzAP",
        "outputId": "6ee82935-381b-4e29-ec25-0b7ae2d8fa08"
      },
      "execution_count": null,
      "outputs": [
        {
          "name": "stdout",
          "output_type": "stream",
          "text": [
            "Enter First Number:10\n",
            "Enter Second Number:20\n"
          ]
        }
      ]
    },
    {
      "cell_type": "code",
      "source": [
        "type(a)"
      ],
      "metadata": {
        "colab": {
          "base_uri": "https://localhost:8080/"
        },
        "id": "U1qzgYkSiN47",
        "outputId": "6a463cb8-3e5e-4c66-dd48-3d8b8b65271e"
      },
      "execution_count": null,
      "outputs": [
        {
          "output_type": "execute_result",
          "data": {
            "text/plain": [
              "str"
            ]
          },
          "metadata": {},
          "execution_count": 89
        }
      ]
    },
    {
      "cell_type": "code",
      "source": [
        "type(b)"
      ],
      "metadata": {
        "colab": {
          "base_uri": "https://localhost:8080/"
        },
        "id": "XrnAo0RIiOFc",
        "outputId": "58834eb0-374d-4999-96a9-527672d4d490"
      },
      "execution_count": null,
      "outputs": [
        {
          "output_type": "execute_result",
          "data": {
            "text/plain": [
              "str"
            ]
          },
          "metadata": {},
          "execution_count": 90
        }
      ]
    },
    {
      "cell_type": "code",
      "source": [
        "x=358\n",
        "y=23\n",
        "print(x//y)\n",
        "print(x%y)"
      ],
      "metadata": {
        "colab": {
          "base_uri": "https://localhost:8080/"
        },
        "id": "jvGubJ8lqack",
        "outputId": "f08dfc52-d952-4819-f5ea-796073cef781"
      },
      "execution_count": null,
      "outputs": [
        {
          "output_type": "stream",
          "name": "stdout",
          "text": [
            "15\n",
            "13\n"
          ]
        }
      ]
    },
    {
      "cell_type": "code",
      "source": [
        "(2*4**3/2)"
      ],
      "metadata": {
        "colab": {
          "base_uri": "https://localhost:8080/"
        },
        "id": "eXQy0QqzqaqS",
        "outputId": "87db0f4d-52fb-4dcc-dd55-9ade4b49bdda"
      },
      "execution_count": null,
      "outputs": [
        {
          "output_type": "execute_result",
          "data": {
            "text/plain": [
              "64.0"
            ]
          },
          "metadata": {},
          "execution_count": 2
        }
      ]
    },
    {
      "cell_type": "code",
      "source": [
        "x=5\n",
        "\n",
        "y=10\n",
        "\n",
        "if(x**3>100 and y*3<100):\n",
        "\n",
        "     print(x, y)"
      ],
      "metadata": {
        "colab": {
          "base_uri": "https://localhost:8080/"
        },
        "id": "UbLXOVPhqatg",
        "outputId": "c3537435-e5a2-45ee-fb64-dd0f824969e2"
      },
      "execution_count": null,
      "outputs": [
        {
          "output_type": "stream",
          "name": "stdout",
          "text": [
            "5 10\n"
          ]
        }
      ]
    },
    {
      "cell_type": "code",
      "source": [
        "a=5\n",
        "\n",
        "b=10\n",
        "\n",
        "print(a|b)\n",
        "\n",
        "print(b<<a)"
      ],
      "metadata": {
        "colab": {
          "base_uri": "https://localhost:8080/"
        },
        "id": "UP2bqdySqazr",
        "outputId": "5e7e5ef2-e891-4f10-ca8c-809f27ec628d"
      },
      "execution_count": null,
      "outputs": [
        {
          "output_type": "stream",
          "name": "stdout",
          "text": [
            "15\n",
            "320\n"
          ]
        }
      ]
    },
    {
      "cell_type": "code",
      "source": [
        "# What is the output of the following code\n",
        "\n",
        "x=3\n",
        "\n",
        "y=4\n",
        "\n",
        "x+=y\n",
        "\n",
        "print(x)"
      ],
      "metadata": {
        "colab": {
          "base_uri": "https://localhost:8080/"
        },
        "id": "jvdJ-w0zqa90",
        "outputId": "af8870d5-29ea-4f51-ed3e-c70970485327"
      },
      "execution_count": null,
      "outputs": [
        {
          "output_type": "stream",
          "name": "stdout",
          "text": [
            "7\n"
          ]
        }
      ]
    },
    {
      "cell_type": "markdown",
      "source": [
        "Arithmatic Oprator :"
      ],
      "metadata": {
        "id": "olcZnp0NCpme"
      }
    },
    {
      "cell_type": "markdown",
      "source": [
        "Addition:  X + Y"
      ],
      "metadata": {
        "id": "udB_0xyhC1X7"
      }
    },
    {
      "cell_type": "code",
      "source": [
        "11 + 19"
      ],
      "metadata": {
        "colab": {
          "base_uri": "https://localhost:8080/"
        },
        "id": "pu7I3R9wqbJo",
        "outputId": "b72f474f-269d-4822-ab61-23ed396ab4f1"
      },
      "execution_count": null,
      "outputs": [
        {
          "output_type": "execute_result",
          "data": {
            "text/plain": [
              "30"
            ]
          },
          "metadata": {},
          "execution_count": 3
        }
      ]
    },
    {
      "cell_type": "code",
      "source": [
        "240 + 160"
      ],
      "metadata": {
        "colab": {
          "base_uri": "https://localhost:8080/"
        },
        "id": "herFc0RwqbM1",
        "outputId": "4ad2f64b-0899-4cbf-8377-883d893fe531"
      },
      "execution_count": null,
      "outputs": [
        {
          "output_type": "execute_result",
          "data": {
            "text/plain": [
              "400"
            ]
          },
          "metadata": {},
          "execution_count": 4
        }
      ]
    },
    {
      "cell_type": "markdown",
      "source": [
        "Subtraction:     X - Y"
      ],
      "metadata": {
        "id": "JIN1JdT2EB-B"
      }
    },
    {
      "cell_type": "code",
      "source": [
        "50 -46"
      ],
      "metadata": {
        "colab": {
          "base_uri": "https://localhost:8080/"
        },
        "id": "ZL9LfoHxqbVY",
        "outputId": "55aa80c9-c935-4d39-b8e0-5533648562ff"
      },
      "execution_count": null,
      "outputs": [
        {
          "output_type": "execute_result",
          "data": {
            "text/plain": [
              "4"
            ]
          },
          "metadata": {},
          "execution_count": 6
        }
      ]
    },
    {
      "cell_type": "code",
      "source": [
        "10-2"
      ],
      "metadata": {
        "colab": {
          "base_uri": "https://localhost:8080/"
        },
        "id": "XmvxK6u4qbYY",
        "outputId": "d1308534-584b-4100-d427-f9410d7c0db0"
      },
      "execution_count": null,
      "outputs": [
        {
          "output_type": "execute_result",
          "data": {
            "text/plain": [
              "8"
            ]
          },
          "metadata": {},
          "execution_count": 7
        }
      ]
    },
    {
      "cell_type": "code",
      "source": [],
      "metadata": {
        "id": "K6UDKVrDqbbH"
      },
      "execution_count": null,
      "outputs": []
    },
    {
      "cell_type": "markdown",
      "source": [
        "Multiplication :    X * Y"
      ],
      "metadata": {
        "id": "VRAwKxdWEitI"
      }
    },
    {
      "cell_type": "code",
      "source": [
        "10*3"
      ],
      "metadata": {
        "colab": {
          "base_uri": "https://localhost:8080/"
        },
        "id": "iweLoLBAqbd3",
        "outputId": "f452225b-e730-487a-df3f-743ff2037a4b"
      },
      "execution_count": null,
      "outputs": [
        {
          "output_type": "execute_result",
          "data": {
            "text/plain": [
              "30"
            ]
          },
          "metadata": {},
          "execution_count": 8
        }
      ]
    },
    {
      "cell_type": "code",
      "source": [
        "11*11"
      ],
      "metadata": {
        "colab": {
          "base_uri": "https://localhost:8080/"
        },
        "id": "30Szmjlvqbgl",
        "outputId": "421a16c2-c271-4970-e325-0607fede077a"
      },
      "execution_count": null,
      "outputs": [
        {
          "output_type": "execute_result",
          "data": {
            "text/plain": [
              "121"
            ]
          },
          "metadata": {},
          "execution_count": 9
        }
      ]
    },
    {
      "cell_type": "code",
      "source": [],
      "metadata": {
        "id": "r9-2NK62qbjs"
      },
      "execution_count": null,
      "outputs": []
    },
    {
      "cell_type": "markdown",
      "source": [
        "Division : X / Y"
      ],
      "metadata": {
        "id": "VQocCMn4E0O5"
      }
    },
    {
      "cell_type": "code",
      "source": [
        "45/3"
      ],
      "metadata": {
        "colab": {
          "base_uri": "https://localhost:8080/"
        },
        "id": "oBvj74POqbmv",
        "outputId": "f9b620f5-d9f0-48ca-d260-23b8299637c5"
      },
      "execution_count": null,
      "outputs": [
        {
          "output_type": "execute_result",
          "data": {
            "text/plain": [
              "15.0"
            ]
          },
          "metadata": {},
          "execution_count": 10
        }
      ]
    },
    {
      "cell_type": "code",
      "source": [
        "765/10"
      ],
      "metadata": {
        "colab": {
          "base_uri": "https://localhost:8080/"
        },
        "id": "ZlAFq0t_qbp9",
        "outputId": "97c0f71f-b32c-4a94-9d63-ef157c627096"
      },
      "execution_count": null,
      "outputs": [
        {
          "output_type": "execute_result",
          "data": {
            "text/plain": [
              "76.5"
            ]
          },
          "metadata": {},
          "execution_count": 11
        }
      ]
    },
    {
      "cell_type": "markdown",
      "source": [
        "Modulus :  X % Y"
      ],
      "metadata": {
        "id": "VQ2kRfIUFMgc"
      }
    },
    {
      "cell_type": "code",
      "source": [
        "456 % 23"
      ],
      "metadata": {
        "colab": {
          "base_uri": "https://localhost:8080/"
        },
        "id": "j7PL9PwXE_RZ",
        "outputId": "2ddb314c-2acc-4f24-f274-a8fe90346621"
      },
      "execution_count": null,
      "outputs": [
        {
          "output_type": "execute_result",
          "data": {
            "text/plain": [
              "19"
            ]
          },
          "metadata": {},
          "execution_count": 13
        }
      ]
    },
    {
      "cell_type": "code",
      "source": [
        "11 % 2"
      ],
      "metadata": {
        "colab": {
          "base_uri": "https://localhost:8080/"
        },
        "id": "XkhEm5suE_dh",
        "outputId": "63b6e1e8-80d8-4e9c-fe3c-461e9b5f68df"
      },
      "execution_count": null,
      "outputs": [
        {
          "output_type": "execute_result",
          "data": {
            "text/plain": [
              "1"
            ]
          },
          "metadata": {},
          "execution_count": 14
        }
      ]
    },
    {
      "cell_type": "code",
      "source": [
        "31 % 3"
      ],
      "metadata": {
        "colab": {
          "base_uri": "https://localhost:8080/"
        },
        "id": "sCncKjGcE_gk",
        "outputId": "c451888b-c435-4e3b-b62a-97f80c14628c"
      },
      "execution_count": null,
      "outputs": [
        {
          "output_type": "execute_result",
          "data": {
            "text/plain": [
              "1"
            ]
          },
          "metadata": {},
          "execution_count": 15
        }
      ]
    },
    {
      "cell_type": "code",
      "source": [
        "19 % 4"
      ],
      "metadata": {
        "colab": {
          "base_uri": "https://localhost:8080/"
        },
        "id": "AjMinSFBE_jr",
        "outputId": "a6ba97df-8aee-42f2-eb10-244937bad70e"
      },
      "execution_count": null,
      "outputs": [
        {
          "output_type": "execute_result",
          "data": {
            "text/plain": [
              "3"
            ]
          },
          "metadata": {},
          "execution_count": 16
        }
      ]
    },
    {
      "cell_type": "markdown",
      "source": [
        "Exponent : X ** Y"
      ],
      "metadata": {
        "id": "Abb6nAFRFnJV"
      }
    },
    {
      "cell_type": "code",
      "source": [
        "7 ** 3"
      ],
      "metadata": {
        "colab": {
          "base_uri": "https://localhost:8080/"
        },
        "id": "K_H82DUSE_pV",
        "outputId": "9039da2f-5c0e-4edd-9f9b-9d5550c0b7d5"
      },
      "execution_count": null,
      "outputs": [
        {
          "output_type": "execute_result",
          "data": {
            "text/plain": [
              "343"
            ]
          },
          "metadata": {},
          "execution_count": 17
        }
      ]
    },
    {
      "cell_type": "code",
      "source": [
        "2 ** 8"
      ],
      "metadata": {
        "colab": {
          "base_uri": "https://localhost:8080/"
        },
        "id": "2pBUdEYvE_si",
        "outputId": "cd993478-513d-4277-83be-bfad1b4dca00"
      },
      "execution_count": null,
      "outputs": [
        {
          "output_type": "execute_result",
          "data": {
            "text/plain": [
              "256"
            ]
          },
          "metadata": {},
          "execution_count": 18
        }
      ]
    },
    {
      "cell_type": "code",
      "source": [
        "11 ** 3"
      ],
      "metadata": {
        "colab": {
          "base_uri": "https://localhost:8080/"
        },
        "id": "vQ_sk1ybE_vn",
        "outputId": "210b9e3d-3344-41f3-84fe-33d1a367cd54"
      },
      "execution_count": null,
      "outputs": [
        {
          "output_type": "execute_result",
          "data": {
            "text/plain": [
              "1331"
            ]
          },
          "metadata": {},
          "execution_count": 19
        }
      ]
    },
    {
      "cell_type": "markdown",
      "source": [
        "Floor Division : X // Y"
      ],
      "metadata": {
        "id": "MOVT3SFKF8PC"
      }
    },
    {
      "cell_type": "code",
      "source": [
        " 19 // 3"
      ],
      "metadata": {
        "colab": {
          "base_uri": "https://localhost:8080/"
        },
        "id": "yG-3gz4xE_1m",
        "outputId": "420c0954-e22a-48aa-ae09-36e8197427e7"
      },
      "execution_count": null,
      "outputs": [
        {
          "output_type": "execute_result",
          "data": {
            "text/plain": [
              "6"
            ]
          },
          "metadata": {},
          "execution_count": 20
        }
      ]
    },
    {
      "cell_type": "code",
      "source": [
        "20 // 3"
      ],
      "metadata": {
        "colab": {
          "base_uri": "https://localhost:8080/"
        },
        "id": "0yqL16IhE_48",
        "outputId": "7e3e3b1d-9c4f-4e65-93b2-b8f55530a42d"
      },
      "execution_count": null,
      "outputs": [
        {
          "output_type": "execute_result",
          "data": {
            "text/plain": [
              "6"
            ]
          },
          "metadata": {},
          "execution_count": 21
        }
      ]
    },
    {
      "cell_type": "code",
      "source": [
        "21 // 3"
      ],
      "metadata": {
        "colab": {
          "base_uri": "https://localhost:8080/"
        },
        "id": "fi8rp_gDE_70",
        "outputId": "dcbf745a-1f6e-40bd-8800-6c36549b6dba"
      },
      "execution_count": null,
      "outputs": [
        {
          "output_type": "execute_result",
          "data": {
            "text/plain": [
              "7"
            ]
          },
          "metadata": {},
          "execution_count": 22
        }
      ]
    },
    {
      "cell_type": "code",
      "source": [
        "18//3"
      ],
      "metadata": {
        "colab": {
          "base_uri": "https://localhost:8080/"
        },
        "id": "alSsCq-uE_-m",
        "outputId": "42d95e77-f39a-4529-9a79-213ecc282f40"
      },
      "execution_count": null,
      "outputs": [
        {
          "output_type": "execute_result",
          "data": {
            "text/plain": [
              "6"
            ]
          },
          "metadata": {},
          "execution_count": 23
        }
      ]
    },
    {
      "cell_type": "code",
      "source": [],
      "metadata": {
        "id": "a6bCexUwFABk"
      },
      "execution_count": null,
      "outputs": []
    },
    {
      "cell_type": "markdown",
      "source": [
        "2) Assigment Oprators"
      ],
      "metadata": {
        "id": "e85MErRZGX5h"
      }
    },
    {
      "cell_type": "markdown",
      "source": [
        "1 .  Equal to ( = )"
      ],
      "metadata": {
        "id": "S06pfXnfGj6-"
      }
    },
    {
      "cell_type": "code",
      "source": [
        "X = 3\n",
        "y = 4"
      ],
      "metadata": {
        "id": "N7x82d2bGVta"
      },
      "execution_count": null,
      "outputs": []
    },
    {
      "cell_type": "markdown",
      "source": [
        "2 . Add Equal to  ( + = )  \n",
        "    X + = Y ---> X = X + Y"
      ],
      "metadata": {
        "id": "4SXqfHH3G6u3"
      }
    },
    {
      "cell_type": "code",
      "source": [
        "x = 9\n",
        "y = 4\n",
        "x +=y\n",
        "x"
      ],
      "metadata": {
        "colab": {
          "base_uri": "https://localhost:8080/"
        },
        "id": "3LtTRgWNGVuz",
        "outputId": "5fe6285e-558a-4f55-b575-11a418ed8c4b"
      },
      "execution_count": null,
      "outputs": [
        {
          "output_type": "execute_result",
          "data": {
            "text/plain": [
              "13"
            ]
          },
          "metadata": {},
          "execution_count": 26
        }
      ]
    },
    {
      "cell_type": "code",
      "source": [
        "x=7\n",
        "y=4\n",
        "x+=y\n",
        "x"
      ],
      "metadata": {
        "colab": {
          "base_uri": "https://localhost:8080/"
        },
        "id": "WzrPrt83GVyR",
        "outputId": "1825c365-85d8-4325-e11b-f805cc40b325"
      },
      "execution_count": null,
      "outputs": [
        {
          "output_type": "execute_result",
          "data": {
            "text/plain": [
              "11"
            ]
          },
          "metadata": {},
          "execution_count": 27
        }
      ]
    },
    {
      "cell_type": "code",
      "source": [
        "x=12\n",
        "y=9\n",
        "x+=y\n",
        "x"
      ],
      "metadata": {
        "colab": {
          "base_uri": "https://localhost:8080/"
        },
        "id": "U1bO1S9uGV1t",
        "outputId": "13d6d91a-6b4c-41cb-b997-74ad7855a27c"
      },
      "execution_count": null,
      "outputs": [
        {
          "output_type": "execute_result",
          "data": {
            "text/plain": [
              "21"
            ]
          },
          "metadata": {},
          "execution_count": 28
        }
      ]
    },
    {
      "cell_type": "markdown",
      "source": [
        "3 Subtract Equal to ( -  = )\n",
        "\n",
        "  X - = Y -----> X = X - Y"
      ],
      "metadata": {
        "id": "-Vn66nqFH2bS"
      }
    },
    {
      "cell_type": "code",
      "source": [
        "x=7\n",
        "y=4\n",
        "x-=y\n",
        "x"
      ],
      "metadata": {
        "colab": {
          "base_uri": "https://localhost:8080/"
        },
        "id": "GEb7BbRuGV6o",
        "outputId": "54bf9690-0e1f-4917-853b-3a0e94f08d68"
      },
      "execution_count": null,
      "outputs": [
        {
          "output_type": "execute_result",
          "data": {
            "text/plain": [
              "3"
            ]
          },
          "metadata": {},
          "execution_count": 29
        }
      ]
    },
    {
      "cell_type": "code",
      "source": [
        "x=9\n",
        "y=3\n",
        "x-=y\n",
        "x"
      ],
      "metadata": {
        "colab": {
          "base_uri": "https://localhost:8080/"
        },
        "id": "jLh9HfOFGV_G",
        "outputId": "7a861a9b-8e32-4c4c-cda0-b32aae97e2df"
      },
      "execution_count": null,
      "outputs": [
        {
          "output_type": "execute_result",
          "data": {
            "text/plain": [
              "6"
            ]
          },
          "metadata": {},
          "execution_count": 30
        }
      ]
    },
    {
      "cell_type": "code",
      "source": [
        "x=12\n",
        "y=9\n",
        "x-=y\n",
        "x"
      ],
      "metadata": {
        "colab": {
          "base_uri": "https://localhost:8080/"
        },
        "id": "8P67fJuKGWCY",
        "outputId": "19468c74-7285-4ae5-b631-3815144d46e6"
      },
      "execution_count": null,
      "outputs": [
        {
          "output_type": "execute_result",
          "data": {
            "text/plain": [
              "3"
            ]
          },
          "metadata": {},
          "execution_count": 31
        }
      ]
    },
    {
      "cell_type": "markdown",
      "source": [
        "4 Multiply Equal to ( *  = )\n",
        "\n",
        "X *  = Y -----> X = X * Y\n",
        "\n"
      ],
      "metadata": {
        "id": "o-mZMbS-IsOv"
      }
    },
    {
      "cell_type": "markdown",
      "source": [
        "Divide Equal to  ( /  = )\n",
        "\n",
        "X / = Y  -----> X = X / Y"
      ],
      "metadata": {
        "id": "PhdBPrwXJMV6"
      }
    },
    {
      "cell_type": "code",
      "source": [
        "X =21\n",
        "Y = 5\n",
        "X/=Y\n",
        "X"
      ],
      "metadata": {
        "colab": {
          "base_uri": "https://localhost:8080/"
        },
        "id": "miI-7QpnGWFq",
        "outputId": "3543ccf7-c51f-4ba1-c155-52048d36b2d4"
      },
      "execution_count": null,
      "outputs": [
        {
          "output_type": "execute_result",
          "data": {
            "text/plain": [
              "4.2"
            ]
          },
          "metadata": {},
          "execution_count": 32
        }
      ]
    },
    {
      "cell_type": "code",
      "source": [
        "X = 41\n",
        "Y = 13.05\n",
        "X/=Y\n",
        "X"
      ],
      "metadata": {
        "colab": {
          "base_uri": "https://localhost:8080/"
        },
        "id": "GgKa8z_DGWIa",
        "outputId": "b18ae14b-4d24-45bf-b6b2-1f7a32bbe7ee"
      },
      "execution_count": null,
      "outputs": [
        {
          "output_type": "execute_result",
          "data": {
            "text/plain": [
              "3.1417624521072796"
            ]
          },
          "metadata": {},
          "execution_count": 37
        }
      ]
    },
    {
      "cell_type": "markdown",
      "source": [
        "6 Modulus Equal to ( %  = )\n",
        "\n",
        "X % = Y ----->  X = X % Y"
      ],
      "metadata": {
        "id": "M_kasKZaKFYd"
      }
    },
    {
      "cell_type": "code",
      "source": [
        "X = 10\n",
        "Y = 3\n",
        "X %= Y\n",
        "X\n"
      ],
      "metadata": {
        "colab": {
          "base_uri": "https://localhost:8080/"
        },
        "id": "koZ8KSiBGWKF",
        "outputId": "9b5623c8-ee65-479f-9c8a-a49abdab7d3e"
      },
      "execution_count": null,
      "outputs": [
        {
          "output_type": "execute_result",
          "data": {
            "text/plain": [
              "1"
            ]
          },
          "metadata": {},
          "execution_count": 39
        }
      ]
    },
    {
      "cell_type": "code",
      "source": [
        "X = 456\n",
        "Y = 23\n",
        "X %=Y\n",
        "X"
      ],
      "metadata": {
        "colab": {
          "base_uri": "https://localhost:8080/"
        },
        "id": "J8GoLfLjGWLv",
        "outputId": "72737177-e94f-46ad-b398-2f4b837426db"
      },
      "execution_count": null,
      "outputs": [
        {
          "output_type": "execute_result",
          "data": {
            "text/plain": [
              "19"
            ]
          },
          "metadata": {},
          "execution_count": 40
        }
      ]
    },
    {
      "cell_type": "markdown",
      "source": [
        " 7 Exponent Equal to ( **= )\n",
        "\n",
        " X**= Y -----> X = X ** Y"
      ],
      "metadata": {
        "id": "esArOkQLLJXi"
      }
    },
    {
      "cell_type": "code",
      "source": [
        "x=7\n",
        "y=4\n",
        "x**=y\n",
        "x"
      ],
      "metadata": {
        "colab": {
          "base_uri": "https://localhost:8080/"
        },
        "id": "S6-pptb8GWNB",
        "outputId": "e7fc154e-ddb1-4deb-def5-de4e81e683ce"
      },
      "execution_count": null,
      "outputs": [
        {
          "output_type": "execute_result",
          "data": {
            "text/plain": [
              "2401"
            ]
          },
          "metadata": {},
          "execution_count": 41
        }
      ]
    },
    {
      "cell_type": "code",
      "source": [
        "x=3\n",
        "y=2\n",
        "x**=y\n",
        "x"
      ],
      "metadata": {
        "colab": {
          "base_uri": "https://localhost:8080/"
        },
        "id": "sm2UcmBWGWO4",
        "outputId": "6e19e2c8-3137-488c-8110-a0b2dd70609e"
      },
      "execution_count": null,
      "outputs": [
        {
          "output_type": "execute_result",
          "data": {
            "text/plain": [
              "9"
            ]
          },
          "metadata": {},
          "execution_count": 42
        }
      ]
    },
    {
      "cell_type": "code",
      "source": [
        "x=8\n",
        "y=8\n",
        "x**=y\n",
        "x"
      ],
      "metadata": {
        "colab": {
          "base_uri": "https://localhost:8080/"
        },
        "id": "Y5gr_hCdGWQd",
        "outputId": "720af6d2-557d-464f-fbec-40c35d34724e"
      },
      "execution_count": null,
      "outputs": [
        {
          "output_type": "execute_result",
          "data": {
            "text/plain": [
              "16777216"
            ]
          },
          "metadata": {},
          "execution_count": 43
        }
      ]
    },
    {
      "cell_type": "markdown",
      "source": [
        "8 Floor Equal to ( //= )\n",
        "\n",
        "X//=Y ----> X = X//Y"
      ],
      "metadata": {
        "id": "DlxW-ddzMMfe"
      }
    },
    {
      "cell_type": "code",
      "source": [
        "x=786\n",
        "y=56\n",
        "x//=y\n",
        "x"
      ],
      "metadata": {
        "colab": {
          "base_uri": "https://localhost:8080/"
        },
        "id": "ED_pgklgGWSI",
        "outputId": "64cd7daa-ca2f-4631-e36c-f3fb534e30b3"
      },
      "execution_count": null,
      "outputs": [
        {
          "output_type": "execute_result",
          "data": {
            "text/plain": [
              "14"
            ]
          },
          "metadata": {},
          "execution_count": 44
        }
      ]
    },
    {
      "cell_type": "code",
      "source": [
        "x=687\n",
        "y=56\n",
        "x//=y\n",
        "x"
      ],
      "metadata": {
        "colab": {
          "base_uri": "https://localhost:8080/"
        },
        "id": "xfS5jlJ7GWTg",
        "outputId": "6aeb4049-d230-45b6-f17d-cf38f30e0e4d"
      },
      "execution_count": null,
      "outputs": [
        {
          "output_type": "execute_result",
          "data": {
            "text/plain": [
              "12"
            ]
          },
          "metadata": {},
          "execution_count": 45
        }
      ]
    },
    {
      "cell_type": "code",
      "source": [
        "# Ninja\n",
        "X = 10\n",
        "Y + 5\n",
        "X"
      ],
      "metadata": {
        "colab": {
          "base_uri": "https://localhost:8080/"
        },
        "id": "vG_fWI8rGWXA",
        "outputId": "cc34623e-617b-4aea-9a56-fe25db833bcf"
      },
      "execution_count": null,
      "outputs": [
        {
          "output_type": "execute_result",
          "data": {
            "text/plain": [
              "10"
            ]
          },
          "metadata": {},
          "execution_count": 47
        }
      ]
    },
    {
      "cell_type": "code",
      "source": [
        "X = 10\n",
        "X += 5\n",
        "X"
      ],
      "metadata": {
        "colab": {
          "base_uri": "https://localhost:8080/"
        },
        "id": "Zhg_M-9qMwAL",
        "outputId": "9866905c-bb35-417d-9b2f-4d05f162c2ad"
      },
      "execution_count": null,
      "outputs": [
        {
          "output_type": "execute_result",
          "data": {
            "text/plain": [
              "15"
            ]
          },
          "metadata": {},
          "execution_count": 49
        }
      ]
    },
    {
      "cell_type": "markdown",
      "source": [
        "Comparision Oprator :"
      ],
      "metadata": {
        "id": "pPJme6nnN0nU"
      }
    },
    {
      "cell_type": "markdown",
      "source": [
        "Equal to ( == )"
      ],
      "metadata": {
        "id": "Sos17jv4N9Ls"
      }
    },
    {
      "cell_type": "code",
      "source": [
        "2==2\n"
      ],
      "metadata": {
        "colab": {
          "base_uri": "https://localhost:8080/"
        },
        "id": "hPCsxEsgMwC6",
        "outputId": "d0e7c50d-a9b4-4530-c205-11f8ae38d383"
      },
      "execution_count": null,
      "outputs": [
        {
          "output_type": "execute_result",
          "data": {
            "text/plain": [
              "True"
            ]
          },
          "metadata": {},
          "execution_count": 50
        }
      ]
    },
    {
      "cell_type": "code",
      "source": [
        "X = 7\n",
        "Y = 6\n",
        "X == Y"
      ],
      "metadata": {
        "colab": {
          "base_uri": "https://localhost:8080/"
        },
        "id": "rhzZNWviMwFp",
        "outputId": "a3b4522d-cf57-4511-896d-ec7cf9ff4b91"
      },
      "execution_count": null,
      "outputs": [
        {
          "output_type": "execute_result",
          "data": {
            "text/plain": [
              "False"
            ]
          },
          "metadata": {},
          "execution_count": 51
        }
      ]
    },
    {
      "cell_type": "code",
      "source": [
        "X = 120\n",
        "Y = 120\n",
        "X == Y"
      ],
      "metadata": {
        "colab": {
          "base_uri": "https://localhost:8080/"
        },
        "id": "qfdgQP-jMwI6",
        "outputId": "2602b54b-114a-4fba-d864-384e06ea602a"
      },
      "execution_count": null,
      "outputs": [
        {
          "output_type": "execute_result",
          "data": {
            "text/plain": [
              "True"
            ]
          },
          "metadata": {},
          "execution_count": 52
        }
      ]
    },
    {
      "cell_type": "markdown",
      "source": [
        "Not Equal to ( != )"
      ],
      "metadata": {
        "id": "e4EeUCFFOWgo"
      }
    },
    {
      "cell_type": "code",
      "source": [
        "4 != 7"
      ],
      "metadata": {
        "colab": {
          "base_uri": "https://localhost:8080/"
        },
        "id": "QK5IT7LjOOth",
        "outputId": "1fe18ae3-98cb-4752-c4ec-3243d27f24ca"
      },
      "execution_count": null,
      "outputs": [
        {
          "output_type": "execute_result",
          "data": {
            "text/plain": [
              "True"
            ]
          },
          "metadata": {},
          "execution_count": 53
        }
      ]
    },
    {
      "cell_type": "code",
      "source": [
        " X = 10\n",
        " Y = 9\n",
        " X != Y"
      ],
      "metadata": {
        "colab": {
          "base_uri": "https://localhost:8080/"
        },
        "id": "o_D9TKn4OOxG",
        "outputId": "d98072f1-984c-4dde-edcf-7a18895e5722"
      },
      "execution_count": null,
      "outputs": [
        {
          "output_type": "execute_result",
          "data": {
            "text/plain": [
              "True"
            ]
          },
          "metadata": {},
          "execution_count": 54
        }
      ]
    },
    {
      "cell_type": "code",
      "source": [
        "X = 10\n",
        "Y = 10\n",
        "X != Y"
      ],
      "metadata": {
        "colab": {
          "base_uri": "https://localhost:8080/"
        },
        "id": "ewC8LodmOO3Y",
        "outputId": "33fc0392-9624-44ef-ac67-39a7fb06572f"
      },
      "execution_count": null,
      "outputs": [
        {
          "output_type": "execute_result",
          "data": {
            "text/plain": [
              "False"
            ]
          },
          "metadata": {},
          "execution_count": 55
        }
      ]
    },
    {
      "cell_type": "markdown",
      "source": [
        "Greater Than ( > )"
      ],
      "metadata": {
        "id": "UaGKps6yOzRP"
      }
    },
    {
      "cell_type": "code",
      "source": [
        "5>9"
      ],
      "metadata": {
        "colab": {
          "base_uri": "https://localhost:8080/"
        },
        "id": "xwETVW-4OO6V",
        "outputId": "a4958397-c582-47b1-bd50-816c2798806a"
      },
      "execution_count": null,
      "outputs": [
        {
          "output_type": "execute_result",
          "data": {
            "text/plain": [
              "False"
            ]
          },
          "metadata": {},
          "execution_count": 56
        }
      ]
    },
    {
      "cell_type": "code",
      "source": [
        "X = 35\n",
        "Y = 12\n",
        "X > Y"
      ],
      "metadata": {
        "colab": {
          "base_uri": "https://localhost:8080/"
        },
        "id": "mYuLcZDEOO9Y",
        "outputId": "ff7bd7f2-8a9c-4ee2-c4bf-5aff890fd04f"
      },
      "execution_count": null,
      "outputs": [
        {
          "output_type": "execute_result",
          "data": {
            "text/plain": [
              "True"
            ]
          },
          "metadata": {},
          "execution_count": 57
        }
      ]
    },
    {
      "cell_type": "markdown",
      "source": [
        "Less than ( < )"
      ],
      "metadata": {
        "id": "DwfgiT0OYTnD"
      }
    },
    {
      "cell_type": "code",
      "source": [
        "6 < 10"
      ],
      "metadata": {
        "id": "1iTioDkfOO__",
        "colab": {
          "base_uri": "https://localhost:8080/"
        },
        "outputId": "82e10b39-a907-4da6-a9e2-0bc5e39b6302"
      },
      "execution_count": null,
      "outputs": [
        {
          "output_type": "execute_result",
          "data": {
            "text/plain": [
              "True"
            ]
          },
          "metadata": {},
          "execution_count": 58
        }
      ]
    },
    {
      "cell_type": "code",
      "source": [
        "X = 87\n",
        "Y = 10\n",
        "X < Y"
      ],
      "metadata": {
        "id": "8rWQVRwgOPF3",
        "colab": {
          "base_uri": "https://localhost:8080/"
        },
        "outputId": "e2acfca0-aef3-4983-c73d-7b6cb7fcae3f"
      },
      "execution_count": null,
      "outputs": [
        {
          "output_type": "execute_result",
          "data": {
            "text/plain": [
              "False"
            ]
          },
          "metadata": {},
          "execution_count": 59
        }
      ]
    },
    {
      "cell_type": "code",
      "source": [
        "X = 10\n",
        "Y = 87\n",
        "X < Y"
      ],
      "metadata": {
        "id": "7uZ0rYC9OPI6",
        "colab": {
          "base_uri": "https://localhost:8080/"
        },
        "outputId": "29cfec11-03b2-4fa9-f35b-ac4200883136"
      },
      "execution_count": null,
      "outputs": [
        {
          "output_type": "execute_result",
          "data": {
            "text/plain": [
              "True"
            ]
          },
          "metadata": {},
          "execution_count": 60
        }
      ]
    },
    {
      "cell_type": "markdown",
      "source": [
        "Greater Than Equal to ( >= )\n"
      ],
      "metadata": {
        "id": "FOgQObX1Y2U5"
      }
    },
    {
      "cell_type": "code",
      "source": [
        "4 >= 5"
      ],
      "metadata": {
        "colab": {
          "base_uri": "https://localhost:8080/"
        },
        "id": "9LarfUiqYzWp",
        "outputId": "1c89a54c-1de2-442f-cb30-a22644a89a3f"
      },
      "execution_count": null,
      "outputs": [
        {
          "output_type": "execute_result",
          "data": {
            "text/plain": [
              "False"
            ]
          },
          "metadata": {},
          "execution_count": 61
        }
      ]
    },
    {
      "cell_type": "code",
      "source": [
        "X = 76\n",
        "Y = 35\n",
        "X >= Y"
      ],
      "metadata": {
        "colab": {
          "base_uri": "https://localhost:8080/"
        },
        "id": "MtdVGiXnYzaM",
        "outputId": "f010b6b1-b953-4866-9698-53f6b9df4914"
      },
      "execution_count": null,
      "outputs": [
        {
          "output_type": "execute_result",
          "data": {
            "text/plain": [
              "True"
            ]
          },
          "metadata": {},
          "execution_count": 62
        }
      ]
    },
    {
      "cell_type": "code",
      "source": [
        "X = 35\n",
        "Y = 76\n",
        "X >= Y"
      ],
      "metadata": {
        "colab": {
          "base_uri": "https://localhost:8080/"
        },
        "id": "dGduEi7rYzdb",
        "outputId": "d8f56ce4-dd37-46bf-d2f5-eed15a2bb3cf"
      },
      "execution_count": null,
      "outputs": [
        {
          "output_type": "execute_result",
          "data": {
            "text/plain": [
              "False"
            ]
          },
          "metadata": {},
          "execution_count": 63
        }
      ]
    },
    {
      "cell_type": "markdown",
      "source": [
        "Less than Equal to ( <= )"
      ],
      "metadata": {
        "id": "opqI1k4HZbNp"
      }
    },
    {
      "cell_type": "code",
      "source": [
        "12 <= 13"
      ],
      "metadata": {
        "colab": {
          "base_uri": "https://localhost:8080/"
        },
        "id": "oQ3wrjbwYzgt",
        "outputId": "e8a942b2-d1a4-42b4-b26e-967340e5c98a"
      },
      "execution_count": null,
      "outputs": [
        {
          "output_type": "execute_result",
          "data": {
            "text/plain": [
              "True"
            ]
          },
          "metadata": {},
          "execution_count": 64
        }
      ]
    },
    {
      "cell_type": "code",
      "source": [
        "X = 87\n",
        "Y = 76\n",
        "X <= Y"
      ],
      "metadata": {
        "colab": {
          "base_uri": "https://localhost:8080/"
        },
        "id": "MC0wcEQJYzj6",
        "outputId": "6f8c84b9-b7a2-4fc7-9cd6-4dceca6d250a"
      },
      "execution_count": null,
      "outputs": [
        {
          "output_type": "execute_result",
          "data": {
            "text/plain": [
              "False"
            ]
          },
          "metadata": {},
          "execution_count": 65
        }
      ]
    },
    {
      "cell_type": "code",
      "source": [
        "X = 76\n",
        "Y = 87\n",
        "X <= Y"
      ],
      "metadata": {
        "colab": {
          "base_uri": "https://localhost:8080/"
        },
        "id": "PRoE49ApYzm7",
        "outputId": "10ab70a8-4b14-49ec-bb0e-bc5fa532f544"
      },
      "execution_count": null,
      "outputs": [
        {
          "output_type": "execute_result",
          "data": {
            "text/plain": [
              "True"
            ]
          },
          "metadata": {},
          "execution_count": 66
        }
      ]
    },
    {
      "cell_type": "markdown",
      "source": [
        "4   LOGICAL OPRATOR"
      ],
      "metadata": {
        "id": "zIztjyG_aBW6"
      }
    },
    {
      "cell_type": "markdown",
      "source": [
        "AND  --- > AND retuns true if Both of the statement true"
      ],
      "metadata": {
        "id": "3nhSX52ZaJeM"
      }
    },
    {
      "cell_type": "code",
      "source": [
        " X = 6\n",
        " X < 10 and X > 1"
      ],
      "metadata": {
        "colab": {
          "base_uri": "https://localhost:8080/"
        },
        "id": "fDrYDBcJYzqJ",
        "outputId": "d28f7dbe-9772-4d7f-8c4c-976ed44b4ffa"
      },
      "execution_count": null,
      "outputs": [
        {
          "output_type": "execute_result",
          "data": {
            "text/plain": [
              "True"
            ]
          },
          "metadata": {},
          "execution_count": 67
        }
      ]
    },
    {
      "cell_type": "code",
      "source": [
        "x = 6\n",
        "x < 10 and x > 10"
      ],
      "metadata": {
        "colab": {
          "base_uri": "https://localhost:8080/"
        },
        "id": "QY9XhAb3Yzs8",
        "outputId": "10c858b2-211b-4cec-82e7-6fcc6e7fd63f"
      },
      "execution_count": null,
      "outputs": [
        {
          "output_type": "execute_result",
          "data": {
            "text/plain": [
              "False"
            ]
          },
          "metadata": {},
          "execution_count": 69
        }
      ]
    },
    {
      "cell_type": "markdown",
      "source": [
        "OR   -----> Return true if one of the statement are true"
      ],
      "metadata": {
        "id": "hhL-IpmxbeEa"
      }
    },
    {
      "cell_type": "code",
      "source": [
        "X = 8\n",
        "X < 10 or X>12"
      ],
      "metadata": {
        "colab": {
          "base_uri": "https://localhost:8080/"
        },
        "id": "eL54S5UrYzv7",
        "outputId": "c0a81974-7b0f-49b9-ab79-d90e9c99ca06"
      },
      "execution_count": null,
      "outputs": [
        {
          "output_type": "execute_result",
          "data": {
            "text/plain": [
              "True"
            ]
          },
          "metadata": {},
          "execution_count": 70
        }
      ]
    },
    {
      "cell_type": "code",
      "source": [
        "x = 8\n",
        "X < 7 or X > 12"
      ],
      "metadata": {
        "colab": {
          "base_uri": "https://localhost:8080/"
        },
        "id": "KpXGP4AQYzy7",
        "outputId": "5717a3aa-f89e-4560-aab2-1798c37becfb"
      },
      "execution_count": null,
      "outputs": [
        {
          "output_type": "execute_result",
          "data": {
            "text/plain": [
              "False"
            ]
          },
          "metadata": {},
          "execution_count": 72
        }
      ]
    },
    {
      "cell_type": "code",
      "source": [
        "X = 120\n",
        "X < 11 or X > 110"
      ],
      "metadata": {
        "colab": {
          "base_uri": "https://localhost:8080/"
        },
        "id": "V5OSUICgcDSR",
        "outputId": "62e95ebf-25c1-430d-de7a-2a97565f3a91"
      },
      "execution_count": null,
      "outputs": [
        {
          "output_type": "execute_result",
          "data": {
            "text/plain": [
              "True"
            ]
          },
          "metadata": {},
          "execution_count": 74
        }
      ]
    },
    {
      "cell_type": "markdown",
      "source": [
        "NOT -----> Return  the results reverse  "
      ],
      "metadata": {
        "id": "THN0RBxpcYcu"
      }
    },
    {
      "cell_type": "code",
      "source": [
        "X = True\n",
        "not x"
      ],
      "metadata": {
        "colab": {
          "base_uri": "https://localhost:8080/"
        },
        "id": "6QPqU8s_cDVt",
        "outputId": "0b0aca4c-6f99-4563-ec1e-9402c7a2f124"
      },
      "execution_count": null,
      "outputs": [
        {
          "output_type": "execute_result",
          "data": {
            "text/plain": [
              "False"
            ]
          },
          "metadata": {},
          "execution_count": 75
        }
      ]
    },
    {
      "cell_type": "code",
      "source": [
        "X = False\n",
        "not X"
      ],
      "metadata": {
        "colab": {
          "base_uri": "https://localhost:8080/"
        },
        "id": "VoMz0l8ccDY0",
        "outputId": "c1bf085a-60a9-4ab6-fcc8-baf17a903506"
      },
      "execution_count": null,
      "outputs": [
        {
          "output_type": "execute_result",
          "data": {
            "text/plain": [
              "True"
            ]
          },
          "metadata": {},
          "execution_count": 76
        }
      ]
    },
    {
      "cell_type": "markdown",
      "source": [
        "IDENTITY OPRATOR : It compare memory locations of two objects."
      ],
      "metadata": {
        "id": "LkDdU-7pdCHz"
      }
    },
    {
      "cell_type": "markdown",
      "source": [
        "\"is\" Oprator"
      ],
      "metadata": {
        "id": "uXHy6J2PddSt"
      }
    },
    {
      "cell_type": "code",
      "source": [
        "X = 10\n",
        "Y = 10\n",
        "X is Y"
      ],
      "metadata": {
        "colab": {
          "base_uri": "https://localhost:8080/"
        },
        "id": "UgL3kH8ZcDeo",
        "outputId": "ee2fd320-82a7-4639-b5e6-492c24b2707b"
      },
      "execution_count": null,
      "outputs": [
        {
          "output_type": "execute_result",
          "data": {
            "text/plain": [
              "True"
            ]
          },
          "metadata": {},
          "execution_count": 77
        }
      ]
    },
    {
      "cell_type": "code",
      "source": [
        "X = 10\n",
        "Y = 9\n",
        "X is Y"
      ],
      "metadata": {
        "colab": {
          "base_uri": "https://localhost:8080/"
        },
        "id": "VpCKyZbTcDhp",
        "outputId": "82006c55-2206-4095-ce2d-50c0c217528d"
      },
      "execution_count": null,
      "outputs": [
        {
          "output_type": "execute_result",
          "data": {
            "text/plain": [
              "False"
            ]
          },
          "metadata": {},
          "execution_count": 78
        }
      ]
    },
    {
      "cell_type": "markdown",
      "source": [
        "\"is not \" Oprator"
      ],
      "metadata": {
        "id": "F8hXE8G8dxwN"
      }
    },
    {
      "cell_type": "code",
      "source": [
        "X = 10\n",
        "Y = 20\n",
        "X is not Y"
      ],
      "metadata": {
        "colab": {
          "base_uri": "https://localhost:8080/"
        },
        "id": "aHIEq83xcDk5",
        "outputId": "816b92bd-5475-4f99-83b8-e7ba521b2c24"
      },
      "execution_count": null,
      "outputs": [
        {
          "output_type": "execute_result",
          "data": {
            "text/plain": [
              "True"
            ]
          },
          "metadata": {},
          "execution_count": 79
        }
      ]
    },
    {
      "cell_type": "code",
      "source": [
        "X = 10\n",
        "Y = 10\n",
        "X is not Y"
      ],
      "metadata": {
        "colab": {
          "base_uri": "https://localhost:8080/"
        },
        "id": "EWHCC2X7cDoN",
        "outputId": "2395a539-dd60-4f7a-ddba-ff10fd3ffe10"
      },
      "execution_count": null,
      "outputs": [
        {
          "output_type": "execute_result",
          "data": {
            "text/plain": [
              "False"
            ]
          },
          "metadata": {},
          "execution_count": 82
        }
      ]
    },
    {
      "cell_type": "markdown",
      "source": [
        "Membership Oprator\n"
      ],
      "metadata": {
        "id": "1Q9XoRcsmQ80"
      }
    },
    {
      "cell_type": "markdown",
      "source": [
        "\"in\" Oprator"
      ],
      "metadata": {
        "id": "8v1k92CrmdDb"
      }
    },
    {
      "cell_type": "code",
      "source": [
        "t=(3,4,7,5,8)\n",
        "5 in t"
      ],
      "metadata": {
        "colab": {
          "base_uri": "https://localhost:8080/"
        },
        "id": "yECXTGh7cDrL",
        "outputId": "df130623-00f1-47ea-bf98-e103f58ce6c9"
      },
      "execution_count": null,
      "outputs": [
        {
          "output_type": "execute_result",
          "data": {
            "text/plain": [
              "True"
            ]
          },
          "metadata": {},
          "execution_count": 83
        }
      ]
    },
    {
      "cell_type": "code",
      "source": [
        "t=(3,4,7,5,8)\n",
        "10 in t"
      ],
      "metadata": {
        "colab": {
          "base_uri": "https://localhost:8080/"
        },
        "id": "m-JDaaMicDt6",
        "outputId": "8b9680c9-aac3-41b3-a797-6c962a2649a5"
      },
      "execution_count": null,
      "outputs": [
        {
          "output_type": "execute_result",
          "data": {
            "text/plain": [
              "False"
            ]
          },
          "metadata": {},
          "execution_count": 84
        }
      ]
    },
    {
      "cell_type": "markdown",
      "source": [
        "\" not in \" Oprator"
      ],
      "metadata": {
        "id": "RtNIFht4myLy"
      }
    },
    {
      "cell_type": "code",
      "source": [
        "t=(3,4,7,5,8)\n",
        "5 not in t"
      ],
      "metadata": {
        "colab": {
          "base_uri": "https://localhost:8080/"
        },
        "id": "IMdN8lIVcDxI",
        "outputId": "3a591fa9-c887-41c2-887f-a11813de3df8"
      },
      "execution_count": null,
      "outputs": [
        {
          "output_type": "execute_result",
          "data": {
            "text/plain": [
              "False"
            ]
          },
          "metadata": {},
          "execution_count": 85
        }
      ]
    },
    {
      "cell_type": "code",
      "source": [
        "t=(3,4,7,5,8)\n",
        "10 not in t"
      ],
      "metadata": {
        "colab": {
          "base_uri": "https://localhost:8080/"
        },
        "id": "zthVY5JQmvo9",
        "outputId": "d1750e58-dd5e-4439-9ed1-35c1d7a8bc1e"
      },
      "execution_count": null,
      "outputs": [
        {
          "output_type": "execute_result",
          "data": {
            "text/plain": [
              "True"
            ]
          },
          "metadata": {},
          "execution_count": 86
        }
      ]
    },
    {
      "cell_type": "markdown",
      "source": [
        "String Formating"
      ],
      "metadata": {
        "id": "imcF_EQmEy8o"
      }
    },
    {
      "cell_type": "code",
      "source": [
        "first_name = 'Rose'\n",
        "last_name = 'Mary'\n",
        "print('Hello ! I am {} {}'.format(first_name,last_name))"
      ],
      "metadata": {
        "id": "1cUaO1Nlmvqg",
        "colab": {
          "base_uri": "https://localhost:8080/"
        },
        "outputId": "5d9fb380-4c1f-431e-c244-9a15732f2143"
      },
      "execution_count": null,
      "outputs": [
        {
          "output_type": "stream",
          "name": "stdout",
          "text": [
            "Hello ! I am Rose Mary\n"
          ]
        }
      ]
    },
    {
      "cell_type": "code",
      "source": [
        "first_name = 'Rose'\n",
        "last_name = 'Mary'\n",
        "print('Hello ! I am {0} {1}'.format(first_name,last_name))"
      ],
      "metadata": {
        "id": "fHO6qJKJmvti",
        "colab": {
          "base_uri": "https://localhost:8080/"
        },
        "outputId": "0e85d20d-3d58-480b-9f1b-4b1ee0e47326"
      },
      "execution_count": null,
      "outputs": [
        {
          "output_type": "stream",
          "name": "stdout",
          "text": [
            "Hello ! I am Rose Mary\n"
          ]
        }
      ]
    },
    {
      "cell_type": "code",
      "source": [
        "first_name = 'Rose'\n",
        "last_name = 'Mary'\n",
        "print(f'Hello ! I am {first_name} {last_name}')"
      ],
      "metadata": {
        "id": "_wPchiMZmvvS",
        "colab": {
          "base_uri": "https://localhost:8080/"
        },
        "outputId": "c13e9888-37ac-4dc1-bf18-57472ea0f8f6"
      },
      "execution_count": null,
      "outputs": [
        {
          "output_type": "stream",
          "name": "stdout",
          "text": [
            "Hello ! I am Rose Mary\n"
          ]
        }
      ]
    },
    {
      "cell_type": "code",
      "source": [
        "f_name = 'Krshna'\n",
        "age = 'not defined'\n",
        "print(f'{f_name} is suprime godest of the god whose age is {age}')"
      ],
      "metadata": {
        "id": "K4vMTQOLcD0Z",
        "colab": {
          "base_uri": "https://localhost:8080/"
        },
        "outputId": "ebb82d8d-6e33-4e01-93c3-62b050645265"
      },
      "execution_count": null,
      "outputs": [
        {
          "output_type": "stream",
          "name": "stdout",
          "text": [
            "Krshna is suprime godest of the god whose age is not defined\n"
          ]
        }
      ]
    },
    {
      "cell_type": "markdown",
      "source": [
        "Strings Methods"
      ],
      "metadata": {
        "id": "TL-JWwp0HOhA"
      }
    },
    {
      "cell_type": "code",
      "source": [
        "# Captitalize () Method\n",
        "s='bollywood'\n",
        "s.capitalize()"
      ],
      "metadata": {
        "colab": {
          "base_uri": "https://localhost:8080/",
          "height": 35
        },
        "id": "2zByGG3qGNQu",
        "outputId": "8f8a08fd-9371-4f35-f36c-1b96f1a6e940"
      },
      "execution_count": null,
      "outputs": [
        {
          "output_type": "execute_result",
          "data": {
            "text/plain": [
              "'Bollywood'"
            ],
            "application/vnd.google.colaboratory.intrinsic+json": {
              "type": "string"
            }
          },
          "metadata": {},
          "execution_count": 6
        }
      ]
    },
    {
      "cell_type": "code",
      "source": [
        "# lower() method\n",
        "s1='CINEMA'\n",
        "s1.lower()"
      ],
      "metadata": {
        "colab": {
          "base_uri": "https://localhost:8080/",
          "height": 35
        },
        "id": "36jKYOohGNT7",
        "outputId": "397c5da1-c091-4942-9d71-336906a25d29"
      },
      "execution_count": null,
      "outputs": [
        {
          "output_type": "execute_result",
          "data": {
            "text/plain": [
              "'cinema'"
            ],
            "application/vnd.google.colaboratory.intrinsic+json": {
              "type": "string"
            }
          },
          "metadata": {},
          "execution_count": 7
        }
      ]
    },
    {
      "cell_type": "code",
      "source": [
        "# upper() method\n",
        "a = 'movie'\n",
        "a.upper()"
      ],
      "metadata": {
        "colab": {
          "base_uri": "https://localhost:8080/",
          "height": 35
        },
        "id": "OzPLFfCsGNW_",
        "outputId": "51f918fd-5c64-43f0-dc4e-016ba5450006"
      },
      "execution_count": null,
      "outputs": [
        {
          "output_type": "execute_result",
          "data": {
            "text/plain": [
              "'MOVIE'"
            ],
            "application/vnd.google.colaboratory.intrinsic+json": {
              "type": "string"
            }
          },
          "metadata": {},
          "execution_count": 8
        }
      ]
    },
    {
      "cell_type": "code",
      "source": [
        "# join() method\n",
        "s1 = ['Ram','Shyam','Mohan','Govind','Krshna']\n",
        "x=\" \".join(s1)\n",
        "x"
      ],
      "metadata": {
        "colab": {
          "base_uri": "https://localhost:8080/",
          "height": 35
        },
        "id": "i_MHvjEsGNZ8",
        "outputId": "e82b9500-3576-4d9f-a6ca-8b524d07933b"
      },
      "execution_count": null,
      "outputs": [
        {
          "output_type": "execute_result",
          "data": {
            "text/plain": [
              "'Ram Shyam Mohan Govind Krshna'"
            ],
            "application/vnd.google.colaboratory.intrinsic+json": {
              "type": "string"
            }
          },
          "metadata": {},
          "execution_count": 13
        }
      ]
    },
    {
      "cell_type": "code",
      "source": [
        "# len()function -- Space also counted\n",
        "s='Python Programming Language'\n",
        "len(s)"
      ],
      "metadata": {
        "colab": {
          "base_uri": "https://localhost:8080/"
        },
        "id": "C48CwyF2GNdA",
        "outputId": "dbd6f163-198d-4d21-bea5-c00cce2024c5"
      },
      "execution_count": null,
      "outputs": [
        {
          "output_type": "execute_result",
          "data": {
            "text/plain": [
              "27"
            ]
          },
          "metadata": {},
          "execution_count": 14
        }
      ]
    },
    {
      "cell_type": "code",
      "source": [
        "# Count () function\n",
        "st = 'Lionel Messi'\n",
        "st.count('s')"
      ],
      "metadata": {
        "colab": {
          "base_uri": "https://localhost:8080/"
        },
        "id": "txRjeuJXGNgM",
        "outputId": "b4b33246-a22a-48f7-8d4b-7aa1a44394d0"
      },
      "execution_count": null,
      "outputs": [
        {
          "output_type": "execute_result",
          "data": {
            "text/plain": [
              "2"
            ]
          },
          "metadata": {},
          "execution_count": 16
        }
      ]
    },
    {
      "cell_type": "code",
      "source": [
        "# find () function\n",
        "s = 'Ronaldo'\n",
        "s.find('a')"
      ],
      "metadata": {
        "colab": {
          "base_uri": "https://localhost:8080/"
        },
        "id": "wzEr9XxzGNi9",
        "outputId": "465e50cc-30b5-4fa9-8ebb-f135cf07220e"
      },
      "execution_count": null,
      "outputs": [
        {
          "output_type": "execute_result",
          "data": {
            "text/plain": [
              "3"
            ]
          },
          "metadata": {},
          "execution_count": 18
        }
      ]
    },
    {
      "cell_type": "code",
      "source": [
        "s = 'Ronaldo'\n",
        "s.find('u')"
      ],
      "metadata": {
        "colab": {
          "base_uri": "https://localhost:8080/"
        },
        "id": "B8jd9014GNmK",
        "outputId": "4f8154af-b0b1-42d4-a570-47ff0d74d91b"
      },
      "execution_count": null,
      "outputs": [
        {
          "output_type": "execute_result",
          "data": {
            "text/plain": [
              "-1"
            ]
          },
          "metadata": {},
          "execution_count": 19
        }
      ]
    },
    {
      "cell_type": "code",
      "source": [
        " # islower()\n",
        " s='actor'\n",
        " s.islower()"
      ],
      "metadata": {
        "colab": {
          "base_uri": "https://localhost:8080/"
        },
        "id": "wrCFdb9LJxLO",
        "outputId": "91371182-0554-4f9d-826f-8814f5065672"
      },
      "execution_count": null,
      "outputs": [
        {
          "output_type": "execute_result",
          "data": {
            "text/plain": [
              "True"
            ]
          },
          "metadata": {},
          "execution_count": 20
        }
      ]
    },
    {
      "cell_type": "code",
      "source": [
        "# isupper()\n",
        "a='SONG'\n",
        "a.isupper()"
      ],
      "metadata": {
        "colab": {
          "base_uri": "https://localhost:8080/"
        },
        "id": "emhs8jJCJxOk",
        "outputId": "6f3e8ee7-673d-4f17-91a4-87e575a4ce7e"
      },
      "execution_count": null,
      "outputs": [
        {
          "output_type": "execute_result",
          "data": {
            "text/plain": [
              "True"
            ]
          },
          "metadata": {},
          "execution_count": 21
        }
      ]
    },
    {
      "cell_type": "code",
      "source": [
        "s = 'Ronaldo'\n",
        "s.isupper()"
      ],
      "metadata": {
        "colab": {
          "base_uri": "https://localhost:8080/"
        },
        "id": "es1UgFWyJxRx",
        "outputId": "66df27e7-0541-4903-9b59-247cf5d60080"
      },
      "execution_count": null,
      "outputs": [
        {
          "output_type": "execute_result",
          "data": {
            "text/plain": [
              "False"
            ]
          },
          "metadata": {},
          "execution_count": 22
        }
      ]
    },
    {
      "cell_type": "code",
      "source": [
        "# split() Method\n",
        "s = 'Data+Science'\n",
        "s.split('+')"
      ],
      "metadata": {
        "colab": {
          "base_uri": "https://localhost:8080/"
        },
        "id": "8Y_ARFXnJxUj",
        "outputId": "9f375eb3-0cb2-4811-8a67-0b9c910331f2"
      },
      "execution_count": null,
      "outputs": [
        {
          "output_type": "execute_result",
          "data": {
            "text/plain": [
              "['Data', 'Science']"
            ]
          },
          "metadata": {},
          "execution_count": 23
        }
      ]
    },
    {
      "cell_type": "code",
      "source": [
        "s1 ='Data Science'\n",
        "s1.split(\" \")"
      ],
      "metadata": {
        "colab": {
          "base_uri": "https://localhost:8080/"
        },
        "id": "XCnfxxq0JxXV",
        "outputId": "08659d99-46a0-4a72-bd73-a1d10962175c"
      },
      "execution_count": null,
      "outputs": [
        {
          "output_type": "execute_result",
          "data": {
            "text/plain": [
              "['Data', 'Science']"
            ]
          },
          "metadata": {},
          "execution_count": 27
        }
      ]
    },
    {
      "cell_type": "code",
      "source": [
        "# Strip method\n",
        "s ='   Tom Cruise'\n",
        "s.strip()"
      ],
      "metadata": {
        "colab": {
          "base_uri": "https://localhost:8080/",
          "height": 35
        },
        "id": "wpffd22XJxaS",
        "outputId": "0fc94946-0c72-40f5-8bae-d81f2d7f7138"
      },
      "execution_count": null,
      "outputs": [
        {
          "output_type": "execute_result",
          "data": {
            "text/plain": [
              "'Tom Cruise'"
            ],
            "application/vnd.google.colaboratory.intrinsic+json": {
              "type": "string"
            }
          },
          "metadata": {},
          "execution_count": 28
        }
      ]
    },
    {
      "cell_type": "markdown",
      "source": [
        "User Input"
      ],
      "metadata": {
        "id": "wbOqhxj_LON6"
      }
    },
    {
      "cell_type": "code",
      "source": [
        "input()"
      ],
      "metadata": {
        "colab": {
          "base_uri": "https://localhost:8080/",
          "height": 52
        },
        "id": "1UBZhURKJx3g",
        "outputId": "0dee6053-d6f0-4854-aa11-19cc64c0e0bb"
      },
      "execution_count": null,
      "outputs": [
        {
          "name": "stdout",
          "output_type": "stream",
          "text": [
            "Nice function\n"
          ]
        },
        {
          "output_type": "execute_result",
          "data": {
            "text/plain": [
              "'Nice function'"
            ],
            "application/vnd.google.colaboratory.intrinsic+json": {
              "type": "string"
            }
          },
          "metadata": {},
          "execution_count": 29
        }
      ]
    },
    {
      "cell_type": "code",
      "source": [
        "input('Enter Any Number:')"
      ],
      "metadata": {
        "colab": {
          "base_uri": "https://localhost:8080/",
          "height": 52
        },
        "id": "BuA2j7hZJx6i",
        "outputId": "35e366b0-6f4a-4f99-902c-7a36f49138cf"
      },
      "execution_count": null,
      "outputs": [
        {
          "name": "stdout",
          "output_type": "stream",
          "text": [
            "Enter Any Number:100\n"
          ]
        },
        {
          "output_type": "execute_result",
          "data": {
            "text/plain": [
              "'100'"
            ],
            "application/vnd.google.colaboratory.intrinsic+json": {
              "type": "string"
            }
          },
          "metadata": {},
          "execution_count": 31
        }
      ]
    },
    {
      "cell_type": "code",
      "source": [
        "x=input()"
      ],
      "metadata": {
        "colab": {
          "base_uri": "https://localhost:8080/"
        },
        "id": "OTBZ9re_Lr0S",
        "outputId": "26c400ac-6850-4754-aa81-5de1f115d262"
      },
      "execution_count": null,
      "outputs": [
        {
          "name": "stdout",
          "output_type": "stream",
          "text": [
            "Python\n"
          ]
        }
      ]
    },
    {
      "cell_type": "code",
      "source": [
        "x=input(\"Enter your name: \")"
      ],
      "metadata": {
        "colab": {
          "base_uri": "https://localhost:8080/"
        },
        "id": "KYdN3c_TLr3e",
        "outputId": "46fe53c9-53ca-488a-e881-78534de00e2e"
      },
      "execution_count": null,
      "outputs": [
        {
          "name": "stdout",
          "output_type": "stream",
          "text": [
            "Enter your name: Bhimrao\n"
          ]
        }
      ]
    },
    {
      "cell_type": "code",
      "source": [
        "x=int(input(\"Enter your age:\"))"
      ],
      "metadata": {
        "colab": {
          "base_uri": "https://localhost:8080/"
        },
        "id": "fpBhsVTkLr6V",
        "outputId": "7641ddb8-1bfd-430e-ffd6-fcd54e2fa196"
      },
      "execution_count": null,
      "outputs": [
        {
          "name": "stdout",
          "output_type": "stream",
          "text": [
            "Enter your age:38\n"
          ]
        }
      ]
    },
    {
      "cell_type": "code",
      "source": [
        "y = float(input('Enter your salary:'))"
      ],
      "metadata": {
        "colab": {
          "base_uri": "https://localhost:8080/"
        },
        "id": "iBIIYt4lMdWA",
        "outputId": "67692b64-14ac-4000-de20-303fac2cb909"
      },
      "execution_count": null,
      "outputs": [
        {
          "name": "stdout",
          "output_type": "stream",
          "text": [
            "Enter your salary:2200000.60\n"
          ]
        }
      ]
    },
    {
      "cell_type": "code",
      "source": [
        "a=int(input(\"Enter First Number:\")) # Type Casting\n",
        "b=int(input(\"Enter Second Number:\"))\n",
        "c=a+b\n",
        "print(\"Sum of two numbers:\",c)"
      ],
      "metadata": {
        "colab": {
          "base_uri": "https://localhost:8080/"
        },
        "id": "YgW5ybyAg3k2",
        "outputId": "f9e132da-c98f-4fe2-c753-b501c87f4d35"
      },
      "execution_count": null,
      "outputs": [
        {
          "output_type": "stream",
          "name": "stdout",
          "text": [
            "Enter First Number:10\n",
            "Enter Second Number:20\n",
            "Sum of two numbers: 30\n"
          ]
        }
      ]
    },
    {
      "cell_type": "code",
      "source": [
        "type(a)"
      ],
      "metadata": {
        "colab": {
          "base_uri": "https://localhost:8080/"
        },
        "id": "cZUWo11BhgiT",
        "outputId": "351b3d8f-6153-4226-9b55-122dfd309b8f"
      },
      "execution_count": null,
      "outputs": [
        {
          "output_type": "execute_result",
          "data": {
            "text/plain": [
              "int"
            ]
          },
          "metadata": {},
          "execution_count": 98
        }
      ]
    },
    {
      "cell_type": "code",
      "source": [
        "type(b)"
      ],
      "metadata": {
        "colab": {
          "base_uri": "https://localhost:8080/"
        },
        "id": "MRB7WHayipX7",
        "outputId": "9540430a-4281-450b-8409-ef6d59f2f92c"
      },
      "execution_count": null,
      "outputs": [
        {
          "output_type": "execute_result",
          "data": {
            "text/plain": [
              "int"
            ]
          },
          "metadata": {},
          "execution_count": 99
        }
      ]
    },
    {
      "cell_type": "code",
      "source": [
        "a=int(input(\"Enter First Number:\")) # Type Casting\n",
        "b=int(input(\"Enter Second Number:\"))\n",
        "c=a/b\n",
        "print(\"Division of two Numbers :\",c)"
      ],
      "metadata": {
        "colab": {
          "base_uri": "https://localhost:8080/"
        },
        "id": "qL7VKnJhi0iI",
        "outputId": "bfee2248-366e-4453-c4a0-b0e377b8645d"
      },
      "execution_count": null,
      "outputs": [
        {
          "output_type": "stream",
          "name": "stdout",
          "text": [
            "Enter First Number:200\n",
            "Enter Second Number:19\n",
            "Division of two Numbers : 10.526315789473685\n"
          ]
        }
      ]
    },
    {
      "cell_type": "code",
      "source": [
        "type(c)"
      ],
      "metadata": {
        "colab": {
          "base_uri": "https://localhost:8080/"
        },
        "id": "D_LoJWOOkVYe",
        "outputId": "a56c07d7-df74-4af5-f8b2-dcbd92d91806"
      },
      "execution_count": null,
      "outputs": [
        {
          "output_type": "execute_result",
          "data": {
            "text/plain": [
              "float"
            ]
          },
          "metadata": {},
          "execution_count": 109
        }
      ]
    },
    {
      "cell_type": "code",
      "source": [
        "a=int(input(\"Enter First Number:\")) # Type Casting\n",
        "b=int(input(\"Enter Second Number:\"))\n",
        "c=round(a/b)\n",
        "print(\"Division of two Numbers :\",c)"
      ],
      "metadata": {
        "colab": {
          "base_uri": "https://localhost:8080/"
        },
        "id": "zkQqUwAnjdFz",
        "outputId": "6ac5c738-d9a3-4b29-81fc-ef864c8aaf62"
      },
      "execution_count": null,
      "outputs": [
        {
          "output_type": "stream",
          "name": "stdout",
          "text": [
            "Enter First Number:200\n",
            "Enter Second Number:19\n",
            "Division of two Numbers : 11\n"
          ]
        }
      ]
    },
    {
      "cell_type": "markdown",
      "source": [
        "**Strings**"
      ],
      "metadata": {
        "id": "tfn0UgqjNXG7"
      }
    },
    {
      "cell_type": "code",
      "source": [
        "# CREATING STRINGS\n",
        "\n",
        "s1 = 'Welcome to Python'\n",
        "s2 = \"Welcome to Python\"\n",
        "S3 = '''Welcome to Python'''\n",
        "S4 = \"\"\"Welcome to Python\"\"\"\n",
        "S5 = '123'"
      ],
      "metadata": {
        "id": "p4V5gGJZkf0M"
      },
      "execution_count": null,
      "outputs": []
    },
    {
      "cell_type": "code",
      "source": [
        "S1 = 'welcome to \"Core Python\" learning'\n",
        "S2 = \"welcome to 'Core Python'learning\""
      ],
      "metadata": {
        "id": "u1w5T6xXPDxs"
      },
      "execution_count": null,
      "outputs": []
    },
    {
      "cell_type": "code",
      "source": [
        "# Length in string\n",
        "str ='Core Python'\n",
        "n = len(str)\n",
        "print(n)"
      ],
      "metadata": {
        "colab": {
          "base_uri": "https://localhost:8080/"
        },
        "id": "OiWyo2pIRch8",
        "outputId": "26ec7e1e-6bc8-46e2-f53c-8f2bd5d95218"
      },
      "execution_count": null,
      "outputs": [
        {
          "output_type": "stream",
          "name": "stdout",
          "text": [
            "11\n"
          ]
        }
      ]
    },
    {
      "cell_type": "code",
      "source": [
        "# Indexing in String\n",
        "str = \"Core Python\"\n",
        "n = len(str)\n",
        "i=0\n",
        "while i<n:\n",
        "  print(str[i], end=' ')\n",
        "  i+=1\n",
        "\n",
        "\n"
      ],
      "metadata": {
        "colab": {
          "base_uri": "https://localhost:8080/"
        },
        "id": "gIfvJjNPR3tP",
        "outputId": "559c0cd8-f298-4832-aebe-7b24eadfde56"
      },
      "execution_count": null,
      "outputs": [
        {
          "output_type": "stream",
          "name": "stdout",
          "text": [
            "C o r e   P y t h o n "
          ]
        }
      ]
    },
    {
      "cell_type": "code",
      "source": [
        "str = \"Core Python\"\n",
        "n = len(str)\n",
        "i=0\n",
        "while i<n:\n",
        "  print(str[i], end=' ')\n",
        "  i+=1\n",
        "print() # Put cursor into new line\n",
        "i=-1\n",
        "while i>=-n:\n",
        "  print(str[i], end=\" \")\n",
        "  i-=1\n",
        "print()\n",
        "i=1\n",
        "n = len(str)\n",
        "while i<=n:\n",
        "  print(str[-i], end=\" \")\n",
        "  i+=1\n"
      ],
      "metadata": {
        "colab": {
          "base_uri": "https://localhost:8080/"
        },
        "id": "Nng15AnjTC_D",
        "outputId": "f4271b93-afe6-4e9d-fbad-4becb98b907b"
      },
      "execution_count": null,
      "outputs": [
        {
          "output_type": "stream",
          "name": "stdout",
          "text": [
            "C o r e   P y t h o n \n",
            "n o h t y P   e r o C \n",
            "n o h t y P   e r o C "
          ]
        }
      ]
    },
    {
      "cell_type": "code",
      "source": [
        "str = 'Core Python'\n",
        "for i in str:\n",
        "  print(i, end=' ')\n",
        "print()\n",
        "for i in str[::-1]:\n",
        "  print(i, end=' ')\n"
      ],
      "metadata": {
        "colab": {
          "base_uri": "https://localhost:8080/"
        },
        "id": "3CzgyJlkUN9O",
        "outputId": "87830374-e74b-48cf-e431-a3a630f409da"
      },
      "execution_count": null,
      "outputs": [
        {
          "output_type": "stream",
          "name": "stdout",
          "text": [
            "C o r e   P y t h o n \n",
            "n o h t y P   e r o C "
          ]
        }
      ]
    },
    {
      "cell_type": "markdown",
      "source": [
        "Slicing the String"
      ],
      "metadata": {
        "id": "nnoaSCSfaNze"
      }
    },
    {
      "cell_type": "code",
      "source": [
        "# stringname[start: stop: stepsize]\n",
        "\n",
        "str = 'Core Python'\n",
        "str[0:9:1]"
      ],
      "metadata": {
        "colab": {
          "base_uri": "https://localhost:8080/",
          "height": 35
        },
        "id": "NAwHfCeXaFMZ",
        "outputId": "63d5f4e6-9eac-418f-c68f-ed7ffb21d264"
      },
      "execution_count": null,
      "outputs": [
        {
          "output_type": "execute_result",
          "data": {
            "text/plain": [
              "'Core Pyth'"
            ],
            "application/vnd.google.colaboratory.intrinsic+json": {
              "type": "string"
            }
          },
          "metadata": {},
          "execution_count": 54
        }
      ]
    },
    {
      "cell_type": "code",
      "source": [
        "str = 'Core Python'\n",
        "str[0:10:1]"
      ],
      "metadata": {
        "colab": {
          "base_uri": "https://localhost:8080/",
          "height": 35
        },
        "id": "vDLqY5NqatxJ",
        "outputId": "6c3e0b45-2168-47b7-b355-d7ba68cf2852"
      },
      "execution_count": null,
      "outputs": [
        {
          "output_type": "execute_result",
          "data": {
            "text/plain": [
              "'Core Pytho'"
            ],
            "application/vnd.google.colaboratory.intrinsic+json": {
              "type": "string"
            }
          },
          "metadata": {},
          "execution_count": 55
        }
      ]
    },
    {
      "cell_type": "code",
      "source": [
        "str = 'Core Python'\n",
        "str[0:11:1]"
      ],
      "metadata": {
        "colab": {
          "base_uri": "https://localhost:8080/",
          "height": 35
        },
        "id": "05Fmt1lzayoM",
        "outputId": "91fdac9e-4a13-45ce-86b8-e79f7eab32da"
      },
      "execution_count": null,
      "outputs": [
        {
          "output_type": "execute_result",
          "data": {
            "text/plain": [
              "'Core Python'"
            ],
            "application/vnd.google.colaboratory.intrinsic+json": {
              "type": "string"
            }
          },
          "metadata": {},
          "execution_count": 56
        }
      ]
    },
    {
      "cell_type": "code",
      "source": [
        "str = 'Core Python'\n",
        "str[0:2:1]"
      ],
      "metadata": {
        "colab": {
          "base_uri": "https://localhost:8080/",
          "height": 35
        },
        "id": "XPiEWpOva3ss",
        "outputId": "5e76cfd0-68f8-4dba-a62a-1b75efd37cbb"
      },
      "execution_count": null,
      "outputs": [
        {
          "output_type": "execute_result",
          "data": {
            "text/plain": [
              "'Co'"
            ],
            "application/vnd.google.colaboratory.intrinsic+json": {
              "type": "string"
            }
          },
          "metadata": {},
          "execution_count": 57
        }
      ]
    },
    {
      "cell_type": "code",
      "source": [
        "str = 'Core Python'\n",
        "str[0:11:]"
      ],
      "metadata": {
        "colab": {
          "base_uri": "https://localhost:8080/",
          "height": 35
        },
        "id": "9-I_29IOa7mz",
        "outputId": "1523fdd0-210f-4602-a12a-152fa14099e6"
      },
      "execution_count": null,
      "outputs": [
        {
          "output_type": "execute_result",
          "data": {
            "text/plain": [
              "'Core Python'"
            ],
            "application/vnd.google.colaboratory.intrinsic+json": {
              "type": "string"
            }
          },
          "metadata": {},
          "execution_count": 58
        }
      ]
    },
    {
      "cell_type": "code",
      "source": [
        "str = 'Core Python'\n",
        "str[0:4:1]"
      ],
      "metadata": {
        "colab": {
          "base_uri": "https://localhost:8080/",
          "height": 35
        },
        "id": "amfDkMY4bAKN",
        "outputId": "5352ccb7-392e-45f0-b1e1-d011b45dd4b9"
      },
      "execution_count": null,
      "outputs": [
        {
          "output_type": "execute_result",
          "data": {
            "text/plain": [
              "'Core'"
            ],
            "application/vnd.google.colaboratory.intrinsic+json": {
              "type": "string"
            }
          },
          "metadata": {},
          "execution_count": 59
        }
      ]
    },
    {
      "cell_type": "code",
      "source": [
        "str = 'Core Python'\n",
        "str[4:11:1]"
      ],
      "metadata": {
        "colab": {
          "base_uri": "https://localhost:8080/",
          "height": 35
        },
        "id": "eM9Mx0D4bDIb",
        "outputId": "3420786b-7766-4df5-f6cb-66a197c0bf54"
      },
      "execution_count": null,
      "outputs": [
        {
          "output_type": "execute_result",
          "data": {
            "text/plain": [
              "' Python'"
            ],
            "application/vnd.google.colaboratory.intrinsic+json": {
              "type": "string"
            }
          },
          "metadata": {},
          "execution_count": 60
        }
      ]
    },
    {
      "cell_type": "code",
      "source": [
        "str = 'Core Python'\n",
        "str[1:9:]"
      ],
      "metadata": {
        "colab": {
          "base_uri": "https://localhost:8080/",
          "height": 35
        },
        "id": "lgJthW0PbHeU",
        "outputId": "6136505b-b9d3-4b35-c17c-e33090843eed"
      },
      "execution_count": null,
      "outputs": [
        {
          "output_type": "execute_result",
          "data": {
            "text/plain": [
              "'ore Pyth'"
            ],
            "application/vnd.google.colaboratory.intrinsic+json": {
              "type": "string"
            }
          },
          "metadata": {},
          "execution_count": 61
        }
      ]
    },
    {
      "cell_type": "code",
      "source": [
        "str = 'Core Python'\n",
        "str[:]\n",
        "\n"
      ],
      "metadata": {
        "colab": {
          "base_uri": "https://localhost:8080/",
          "height": 35
        },
        "id": "Dyx6ns-VbKmm",
        "outputId": "8517059c-4cde-4ad0-f800-fb4023fac930"
      },
      "execution_count": null,
      "outputs": [
        {
          "output_type": "execute_result",
          "data": {
            "text/plain": [
              "'Core Python'"
            ],
            "application/vnd.google.colaboratory.intrinsic+json": {
              "type": "string"
            }
          },
          "metadata": {},
          "execution_count": 64
        }
      ]
    },
    {
      "cell_type": "code",
      "source": [
        "str = 'Core Python'\n",
        "str[-2:]"
      ],
      "metadata": {
        "colab": {
          "base_uri": "https://localhost:8080/",
          "height": 35
        },
        "id": "dzlUnEe-bQ_N",
        "outputId": "ed01e821-9f70-4f56-cb63-3fed3aec8e9c"
      },
      "execution_count": null,
      "outputs": [
        {
          "output_type": "execute_result",
          "data": {
            "text/plain": [
              "'on'"
            ],
            "application/vnd.google.colaboratory.intrinsic+json": {
              "type": "string"
            }
          },
          "metadata": {},
          "execution_count": 66
        }
      ]
    },
    {
      "cell_type": "code",
      "source": [
        "str = 'Core Python'\n",
        "str[-11:-1]"
      ],
      "metadata": {
        "colab": {
          "base_uri": "https://localhost:8080/",
          "height": 35
        },
        "id": "EuLarNw5bbL-",
        "outputId": "e08741a1-a434-49e5-d660-bf9a71b3395c"
      },
      "execution_count": null,
      "outputs": [
        {
          "output_type": "execute_result",
          "data": {
            "text/plain": [
              "'Core Pytho'"
            ],
            "application/vnd.google.colaboratory.intrinsic+json": {
              "type": "string"
            }
          },
          "metadata": {},
          "execution_count": 67
        }
      ]
    },
    {
      "cell_type": "code",
      "source": [
        "str = 'Core Python'\n",
        "str[:-1]"
      ],
      "metadata": {
        "colab": {
          "base_uri": "https://localhost:8080/",
          "height": 35
        },
        "id": "NIOzAbdibkmO",
        "outputId": "47b6af8b-fc49-4c30-fe58-99a51be07afe"
      },
      "execution_count": null,
      "outputs": [
        {
          "output_type": "execute_result",
          "data": {
            "text/plain": [
              "'Core Pytho'"
            ],
            "application/vnd.google.colaboratory.intrinsic+json": {
              "type": "string"
            }
          },
          "metadata": {},
          "execution_count": 68
        }
      ]
    },
    {
      "cell_type": "code",
      "source": [
        "str = 'Core Python'\n",
        "str[-6:]"
      ],
      "metadata": {
        "colab": {
          "base_uri": "https://localhost:8080/",
          "height": 35
        },
        "id": "LYMx0lvQbpfr",
        "outputId": "5b613466-3538-409e-d6b6-96c988a3c978"
      },
      "execution_count": null,
      "outputs": [
        {
          "output_type": "execute_result",
          "data": {
            "text/plain": [
              "'Python'"
            ],
            "application/vnd.google.colaboratory.intrinsic+json": {
              "type": "string"
            }
          },
          "metadata": {},
          "execution_count": 69
        }
      ]
    },
    {
      "cell_type": "code",
      "source": [
        "# REPEATING THE STRINGS\n",
        "str = \"Python\"\n",
        "print(str*3)"
      ],
      "metadata": {
        "colab": {
          "base_uri": "https://localhost:8080/"
        },
        "id": "X7C9Nd2gbwKx",
        "outputId": "f04c4940-1d8f-40b7-ed71-dd34f1392235"
      },
      "execution_count": null,
      "outputs": [
        {
          "output_type": "stream",
          "name": "stdout",
          "text": [
            "PythonPythonPython\n"
          ]
        }
      ]
    },
    {
      "cell_type": "code",
      "source": [
        "str = \"Python\"\n",
        "print(str[2:4]*2)"
      ],
      "metadata": {
        "colab": {
          "base_uri": "https://localhost:8080/"
        },
        "id": "lFVdpezscN-W",
        "outputId": "e288abdc-93d7-42e4-9f5d-f336a09b2e31"
      },
      "execution_count": null,
      "outputs": [
        {
          "output_type": "stream",
          "name": "stdout",
          "text": [
            "thth\n"
          ]
        }
      ]
    },
    {
      "cell_type": "code",
      "source": [
        "# REMOVING THE SPACE\n",
        "name ='    Mukesh Deshmukh'\n",
        "print(name.rstrip())\n",
        "print(name.lstrip())\n",
        "print(name.strip())\n"
      ],
      "metadata": {
        "colab": {
          "base_uri": "https://localhost:8080/"
        },
        "id": "SlVl9PLLcvkg",
        "outputId": "c0a54d45-2ce3-4055-e5ab-425191c82c80"
      },
      "execution_count": null,
      "outputs": [
        {
          "output_type": "stream",
          "name": "stdout",
          "text": [
            "    Mukesh Deshmukh\n",
            "Mukesh Deshmukh\n",
            "Mukesh Deshmukh\n"
          ]
        }
      ]
    },
    {
      "cell_type": "code",
      "source": [
        "if  'Mukesh   '=='Mukesh':\n",
        "  print('Welcome')\n",
        "else:\n",
        "  print('Name is not found')"
      ],
      "metadata": {
        "colab": {
          "base_uri": "https://localhost:8080/"
        },
        "id": "k-2zfLRrdfl1",
        "outputId": "98ea9140-3ae8-4182-931b-1b7209008de6"
      },
      "execution_count": null,
      "outputs": [
        {
          "output_type": "stream",
          "name": "stdout",
          "text": [
            "Name is not found\n"
          ]
        }
      ]
    },
    {
      "cell_type": "code",
      "source": [
        "if  'Mukesh'=='Mukesh':\n",
        "  print('Welcome')\n",
        "else:\n",
        "  print('Name is not found')"
      ],
      "metadata": {
        "colab": {
          "base_uri": "https://localhost:8080/"
        },
        "id": "3FXj9tZ7eHNk",
        "outputId": "74ade55d-6427-4963-a37c-bd5f146c2150"
      },
      "execution_count": null,
      "outputs": [
        {
          "output_type": "stream",
          "name": "stdout",
          "text": [
            "Welcome\n"
          ]
        }
      ]
    },
    {
      "cell_type": "code",
      "source": [
        "# FINDING SUB STRING\n",
        "# mainstring.find(substring, beginning, ending)\n",
        "\n",
        "str = input('Enter main string: ')\n",
        "sub = input('Enter sub string: ')\n",
        "n = str.find(sub, 0,len(str))\n",
        "if n==-1:\n",
        "  print('sub string is not found')\n",
        "else:\n",
        "  print('Sub string found at position: ',n+1)\n",
        "\n"
      ],
      "metadata": {
        "colab": {
          "base_uri": "https://localhost:8080/"
        },
        "id": "QprHRnx1eO2z",
        "outputId": "20440f06-4cfe-4b97-a926-dfadee13c8e9"
      },
      "execution_count": null,
      "outputs": [
        {
          "output_type": "stream",
          "name": "stdout",
          "text": [
            "Enter main string: This is book \n",
            "Enter sub string: is\n",
            "Sub string found at position:  3\n"
          ]
        }
      ]
    },
    {
      "cell_type": "code",
      "source": [
        "str = input('Enter main string: ')\n",
        "sub = input('Enter sub string: ')\n",
        "try:\n",
        "  n = str.index(sub, 0, len(str))\n",
        "except ValueError:\n",
        "  print('sub string not found')\n",
        "else:\n",
        "  print('sub string found at position : ',n+1)"
      ],
      "metadata": {
        "colab": {
          "base_uri": "https://localhost:8080/"
        },
        "id": "4RjOqBDKfr5J",
        "outputId": "85efb0c8-84ae-4ed1-f453-9cf63cd214c3"
      },
      "execution_count": null,
      "outputs": [
        {
          "output_type": "stream",
          "name": "stdout",
          "text": [
            "Enter main string: This is book\n",
            "Enter sub string: is\n",
            "sub string found at position :  3\n"
          ]
        }
      ]
    },
    {
      "cell_type": "code",
      "source": [
        "str = input('Enter main string: ')\n",
        "sub = input('Enter sub string: ')\n",
        "\n",
        "i=0\n",
        "flag=False\n",
        "n = len(str)\n",
        "while i<n:\n",
        "  pos = str.find(sub, i,n)\n",
        "  if pos!= -1:\n",
        "    print('Found at posithin: ',pos+1)\n",
        "    i=pos+1\n",
        "    flag=True\n",
        "  else:\n",
        "    i=i+1\n",
        "    if flag ==False:\n",
        "      print('Sub string not found')"
      ],
      "metadata": {
        "colab": {
          "base_uri": "https://localhost:8080/"
        },
        "id": "KXRNYciPhJI2",
        "outputId": "44619a17-a2d5-4651-a8a3-04cd948af63d"
      },
      "execution_count": null,
      "outputs": [
        {
          "output_type": "stream",
          "name": "stdout",
          "text": [
            "Enter main string:  This is book \n",
            "Enter sub string: is\n",
            "Found at posithin:  4\n",
            "Found at posithin:  7\n"
          ]
        }
      ]
    },
    {
      "cell_type": "code",
      "source": [
        "x=[2,3,4]\n",
        "x[-1:]\n"
      ],
      "metadata": {
        "colab": {
          "base_uri": "https://localhost:8080/"
        },
        "id": "xSsCd3rPjawi",
        "outputId": "4df3fc7c-ad8f-4dbb-940b-5a49adab90c8"
      },
      "execution_count": null,
      "outputs": [
        {
          "output_type": "execute_result",
          "data": {
            "text/plain": [
              "[4]"
            ]
          },
          "metadata": {},
          "execution_count": 93
        }
      ]
    },
    {
      "cell_type": "code",
      "source": [
        "x[-1::]\n"
      ],
      "metadata": {
        "colab": {
          "base_uri": "https://localhost:8080/"
        },
        "id": "puvrWR290RUg",
        "outputId": "61ec5c33-c111-4c8d-e113-2626ba807424"
      },
      "execution_count": null,
      "outputs": [
        {
          "output_type": "execute_result",
          "data": {
            "text/plain": [
              "[4]"
            ]
          },
          "metadata": {},
          "execution_count": 94
        }
      ]
    },
    {
      "cell_type": "code",
      "source": [
        "x[::-1]"
      ],
      "metadata": {
        "colab": {
          "base_uri": "https://localhost:8080/"
        },
        "id": "Osy1VXdq0jGR",
        "outputId": "69f7998a-b76a-41cb-abf4-768c05378be6"
      },
      "execution_count": null,
      "outputs": [
        {
          "output_type": "execute_result",
          "data": {
            "text/plain": [
              "[4, 3, 2]"
            ]
          },
          "metadata": {},
          "execution_count": 95
        }
      ]
    },
    {
      "cell_type": "code",
      "source": [
        "t=(100,200)\n",
        "\n",
        "print(t*2)"
      ],
      "metadata": {
        "colab": {
          "base_uri": "https://localhost:8080/"
        },
        "id": "O4P4lhLf00pq",
        "outputId": "4d4d28cd-b54d-43f0-af30-2b55b1dda047"
      },
      "execution_count": null,
      "outputs": [
        {
          "output_type": "stream",
          "name": "stdout",
          "text": [
            "(100, 200, 100, 200)\n"
          ]
        }
      ]
    },
    {
      "cell_type": "markdown",
      "source": [
        "**Dictionary**\n",
        "\n",
        "Dictionary is an unordered of data value,used to store data values like a map , i.e dictionary holds the key:value pair.\n",
        "\n",
        "1 Value in dictionary can be of any data type and can repeat\n",
        "\n",
        "2 Keys in the dictionary must be of immutable type ( string,number,or tuple with immutable ) element and must be unique.\n",
        "\n",
        "3 Dictionay are shown by {} Brakets and Keys:Value pair follwed by commas.\n",
        "\n"
      ],
      "metadata": {
        "id": "wYQuyd6F_hjZ"
      }
    },
    {
      "cell_type": "code",
      "source": [
        "d = {\"brand\":\"ford\",\"Model\":\"Tung\",\"Year\":1964}\n",
        "print(d.keys())\n",
        "print(d.values())"
      ],
      "metadata": {
        "id": "oLZBAT7a1UY7",
        "colab": {
          "base_uri": "https://localhost:8080/"
        },
        "outputId": "981205a1-4f22-401c-a051-f66972cf9c57"
      },
      "execution_count": null,
      "outputs": [
        {
          "output_type": "stream",
          "name": "stdout",
          "text": [
            "dict_keys(['brand', 'Model', 'Year'])\n",
            "dict_values(['ford', 'Tung', 1964])\n"
          ]
        }
      ]
    },
    {
      "cell_type": "code",
      "source": [
        "# Dict() method\n",
        "dict = dict (brand=\"ford\", Model=\"Tung\",Year=1964)\n",
        "print(dict)"
      ],
      "metadata": {
        "colab": {
          "base_uri": "https://localhost:8080/"
        },
        "id": "ysx4iCfxB6LW",
        "outputId": "228a715b-0188-4b24-aaa3-6949eb8c1f97"
      },
      "execution_count": null,
      "outputs": [
        {
          "output_type": "stream",
          "name": "stdout",
          "text": [
            "{'brand': 'ford', 'Model': 'Tung', 'Year': 1964}\n"
          ]
        }
      ]
    },
    {
      "cell_type": "code",
      "source": [
        "# Accesing the item of dict by get() method\n",
        "d.get(\"brand\")"
      ],
      "metadata": {
        "colab": {
          "base_uri": "https://localhost:8080/",
          "height": 35
        },
        "id": "ihwgBIokCn7e",
        "outputId": "502ee924-a2ac-4a22-99d9-07883def55dc"
      },
      "execution_count": null,
      "outputs": [
        {
          "output_type": "execute_result",
          "data": {
            "text/plain": [
              "'ford'"
            ],
            "application/vnd.google.colaboratory.intrinsic+json": {
              "type": "string"
            }
          },
          "metadata": {},
          "execution_count": 5
        }
      ]
    },
    {
      "cell_type": "code",
      "source": [
        "d['brand']"
      ],
      "metadata": {
        "colab": {
          "base_uri": "https://localhost:8080/",
          "height": 35
        },
        "id": "Ci34hNCZDM1m",
        "outputId": "bcbc0646-7f8f-4ef1-f474-352bb19082cf"
      },
      "execution_count": null,
      "outputs": [
        {
          "output_type": "execute_result",
          "data": {
            "text/plain": [
              "'ford'"
            ],
            "application/vnd.google.colaboratory.intrinsic+json": {
              "type": "string"
            }
          },
          "metadata": {},
          "execution_count": 6
        }
      ]
    },
    {
      "cell_type": "markdown",
      "source": [
        "Dictionary are mutable i.e We add new item in dictionary key:value pair."
      ],
      "metadata": {
        "id": "em9YnvTRDoeY"
      }
    },
    {
      "cell_type": "code",
      "source": [
        "# Changing Item\n",
        "d[\"brand\"]='Maruti'\n",
        "d"
      ],
      "metadata": {
        "colab": {
          "base_uri": "https://localhost:8080/"
        },
        "id": "Ut32rLMKDcLS",
        "outputId": "d05ba23d-bf86-4e72-dfdb-5bc7e6230459"
      },
      "execution_count": null,
      "outputs": [
        {
          "output_type": "execute_result",
          "data": {
            "text/plain": [
              "{'brand': 'Maruti', 'Model': 'Tung', 'Year': 1964}"
            ]
          },
          "metadata": {},
          "execution_count": 7
        }
      ]
    },
    {
      "cell_type": "code",
      "source": [
        "# add item\n",
        "d[\"Color\"]=\"Red\"\n",
        "d"
      ],
      "metadata": {
        "colab": {
          "base_uri": "https://localhost:8080/"
        },
        "id": "3FzKE9Q5EJXZ",
        "outputId": "25d3f46a-7d01-46da-92bd-9525b82a531f"
      },
      "execution_count": null,
      "outputs": [
        {
          "output_type": "execute_result",
          "data": {
            "text/plain": [
              "{'brand': 'Maruti', 'Model': 'Tung', 'Year': 1964, 'Color': 'Red'}"
            ]
          },
          "metadata": {},
          "execution_count": 9
        }
      ]
    },
    {
      "cell_type": "markdown",
      "source": [
        "**Opretions on Dictionary**"
      ],
      "metadata": {
        "id": "VNRH61F1FBDC"
      }
    },
    {
      "cell_type": "code",
      "source": [
        "# copy() methods ---> Returns copy of dictionary\n",
        "dict1 = {1:\"Ram\",2:\"Shyam\",3:\"Govid\"}\n",
        "dict2 = dict1.copy()\n",
        "print(dict2)"
      ],
      "metadata": {
        "colab": {
          "base_uri": "https://localhost:8080/"
        },
        "id": "yN7TGaW2Eljq",
        "outputId": "3ef6fc00-208e-4058-f0f4-b7970564a85c"
      },
      "execution_count": null,
      "outputs": [
        {
          "output_type": "stream",
          "name": "stdout",
          "text": [
            "{1: 'Ram', 2: 'Shyam', 3: 'Govid'}\n"
          ]
        }
      ]
    },
    {
      "cell_type": "code",
      "source": [
        "# items() --- > Returns the list containing a Tuple for each Key:Value pair\n",
        "dict2.items()"
      ],
      "metadata": {
        "colab": {
          "base_uri": "https://localhost:8080/"
        },
        "id": "et55a0QxF4Dg",
        "outputId": "5743b1ea-f782-46a8-844e-0e1ec4fd5379"
      },
      "execution_count": null,
      "outputs": [
        {
          "output_type": "execute_result",
          "data": {
            "text/plain": [
              "dict_items([(1, 'Ram'), (2, 'Shyam'), (3, 'Govid')])"
            ]
          },
          "metadata": {},
          "execution_count": 12
        }
      ]
    },
    {
      "cell_type": "code",
      "source": [
        "# keys()---> Returns the list containing dictionary keys\n",
        "dict2.keys()"
      ],
      "metadata": {
        "colab": {
          "base_uri": "https://localhost:8080/"
        },
        "id": "DyyVFI0uGooN",
        "outputId": "62129487-ae6e-465e-b9c6-0b19f792b9ff"
      },
      "execution_count": null,
      "outputs": [
        {
          "output_type": "execute_result",
          "data": {
            "text/plain": [
              "dict_keys([1, 2, 3])"
            ]
          },
          "metadata": {},
          "execution_count": 14
        }
      ]
    },
    {
      "cell_type": "code",
      "source": [
        "# values()----> Returns the list containing dictionary values\n",
        "dict2.values()"
      ],
      "metadata": {
        "colab": {
          "base_uri": "https://localhost:8080/"
        },
        "id": "p2_NGpHUG-Du",
        "outputId": "a65fa9c1-be77-4f45-a473-6226dd5e1d1a"
      },
      "execution_count": null,
      "outputs": [
        {
          "output_type": "execute_result",
          "data": {
            "text/plain": [
              "dict_values(['Ram', 'Shyam', 'Govid'])"
            ]
          },
          "metadata": {},
          "execution_count": 15
        }
      ]
    },
    {
      "cell_type": "code",
      "source": [
        "# POP () ---> Remove the elements from specified key\n",
        "dict1.pop(1)\n",
        "dict1"
      ],
      "metadata": {
        "colab": {
          "base_uri": "https://localhost:8080/"
        },
        "id": "ru8HB4OhHZ2B",
        "outputId": "42494de4-d81c-45cb-f1ff-a19e46affe71"
      },
      "execution_count": null,
      "outputs": [
        {
          "output_type": "execute_result",
          "data": {
            "text/plain": [
              "{2: 'Shyam', 3: 'Govid'}"
            ]
          },
          "metadata": {},
          "execution_count": 16
        }
      ]
    },
    {
      "cell_type": "code",
      "source": [
        "dict1.pop(3)\n",
        "dict1"
      ],
      "metadata": {
        "colab": {
          "base_uri": "https://localhost:8080/"
        },
        "id": "CaKnUFSKH8Wf",
        "outputId": "9b70a299-f247-495a-f55c-8ed6f6022796"
      },
      "execution_count": null,
      "outputs": [
        {
          "output_type": "execute_result",
          "data": {
            "text/plain": [
              "{2: 'Shyam'}"
            ]
          },
          "metadata": {},
          "execution_count": 17
        }
      ]
    },
    {
      "cell_type": "code",
      "source": [
        "# popitem()----> Which remove last inserted key: value pair\n",
        "dict1 = {1:\"Ram\",2:\"Shyam\",3:\"Govid\"}\n",
        "dict1.popitem()\n"
      ],
      "metadata": {
        "colab": {
          "base_uri": "https://localhost:8080/"
        },
        "id": "0VDM5GakIBqv",
        "outputId": "582a71a0-c0b8-46af-80d1-0a39068453b5"
      },
      "execution_count": null,
      "outputs": [
        {
          "output_type": "execute_result",
          "data": {
            "text/plain": [
              "(3, 'Govid')"
            ]
          },
          "metadata": {},
          "execution_count": 21
        }
      ]
    },
    {
      "cell_type": "code",
      "source": [
        "# Update ()-----> Which update the dictionary with the specified keys values pair\n",
        "dict1.update({4:\"Sita\"})\n",
        "dict1\n"
      ],
      "metadata": {
        "colab": {
          "base_uri": "https://localhost:8080/"
        },
        "id": "dbyKifJwIfpx",
        "outputId": "05f71860-0c86-45b7-d4cf-2228992f5212"
      },
      "execution_count": null,
      "outputs": [
        {
          "output_type": "execute_result",
          "data": {
            "text/plain": [
              "{1: 'Ram', 2: 'Shyam', 4: 'Sita'}"
            ]
          },
          "metadata": {},
          "execution_count": 23
        }
      ]
    },
    {
      "cell_type": "code",
      "source": [
        "# clear() ------> Which removes all the element from dictionary\n",
        "dict1\n",
        "dict1.clear()\n",
        "dict1"
      ],
      "metadata": {
        "colab": {
          "base_uri": "https://localhost:8080/"
        },
        "id": "YWsZX9ePJTHm",
        "outputId": "33560041-6d37-4bef-c59e-94ce1f0b9702"
      },
      "execution_count": null,
      "outputs": [
        {
          "output_type": "execute_result",
          "data": {
            "text/plain": [
              "{}"
            ]
          },
          "metadata": {},
          "execution_count": 26
        }
      ]
    },
    {
      "cell_type": "code",
      "source": [
        "# Value () methods which returns a list of values in dictionary\n",
        "dict1 = {1:\"Ram\",2:\"Shyam\",3:\"Govid\"}\n",
        "dict1.values()\n",
        "dict1\n"
      ],
      "metadata": {
        "colab": {
          "base_uri": "https://localhost:8080/"
        },
        "id": "1MJ-6ywoJlVu",
        "outputId": "a30574e8-ea98-4722-9b37-eb1cd7d60be1"
      },
      "execution_count": null,
      "outputs": [
        {
          "output_type": "execute_result",
          "data": {
            "text/plain": [
              "{1: 'Ram', 2: 'Shyam', 3: 'Govid'}"
            ]
          },
          "metadata": {},
          "execution_count": 27
        }
      ]
    },
    {
      "cell_type": "markdown",
      "source": [
        "**Nested Dictionary**\n",
        "\n",
        "Nested Dictionary is a dictionary inside a dictionary. Its a collection of dictionaries into one single dictionary.\n",
        "\n",
        "Nested_dict = {dict1{key1:value1},{dict2{key2:value2}}"
      ],
      "metadata": {
        "id": "2FPWPKyhKs3w"
      }
    },
    {
      "cell_type": "code",
      "source": [
        "Students_marks ={\"Ram\":{\"Math\":20,\"Eng\":30,\"Hindi\":28},\n",
        "                  \"Shyam\":{\"Math\":30,\"Eng\":20,\"Hindi\":29},\n",
        "                     \"Govin\":{\"Math\":30,\"Eng\":30,\"Hindi\":28}}\n",
        "Students_marks"
      ],
      "metadata": {
        "colab": {
          "base_uri": "https://localhost:8080/"
        },
        "id": "EtKn6aM0KTjF",
        "outputId": "2e0c2e64-70b2-4a84-c942-5cfa02be5da8"
      },
      "execution_count": null,
      "outputs": [
        {
          "output_type": "execute_result",
          "data": {
            "text/plain": [
              "{'Ram': {'Math': 20, 'Eng': 30, 'Hindi': 28},\n",
              " 'Shyam': {'Math': 30, 'Eng': 20, 'Hindi': 29},\n",
              " 'Govin': {'Math': 30, 'Eng': 30, 'Hindi': 28}}"
            ]
          },
          "metadata": {},
          "execution_count": 35
        }
      ]
    },
    {
      "cell_type": "code",
      "source": [
        "Students_marks[\"Govin\"]"
      ],
      "metadata": {
        "colab": {
          "base_uri": "https://localhost:8080/"
        },
        "id": "l2DuqzEtNVCp",
        "outputId": "a265b1d8-b7af-443d-94c0-c2de8c7fcd38"
      },
      "execution_count": null,
      "outputs": [
        {
          "output_type": "execute_result",
          "data": {
            "text/plain": [
              "{'Math': 30, 'Eng': 30, 'Hindi': 28}"
            ]
          },
          "metadata": {},
          "execution_count": 36
        }
      ]
    },
    {
      "cell_type": "code",
      "source": [
        "Students_marks[\"Govin\"][\"Math\"]"
      ],
      "metadata": {
        "colab": {
          "base_uri": "https://localhost:8080/"
        },
        "id": "qaHVoegBOUjo",
        "outputId": "2830c8f5-36a4-46d2-9cd3-912f5eb78077"
      },
      "execution_count": null,
      "outputs": [
        {
          "output_type": "execute_result",
          "data": {
            "text/plain": [
              "30"
            ]
          },
          "metadata": {},
          "execution_count": 37
        }
      ]
    },
    {
      "cell_type": "code",
      "source": [
        "Students_marks[\"Krshna\"]={}\n",
        "Students_marks[\"Krshna\"][\"Math\"]=30\n",
        "Students_marks[\"Krshna\"][\"Eng\"]=30\n",
        "Students_marks[\"Krshna\"][\"Hindi\"]=30\n",
        "\n",
        "Students_marks[\"Krshna\"]\n",
        "\n"
      ],
      "metadata": {
        "colab": {
          "base_uri": "https://localhost:8080/"
        },
        "id": "4cj37a_VOqPq",
        "outputId": "c536000f-d796-482e-ccdc-656d07584eee"
      },
      "execution_count": null,
      "outputs": [
        {
          "output_type": "execute_result",
          "data": {
            "text/plain": [
              "{'Math': 30, 'Eng': 30, 'Hindi': 30}"
            ]
          },
          "metadata": {},
          "execution_count": 41
        }
      ]
    },
    {
      "cell_type": "code",
      "source": [
        "Students_marks"
      ],
      "metadata": {
        "colab": {
          "base_uri": "https://localhost:8080/"
        },
        "id": "rXRHngFWPlyf",
        "outputId": "f9981f93-c44e-4517-85b5-a4c2d4c5a5d0"
      },
      "execution_count": null,
      "outputs": [
        {
          "output_type": "execute_result",
          "data": {
            "text/plain": [
              "{'Ram': {'Math': 20, 'Eng': 30, 'Hindi': 28},\n",
              " 'Shyam': {'Math': 30, 'Eng': 20, 'Hindi': 29},\n",
              " 'Govin': {'Math': 30, 'Eng': 30, 'Hindi': 28},\n",
              " 'Krshna': {'Math': 30, 'Eng': 30, 'Hindi': 30}}"
            ]
          },
          "metadata": {},
          "execution_count": 40
        }
      ]
    },
    {
      "cell_type": "code",
      "source": [
        "# Removing items from nested dictionary\n",
        "Students_marks.pop(\"Shyam\")\n",
        "Students_marks"
      ],
      "metadata": {
        "colab": {
          "base_uri": "https://localhost:8080/"
        },
        "id": "Et_XW3XLPxX7",
        "outputId": "c18f1021-d32b-4505-99d2-9fe1d329f9ea"
      },
      "execution_count": null,
      "outputs": [
        {
          "output_type": "execute_result",
          "data": {
            "text/plain": [
              "{'Ram': {'Math': 20, 'Eng': 30, 'Hindi': 28},\n",
              " 'Govin': {'Math': 30, 'Eng': 30, 'Hindi': 28},\n",
              " 'Krshna': {'Math': 30, 'Eng': 30, 'Hindi': 30}}"
            ]
          },
          "metadata": {},
          "execution_count": 42
        }
      ]
    },
    {
      "cell_type": "markdown",
      "source": [
        "Iterating through a nested Dictionary"
      ],
      "metadata": {
        "id": "UuCUeaLnQaK8"
      }
    },
    {
      "cell_type": "code",
      "source": [
        "for name,subjects in Students_marks.items():\n",
        "  print(\"Name of the student\" ,name)\n",
        "  for marks in subjects:\n",
        "    print(marks,\":\",subjects[marks])"
      ],
      "metadata": {
        "colab": {
          "base_uri": "https://localhost:8080/"
        },
        "id": "rufNZcGQQN0V",
        "outputId": "eec2a6e8-b493-42fe-9536-a08bad0111ea"
      },
      "execution_count": null,
      "outputs": [
        {
          "output_type": "stream",
          "name": "stdout",
          "text": [
            "Name of the student Ram\n",
            "Math : 20\n",
            "Eng : 30\n",
            "Hindi : 28\n",
            "Name of the student Govin\n",
            "Math : 30\n",
            "Eng : 30\n",
            "Hindi : 28\n",
            "Name of the student Krshna\n",
            "Math : 30\n",
            "Eng : 30\n",
            "Hindi : 30\n"
          ]
        }
      ]
    },
    {
      "cell_type": "markdown",
      "source": [
        "**Sets in Python**\n",
        "\n",
        "Set is collection which is unordered unindxed.In Python sets are written in {}"
      ],
      "metadata": {
        "id": "aOK7jXNvSqGX"
      }
    },
    {
      "cell_type": "code",
      "source": [
        "# Creating sets\n",
        "s = {\"Apple\",\"Banana\",\"Cherry\"}\n",
        "s"
      ],
      "metadata": {
        "colab": {
          "base_uri": "https://localhost:8080/"
        },
        "id": "Q1Xod7XpRd6N",
        "outputId": "5c12ddde-69a1-4c60-b7c0-45231e091313"
      },
      "execution_count": null,
      "outputs": [
        {
          "output_type": "execute_result",
          "data": {
            "text/plain": [
              "{'Apple', 'Banana', 'Cherry'}"
            ]
          },
          "metadata": {},
          "execution_count": 46
        }
      ]
    },
    {
      "cell_type": "code",
      "source": [
        "# Accesing the elements of sets\n",
        "for i in s:\n",
        "  print(i)"
      ],
      "metadata": {
        "colab": {
          "base_uri": "https://localhost:8080/"
        },
        "id": "9H-eFE9XTiQ_",
        "outputId": "8fb71416-220d-4060-c726-23f73a21660e"
      },
      "execution_count": null,
      "outputs": [
        {
          "output_type": "stream",
          "name": "stdout",
          "text": [
            "Apple\n",
            "Banana\n",
            "Cherry\n"
          ]
        }
      ]
    },
    {
      "cell_type": "code",
      "source": [
        "# add() -----> Add one element into a sets\n",
        "s.add(\"Pineapple\")\n",
        "s"
      ],
      "metadata": {
        "colab": {
          "base_uri": "https://localhost:8080/"
        },
        "id": "6WdkSKjcTx-F",
        "outputId": "e1dd08bc-251a-4bec-afb9-ed83e2dcfa01"
      },
      "execution_count": null,
      "outputs": [
        {
          "output_type": "execute_result",
          "data": {
            "text/plain": [
              "{'Apple', 'Banana', 'Cherry', 'Pineapple'}"
            ]
          },
          "metadata": {},
          "execution_count": 49
        }
      ]
    },
    {
      "cell_type": "code",
      "source": [
        "# update() ---> We can add more than one elements in sets\n",
        "s = {\"Apple\",\"Banana\",\"Cherry\"}\n",
        "s.update({\"Grapes\",\"Mango\",\"Lemon\"})\n",
        "s"
      ],
      "metadata": {
        "colab": {
          "base_uri": "https://localhost:8080/"
        },
        "id": "8qJq8ariUJIG",
        "outputId": "621b6cbc-e04c-49fc-a841-0d07a4685f13"
      },
      "execution_count": null,
      "outputs": [
        {
          "output_type": "execute_result",
          "data": {
            "text/plain": [
              "{'Apple', 'Banana', 'Cherry', 'Grapes', 'Lemon', 'Mango'}"
            ]
          },
          "metadata": {},
          "execution_count": 54
        }
      ]
    },
    {
      "cell_type": "code",
      "source": [
        "s.remove{\"Watermelon\"} # Remove function throwing error if elements are not present in sets But discart\n",
        "s"
      ],
      "metadata": {
        "colab": {
          "base_uri": "https://localhost:8080/",
          "height": 141
        },
        "id": "5aD-rH5qUkKj",
        "outputId": "f30bf89a-97bd-4ab6-8c14-773849e572b2"
      },
      "execution_count": null,
      "outputs": [
        {
          "output_type": "error",
          "ename": "SyntaxError",
          "evalue": "ignored",
          "traceback": [
            "\u001b[0;36m  File \u001b[0;32m\"<ipython-input-55-f8670a9d24f9>\"\u001b[0;36m, line \u001b[0;32m1\u001b[0m\n\u001b[0;31m    s.remove{\"Watermelon\"}\u001b[0m\n\u001b[0m            ^\u001b[0m\n\u001b[0;31mSyntaxError\u001b[0m\u001b[0;31m:\u001b[0m invalid syntax\n"
          ]
        }
      ]
    },
    {
      "cell_type": "code",
      "source": [
        "s.discard(\"Watermelon\") # Discart function not thowing error if elements are not presents in sets\n",
        "s"
      ],
      "metadata": {
        "colab": {
          "base_uri": "https://localhost:8080/"
        },
        "id": "fNwQWEpkVwcc",
        "outputId": "1d85f23e-878d-4487-a7c4-3fadc50117ea"
      },
      "execution_count": null,
      "outputs": [
        {
          "output_type": "execute_result",
          "data": {
            "text/plain": [
              "{'Apple', 'Banana', 'Cherry', 'Grapes', 'Lemon', 'Mango'}"
            ]
          },
          "metadata": {},
          "execution_count": 57
        }
      ]
    },
    {
      "cell_type": "code",
      "source": [
        "s.pop() # pop() function remove one element from sets any where because sets are not indexed and unordered\n",
        "s"
      ],
      "metadata": {
        "colab": {
          "base_uri": "https://localhost:8080/"
        },
        "id": "UHKODvCvV152",
        "outputId": "6a4b3978-228a-4103-cdc4-e4ee7dffcb27"
      },
      "execution_count": null,
      "outputs": [
        {
          "output_type": "execute_result",
          "data": {
            "text/plain": [
              "{'Apple', 'Banana', 'Grapes', 'Lemon', 'Mango'}"
            ]
          },
          "metadata": {},
          "execution_count": 58
        }
      ]
    },
    {
      "cell_type": "code",
      "source": [
        "s = {\"Apple\",\"Banana\",\"Cherry\"}\n",
        "s.clear()\n",
        "s"
      ],
      "metadata": {
        "colab": {
          "base_uri": "https://localhost:8080/"
        },
        "id": "WmFXksFv28gR",
        "outputId": "0545975b-343b-4e32-9d4b-061162577c43"
      },
      "execution_count": null,
      "outputs": [
        {
          "output_type": "execute_result",
          "data": {
            "text/plain": [
              "set()"
            ]
          },
          "metadata": {},
          "execution_count": 5
        }
      ]
    },
    {
      "cell_type": "markdown",
      "source": [
        " **Oprations On Sets **\n",
        "\n",
        " Set can be used for Mathematical oprations\n",
        " 1. Union\n",
        " 2. Intersection\n",
        " 3.Diffrence\n",
        " 4.Symmetric Diffrence\n",
        "  \n",
        "Set Oprations\n",
        "\n",
        "Union Method:\n",
        "Union of two sets is the set of all elements from both the sets. Set Union can be perfrom using two ways.\n",
        "1. | opration\n",
        "2. Union () method\n"
      ],
      "metadata": {
        "id": "GwCG-QBx3h_p"
      }
    },
    {
      "cell_type": "code",
      "source": [
        "# Define two sets\n",
        "A = {1,2,4,7,8}\n",
        "B = {1,2,3,5,9,8}\n",
        "A|B"
      ],
      "metadata": {
        "colab": {
          "base_uri": "https://localhost:8080/"
        },
        "id": "YD8k2NKw3EvC",
        "outputId": "67c7a53a-ff37-467a-bb4a-5abdc1665ae1"
      },
      "execution_count": null,
      "outputs": [
        {
          "output_type": "execute_result",
          "data": {
            "text/plain": [
              "{1, 2, 3, 4, 5, 7, 8, 9}"
            ]
          },
          "metadata": {},
          "execution_count": 6
        }
      ]
    },
    {
      "cell_type": "code",
      "source": [
        "A.union(B)"
      ],
      "metadata": {
        "colab": {
          "base_uri": "https://localhost:8080/"
        },
        "id": "n5InsRdm5t9h",
        "outputId": "8f1e7742-ed16-40f6-a4a1-861a373597d7"
      },
      "execution_count": null,
      "outputs": [
        {
          "output_type": "execute_result",
          "data": {
            "text/plain": [
              "{1, 2, 3, 4, 5, 7, 8, 9}"
            ]
          },
          "metadata": {},
          "execution_count": 7
        }
      ]
    },
    {
      "cell_type": "code",
      "source": [
        "# Set intersection ---> elements that are present in both sets\n",
        "A&B\n"
      ],
      "metadata": {
        "colab": {
          "base_uri": "https://localhost:8080/"
        },
        "id": "iKNPHVlZ58yl",
        "outputId": "1b344e4e-56ae-4da9-a898-1d1b2bf032fd"
      },
      "execution_count": null,
      "outputs": [
        {
          "output_type": "execute_result",
          "data": {
            "text/plain": [
              "{1, 2, 8}"
            ]
          },
          "metadata": {},
          "execution_count": 9
        }
      ]
    },
    {
      "cell_type": "code",
      "source": [
        "A.intersection(B)"
      ],
      "metadata": {
        "colab": {
          "base_uri": "https://localhost:8080/"
        },
        "id": "JrvNOcLV6WBH",
        "outputId": "8b5aa07c-a116-4b1d-f6be-93121beef00a"
      },
      "execution_count": null,
      "outputs": [
        {
          "output_type": "execute_result",
          "data": {
            "text/plain": [
              "{1, 2, 8}"
            ]
          },
          "metadata": {},
          "execution_count": 10
        }
      ]
    },
    {
      "cell_type": "code",
      "source": [
        "B.intersection(A)"
      ],
      "metadata": {
        "colab": {
          "base_uri": "https://localhost:8080/"
        },
        "id": "U3ROTQxD6gWi",
        "outputId": "536d2aa1-eeb6-4ee9-80d5-7934db83e25e"
      },
      "execution_count": null,
      "outputs": [
        {
          "output_type": "execute_result",
          "data": {
            "text/plain": [
              "{1, 2, 8}"
            ]
          },
          "metadata": {},
          "execution_count": 11
        }
      ]
    },
    {
      "cell_type": "code",
      "source": [
        "# Set Diffrence ---> The Set B diffrence from the set A.\n",
        "A = {1,2,4,7,8}\n",
        "B = {1,2,3,5,9,8}\n",
        "A-B"
      ],
      "metadata": {
        "colab": {
          "base_uri": "https://localhost:8080/"
        },
        "id": "sF01Tg5A6mUN",
        "outputId": "07019142-c81d-4e75-89a7-f43676538c50"
      },
      "execution_count": null,
      "outputs": [
        {
          "output_type": "execute_result",
          "data": {
            "text/plain": [
              "{4, 7}"
            ]
          },
          "metadata": {},
          "execution_count": 12
        }
      ]
    },
    {
      "cell_type": "code",
      "source": [
        "B-A"
      ],
      "metadata": {
        "colab": {
          "base_uri": "https://localhost:8080/"
        },
        "id": "6P2liCxl7F3R",
        "outputId": "6ab46037-efa7-49e7-99cd-67c8572dfedf"
      },
      "execution_count": null,
      "outputs": [
        {
          "output_type": "execute_result",
          "data": {
            "text/plain": [
              "{3, 5, 9}"
            ]
          },
          "metadata": {},
          "execution_count": 13
        }
      ]
    },
    {
      "cell_type": "code",
      "source": [
        "# Sets Symmetric Diffrence ---> Not common for both\n",
        "A^B\n"
      ],
      "metadata": {
        "colab": {
          "base_uri": "https://localhost:8080/"
        },
        "id": "XSaTLYPo7Hvv",
        "outputId": "a9eacc5c-7154-43e6-a521-682331eba585"
      },
      "execution_count": null,
      "outputs": [
        {
          "output_type": "execute_result",
          "data": {
            "text/plain": [
              "{3, 4, 5, 7, 9}"
            ]
          },
          "metadata": {},
          "execution_count": 14
        }
      ]
    },
    {
      "cell_type": "code",
      "source": [],
      "metadata": {
        "id": "ZMWZar017hUU"
      },
      "execution_count": null,
      "outputs": []
    }
  ]
}