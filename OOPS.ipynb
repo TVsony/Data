{
  "nbformat": 4,
  "nbformat_minor": 0,
  "metadata": {
    "colab": {
      "provenance": [],
      "mount_file_id": "11Q2tkaZCgdmP19LPsWWI55fMwzlN9ewy",
      "authorship_tag": "ABX9TyNz5DRj+sD1AqZBZClPeZee",
      "include_colab_link": true
    },
    "kernelspec": {
      "name": "python3",
      "display_name": "Python 3"
    },
    "language_info": {
      "name": "python"
    }
  },
  "cells": [
    {
      "cell_type": "markdown",
      "metadata": {
        "id": "view-in-github",
        "colab_type": "text"
      },
      "source": [
        "<a href=\"https://colab.research.google.com/github/TVsony/Data/blob/main/OOPS.ipynb\" target=\"_parent\"><img src=\"https://colab.research.google.com/assets/colab-badge.svg\" alt=\"Open In Colab\"/></a>"
      ]
    },
    {
      "cell_type": "markdown",
      "source": [
        "**OOPS**\n",
        "Object orinented programing systems\n"
      ],
      "metadata": {
        "id": "MoNlpe9eIR26"
      }
    },
    {
      "cell_type": "code",
      "execution_count": 1,
      "metadata": {
        "colab": {
          "base_uri": "https://localhost:8080/"
        },
        "id": "X7j3m7HlIPc2",
        "outputId": "eda9786f-391d-4c7f-cbe0-5924b0edcd44"
      },
      "outputs": [
        {
          "output_type": "stream",
          "name": "stdout",
          "text": [
            "Roll no = 101 Name = Bhimrao Age = 12\n",
            "Roll no = 102 Name = Manjari Age = 13\n",
            "Roll no = 103 Name = Ashwini Age = 14\n"
          ]
        }
      ],
      "source": [
        "class Student:\n",
        "    # Initialization constructor\n",
        "    def __init__(self, rollno, name, age):\n",
        "        self.rollno = rollno\n",
        "        self.name = name\n",
        "        self.age = age\n",
        "\n",
        "    # Creating a display method\n",
        "    def display(self):\n",
        "        print('Roll no =', self.rollno, 'Name =', self.name, 'Age =', self.age)\n",
        "\n",
        "# Creating instances/objects\n",
        "stud1 = Student(101, 'Bhimrao', 12)\n",
        "stud1.display()\n",
        "\n",
        "stud2 = Student(102, 'Manjari', 13)\n",
        "stud2.display()\n",
        "\n",
        "stud3 = Student(103, 'Ashwini', 14)\n",
        "stud3.display()\n",
        "\n",
        "\n"
      ]
    },
    {
      "cell_type": "code",
      "source": [
        "stud1.rollno"
      ],
      "metadata": {
        "colab": {
          "base_uri": "https://localhost:8080/"
        },
        "id": "hbhG63RBfA8J",
        "outputId": "bf3518a9-33c4-403a-96e8-b48511817493"
      },
      "execution_count": 2,
      "outputs": [
        {
          "output_type": "execute_result",
          "data": {
            "text/plain": [
              "101"
            ]
          },
          "metadata": {},
          "execution_count": 2
        }
      ]
    },
    {
      "cell_type": "code",
      "source": [
        "stud1.name"
      ],
      "metadata": {
        "colab": {
          "base_uri": "https://localhost:8080/",
          "height": 35
        },
        "id": "c_KE7nBthbAJ",
        "outputId": "a52af3cc-17c1-4c91-9bf5-3abc71d03f7a"
      },
      "execution_count": 3,
      "outputs": [
        {
          "output_type": "execute_result",
          "data": {
            "text/plain": [
              "'Bhimrao'"
            ],
            "application/vnd.google.colaboratory.intrinsic+json": {
              "type": "string"
            }
          },
          "metadata": {},
          "execution_count": 3
        }
      ]
    },
    {
      "cell_type": "code",
      "source": [
        "stud1.age"
      ],
      "metadata": {
        "colab": {
          "base_uri": "https://localhost:8080/"
        },
        "id": "Rf_aWjJRheKI",
        "outputId": "440c01d6-310b-49bc-ec3d-dd560a10812a"
      },
      "execution_count": 4,
      "outputs": [
        {
          "output_type": "execute_result",
          "data": {
            "text/plain": [
              "12"
            ]
          },
          "metadata": {},
          "execution_count": 4
        }
      ]
    },
    {
      "cell_type": "code",
      "source": [
        "class Employee:\n",
        "    def __init__(self, empname, empsalary):\n",
        "        self.empname = empname\n",
        "        self.empsalary = empsalary\n",
        "\n",
        "    def display(self):\n",
        "        print(\"Employee Name =\", self.empname, \"Employee Salary =\", self.empsalary)\n",
        "\n",
        "emp1 = Employee(\"Bhimrao\", 92000)\n",
        "emp2 = Employee(\"Sandip\", 120000)\n",
        "emp3 = Employee(\"Akash\", 13000)\n",
        "emp4 = Employee(\"Pradip\", 15000)\n",
        "\n",
        "emp1.display()\n",
        "emp2.display()\n",
        "emp3.display()\n",
        "emp4.display()\n",
        "\n",
        "\n"
      ],
      "metadata": {
        "colab": {
          "base_uri": "https://localhost:8080/"
        },
        "id": "4CMeD10bhi1E",
        "outputId": "64f132f4-64f5-4906-cff8-e6d1305d75c1"
      },
      "execution_count": 8,
      "outputs": [
        {
          "output_type": "stream",
          "name": "stdout",
          "text": [
            "Employee Name = Bhimrao Employee Salary = 92000\n",
            "Employee Name = Sandip Employee Salary = 120000\n",
            "Employee Name = Akash Employee Salary = 13000\n",
            "Employee Name = Pradip Employee Salary = 15000\n"
          ]
        }
      ]
    },
    {
      "cell_type": "code",
      "source": [
        "class Student:\n",
        "\n",
        "  fees = 3000\n",
        "  def __init__(self, rollno, name, age):\n",
        "\n",
        "    # Your initialization code here\n",
        "    self.rollno = rollno\n",
        "    self.name = name\n",
        "    self.age = age\n",
        "  def display(self):\n",
        "    print(\"Rollno=\",self.rollno,\"Name =\",self.name,\"Age =\",self.age)\n",
        "\n",
        "stud1 = Student(101,'Andrew',23)\n",
        "stud1.display()\n",
        "\n"
      ],
      "metadata": {
        "colab": {
          "base_uri": "https://localhost:8080/"
        },
        "id": "x0kjXLMBk_6B",
        "outputId": "aa74fe72-ec5d-48c4-e629-a27a52d7d05a"
      },
      "execution_count": 11,
      "outputs": [
        {
          "output_type": "stream",
          "name": "stdout",
          "text": [
            "Rollno= 101 Name = Andrew Age = 23\n"
          ]
        }
      ]
    },
    {
      "cell_type": "code",
      "source": [
        "class Car:\n",
        "    def __init__(self, company, colour):\n",
        "        self.company = company\n",
        "        self.colour = colour\n",
        "\n",
        "    def display(self):\n",
        "        print(\"This is a\", self.company, self.colour)\n",
        "\n",
        "# Creating an instance of the Car class\n",
        "Car1 = Car(\"Ferrari\", \"Red\")\n",
        "Car1.display()\n",
        "\n"
      ],
      "metadata": {
        "colab": {
          "base_uri": "https://localhost:8080/"
        },
        "id": "jNIcIUr8nEDl",
        "outputId": "1e0ab2c5-236e-491a-d7f4-b43b0e915e35"
      },
      "execution_count": 15,
      "outputs": [
        {
          "output_type": "stream",
          "name": "stdout",
          "text": [
            "This is a Ferrari Red\n"
          ]
        }
      ]
    },
    {
      "cell_type": "code",
      "source": [
        "class Player:\n",
        "    def __init__(self, name, age, sport):\n",
        "        print(\"Initialized data for player\")\n",
        "        self.name = name\n",
        "        self.age = age\n",
        "        self.sport = sport\n",
        "\n",
        "    def getdata(self, name, age, sport):\n",
        "        print(\"Getting data for players\")\n",
        "        self.name = name\n",
        "        self.age = age\n",
        "        self.sport = sport\n",
        "\n",
        "    def displaydata(self):\n",
        "        print(\"Player details:\", self.name, self.age, self.sport)\n",
        "\n",
        "def main():\n",
        "    p1 = Player(\"Virat\", 35, \"cricket\")\n",
        "    p1.displaydata()\n",
        "\n",
        "    p1.getdata(\"Richard\", 45, \"Tennis\")\n",
        "    p1.displaydata()\n",
        "\n",
        "    p2 = Player(\"Dhoni\", 39, \"cricket\")\n",
        "    p2.displaydata()\n",
        "\n",
        "    p3 = Player(\"Vivan\", 65, \"cricket\")\n",
        "    p3.displaydata()\n",
        "\n",
        "if __name__ == '__main__':\n",
        "    main()\n"
      ],
      "metadata": {
        "colab": {
          "base_uri": "https://localhost:8080/"
        },
        "id": "y-0cZi7Hqzum",
        "outputId": "aa22a388-fca6-414f-8319-d235fc804241"
      },
      "execution_count": 18,
      "outputs": [
        {
          "output_type": "stream",
          "name": "stdout",
          "text": [
            "Initialized data for player\n",
            "Player details: Virat 35 cricket\n",
            "Getting data for players\n",
            "Player details: Richard 45 Tennis\n",
            "Initialized data for player\n",
            "Player details: Dhoni 39 cricket\n",
            "Initialized data for player\n",
            "Player details: Vivan 65 cricket\n"
          ]
        }
      ]
    },
    {
      "cell_type": "code",
      "source": [
        "class Student:\n",
        "    # constructor\n",
        "    def __init__(self):\n",
        "        self.name = \"Rahul\"\n",
        "        self.age = 43\n",
        "        self.marks = 900\n",
        "\n",
        "    # instance method\n",
        "    def talk(self):\n",
        "        print(\"Hi, I am\", self.name)\n",
        "        print(\"My age is\", self.age)\n",
        "        print(\"My marks are\", self.marks)\n",
        "\n",
        "# Create an instance of the Student class\n",
        "s1 = Student()\n",
        "\n",
        "# Call the method using the instance.\n",
        "s1.talk()\n"
      ],
      "metadata": {
        "colab": {
          "base_uri": "https://localhost:8080/"
        },
        "id": "kax96_oEtmJZ",
        "outputId": "bcb15bcd-459d-451e-d136-0b1d3b56bcaa"
      },
      "execution_count": 21,
      "outputs": [
        {
          "output_type": "stream",
          "name": "stdout",
          "text": [
            "Hi, I am Rahul\n",
            "My age is 43\n",
            "My marks are 900\n"
          ]
        }
      ]
    },
    {
      "cell_type": "code",
      "source": [
        "class Student:\n",
        "    # constructor\n",
        "    def __init__(self, n=\"\", m=0):\n",
        "        self.name = n\n",
        "        self.marks = m\n",
        "\n",
        "    # instance method\n",
        "    def display(self):\n",
        "        print('Hi', self.name)\n",
        "        print(\"Your marks\", self.marks)\n",
        "\n",
        "# Creating an instance of the Student class\n",
        "s1 = Student(\"Mohan Lal\", 880)\n",
        "s1.display()\n",
        "\n"
      ],
      "metadata": {
        "colab": {
          "base_uri": "https://localhost:8080/"
        },
        "id": "0DsielOAyv-R",
        "outputId": "033cac2e-67be-4cf3-a1ab-1733fc73641a"
      },
      "execution_count": 25,
      "outputs": [
        {
          "output_type": "stream",
          "name": "stdout",
          "text": [
            "Hi Mohan Lal\n",
            "Your marks 880\n"
          ]
        }
      ]
    },
    {
      "cell_type": "code",
      "source": [
        "class Sample:\n",
        "  def __init__(self):\n",
        "    self.x =10\n",
        "  def modify(self):\n",
        "    self.x+=1\n",
        "s1 = Sample()\n",
        "s2 = Sample()\n",
        "print(\"X in s1 = \",s1.x)\n",
        "print(\"X in s2 = \",s2.x)\n",
        "print(\"-------------\")\n",
        "\n",
        "# modify x in s1\n",
        "s1.modify()\n",
        "print(\"X in s1 =\",s1.x)\n",
        "print(\"X in s2 =\",s2.x)"
      ],
      "metadata": {
        "colab": {
          "base_uri": "https://localhost:8080/"
        },
        "id": "H4ifhU0M1AHj",
        "outputId": "3c8a752b-76b5-4682-922c-6c09b228fb36"
      },
      "execution_count": 27,
      "outputs": [
        {
          "output_type": "stream",
          "name": "stdout",
          "text": [
            "X in s1 =  10\n",
            "X in s2 =  10\n",
            "-------------\n",
            "X in s1 = 11\n",
            "X in s2 = 10\n"
          ]
        }
      ]
    },
    {
      "cell_type": "code",
      "source": [
        "class Sample:\n",
        "  x=10\n",
        "  def modify(cls):\n",
        "    cls.x+=1\n",
        "s1 = Sample()\n",
        "\n",
        "print(\"X in s1 = \",s1.x)\n",
        "\n",
        "print(\"-------------\")\n",
        "\n",
        "# modify x in s1\n",
        "s1.modify()\n",
        "print(\"X in s1 =\",s1.x)\n"
      ],
      "metadata": {
        "colab": {
          "base_uri": "https://localhost:8080/"
        },
        "id": "-dMrAzwd27nZ",
        "outputId": "1d8e09f9-e4e9-466e-b702-b97923e0401f"
      },
      "execution_count": 30,
      "outputs": [
        {
          "output_type": "stream",
          "name": "stdout",
          "text": [
            "X in s1 =  10\n",
            "-------------\n",
            "X in s1 = 11\n"
          ]
        }
      ]
    },
    {
      "cell_type": "code",
      "source": [],
      "metadata": {
        "id": "fovEznWt37fq"
      },
      "execution_count": null,
      "outputs": []
    }
  ]
}