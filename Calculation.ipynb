{
  "nbformat": 4,
  "nbformat_minor": 0,
  "metadata": {
    "colab": {
      "provenance": [],
      "authorship_tag": "ABX9TyMVO6sxXvKuI9VMLe8bvE45",
      "include_colab_link": true
    },
    "kernelspec": {
      "name": "python3",
      "display_name": "Python 3"
    },
    "language_info": {
      "name": "python"
    }
  },
  "cells": [
    {
      "cell_type": "markdown",
      "metadata": {
        "id": "view-in-github",
        "colab_type": "text"
      },
      "source": [
        "<a href=\"https://colab.research.google.com/github/TVsony/Data/blob/main/Calculation.ipynb\" target=\"_parent\"><img src=\"https://colab.research.google.com/assets/colab-badge.svg\" alt=\"Open In Colab\"/></a>"
      ]
    },
    {
      "cell_type": "code",
      "execution_count": 29,
      "metadata": {
        "id": "UmZLBbY78TCd"
      },
      "outputs": [],
      "source": [
        "# Save it into a .py file.\n",
        "code = \"\"\"\n",
        "def addition(m1, m2):\n",
        "    return m1 + m2\n",
        "\n",
        "def multiplication(m1, m2):\n",
        "    return m1 * m2\n",
        "\n",
        "def subtraction(m1, m2):\n",
        "    return m1 - m2\n",
        "\n",
        "def division(m1, m2):\n",
        "    return m1 / m2\n",
        "\n",
        "def modulus(m1, m2):\n",
        "    return m1 % m2\n",
        "\n",
        "def exponent(m1, m2):\n",
        "    return m1 ** m2\n",
        "\n",
        "def floor_division(m1, m2):\n",
        "    return m1 // m2\n",
        "\n",
        "\n",
        "def add_equal_to(m1, m2):\n",
        "    m1 += m2\n",
        "    return m1\n",
        "\n",
        "def subtract_equal_to(m1, m2):\n",
        "    m1 -= m2\n",
        "    return m1\n",
        "\n",
        "def multiply_equal_to(m1, m2):\n",
        "    m1 *= m2\n",
        "    return m1\n",
        "\n",
        "def divide_equal_to(m1, m2):\n",
        "    m1 /= m2\n",
        "    return m1\n",
        "\n",
        "def modulus_equal_to(m1, m2):\n",
        "    m1 %= m2\n",
        "    return m1\n",
        "\n",
        "def exponent_equal_to(m1, m2):\n",
        "    m1 **= m2\n",
        "    return m1\n",
        "\n",
        "def floor_equal_to(m1, m2):\n",
        "    m1 //= m2\n",
        "    return m1\n",
        "\n",
        "def equal_to(m1, m2):\n",
        "    return m1 == m2\n",
        "\n",
        "def not_equal_to(m1, m2):\n",
        "    return m1 != m2\n",
        "\n",
        "def greater_than(m1, m2):\n",
        "    return m1 > m2\n",
        "\n",
        "def less_than(m1, m2):\n",
        "    return m1 < m2\n",
        "\n",
        "def greater_than_equal_to(m1, m2):\n",
        "    return m1 >= m2\n",
        "\n",
        "def less_than_equal_to(m1, m2):\n",
        "    return m1 <= m2\n",
        "\n",
        "def logical_and(m1, m2):\n",
        "    return m1 < m2 and m2 > m1\n",
        "\n",
        "def logical_or(m1, m2):\n",
        "    return m1 < m2 or m1 > m2\n",
        "\n",
        "def logical_not(m1):\n",
        "    return not m1\n",
        "\"\"\"\n",
        "\n",
        "with open(\"Calculation.py\", \"w\") as file:\n",
        "    file.write(code)\n",
        "\n",
        "\n"
      ]
    },
    {
      "cell_type": "code",
      "source": [
        "import Calculation"
      ],
      "metadata": {
        "id": "auZbg-dn8bW4"
      },
      "execution_count": 4,
      "outputs": []
    },
    {
      "cell_type": "code",
      "source": [
        "Calculation.addition(9,10)"
      ],
      "metadata": {
        "colab": {
          "base_uri": "https://localhost:8080/"
        },
        "id": "sKdw0zCdAnBv",
        "outputId": "1de8a6f8-b1e0-4ee8-fc30-1bd9789c4ca7"
      },
      "execution_count": 5,
      "outputs": [
        {
          "output_type": "execute_result",
          "data": {
            "text/plain": [
              "19"
            ]
          },
          "metadata": {},
          "execution_count": 5
        }
      ]
    },
    {
      "cell_type": "code",
      "source": [
        "Calculation.exponent(2,8)"
      ],
      "metadata": {
        "colab": {
          "base_uri": "https://localhost:8080/"
        },
        "id": "tVR8Ea4AB2Gt",
        "outputId": "a923ecb1-c527-4ad5-a966-fa76bc72636f"
      },
      "execution_count": 9,
      "outputs": [
        {
          "output_type": "execute_result",
          "data": {
            "text/plain": [
              "256"
            ]
          },
          "metadata": {},
          "execution_count": 9
        }
      ]
    },
    {
      "cell_type": "code",
      "source": [
        "Calculation.logical_not(10)"
      ],
      "metadata": {
        "colab": {
          "base_uri": "https://localhost:8080/"
        },
        "id": "HuZwEviTB-3n",
        "outputId": "458329a1-94e6-405f-9028-10d8ab91a322"
      },
      "execution_count": 10,
      "outputs": [
        {
          "output_type": "execute_result",
          "data": {
            "text/plain": [
              "False"
            ]
          },
          "metadata": {},
          "execution_count": 10
        }
      ]
    },
    {
      "cell_type": "code",
      "source": [
        "Calculation.floor_division(10,3)"
      ],
      "metadata": {
        "colab": {
          "base_uri": "https://localhost:8080/"
        },
        "id": "_nG_sghkCWoW",
        "outputId": "1e7a618e-d6a6-48b7-ad58-70220bd59d35"
      },
      "execution_count": 11,
      "outputs": [
        {
          "output_type": "execute_result",
          "data": {
            "text/plain": [
              "3"
            ]
          },
          "metadata": {},
          "execution_count": 11
        }
      ]
    },
    {
      "cell_type": "code",
      "source": [
        "Calculation.subtraction(10,2)"
      ],
      "metadata": {
        "colab": {
          "base_uri": "https://localhost:8080/"
        },
        "id": "M-pyHhCTC2RJ",
        "outputId": "e542ddeb-7831-4330-c71e-c65dd9050bae"
      },
      "execution_count": 15,
      "outputs": [
        {
          "output_type": "execute_result",
          "data": {
            "text/plain": [
              "8"
            ]
          },
          "metadata": {},
          "execution_count": 15
        }
      ]
    },
    {
      "cell_type": "code",
      "source": [
        "Calculation.greater_than_equal_to(10,8)"
      ],
      "metadata": {
        "colab": {
          "base_uri": "https://localhost:8080/"
        },
        "id": "Uo5D2qPtD4ZI",
        "outputId": "7e0b1a1e-2ba6-4956-e363-c36e0bf5458e"
      },
      "execution_count": 16,
      "outputs": [
        {
          "output_type": "execute_result",
          "data": {
            "text/plain": [
              "True"
            ]
          },
          "metadata": {},
          "execution_count": 16
        }
      ]
    },
    {
      "cell_type": "code",
      "source": [
        "Calculation.greater_than_equal_to(10,11)"
      ],
      "metadata": {
        "colab": {
          "base_uri": "https://localhost:8080/"
        },
        "id": "VH9dEtJ0EDWZ",
        "outputId": "00f6159c-b2b6-468d-b3c4-31a4a7d6ffee"
      },
      "execution_count": 17,
      "outputs": [
        {
          "output_type": "execute_result",
          "data": {
            "text/plain": [
              "False"
            ]
          },
          "metadata": {},
          "execution_count": 17
        }
      ]
    },
    {
      "cell_type": "code",
      "source": [],
      "metadata": {
        "id": "RTahRvjqEUEN"
      },
      "execution_count": null,
      "outputs": []
    }
  ]
}