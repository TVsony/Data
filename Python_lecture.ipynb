{
  "nbformat": 4,
  "nbformat_minor": 0,
  "metadata": {
    "colab": {
      "provenance": [],
      "authorship_tag": "ABX9TyPmlmGb0Dad1g078poMiKQ2",
      "include_colab_link": true
    },
    "kernelspec": {
      "name": "python3",
      "display_name": "Python 3"
    },
    "language_info": {
      "name": "python"
    }
  },
  "cells": [
    {
      "cell_type": "markdown",
      "metadata": {
        "id": "view-in-github",
        "colab_type": "text"
      },
      "source": [
        "<a href=\"https://colab.research.google.com/github/TVsony/Data/blob/main/Python_lecture.ipynb\" target=\"_parent\"><img src=\"https://colab.research.google.com/assets/colab-badge.svg\" alt=\"Open In Colab\"/></a>"
      ]
    },
    {
      "cell_type": "markdown",
      "source": [
        "\n",
        " Welcome to Python"
      ],
      "metadata": {
        "id": "hzNX94HEqDJD"
      }
    },
    {
      "cell_type": "code",
      "execution_count": null,
      "metadata": {
        "id": "p-LKD3I6XMcM"
      },
      "outputs": [],
      "source": [
        "# Introduction"
      ]
    },
    {
      "cell_type": "markdown",
      "source": [],
      "metadata": {
        "id": "mNSbdfFzOLxl"
      }
    },
    {
      "cell_type": "code",
      "source": [
        "1+1"
      ],
      "metadata": {
        "colab": {
          "base_uri": "https://localhost:8080/"
        },
        "id": "z-3gS8laN2TO",
        "outputId": "0e9a27eb-9b1f-45d4-da73-7d0014f4c98f"
      },
      "execution_count": null,
      "outputs": [
        {
          "output_type": "execute_result",
          "data": {
            "text/plain": [
              "2"
            ]
          },
          "metadata": {},
          "execution_count": 1
        }
      ]
    },
    {
      "cell_type": "code",
      "source": [
        "2+2"
      ],
      "metadata": {
        "colab": {
          "base_uri": "https://localhost:8080/"
        },
        "id": "Ftu-ldZPN2Ui",
        "outputId": "67182325-85f6-47bf-f5bf-12de5c0d1413"
      },
      "execution_count": null,
      "outputs": [
        {
          "output_type": "execute_result",
          "data": {
            "text/plain": [
              "4"
            ]
          },
          "metadata": {},
          "execution_count": 2
        }
      ]
    },
    {
      "cell_type": "code",
      "source": [
        "2-1"
      ],
      "metadata": {
        "colab": {
          "base_uri": "https://localhost:8080/"
        },
        "id": "I7v_v3NqOUUi",
        "outputId": "911ed5d3-b3fd-4c37-b81c-9d766ef270c5"
      },
      "execution_count": null,
      "outputs": [
        {
          "output_type": "execute_result",
          "data": {
            "text/plain": [
              "1"
            ]
          },
          "metadata": {},
          "execution_count": 4
        }
      ]
    },
    {
      "cell_type": "code",
      "source": [
        "10/2"
      ],
      "metadata": {
        "colab": {
          "base_uri": "https://localhost:8080/"
        },
        "id": "aB2w8U5COe4G",
        "outputId": "972f74b1-b011-47b9-c65b-59f93c3539c3"
      },
      "execution_count": null,
      "outputs": [
        {
          "output_type": "execute_result",
          "data": {
            "text/plain": [
              "5.0"
            ]
          },
          "metadata": {},
          "execution_count": 6
        }
      ]
    },
    {
      "cell_type": "code",
      "source": [
        "3*2"
      ],
      "metadata": {
        "colab": {
          "base_uri": "https://localhost:8080/"
        },
        "id": "KcyePxcHOlzz",
        "outputId": "88e8540c-d1db-4b69-f178-3a82952ddf24"
      },
      "execution_count": null,
      "outputs": [
        {
          "output_type": "execute_result",
          "data": {
            "text/plain": [
              "6"
            ]
          },
          "metadata": {},
          "execution_count": 7
        }
      ]
    },
    {
      "cell_type": "code",
      "source": [
        "220*4"
      ],
      "metadata": {
        "colab": {
          "base_uri": "https://localhost:8080/"
        },
        "id": "XR-gXVpTOzGX",
        "outputId": "6933d21d-7cf6-46a1-9b1e-9a79dd4e0d96"
      },
      "execution_count": null,
      "outputs": [
        {
          "output_type": "execute_result",
          "data": {
            "text/plain": [
              "880"
            ]
          },
          "metadata": {},
          "execution_count": 9
        }
      ]
    },
    {
      "cell_type": "code",
      "source": [
        "10*2"
      ],
      "metadata": {
        "colab": {
          "base_uri": "https://localhost:8080/"
        },
        "id": "MOH6n6ZMOw7o",
        "outputId": "76aac820-8724-4dd5-c3e7-8d1f39392519"
      },
      "execution_count": null,
      "outputs": [
        {
          "output_type": "execute_result",
          "data": {
            "text/plain": [
              "20"
            ]
          },
          "metadata": {},
          "execution_count": 8
        }
      ]
    },
    {
      "cell_type": "code",
      "source": [
        "9//3 # Floor Division Remove Decimal point"
      ],
      "metadata": {
        "colab": {
          "base_uri": "https://localhost:8080/"
        },
        "id": "2eX74Y7xPK0b",
        "outputId": "96d3b147-ebf4-4298-a70a-a26e810ba162"
      },
      "execution_count": null,
      "outputs": [
        {
          "output_type": "execute_result",
          "data": {
            "text/plain": [
              "3"
            ]
          },
          "metadata": {},
          "execution_count": 14
        }
      ]
    },
    {
      "cell_type": "code",
      "source": [
        "9/3 # Normal Division"
      ],
      "metadata": {
        "colab": {
          "base_uri": "https://localhost:8080/"
        },
        "id": "5mietElrPPQy",
        "outputId": "90c2a457-fc86-4c86-c2f4-232db42c8198"
      },
      "execution_count": null,
      "outputs": [
        {
          "output_type": "execute_result",
          "data": {
            "text/plain": [
              "3.0"
            ]
          },
          "metadata": {},
          "execution_count": 12
        }
      ]
    },
    {
      "cell_type": "code",
      "source": [
        "9%3 # Modulus\n"
      ],
      "metadata": {
        "colab": {
          "base_uri": "https://localhost:8080/"
        },
        "id": "_3CponwOPSRP",
        "outputId": "ca06e626-ba81-410d-af0b-67112209bbbb"
      },
      "execution_count": null,
      "outputs": [
        {
          "output_type": "execute_result",
          "data": {
            "text/plain": [
              "0"
            ]
          },
          "metadata": {},
          "execution_count": 20
        }
      ]
    },
    {
      "cell_type": "code",
      "source": [
        "21%2 # Modulus give the remainder"
      ],
      "metadata": {
        "colab": {
          "base_uri": "https://localhost:8080/"
        },
        "id": "rZqc7SBTP3la",
        "outputId": "6c4833c7-8fc0-45cc-f2fd-49237556f383"
      },
      "execution_count": null,
      "outputs": [
        {
          "output_type": "execute_result",
          "data": {
            "text/plain": [
              "1"
            ]
          },
          "metadata": {},
          "execution_count": 22
        }
      ]
    },
    {
      "cell_type": "code",
      "source": [
        "a=2 # variable\n",
        "b=3\n",
        "a*b"
      ],
      "metadata": {
        "colab": {
          "base_uri": "https://localhost:8080/"
        },
        "id": "1yn8Ze1OQDmX",
        "outputId": "b6ef87de-36f3-40d0-a9c0-641c06cf2c90"
      },
      "execution_count": null,
      "outputs": [
        {
          "output_type": "execute_result",
          "data": {
            "text/plain": [
              "6"
            ]
          },
          "metadata": {},
          "execution_count": 24
        }
      ]
    },
    {
      "cell_type": "code",
      "source": [
        "2**2 # power function"
      ],
      "metadata": {
        "colab": {
          "base_uri": "https://localhost:8080/"
        },
        "id": "FzU4mL0kRNMq",
        "outputId": "4b3aaa17-7399-4f83-9ce6-4e9c6f933de6"
      },
      "execution_count": null,
      "outputs": [
        {
          "output_type": "execute_result",
          "data": {
            "text/plain": [
              "4"
            ]
          },
          "metadata": {},
          "execution_count": 28
        }
      ]
    },
    {
      "cell_type": "code",
      "source": [
        "4**3"
      ],
      "metadata": {
        "colab": {
          "base_uri": "https://localhost:8080/"
        },
        "id": "S76miiriRNWB",
        "outputId": "01337059-79a2-470f-b496-0a1ecda514ee"
      },
      "execution_count": null,
      "outputs": [
        {
          "output_type": "execute_result",
          "data": {
            "text/plain": [
              "64"
            ]
          },
          "metadata": {},
          "execution_count": 29
        }
      ]
    },
    {
      "cell_type": "code",
      "source": [],
      "metadata": {
        "id": "Il1eO23ERNY1"
      },
      "execution_count": null,
      "outputs": []
    },
    {
      "cell_type": "code",
      "source": [],
      "metadata": {
        "id": "ACQgx-GpRNZx"
      },
      "execution_count": null,
      "outputs": []
    },
    {
      "cell_type": "code",
      "source": [
        "x,y,z=2,3,4 # variable assigment\n",
        "x,y=1,4\n",
        "x=1\n",
        "a=10\n",
        "b=22\n",
        "c=a+b\n",
        "c"
      ],
      "metadata": {
        "colab": {
          "base_uri": "https://localhost:8080/"
        },
        "id": "DM6IVq1qQaSL",
        "outputId": "0bd38a97-c40b-42cf-abf7-4ce17f61cec3"
      },
      "execution_count": null,
      "outputs": [
        {
          "output_type": "execute_result",
          "data": {
            "text/plain": [
              "32"
            ]
          },
          "metadata": {},
          "execution_count": 32
        }
      ]
    },
    {
      "cell_type": "code",
      "source": [
        "print(\"Hello Python \")"
      ],
      "metadata": {
        "colab": {
          "base_uri": "https://localhost:8080/"
        },
        "id": "dWUcLMcSQt7O",
        "outputId": "9db97aee-9b73-44e7-ee03-c1ba569ad840"
      },
      "execution_count": null,
      "outputs": [
        {
          "output_type": "stream",
          "name": "stdout",
          "text": [
            "Hello Python \n"
          ]
        }
      ]
    },
    {
      "cell_type": "code",
      "source": [
        "country=\"France\""
      ],
      "metadata": {
        "id": "7oJiEZDiRD8U"
      },
      "execution_count": null,
      "outputs": []
    },
    {
      "cell_type": "code",
      "source": [
        "type(country)"
      ],
      "metadata": {
        "colab": {
          "base_uri": "https://localhost:8080/"
        },
        "id": "cPS1JS2qV14i",
        "outputId": "4bb2dc78-4457-450d-99c0-f14c0d391e7c"
      },
      "execution_count": null,
      "outputs": [
        {
          "output_type": "execute_result",
          "data": {
            "text/plain": [
              "str"
            ]
          },
          "metadata": {},
          "execution_count": 34
        }
      ]
    },
    {
      "cell_type": "code",
      "source": [
        "x=90"
      ],
      "metadata": {
        "id": "r5nMl7VaV9V5"
      },
      "execution_count": null,
      "outputs": []
    },
    {
      "cell_type": "code",
      "source": [
        "type(x)"
      ],
      "metadata": {
        "colab": {
          "base_uri": "https://localhost:8080/"
        },
        "id": "LGRi9bDnWF3B",
        "outputId": "198f20ce-16b2-4a63-c787-bb7b56ecfff0"
      },
      "execution_count": null,
      "outputs": [
        {
          "output_type": "execute_result",
          "data": {
            "text/plain": [
              "int"
            ]
          },
          "metadata": {},
          "execution_count": 36
        }
      ]
    },
    {
      "cell_type": "code",
      "source": [
        "x=90.3\n",
        "type(x)"
      ],
      "metadata": {
        "colab": {
          "base_uri": "https://localhost:8080/"
        },
        "id": "aaReT25aWHb5",
        "outputId": "4462a916-9b4b-4f96-bb86-9edd1a1ffa2a"
      },
      "execution_count": null,
      "outputs": [
        {
          "output_type": "execute_result",
          "data": {
            "text/plain": [
              "float"
            ]
          },
          "metadata": {},
          "execution_count": 37
        }
      ]
    },
    {
      "cell_type": "code",
      "source": [
        "city = 19\n",
        "type(city)"
      ],
      "metadata": {
        "colab": {
          "base_uri": "https://localhost:8080/"
        },
        "id": "QRuxH58BWN-t",
        "outputId": "b072cb52-e554-4379-c1a8-b5e246d7267a"
      },
      "execution_count": null,
      "outputs": [
        {
          "output_type": "execute_result",
          "data": {
            "text/plain": [
              "int"
            ]
          },
          "metadata": {},
          "execution_count": 41
        }
      ]
    },
    {
      "cell_type": "markdown",
      "source": [
        "# New Section"
      ],
      "metadata": {
        "id": "IP0sJktyqVdv"
      }
    },
    {
      "cell_type": "code",
      "source": [
        "city=\"London\"\n",
        "# print(City) # Python is case sensitive\n",
        "print('city')"
      ],
      "metadata": {
        "colab": {
          "base_uri": "https://localhost:8080/"
        },
        "id": "bLY7Z6vyWYQY",
        "outputId": "c5d85564-696a-4c82-f0ce-dd4fb3d3a0a3"
      },
      "execution_count": null,
      "outputs": [
        {
          "output_type": "stream",
          "name": "stdout",
          "text": [
            "city\n"
          ]
        }
      ]
    },
    {
      "cell_type": "code",
      "source": [
        "print(city)"
      ],
      "metadata": {
        "colab": {
          "base_uri": "https://localhost:8080/"
        },
        "id": "LgMXrrbiX9Mg",
        "outputId": "f3c1e0be-c180-4702-8485-d0163508b96a"
      },
      "execution_count": null,
      "outputs": [
        {
          "output_type": "stream",
          "name": "stdout",
          "text": [
            "London\n"
          ]
        }
      ]
    },
    {
      "cell_type": "code",
      "source": [
        "len('London')"
      ],
      "metadata": {
        "colab": {
          "base_uri": "https://localhost:8080/"
        },
        "id": "Oc6m91FOYWAJ",
        "outputId": "66c341ea-3b43-460a-ef62-252a6889103f"
      },
      "execution_count": null,
      "outputs": [
        {
          "output_type": "execute_result",
          "data": {
            "text/plain": [
              "6"
            ]
          },
          "metadata": {},
          "execution_count": 48
        }
      ]
    },
    {
      "cell_type": "code",
      "source": [
        "count='America'\n"
      ],
      "metadata": {
        "id": "pl62k-SrYlCO"
      },
      "execution_count": null,
      "outputs": []
    },
    {
      "cell_type": "code",
      "source": [
        "len(count)"
      ],
      "metadata": {
        "colab": {
          "base_uri": "https://localhost:8080/"
        },
        "id": "8V0vbIvPYt_W",
        "outputId": "24c54a41-0248-4e84-8223-875655ad2e3f"
      },
      "execution_count": null,
      "outputs": [
        {
          "output_type": "execute_result",
          "data": {
            "text/plain": [
              "7"
            ]
          },
          "metadata": {},
          "execution_count": 57
        }
      ]
    },
    {
      "cell_type": "code",
      "source": [
        "# Area of rectangles\n",
        "length=10\n",
        "breadth=10\n",
        "area=Length*breadth\n",
        "print('Area of Rectangle:',area)"
      ],
      "metadata": {
        "colab": {
          "base_uri": "https://localhost:8080/"
        },
        "id": "FMl6ZHQjZP70",
        "outputId": "b31b99ed-05d5-4edd-b99a-d835ecbe350a"
      },
      "execution_count": null,
      "outputs": [
        {
          "output_type": "stream",
          "name": "stdout",
          "text": [
            "Area of Rectangle: 100\n"
          ]
        }
      ]
    },
    {
      "cell_type": "code",
      "source": [
        "# Area of Circle\n",
        "\n",
        "pi=3.14\n",
        "r=15\n",
        "area_of_circle = pi *r**2"
      ],
      "metadata": {
        "id": "LCPx0WgxZ-Nl"
      },
      "execution_count": null,
      "outputs": []
    },
    {
      "cell_type": "code",
      "source": [
        "print(\"Area of Circle :\",area_of_circle)"
      ],
      "metadata": {
        "colab": {
          "base_uri": "https://localhost:8080/"
        },
        "id": "oILYMqpybtJI",
        "outputId": "7a51c5a5-587c-45a0-d7d0-00e238781da5"
      },
      "execution_count": null,
      "outputs": [
        {
          "output_type": "stream",
          "name": "stdout",
          "text": [
            "Area of Circle : 706.5\n"
          ]
        }
      ]
    },
    {
      "cell_type": "code",
      "source": [
        "# Mathematical Oprators"
      ],
      "metadata": {
        "id": "jilwPD_6b3K8"
      },
      "execution_count": null,
      "outputs": []
    },
    {
      "cell_type": "code",
      "source": [
        "33>10 # Greater than"
      ],
      "metadata": {
        "colab": {
          "base_uri": "https://localhost:8080/"
        },
        "id": "OFMCJn5icFMN",
        "outputId": "7ce1f26b-a283-44be-eab6-77101f94d341"
      },
      "execution_count": null,
      "outputs": [
        {
          "output_type": "execute_result",
          "data": {
            "text/plain": [
              "True"
            ]
          },
          "metadata": {},
          "execution_count": 64
        }
      ]
    },
    {
      "cell_type": "code",
      "source": [
        "33<10 # Less than"
      ],
      "metadata": {
        "colab": {
          "base_uri": "https://localhost:8080/"
        },
        "id": "x_jiLxB9cHMG",
        "outputId": "e4b9f908-3608-45f0-f416-108c448fb232"
      },
      "execution_count": null,
      "outputs": [
        {
          "output_type": "execute_result",
          "data": {
            "text/plain": [
              "False"
            ]
          },
          "metadata": {},
          "execution_count": 65
        }
      ]
    },
    {
      "cell_type": "code",
      "source": [
        "33<34  # Less than"
      ],
      "metadata": {
        "colab": {
          "base_uri": "https://localhost:8080/"
        },
        "id": "L0ImBTiBcJa9",
        "outputId": "159047fa-8bd4-4f70-e0b0-70dd34b93a8c"
      },
      "execution_count": null,
      "outputs": [
        {
          "output_type": "execute_result",
          "data": {
            "text/plain": [
              "True"
            ]
          },
          "metadata": {},
          "execution_count": 66
        }
      ]
    },
    {
      "cell_type": "code",
      "source": [
        "33>=34 # Greater than equal to"
      ],
      "metadata": {
        "colab": {
          "base_uri": "https://localhost:8080/"
        },
        "id": "RYRuOAaRcMW1",
        "outputId": "954daaa9-c01a-43a7-a9fa-a099b26e5d75"
      },
      "execution_count": null,
      "outputs": [
        {
          "output_type": "execute_result",
          "data": {
            "text/plain": [
              "False"
            ]
          },
          "metadata": {},
          "execution_count": 67
        }
      ]
    },
    {
      "cell_type": "code",
      "source": [
        "33>=32 # Greater than equal to"
      ],
      "metadata": {
        "colab": {
          "base_uri": "https://localhost:8080/"
        },
        "id": "qQAtnvjacQzj",
        "outputId": "c916ae4a-e014-4884-8042-93ac7e2fcf32"
      },
      "execution_count": null,
      "outputs": [
        {
          "output_type": "execute_result",
          "data": {
            "text/plain": [
              "True"
            ]
          },
          "metadata": {},
          "execution_count": 68
        }
      ]
    },
    {
      "cell_type": "code",
      "source": [
        "33<=34 # Less than equal to"
      ],
      "metadata": {
        "colab": {
          "base_uri": "https://localhost:8080/"
        },
        "id": "VikXmdEXcVzy",
        "outputId": "ebc83fd2-87ca-4ce1-f5ab-5467cba4b09c"
      },
      "execution_count": null,
      "outputs": [
        {
          "output_type": "execute_result",
          "data": {
            "text/plain": [
              "True"
            ]
          },
          "metadata": {},
          "execution_count": 69
        }
      ]
    },
    {
      "cell_type": "code",
      "source": [
        "34<=33 # Less than equal to"
      ],
      "metadata": {
        "colab": {
          "base_uri": "https://localhost:8080/"
        },
        "id": "9jm3fhfFcZzd",
        "outputId": "6dd4fd12-9281-4994-cb8e-84089f49467e"
      },
      "execution_count": null,
      "outputs": [
        {
          "output_type": "execute_result",
          "data": {
            "text/plain": [
              "False"
            ]
          },
          "metadata": {},
          "execution_count": 70
        }
      ]
    },
    {
      "cell_type": "code",
      "source": [
        "30!=30 # not equal to"
      ],
      "metadata": {
        "colab": {
          "base_uri": "https://localhost:8080/"
        },
        "id": "f26wjUqPcc2k",
        "outputId": "e0a29190-4bc5-4e02-f322-3c236640a3cd"
      },
      "execution_count": null,
      "outputs": [
        {
          "output_type": "execute_result",
          "data": {
            "text/plain": [
              "False"
            ]
          },
          "metadata": {},
          "execution_count": 71
        }
      ]
    },
    {
      "cell_type": "code",
      "source": [
        "200!=100 # not equal to"
      ],
      "metadata": {
        "colab": {
          "base_uri": "https://localhost:8080/"
        },
        "id": "bE82G5IleNZX",
        "outputId": "77af330e-4d68-46fd-ebbd-cc676caae689"
      },
      "execution_count": null,
      "outputs": [
        {
          "output_type": "execute_result",
          "data": {
            "text/plain": [
              "True"
            ]
          },
          "metadata": {},
          "execution_count": 74
        }
      ]
    },
    {
      "cell_type": "code",
      "source": [
        "30==30 # equal to"
      ],
      "metadata": {
        "colab": {
          "base_uri": "https://localhost:8080/"
        },
        "id": "Ftxw45Omcg_i",
        "outputId": "926aa3c3-e643-4189-d8c7-90a2510d117b"
      },
      "execution_count": null,
      "outputs": [
        {
          "output_type": "execute_result",
          "data": {
            "text/plain": [
              "True"
            ]
          },
          "metadata": {},
          "execution_count": 72
        }
      ]
    },
    {
      "cell_type": "code",
      "source": [
        "city = input(\"Enter City Name :\")"
      ],
      "metadata": {
        "colab": {
          "base_uri": "https://localhost:8080/"
        },
        "id": "sJXp0ElKckWl",
        "outputId": "bab9036c-325f-443d-d10b-74eee62fc2b4"
      },
      "execution_count": null,
      "outputs": [
        {
          "name": "stdout",
          "output_type": "stream",
          "text": [
            "Enter City Name :Sambhaji Nagar\n"
          ]
        }
      ]
    },
    {
      "cell_type": "code",
      "source": [
        "number = input(\"Enter Number:\")"
      ],
      "metadata": {
        "colab": {
          "base_uri": "https://localhost:8080/"
        },
        "id": "-j7gLXXJercj",
        "outputId": "21b3aeab-7767-4e2f-f679-4c0e87f2d25a"
      },
      "execution_count": null,
      "outputs": [
        {
          "name": "stdout",
          "output_type": "stream",
          "text": [
            "Enter Number:10\n"
          ]
        }
      ]
    },
    {
      "cell_type": "code",
      "source": [
        "10+10"
      ],
      "metadata": {
        "colab": {
          "base_uri": "https://localhost:8080/"
        },
        "id": "wud5rVFUgFpc",
        "outputId": "e9664180-7f32-480d-e6e8-2b907d48da36"
      },
      "execution_count": null,
      "outputs": [
        {
          "output_type": "execute_result",
          "data": {
            "text/plain": [
              "20"
            ]
          },
          "metadata": {},
          "execution_count": 78
        }
      ]
    },
    {
      "cell_type": "code",
      "source": [
        "'10'+'10' # String Concatination"
      ],
      "metadata": {
        "colab": {
          "base_uri": "https://localhost:8080/",
          "height": 35
        },
        "id": "si4YT-SbgL-F",
        "outputId": "365e7060-9ba6-466b-a944-de0152338ad5"
      },
      "execution_count": null,
      "outputs": [
        {
          "output_type": "execute_result",
          "data": {
            "text/plain": [
              "'1010'"
            ],
            "application/vnd.google.colaboratory.intrinsic+json": {
              "type": "string"
            }
          },
          "metadata": {},
          "execution_count": 79
        }
      ]
    },
    {
      "cell_type": "code",
      "source": [
        "\"Happy\"+\" Birthday\""
      ],
      "metadata": {
        "colab": {
          "base_uri": "https://localhost:8080/",
          "height": 35
        },
        "id": "7YDmfAGtgPMz",
        "outputId": "f305ee6d-12f4-4463-846a-03bc21ce7e01"
      },
      "execution_count": null,
      "outputs": [
        {
          "output_type": "execute_result",
          "data": {
            "text/plain": [
              "'Happy Birthday'"
            ],
            "application/vnd.google.colaboratory.intrinsic+json": {
              "type": "string"
            }
          },
          "metadata": {},
          "execution_count": 82
        }
      ]
    },
    {
      "cell_type": "code",
      "source": [
        "\"HAPPY\"+\"BIRTHDAY\""
      ],
      "metadata": {
        "colab": {
          "base_uri": "https://localhost:8080/",
          "height": 35
        },
        "id": "w1dzpOy7glaM",
        "outputId": "e2521179-61d3-46fb-b8ef-99cff3b6e15c"
      },
      "execution_count": null,
      "outputs": [
        {
          "output_type": "execute_result",
          "data": {
            "text/plain": [
              "'HAPPYBIRTHDAY'"
            ],
            "application/vnd.google.colaboratory.intrinsic+json": {
              "type": "string"
            }
          },
          "metadata": {},
          "execution_count": 83
        }
      ]
    },
    {
      "cell_type": "code",
      "source": [
        "a=input(\"Enter First Number:\")\n",
        "b=input(\"Enter Second Number:\")\n",
        "c=a+b"
      ],
      "metadata": {
        "colab": {
          "base_uri": "https://localhost:8080/"
        },
        "id": "nmdq_EVShzAP",
        "outputId": "6ee82935-381b-4e29-ec25-0b7ae2d8fa08"
      },
      "execution_count": null,
      "outputs": [
        {
          "name": "stdout",
          "output_type": "stream",
          "text": [
            "Enter First Number:10\n",
            "Enter Second Number:20\n"
          ]
        }
      ]
    },
    {
      "cell_type": "code",
      "source": [
        "type(a)"
      ],
      "metadata": {
        "colab": {
          "base_uri": "https://localhost:8080/"
        },
        "id": "U1qzgYkSiN47",
        "outputId": "6a463cb8-3e5e-4c66-dd48-3d8b8b65271e"
      },
      "execution_count": null,
      "outputs": [
        {
          "output_type": "execute_result",
          "data": {
            "text/plain": [
              "str"
            ]
          },
          "metadata": {},
          "execution_count": 89
        }
      ]
    },
    {
      "cell_type": "code",
      "source": [
        "type(b)"
      ],
      "metadata": {
        "colab": {
          "base_uri": "https://localhost:8080/"
        },
        "id": "XrnAo0RIiOFc",
        "outputId": "58834eb0-374d-4999-96a9-527672d4d490"
      },
      "execution_count": null,
      "outputs": [
        {
          "output_type": "execute_result",
          "data": {
            "text/plain": [
              "str"
            ]
          },
          "metadata": {},
          "execution_count": 90
        }
      ]
    },
    {
      "cell_type": "code",
      "source": [
        "x=358\n",
        "y=23\n",
        "print(x//y)\n",
        "print(x%y)"
      ],
      "metadata": {
        "colab": {
          "base_uri": "https://localhost:8080/"
        },
        "id": "jvGubJ8lqack",
        "outputId": "f08dfc52-d952-4819-f5ea-796073cef781"
      },
      "execution_count": null,
      "outputs": [
        {
          "output_type": "stream",
          "name": "stdout",
          "text": [
            "15\n",
            "13\n"
          ]
        }
      ]
    },
    {
      "cell_type": "code",
      "source": [
        "(2*4**3/2)"
      ],
      "metadata": {
        "colab": {
          "base_uri": "https://localhost:8080/"
        },
        "id": "eXQy0QqzqaqS",
        "outputId": "87db0f4d-52fb-4dcc-dd55-9ade4b49bdda"
      },
      "execution_count": null,
      "outputs": [
        {
          "output_type": "execute_result",
          "data": {
            "text/plain": [
              "64.0"
            ]
          },
          "metadata": {},
          "execution_count": 2
        }
      ]
    },
    {
      "cell_type": "code",
      "source": [
        "x=5\n",
        "\n",
        "y=10\n",
        "\n",
        "if(x**3>100 and y*3<100):\n",
        "\n",
        "     print(x, y)"
      ],
      "metadata": {
        "colab": {
          "base_uri": "https://localhost:8080/"
        },
        "id": "UbLXOVPhqatg",
        "outputId": "c3537435-e5a2-45ee-fb64-dd0f824969e2"
      },
      "execution_count": null,
      "outputs": [
        {
          "output_type": "stream",
          "name": "stdout",
          "text": [
            "5 10\n"
          ]
        }
      ]
    },
    {
      "cell_type": "code",
      "source": [
        "a=5\n",
        "\n",
        "b=10\n",
        "\n",
        "print(a|b)\n",
        "\n",
        "print(b<<a)"
      ],
      "metadata": {
        "colab": {
          "base_uri": "https://localhost:8080/"
        },
        "id": "UP2bqdySqazr",
        "outputId": "5e7e5ef2-e891-4f10-ca8c-809f27ec628d"
      },
      "execution_count": null,
      "outputs": [
        {
          "output_type": "stream",
          "name": "stdout",
          "text": [
            "15\n",
            "320\n"
          ]
        }
      ]
    },
    {
      "cell_type": "code",
      "source": [
        "# What is the output of the following code\n",
        "\n",
        "x=3\n",
        "\n",
        "y=4\n",
        "\n",
        "x+=y\n",
        "\n",
        "print(x)"
      ],
      "metadata": {
        "colab": {
          "base_uri": "https://localhost:8080/"
        },
        "id": "jvdJ-w0zqa90",
        "outputId": "af8870d5-29ea-4f51-ed3e-c70970485327"
      },
      "execution_count": null,
      "outputs": [
        {
          "output_type": "stream",
          "name": "stdout",
          "text": [
            "7\n"
          ]
        }
      ]
    },
    {
      "cell_type": "markdown",
      "source": [
        "Arithmatic Oprator :"
      ],
      "metadata": {
        "id": "olcZnp0NCpme"
      }
    },
    {
      "cell_type": "markdown",
      "source": [
        "Addition:  X + Y"
      ],
      "metadata": {
        "id": "udB_0xyhC1X7"
      }
    },
    {
      "cell_type": "code",
      "source": [
        "11 + 19"
      ],
      "metadata": {
        "colab": {
          "base_uri": "https://localhost:8080/"
        },
        "id": "pu7I3R9wqbJo",
        "outputId": "b72f474f-269d-4822-ab61-23ed396ab4f1"
      },
      "execution_count": null,
      "outputs": [
        {
          "output_type": "execute_result",
          "data": {
            "text/plain": [
              "30"
            ]
          },
          "metadata": {},
          "execution_count": 3
        }
      ]
    },
    {
      "cell_type": "code",
      "source": [
        "240 + 160"
      ],
      "metadata": {
        "colab": {
          "base_uri": "https://localhost:8080/"
        },
        "id": "herFc0RwqbM1",
        "outputId": "4ad2f64b-0899-4cbf-8377-883d893fe531"
      },
      "execution_count": null,
      "outputs": [
        {
          "output_type": "execute_result",
          "data": {
            "text/plain": [
              "400"
            ]
          },
          "metadata": {},
          "execution_count": 4
        }
      ]
    },
    {
      "cell_type": "markdown",
      "source": [
        "Subtraction:     X - Y"
      ],
      "metadata": {
        "id": "JIN1JdT2EB-B"
      }
    },
    {
      "cell_type": "code",
      "source": [
        "50 -46"
      ],
      "metadata": {
        "colab": {
          "base_uri": "https://localhost:8080/"
        },
        "id": "ZL9LfoHxqbVY",
        "outputId": "55aa80c9-c935-4d39-b8e0-5533648562ff"
      },
      "execution_count": null,
      "outputs": [
        {
          "output_type": "execute_result",
          "data": {
            "text/plain": [
              "4"
            ]
          },
          "metadata": {},
          "execution_count": 6
        }
      ]
    },
    {
      "cell_type": "code",
      "source": [
        "10-2"
      ],
      "metadata": {
        "colab": {
          "base_uri": "https://localhost:8080/"
        },
        "id": "XmvxK6u4qbYY",
        "outputId": "d1308534-584b-4100-d427-f9410d7c0db0"
      },
      "execution_count": null,
      "outputs": [
        {
          "output_type": "execute_result",
          "data": {
            "text/plain": [
              "8"
            ]
          },
          "metadata": {},
          "execution_count": 7
        }
      ]
    },
    {
      "cell_type": "code",
      "source": [],
      "metadata": {
        "id": "K6UDKVrDqbbH"
      },
      "execution_count": null,
      "outputs": []
    },
    {
      "cell_type": "markdown",
      "source": [
        "Multiplication :    X * Y"
      ],
      "metadata": {
        "id": "VRAwKxdWEitI"
      }
    },
    {
      "cell_type": "code",
      "source": [
        "10*3"
      ],
      "metadata": {
        "colab": {
          "base_uri": "https://localhost:8080/"
        },
        "id": "iweLoLBAqbd3",
        "outputId": "f452225b-e730-487a-df3f-743ff2037a4b"
      },
      "execution_count": null,
      "outputs": [
        {
          "output_type": "execute_result",
          "data": {
            "text/plain": [
              "30"
            ]
          },
          "metadata": {},
          "execution_count": 8
        }
      ]
    },
    {
      "cell_type": "code",
      "source": [
        "11*11"
      ],
      "metadata": {
        "colab": {
          "base_uri": "https://localhost:8080/"
        },
        "id": "30Szmjlvqbgl",
        "outputId": "421a16c2-c271-4970-e325-0607fede077a"
      },
      "execution_count": null,
      "outputs": [
        {
          "output_type": "execute_result",
          "data": {
            "text/plain": [
              "121"
            ]
          },
          "metadata": {},
          "execution_count": 9
        }
      ]
    },
    {
      "cell_type": "code",
      "source": [],
      "metadata": {
        "id": "r9-2NK62qbjs"
      },
      "execution_count": null,
      "outputs": []
    },
    {
      "cell_type": "markdown",
      "source": [
        "Division : X / Y"
      ],
      "metadata": {
        "id": "VQocCMn4E0O5"
      }
    },
    {
      "cell_type": "code",
      "source": [
        "45/3"
      ],
      "metadata": {
        "colab": {
          "base_uri": "https://localhost:8080/"
        },
        "id": "oBvj74POqbmv",
        "outputId": "f9b620f5-d9f0-48ca-d260-23b8299637c5"
      },
      "execution_count": null,
      "outputs": [
        {
          "output_type": "execute_result",
          "data": {
            "text/plain": [
              "15.0"
            ]
          },
          "metadata": {},
          "execution_count": 10
        }
      ]
    },
    {
      "cell_type": "code",
      "source": [
        "765/10"
      ],
      "metadata": {
        "colab": {
          "base_uri": "https://localhost:8080/"
        },
        "id": "ZlAFq0t_qbp9",
        "outputId": "97c0f71f-b32c-4a94-9d63-ef157c627096"
      },
      "execution_count": null,
      "outputs": [
        {
          "output_type": "execute_result",
          "data": {
            "text/plain": [
              "76.5"
            ]
          },
          "metadata": {},
          "execution_count": 11
        }
      ]
    },
    {
      "cell_type": "markdown",
      "source": [
        "Modulus :  X % Y"
      ],
      "metadata": {
        "id": "VQ2kRfIUFMgc"
      }
    },
    {
      "cell_type": "code",
      "source": [
        "456 % 23"
      ],
      "metadata": {
        "colab": {
          "base_uri": "https://localhost:8080/"
        },
        "id": "j7PL9PwXE_RZ",
        "outputId": "2ddb314c-2acc-4f24-f274-a8fe90346621"
      },
      "execution_count": null,
      "outputs": [
        {
          "output_type": "execute_result",
          "data": {
            "text/plain": [
              "19"
            ]
          },
          "metadata": {},
          "execution_count": 13
        }
      ]
    },
    {
      "cell_type": "code",
      "source": [
        "11 % 2"
      ],
      "metadata": {
        "colab": {
          "base_uri": "https://localhost:8080/"
        },
        "id": "XkhEm5suE_dh",
        "outputId": "63b6e1e8-80d8-4e9c-fe3c-461e9b5f68df"
      },
      "execution_count": null,
      "outputs": [
        {
          "output_type": "execute_result",
          "data": {
            "text/plain": [
              "1"
            ]
          },
          "metadata": {},
          "execution_count": 14
        }
      ]
    },
    {
      "cell_type": "code",
      "source": [
        "31 % 3"
      ],
      "metadata": {
        "colab": {
          "base_uri": "https://localhost:8080/"
        },
        "id": "sCncKjGcE_gk",
        "outputId": "c451888b-c435-4e3b-b62a-97f80c14628c"
      },
      "execution_count": null,
      "outputs": [
        {
          "output_type": "execute_result",
          "data": {
            "text/plain": [
              "1"
            ]
          },
          "metadata": {},
          "execution_count": 15
        }
      ]
    },
    {
      "cell_type": "code",
      "source": [
        "19 % 4"
      ],
      "metadata": {
        "colab": {
          "base_uri": "https://localhost:8080/"
        },
        "id": "AjMinSFBE_jr",
        "outputId": "a6ba97df-8aee-42f2-eb10-244937bad70e"
      },
      "execution_count": null,
      "outputs": [
        {
          "output_type": "execute_result",
          "data": {
            "text/plain": [
              "3"
            ]
          },
          "metadata": {},
          "execution_count": 16
        }
      ]
    },
    {
      "cell_type": "markdown",
      "source": [
        "Exponent : X ** Y"
      ],
      "metadata": {
        "id": "Abb6nAFRFnJV"
      }
    },
    {
      "cell_type": "code",
      "source": [
        "7 ** 3"
      ],
      "metadata": {
        "colab": {
          "base_uri": "https://localhost:8080/"
        },
        "id": "K_H82DUSE_pV",
        "outputId": "9039da2f-5c0e-4edd-9f9b-9d5550c0b7d5"
      },
      "execution_count": null,
      "outputs": [
        {
          "output_type": "execute_result",
          "data": {
            "text/plain": [
              "343"
            ]
          },
          "metadata": {},
          "execution_count": 17
        }
      ]
    },
    {
      "cell_type": "code",
      "source": [
        "2 ** 8"
      ],
      "metadata": {
        "colab": {
          "base_uri": "https://localhost:8080/"
        },
        "id": "2pBUdEYvE_si",
        "outputId": "cd993478-513d-4277-83be-bfad1b4dca00"
      },
      "execution_count": null,
      "outputs": [
        {
          "output_type": "execute_result",
          "data": {
            "text/plain": [
              "256"
            ]
          },
          "metadata": {},
          "execution_count": 18
        }
      ]
    },
    {
      "cell_type": "code",
      "source": [
        "11 ** 3"
      ],
      "metadata": {
        "colab": {
          "base_uri": "https://localhost:8080/"
        },
        "id": "vQ_sk1ybE_vn",
        "outputId": "210b9e3d-3344-41f3-84fe-33d1a367cd54"
      },
      "execution_count": null,
      "outputs": [
        {
          "output_type": "execute_result",
          "data": {
            "text/plain": [
              "1331"
            ]
          },
          "metadata": {},
          "execution_count": 19
        }
      ]
    },
    {
      "cell_type": "markdown",
      "source": [
        "Floor Division : X // Y"
      ],
      "metadata": {
        "id": "MOVT3SFKF8PC"
      }
    },
    {
      "cell_type": "code",
      "source": [
        " 19 // 3"
      ],
      "metadata": {
        "colab": {
          "base_uri": "https://localhost:8080/"
        },
        "id": "yG-3gz4xE_1m",
        "outputId": "420c0954-e22a-48aa-ae09-36e8197427e7"
      },
      "execution_count": null,
      "outputs": [
        {
          "output_type": "execute_result",
          "data": {
            "text/plain": [
              "6"
            ]
          },
          "metadata": {},
          "execution_count": 20
        }
      ]
    },
    {
      "cell_type": "code",
      "source": [
        "20 // 3"
      ],
      "metadata": {
        "colab": {
          "base_uri": "https://localhost:8080/"
        },
        "id": "0yqL16IhE_48",
        "outputId": "7e3e3b1d-9c4f-4e65-93b2-b8f55530a42d"
      },
      "execution_count": null,
      "outputs": [
        {
          "output_type": "execute_result",
          "data": {
            "text/plain": [
              "6"
            ]
          },
          "metadata": {},
          "execution_count": 21
        }
      ]
    },
    {
      "cell_type": "code",
      "source": [
        "21 // 3"
      ],
      "metadata": {
        "colab": {
          "base_uri": "https://localhost:8080/"
        },
        "id": "fi8rp_gDE_70",
        "outputId": "dcbf745a-1f6e-40bd-8800-6c36549b6dba"
      },
      "execution_count": null,
      "outputs": [
        {
          "output_type": "execute_result",
          "data": {
            "text/plain": [
              "7"
            ]
          },
          "metadata": {},
          "execution_count": 22
        }
      ]
    },
    {
      "cell_type": "code",
      "source": [
        "18//3"
      ],
      "metadata": {
        "colab": {
          "base_uri": "https://localhost:8080/"
        },
        "id": "alSsCq-uE_-m",
        "outputId": "42d95e77-f39a-4529-9a79-213ecc282f40"
      },
      "execution_count": null,
      "outputs": [
        {
          "output_type": "execute_result",
          "data": {
            "text/plain": [
              "6"
            ]
          },
          "metadata": {},
          "execution_count": 23
        }
      ]
    },
    {
      "cell_type": "code",
      "source": [],
      "metadata": {
        "id": "a6bCexUwFABk"
      },
      "execution_count": null,
      "outputs": []
    },
    {
      "cell_type": "markdown",
      "source": [
        "2) Assigment Oprators"
      ],
      "metadata": {
        "id": "e85MErRZGX5h"
      }
    },
    {
      "cell_type": "markdown",
      "source": [
        "1 .  Equal to ( = )"
      ],
      "metadata": {
        "id": "S06pfXnfGj6-"
      }
    },
    {
      "cell_type": "code",
      "source": [
        "X = 3\n",
        "y = 4"
      ],
      "metadata": {
        "id": "N7x82d2bGVta"
      },
      "execution_count": null,
      "outputs": []
    },
    {
      "cell_type": "markdown",
      "source": [
        "2 . Add Equal to  ( + = )  \n",
        "    X + = Y ---> X = X + Y"
      ],
      "metadata": {
        "id": "4SXqfHH3G6u3"
      }
    },
    {
      "cell_type": "code",
      "source": [
        "x = 9\n",
        "y = 4\n",
        "x +=y\n",
        "x"
      ],
      "metadata": {
        "colab": {
          "base_uri": "https://localhost:8080/"
        },
        "id": "3LtTRgWNGVuz",
        "outputId": "5fe6285e-558a-4f55-b575-11a418ed8c4b"
      },
      "execution_count": null,
      "outputs": [
        {
          "output_type": "execute_result",
          "data": {
            "text/plain": [
              "13"
            ]
          },
          "metadata": {},
          "execution_count": 26
        }
      ]
    },
    {
      "cell_type": "code",
      "source": [
        "x=7\n",
        "y=4\n",
        "x+=y\n",
        "x"
      ],
      "metadata": {
        "colab": {
          "base_uri": "https://localhost:8080/"
        },
        "id": "WzrPrt83GVyR",
        "outputId": "1825c365-85d8-4325-e11b-f805cc40b325"
      },
      "execution_count": null,
      "outputs": [
        {
          "output_type": "execute_result",
          "data": {
            "text/plain": [
              "11"
            ]
          },
          "metadata": {},
          "execution_count": 27
        }
      ]
    },
    {
      "cell_type": "code",
      "source": [
        "x=12\n",
        "y=9\n",
        "x+=y\n",
        "x"
      ],
      "metadata": {
        "colab": {
          "base_uri": "https://localhost:8080/"
        },
        "id": "U1bO1S9uGV1t",
        "outputId": "13d6d91a-6b4c-41cb-b997-74ad7855a27c"
      },
      "execution_count": null,
      "outputs": [
        {
          "output_type": "execute_result",
          "data": {
            "text/plain": [
              "21"
            ]
          },
          "metadata": {},
          "execution_count": 28
        }
      ]
    },
    {
      "cell_type": "markdown",
      "source": [
        "3 Subtract Equal to ( -  = )\n",
        "\n",
        "  X - = Y -----> X = X - Y"
      ],
      "metadata": {
        "id": "-Vn66nqFH2bS"
      }
    },
    {
      "cell_type": "code",
      "source": [
        "x=7\n",
        "y=4\n",
        "x-=y\n",
        "x"
      ],
      "metadata": {
        "colab": {
          "base_uri": "https://localhost:8080/"
        },
        "id": "GEb7BbRuGV6o",
        "outputId": "54bf9690-0e1f-4917-853b-3a0e94f08d68"
      },
      "execution_count": null,
      "outputs": [
        {
          "output_type": "execute_result",
          "data": {
            "text/plain": [
              "3"
            ]
          },
          "metadata": {},
          "execution_count": 29
        }
      ]
    },
    {
      "cell_type": "code",
      "source": [
        "x=9\n",
        "y=3\n",
        "x-=y\n",
        "x"
      ],
      "metadata": {
        "colab": {
          "base_uri": "https://localhost:8080/"
        },
        "id": "jLh9HfOFGV_G",
        "outputId": "7a861a9b-8e32-4c4c-cda0-b32aae97e2df"
      },
      "execution_count": null,
      "outputs": [
        {
          "output_type": "execute_result",
          "data": {
            "text/plain": [
              "6"
            ]
          },
          "metadata": {},
          "execution_count": 30
        }
      ]
    },
    {
      "cell_type": "code",
      "source": [
        "x=12\n",
        "y=9\n",
        "x-=y\n",
        "x"
      ],
      "metadata": {
        "colab": {
          "base_uri": "https://localhost:8080/"
        },
        "id": "8P67fJuKGWCY",
        "outputId": "19468c74-7285-4ae5-b631-3815144d46e6"
      },
      "execution_count": null,
      "outputs": [
        {
          "output_type": "execute_result",
          "data": {
            "text/plain": [
              "3"
            ]
          },
          "metadata": {},
          "execution_count": 31
        }
      ]
    },
    {
      "cell_type": "markdown",
      "source": [
        "4 Multiply Equal to ( *  = )\n",
        "\n",
        "X *  = Y -----> X = X * Y\n",
        "\n"
      ],
      "metadata": {
        "id": "o-mZMbS-IsOv"
      }
    },
    {
      "cell_type": "markdown",
      "source": [
        "Divide Equal to  ( /  = )\n",
        "\n",
        "X / = Y  -----> X = X / Y"
      ],
      "metadata": {
        "id": "PhdBPrwXJMV6"
      }
    },
    {
      "cell_type": "code",
      "source": [
        "X =21\n",
        "Y = 5\n",
        "X/=Y\n",
        "X"
      ],
      "metadata": {
        "colab": {
          "base_uri": "https://localhost:8080/"
        },
        "id": "miI-7QpnGWFq",
        "outputId": "3543ccf7-c51f-4ba1-c155-52048d36b2d4"
      },
      "execution_count": null,
      "outputs": [
        {
          "output_type": "execute_result",
          "data": {
            "text/plain": [
              "4.2"
            ]
          },
          "metadata": {},
          "execution_count": 32
        }
      ]
    },
    {
      "cell_type": "code",
      "source": [
        "X = 41\n",
        "Y = 13.05\n",
        "X/=Y\n",
        "X"
      ],
      "metadata": {
        "colab": {
          "base_uri": "https://localhost:8080/"
        },
        "id": "GgKa8z_DGWIa",
        "outputId": "b18ae14b-4d24-45bf-b6b2-1f7a32bbe7ee"
      },
      "execution_count": null,
      "outputs": [
        {
          "output_type": "execute_result",
          "data": {
            "text/plain": [
              "3.1417624521072796"
            ]
          },
          "metadata": {},
          "execution_count": 37
        }
      ]
    },
    {
      "cell_type": "markdown",
      "source": [
        "6 Modulus Equal to ( %  = )\n",
        "\n",
        "X % = Y ----->  X = X % Y"
      ],
      "metadata": {
        "id": "M_kasKZaKFYd"
      }
    },
    {
      "cell_type": "code",
      "source": [
        "X = 10\n",
        "Y = 3\n",
        "X %= Y\n",
        "X\n"
      ],
      "metadata": {
        "colab": {
          "base_uri": "https://localhost:8080/"
        },
        "id": "koZ8KSiBGWKF",
        "outputId": "9b5623c8-ee65-479f-9c8a-a49abdab7d3e"
      },
      "execution_count": null,
      "outputs": [
        {
          "output_type": "execute_result",
          "data": {
            "text/plain": [
              "1"
            ]
          },
          "metadata": {},
          "execution_count": 39
        }
      ]
    },
    {
      "cell_type": "code",
      "source": [
        "X = 456\n",
        "Y = 23\n",
        "X %=Y\n",
        "X"
      ],
      "metadata": {
        "colab": {
          "base_uri": "https://localhost:8080/"
        },
        "id": "J8GoLfLjGWLv",
        "outputId": "72737177-e94f-46ad-b398-2f4b837426db"
      },
      "execution_count": null,
      "outputs": [
        {
          "output_type": "execute_result",
          "data": {
            "text/plain": [
              "19"
            ]
          },
          "metadata": {},
          "execution_count": 40
        }
      ]
    },
    {
      "cell_type": "markdown",
      "source": [
        " 7 Exponent Equal to ( **= )\n",
        "\n",
        " X**= Y -----> X = X ** Y"
      ],
      "metadata": {
        "id": "esArOkQLLJXi"
      }
    },
    {
      "cell_type": "code",
      "source": [
        "x=7\n",
        "y=4\n",
        "x**=y\n",
        "x"
      ],
      "metadata": {
        "colab": {
          "base_uri": "https://localhost:8080/"
        },
        "id": "S6-pptb8GWNB",
        "outputId": "e7fc154e-ddb1-4deb-def5-de4e81e683ce"
      },
      "execution_count": null,
      "outputs": [
        {
          "output_type": "execute_result",
          "data": {
            "text/plain": [
              "2401"
            ]
          },
          "metadata": {},
          "execution_count": 41
        }
      ]
    },
    {
      "cell_type": "code",
      "source": [
        "x=3\n",
        "y=2\n",
        "x**=y\n",
        "x"
      ],
      "metadata": {
        "colab": {
          "base_uri": "https://localhost:8080/"
        },
        "id": "sm2UcmBWGWO4",
        "outputId": "6e19e2c8-3137-488c-8110-a0b2dd70609e"
      },
      "execution_count": null,
      "outputs": [
        {
          "output_type": "execute_result",
          "data": {
            "text/plain": [
              "9"
            ]
          },
          "metadata": {},
          "execution_count": 42
        }
      ]
    },
    {
      "cell_type": "code",
      "source": [
        "x=8\n",
        "y=8\n",
        "x**=y\n",
        "x"
      ],
      "metadata": {
        "colab": {
          "base_uri": "https://localhost:8080/"
        },
        "id": "Y5gr_hCdGWQd",
        "outputId": "720af6d2-557d-464f-fbec-40c35d34724e"
      },
      "execution_count": null,
      "outputs": [
        {
          "output_type": "execute_result",
          "data": {
            "text/plain": [
              "16777216"
            ]
          },
          "metadata": {},
          "execution_count": 43
        }
      ]
    },
    {
      "cell_type": "markdown",
      "source": [
        "8 Floor Equal to ( //= )\n",
        "\n",
        "X//=Y ----> X = X//Y"
      ],
      "metadata": {
        "id": "DlxW-ddzMMfe"
      }
    },
    {
      "cell_type": "code",
      "source": [
        "x=786\n",
        "y=56\n",
        "x//=y\n",
        "x"
      ],
      "metadata": {
        "colab": {
          "base_uri": "https://localhost:8080/"
        },
        "id": "ED_pgklgGWSI",
        "outputId": "64cd7daa-ca2f-4631-e36c-f3fb534e30b3"
      },
      "execution_count": null,
      "outputs": [
        {
          "output_type": "execute_result",
          "data": {
            "text/plain": [
              "14"
            ]
          },
          "metadata": {},
          "execution_count": 44
        }
      ]
    },
    {
      "cell_type": "code",
      "source": [
        "x=687\n",
        "y=56\n",
        "x//=y\n",
        "x"
      ],
      "metadata": {
        "colab": {
          "base_uri": "https://localhost:8080/"
        },
        "id": "xfS5jlJ7GWTg",
        "outputId": "6aeb4049-d230-45b6-f17d-cf38f30e0e4d"
      },
      "execution_count": null,
      "outputs": [
        {
          "output_type": "execute_result",
          "data": {
            "text/plain": [
              "12"
            ]
          },
          "metadata": {},
          "execution_count": 45
        }
      ]
    },
    {
      "cell_type": "code",
      "source": [
        "# Ninja\n",
        "X = 10\n",
        "Y + 5\n",
        "X"
      ],
      "metadata": {
        "colab": {
          "base_uri": "https://localhost:8080/"
        },
        "id": "vG_fWI8rGWXA",
        "outputId": "cc34623e-617b-4aea-9a56-fe25db833bcf"
      },
      "execution_count": null,
      "outputs": [
        {
          "output_type": "execute_result",
          "data": {
            "text/plain": [
              "10"
            ]
          },
          "metadata": {},
          "execution_count": 47
        }
      ]
    },
    {
      "cell_type": "code",
      "source": [
        "X = 10\n",
        "X += 5\n",
        "X"
      ],
      "metadata": {
        "colab": {
          "base_uri": "https://localhost:8080/"
        },
        "id": "Zhg_M-9qMwAL",
        "outputId": "9866905c-bb35-417d-9b2f-4d05f162c2ad"
      },
      "execution_count": null,
      "outputs": [
        {
          "output_type": "execute_result",
          "data": {
            "text/plain": [
              "15"
            ]
          },
          "metadata": {},
          "execution_count": 49
        }
      ]
    },
    {
      "cell_type": "markdown",
      "source": [
        "Comparision Oprator :"
      ],
      "metadata": {
        "id": "pPJme6nnN0nU"
      }
    },
    {
      "cell_type": "markdown",
      "source": [
        "Equal to ( == )"
      ],
      "metadata": {
        "id": "Sos17jv4N9Ls"
      }
    },
    {
      "cell_type": "code",
      "source": [
        "2==2\n"
      ],
      "metadata": {
        "colab": {
          "base_uri": "https://localhost:8080/"
        },
        "id": "hPCsxEsgMwC6",
        "outputId": "d0e7c50d-a9b4-4530-c205-11f8ae38d383"
      },
      "execution_count": null,
      "outputs": [
        {
          "output_type": "execute_result",
          "data": {
            "text/plain": [
              "True"
            ]
          },
          "metadata": {},
          "execution_count": 50
        }
      ]
    },
    {
      "cell_type": "code",
      "source": [
        "X = 7\n",
        "Y = 6\n",
        "X == Y"
      ],
      "metadata": {
        "colab": {
          "base_uri": "https://localhost:8080/"
        },
        "id": "rhzZNWviMwFp",
        "outputId": "a3b4522d-cf57-4511-896d-ec7cf9ff4b91"
      },
      "execution_count": null,
      "outputs": [
        {
          "output_type": "execute_result",
          "data": {
            "text/plain": [
              "False"
            ]
          },
          "metadata": {},
          "execution_count": 51
        }
      ]
    },
    {
      "cell_type": "code",
      "source": [
        "X = 120\n",
        "Y = 120\n",
        "X == Y"
      ],
      "metadata": {
        "colab": {
          "base_uri": "https://localhost:8080/"
        },
        "id": "qfdgQP-jMwI6",
        "outputId": "2602b54b-114a-4fba-d864-384e06ea602a"
      },
      "execution_count": null,
      "outputs": [
        {
          "output_type": "execute_result",
          "data": {
            "text/plain": [
              "True"
            ]
          },
          "metadata": {},
          "execution_count": 52
        }
      ]
    },
    {
      "cell_type": "markdown",
      "source": [
        "Not Equal to ( != )"
      ],
      "metadata": {
        "id": "e4EeUCFFOWgo"
      }
    },
    {
      "cell_type": "code",
      "source": [
        "4 != 7"
      ],
      "metadata": {
        "colab": {
          "base_uri": "https://localhost:8080/"
        },
        "id": "QK5IT7LjOOth",
        "outputId": "1fe18ae3-98cb-4752-c4ec-3243d27f24ca"
      },
      "execution_count": null,
      "outputs": [
        {
          "output_type": "execute_result",
          "data": {
            "text/plain": [
              "True"
            ]
          },
          "metadata": {},
          "execution_count": 53
        }
      ]
    },
    {
      "cell_type": "code",
      "source": [
        " X = 10\n",
        " Y = 9\n",
        " X != Y"
      ],
      "metadata": {
        "colab": {
          "base_uri": "https://localhost:8080/"
        },
        "id": "o_D9TKn4OOxG",
        "outputId": "d98072f1-984c-4dde-edcf-7a18895e5722"
      },
      "execution_count": null,
      "outputs": [
        {
          "output_type": "execute_result",
          "data": {
            "text/plain": [
              "True"
            ]
          },
          "metadata": {},
          "execution_count": 54
        }
      ]
    },
    {
      "cell_type": "code",
      "source": [
        "X = 10\n",
        "Y = 10\n",
        "X != Y"
      ],
      "metadata": {
        "colab": {
          "base_uri": "https://localhost:8080/"
        },
        "id": "ewC8LodmOO3Y",
        "outputId": "33fc0392-9624-44ef-ac67-39a7fb06572f"
      },
      "execution_count": null,
      "outputs": [
        {
          "output_type": "execute_result",
          "data": {
            "text/plain": [
              "False"
            ]
          },
          "metadata": {},
          "execution_count": 55
        }
      ]
    },
    {
      "cell_type": "markdown",
      "source": [
        "Greater Than ( > )"
      ],
      "metadata": {
        "id": "UaGKps6yOzRP"
      }
    },
    {
      "cell_type": "code",
      "source": [
        "5>9"
      ],
      "metadata": {
        "colab": {
          "base_uri": "https://localhost:8080/"
        },
        "id": "xwETVW-4OO6V",
        "outputId": "a4958397-c582-47b1-bd50-816c2798806a"
      },
      "execution_count": null,
      "outputs": [
        {
          "output_type": "execute_result",
          "data": {
            "text/plain": [
              "False"
            ]
          },
          "metadata": {},
          "execution_count": 56
        }
      ]
    },
    {
      "cell_type": "code",
      "source": [
        "X = 35\n",
        "Y = 12\n",
        "X > Y"
      ],
      "metadata": {
        "colab": {
          "base_uri": "https://localhost:8080/"
        },
        "id": "mYuLcZDEOO9Y",
        "outputId": "ff7bd7f2-8a9c-4ee2-c4bf-5aff890fd04f"
      },
      "execution_count": null,
      "outputs": [
        {
          "output_type": "execute_result",
          "data": {
            "text/plain": [
              "True"
            ]
          },
          "metadata": {},
          "execution_count": 57
        }
      ]
    },
    {
      "cell_type": "markdown",
      "source": [
        "Less than ( < )"
      ],
      "metadata": {
        "id": "DwfgiT0OYTnD"
      }
    },
    {
      "cell_type": "code",
      "source": [
        "6 < 10"
      ],
      "metadata": {
        "id": "1iTioDkfOO__",
        "colab": {
          "base_uri": "https://localhost:8080/"
        },
        "outputId": "82e10b39-a907-4da6-a9e2-0bc5e39b6302"
      },
      "execution_count": null,
      "outputs": [
        {
          "output_type": "execute_result",
          "data": {
            "text/plain": [
              "True"
            ]
          },
          "metadata": {},
          "execution_count": 58
        }
      ]
    },
    {
      "cell_type": "code",
      "source": [
        "X = 87\n",
        "Y = 10\n",
        "X < Y"
      ],
      "metadata": {
        "id": "8rWQVRwgOPF3",
        "colab": {
          "base_uri": "https://localhost:8080/"
        },
        "outputId": "e2acfca0-aef3-4983-c73d-7b6cb7fcae3f"
      },
      "execution_count": null,
      "outputs": [
        {
          "output_type": "execute_result",
          "data": {
            "text/plain": [
              "False"
            ]
          },
          "metadata": {},
          "execution_count": 59
        }
      ]
    },
    {
      "cell_type": "code",
      "source": [
        "X = 10\n",
        "Y = 87\n",
        "X < Y"
      ],
      "metadata": {
        "id": "7uZ0rYC9OPI6",
        "colab": {
          "base_uri": "https://localhost:8080/"
        },
        "outputId": "29cfec11-03b2-4fa9-f35b-ac4200883136"
      },
      "execution_count": null,
      "outputs": [
        {
          "output_type": "execute_result",
          "data": {
            "text/plain": [
              "True"
            ]
          },
          "metadata": {},
          "execution_count": 60
        }
      ]
    },
    {
      "cell_type": "markdown",
      "source": [
        "Greater Than Equal to ( >= )\n"
      ],
      "metadata": {
        "id": "FOgQObX1Y2U5"
      }
    },
    {
      "cell_type": "code",
      "source": [
        "4 >= 5"
      ],
      "metadata": {
        "colab": {
          "base_uri": "https://localhost:8080/"
        },
        "id": "9LarfUiqYzWp",
        "outputId": "1c89a54c-1de2-442f-cb30-a22644a89a3f"
      },
      "execution_count": null,
      "outputs": [
        {
          "output_type": "execute_result",
          "data": {
            "text/plain": [
              "False"
            ]
          },
          "metadata": {},
          "execution_count": 61
        }
      ]
    },
    {
      "cell_type": "code",
      "source": [
        "X = 76\n",
        "Y = 35\n",
        "X >= Y"
      ],
      "metadata": {
        "colab": {
          "base_uri": "https://localhost:8080/"
        },
        "id": "MtdVGiXnYzaM",
        "outputId": "f010b6b1-b953-4866-9698-53f6b9df4914"
      },
      "execution_count": null,
      "outputs": [
        {
          "output_type": "execute_result",
          "data": {
            "text/plain": [
              "True"
            ]
          },
          "metadata": {},
          "execution_count": 62
        }
      ]
    },
    {
      "cell_type": "code",
      "source": [
        "X = 35\n",
        "Y = 76\n",
        "X >= Y"
      ],
      "metadata": {
        "colab": {
          "base_uri": "https://localhost:8080/"
        },
        "id": "dGduEi7rYzdb",
        "outputId": "d8f56ce4-dd37-46bf-d2f5-eed15a2bb3cf"
      },
      "execution_count": null,
      "outputs": [
        {
          "output_type": "execute_result",
          "data": {
            "text/plain": [
              "False"
            ]
          },
          "metadata": {},
          "execution_count": 63
        }
      ]
    },
    {
      "cell_type": "markdown",
      "source": [
        "Less than Equal to ( <= )"
      ],
      "metadata": {
        "id": "opqI1k4HZbNp"
      }
    },
    {
      "cell_type": "code",
      "source": [
        "12 <= 13"
      ],
      "metadata": {
        "colab": {
          "base_uri": "https://localhost:8080/"
        },
        "id": "oQ3wrjbwYzgt",
        "outputId": "e8a942b2-d1a4-42b4-b26e-967340e5c98a"
      },
      "execution_count": null,
      "outputs": [
        {
          "output_type": "execute_result",
          "data": {
            "text/plain": [
              "True"
            ]
          },
          "metadata": {},
          "execution_count": 64
        }
      ]
    },
    {
      "cell_type": "code",
      "source": [
        "X = 87\n",
        "Y = 76\n",
        "X <= Y"
      ],
      "metadata": {
        "colab": {
          "base_uri": "https://localhost:8080/"
        },
        "id": "MC0wcEQJYzj6",
        "outputId": "6f8c84b9-b7a2-4fc7-9cd6-4dceca6d250a"
      },
      "execution_count": null,
      "outputs": [
        {
          "output_type": "execute_result",
          "data": {
            "text/plain": [
              "False"
            ]
          },
          "metadata": {},
          "execution_count": 65
        }
      ]
    },
    {
      "cell_type": "code",
      "source": [
        "X = 76\n",
        "Y = 87\n",
        "X <= Y"
      ],
      "metadata": {
        "colab": {
          "base_uri": "https://localhost:8080/"
        },
        "id": "PRoE49ApYzm7",
        "outputId": "10ab70a8-4b14-49ec-bb0e-bc5fa532f544"
      },
      "execution_count": null,
      "outputs": [
        {
          "output_type": "execute_result",
          "data": {
            "text/plain": [
              "True"
            ]
          },
          "metadata": {},
          "execution_count": 66
        }
      ]
    },
    {
      "cell_type": "markdown",
      "source": [
        "4   LOGICAL OPRATOR"
      ],
      "metadata": {
        "id": "zIztjyG_aBW6"
      }
    },
    {
      "cell_type": "markdown",
      "source": [
        "AND  --- > AND retuns true if Both of the statement true"
      ],
      "metadata": {
        "id": "3nhSX52ZaJeM"
      }
    },
    {
      "cell_type": "code",
      "source": [
        " X = 6\n",
        " X < 10 and X > 1"
      ],
      "metadata": {
        "colab": {
          "base_uri": "https://localhost:8080/"
        },
        "id": "fDrYDBcJYzqJ",
        "outputId": "d28f7dbe-9772-4d7f-8c4c-976ed44b4ffa"
      },
      "execution_count": null,
      "outputs": [
        {
          "output_type": "execute_result",
          "data": {
            "text/plain": [
              "True"
            ]
          },
          "metadata": {},
          "execution_count": 67
        }
      ]
    },
    {
      "cell_type": "code",
      "source": [
        "x = 6\n",
        "x < 10 and x > 10"
      ],
      "metadata": {
        "colab": {
          "base_uri": "https://localhost:8080/"
        },
        "id": "QY9XhAb3Yzs8",
        "outputId": "10c858b2-211b-4cec-82e7-6fcc6e7fd63f"
      },
      "execution_count": null,
      "outputs": [
        {
          "output_type": "execute_result",
          "data": {
            "text/plain": [
              "False"
            ]
          },
          "metadata": {},
          "execution_count": 69
        }
      ]
    },
    {
      "cell_type": "markdown",
      "source": [
        "OR   -----> Return true if one of the statement are true"
      ],
      "metadata": {
        "id": "hhL-IpmxbeEa"
      }
    },
    {
      "cell_type": "code",
      "source": [
        "X = 8\n",
        "X < 10 or X>12"
      ],
      "metadata": {
        "colab": {
          "base_uri": "https://localhost:8080/"
        },
        "id": "eL54S5UrYzv7",
        "outputId": "c0a81974-7b0f-49b9-ab79-d90e9c99ca06"
      },
      "execution_count": null,
      "outputs": [
        {
          "output_type": "execute_result",
          "data": {
            "text/plain": [
              "True"
            ]
          },
          "metadata": {},
          "execution_count": 70
        }
      ]
    },
    {
      "cell_type": "code",
      "source": [
        "x = 8\n",
        "X < 7 or X > 12"
      ],
      "metadata": {
        "colab": {
          "base_uri": "https://localhost:8080/"
        },
        "id": "KpXGP4AQYzy7",
        "outputId": "5717a3aa-f89e-4560-aab2-1798c37becfb"
      },
      "execution_count": null,
      "outputs": [
        {
          "output_type": "execute_result",
          "data": {
            "text/plain": [
              "False"
            ]
          },
          "metadata": {},
          "execution_count": 72
        }
      ]
    },
    {
      "cell_type": "code",
      "source": [
        "X = 120\n",
        "X < 11 or X > 110"
      ],
      "metadata": {
        "colab": {
          "base_uri": "https://localhost:8080/"
        },
        "id": "V5OSUICgcDSR",
        "outputId": "62e95ebf-25c1-430d-de7a-2a97565f3a91"
      },
      "execution_count": null,
      "outputs": [
        {
          "output_type": "execute_result",
          "data": {
            "text/plain": [
              "True"
            ]
          },
          "metadata": {},
          "execution_count": 74
        }
      ]
    },
    {
      "cell_type": "markdown",
      "source": [
        "NOT -----> Return  the results reverse  "
      ],
      "metadata": {
        "id": "THN0RBxpcYcu"
      }
    },
    {
      "cell_type": "code",
      "source": [
        "X = True\n",
        "not x"
      ],
      "metadata": {
        "colab": {
          "base_uri": "https://localhost:8080/"
        },
        "id": "6QPqU8s_cDVt",
        "outputId": "0b0aca4c-6f99-4563-ec1e-9402c7a2f124"
      },
      "execution_count": null,
      "outputs": [
        {
          "output_type": "execute_result",
          "data": {
            "text/plain": [
              "False"
            ]
          },
          "metadata": {},
          "execution_count": 75
        }
      ]
    },
    {
      "cell_type": "code",
      "source": [
        "X = False\n",
        "not X"
      ],
      "metadata": {
        "colab": {
          "base_uri": "https://localhost:8080/"
        },
        "id": "VoMz0l8ccDY0",
        "outputId": "c1bf085a-60a9-4ab6-fcc8-baf17a903506"
      },
      "execution_count": null,
      "outputs": [
        {
          "output_type": "execute_result",
          "data": {
            "text/plain": [
              "True"
            ]
          },
          "metadata": {},
          "execution_count": 76
        }
      ]
    },
    {
      "cell_type": "markdown",
      "source": [
        "IDENTITY OPRATOR : It compare memory locations of two objects."
      ],
      "metadata": {
        "id": "LkDdU-7pdCHz"
      }
    },
    {
      "cell_type": "markdown",
      "source": [
        "\"is\" Oprator"
      ],
      "metadata": {
        "id": "uXHy6J2PddSt"
      }
    },
    {
      "cell_type": "code",
      "source": [
        "X = 10\n",
        "Y = 10\n",
        "X is Y"
      ],
      "metadata": {
        "colab": {
          "base_uri": "https://localhost:8080/"
        },
        "id": "UgL3kH8ZcDeo",
        "outputId": "ee2fd320-82a7-4639-b5e6-492c24b2707b"
      },
      "execution_count": null,
      "outputs": [
        {
          "output_type": "execute_result",
          "data": {
            "text/plain": [
              "True"
            ]
          },
          "metadata": {},
          "execution_count": 77
        }
      ]
    },
    {
      "cell_type": "code",
      "source": [
        "X = 10\n",
        "Y = 9\n",
        "X is Y"
      ],
      "metadata": {
        "colab": {
          "base_uri": "https://localhost:8080/"
        },
        "id": "VpCKyZbTcDhp",
        "outputId": "82006c55-2206-4095-ce2d-50c0c217528d"
      },
      "execution_count": null,
      "outputs": [
        {
          "output_type": "execute_result",
          "data": {
            "text/plain": [
              "False"
            ]
          },
          "metadata": {},
          "execution_count": 78
        }
      ]
    },
    {
      "cell_type": "markdown",
      "source": [
        "\"is not \" Oprator"
      ],
      "metadata": {
        "id": "F8hXE8G8dxwN"
      }
    },
    {
      "cell_type": "code",
      "source": [
        "X = 10\n",
        "Y = 20\n",
        "X is not Y"
      ],
      "metadata": {
        "colab": {
          "base_uri": "https://localhost:8080/"
        },
        "id": "aHIEq83xcDk5",
        "outputId": "816b92bd-5475-4f99-83b8-e7ba521b2c24"
      },
      "execution_count": null,
      "outputs": [
        {
          "output_type": "execute_result",
          "data": {
            "text/plain": [
              "True"
            ]
          },
          "metadata": {},
          "execution_count": 79
        }
      ]
    },
    {
      "cell_type": "code",
      "source": [
        "X = 10\n",
        "Y = 10\n",
        "X is not Y"
      ],
      "metadata": {
        "colab": {
          "base_uri": "https://localhost:8080/"
        },
        "id": "EWHCC2X7cDoN",
        "outputId": "2395a539-dd60-4f7a-ddba-ff10fd3ffe10"
      },
      "execution_count": null,
      "outputs": [
        {
          "output_type": "execute_result",
          "data": {
            "text/plain": [
              "False"
            ]
          },
          "metadata": {},
          "execution_count": 82
        }
      ]
    },
    {
      "cell_type": "markdown",
      "source": [
        "Membership Oprator\n"
      ],
      "metadata": {
        "id": "1Q9XoRcsmQ80"
      }
    },
    {
      "cell_type": "markdown",
      "source": [
        "\"in\" Oprator"
      ],
      "metadata": {
        "id": "8v1k92CrmdDb"
      }
    },
    {
      "cell_type": "code",
      "source": [
        "t=(3,4,7,5,8)\n",
        "5 in t"
      ],
      "metadata": {
        "colab": {
          "base_uri": "https://localhost:8080/"
        },
        "id": "yECXTGh7cDrL",
        "outputId": "df130623-00f1-47ea-bf98-e103f58ce6c9"
      },
      "execution_count": null,
      "outputs": [
        {
          "output_type": "execute_result",
          "data": {
            "text/plain": [
              "True"
            ]
          },
          "metadata": {},
          "execution_count": 83
        }
      ]
    },
    {
      "cell_type": "code",
      "source": [
        "t=(3,4,7,5,8)\n",
        "10 in t"
      ],
      "metadata": {
        "colab": {
          "base_uri": "https://localhost:8080/"
        },
        "id": "m-JDaaMicDt6",
        "outputId": "8b9680c9-aac3-41b3-a797-6c962a2649a5"
      },
      "execution_count": null,
      "outputs": [
        {
          "output_type": "execute_result",
          "data": {
            "text/plain": [
              "False"
            ]
          },
          "metadata": {},
          "execution_count": 84
        }
      ]
    },
    {
      "cell_type": "markdown",
      "source": [
        "\" not in \" Oprator"
      ],
      "metadata": {
        "id": "RtNIFht4myLy"
      }
    },
    {
      "cell_type": "code",
      "source": [
        "t=(3,4,7,5,8)\n",
        "5 not in t"
      ],
      "metadata": {
        "colab": {
          "base_uri": "https://localhost:8080/"
        },
        "id": "IMdN8lIVcDxI",
        "outputId": "3a591fa9-c887-41c2-887f-a11813de3df8"
      },
      "execution_count": null,
      "outputs": [
        {
          "output_type": "execute_result",
          "data": {
            "text/plain": [
              "False"
            ]
          },
          "metadata": {},
          "execution_count": 85
        }
      ]
    },
    {
      "cell_type": "code",
      "source": [
        "t=(3,4,7,5,8)\n",
        "10 not in t"
      ],
      "metadata": {
        "colab": {
          "base_uri": "https://localhost:8080/"
        },
        "id": "zthVY5JQmvo9",
        "outputId": "d1750e58-dd5e-4439-9ed1-35c1d7a8bc1e"
      },
      "execution_count": null,
      "outputs": [
        {
          "output_type": "execute_result",
          "data": {
            "text/plain": [
              "True"
            ]
          },
          "metadata": {},
          "execution_count": 86
        }
      ]
    },
    {
      "cell_type": "markdown",
      "source": [
        "String Formating"
      ],
      "metadata": {
        "id": "imcF_EQmEy8o"
      }
    },
    {
      "cell_type": "code",
      "source": [
        "first_name = 'Rose'\n",
        "last_name = 'Mary'\n",
        "print('Hello ! I am {} {}'.format(first_name,last_name))"
      ],
      "metadata": {
        "id": "1cUaO1Nlmvqg",
        "colab": {
          "base_uri": "https://localhost:8080/"
        },
        "outputId": "5d9fb380-4c1f-431e-c244-9a15732f2143"
      },
      "execution_count": null,
      "outputs": [
        {
          "output_type": "stream",
          "name": "stdout",
          "text": [
            "Hello ! I am Rose Mary\n"
          ]
        }
      ]
    },
    {
      "cell_type": "code",
      "source": [
        "first_name = 'Rose'\n",
        "last_name = 'Mary'\n",
        "print('Hello ! I am {0} {1}'.format(first_name,last_name))"
      ],
      "metadata": {
        "id": "fHO6qJKJmvti",
        "colab": {
          "base_uri": "https://localhost:8080/"
        },
        "outputId": "0e85d20d-3d58-480b-9f1b-4b1ee0e47326"
      },
      "execution_count": null,
      "outputs": [
        {
          "output_type": "stream",
          "name": "stdout",
          "text": [
            "Hello ! I am Rose Mary\n"
          ]
        }
      ]
    },
    {
      "cell_type": "code",
      "source": [
        "first_name = 'Rose'\n",
        "last_name = 'Mary'\n",
        "print(f'Hello ! I am {first_name} {last_name}')"
      ],
      "metadata": {
        "id": "_wPchiMZmvvS",
        "colab": {
          "base_uri": "https://localhost:8080/"
        },
        "outputId": "c13e9888-37ac-4dc1-bf18-57472ea0f8f6"
      },
      "execution_count": null,
      "outputs": [
        {
          "output_type": "stream",
          "name": "stdout",
          "text": [
            "Hello ! I am Rose Mary\n"
          ]
        }
      ]
    },
    {
      "cell_type": "code",
      "source": [
        "f_name = 'Krshna'\n",
        "age = 'not defined'\n",
        "print(f'{f_name} is suprime godest of the god whose age is {age}')"
      ],
      "metadata": {
        "id": "K4vMTQOLcD0Z",
        "colab": {
          "base_uri": "https://localhost:8080/"
        },
        "outputId": "ebb82d8d-6e33-4e01-93c3-62b050645265"
      },
      "execution_count": null,
      "outputs": [
        {
          "output_type": "stream",
          "name": "stdout",
          "text": [
            "Krshna is suprime godest of the god whose age is not defined\n"
          ]
        }
      ]
    },
    {
      "cell_type": "markdown",
      "source": [
        "Strings Methods"
      ],
      "metadata": {
        "id": "TL-JWwp0HOhA"
      }
    },
    {
      "cell_type": "code",
      "source": [
        "# Captitalize () Method\n",
        "s='bollywood'\n",
        "s.capitalize()"
      ],
      "metadata": {
        "colab": {
          "base_uri": "https://localhost:8080/",
          "height": 35
        },
        "id": "2zByGG3qGNQu",
        "outputId": "8f8a08fd-9371-4f35-f36c-1b96f1a6e940"
      },
      "execution_count": null,
      "outputs": [
        {
          "output_type": "execute_result",
          "data": {
            "text/plain": [
              "'Bollywood'"
            ],
            "application/vnd.google.colaboratory.intrinsic+json": {
              "type": "string"
            }
          },
          "metadata": {},
          "execution_count": 6
        }
      ]
    },
    {
      "cell_type": "code",
      "source": [
        "# lower() method\n",
        "s1='CINEMA'\n",
        "s1.lower()"
      ],
      "metadata": {
        "colab": {
          "base_uri": "https://localhost:8080/",
          "height": 35
        },
        "id": "36jKYOohGNT7",
        "outputId": "397c5da1-c091-4942-9d71-336906a25d29"
      },
      "execution_count": null,
      "outputs": [
        {
          "output_type": "execute_result",
          "data": {
            "text/plain": [
              "'cinema'"
            ],
            "application/vnd.google.colaboratory.intrinsic+json": {
              "type": "string"
            }
          },
          "metadata": {},
          "execution_count": 7
        }
      ]
    },
    {
      "cell_type": "code",
      "source": [
        "# upper() method\n",
        "a = 'movie'\n",
        "a.upper()"
      ],
      "metadata": {
        "colab": {
          "base_uri": "https://localhost:8080/",
          "height": 35
        },
        "id": "OzPLFfCsGNW_",
        "outputId": "51f918fd-5c64-43f0-dc4e-016ba5450006"
      },
      "execution_count": null,
      "outputs": [
        {
          "output_type": "execute_result",
          "data": {
            "text/plain": [
              "'MOVIE'"
            ],
            "application/vnd.google.colaboratory.intrinsic+json": {
              "type": "string"
            }
          },
          "metadata": {},
          "execution_count": 8
        }
      ]
    },
    {
      "cell_type": "code",
      "source": [
        "# join() method\n",
        "s1 = ['Ram','Shyam','Mohan','Govind','Krshna']\n",
        "x=\" \".join(s1)\n",
        "x"
      ],
      "metadata": {
        "colab": {
          "base_uri": "https://localhost:8080/",
          "height": 35
        },
        "id": "i_MHvjEsGNZ8",
        "outputId": "e82b9500-3576-4d9f-a6ca-8b524d07933b"
      },
      "execution_count": null,
      "outputs": [
        {
          "output_type": "execute_result",
          "data": {
            "text/plain": [
              "'Ram Shyam Mohan Govind Krshna'"
            ],
            "application/vnd.google.colaboratory.intrinsic+json": {
              "type": "string"
            }
          },
          "metadata": {},
          "execution_count": 13
        }
      ]
    },
    {
      "cell_type": "code",
      "source": [
        "# len()function -- Space also counted\n",
        "s='Python Programming Language'\n",
        "len(s)"
      ],
      "metadata": {
        "colab": {
          "base_uri": "https://localhost:8080/"
        },
        "id": "C48CwyF2GNdA",
        "outputId": "dbd6f163-198d-4d21-bea5-c00cce2024c5"
      },
      "execution_count": null,
      "outputs": [
        {
          "output_type": "execute_result",
          "data": {
            "text/plain": [
              "27"
            ]
          },
          "metadata": {},
          "execution_count": 14
        }
      ]
    },
    {
      "cell_type": "code",
      "source": [
        "# Count () function\n",
        "st = 'Lionel Messi'\n",
        "st.count('s')"
      ],
      "metadata": {
        "colab": {
          "base_uri": "https://localhost:8080/"
        },
        "id": "txRjeuJXGNgM",
        "outputId": "b4b33246-a22a-48f7-8d4b-7aa1a44394d0"
      },
      "execution_count": null,
      "outputs": [
        {
          "output_type": "execute_result",
          "data": {
            "text/plain": [
              "2"
            ]
          },
          "metadata": {},
          "execution_count": 16
        }
      ]
    },
    {
      "cell_type": "code",
      "source": [
        "# find () function\n",
        "s = 'Ronaldo'\n",
        "s.find('a')"
      ],
      "metadata": {
        "colab": {
          "base_uri": "https://localhost:8080/"
        },
        "id": "wzEr9XxzGNi9",
        "outputId": "465e50cc-30b5-4fa9-8ebb-f135cf07220e"
      },
      "execution_count": null,
      "outputs": [
        {
          "output_type": "execute_result",
          "data": {
            "text/plain": [
              "3"
            ]
          },
          "metadata": {},
          "execution_count": 18
        }
      ]
    },
    {
      "cell_type": "code",
      "source": [
        "s = 'Ronaldo'\n",
        "s.find('u')"
      ],
      "metadata": {
        "colab": {
          "base_uri": "https://localhost:8080/"
        },
        "id": "B8jd9014GNmK",
        "outputId": "4f8154af-b0b1-42d4-a570-47ff0d74d91b"
      },
      "execution_count": null,
      "outputs": [
        {
          "output_type": "execute_result",
          "data": {
            "text/plain": [
              "-1"
            ]
          },
          "metadata": {},
          "execution_count": 19
        }
      ]
    },
    {
      "cell_type": "code",
      "source": [
        " # islower()\n",
        " s='actor'\n",
        " s.islower()"
      ],
      "metadata": {
        "colab": {
          "base_uri": "https://localhost:8080/"
        },
        "id": "wrCFdb9LJxLO",
        "outputId": "91371182-0554-4f9d-826f-8814f5065672"
      },
      "execution_count": null,
      "outputs": [
        {
          "output_type": "execute_result",
          "data": {
            "text/plain": [
              "True"
            ]
          },
          "metadata": {},
          "execution_count": 20
        }
      ]
    },
    {
      "cell_type": "code",
      "source": [
        "# isupper()\n",
        "a='SONG'\n",
        "a.isupper()"
      ],
      "metadata": {
        "colab": {
          "base_uri": "https://localhost:8080/"
        },
        "id": "emhs8jJCJxOk",
        "outputId": "6f3e8ee7-673d-4f17-91a4-87e575a4ce7e"
      },
      "execution_count": null,
      "outputs": [
        {
          "output_type": "execute_result",
          "data": {
            "text/plain": [
              "True"
            ]
          },
          "metadata": {},
          "execution_count": 21
        }
      ]
    },
    {
      "cell_type": "code",
      "source": [
        "s = 'Ronaldo'\n",
        "s.isupper()"
      ],
      "metadata": {
        "colab": {
          "base_uri": "https://localhost:8080/"
        },
        "id": "es1UgFWyJxRx",
        "outputId": "66df27e7-0541-4903-9b59-247cf5d60080"
      },
      "execution_count": null,
      "outputs": [
        {
          "output_type": "execute_result",
          "data": {
            "text/plain": [
              "False"
            ]
          },
          "metadata": {},
          "execution_count": 22
        }
      ]
    },
    {
      "cell_type": "code",
      "source": [
        "# split() Method\n",
        "s = 'Data+Science'\n",
        "s.split('+')"
      ],
      "metadata": {
        "colab": {
          "base_uri": "https://localhost:8080/"
        },
        "id": "8Y_ARFXnJxUj",
        "outputId": "9f375eb3-0cb2-4811-8a67-0b9c910331f2"
      },
      "execution_count": null,
      "outputs": [
        {
          "output_type": "execute_result",
          "data": {
            "text/plain": [
              "['Data', 'Science']"
            ]
          },
          "metadata": {},
          "execution_count": 23
        }
      ]
    },
    {
      "cell_type": "code",
      "source": [
        "s1 ='Data Science'\n",
        "s1.split(\" \")"
      ],
      "metadata": {
        "colab": {
          "base_uri": "https://localhost:8080/"
        },
        "id": "XCnfxxq0JxXV",
        "outputId": "08659d99-46a0-4a72-bd73-a1d10962175c"
      },
      "execution_count": null,
      "outputs": [
        {
          "output_type": "execute_result",
          "data": {
            "text/plain": [
              "['Data', 'Science']"
            ]
          },
          "metadata": {},
          "execution_count": 27
        }
      ]
    },
    {
      "cell_type": "code",
      "source": [
        "# Strip method\n",
        "s ='   Tom Cruise'\n",
        "s.strip()"
      ],
      "metadata": {
        "colab": {
          "base_uri": "https://localhost:8080/",
          "height": 35
        },
        "id": "wpffd22XJxaS",
        "outputId": "0fc94946-0c72-40f5-8bae-d81f2d7f7138"
      },
      "execution_count": null,
      "outputs": [
        {
          "output_type": "execute_result",
          "data": {
            "text/plain": [
              "'Tom Cruise'"
            ],
            "application/vnd.google.colaboratory.intrinsic+json": {
              "type": "string"
            }
          },
          "metadata": {},
          "execution_count": 28
        }
      ]
    },
    {
      "cell_type": "markdown",
      "source": [
        "User Input"
      ],
      "metadata": {
        "id": "wbOqhxj_LON6"
      }
    },
    {
      "cell_type": "code",
      "source": [
        "input()"
      ],
      "metadata": {
        "colab": {
          "base_uri": "https://localhost:8080/",
          "height": 52
        },
        "id": "1UBZhURKJx3g",
        "outputId": "0dee6053-d6f0-4854-aa11-19cc64c0e0bb"
      },
      "execution_count": null,
      "outputs": [
        {
          "name": "stdout",
          "output_type": "stream",
          "text": [
            "Nice function\n"
          ]
        },
        {
          "output_type": "execute_result",
          "data": {
            "text/plain": [
              "'Nice function'"
            ],
            "application/vnd.google.colaboratory.intrinsic+json": {
              "type": "string"
            }
          },
          "metadata": {},
          "execution_count": 29
        }
      ]
    },
    {
      "cell_type": "code",
      "source": [
        "input('Enter Any Number:')"
      ],
      "metadata": {
        "colab": {
          "base_uri": "https://localhost:8080/",
          "height": 52
        },
        "id": "BuA2j7hZJx6i",
        "outputId": "35e366b0-6f4a-4f99-902c-7a36f49138cf"
      },
      "execution_count": null,
      "outputs": [
        {
          "name": "stdout",
          "output_type": "stream",
          "text": [
            "Enter Any Number:100\n"
          ]
        },
        {
          "output_type": "execute_result",
          "data": {
            "text/plain": [
              "'100'"
            ],
            "application/vnd.google.colaboratory.intrinsic+json": {
              "type": "string"
            }
          },
          "metadata": {},
          "execution_count": 31
        }
      ]
    },
    {
      "cell_type": "code",
      "source": [
        "x=input()"
      ],
      "metadata": {
        "colab": {
          "base_uri": "https://localhost:8080/"
        },
        "id": "OTBZ9re_Lr0S",
        "outputId": "26c400ac-6850-4754-aa81-5de1f115d262"
      },
      "execution_count": null,
      "outputs": [
        {
          "name": "stdout",
          "output_type": "stream",
          "text": [
            "Python\n"
          ]
        }
      ]
    },
    {
      "cell_type": "code",
      "source": [
        "x=input(\"Enter your name: \")"
      ],
      "metadata": {
        "colab": {
          "base_uri": "https://localhost:8080/"
        },
        "id": "KYdN3c_TLr3e",
        "outputId": "46fe53c9-53ca-488a-e881-78534de00e2e"
      },
      "execution_count": null,
      "outputs": [
        {
          "name": "stdout",
          "output_type": "stream",
          "text": [
            "Enter your name: Bhimrao\n"
          ]
        }
      ]
    },
    {
      "cell_type": "code",
      "source": [
        "x=int(input(\"Enter your age:\"))"
      ],
      "metadata": {
        "colab": {
          "base_uri": "https://localhost:8080/"
        },
        "id": "fpBhsVTkLr6V",
        "outputId": "7641ddb8-1bfd-430e-ffd6-fcd54e2fa196"
      },
      "execution_count": null,
      "outputs": [
        {
          "name": "stdout",
          "output_type": "stream",
          "text": [
            "Enter your age:38\n"
          ]
        }
      ]
    },
    {
      "cell_type": "code",
      "source": [
        "y = float(input('Enter your salary:'))"
      ],
      "metadata": {
        "colab": {
          "base_uri": "https://localhost:8080/"
        },
        "id": "iBIIYt4lMdWA",
        "outputId": "67692b64-14ac-4000-de20-303fac2cb909"
      },
      "execution_count": null,
      "outputs": [
        {
          "name": "stdout",
          "output_type": "stream",
          "text": [
            "Enter your salary:2200000.60\n"
          ]
        }
      ]
    },
    {
      "cell_type": "code",
      "source": [
        "a=int(input(\"Enter First Number:\")) # Type Casting\n",
        "b=int(input(\"Enter Second Number:\"))\n",
        "c=a+b\n",
        "print(\"Sum of two numbers:\",c)"
      ],
      "metadata": {
        "colab": {
          "base_uri": "https://localhost:8080/"
        },
        "id": "YgW5ybyAg3k2",
        "outputId": "f9e132da-c98f-4fe2-c753-b501c87f4d35"
      },
      "execution_count": null,
      "outputs": [
        {
          "output_type": "stream",
          "name": "stdout",
          "text": [
            "Enter First Number:10\n",
            "Enter Second Number:20\n",
            "Sum of two numbers: 30\n"
          ]
        }
      ]
    },
    {
      "cell_type": "code",
      "source": [
        "type(a)"
      ],
      "metadata": {
        "colab": {
          "base_uri": "https://localhost:8080/"
        },
        "id": "cZUWo11BhgiT",
        "outputId": "351b3d8f-6153-4226-9b55-122dfd309b8f"
      },
      "execution_count": null,
      "outputs": [
        {
          "output_type": "execute_result",
          "data": {
            "text/plain": [
              "int"
            ]
          },
          "metadata": {},
          "execution_count": 98
        }
      ]
    },
    {
      "cell_type": "code",
      "source": [
        "type(b)"
      ],
      "metadata": {
        "colab": {
          "base_uri": "https://localhost:8080/"
        },
        "id": "MRB7WHayipX7",
        "outputId": "9540430a-4281-450b-8409-ef6d59f2f92c"
      },
      "execution_count": null,
      "outputs": [
        {
          "output_type": "execute_result",
          "data": {
            "text/plain": [
              "int"
            ]
          },
          "metadata": {},
          "execution_count": 99
        }
      ]
    },
    {
      "cell_type": "code",
      "source": [
        "a=int(input(\"Enter First Number:\")) # Type Casting\n",
        "b=int(input(\"Enter Second Number:\"))\n",
        "c=a/b\n",
        "print(\"Division of two Numbers :\",c)"
      ],
      "metadata": {
        "colab": {
          "base_uri": "https://localhost:8080/"
        },
        "id": "qL7VKnJhi0iI",
        "outputId": "bfee2248-366e-4453-c4a0-b0e377b8645d"
      },
      "execution_count": null,
      "outputs": [
        {
          "output_type": "stream",
          "name": "stdout",
          "text": [
            "Enter First Number:200\n",
            "Enter Second Number:19\n",
            "Division of two Numbers : 10.526315789473685\n"
          ]
        }
      ]
    },
    {
      "cell_type": "code",
      "source": [
        "type(c)"
      ],
      "metadata": {
        "colab": {
          "base_uri": "https://localhost:8080/"
        },
        "id": "D_LoJWOOkVYe",
        "outputId": "a56c07d7-df74-4af5-f8b2-dcbd92d91806"
      },
      "execution_count": null,
      "outputs": [
        {
          "output_type": "execute_result",
          "data": {
            "text/plain": [
              "float"
            ]
          },
          "metadata": {},
          "execution_count": 109
        }
      ]
    },
    {
      "cell_type": "code",
      "source": [
        "a=int(input(\"Enter First Number:\")) # Type Casting\n",
        "b=int(input(\"Enter Second Number:\"))\n",
        "c=round(a/b)\n",
        "print(\"Division of two Numbers :\",c)"
      ],
      "metadata": {
        "colab": {
          "base_uri": "https://localhost:8080/"
        },
        "id": "zkQqUwAnjdFz",
        "outputId": "6ac5c738-d9a3-4b29-81fc-ef864c8aaf62"
      },
      "execution_count": null,
      "outputs": [
        {
          "output_type": "stream",
          "name": "stdout",
          "text": [
            "Enter First Number:200\n",
            "Enter Second Number:19\n",
            "Division of two Numbers : 11\n"
          ]
        }
      ]
    },
    {
      "cell_type": "markdown",
      "source": [
        "**Strings**"
      ],
      "metadata": {
        "id": "tfn0UgqjNXG7"
      }
    },
    {
      "cell_type": "code",
      "source": [
        "# CREATING STRINGS\n",
        "\n",
        "s1 = 'Welcome to Python'\n",
        "s2 = \"Welcome to Python\"\n",
        "S3 = '''Welcome to Python'''\n",
        "S4 = \"\"\"Welcome to Python\"\"\"\n",
        "S5 = '123'"
      ],
      "metadata": {
        "id": "p4V5gGJZkf0M"
      },
      "execution_count": null,
      "outputs": []
    },
    {
      "cell_type": "code",
      "source": [
        "S1 = 'welcome to \"Core Python\" learning'\n",
        "S2 = \"welcome to 'Core Python'learning\""
      ],
      "metadata": {
        "id": "u1w5T6xXPDxs"
      },
      "execution_count": null,
      "outputs": []
    },
    {
      "cell_type": "code",
      "source": [
        "# Length in string\n",
        "str ='Core Python'\n",
        "n = len(str)\n",
        "print(n)"
      ],
      "metadata": {
        "colab": {
          "base_uri": "https://localhost:8080/"
        },
        "id": "OiWyo2pIRch8",
        "outputId": "26ec7e1e-6bc8-46e2-f53c-8f2bd5d95218"
      },
      "execution_count": null,
      "outputs": [
        {
          "output_type": "stream",
          "name": "stdout",
          "text": [
            "11\n"
          ]
        }
      ]
    },
    {
      "cell_type": "code",
      "source": [
        "# Indexing in String\n",
        "str = \"Core Python\"\n",
        "n = len(str)\n",
        "i=0\n",
        "while i<n:\n",
        "  print(str[i], end=' ')\n",
        "  i+=1\n",
        "\n",
        "\n"
      ],
      "metadata": {
        "colab": {
          "base_uri": "https://localhost:8080/"
        },
        "id": "gIfvJjNPR3tP",
        "outputId": "559c0cd8-f298-4832-aebe-7b24eadfde56"
      },
      "execution_count": null,
      "outputs": [
        {
          "output_type": "stream",
          "name": "stdout",
          "text": [
            "C o r e   P y t h o n "
          ]
        }
      ]
    },
    {
      "cell_type": "code",
      "source": [
        "str = \"Core Python\"\n",
        "n = len(str)\n",
        "i=0\n",
        "while i<n:\n",
        "  print(str[i], end=' ')\n",
        "  i+=1\n",
        "print() # Put cursor into new line\n",
        "i=-1\n",
        "while i>=-n:\n",
        "  print(str[i], end=\" \")\n",
        "  i-=1\n",
        "print()\n",
        "i=1\n",
        "n = len(str)\n",
        "while i<=n:\n",
        "  print(str[-i], end=\" \")\n",
        "  i+=1\n"
      ],
      "metadata": {
        "colab": {
          "base_uri": "https://localhost:8080/"
        },
        "id": "Nng15AnjTC_D",
        "outputId": "f4271b93-afe6-4e9d-fbad-4becb98b907b"
      },
      "execution_count": null,
      "outputs": [
        {
          "output_type": "stream",
          "name": "stdout",
          "text": [
            "C o r e   P y t h o n \n",
            "n o h t y P   e r o C \n",
            "n o h t y P   e r o C "
          ]
        }
      ]
    },
    {
      "cell_type": "code",
      "source": [
        "str = 'Core Python'\n",
        "for i in str:\n",
        "  print(i, end=' ')\n",
        "print()\n",
        "for i in str[::-1]:\n",
        "  print(i, end=' ')\n"
      ],
      "metadata": {
        "colab": {
          "base_uri": "https://localhost:8080/"
        },
        "id": "3CzgyJlkUN9O",
        "outputId": "87830374-e74b-48cf-e431-a3a630f409da"
      },
      "execution_count": null,
      "outputs": [
        {
          "output_type": "stream",
          "name": "stdout",
          "text": [
            "C o r e   P y t h o n \n",
            "n o h t y P   e r o C "
          ]
        }
      ]
    },
    {
      "cell_type": "markdown",
      "source": [
        "Slicing the String"
      ],
      "metadata": {
        "id": "nnoaSCSfaNze"
      }
    },
    {
      "cell_type": "code",
      "source": [
        "# stringname[start: stop: stepsize]\n",
        "\n",
        "str = 'Core Python'\n",
        "str[0:9:1]"
      ],
      "metadata": {
        "colab": {
          "base_uri": "https://localhost:8080/",
          "height": 35
        },
        "id": "NAwHfCeXaFMZ",
        "outputId": "63d5f4e6-9eac-418f-c68f-ed7ffb21d264"
      },
      "execution_count": null,
      "outputs": [
        {
          "output_type": "execute_result",
          "data": {
            "text/plain": [
              "'Core Pyth'"
            ],
            "application/vnd.google.colaboratory.intrinsic+json": {
              "type": "string"
            }
          },
          "metadata": {},
          "execution_count": 54
        }
      ]
    },
    {
      "cell_type": "code",
      "source": [
        "str = 'Core Python'\n",
        "str[0:10:1]"
      ],
      "metadata": {
        "colab": {
          "base_uri": "https://localhost:8080/",
          "height": 35
        },
        "id": "vDLqY5NqatxJ",
        "outputId": "6c3e0b45-2168-47b7-b355-d7ba68cf2852"
      },
      "execution_count": null,
      "outputs": [
        {
          "output_type": "execute_result",
          "data": {
            "text/plain": [
              "'Core Pytho'"
            ],
            "application/vnd.google.colaboratory.intrinsic+json": {
              "type": "string"
            }
          },
          "metadata": {},
          "execution_count": 55
        }
      ]
    },
    {
      "cell_type": "code",
      "source": [
        "str = 'Core Python'\n",
        "str[0:11:1]"
      ],
      "metadata": {
        "colab": {
          "base_uri": "https://localhost:8080/",
          "height": 35
        },
        "id": "05Fmt1lzayoM",
        "outputId": "91fdac9e-4a13-45ce-86b8-e79f7eab32da"
      },
      "execution_count": null,
      "outputs": [
        {
          "output_type": "execute_result",
          "data": {
            "text/plain": [
              "'Core Python'"
            ],
            "application/vnd.google.colaboratory.intrinsic+json": {
              "type": "string"
            }
          },
          "metadata": {},
          "execution_count": 56
        }
      ]
    },
    {
      "cell_type": "code",
      "source": [
        "str = 'Core Python'\n",
        "str[0:2:1]"
      ],
      "metadata": {
        "colab": {
          "base_uri": "https://localhost:8080/",
          "height": 35
        },
        "id": "XPiEWpOva3ss",
        "outputId": "5e76cfd0-68f8-4dba-a62a-1b75efd37cbb"
      },
      "execution_count": null,
      "outputs": [
        {
          "output_type": "execute_result",
          "data": {
            "text/plain": [
              "'Co'"
            ],
            "application/vnd.google.colaboratory.intrinsic+json": {
              "type": "string"
            }
          },
          "metadata": {},
          "execution_count": 57
        }
      ]
    },
    {
      "cell_type": "code",
      "source": [
        "str = 'Core Python'\n",
        "str[0:11:]"
      ],
      "metadata": {
        "colab": {
          "base_uri": "https://localhost:8080/",
          "height": 35
        },
        "id": "9-I_29IOa7mz",
        "outputId": "1523fdd0-210f-4602-a12a-152fa14099e6"
      },
      "execution_count": null,
      "outputs": [
        {
          "output_type": "execute_result",
          "data": {
            "text/plain": [
              "'Core Python'"
            ],
            "application/vnd.google.colaboratory.intrinsic+json": {
              "type": "string"
            }
          },
          "metadata": {},
          "execution_count": 58
        }
      ]
    },
    {
      "cell_type": "code",
      "source": [
        "str = 'Core Python'\n",
        "str[0:4:1]"
      ],
      "metadata": {
        "colab": {
          "base_uri": "https://localhost:8080/",
          "height": 35
        },
        "id": "amfDkMY4bAKN",
        "outputId": "5352ccb7-392e-45f0-b1e1-d011b45dd4b9"
      },
      "execution_count": null,
      "outputs": [
        {
          "output_type": "execute_result",
          "data": {
            "text/plain": [
              "'Core'"
            ],
            "application/vnd.google.colaboratory.intrinsic+json": {
              "type": "string"
            }
          },
          "metadata": {},
          "execution_count": 59
        }
      ]
    },
    {
      "cell_type": "code",
      "source": [
        "str = 'Core Python'\n",
        "str[4:11:1]"
      ],
      "metadata": {
        "colab": {
          "base_uri": "https://localhost:8080/",
          "height": 35
        },
        "id": "eM9Mx0D4bDIb",
        "outputId": "3420786b-7766-4df5-f6cb-66a197c0bf54"
      },
      "execution_count": null,
      "outputs": [
        {
          "output_type": "execute_result",
          "data": {
            "text/plain": [
              "' Python'"
            ],
            "application/vnd.google.colaboratory.intrinsic+json": {
              "type": "string"
            }
          },
          "metadata": {},
          "execution_count": 60
        }
      ]
    },
    {
      "cell_type": "code",
      "source": [
        "str = 'Core Python'\n",
        "str[1:9:]"
      ],
      "metadata": {
        "colab": {
          "base_uri": "https://localhost:8080/",
          "height": 35
        },
        "id": "lgJthW0PbHeU",
        "outputId": "6136505b-b9d3-4b35-c17c-e33090843eed"
      },
      "execution_count": null,
      "outputs": [
        {
          "output_type": "execute_result",
          "data": {
            "text/plain": [
              "'ore Pyth'"
            ],
            "application/vnd.google.colaboratory.intrinsic+json": {
              "type": "string"
            }
          },
          "metadata": {},
          "execution_count": 61
        }
      ]
    },
    {
      "cell_type": "code",
      "source": [
        "str = 'Core Python'\n",
        "str[:]\n",
        "\n"
      ],
      "metadata": {
        "colab": {
          "base_uri": "https://localhost:8080/",
          "height": 35
        },
        "id": "Dyx6ns-VbKmm",
        "outputId": "8517059c-4cde-4ad0-f800-fb4023fac930"
      },
      "execution_count": null,
      "outputs": [
        {
          "output_type": "execute_result",
          "data": {
            "text/plain": [
              "'Core Python'"
            ],
            "application/vnd.google.colaboratory.intrinsic+json": {
              "type": "string"
            }
          },
          "metadata": {},
          "execution_count": 64
        }
      ]
    },
    {
      "cell_type": "code",
      "source": [
        "str = 'Core Python'\n",
        "str[-2:]"
      ],
      "metadata": {
        "colab": {
          "base_uri": "https://localhost:8080/",
          "height": 35
        },
        "id": "dzlUnEe-bQ_N",
        "outputId": "ed01e821-9f70-4f56-cb63-3fed3aec8e9c"
      },
      "execution_count": null,
      "outputs": [
        {
          "output_type": "execute_result",
          "data": {
            "text/plain": [
              "'on'"
            ],
            "application/vnd.google.colaboratory.intrinsic+json": {
              "type": "string"
            }
          },
          "metadata": {},
          "execution_count": 66
        }
      ]
    },
    {
      "cell_type": "code",
      "source": [
        "str = 'Core Python'\n",
        "str[-11:-1]"
      ],
      "metadata": {
        "colab": {
          "base_uri": "https://localhost:8080/",
          "height": 35
        },
        "id": "EuLarNw5bbL-",
        "outputId": "e08741a1-a434-49e5-d660-bf9a71b3395c"
      },
      "execution_count": null,
      "outputs": [
        {
          "output_type": "execute_result",
          "data": {
            "text/plain": [
              "'Core Pytho'"
            ],
            "application/vnd.google.colaboratory.intrinsic+json": {
              "type": "string"
            }
          },
          "metadata": {},
          "execution_count": 67
        }
      ]
    },
    {
      "cell_type": "code",
      "source": [
        "str = 'Core Python'\n",
        "str[:-1]"
      ],
      "metadata": {
        "colab": {
          "base_uri": "https://localhost:8080/",
          "height": 35
        },
        "id": "NIOzAbdibkmO",
        "outputId": "47b6af8b-fc49-4c30-fe58-99a51be07afe"
      },
      "execution_count": null,
      "outputs": [
        {
          "output_type": "execute_result",
          "data": {
            "text/plain": [
              "'Core Pytho'"
            ],
            "application/vnd.google.colaboratory.intrinsic+json": {
              "type": "string"
            }
          },
          "metadata": {},
          "execution_count": 68
        }
      ]
    },
    {
      "cell_type": "code",
      "source": [
        "str = 'Core Python'\n",
        "str[-6:]"
      ],
      "metadata": {
        "colab": {
          "base_uri": "https://localhost:8080/",
          "height": 35
        },
        "id": "LYMx0lvQbpfr",
        "outputId": "5b613466-3538-409e-d6b6-96c988a3c978"
      },
      "execution_count": null,
      "outputs": [
        {
          "output_type": "execute_result",
          "data": {
            "text/plain": [
              "'Python'"
            ],
            "application/vnd.google.colaboratory.intrinsic+json": {
              "type": "string"
            }
          },
          "metadata": {},
          "execution_count": 69
        }
      ]
    },
    {
      "cell_type": "code",
      "source": [
        "# REPEATING THE STRINGS\n",
        "str = \"Python\"\n",
        "print(str*3)"
      ],
      "metadata": {
        "colab": {
          "base_uri": "https://localhost:8080/"
        },
        "id": "X7C9Nd2gbwKx",
        "outputId": "f04c4940-1d8f-40b7-ed71-dd34f1392235"
      },
      "execution_count": null,
      "outputs": [
        {
          "output_type": "stream",
          "name": "stdout",
          "text": [
            "PythonPythonPython\n"
          ]
        }
      ]
    },
    {
      "cell_type": "code",
      "source": [
        "str = \"Python\"\n",
        "print(str[2:4]*2)"
      ],
      "metadata": {
        "colab": {
          "base_uri": "https://localhost:8080/"
        },
        "id": "lFVdpezscN-W",
        "outputId": "e288abdc-93d7-42e4-9f5d-f336a09b2e31"
      },
      "execution_count": null,
      "outputs": [
        {
          "output_type": "stream",
          "name": "stdout",
          "text": [
            "thth\n"
          ]
        }
      ]
    },
    {
      "cell_type": "code",
      "source": [
        "# REMOVING THE SPACE\n",
        "name ='    Mukesh Deshmukh'\n",
        "print(name.rstrip())\n",
        "print(name.lstrip())\n",
        "print(name.strip())\n"
      ],
      "metadata": {
        "colab": {
          "base_uri": "https://localhost:8080/"
        },
        "id": "SlVl9PLLcvkg",
        "outputId": "c0a54d45-2ce3-4055-e5ab-425191c82c80"
      },
      "execution_count": null,
      "outputs": [
        {
          "output_type": "stream",
          "name": "stdout",
          "text": [
            "    Mukesh Deshmukh\n",
            "Mukesh Deshmukh\n",
            "Mukesh Deshmukh\n"
          ]
        }
      ]
    },
    {
      "cell_type": "code",
      "source": [
        "if  'Mukesh   '=='Mukesh':\n",
        "  print('Welcome')\n",
        "else:\n",
        "  print('Name is not found')"
      ],
      "metadata": {
        "colab": {
          "base_uri": "https://localhost:8080/"
        },
        "id": "k-2zfLRrdfl1",
        "outputId": "98ea9140-3ae8-4182-931b-1b7209008de6"
      },
      "execution_count": null,
      "outputs": [
        {
          "output_type": "stream",
          "name": "stdout",
          "text": [
            "Name is not found\n"
          ]
        }
      ]
    },
    {
      "cell_type": "code",
      "source": [
        "if  'Mukesh'=='Mukesh':\n",
        "  print('Welcome')\n",
        "else:\n",
        "  print('Name is not found')"
      ],
      "metadata": {
        "colab": {
          "base_uri": "https://localhost:8080/"
        },
        "id": "3FXj9tZ7eHNk",
        "outputId": "74ade55d-6427-4963-a37c-bd5f146c2150"
      },
      "execution_count": null,
      "outputs": [
        {
          "output_type": "stream",
          "name": "stdout",
          "text": [
            "Welcome\n"
          ]
        }
      ]
    },
    {
      "cell_type": "code",
      "source": [
        "# FINDING SUB STRING\n",
        "# mainstring.find(substring, beginning, ending)\n",
        "\n",
        "str = input('Enter main string: ')\n",
        "sub = input('Enter sub string: ')\n",
        "n = str.find(sub, 0,len(str))\n",
        "if n==-1:\n",
        "  print('sub string is not found')\n",
        "else:\n",
        "  print('Sub string found at position: ',n+1)\n",
        "\n"
      ],
      "metadata": {
        "colab": {
          "base_uri": "https://localhost:8080/"
        },
        "id": "QprHRnx1eO2z",
        "outputId": "20440f06-4cfe-4b97-a926-dfadee13c8e9"
      },
      "execution_count": null,
      "outputs": [
        {
          "output_type": "stream",
          "name": "stdout",
          "text": [
            "Enter main string: This is book \n",
            "Enter sub string: is\n",
            "Sub string found at position:  3\n"
          ]
        }
      ]
    },
    {
      "cell_type": "code",
      "source": [
        "str = input('Enter main string: ')\n",
        "sub = input('Enter sub string: ')\n",
        "try:\n",
        "  n = str.index(sub, 0, len(str))\n",
        "except ValueError:\n",
        "  print('sub string not found')\n",
        "else:\n",
        "  print('sub string found at position : ',n+1)"
      ],
      "metadata": {
        "colab": {
          "base_uri": "https://localhost:8080/"
        },
        "id": "4RjOqBDKfr5J",
        "outputId": "85efb0c8-84ae-4ed1-f453-9cf63cd214c3"
      },
      "execution_count": null,
      "outputs": [
        {
          "output_type": "stream",
          "name": "stdout",
          "text": [
            "Enter main string: This is book\n",
            "Enter sub string: is\n",
            "sub string found at position :  3\n"
          ]
        }
      ]
    },
    {
      "cell_type": "code",
      "source": [
        "str = input('Enter main string: ')\n",
        "sub = input('Enter sub string: ')\n",
        "\n",
        "i=0\n",
        "flag=False\n",
        "n = len(str)\n",
        "while i<n:\n",
        "  pos = str.find(sub, i,n)\n",
        "  if pos!= -1:\n",
        "    print('Found at posithin: ',pos+1)\n",
        "    i=pos+1\n",
        "    flag=True\n",
        "  else:\n",
        "    i=i+1\n",
        "    if flag ==False:\n",
        "      print('Sub string not found')"
      ],
      "metadata": {
        "colab": {
          "base_uri": "https://localhost:8080/"
        },
        "id": "KXRNYciPhJI2",
        "outputId": "44619a17-a2d5-4651-a8a3-04cd948af63d"
      },
      "execution_count": null,
      "outputs": [
        {
          "output_type": "stream",
          "name": "stdout",
          "text": [
            "Enter main string:  This is book \n",
            "Enter sub string: is\n",
            "Found at posithin:  4\n",
            "Found at posithin:  7\n"
          ]
        }
      ]
    },
    {
      "cell_type": "code",
      "source": [
        "x=[2,3,4]\n",
        "x[-1:]\n"
      ],
      "metadata": {
        "colab": {
          "base_uri": "https://localhost:8080/"
        },
        "id": "xSsCd3rPjawi",
        "outputId": "4df3fc7c-ad8f-4dbb-940b-5a49adab90c8"
      },
      "execution_count": null,
      "outputs": [
        {
          "output_type": "execute_result",
          "data": {
            "text/plain": [
              "[4]"
            ]
          },
          "metadata": {},
          "execution_count": 93
        }
      ]
    },
    {
      "cell_type": "code",
      "source": [
        "x[-1::]\n"
      ],
      "metadata": {
        "colab": {
          "base_uri": "https://localhost:8080/"
        },
        "id": "puvrWR290RUg",
        "outputId": "61ec5c33-c111-4c8d-e113-2626ba807424"
      },
      "execution_count": null,
      "outputs": [
        {
          "output_type": "execute_result",
          "data": {
            "text/plain": [
              "[4]"
            ]
          },
          "metadata": {},
          "execution_count": 94
        }
      ]
    },
    {
      "cell_type": "code",
      "source": [
        "x[::-1]"
      ],
      "metadata": {
        "colab": {
          "base_uri": "https://localhost:8080/"
        },
        "id": "Osy1VXdq0jGR",
        "outputId": "69f7998a-b76a-41cb-abf4-768c05378be6"
      },
      "execution_count": null,
      "outputs": [
        {
          "output_type": "execute_result",
          "data": {
            "text/plain": [
              "[4, 3, 2]"
            ]
          },
          "metadata": {},
          "execution_count": 95
        }
      ]
    },
    {
      "cell_type": "code",
      "source": [
        "t=(100,200)\n",
        "\n",
        "print(t*2)"
      ],
      "metadata": {
        "colab": {
          "base_uri": "https://localhost:8080/"
        },
        "id": "O4P4lhLf00pq",
        "outputId": "4d4d28cd-b54d-43f0-af30-2b55b1dda047"
      },
      "execution_count": null,
      "outputs": [
        {
          "output_type": "stream",
          "name": "stdout",
          "text": [
            "(100, 200, 100, 200)\n"
          ]
        }
      ]
    },
    {
      "cell_type": "markdown",
      "source": [
        "**Dictionary**\n",
        "\n",
        "Dictionary is an unordered of data value,used to store data values like a map , i.e dictionary holds the key:value pair.\n",
        "\n",
        "1 Value in dictionary can be of any data type and can repeat\n",
        "\n",
        "2 Keys in the dictionary must be of immutable type ( string,number,or tuple with immutable ) element and must be unique.\n",
        "\n",
        "3 Dictionay are shown by {} Brakets and Keys:Value pair follwed by commas.\n",
        "\n"
      ],
      "metadata": {
        "id": "wYQuyd6F_hjZ"
      }
    },
    {
      "cell_type": "code",
      "source": [
        "d = {\"brand\":\"ford\",\"Model\":\"Tung\",\"Year\":1964}\n",
        "print(d.keys())\n",
        "print(d.values())"
      ],
      "metadata": {
        "id": "oLZBAT7a1UY7",
        "colab": {
          "base_uri": "https://localhost:8080/"
        },
        "outputId": "981205a1-4f22-401c-a051-f66972cf9c57"
      },
      "execution_count": null,
      "outputs": [
        {
          "output_type": "stream",
          "name": "stdout",
          "text": [
            "dict_keys(['brand', 'Model', 'Year'])\n",
            "dict_values(['ford', 'Tung', 1964])\n"
          ]
        }
      ]
    },
    {
      "cell_type": "code",
      "source": [
        "# Dict() method\n",
        "dict = dict (brand=\"ford\", Model=\"Tung\",Year=1964)\n",
        "print(dict)"
      ],
      "metadata": {
        "colab": {
          "base_uri": "https://localhost:8080/"
        },
        "id": "ysx4iCfxB6LW",
        "outputId": "228a715b-0188-4b24-aaa3-6949eb8c1f97"
      },
      "execution_count": null,
      "outputs": [
        {
          "output_type": "stream",
          "name": "stdout",
          "text": [
            "{'brand': 'ford', 'Model': 'Tung', 'Year': 1964}\n"
          ]
        }
      ]
    },
    {
      "cell_type": "code",
      "source": [
        "# Accesing the item of dict by get() method\n",
        "d.get(\"brand\")"
      ],
      "metadata": {
        "colab": {
          "base_uri": "https://localhost:8080/",
          "height": 35
        },
        "id": "ihwgBIokCn7e",
        "outputId": "502ee924-a2ac-4a22-99d9-07883def55dc"
      },
      "execution_count": null,
      "outputs": [
        {
          "output_type": "execute_result",
          "data": {
            "text/plain": [
              "'ford'"
            ],
            "application/vnd.google.colaboratory.intrinsic+json": {
              "type": "string"
            }
          },
          "metadata": {},
          "execution_count": 5
        }
      ]
    },
    {
      "cell_type": "code",
      "source": [
        "d['brand']"
      ],
      "metadata": {
        "colab": {
          "base_uri": "https://localhost:8080/",
          "height": 35
        },
        "id": "Ci34hNCZDM1m",
        "outputId": "bcbc0646-7f8f-4ef1-f474-352bb19082cf"
      },
      "execution_count": null,
      "outputs": [
        {
          "output_type": "execute_result",
          "data": {
            "text/plain": [
              "'ford'"
            ],
            "application/vnd.google.colaboratory.intrinsic+json": {
              "type": "string"
            }
          },
          "metadata": {},
          "execution_count": 6
        }
      ]
    },
    {
      "cell_type": "markdown",
      "source": [
        "Dictionary are mutable i.e We add new item in dictionary key:value pair."
      ],
      "metadata": {
        "id": "em9YnvTRDoeY"
      }
    },
    {
      "cell_type": "code",
      "source": [
        "# Changing Item\n",
        "d[\"brand\"]='Maruti'\n",
        "d"
      ],
      "metadata": {
        "colab": {
          "base_uri": "https://localhost:8080/"
        },
        "id": "Ut32rLMKDcLS",
        "outputId": "d05ba23d-bf86-4e72-dfdb-5bc7e6230459"
      },
      "execution_count": null,
      "outputs": [
        {
          "output_type": "execute_result",
          "data": {
            "text/plain": [
              "{'brand': 'Maruti', 'Model': 'Tung', 'Year': 1964}"
            ]
          },
          "metadata": {},
          "execution_count": 7
        }
      ]
    },
    {
      "cell_type": "code",
      "source": [
        "# add item\n",
        "d[\"Color\"]=\"Red\"\n",
        "d"
      ],
      "metadata": {
        "colab": {
          "base_uri": "https://localhost:8080/"
        },
        "id": "3FzKE9Q5EJXZ",
        "outputId": "25d3f46a-7d01-46da-92bd-9525b82a531f"
      },
      "execution_count": null,
      "outputs": [
        {
          "output_type": "execute_result",
          "data": {
            "text/plain": [
              "{'brand': 'Maruti', 'Model': 'Tung', 'Year': 1964, 'Color': 'Red'}"
            ]
          },
          "metadata": {},
          "execution_count": 9
        }
      ]
    },
    {
      "cell_type": "markdown",
      "source": [
        "**Opretions on Dictionary**"
      ],
      "metadata": {
        "id": "VNRH61F1FBDC"
      }
    },
    {
      "cell_type": "code",
      "source": [
        "# copy() methods ---> Returns copy of dictionary\n",
        "dict1 = {1:\"Ram\",2:\"Shyam\",3:\"Govid\"}\n",
        "dict2 = dict1.copy()\n",
        "print(dict2)"
      ],
      "metadata": {
        "colab": {
          "base_uri": "https://localhost:8080/"
        },
        "id": "yN7TGaW2Eljq",
        "outputId": "3ef6fc00-208e-4058-f0f4-b7970564a85c"
      },
      "execution_count": null,
      "outputs": [
        {
          "output_type": "stream",
          "name": "stdout",
          "text": [
            "{1: 'Ram', 2: 'Shyam', 3: 'Govid'}\n"
          ]
        }
      ]
    },
    {
      "cell_type": "code",
      "source": [
        "# items() --- > Returns the list containing a Tuple for each Key:Value pair\n",
        "dict2.items()"
      ],
      "metadata": {
        "colab": {
          "base_uri": "https://localhost:8080/"
        },
        "id": "et55a0QxF4Dg",
        "outputId": "5743b1ea-f782-46a8-844e-0e1ec4fd5379"
      },
      "execution_count": null,
      "outputs": [
        {
          "output_type": "execute_result",
          "data": {
            "text/plain": [
              "dict_items([(1, 'Ram'), (2, 'Shyam'), (3, 'Govid')])"
            ]
          },
          "metadata": {},
          "execution_count": 12
        }
      ]
    },
    {
      "cell_type": "code",
      "source": [
        "# keys()---> Returns the list containing dictionary keys\n",
        "dict2.keys()"
      ],
      "metadata": {
        "colab": {
          "base_uri": "https://localhost:8080/"
        },
        "id": "DyyVFI0uGooN",
        "outputId": "62129487-ae6e-465e-b9c6-0b19f792b9ff"
      },
      "execution_count": null,
      "outputs": [
        {
          "output_type": "execute_result",
          "data": {
            "text/plain": [
              "dict_keys([1, 2, 3])"
            ]
          },
          "metadata": {},
          "execution_count": 14
        }
      ]
    },
    {
      "cell_type": "code",
      "source": [
        "# values()----> Returns the list containing dictionary values\n",
        "dict2.values()"
      ],
      "metadata": {
        "colab": {
          "base_uri": "https://localhost:8080/"
        },
        "id": "p2_NGpHUG-Du",
        "outputId": "a65fa9c1-be77-4f45-a473-6226dd5e1d1a"
      },
      "execution_count": null,
      "outputs": [
        {
          "output_type": "execute_result",
          "data": {
            "text/plain": [
              "dict_values(['Ram', 'Shyam', 'Govid'])"
            ]
          },
          "metadata": {},
          "execution_count": 15
        }
      ]
    },
    {
      "cell_type": "code",
      "source": [
        "# POP () ---> Remove the elements from specified key\n",
        "dict1.pop(1)\n",
        "dict1"
      ],
      "metadata": {
        "colab": {
          "base_uri": "https://localhost:8080/"
        },
        "id": "ru8HB4OhHZ2B",
        "outputId": "42494de4-d81c-45cb-f1ff-a19e46affe71"
      },
      "execution_count": null,
      "outputs": [
        {
          "output_type": "execute_result",
          "data": {
            "text/plain": [
              "{2: 'Shyam', 3: 'Govid'}"
            ]
          },
          "metadata": {},
          "execution_count": 16
        }
      ]
    },
    {
      "cell_type": "code",
      "source": [
        "dict1.pop(3)\n",
        "dict1"
      ],
      "metadata": {
        "colab": {
          "base_uri": "https://localhost:8080/"
        },
        "id": "CaKnUFSKH8Wf",
        "outputId": "9b70a299-f247-495a-f55c-8ed6f6022796"
      },
      "execution_count": null,
      "outputs": [
        {
          "output_type": "execute_result",
          "data": {
            "text/plain": [
              "{2: 'Shyam'}"
            ]
          },
          "metadata": {},
          "execution_count": 17
        }
      ]
    },
    {
      "cell_type": "code",
      "source": [
        "# popitem()----> Which remove last inserted key: value pair\n",
        "dict1 = {1:\"Ram\",2:\"Shyam\",3:\"Govid\"}\n",
        "dict1.popitem()\n"
      ],
      "metadata": {
        "colab": {
          "base_uri": "https://localhost:8080/"
        },
        "id": "0VDM5GakIBqv",
        "outputId": "582a71a0-c0b8-46af-80d1-0a39068453b5"
      },
      "execution_count": null,
      "outputs": [
        {
          "output_type": "execute_result",
          "data": {
            "text/plain": [
              "(3, 'Govid')"
            ]
          },
          "metadata": {},
          "execution_count": 21
        }
      ]
    },
    {
      "cell_type": "code",
      "source": [
        "# Update ()-----> Which update the dictionary with the specified keys values pair\n",
        "dict1.update({4:\"Sita\"})\n",
        "dict1\n"
      ],
      "metadata": {
        "colab": {
          "base_uri": "https://localhost:8080/"
        },
        "id": "dbyKifJwIfpx",
        "outputId": "05f71860-0c86-45b7-d4cf-2228992f5212"
      },
      "execution_count": null,
      "outputs": [
        {
          "output_type": "execute_result",
          "data": {
            "text/plain": [
              "{1: 'Ram', 2: 'Shyam', 4: 'Sita'}"
            ]
          },
          "metadata": {},
          "execution_count": 23
        }
      ]
    },
    {
      "cell_type": "code",
      "source": [
        "# clear() ------> Which removes all the element from dictionary\n",
        "dict1\n",
        "dict1.clear()\n",
        "dict1"
      ],
      "metadata": {
        "colab": {
          "base_uri": "https://localhost:8080/"
        },
        "id": "YWsZX9ePJTHm",
        "outputId": "33560041-6d37-4bef-c59e-94ce1f0b9702"
      },
      "execution_count": null,
      "outputs": [
        {
          "output_type": "execute_result",
          "data": {
            "text/plain": [
              "{}"
            ]
          },
          "metadata": {},
          "execution_count": 26
        }
      ]
    },
    {
      "cell_type": "code",
      "source": [
        "# Value () methods which returns a list of values in dictionary\n",
        "dict1 = {1:\"Ram\",2:\"Shyam\",3:\"Govid\"}\n",
        "dict1.values()\n",
        "dict1\n"
      ],
      "metadata": {
        "colab": {
          "base_uri": "https://localhost:8080/"
        },
        "id": "1MJ-6ywoJlVu",
        "outputId": "a30574e8-ea98-4722-9b37-eb1cd7d60be1"
      },
      "execution_count": null,
      "outputs": [
        {
          "output_type": "execute_result",
          "data": {
            "text/plain": [
              "{1: 'Ram', 2: 'Shyam', 3: 'Govid'}"
            ]
          },
          "metadata": {},
          "execution_count": 27
        }
      ]
    },
    {
      "cell_type": "markdown",
      "source": [
        "**Nested Dictionary**\n",
        "\n",
        "Nested Dictionary is a dictionary inside a dictionary. Its a collection of dictionaries into one single dictionary.\n",
        "\n",
        "Nested_dict = {dict1{key1:value1},{dict2{key2:value2}}"
      ],
      "metadata": {
        "id": "2FPWPKyhKs3w"
      }
    },
    {
      "cell_type": "code",
      "source": [
        "Students_marks ={\"Ram\":{\"Math\":20,\"Eng\":30,\"Hindi\":28},\n",
        "                  \"Shyam\":{\"Math\":30,\"Eng\":20,\"Hindi\":29},\n",
        "                     \"Govin\":{\"Math\":30,\"Eng\":30,\"Hindi\":28}}\n",
        "Students_marks"
      ],
      "metadata": {
        "colab": {
          "base_uri": "https://localhost:8080/"
        },
        "id": "EtKn6aM0KTjF",
        "outputId": "2e0c2e64-70b2-4a84-c942-5cfa02be5da8"
      },
      "execution_count": null,
      "outputs": [
        {
          "output_type": "execute_result",
          "data": {
            "text/plain": [
              "{'Ram': {'Math': 20, 'Eng': 30, 'Hindi': 28},\n",
              " 'Shyam': {'Math': 30, 'Eng': 20, 'Hindi': 29},\n",
              " 'Govin': {'Math': 30, 'Eng': 30, 'Hindi': 28}}"
            ]
          },
          "metadata": {},
          "execution_count": 35
        }
      ]
    },
    {
      "cell_type": "code",
      "source": [
        "Students_marks[\"Govin\"]"
      ],
      "metadata": {
        "colab": {
          "base_uri": "https://localhost:8080/"
        },
        "id": "l2DuqzEtNVCp",
        "outputId": "a265b1d8-b7af-443d-94c0-c2de8c7fcd38"
      },
      "execution_count": null,
      "outputs": [
        {
          "output_type": "execute_result",
          "data": {
            "text/plain": [
              "{'Math': 30, 'Eng': 30, 'Hindi': 28}"
            ]
          },
          "metadata": {},
          "execution_count": 36
        }
      ]
    },
    {
      "cell_type": "code",
      "source": [
        "Students_marks[\"Govin\"][\"Math\"]"
      ],
      "metadata": {
        "colab": {
          "base_uri": "https://localhost:8080/"
        },
        "id": "qaHVoegBOUjo",
        "outputId": "2830c8f5-36a4-46d2-9cd3-912f5eb78077"
      },
      "execution_count": null,
      "outputs": [
        {
          "output_type": "execute_result",
          "data": {
            "text/plain": [
              "30"
            ]
          },
          "metadata": {},
          "execution_count": 37
        }
      ]
    },
    {
      "cell_type": "code",
      "source": [
        "Students_marks[\"Krshna\"]={}\n",
        "Students_marks[\"Krshna\"][\"Math\"]=30\n",
        "Students_marks[\"Krshna\"][\"Eng\"]=30\n",
        "Students_marks[\"Krshna\"][\"Hindi\"]=30\n",
        "\n",
        "Students_marks[\"Krshna\"]\n",
        "\n"
      ],
      "metadata": {
        "colab": {
          "base_uri": "https://localhost:8080/"
        },
        "id": "4cj37a_VOqPq",
        "outputId": "c536000f-d796-482e-ccdc-656d07584eee"
      },
      "execution_count": null,
      "outputs": [
        {
          "output_type": "execute_result",
          "data": {
            "text/plain": [
              "{'Math': 30, 'Eng': 30, 'Hindi': 30}"
            ]
          },
          "metadata": {},
          "execution_count": 41
        }
      ]
    },
    {
      "cell_type": "code",
      "source": [
        "Students_marks"
      ],
      "metadata": {
        "colab": {
          "base_uri": "https://localhost:8080/"
        },
        "id": "rXRHngFWPlyf",
        "outputId": "f9981f93-c44e-4517-85b5-a4c2d4c5a5d0"
      },
      "execution_count": null,
      "outputs": [
        {
          "output_type": "execute_result",
          "data": {
            "text/plain": [
              "{'Ram': {'Math': 20, 'Eng': 30, 'Hindi': 28},\n",
              " 'Shyam': {'Math': 30, 'Eng': 20, 'Hindi': 29},\n",
              " 'Govin': {'Math': 30, 'Eng': 30, 'Hindi': 28},\n",
              " 'Krshna': {'Math': 30, 'Eng': 30, 'Hindi': 30}}"
            ]
          },
          "metadata": {},
          "execution_count": 40
        }
      ]
    },
    {
      "cell_type": "code",
      "source": [
        "# Removing items from nested dictionary\n",
        "Students_marks.pop(\"Shyam\")\n",
        "Students_marks"
      ],
      "metadata": {
        "colab": {
          "base_uri": "https://localhost:8080/"
        },
        "id": "Et_XW3XLPxX7",
        "outputId": "c18f1021-d32b-4505-99d2-9fe1d329f9ea"
      },
      "execution_count": null,
      "outputs": [
        {
          "output_type": "execute_result",
          "data": {
            "text/plain": [
              "{'Ram': {'Math': 20, 'Eng': 30, 'Hindi': 28},\n",
              " 'Govin': {'Math': 30, 'Eng': 30, 'Hindi': 28},\n",
              " 'Krshna': {'Math': 30, 'Eng': 30, 'Hindi': 30}}"
            ]
          },
          "metadata": {},
          "execution_count": 42
        }
      ]
    },
    {
      "cell_type": "markdown",
      "source": [
        "Iterating through a nested Dictionary"
      ],
      "metadata": {
        "id": "UuCUeaLnQaK8"
      }
    },
    {
      "cell_type": "code",
      "source": [
        "for name,subjects in Students_marks.items():\n",
        "  print(\"Name of the student\" ,name)\n",
        "  for marks in subjects:\n",
        "    print(marks,\":\",subjects[marks])"
      ],
      "metadata": {
        "colab": {
          "base_uri": "https://localhost:8080/"
        },
        "id": "rufNZcGQQN0V",
        "outputId": "eec2a6e8-b493-42fe-9536-a08bad0111ea"
      },
      "execution_count": null,
      "outputs": [
        {
          "output_type": "stream",
          "name": "stdout",
          "text": [
            "Name of the student Ram\n",
            "Math : 20\n",
            "Eng : 30\n",
            "Hindi : 28\n",
            "Name of the student Govin\n",
            "Math : 30\n",
            "Eng : 30\n",
            "Hindi : 28\n",
            "Name of the student Krshna\n",
            "Math : 30\n",
            "Eng : 30\n",
            "Hindi : 30\n"
          ]
        }
      ]
    },
    {
      "cell_type": "markdown",
      "source": [
        "**Sets in Python**\n",
        "\n",
        "Set is collection which is unordered unindxed.In Python sets are written in {}"
      ],
      "metadata": {
        "id": "aOK7jXNvSqGX"
      }
    },
    {
      "cell_type": "code",
      "source": [
        "# Creating sets\n",
        "s = {\"Apple\",\"Banana\",\"Cherry\"}\n",
        "s"
      ],
      "metadata": {
        "colab": {
          "base_uri": "https://localhost:8080/"
        },
        "id": "Q1Xod7XpRd6N",
        "outputId": "5c12ddde-69a1-4c60-b7c0-45231e091313"
      },
      "execution_count": null,
      "outputs": [
        {
          "output_type": "execute_result",
          "data": {
            "text/plain": [
              "{'Apple', 'Banana', 'Cherry'}"
            ]
          },
          "metadata": {},
          "execution_count": 46
        }
      ]
    },
    {
      "cell_type": "code",
      "source": [
        "# Accesing the elements of sets\n",
        "for i in s:\n",
        "  print(i)"
      ],
      "metadata": {
        "colab": {
          "base_uri": "https://localhost:8080/"
        },
        "id": "9H-eFE9XTiQ_",
        "outputId": "8fb71416-220d-4060-c726-23f73a21660e"
      },
      "execution_count": null,
      "outputs": [
        {
          "output_type": "stream",
          "name": "stdout",
          "text": [
            "Apple\n",
            "Banana\n",
            "Cherry\n"
          ]
        }
      ]
    },
    {
      "cell_type": "code",
      "source": [
        "# add() -----> Add one element into a sets\n",
        "s.add(\"Pineapple\")\n",
        "s"
      ],
      "metadata": {
        "colab": {
          "base_uri": "https://localhost:8080/"
        },
        "id": "6WdkSKjcTx-F",
        "outputId": "e1dd08bc-251a-4bec-afb9-ed83e2dcfa01"
      },
      "execution_count": null,
      "outputs": [
        {
          "output_type": "execute_result",
          "data": {
            "text/plain": [
              "{'Apple', 'Banana', 'Cherry', 'Pineapple'}"
            ]
          },
          "metadata": {},
          "execution_count": 49
        }
      ]
    },
    {
      "cell_type": "code",
      "source": [
        "# update() ---> We can add more than one elements in sets\n",
        "s = {\"Apple\",\"Banana\",\"Cherry\"}\n",
        "s.update({\"Grapes\",\"Mango\",\"Lemon\"})\n",
        "s"
      ],
      "metadata": {
        "colab": {
          "base_uri": "https://localhost:8080/"
        },
        "id": "8qJq8ariUJIG",
        "outputId": "621b6cbc-e04c-49fc-a841-0d07a4685f13"
      },
      "execution_count": null,
      "outputs": [
        {
          "output_type": "execute_result",
          "data": {
            "text/plain": [
              "{'Apple', 'Banana', 'Cherry', 'Grapes', 'Lemon', 'Mango'}"
            ]
          },
          "metadata": {},
          "execution_count": 54
        }
      ]
    },
    {
      "cell_type": "code",
      "source": [
        "s.remove{\"Watermelon\"} # Remove function throwing error if elements are not present in sets But discart\n",
        "s"
      ],
      "metadata": {
        "colab": {
          "base_uri": "https://localhost:8080/",
          "height": 141
        },
        "id": "5aD-rH5qUkKj",
        "outputId": "f30bf89a-97bd-4ab6-8c14-773849e572b2"
      },
      "execution_count": null,
      "outputs": [
        {
          "output_type": "error",
          "ename": "SyntaxError",
          "evalue": "ignored",
          "traceback": [
            "\u001b[0;36m  File \u001b[0;32m\"<ipython-input-55-f8670a9d24f9>\"\u001b[0;36m, line \u001b[0;32m1\u001b[0m\n\u001b[0;31m    s.remove{\"Watermelon\"}\u001b[0m\n\u001b[0m            ^\u001b[0m\n\u001b[0;31mSyntaxError\u001b[0m\u001b[0;31m:\u001b[0m invalid syntax\n"
          ]
        }
      ]
    },
    {
      "cell_type": "code",
      "source": [
        "s.discard(\"Watermelon\") # Discart function not thowing error if elements are not presents in sets\n",
        "s"
      ],
      "metadata": {
        "colab": {
          "base_uri": "https://localhost:8080/"
        },
        "id": "fNwQWEpkVwcc",
        "outputId": "1d85f23e-878d-4487-a7c4-3fadc50117ea"
      },
      "execution_count": null,
      "outputs": [
        {
          "output_type": "execute_result",
          "data": {
            "text/plain": [
              "{'Apple', 'Banana', 'Cherry', 'Grapes', 'Lemon', 'Mango'}"
            ]
          },
          "metadata": {},
          "execution_count": 57
        }
      ]
    },
    {
      "cell_type": "code",
      "source": [
        "s.pop() # pop() function remove one element from sets any where because sets are not indexed and unordered\n",
        "s"
      ],
      "metadata": {
        "colab": {
          "base_uri": "https://localhost:8080/"
        },
        "id": "UHKODvCvV152",
        "outputId": "6a4b3978-228a-4103-cdc4-e4ee7dffcb27"
      },
      "execution_count": null,
      "outputs": [
        {
          "output_type": "execute_result",
          "data": {
            "text/plain": [
              "{'Apple', 'Banana', 'Grapes', 'Lemon', 'Mango'}"
            ]
          },
          "metadata": {},
          "execution_count": 58
        }
      ]
    },
    {
      "cell_type": "code",
      "source": [
        "s = {\"Apple\",\"Banana\",\"Cherry\"}\n",
        "s.clear()\n",
        "s"
      ],
      "metadata": {
        "colab": {
          "base_uri": "https://localhost:8080/"
        },
        "id": "WmFXksFv28gR",
        "outputId": "0545975b-343b-4e32-9d4b-061162577c43"
      },
      "execution_count": null,
      "outputs": [
        {
          "output_type": "execute_result",
          "data": {
            "text/plain": [
              "set()"
            ]
          },
          "metadata": {},
          "execution_count": 5
        }
      ]
    },
    {
      "cell_type": "markdown",
      "source": [
        " **Oprations On Sets **\n",
        "\n",
        " Set can be used for Mathematical oprations\n",
        " 1. Union\n",
        " 2. Intersection\n",
        " 3.Diffrence\n",
        " 4.Symmetric Diffrence\n",
        "  \n",
        "Set Oprations\n",
        "\n",
        "Union Method:\n",
        "Union of two sets is the set of all elements from both the sets. Set Union can be perfrom using two ways.\n",
        "1. | opration\n",
        "2. Union () method\n"
      ],
      "metadata": {
        "id": "GwCG-QBx3h_p"
      }
    },
    {
      "cell_type": "code",
      "source": [
        "# Define two sets\n",
        "A = {1,2,4,7,8}\n",
        "B = {1,2,3,5,9,8}\n",
        "A|B"
      ],
      "metadata": {
        "colab": {
          "base_uri": "https://localhost:8080/"
        },
        "id": "YD8k2NKw3EvC",
        "outputId": "67c7a53a-ff37-467a-bb4a-5abdc1665ae1"
      },
      "execution_count": null,
      "outputs": [
        {
          "output_type": "execute_result",
          "data": {
            "text/plain": [
              "{1, 2, 3, 4, 5, 7, 8, 9}"
            ]
          },
          "metadata": {},
          "execution_count": 6
        }
      ]
    },
    {
      "cell_type": "code",
      "source": [
        "A.union(B)"
      ],
      "metadata": {
        "colab": {
          "base_uri": "https://localhost:8080/"
        },
        "id": "n5InsRdm5t9h",
        "outputId": "8f1e7742-ed16-40f6-a4a1-861a373597d7"
      },
      "execution_count": null,
      "outputs": [
        {
          "output_type": "execute_result",
          "data": {
            "text/plain": [
              "{1, 2, 3, 4, 5, 7, 8, 9}"
            ]
          },
          "metadata": {},
          "execution_count": 7
        }
      ]
    },
    {
      "cell_type": "code",
      "source": [
        "# Set intersection ---> elements that are present in both sets\n",
        "A&B\n"
      ],
      "metadata": {
        "colab": {
          "base_uri": "https://localhost:8080/"
        },
        "id": "iKNPHVlZ58yl",
        "outputId": "1b344e4e-56ae-4da9-a898-1d1b2bf032fd"
      },
      "execution_count": null,
      "outputs": [
        {
          "output_type": "execute_result",
          "data": {
            "text/plain": [
              "{1, 2, 8}"
            ]
          },
          "metadata": {},
          "execution_count": 9
        }
      ]
    },
    {
      "cell_type": "code",
      "source": [
        "A.intersection(B)"
      ],
      "metadata": {
        "colab": {
          "base_uri": "https://localhost:8080/"
        },
        "id": "JrvNOcLV6WBH",
        "outputId": "8b5aa07c-a116-4b1d-f6be-93121beef00a"
      },
      "execution_count": null,
      "outputs": [
        {
          "output_type": "execute_result",
          "data": {
            "text/plain": [
              "{1, 2, 8}"
            ]
          },
          "metadata": {},
          "execution_count": 10
        }
      ]
    },
    {
      "cell_type": "code",
      "source": [
        "B.intersection(A)"
      ],
      "metadata": {
        "colab": {
          "base_uri": "https://localhost:8080/"
        },
        "id": "U3ROTQxD6gWi",
        "outputId": "536d2aa1-eeb6-4ee9-80d5-7934db83e25e"
      },
      "execution_count": null,
      "outputs": [
        {
          "output_type": "execute_result",
          "data": {
            "text/plain": [
              "{1, 2, 8}"
            ]
          },
          "metadata": {},
          "execution_count": 11
        }
      ]
    },
    {
      "cell_type": "code",
      "source": [
        "# Set Diffrence ---> The Set B diffrence from the set A.\n",
        "A = {1,2,4,7,8}\n",
        "B = {1,2,3,5,9,8}\n",
        "A-B"
      ],
      "metadata": {
        "colab": {
          "base_uri": "https://localhost:8080/"
        },
        "id": "sF01Tg5A6mUN",
        "outputId": "07019142-c81d-4e75-89a7-f43676538c50"
      },
      "execution_count": null,
      "outputs": [
        {
          "output_type": "execute_result",
          "data": {
            "text/plain": [
              "{4, 7}"
            ]
          },
          "metadata": {},
          "execution_count": 12
        }
      ]
    },
    {
      "cell_type": "code",
      "source": [
        "B-A"
      ],
      "metadata": {
        "colab": {
          "base_uri": "https://localhost:8080/"
        },
        "id": "6P2liCxl7F3R",
        "outputId": "6ab46037-efa7-49e7-99cd-67c8572dfedf"
      },
      "execution_count": null,
      "outputs": [
        {
          "output_type": "execute_result",
          "data": {
            "text/plain": [
              "{3, 5, 9}"
            ]
          },
          "metadata": {},
          "execution_count": 13
        }
      ]
    },
    {
      "cell_type": "code",
      "source": [
        "# Sets Symmetric Diffrence ---> Not common for both\n",
        "A^B\n"
      ],
      "metadata": {
        "colab": {
          "base_uri": "https://localhost:8080/"
        },
        "id": "XSaTLYPo7Hvv",
        "outputId": "a9eacc5c-7154-43e6-a521-682331eba585"
      },
      "execution_count": null,
      "outputs": [
        {
          "output_type": "execute_result",
          "data": {
            "text/plain": [
              "{3, 4, 5, 7, 9}"
            ]
          },
          "metadata": {},
          "execution_count": 14
        }
      ]
    },
    {
      "cell_type": "markdown",
      "source": [
        "**Functions in Python**\n",
        "\n",
        "A Functions is group of related statements that perform a specific tasks which only run when it is called.\n",
        "It help is to break program into smaller and modular chunks.\n",
        "Program goes on larger and lager function make our program organised and managible.\n",
        "While creating function below are some point we should keep in mind Function name follow the same rules of writting identifiers in python.\n",
        "\n",
        "1.We define function using **def** keyword.\n",
        "\n",
        "2.function name uniquely identify the function.\n",
        "\n",
        "3. Parameter and the (arguments)we pass value to a function.\n",
        "4. A colon **(:)** to mark the end of the function.\n",
        "5. One or more Python statement that make functions body. Statements must have the same indentation level.\n"
      ],
      "metadata": {
        "id": "QR8Txernc3GG"
      }
    },
    {
      "cell_type": "code",
      "source": [
        "# Define the functions\n",
        "def my_functions():\n",
        "  a=5\n",
        "  b=7\n",
        "  c=a+b\n",
        "  return(c)\n",
        "\n",
        "my_functions() # call the function"
      ],
      "metadata": {
        "id": "ZMWZar017hUU",
        "colab": {
          "base_uri": "https://localhost:8080/"
        },
        "outputId": "242f8a21-b532-44dd-ed2e-f1ce33edd52f"
      },
      "execution_count": null,
      "outputs": [
        {
          "output_type": "execute_result",
          "data": {
            "text/plain": [
              "12"
            ]
          },
          "metadata": {},
          "execution_count": 1
        }
      ]
    },
    {
      "cell_type": "code",
      "source": [
        "# Define function with Parameters\n",
        "def my_func(a,b):  # --> Here (a,b) are parameters\n",
        "  return(a-b)\n",
        "\n",
        "my_func(12,5) # call function and pass the arguments (12,5)"
      ],
      "metadata": {
        "colab": {
          "base_uri": "https://localhost:8080/"
        },
        "id": "9ILoCW0thaiu",
        "outputId": "5e4ba8bc-4da4-42e2-b5fa-560aa47f62ab"
      },
      "execution_count": null,
      "outputs": [
        {
          "output_type": "execute_result",
          "data": {
            "text/plain": [
              "7"
            ]
          },
          "metadata": {},
          "execution_count": 3
        }
      ]
    },
    {
      "cell_type": "code",
      "source": [
        "# Define functions with the defaults parameters\n",
        "def my_func(a, b=6):\n",
        "  return(a*b)\n",
        "\n",
        "my_func(4)"
      ],
      "metadata": {
        "colab": {
          "base_uri": "https://localhost:8080/"
        },
        "id": "PRplmAmKiF_k",
        "outputId": "0a260a54-147c-4440-87cf-6869498534b7"
      },
      "execution_count": null,
      "outputs": [
        {
          "output_type": "execute_result",
          "data": {
            "text/plain": [
              "24"
            ]
          },
          "metadata": {},
          "execution_count": 5
        }
      ]
    },
    {
      "cell_type": "code",
      "source": [
        "# Positinal Arguments\n",
        "def my_func(a,b,c):\n",
        "  return(a*b+c)\n",
        "\n",
        "my_func(10,3,20)"
      ],
      "metadata": {
        "colab": {
          "base_uri": "https://localhost:8080/"
        },
        "id": "psQCfDLajGch",
        "outputId": "8c7ed20e-8428-46fd-e1c6-20f75538bbe8"
      },
      "execution_count": null,
      "outputs": [
        {
          "output_type": "execute_result",
          "data": {
            "text/plain": [
              "50"
            ]
          },
          "metadata": {},
          "execution_count": 6
        }
      ]
    },
    {
      "cell_type": "code",
      "source": [
        "# KeyWord argumenents: It is arguments passed into a function and methods which is proceded by a keyword an equal sing.\n",
        "def my_func(Math,Sci,Eng):\n",
        "  return(Math+Sci+Eng)\n",
        "\n",
        "my_func(90,87,93) # or my_func(Math=90,Sci=87,Eng=93) is another way to call function we can also change the my_func(Sci=87,Math=90,Eng=93)"
      ],
      "metadata": {
        "colab": {
          "base_uri": "https://localhost:8080/"
        },
        "id": "QjstfiZGkYzc",
        "outputId": "c8aecd87-8940-44c7-dae4-d3bf73a3105d"
      },
      "execution_count": null,
      "outputs": [
        {
          "output_type": "execute_result",
          "data": {
            "text/plain": [
              "270"
            ]
          },
          "metadata": {},
          "execution_count": 8
        }
      ]
    },
    {
      "cell_type": "code",
      "source": [
        "def marks(**score):\n",
        "  print(\"marks in Science\", +score ['Sci'])\n",
        "\n",
        "marks(Math=90,Sci=87,Eng=93)"
      ],
      "metadata": {
        "colab": {
          "base_uri": "https://localhost:8080/"
        },
        "id": "aIFyzYqEmA3J",
        "outputId": "538b2d74-fdb9-48f7-dc55-7d2cde5c41f3"
      },
      "execution_count": null,
      "outputs": [
        {
          "output_type": "stream",
          "name": "stdout",
          "text": [
            "marks in Science 87\n"
          ]
        }
      ]
    },
    {
      "cell_type": "markdown",
      "source": [
        "Modules in Python\n",
        "\n",
        "Modules is file that contains Python code.\n",
        "A Modules can define functions,classes and variables.\n"
      ],
      "metadata": {
        "id": "UAlr8PPFomdD"
      }
    },
    {
      "cell_type": "code",
      "source": [
        "# Save it into a .py file.\n",
        "code = \"\"\"\n",
        "def addition(m1, m2):\n",
        "    return m1 + m2\n",
        "\n",
        "def multiplication(m1, m2):\n",
        "    return m1 * m2\n",
        "\n",
        "def subtraction(m1, m2):\n",
        "    return m1 - m2\n",
        "\n",
        "def division(m1, m2):\n",
        "    return m1 / m2\n",
        "\n",
        "def modulus(m1, m2):\n",
        "    return m1 % m2\n",
        "\n",
        "def exponent(m1, m2):\n",
        "    return m1 ** m2\n",
        "\n",
        "def floor_division(m1, m2):\n",
        "    return m1 // m2\n",
        "\n",
        "\n",
        "def add_equal_to(m1, m2):\n",
        "    m1 += m2\n",
        "    return m1\n",
        "\n",
        "def subtract_equal_to(m1, m2):\n",
        "    m1 -= m2\n",
        "    return m1\n",
        "\n",
        "def multiply_equal_to(m1, m2):\n",
        "    m1 *= m2\n",
        "    return m1\n",
        "\n",
        "def divide_equal_to(m1, m2):\n",
        "    m1 /= m2\n",
        "    return m1\n",
        "\n",
        "def modulus_equal_to(m1, m2):\n",
        "    m1 %= m2\n",
        "    return m1\n",
        "\n",
        "def exponent_equal_to(m1, m2):\n",
        "    m1 **= m2\n",
        "    return m1\n",
        "\n",
        "def floor_equal_to(m1, m2):\n",
        "    m1 //= m2\n",
        "    return m1\n",
        "\n",
        "def equal_to(m1, m2):\n",
        "    return m1 == m2\n",
        "\n",
        "def not_equal_to(m1, m2):\n",
        "    return m1 != m2\n",
        "\n",
        "def greater_than(m1, m2):\n",
        "    return m1 > m2\n",
        "\n",
        "def less_than(m1, m2):\n",
        "    return m1 < m2\n",
        "\n",
        "def greater_than_equal_to(m1, m2):\n",
        "    return m1 >= m2\n",
        "\n",
        "def less_than_equal_to(m1, m2):\n",
        "    return m1 <= m2\n",
        "\n",
        "def logical_and(m1, m2):\n",
        "    return m1 < m2 and m2 > m1\n",
        "\n",
        "def logical_or(m1, m2):\n",
        "    return m1 < m2 or m1 > m2\n",
        "\n",
        "def logical_not(m1):\n",
        "    return not m1\n",
        "\"\"\"\n",
        "\n",
        "with open(\"Calculation.py\", \"w\") as file:\n",
        "    file.write(code)\n",
        "\n",
        "\n",
        "\n"
      ],
      "metadata": {
        "id": "MazGgPTeoQsp"
      },
      "execution_count": null,
      "outputs": []
    },
    {
      "cell_type": "code",
      "source": [
        "import Calculation\n"
      ],
      "metadata": {
        "id": "fT4L13nEp1U8"
      },
      "execution_count": null,
      "outputs": []
    },
    {
      "cell_type": "code",
      "source": [
        "Calculation.modulus_equal_to(10, 3)"
      ],
      "metadata": {
        "colab": {
          "base_uri": "https://localhost:8080/"
        },
        "id": "juX6W08AFy0e",
        "outputId": "1720c7af-0a97-4afd-8a58-3ab90a3b8622"
      },
      "execution_count": null,
      "outputs": [
        {
          "output_type": "execute_result",
          "data": {
            "text/plain": [
              "1"
            ]
          },
          "metadata": {},
          "execution_count": 6
        }
      ]
    },
    {
      "cell_type": "markdown",
      "source": [
        "**Ananymous Functions**\n",
        "\n",
        "1 **Anonymous Functins:**It is define without a name.\n",
        "\n",
        "2 Annaymous function accept multiple inputs and returns single output.\n",
        "\n",
        "3 They contain only one single executable statement\n",
        "\n",
        "**Type of Ananymous Functions :**\n",
        "\n",
        "1 Lambda Functions:\n",
        "\n",
        "2 Filter()\n",
        "\n",
        "3 map()\n",
        "\n",
        "4 zip()\n",
        "\n",
        "5 list()\n",
        "\n",
        "6 sets()\n",
        "\n",
        "7 Distionary Comprehensions\n",
        "\n",
        "\n",
        "**Lambda Function:**\n",
        "Lambda functions is small anonymous function.\n",
        "\n",
        "It can take any number of arguments,but can have only one expression\n",
        "\n",
        "Lambda functions widly used for data manipulation feature engineering\n",
        "\n",
        "syntax for lambda function is\n",
        "\n",
        "lambda arguments:expression\n"
      ],
      "metadata": {
        "id": "jJjI5v_3ZTmD"
      }
    },
    {
      "cell_type": "code",
      "source": [
        "x=lambda a:a*a\n",
        "x(5)"
      ],
      "metadata": {
        "id": "r-eaMi0zWGmB",
        "colab": {
          "base_uri": "https://localhost:8080/"
        },
        "outputId": "dc399c7f-05b1-41d6-e68e-ceae149a3937"
      },
      "execution_count": null,
      "outputs": [
        {
          "output_type": "execute_result",
          "data": {
            "text/plain": [
              "25"
            ]
          },
          "metadata": {},
          "execution_count": 4
        }
      ]
    },
    {
      "cell_type": "code",
      "source": [
        "x=lambda a,b:a+b\n",
        "x(10,4)"
      ],
      "metadata": {
        "colab": {
          "base_uri": "https://localhost:8080/"
        },
        "id": "Bi_3oFRgdr0A",
        "outputId": "b8dfd01c-66b8-4712-f265-9bf903c4948c"
      },
      "execution_count": null,
      "outputs": [
        {
          "output_type": "execute_result",
          "data": {
            "text/plain": [
              "14"
            ]
          },
          "metadata": {},
          "execution_count": 7
        }
      ]
    },
    {
      "cell_type": "markdown",
      "source": [
        "**Filter Function**\n",
        "\n",
        "Filter function filter the given itrebles with the help of fuction that tests each element in the itrable to be true or not.\n",
        "\n",
        "The syntax is\n",
        "\n",
        "filter(function,itrable)\n"
      ],
      "metadata": {
        "id": "09VTAhabekdw"
      }
    },
    {
      "cell_type": "code",
      "source": [
        "# Define a mark of list out of 100\n",
        "score=[92,94,99,97,91,99,88,49,33,88,77,63,53,59,91,12,22,43,96]\n",
        "\n",
        "# Function check if mark is greater than 50\n",
        "def score_check(s):\n",
        "  if s>50:\n",
        "    return True\n",
        "  else:\n",
        "    return False\n",
        "\n",
        "# filtering the students with marks > 50\n",
        "students_passed = filter(score_check,score)\n",
        "for i in students_passed:\n",
        "  print(i,end=\" \")"
      ],
      "metadata": {
        "id": "kc0GymOmd2gu",
        "colab": {
          "base_uri": "https://localhost:8080/"
        },
        "outputId": "721bc937-b731-40d0-bcfb-a5790fb347ea"
      },
      "execution_count": null,
      "outputs": [
        {
          "output_type": "stream",
          "name": "stdout",
          "text": [
            "92 94 99 97 91 99 88 88 77 63 53 59 91 96 "
          ]
        }
      ]
    },
    {
      "cell_type": "code",
      "source": [
        "# Example list of numbers\n",
        "numbers = [1, 5, 23, 65, 34, 12, 8, 47, 19]\n",
        "\n",
        "# Function to filter even numbers\n",
        "def is_even(num):\n",
        "    return num % 2 == 0\n",
        "\n",
        "# Use filter to get a list of even numbers\n",
        "even_numbers = filter(is_even, numbers)\n",
        "\n",
        "# Printing the result\n",
        "print(\"Even numbers:\", list(even_numbers))\n"
      ],
      "metadata": {
        "colab": {
          "base_uri": "https://localhost:8080/"
        },
        "id": "Eiu1Au78ftQv",
        "outputId": "5c41ad5d-69a0-4053-c514-9630b470354a"
      },
      "execution_count": null,
      "outputs": [
        {
          "output_type": "stream",
          "name": "stdout",
          "text": [
            "Even numbers: [34, 12, 8]\n"
          ]
        }
      ]
    },
    {
      "cell_type": "markdown",
      "source": [
        "**Map Function **\n",
        "The map function excutes a specified function for each item in an iterable. The a item is send to the function as parameter.\n",
        "\n",
        "The syntax of map function is :\n",
        "\n",
        "**map(function,iterable)**"
      ],
      "metadata": {
        "id": "RwEujQZvi0uu"
      }
    },
    {
      "cell_type": "code",
      "source": [
        "# percentage of marks scored by these 6  students out of 500\n",
        "# defining the list which scored the total marks out of 500\n",
        "\n",
        "total_score=[365,450,290,398,270,430]\n",
        "\n",
        "# defining the function which calulate the percentage\n",
        "def percent(li):\n",
        "  ans=(li*100)/500\n",
        "  return ans\n",
        "\n",
        "# Using map function\n",
        "mapped_list=map(percent,total_score)\n",
        "print(list(mapped_list))"
      ],
      "metadata": {
        "colab": {
          "base_uri": "https://localhost:8080/"
        },
        "id": "HpiUsHEihKHZ",
        "outputId": "ddc9da18-2490-4dc6-df10-fe20ca3da44e"
      },
      "execution_count": null,
      "outputs": [
        {
          "output_type": "stream",
          "name": "stdout",
          "text": [
            "[73.0, 90.0, 58.0, 79.6, 54.0, 86.0]\n"
          ]
        }
      ]
    },
    {
      "cell_type": "code",
      "source": [
        "# Square each number in a list\n",
        "\n",
        "numbers = [1, 2, 3, 4, 5]\n",
        "\n",
        "# Function to square a number\n",
        "def square(x):\n",
        "    return x ** 2\n",
        "\n",
        "# Use map to apply the square function to each element in the list\n",
        "squared_numbers = map(square, numbers)\n",
        "\n",
        "# Printing the result\n",
        "print(\"Squared numbers:\", list(squared_numbers))\n"
      ],
      "metadata": {
        "colab": {
          "base_uri": "https://localhost:8080/"
        },
        "id": "euhldCc_mUdv",
        "outputId": "5383bcc2-26ed-40e3-b967-6c82343be8bf"
      },
      "execution_count": null,
      "outputs": [
        {
          "output_type": "stream",
          "name": "stdout",
          "text": [
            "Squared numbers: [1, 4, 9, 16, 25]\n"
          ]
        }
      ]
    },
    {
      "cell_type": "code",
      "source": [
        "# Convert temperatures from Celsius to Fahrenheit\n",
        "# Example list of temperatures in Celsius\n",
        "temperatures_celsius = [0, 20, 25, 30, 35]\n",
        "\n",
        "# Function to convert Celsius to Fahrenheit\n",
        "def celsius_to_fahrenheit(celsius):\n",
        "    return (celsius * 9/5) + 32\n",
        "\n",
        "# Use map to apply the conversion function to each temperature in the list\n",
        "temperatures_fahrenheit = map(celsius_to_fahrenheit, temperatures_celsius)\n",
        "\n",
        "# Printing the result\n",
        "print(\"Temperatures in Fahrenheit:\", list(temperatures_fahrenheit))\n"
      ],
      "metadata": {
        "colab": {
          "base_uri": "https://localhost:8080/"
        },
        "id": "SnuaIQ1enB4j",
        "outputId": "c825da74-4dcb-487f-a03e-eb2f4d809b7d"
      },
      "execution_count": null,
      "outputs": [
        {
          "output_type": "stream",
          "name": "stdout",
          "text": [
            "Temperatures in Fahrenheit: [32.0, 68.0, 77.0, 86.0, 95.0]\n"
          ]
        }
      ]
    },
    {
      "cell_type": "code",
      "source": [
        " # Convert a list of strings to uppercase\n",
        " # Example list of strings\n",
        "words = [\"apple\", \"banana\", \"cherry\", \"date\"]\n",
        "\n",
        "# Function to convert a string to uppercase\n",
        "def to_uppercase(word):\n",
        "    return word.upper()\n",
        "\n",
        "# Use map to apply the uppercase conversion function to each word in the list\n",
        "uppercase_words = map(to_uppercase, words)\n",
        "\n",
        "# Printing the result\n",
        "print(\"Uppercase words:\", list(uppercase_words))\n"
      ],
      "metadata": {
        "colab": {
          "base_uri": "https://localhost:8080/"
        },
        "id": "6NJCJb2onorS",
        "outputId": "64d4cba2-8fb0-43ed-8c94-39266405f406"
      },
      "execution_count": null,
      "outputs": [
        {
          "output_type": "stream",
          "name": "stdout",
          "text": [
            "Uppercase words: ['APPLE', 'BANANA', 'CHERRY', 'DATE']\n"
          ]
        }
      ]
    },
    {
      "cell_type": "markdown",
      "source": [
        "**Zip Function **\n",
        "\n",
        "\n",
        "The zip function in Python is used to combine elements from two or more iterables into tuples. It returns an iterator of tuples where the i-th tuple contains the i-th element from each of the input iterables.\n",
        "\n",
        "To **\"unzip\"** the zipped examples, you can use the  **zip(*iterables)**  syntax to separate the tuples back into individual lists\n"
      ],
      "metadata": {
        "id": "zh1hSriUqKgr"
      }
    },
    {
      "cell_type": "code",
      "source": [
        "# Combining two lists\n",
        "# Example lists\n",
        "names = [\"Alice\", \"Bob\", \"Charlie\"]\n",
        "ages = [25, 30, 22]\n",
        "\n",
        "# Use zip to combine the lists into tuples\n",
        "combined_data = zip(names, ages)\n",
        "\n",
        "# Printing the result\n",
        "print(list(combined_data))\n"
      ],
      "metadata": {
        "colab": {
          "base_uri": "https://localhost:8080/"
        },
        "id": "ndElxXkhn_JD",
        "outputId": "280eb441-707a-456c-8b6c-7eb24d83e562"
      },
      "execution_count": null,
      "outputs": [
        {
          "output_type": "stream",
          "name": "stdout",
          "text": [
            "[('Alice', 25), ('Bob', 30), ('Charlie', 22)]\n"
          ]
        }
      ]
    },
    {
      "cell_type": "code",
      "source": [
        "# Zipped data\n",
        "combined_data = [('Alice', 25), ('Bob', 30), ('Charlie', 22)]\n",
        "\n",
        "# Unzipping into separate lists\n",
        "names, ages = zip(*combined_data)\n",
        "\n",
        "# Printing the result\n",
        "print(\"Names:\", names)\n",
        "print(\"Ages:\", ages)\n"
      ],
      "metadata": {
        "colab": {
          "base_uri": "https://localhost:8080/"
        },
        "id": "Ykq8cwyYswWA",
        "outputId": "37b6ac0e-a2b8-49a0-a890-9ea533ff0991"
      },
      "execution_count": null,
      "outputs": [
        {
          "output_type": "stream",
          "name": "stdout",
          "text": [
            "Names: ('Alice', 'Bob', 'Charlie')\n",
            "Ages: (25, 30, 22)\n"
          ]
        }
      ]
    },
    {
      "cell_type": "code",
      "source": [
        "# Combining three lists\n",
        "\n",
        "# Example lists\n",
        "countries = [\"USA\", \"Canada\", \"Germany\"]\n",
        "capitals = [\"Washington D.C.\", \"Ottawa\", \"Berlin\"]\n",
        "populations = [331002651, 37742154, 83783942]\n",
        "\n",
        "# Use zip to combine the lists into tuples\n",
        "country_info = zip(countries, capitals, populations)\n",
        "\n",
        "# Printing the result\n",
        "print(list(country_info))\n"
      ],
      "metadata": {
        "colab": {
          "base_uri": "https://localhost:8080/"
        },
        "id": "VFy-bZf_rBoX",
        "outputId": "2b4fbf86-f509-4ce9-9582-0fee069f07ac"
      },
      "execution_count": null,
      "outputs": [
        {
          "output_type": "stream",
          "name": "stdout",
          "text": [
            "[('USA', 'Washington D.C.', 331002651), ('Canada', 'Ottawa', 37742154), ('Germany', 'Berlin', 83783942)]\n"
          ]
        }
      ]
    },
    {
      "cell_type": "code",
      "source": [
        "# Zipped data\n",
        "country_info = [('USA', 'Washington D.C.', 331002651), ('Canada', 'Ottawa', 37742154), ('Germany', 'Berlin', 83783942)]\n",
        "\n",
        "# Unzipping into separate lists\n",
        "countries, capitals, populations = zip(*country_info)\n",
        "\n",
        "# Printing the result\n",
        "print(\"Countries:\", countries)\n",
        "print(\"Capitals:\", capitals)\n",
        "print(\"Populations:\", populations)\n"
      ],
      "metadata": {
        "colab": {
          "base_uri": "https://localhost:8080/"
        },
        "id": "1hKOG1wws4i3",
        "outputId": "97dae605-de80-4a38-e4e4-04153c4806a7"
      },
      "execution_count": null,
      "outputs": [
        {
          "output_type": "stream",
          "name": "stdout",
          "text": [
            "Countries: ('USA', 'Canada', 'Germany')\n",
            "Capitals: ('Washington D.C.', 'Ottawa', 'Berlin')\n",
            "Populations: (331002651, 37742154, 83783942)\n"
          ]
        }
      ]
    },
    {
      "cell_type": "code",
      "source": [
        "# Iterating through zipped iterables\n",
        "# Example lists\n",
        "fruits = [\"apple\", \"banana\", \"cherry\"]\n",
        "colors = [\"red\", \"yellow\", \"red\"]\n",
        "\n",
        "# Use zip to combine the lists into tuples\n",
        "fruit_color_pairs = zip(fruits, colors)\n",
        "\n",
        "# Iterate through the zipped tuples\n",
        "for fruit, color in fruit_color_pairs:\n",
        "    print(f\"The {fruit} is {color}.\")\n"
      ],
      "metadata": {
        "colab": {
          "base_uri": "https://localhost:8080/"
        },
        "id": "gtO5mseqrbCO",
        "outputId": "49f70e95-99a9-4912-a681-4ca48b3cc52c"
      },
      "execution_count": null,
      "outputs": [
        {
          "output_type": "stream",
          "name": "stdout",
          "text": [
            "The apple is red.\n",
            "The banana is yellow.\n",
            "The cherry is red.\n"
          ]
        }
      ]
    },
    {
      "cell_type": "code",
      "source": [
        "# Zipped data\n",
        "fruit_color_pairs = zip([\"apple\", \"banana\", \"cherry\"], [\"red\", \"yellow\", \"red\"])\n",
        "\n",
        "# Iterate through the zipped tuples\n",
        "for fruit, color in fruit_color_pairs:\n",
        "    print(f\"The {fruit} is {color}.\")\n"
      ],
      "metadata": {
        "colab": {
          "base_uri": "https://localhost:8080/"
        },
        "id": "Xw1ePkgDsJtx",
        "outputId": "b1b405ab-b3ff-4b13-f15e-cfd03cd5577e"
      },
      "execution_count": null,
      "outputs": [
        {
          "output_type": "stream",
          "name": "stdout",
          "text": [
            "The apple is red.\n",
            "The banana is yellow.\n",
            "The cherry is red.\n"
          ]
        }
      ]
    },
    {
      "cell_type": "markdown",
      "source": [
        "**In Python, comprehension **\n",
        "\n",
        "In Python, comprehensions provide a concise way to create lists, dictionaries, and sets. They offer a more readable and expressive syntax for creating these data structures. There are three types of comprehensions in Python: list comprehensions, dictionary comprehensions, and set comprehensions."
      ],
      "metadata": {
        "id": "OB6WZBbJ3UAS"
      }
    },
    {
      "cell_type": "markdown",
      "source": [
        "List Comprehension:\n",
        "List comprehensions allow you to create lists in a single line. The basic syntax is:"
      ],
      "metadata": {
        "id": "2gv7Jqf2JE0n"
      }
    },
    {
      "cell_type": "code",
      "source": [
        "# new_list = [expression for item in iterable if condition]\n",
        "\n",
        "squares = [x**2 for x in range(5)]\n",
        "print(squares)\n",
        "\n"
      ],
      "metadata": {
        "id": "H2R7TAxvs_zp",
        "colab": {
          "base_uri": "https://localhost:8080/"
        },
        "outputId": "6df41c0d-7122-42e1-eb7e-bc8c29405941"
      },
      "execution_count": 24,
      "outputs": [
        {
          "output_type": "stream",
          "name": "stdout",
          "text": [
            "[0, 1, 4, 9, 16]\n"
          ]
        }
      ]
    },
    {
      "cell_type": "markdown",
      "source": [
        "Dictionary Comprehension:\n",
        "Dictionary comprehensions are similar to list comprehensions but create dictionaries. The syntax is:"
      ],
      "metadata": {
        "id": "betIG38XJuNB"
      }
    },
    {
      "cell_type": "code",
      "source": [
        "# new_dict = {key_expr: value_expr for item in iterable if condition}\n",
        "\n",
        "square_dict = {x: x**2 for x in range(5)}\n",
        "print(square_dict)\n"
      ],
      "metadata": {
        "colab": {
          "base_uri": "https://localhost:8080/"
        },
        "id": "oyUT6lEqJr6n",
        "outputId": "bcc3f111-f6b9-468e-d37d-4b4b37752bf4"
      },
      "execution_count": 26,
      "outputs": [
        {
          "output_type": "stream",
          "name": "stdout",
          "text": [
            "{0: 0, 1: 1, 2: 4, 3: 9, 4: 16}\n"
          ]
        }
      ]
    },
    {
      "cell_type": "markdown",
      "source": [
        "Set Comprehension:\n",
        "Set comprehensions are similar to list comprehensions but create sets. The syntax is:"
      ],
      "metadata": {
        "id": "YAY1YOznKD03"
      }
    },
    {
      "cell_type": "code",
      "source": [
        "# new_set = {expression for item in iterable if condition}\n",
        "\n",
        "unique_squares = {x**2 for x in range(5)}\n",
        "print(unique_squares)\n",
        "\n",
        "\n"
      ],
      "metadata": {
        "colab": {
          "base_uri": "https://localhost:8080/"
        },
        "id": "2bm5e32rKALi",
        "outputId": "bee421aa-8b69-4ac4-9bc7-c0c50e124f0e"
      },
      "execution_count": 27,
      "outputs": [
        {
          "output_type": "stream",
          "name": "stdout",
          "text": [
            "{0, 1, 4, 9, 16}\n"
          ]
        }
      ]
    },
    {
      "cell_type": "markdown",
      "source": [
        " **In Python, the term \"aggregate**"
      ],
      "metadata": {
        "id": "HhW6hZHbLdq5"
      }
    },
    {
      "cell_type": "code",
      "source": [
        "# SUM()\n",
        "numbers = [1, 2, 3, 4, 5]\n",
        "total_sum = sum(numbers)\n",
        "print(total_sum)\n"
      ],
      "metadata": {
        "colab": {
          "base_uri": "https://localhost:8080/"
        },
        "id": "LPJ5sJ8mKQTT",
        "outputId": "19d2c791-a04d-4a89-d377-90197197e684"
      },
      "execution_count": 28,
      "outputs": [
        {
          "output_type": "stream",
          "name": "stdout",
          "text": [
            "15\n"
          ]
        }
      ]
    },
    {
      "cell_type": "code",
      "source": [
        "# MIN(),MAX()\n",
        "numbers = [1, 2, 3, 4, 5]\n",
        "min_value = min(numbers)\n",
        "print(min_value)\n",
        "\n",
        "max_value = max(numbers)\n",
        "print(max_value)\n",
        "\n"
      ],
      "metadata": {
        "colab": {
          "base_uri": "https://localhost:8080/"
        },
        "id": "3pxX3kSKLpeg",
        "outputId": "c6098f61-a70b-472a-ab03-ca2a55b9f398"
      },
      "execution_count": 30,
      "outputs": [
        {
          "output_type": "stream",
          "name": "stdout",
          "text": [
            "1\n",
            "5\n"
          ]
        }
      ]
    },
    {
      "cell_type": "code",
      "source": [
        "# LEN()\n",
        "numbers = [1, 2, 3, 4, 5]\n",
        "length = len(numbers)\n",
        "print(length)\n"
      ],
      "metadata": {
        "colab": {
          "base_uri": "https://localhost:8080/"
        },
        "id": "F3RQ_fY8LywN",
        "outputId": "ac642408-1f7d-4a40-adaf-a2411c64a8ff"
      },
      "execution_count": 31,
      "outputs": [
        {
          "output_type": "stream",
          "name": "stdout",
          "text": [
            "5\n"
          ]
        }
      ]
    },
    {
      "cell_type": "code",
      "source": [
        "# AVRAGE ()\n",
        "numbers = [1, 2, 3, 4, 5]\n",
        "average = sum(numbers) / len(numbers)\n",
        "print(average)\n",
        "\n"
      ],
      "metadata": {
        "colab": {
          "base_uri": "https://localhost:8080/"
        },
        "id": "iQwEHonNMHUd",
        "outputId": "cac58504-805a-431f-8069-0a3731b971ce"
      },
      "execution_count": 32,
      "outputs": [
        {
          "output_type": "stream",
          "name": "stdout",
          "text": [
            "3.0\n"
          ]
        }
      ]
    },
    {
      "cell_type": "code",
      "source": [
        "from decimal import ROUND_UP\n",
        "# USING STATISTICS MODULE\n",
        "import statistics\n",
        "\n",
        "data = [1, 2, 3, 4, 5]\n",
        "\n",
        "# Mean (average)\n",
        "mean_value = statistics.mean(data)\n",
        "print(\"Mean:\", mean_value)\n",
        "\n",
        "# Median\n",
        "median_value = statistics.median(data)\n",
        "print(\"Median:\", median_value)\n",
        "\n",
        "# Variance\n",
        "variance_value = statistics.variance(data)\n",
        "print(\"Variance:\", variance_value)\n",
        "\n",
        "# Standard deviation\n",
        "stdev_value = (statistics.stdev(data))\n",
        "print(\"Standard Deviation:\", stdev_value)\n"
      ],
      "metadata": {
        "colab": {
          "base_uri": "https://localhost:8080/"
        },
        "id": "zVzHq8eiMUM1",
        "outputId": "f54701fa-91f6-45cc-b14e-5bb849dfa949"
      },
      "execution_count": 39,
      "outputs": [
        {
          "output_type": "stream",
          "name": "stdout",
          "text": [
            "Mean: 3\n",
            "Median: 3\n",
            "Variance: 2.5\n",
            "Standard Deviation: 1.5811388300841898\n"
          ]
        }
      ]
    },
    {
      "cell_type": "code",
      "source": [
        "# Factorial Using Recursive\n",
        "def factorial(n):\n",
        "    # Base case: factorial of 0 or 1 is 1\n",
        "    if n == 0 or n == 1:\n",
        "        return 1\n",
        "    else:\n",
        "        # Recursive case: n! = n * (n-1)!\n",
        "        return n * factorial(n - 1)\n",
        "\n",
        "# Example usage\n",
        "result = factorial(5)\n",
        "print(\"Factorial of 5:\", result)\n"
      ],
      "metadata": {
        "colab": {
          "base_uri": "https://localhost:8080/"
        },
        "id": "C38wQI0UMq4T",
        "outputId": "69cf028e-3f6b-46d6-afd5-0cfab0d0593e"
      },
      "execution_count": 1,
      "outputs": [
        {
          "output_type": "stream",
          "name": "stdout",
          "text": [
            "Factorial of 5: 120\n"
          ]
        }
      ]
    },
    {
      "cell_type": "markdown",
      "source": [
        "**Fibonacci sequence**\n",
        "\n",
        "The Fibonacci sequence is a series of numbers where each number is the sum of the two preceding ones, usually starting with 0  "
      ],
      "metadata": {
        "id": "o4Q0Mr38kr77"
      }
    },
    {
      "cell_type": "code",
      "source": [
        "# Fibonacci sequence problems\n",
        "\n",
        "def fibonacci(n):\n",
        "    # Base case: fib(0) = 0, fib(1) = 1\n",
        "    if n == 0:\n",
        "        return 0\n",
        "    elif n == 1:\n",
        "        return 1\n",
        "    else:\n",
        "        # Recursive case: fib(n) = fib(n-1) + fib(n-2)\n",
        "        return fibonacci(n - 1) + fibonacci(n - 2)\n",
        "\n",
        "# Example usage\n",
        "for i in range(5):\n",
        "    print(fibonacci(i))\n"
      ],
      "metadata": {
        "colab": {
          "base_uri": "https://localhost:8080/"
        },
        "id": "h_lB_Kyej7BK",
        "outputId": "23758e88-5c8a-4758-ca6c-51aaa39d362b"
      },
      "execution_count": 2,
      "outputs": [
        {
          "output_type": "stream",
          "name": "stdout",
          "text": [
            "0\n",
            "1\n",
            "1\n",
            "2\n",
            "3\n"
          ]
        }
      ]
    },
    {
      "cell_type": "code",
      "source": [
        "# Ex.1\n",
        "def fibonacci(n):\n",
        "    # Base case: fib(0) = 0, fib(1) = 1\n",
        "    if n == 0:\n",
        "        return 0\n",
        "    elif n == 1:\n",
        "        return 1\n",
        "    else:\n",
        "        # Recursive case: fib(n) = fib(n-1) + fib(n-2)\n",
        "        return fibonacci(n - 1) + fibonacci(n - 2)\n",
        "\n",
        "# Example usage\n",
        "for i in range(10):\n",
        "    print(fibonacci(i))"
      ],
      "metadata": {
        "colab": {
          "base_uri": "https://localhost:8080/"
        },
        "id": "2EZoVRlDlFMd",
        "outputId": "467a30a8-5db6-4097-dfdc-96e439d988f7"
      },
      "execution_count": 3,
      "outputs": [
        {
          "output_type": "stream",
          "name": "stdout",
          "text": [
            "0\n",
            "1\n",
            "1\n",
            "2\n",
            "3\n",
            "5\n",
            "8\n",
            "13\n",
            "21\n",
            "34\n"
          ]
        }
      ]
    },
    {
      "cell_type": "code",
      "source": [
        "# Ex.2\n",
        "def fibonacci_iterative(n):\n",
        "    fib_sequence = [0, 1]\n",
        "\n",
        "    for i in range(2, n + 1):\n",
        "        fib_sequence.append(fib_sequence[i - 1] + fib_sequence[i - 2])\n",
        "\n",
        "    return fib_sequence\n",
        "\n",
        "# Example usage\n",
        "result_iterative = fibonacci_iterative(10)\n",
        "print(result_iterative)\n"
      ],
      "metadata": {
        "colab": {
          "base_uri": "https://localhost:8080/"
        },
        "id": "7Llnkr1PlNza",
        "outputId": "e307e8bc-e087-4b00-82d9-97bd20885b74"
      },
      "execution_count": 4,
      "outputs": [
        {
          "output_type": "stream",
          "name": "stdout",
          "text": [
            "[0, 1, 1, 2, 3, 5, 8, 13, 21, 34, 55]\n"
          ]
        }
      ]
    },
    {
      "cell_type": "code",
      "source": [
        "# Ex.3\n",
        "def fibonacci_memoization(n, memo={}):\n",
        "    if n == 0:\n",
        "        return 0\n",
        "    elif n == 1:\n",
        "        return 1\n",
        "    elif n in memo:\n",
        "        return memo[n]\n",
        "    else:\n",
        "        result = fibonacci_memoization(n - 1, memo) + fibonacci_memoization(n - 2, memo)\n",
        "        memo[n] = result\n",
        "        return result\n",
        "\n",
        "# Example usage\n",
        "result_memoization = [fibonacci_memoization(i) for i in range(20)]\n",
        "print(result_memoization)\n"
      ],
      "metadata": {
        "colab": {
          "base_uri": "https://localhost:8080/"
        },
        "id": "Xv_qhdmulo_b",
        "outputId": "867762f0-21f4-412d-8e8a-d79427e52854"
      },
      "execution_count": 7,
      "outputs": [
        {
          "output_type": "stream",
          "name": "stdout",
          "text": [
            "[0, 1, 1, 2, 3, 5, 8, 13, 21, 34, 55, 89, 144, 233, 377, 610, 987, 1597, 2584, 4181]\n"
          ]
        }
      ]
    },
    {
      "cell_type": "markdown",
      "source": [
        "**Classes:**\n",
        "\n",
        "A class is a blueprint or template for creating objects. It defines a set of attributes and methods that the objects created from the class will have. Classes provide a way to structure and organize code in a modular and reusable manner."
      ],
      "metadata": {
        "id": "yif9YEoDGINf"
      }
    },
    {
      "cell_type": "code",
      "source": [
        "class Dog:\n",
        "    def __init__(self, name, age):\n",
        "        self.name = name\n",
        "        self.age = age\n",
        "\n",
        "    def bark(self):\n",
        "        print(f\"{self.name} says Woof!\")\n"
      ],
      "metadata": {
        "id": "r8Cl0Kv9ntkZ"
      },
      "execution_count": 2,
      "outputs": []
    },
    {
      "cell_type": "code",
      "source": [
        "\"\"\"In this example:\n",
        "Dog is the class name.\n",
        "__init__ is a special method called a constructor. It initializes the object's attributes.\n",
        "self is a reference to the instance of the object being created.\n",
        "name and age are attributes of the class.\n",
        "bark is a method of the class.\"\"\"\n"
      ],
      "metadata": {
        "id": "C10mxsLQGi4G"
      },
      "execution_count": null,
      "outputs": []
    },
    {
      "cell_type": "code",
      "source": [
        "# Simple Car Class\n",
        "class Car:\n",
        "    def __init__(self, make, model, year):\n",
        "        self.make = make\n",
        "        self.model = model\n",
        "        self.year = year\n",
        "        self.speed = 0\n",
        "\n",
        "    def accelerate(self):\n",
        "        self.speed += 5\n",
        "        print(f\"The car is now moving at {self.speed} km/h.\")\n",
        "\n",
        "    def brake(self):\n",
        "        if self.speed > 0:\n",
        "            self.speed -= 5\n",
        "            print(f\"The car slowed down to {self.speed} km/h.\")\n",
        "        else:\n",
        "            print(\"The car is already stopped.\")\n",
        "\n",
        "# Creating objects of the Car class\n",
        "car1 = Car(\"Toyota\", \"Camry\", 2022)\n",
        "car2 = Car(\"Ford\", \"Mustang\", 2023)\n",
        "\n",
        "# Using object methods\n",
        "car1.accelerate()\n",
        "car2.accelerate()\n",
        "car1.brake()\n"
      ],
      "metadata": {
        "colab": {
          "base_uri": "https://localhost:8080/"
        },
        "id": "k6P_MAEpHpD8",
        "outputId": "493fc601-ae09-4fc7-fed3-a5910c6d9af8"
      },
      "execution_count": 5,
      "outputs": [
        {
          "output_type": "stream",
          "name": "stdout",
          "text": [
            "The car is now moving at 5 km/h.\n",
            "The car is now moving at 5 km/h.\n",
            "The car slowed down to 0 km/h.\n"
          ]
        }
      ]
    },
    {
      "cell_type": "code",
      "source": [
        "# Student Class with Methods\n",
        "class Student:\n",
        "    def __init__(self, name, age, grade):\n",
        "        self.name = name\n",
        "        self.age = age\n",
        "        self.grade = grade\n",
        "\n",
        "    def study(self, hours):\n",
        "        print(f\"{self.name} is studying for {hours} hours.\")\n",
        "\n",
        "    def take_exam(self):\n",
        "        print(f\"{self.name} is taking an exam.\")\n",
        "\n",
        "# Creating objects of the Student class\n",
        "student1 = Student(\"Alice\", 18, \"A\")\n",
        "student2 = Student(\"Bob\", 20, \"B\")\n",
        "\n",
        "# Using object methods\n",
        "student1.study(5)\n",
        "student2.take_exam()\n"
      ],
      "metadata": {
        "colab": {
          "base_uri": "https://localhost:8080/"
        },
        "id": "f2_t08ipHpGp",
        "outputId": "def64fc1-d5ed-4598-9594-9bd5868e4539"
      },
      "execution_count": 9,
      "outputs": [
        {
          "output_type": "stream",
          "name": "stdout",
          "text": [
            "Alice is studying for 5 hours.\n",
            "Bob is taking an exam.\n"
          ]
        }
      ]
    },
    {
      "cell_type": "code",
      "source": [
        " # Bank Account Class\n",
        "\n",
        " class BankAccount:\n",
        "    def __init__(self, account_holder, balance=0):\n",
        "        self.account_holder = account_holder\n",
        "        self.balance = balance\n",
        "\n",
        "    def deposit(self, amount):\n",
        "        self.balance += amount\n",
        "        print(f\"Deposited ${amount}. New balance: ${self.balance}.\")\n",
        "\n",
        "    def withdraw(self, amount):\n",
        "        if amount <= self.balance:\n",
        "            self.balance -= amount\n",
        "            print(f\"Withdrew ${amount}. New balance: ${self.balance}.\")\n",
        "        else:\n",
        "            print(\"Insufficient funds.\")\n",
        "\n",
        "# Creating objects of the BankAccount class\n",
        "account1 = BankAccount(\"Alice\", 1000)\n",
        "account2 = BankAccount(\"Bob\")\n",
        "\n",
        "# Using object methods\n",
        "account1.deposit(500)\n",
        "account2.withdraw(200)\n"
      ],
      "metadata": {
        "colab": {
          "base_uri": "https://localhost:8080/"
        },
        "id": "WvLVgfTOHpKT",
        "outputId": "ed95bdad-edb6-401b-b04d-5bb9efa0e0bc"
      },
      "execution_count": 10,
      "outputs": [
        {
          "output_type": "stream",
          "name": "stdout",
          "text": [
            "Deposited $500. New balance: $1500.\n",
            "Insufficient funds.\n"
          ]
        }
      ]
    },
    {
      "cell_type": "code",
      "source": [
        "# Creating Object of person class\n",
        "class person:\n",
        "  def __init__ (self, name, age):\n",
        "\n",
        "    self.name=name\n",
        "    self.age=age\n",
        "\n",
        "p1=person(\"Nikhil\",36)\n",
        "print(p1.name)\n",
        "print(p1.age)\n"
      ],
      "metadata": {
        "colab": {
          "base_uri": "https://localhost:8080/"
        },
        "id": "wgo33uhcKYsx",
        "outputId": "e65a7b74-24a2-4cbe-e3bd-e8bc0301650c"
      },
      "execution_count": 13,
      "outputs": [
        {
          "output_type": "stream",
          "name": "stdout",
          "text": [
            "Nikhil\n",
            "36\n"
          ]
        }
      ]
    },
    {
      "cell_type": "code",
      "source": [
        "p1.age=26\n",
        "p1.age"
      ],
      "metadata": {
        "colab": {
          "base_uri": "https://localhost:8080/"
        },
        "id": "DzowcSJjNYWG",
        "outputId": "6ad930b5-87f1-4472-aab1-a83fce28cb4a"
      },
      "execution_count": 15,
      "outputs": [
        {
          "output_type": "execute_result",
          "data": {
            "text/plain": [
              "26"
            ]
          },
          "metadata": {},
          "execution_count": 15
        }
      ]
    },
    {
      "cell_type": "code",
      "source": [
        "# we can delete perticular properties using del keyword\n",
        "del p1.age"
      ],
      "metadata": {
        "id": "hjxbOdkJNYee"
      },
      "execution_count": 17,
      "outputs": []
    },
    {
      "cell_type": "code",
      "source": [
        "# We can delete entire\n",
        "del p1"
      ],
      "metadata": {
        "id": "3nCsLhP3NYsJ"
      },
      "execution_count": 18,
      "outputs": []
    },
    {
      "cell_type": "markdown",
      "source": [
        "**Objects:**\n",
        "\n",
        "An object is an instance of a class. It is a concrete realization of the class blueprint, with specific values assigned to its attributes. You create objects based on a class."
      ],
      "metadata": {
        "id": "AtXLNgzKHJpa"
      }
    },
    {
      "cell_type": "code",
      "source": [
        "# Creating objects (instances) of the Dog class\n",
        "dog1 = Dog(\"Buddy\", 3)\n",
        "dog2 = Dog(\"Max\", 5)\n",
        "\n",
        "# Accessing object attributes\n",
        "print(f\"{dog1.name} is {dog1.age} years old.\")\n",
        "print(f\"{dog2.name} is {dog2.age} years old.\")\n",
        "\n",
        "# Calling object methods\n",
        "dog1.bark()\n",
        "dog2.bark()\n"
      ],
      "metadata": {
        "colab": {
          "base_uri": "https://localhost:8080/"
        },
        "id": "cbTedz_-HJc7",
        "outputId": "a3e0fe2a-9efa-44d9-b57e-3a0154073b0a"
      },
      "execution_count": 4,
      "outputs": [
        {
          "output_type": "stream",
          "name": "stdout",
          "text": [
            "Buddy is 3 years old.\n",
            "Max is 5 years old.\n",
            "Buddy says Woof!\n",
            "Max says Woof!\n"
          ]
        }
      ]
    },
    {
      "cell_type": "code",
      "source": [],
      "metadata": {
        "id": "PesBFR2HKWrg"
      },
      "execution_count": null,
      "outputs": []
    },
    {
      "cell_type": "markdown",
      "source": [
        "In this example, dog1 and dog2 are objects (instances) of the Dog class. They each have their own set of attributes (name and age) and can call methods defined in the class (e.g., bark)."
      ],
      "metadata": {
        "id": "UJHEq84wHt2A"
      }
    },
    {
      "cell_type": "markdown",
      "source": [
        "Classes and objects provide a way to model real-world entities and their behaviors in a structured and modular fashion. They are a key feature of object-oriented programming, promoting code reusability and maintainability."
      ],
      "metadata": {
        "id": "HGX_ecTgH42E"
      }
    },
    {
      "cell_type": "markdown",
      "source": [
        "**Inheritance**\n",
        "\n",
        "Inheritance is a fundamental concept in object-oriented programming (OOP) that allows a new class to inherit attributes and methods from an existing class. The existing class is referred to as the \"parent\" or \"base\" class, and the new class is called the \"child\" or \"derived\" class. Inheritance promotes code reuse and the creation of a hierarchy of classes."
      ],
      "metadata": {
        "id": "3bVmUo-ROfAd"
      }
    },
    {
      "cell_type": "code",
      "source": [
        "class Person:\n",
        "    def __init__(self, name, age):\n",
        "        self.name = name\n",
        "        self.age = age\n",
        "\n",
        "    def display(self):\n",
        "        print(self.name, self.age)\n",
        "\n",
        "# Creating an instance of the Person class\n",
        "p1 = Person(\"Anita\", 24)\n",
        "\n",
        "# Using the display method\n",
        "p1.display()\n"
      ],
      "metadata": {
        "colab": {
          "base_uri": "https://localhost:8080/"
        },
        "id": "UncK0uPkGzZp",
        "outputId": "82b6a446-8c05-4fd6-949c-bb8aace4f10c"
      },
      "execution_count": 23,
      "outputs": [
        {
          "output_type": "stream",
          "name": "stdout",
          "text": [
            "Anita 24\n"
          ]
        }
      ]
    },
    {
      "cell_type": "code",
      "source": [
        "class Person:\n",
        "    def __init__(self, name, age):\n",
        "        self.name = name\n",
        "        self.age = age\n",
        "\n",
        "    def display(self):\n",
        "        print(f\"Name: {self.name}, Age: {self.age}\")\n",
        "\n",
        "\n",
        "class Student(Person):\n",
        "    def __init__(self, name, age):\n",
        "        super().__init__(name, age)\n",
        "\n",
        "# Creating an instance of the Student class\n",
        "s1 = Student(\"Kiran\", 16)\n",
        "\n",
        "# Using the display method of the Student class\n",
        "s1.display()\n",
        "\n"
      ],
      "metadata": {
        "colab": {
          "base_uri": "https://localhost:8080/"
        },
        "id": "OdxNEh9zPeIG",
        "outputId": "89bdcfc3-ee27-472a-c294-f9fdc2019aac"
      },
      "execution_count": 30,
      "outputs": [
        {
          "output_type": "stream",
          "name": "stdout",
          "text": [
            "Name: Kiran, Age: 16\n"
          ]
        }
      ]
    },
    {
      "cell_type": "code",
      "source": [
        "# Parent class\n",
        "class Animal:\n",
        "    def __init__(self, name):\n",
        "        self.name = name\n",
        "\n",
        "    def speak(self):\n",
        "        print(f\"{self.name} makes a sound.\")\n",
        "\n",
        "# Child class inheriting from Animal\n",
        "class Dog(Animal):\n",
        "    def bark(self):\n",
        "        print(f\"{self.name} barks.\")\n",
        "\n",
        "# Child class inheriting from Animal\n",
        "class Cat(Animal):\n",
        "    def meow(self):\n",
        "        print(f\"{self.name} meows.\")\n",
        "\n",
        "# Creating objects of the derived classes\n",
        "dog = Dog(\"Buddy\")\n",
        "cat = Cat(\"Whiskers\")\n",
        "\n",
        "# Using methods from both the parent and child classes\n",
        "dog.speak()  # Inherited from Animal\n",
        "dog.bark()   # Specific to Dog\n",
        "\n",
        "cat.speak()  # Inherited from Animal\n",
        "cat.meow()   # Specific to Cat\n"
      ],
      "metadata": {
        "colab": {
          "base_uri": "https://localhost:8080/"
        },
        "id": "Yg1QGtI9RLlf",
        "outputId": "6e4c2fc7-6560-4c23-a143-ecba3f60d118"
      },
      "execution_count": 31,
      "outputs": [
        {
          "output_type": "stream",
          "name": "stdout",
          "text": [
            "Buddy makes a sound.\n",
            "Buddy barks.\n",
            "Whiskers makes a sound.\n",
            "Whiskers meows.\n"
          ]
        }
      ]
    },
    {
      "cell_type": "markdown",
      "source": [
        "**Encapsulation**\n",
        "\n",
        "Encapsulation is the process of wrapping up variables in to single entity.\n",
        "\n",
        "Encapsulation restrict direct access to variable and methods.\n",
        "\n",
        "\n",
        "Encapsulation is one of the fundamental principles of object-oriented programming (OOP) that involves bundling the data (attributes) and the methods (functions) that operate on the data into a single unit known as a class. It restricts access to some of the object's components, preventing the direct modification of internal state from outside the object.\n",
        "\n",
        "Public Attributes/Methods: These are accessible from outside the class.\n",
        "\n",
        "Private Attributes/Methods: These are intended for internal use and are not accessible from outside the class. In Python, private attributes/methods are denoted by a double underscore (__) prefix.\n",
        "\n",
        "\n"
      ],
      "metadata": {
        "id": "yVwQGbDid0JC"
      }
    },
    {
      "cell_type": "code",
      "source": [
        "# Data is hidden through private members of the class\n",
        "\n",
        "\n",
        "class Person:\n",
        "    def __init__(self, name,age):\n",
        "        self.name = name\n",
        "        self._age = age    # Private attribute with a single underscore Age is private members & we can modify private members directly.\n",
        "                           # If we want to modify private members is only way to change private variable directly.\n",
        "\n",
        "    def display(self):\n",
        "        print(self.name, self._age)\n",
        "\n",
        "# Creating an instance of the Person class\n",
        "p1 = Person(\"Anita\", 36)\n",
        "\n",
        "# Using the display method\n",
        "p1.display()\n",
        "\n",
        "# Attempting to modify the age directly will now raise an AttributeError\n",
        "# Uncommenting the line below will raise an AttributeError\n",
        "# p1._age = 25\n",
        "# Encapsulation Protects an object from unwated access and make the program easier to understand\n"
      ],
      "metadata": {
        "colab": {
          "base_uri": "https://localhost:8080/"
        },
        "id": "8heEIC3LSlok",
        "outputId": "98e922c8-0310-460d-dfbd-238d01963e79"
      },
      "execution_count": 53,
      "outputs": [
        {
          "output_type": "stream",
          "name": "stdout",
          "text": [
            "Anita 36\n"
          ]
        }
      ]
    },
    {
      "cell_type": "code",
      "source": [
        "p1.age=25\n",
        "p1.display()"
      ],
      "metadata": {
        "colab": {
          "base_uri": "https://localhost:8080/"
        },
        "id": "B4KQmVA6gQ74",
        "outputId": "23873efb-2336-471e-877f-aeac29a957e4"
      },
      "execution_count": 46,
      "outputs": [
        {
          "output_type": "stream",
          "name": "stdout",
          "text": [
            "Anita 36\n"
          ]
        }
      ]
    },
    {
      "cell_type": "code",
      "source": [
        "# If we want to modify private members is only way to change private variable directly.\n",
        "\n",
        "\n",
        "class Person:\n",
        "    def __init__(self, name, age):\n",
        "        self.name = name\n",
        "        self._age = age  # Private attribute with a single underscore\n",
        "\n",
        "    def display(self):\n",
        "        print(f\"Name: {self.name}, Age: {self._age}\")\n",
        "\n",
        "    def modify_variable(self, new_age):\n",
        "        if new_age > 0:\n",
        "            self._age = new_age\n",
        "        else:\n",
        "            print(\"Age must be greater than 0.\")\n",
        "\n",
        "# Creating an instance of the Person class\n",
        "p1 = Person(\"Anita\", 36)\n",
        "\n",
        "# Using the display method\n",
        "p1.display()\n",
        "\n",
        "# Modifying the age using the modify_variable method\n",
        "p1.modify_variable(26)\n",
        "\n",
        "# Using the display method again\n",
        "p1.display()\n"
      ],
      "metadata": {
        "colab": {
          "base_uri": "https://localhost:8080/"
        },
        "id": "FXCBAMf_g8dZ",
        "outputId": "bf95718e-3a3a-448c-fce2-f3c379d471ed"
      },
      "execution_count": 52,
      "outputs": [
        {
          "output_type": "stream",
          "name": "stdout",
          "text": [
            "Name: Anita, Age: 36\n",
            "Name: Anita, Age: 26\n"
          ]
        }
      ]
    },
    {
      "cell_type": "markdown",
      "source": [
        "**PolyMorphism**\n",
        "\n",
        "Poly Mean Many Morphism mean forms.\n",
        "\n",
        "Polymorphism means is the ability to use methods in diffrent ways.Polymorphism give the diffrent meaning the diffrent methods.\n"
      ],
      "metadata": {
        "id": "Gcay9WD7lzQp"
      }
    },
    {
      "cell_type": "code",
      "source": [
        "class SBI:\n",
        "    def rate_of_interest(self):\n",
        "        return 8\n",
        "\n",
        "class ICICI:\n",
        "    def rate_of_interest(self):\n",
        "        return 7\n",
        "\n",
        "class HDFC:\n",
        "    def rate_of_interest(self):\n",
        "        return 6\n",
        "\n",
        "# Common interface\n",
        "def common_interest(bank):\n",
        "    return bank.rate_of_interest()\n",
        "\n",
        "# Creating the objects\n",
        "S = SBI()\n",
        "I = ICICI()\n",
        "H = HDFC()\n",
        "\n",
        "# Example usage\n",
        "print(\"SBI Interest Rate:\", common_interest(S))\n",
        "print(\"ICICI Interest Rate:\", common_interest(I))\n",
        "print(\"HDFC Interest Rate:\", common_interest(H))\n"
      ],
      "metadata": {
        "colab": {
          "base_uri": "https://localhost:8080/"
        },
        "id": "0U13B1e8j-JX",
        "outputId": "032d4ec7-4b5a-4023-c18e-5d25ed6f3544"
      },
      "execution_count": 61,
      "outputs": [
        {
          "output_type": "stream",
          "name": "stdout",
          "text": [
            "SBI Interest Rate: 8\n",
            "ICICI Interest Rate: 7\n",
            "HDFC Interest Rate: 6\n"
          ]
        }
      ]
    },
    {
      "cell_type": "code",
      "source": [
        "common_interest(S)"
      ],
      "metadata": {
        "colab": {
          "base_uri": "https://localhost:8080/"
        },
        "id": "FcCL6IXTwXN_",
        "outputId": "c0650e6f-caab-4a7a-92db-ecf7ec85c720"
      },
      "execution_count": 62,
      "outputs": [
        {
          "output_type": "execute_result",
          "data": {
            "text/plain": [
              "8"
            ]
          },
          "metadata": {},
          "execution_count": 62
        }
      ]
    },
    {
      "cell_type": "code",
      "source": [
        "common_interest(I)"
      ],
      "metadata": {
        "colab": {
          "base_uri": "https://localhost:8080/"
        },
        "id": "RU3Xe24kxsYn",
        "outputId": "fdd15fdd-f632-4022-b451-d40982d108aa"
      },
      "execution_count": 63,
      "outputs": [
        {
          "output_type": "execute_result",
          "data": {
            "text/plain": [
              "7"
            ]
          },
          "metadata": {},
          "execution_count": 63
        }
      ]
    },
    {
      "cell_type": "code",
      "source": [
        "common_interest(H)"
      ],
      "metadata": {
        "colab": {
          "base_uri": "https://localhost:8080/"
        },
        "id": "IZmHmEBlxu8e",
        "outputId": "d3728449-b754-40fe-f995-0196b0815d4d"
      },
      "execution_count": 64,
      "outputs": [
        {
          "output_type": "execute_result",
          "data": {
            "text/plain": [
              "6"
            ]
          },
          "metadata": {},
          "execution_count": 64
        }
      ]
    },
    {
      "cell_type": "markdown",
      "source": [
        "**from datetime import datetime, date, time**"
      ],
      "metadata": {
        "id": "Nt7driz71sK_"
      }
    },
    {
      "cell_type": "code",
      "source": [
        "from datetime import datetime, date, time\n"
      ],
      "metadata": {
        "id": "7lMyGwB_xyFr"
      },
      "execution_count": 65,
      "outputs": []
    },
    {
      "cell_type": "code",
      "source": [
        "current_datetime = datetime.now()\n",
        "print(\"Current Date and Time:\", current_datetime)\n"
      ],
      "metadata": {
        "colab": {
          "base_uri": "https://localhost:8080/"
        },
        "id": "dcGrfszk11Y2",
        "outputId": "f1213089-cd06-4eee-b5a2-1e98b8cfdbbd"
      },
      "execution_count": 66,
      "outputs": [
        {
          "output_type": "stream",
          "name": "stdout",
          "text": [
            "Current Date and Time: 2023-12-01 14:46:55.779842\n"
          ]
        }
      ]
    },
    {
      "cell_type": "code",
      "source": [
        "datetime.now()"
      ],
      "metadata": {
        "colab": {
          "base_uri": "https://localhost:8080/"
        },
        "id": "8Rc8u58a2Mof",
        "outputId": "7e88fba4-2be4-475d-dace-a31962b0ce2f"
      },
      "execution_count": 67,
      "outputs": [
        {
          "output_type": "execute_result",
          "data": {
            "text/plain": [
              "datetime.datetime(2023, 12, 1, 14, 47, 18, 390818)"
            ]
          },
          "metadata": {},
          "execution_count": 67
        }
      ]
    },
    {
      "cell_type": "code",
      "source": [
        "year = current_datetime.year\n",
        "month = current_datetime.month\n",
        "day = current_datetime.day\n",
        "hour = current_datetime.hour\n",
        "minute = current_datetime.minute\n",
        "second = current_datetime.second"
      ],
      "metadata": {
        "id": "PKKWSO7i2SJ2"
      },
      "execution_count": 68,
      "outputs": []
    },
    {
      "cell_type": "code",
      "source": [
        "print(year)\n",
        "print(month)\n",
        "print(day)"
      ],
      "metadata": {
        "colab": {
          "base_uri": "https://localhost:8080/"
        },
        "id": "_KKGaMDn2Zdr",
        "outputId": "8ce62c7c-5753-45de-a309-d790060908f2"
      },
      "execution_count": 71,
      "outputs": [
        {
          "output_type": "stream",
          "name": "stdout",
          "text": [
            "2023\n",
            "12\n",
            "1\n"
          ]
        }
      ]
    },
    {
      "cell_type": "code",
      "source": [
        "print(year,month,day)"
      ],
      "metadata": {
        "colab": {
          "base_uri": "https://localhost:8080/"
        },
        "id": "D7ZJCh-42fH_",
        "outputId": "a8ebcf29-1f43-4a4e-a40b-1025cba7b1be"
      },
      "execution_count": 72,
      "outputs": [
        {
          "output_type": "stream",
          "name": "stdout",
          "text": [
            "2023 12 1\n"
          ]
        }
      ]
    },
    {
      "cell_type": "code",
      "source": [
        "specific_datetime = datetime(2023, 1, 15,)\n",
        "print(\"Specific Date and Time:\", specific_datetime)\n"
      ],
      "metadata": {
        "colab": {
          "base_uri": "https://localhost:8080/"
        },
        "id": "lVUjiURD2sD0",
        "outputId": "4c84d220-646c-40fb-abc6-95820bf0e9af"
      },
      "execution_count": 73,
      "outputs": [
        {
          "output_type": "stream",
          "name": "stdout",
          "text": [
            "Specific Date and Time: 2023-01-15 00:00:00\n"
          ]
        }
      ]
    },
    {
      "cell_type": "code",
      "source": [
        "date.today()\n",
        "\n"
      ],
      "metadata": {
        "colab": {
          "base_uri": "https://localhost:8080/"
        },
        "id": "1Ctt7IzJ20la",
        "outputId": "bee5c21e-22d5-42f0-f849-3325c53c4185"
      },
      "execution_count": 74,
      "outputs": [
        {
          "output_type": "execute_result",
          "data": {
            "text/plain": [
              "datetime.date(2023, 12, 1)"
            ]
          },
          "metadata": {},
          "execution_count": 74
        }
      ]
    },
    {
      "cell_type": "code",
      "source": [
        "datetime.now().time()"
      ],
      "metadata": {
        "colab": {
          "base_uri": "https://localhost:8080/"
        },
        "id": "CcQeFccC280R",
        "outputId": "b46b9345-a2ce-4bda-b890-98654b25c9ec"
      },
      "execution_count": 75,
      "outputs": [
        {
          "output_type": "execute_result",
          "data": {
            "text/plain": [
              "datetime.time(14, 50, 33, 762920)"
            ]
          },
          "metadata": {},
          "execution_count": 75
        }
      ]
    },
    {
      "cell_type": "code",
      "source": [
        "current_datetime.strftime(\"%Y-%m-%d\")"
      ],
      "metadata": {
        "colab": {
          "base_uri": "https://localhost:8080/",
          "height": 35
        },
        "id": "ubXP7Pwf3B2j",
        "outputId": "1127d720-7e9b-4d67-dc66-96e7eaaf7082"
      },
      "execution_count": 76,
      "outputs": [
        {
          "output_type": "execute_result",
          "data": {
            "text/plain": [
              "'2023-12-01'"
            ],
            "application/vnd.google.colaboratory.intrinsic+json": {
              "type": "string"
            }
          },
          "metadata": {},
          "execution_count": 76
        }
      ]
    },
    {
      "cell_type": "code",
      "source": [
        "current_datetime.strftime(\"%H:%M:%S\")\n"
      ],
      "metadata": {
        "colab": {
          "base_uri": "https://localhost:8080/",
          "height": 35
        },
        "id": "Jve99FLv3Lsj",
        "outputId": "8c0ed651-c7b0-4a6c-e0a1-9145537a06a0"
      },
      "execution_count": 77,
      "outputs": [
        {
          "output_type": "execute_result",
          "data": {
            "text/plain": [
              "'14:46:55'"
            ],
            "application/vnd.google.colaboratory.intrinsic+json": {
              "type": "string"
            }
          },
          "metadata": {},
          "execution_count": 77
        }
      ]
    },
    {
      "cell_type": "code",
      "source": [
        "date_str = \"2023-01-15\"\n",
        "parsed_date = datetime.strptime(date_str, \"%Y-%m-%d\")\n",
        "print(\"Parsed Date:\", parsed_date)\n"
      ],
      "metadata": {
        "colab": {
          "base_uri": "https://localhost:8080/"
        },
        "id": "-ah7fBAU3Oiz",
        "outputId": "ca6fbbb5-2caa-44d6-9537-a24301e57c4b"
      },
      "execution_count": 78,
      "outputs": [
        {
          "output_type": "stream",
          "name": "stdout",
          "text": [
            "Parsed Date: 2023-01-15 00:00:00\n"
          ]
        }
      ]
    },
    {
      "cell_type": "code",
      "source": [
        "from datetime import timedelta\n",
        "\n",
        "# Calculate the difference between two dates\n",
        "date1 = datetime(2023, 1, 15)\n",
        "date2 = datetime(2023, 1, 5)\n",
        "difference = date1 - date2\n",
        "\n",
        "print(\"Difference between dates:\", difference)\n",
        "print(\"Difference in days:\", difference.days)\n"
      ],
      "metadata": {
        "colab": {
          "base_uri": "https://localhost:8080/"
        },
        "id": "z-o9j3Qh3V24",
        "outputId": "fc49c642-77e8-477f-bc50-e9cc83458db5"
      },
      "execution_count": 79,
      "outputs": [
        {
          "output_type": "stream",
          "name": "stdout",
          "text": [
            "Difference between dates: 10 days, 0:00:00\n",
            "Difference in days: 10\n"
          ]
        }
      ]
    },
    {
      "cell_type": "code",
      "source": [
        "# Adding 3 days to the current date\n",
        "current_date=date.today()\n",
        "a=current_date + timedelta(days=3)\n",
        "print(\"Three days later:\", a)\n"
      ],
      "metadata": {
        "colab": {
          "base_uri": "https://localhost:8080/"
        },
        "id": "WRUblOmr3jwS",
        "outputId": "a0ec958a-fedc-42ca-ecc5-d758d6e5efae"
      },
      "execution_count": 84,
      "outputs": [
        {
          "output_type": "stream",
          "name": "stdout",
          "text": [
            "Three days later: 2023-12-04\n"
          ]
        }
      ]
    },
    {
      "cell_type": "code",
      "source": [
        "# Comparing dates\n",
        "if date1 > date2:\n",
        "    print(\"date1 is later than date:2\")\n",
        "elif date1 < date2:\n",
        "    print(\"date1 is earlier than date:2\")\n",
        "else:\n",
        "    print(\"date1 and date2 are equal\")\n"
      ],
      "metadata": {
        "colab": {
          "base_uri": "https://localhost:8080/"
        },
        "id": "kgyOb4u53mqw",
        "outputId": "83cf90b1-a1dc-4067-9523-71dd9d3595d9"
      },
      "execution_count": 86,
      "outputs": [
        {
          "output_type": "stream",
          "name": "stdout",
          "text": [
            "date1 is later than date:2\n"
          ]
        }
      ]
    },
    {
      "cell_type": "code",
      "source": [
        "# Getting the day of the week\n",
        "day_of_week = current_date.strftime(\"%A\")\n",
        "print(\"Day of the Week:\", day_of_week)\n"
      ],
      "metadata": {
        "colab": {
          "base_uri": "https://localhost:8080/"
        },
        "id": "S_EJSy3G4X3M",
        "outputId": "becf98d9-ca38-4172-f49d-c6245344c24a"
      },
      "execution_count": 87,
      "outputs": [
        {
          "output_type": "stream",
          "name": "stdout",
          "text": [
            "Day of the Week: Friday\n"
          ]
        }
      ]
    },
    {
      "cell_type": "code",
      "source": [
        "# Creating a date range\n",
        "start_date = date(2023, 1, 1)\n",
        "end_date = date(2023, 1, 10)\n",
        "date_range = [start_date + timedelta(days=x) for x in range((end_date - start_date).days + 1)]\n",
        "\n",
        "print(\"Date Range:\", date_range)\n"
      ],
      "metadata": {
        "colab": {
          "base_uri": "https://localhost:8080/"
        },
        "id": "ivqqkOkz4hDJ",
        "outputId": "18f9dcc5-8b61-4d04-93d6-9bac34804886"
      },
      "execution_count": 92,
      "outputs": [
        {
          "output_type": "stream",
          "name": "stdout",
          "text": [
            "Date Range: [datetime.date(2023, 1, 1), datetime.date(2023, 1, 2), datetime.date(2023, 1, 3), datetime.date(2023, 1, 4), datetime.date(2023, 1, 5), datetime.date(2023, 1, 6), datetime.date(2023, 1, 7), datetime.date(2023, 1, 8), datetime.date(2023, 1, 9), datetime.date(2023, 1, 10)]\n"
          ]
        }
      ]
    },
    {
      "cell_type": "code",
      "source": [
        "# Getting the current time:\n",
        "current_time = datetime.now().time()\n",
        "print(\"Current Time:\", current_time)\n",
        "\n",
        "# Formatting time:\n",
        "formatted_time = current_time.strftime(\"%I:%M %p\")\n",
        "print(\"Formatted Time:\", formatted_time)\n",
        "\n"
      ],
      "metadata": {
        "colab": {
          "base_uri": "https://localhost:8080/"
        },
        "id": "4AOdYLeS4sYD",
        "outputId": "79b8ffca-cc74-42f1-f0b4-cd08a2515e9a"
      },
      "execution_count": 94,
      "outputs": [
        {
          "output_type": "stream",
          "name": "stdout",
          "text": [
            "Current Time: 15:00:11.704749\n",
            "Formatted Time: 03:00 PM\n"
          ]
        }
      ]
    },
    {
      "cell_type": "code",
      "source": [
        "from datetime import datetime, timedelta\n",
        "\n",
        "# Creating a timedelta representing 5 days\n",
        "delta = timedelta(days=5)\n",
        "print(\"Timedelta:\", delta)\n"
      ],
      "metadata": {
        "colab": {
          "base_uri": "https://localhost:8080/"
        },
        "id": "JlHf-piy5ECP",
        "outputId": "e03ee565-5e87-4423-e873-8b488f1f26aa"
      },
      "execution_count": 95,
      "outputs": [
        {
          "output_type": "stream",
          "name": "stdout",
          "text": [
            "Timedelta: 5 days, 0:00:00\n"
          ]
        }
      ]
    },
    {
      "cell_type": "code",
      "source": [
        "# Adding a timedelta to a date\n",
        "current_date = datetime.now().date()\n",
        "future_date = current_date + timedelta(days=10)\n",
        "print(\"Future Date:\", future_date)\n",
        "\n",
        "# Subtracting a timedelta from a date\n",
        "past_date = current_date - timedelta(weeks=2)\n",
        "print(\"Past Date:\", past_date)\n"
      ],
      "metadata": {
        "colab": {
          "base_uri": "https://localhost:8080/"
        },
        "id": "8wWZWfuu6ZkU",
        "outputId": "a8c2d024-eaeb-42b6-cda5-4bab3d3ba2f6"
      },
      "execution_count": 96,
      "outputs": [
        {
          "output_type": "stream",
          "name": "stdout",
          "text": [
            "Future Date: 2023-12-11\n",
            "Past Date: 2023-11-17\n"
          ]
        }
      ]
    },
    {
      "cell_type": "code",
      "source": [
        "import datetime\n",
        "\n",
        "d=datetime.date(2017,7,24)\n",
        "\n",
        "print(d)"
      ],
      "metadata": {
        "colab": {
          "base_uri": "https://localhost:8080/"
        },
        "id": "O66tYqo36b9j",
        "outputId": "2df76415-7e4f-4fca-9725-13e957c350c9"
      },
      "execution_count": 97,
      "outputs": [
        {
          "output_type": "stream",
          "name": "stdout",
          "text": [
            "2017-07-24\n"
          ]
        }
      ]
    },
    {
      "cell_type": "code",
      "source": [
        "import datetime\n",
        "\n",
        "d=datetime.date(2017,6,18)\n",
        "\n",
        "print(d)"
      ],
      "metadata": {
        "colab": {
          "base_uri": "https://localhost:8080/"
        },
        "id": "XagocHht_GvW",
        "outputId": "a716d381-c21d-4342-a7b2-ba9526b9cd70"
      },
      "execution_count": 98,
      "outputs": [
        {
          "output_type": "stream",
          "name": "stdout",
          "text": [
            "2017-06-18\n"
          ]
        }
      ]
    },
    {
      "cell_type": "code",
      "source": [
        "tday=datetime.date.today()\n",
        "\n",
        "bday=datetime.date(2017,9,18)\n",
        "\n",
        "t_day=bday-tday\n"
      ],
      "metadata": {
        "id": "1RBE_qX1_SJ6"
      },
      "execution_count": 101,
      "outputs": []
    },
    {
      "cell_type": "code",
      "source": [],
      "metadata": {
        "id": "SSU82QWP_nCz"
      },
      "execution_count": null,
      "outputs": []
    }
  ]
}