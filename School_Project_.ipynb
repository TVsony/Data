{
  "nbformat": 4,
  "nbformat_minor": 0,
  "metadata": {
    "colab": {
      "provenance": [],
      "authorship_tag": "ABX9TyPWZ4zXmHG45I8qBO0bYEFS",
      "include_colab_link": true
    },
    "kernelspec": {
      "name": "python3",
      "display_name": "Python 3"
    },
    "language_info": {
      "name": "python"
    }
  },
  "cells": [
    {
      "cell_type": "markdown",
      "metadata": {
        "id": "view-in-github",
        "colab_type": "text"
      },
      "source": [
        "<a href=\"https://colab.research.google.com/github/TVsony/Data/blob/main/School_Project_.ipynb\" target=\"_parent\"><img src=\"https://colab.research.google.com/assets/colab-badge.svg\" alt=\"Open In Colab\"/></a>"
      ]
    },
    {
      "cell_type": "code",
      "source": [
        "# Define a function to calculate fees for each year\n",
        "def calculate_fees(base_fees, increase_percentage, years):\n",
        "    fees = []                                            # Initialize an empty list to store fees for each year\n",
        "    current_fees = base_fees                             # Set the initial fees for the first year\n",
        "    for _ in range(years):                               # Iterate over each year\n",
        "        fees.append(current_fees)                        # Add the fees for the current year to the list\n",
        "        current_fees *= (1 + increase_percentage / 100)  # Calculate fees for the next year\n",
        "    return fees                                          # Return the list of fees for all years"
      ],
      "metadata": {
        "id": "ZoQWuJ3KqNK5"
      },
      "execution_count": 1,
      "outputs": []
    },
    {
      "cell_type": "code",
      "source": [
        "# Define the base fees, increase percentage, and number of years\n",
        "base_fees = 35000                                       # Base fees\n",
        "increase_percentage = 10                                # Increase percentage per year\n",
        "years = 12                                              # Number of years (standards)"
      ],
      "metadata": {
        "id": "bQlPywnQqWII"
      },
      "execution_count": 2,
      "outputs": []
    },
    {
      "cell_type": "code",
      "source": [
        "# Define the number of students in the school\n",
        "number_of_students = 500                                # Example: 500 students in the school"
      ],
      "metadata": {
        "id": "mrSxzMU6qbhU"
      },
      "execution_count": 3,
      "outputs": []
    },
    {
      "cell_type": "code",
      "source": [
        "# Call the function to calculate fees for each standard\n",
        "fees_per_standard = calculate_fees(base_fees, increase_percentage, years)"
      ],
      "metadata": {
        "id": "KEraOSd6qeft"
      },
      "execution_count": 4,
      "outputs": []
    },
    {
      "cell_type": "code",
      "source": [
        "# Print the fees for each standard\n",
        "print(\"  Standard      Fee          Fee Increase\")\n",
        "print( \" ========================================\")\n",
        "previous_fee = None                                                   # Variable to store the fee of the previous year\n",
        "total_fees_per_student = 0                                            # Initialize total fees per student variable\n",
        "for standard, fee in enumerate(fees_per_standard, start=1):           # Enumerate over fees with standard numbers starting from 1\n",
        "    total_fees_per_student += fee                                     # Add fee to total fees per student\n",
        "    if previous_fee is not None:                                      # Check if it's not the first year\n",
        "        fee_difference = fee - previous_fee                           # Calculate the difference from the previous year\n",
        "    else:\n",
        "        fee_difference = 0                                            # Set fee difference to 0 for the first year\n",
        "    print(f\"{standard:8}   Rs. {fee:8.2f}   Rs. {fee_difference:8.2f}\")\n",
        "    previous_fee = fee                                                # Update previous_fee variable with current year's fee\n"
      ],
      "metadata": {
        "colab": {
          "base_uri": "https://localhost:8080/"
        },
        "id": "bbikQUzrqmHh",
        "outputId": "6f468d17-984d-4615-8ab0-fd140dbe2a85"
      },
      "execution_count": 5,
      "outputs": [
        {
          "output_type": "stream",
          "name": "stdout",
          "text": [
            "  Standard      Fee          Fee Increase\n",
            " ========================================\n",
            "       1   Rs. 35000.00   Rs.     0.00\n",
            "       2   Rs. 38500.00   Rs.  3500.00\n",
            "       3   Rs. 42350.00   Rs.  3850.00\n",
            "       4   Rs. 46585.00   Rs.  4235.00\n",
            "       5   Rs. 51243.50   Rs.  4658.50\n",
            "       6   Rs. 56367.85   Rs.  5124.35\n",
            "       7   Rs. 62004.64   Rs.  5636.79\n",
            "       8   Rs. 68205.10   Rs.  6200.46\n",
            "       9   Rs. 75025.61   Rs.  6820.51\n",
            "      10   Rs. 82528.17   Rs.  7502.56\n",
            "      11   Rs. 90780.99   Rs.  8252.82\n",
            "      12   Rs. 99859.08   Rs.  9078.10\n"
          ]
        }
      ]
    },
    {
      "cell_type": "code",
      "source": [
        "# Calculate the total fees for all students\n",
        "total_fees_all_students = total_fees_per_student * number_of_students\n",
        "# Print the total fees for all students\n",
        "print(f\"\\nTotal Fees for all students Rs = {round(total_fees_all_students,)}\")"
      ],
      "metadata": {
        "colab": {
          "base_uri": "https://localhost:8080/"
        },
        "id": "bcq1tvVZsaxt",
        "outputId": "ade7b0d1-27bf-454c-beaa-d92f91a00f52"
      },
      "execution_count": 6,
      "outputs": [
        {
          "output_type": "stream",
          "name": "stdout",
          "text": [
            "\n",
            "Total Fees for all students Rs = 374224966\n"
          ]
        }
      ]
    },
    {
      "cell_type": "code",
      "source": [],
      "metadata": {
        "id": "kU2tllhMsoEO"
      },
      "execution_count": 6,
      "outputs": []
    }
  ]
}