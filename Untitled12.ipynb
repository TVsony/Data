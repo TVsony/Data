{
  "nbformat": 4,
  "nbformat_minor": 0,
  "metadata": {
    "colab": {
      "provenance": [],
      "authorship_tag": "ABX9TyPhBKlp9cPjgiijRR6dqCL5",
      "include_colab_link": true
    },
    "kernelspec": {
      "name": "python3",
      "display_name": "Python 3"
    },
    "language_info": {
      "name": "python"
    }
  },
  "cells": [
    {
      "cell_type": "markdown",
      "metadata": {
        "id": "view-in-github",
        "colab_type": "text"
      },
      "source": [
        "<a href=\"https://colab.research.google.com/github/TVsony/Data/blob/main/Untitled12.ipynb\" target=\"_parent\"><img src=\"https://colab.research.google.com/assets/colab-badge.svg\" alt=\"Open In Colab\"/></a>"
      ]
    },
    {
      "cell_type": "markdown",
      "source": [
        "1. Write a Python program to print \"Hello Python\".\n",
        "\n",
        "---\n",
        "\n"
      ],
      "metadata": {
        "id": "6KlzeFoR1ov6"
      }
    },
    {
      "cell_type": "code",
      "source": [
        "print(\"Hello Python\")"
      ],
      "metadata": {
        "colab": {
          "base_uri": "https://localhost:8080/"
        },
        "id": "awqpWo6J12ZK",
        "outputId": "cff6876c-58e7-4698-c3be-7f8d2ab446ed"
      },
      "execution_count": 2,
      "outputs": [
        {
          "output_type": "stream",
          "name": "stdout",
          "text": [
            "Hello Python\n"
          ]
        }
      ]
    },
    {
      "cell_type": "markdown",
      "source": [
        "# Write a Python program to do arithmetical oprations addtion and division."
      ],
      "metadata": {
        "id": "IVGxcMHD2cC8"
      }
    },
    {
      "cell_type": "code",
      "source": [
        "num1 = float(input(\"Enter the first number for addition: \"))\n",
        "num2 = float(input(\"Eneter the second number for addtion: \"))\n",
        "sum_result = num1 + num2\n",
        "print(f\" sum: {num1} + {num2} = {sum_result}\")"
      ],
      "metadata": {
        "colab": {
          "base_uri": "https://localhost:8080/"
        },
        "id": "u_lHj9Gt2Bt3",
        "outputId": "f57b66fd-c6e0-451f-e498-4eda78440648"
      },
      "execution_count": 3,
      "outputs": [
        {
          "output_type": "stream",
          "name": "stdout",
          "text": [
            "Enter the first number for addition: 12\n",
            "Eneter the second number for addtion: 12\n",
            " sum: 12.0 + 12.0 = 24.0\n"
          ]
        }
      ]
    },
    {
      "cell_type": "markdown",
      "source": [
        "Division"
      ],
      "metadata": {
        "id": "-o8NaZYZ3cXS"
      }
    },
    {
      "cell_type": "code",
      "source": [
        "num3 = float(input(\"Enter the dividend for division:\"))\n",
        "num4 = float(input(\"Enter the divisor for division:\"))\n",
        "if num4 ==0:\n",
        "  print(\"Error: Division by zero is not allowed.\")\n",
        "\n",
        "else:\n",
        "  div_result = num3 / num4\n",
        "  print(f\"Division: {num3} / {num4} = {div_result}\")"
      ],
      "metadata": {
        "colab": {
          "base_uri": "https://localhost:8080/"
        },
        "id": "QrYK_JEE3TdJ",
        "outputId": "ed0c83bf-8638-408b-8d45-8e549c8a0cbe"
      },
      "execution_count": 6,
      "outputs": [
        {
          "output_type": "stream",
          "name": "stdout",
          "text": [
            "Enter the dividend for division:12\n",
            "Enter the divisor for division:2\n",
            "Division: 12.0 / 2.0 = 6.0\n"
          ]
        }
      ]
    },
    {
      "cell_type": "markdown",
      "source": [
        "3 Write a Python program to find the area of a tringle."
      ],
      "metadata": {
        "id": "wa_SNuiP5AfE"
      }
    },
    {
      "cell_type": "code",
      "source": [
        "base = float(input(\"Length of tringle:\"))\n",
        "height = float(input(\"Height of tringle:\"))\n",
        "area = 0.5*base*height\n",
        "print(f\"Area of a tringle is : {area}\")"
      ],
      "metadata": {
        "colab": {
          "base_uri": "https://localhost:8080/"
        },
        "id": "CyYC1gws4y-_",
        "outputId": "cc47886a-19f5-43d6-a7f4-1ca031ceaaff"
      },
      "execution_count": 8,
      "outputs": [
        {
          "output_type": "stream",
          "name": "stdout",
          "text": [
            "Length of tringle:10\n",
            "Height of tringle:5\n",
            "Area of a tringle is : 25.0\n"
          ]
        }
      ]
    },
    {
      "cell_type": "markdown",
      "source": [
        "4  Write Python program to swap two variables."
      ],
      "metadata": {
        "id": "W0BIcttK6VY1"
      }
    },
    {
      "cell_type": "code",
      "source": [
        "a = input(\"Enter first number\")\n",
        "b = input(\"Eneter second number\")\n",
        "print(f\"Orignal values : a = {a},  b = {b}\")\n",
        "\n",
        "temp = a\n",
        "a = b\n",
        "b = temp\n",
        "print(\"--------------------------------\")\n",
        "print(f\"After swapped values : a = {a} , b = {b}\")\n",
        "\n"
      ],
      "metadata": {
        "colab": {
          "base_uri": "https://localhost:8080/"
        },
        "id": "rQ787Yf_5887",
        "outputId": "b5b3d6e8-672d-4ee7-a0df-551f25bccbf9"
      },
      "execution_count": 11,
      "outputs": [
        {
          "output_type": "stream",
          "name": "stdout",
          "text": [
            "Enter first number12\n",
            "Eneter second number2\n",
            "Orignal values : a = 12,  b = 2\n",
            "--------------------------------\n",
            "After swapped values : a = 2 , b = 12\n"
          ]
        }
      ]
    },
    {
      "cell_type": "markdown",
      "source": [
        "5  write python program to genrate a random number."
      ],
      "metadata": {
        "id": "otFZyCHc8G1d"
      }
    },
    {
      "cell_type": "code",
      "source": [
        "import random\n",
        "print(f\"Random number : {random.randint(1,100)}\")"
      ],
      "metadata": {
        "colab": {
          "base_uri": "https://localhost:8080/"
        },
        "id": "_iGwSkZj7xVZ",
        "outputId": "af655d71-5ddd-46fd-a060-3fdb80b09fb8"
      },
      "execution_count": 12,
      "outputs": [
        {
          "output_type": "stream",
          "name": "stdout",
          "text": [
            "Random number : 73\n"
          ]
        }
      ]
    },
    {
      "cell_type": "markdown",
      "source": [
        "6  Write a Python program to convert kilometers to miles."
      ],
      "metadata": {
        "id": "K-5lY_NO8mT4"
      }
    },
    {
      "cell_type": "code",
      "source": [
        "kilometers = float(input(\"Enter distance in kilometers:\"))\n",
        "\n",
        "# conversion factor : 1 kilometer = 0.621 miles\n",
        "\n",
        "conversion_factor = 0.6213\n",
        "\n",
        "miles = kilometers * conversion_factor\n",
        "\n",
        "print(f\"{kilometers} kilometers is equal to {miles} miles\")\n"
      ],
      "metadata": {
        "colab": {
          "base_uri": "https://localhost:8080/"
        },
        "id": "4xjFFnZK8iql",
        "outputId": "b5b34031-7bf9-4fdb-bbec-85109f6a1990"
      },
      "execution_count": 14,
      "outputs": [
        {
          "output_type": "stream",
          "name": "stdout",
          "text": [
            "Enter distance in kilometers:12\n",
            "12.0 kilometers is equal to 7.4556 miles\n"
          ]
        }
      ]
    },
    {
      "cell_type": "markdown",
      "source": [
        "7  Write a Python program to convert Celsius to Fahrenheit."
      ],
      "metadata": {
        "id": "_A4dKghV96O9"
      }
    },
    {
      "cell_type": "code",
      "source": [
        "Celsius = float(input(\"Eneter temperature in Celsius: \"))\n",
        "\n",
        "# conversion_factor = (Celsius * 9/5) + 32\n",
        "\n",
        "fahrenheit = (Celsius * 9/5) + 32\n",
        "\n",
        "print(f\"{Celsius} degrees Celsius is equal to {fahrenheit} degrees Fahrenheit\")"
      ],
      "metadata": {
        "colab": {
          "base_uri": "https://localhost:8080/"
        },
        "id": "eXsGdw_g91c0",
        "outputId": "d4e0f61c-ac26-4518-e96d-cafeaae347fa"
      },
      "execution_count": 15,
      "outputs": [
        {
          "output_type": "stream",
          "name": "stdout",
          "text": [
            "Eneter temperature in Celsius: 100\n",
            "100.0 degrees Celsius is equal to 212.0 degrees Fahrenheit\n"
          ]
        }
      ]
    },
    {
      "cell_type": "markdown",
      "source": [
        "8    Write a Python program to display calendar."
      ],
      "metadata": {
        "id": "W4_v8U4JCJVl"
      }
    },
    {
      "cell_type": "code",
      "source": [
        "import calendar\n",
        "\n",
        "year = int(input(\"Enter year: \"))\n",
        "month = int(input(\"Eneter Month \"))\n",
        "\n",
        "cal = calendar.month(year,month)\n",
        "print(cal)"
      ],
      "metadata": {
        "colab": {
          "base_uri": "https://localhost:8080/"
        },
        "id": "4W6qBL99B6ho",
        "outputId": "2883d3be-cb52-41c5-e569-a984e4361ca6"
      },
      "execution_count": 15,
      "outputs": [
        {
          "output_type": "stream",
          "name": "stdout",
          "text": [
            "Enter year: 2024\n",
            "Eneter Month 02\n",
            "   February 2024\n",
            "Mo Tu We Th Fr Sa Su\n",
            "          1  2  3  4\n",
            " 5  6  7  8  9 10 11\n",
            "12 13 14 15 16 17 18\n",
            "19 20 21 22 23 24 25\n",
            "26 27 28 29\n",
            "\n"
          ]
        }
      ]
    },
    {
      "cell_type": "markdown",
      "source": [
        "8  Write the Python Program to solve quadratic equation ?"
      ],
      "metadata": {
        "id": "CM2ungURDS4Y"
      }
    },
    {
      "cell_type": "code",
      "source": [
        "import cmath\n",
        "\n",
        "def quadratic_solver(a, b, c):\n",
        "    # Calculate the discriminant\n",
        "    d = (b**2) - (4*a*c)\n",
        "\n",
        "    # Find two solutions\n",
        "    solution1 = (-b-cmath.sqrt(d)) / (2*a)\n",
        "    solution2 = (-b+cmath.sqrt(d)) / (2*a)\n",
        "\n",
        "    return solution1, solution2\n",
        "\n",
        "# Example usage\n",
        "a = float(input(\"Enter the coefficient of x^2: \"))\n",
        "b = float(input(\"Enter the coefficient of x: \"))\n",
        "c = float(input(\"Enter the constant term: \"))\n",
        "\n",
        "solution1, solution2 = quadratic_solver(a, b, c)\n",
        "\n",
        "print(\"The solutions are {0} and {1}\".format(solution1, solution2))\n"
      ],
      "metadata": {
        "colab": {
          "base_uri": "https://localhost:8080/"
        },
        "id": "u9T-p_KhC5y4",
        "outputId": "b17d1e7e-b2a2-43a6-e5bc-d8f7e679bf5a"
      },
      "execution_count": 22,
      "outputs": [
        {
          "output_type": "stream",
          "name": "stdout",
          "text": [
            "Enter the coefficient of x^2: 21\n",
            "Enter the coefficient of x: 2\n",
            "Enter the constant term: 1\n",
            "The solutions are (-0.047619047619047616-0.21295885499998j) and (-0.047619047619047616+0.21295885499998j)\n"
          ]
        }
      ]
    },
    {
      "cell_type": "markdown",
      "source": [
        "10 Write a python program to swap two variables without temp variable.\n",
        "\n"
      ],
      "metadata": {
        "id": "XOwBvCk6Fk4V"
      }
    },
    {
      "cell_type": "code",
      "source": [
        "a = 5\n",
        "b = 10\n",
        "a,b = b,a\n",
        "print(\"After Swaping :\")\n",
        "print(\"a = \", a)\n",
        "print(\"a = \",b)\n"
      ],
      "metadata": {
        "colab": {
          "base_uri": "https://localhost:8080/"
        },
        "id": "XgSzE193FBQx",
        "outputId": "51cff13f-895d-467d-c825-ff73afbbd4d6"
      },
      "execution_count": 24,
      "outputs": [
        {
          "output_type": "stream",
          "name": "stdout",
          "text": [
            "After Swaping :\n",
            "a =  10\n",
            "a =  5\n"
          ]
        }
      ]
    },
    {
      "cell_type": "markdown",
      "source": [
        "11 Write a Python Program to Check if a Number is Positive , Negative or Zero"
      ],
      "metadata": {
        "id": "sVvIxxd_GuiI"
      }
    },
    {
      "cell_type": "code",
      "source": [
        "num = float(input(\"Eneter a number : \"))\n",
        "if num >0:\n",
        "  print(\"Positive number\")\n",
        "\n",
        "elif num == 0:\n",
        "  print(\"Zero\")\n",
        "\n",
        "else:\n",
        "  print(\"Negative number\")"
      ],
      "metadata": {
        "colab": {
          "base_uri": "https://localhost:8080/"
        },
        "id": "pbdELpigGjBl",
        "outputId": "8a7586c6-6726-4e21-ab9f-91e0624e6fb5"
      },
      "execution_count": 27,
      "outputs": [
        {
          "output_type": "stream",
          "name": "stdout",
          "text": [
            "Eneter a number : 3\n",
            "Positive number\n"
          ]
        }
      ]
    },
    {
      "cell_type": "markdown",
      "source": [
        "12  Write a Python Program to Check If a Number is Odd or Even"
      ],
      "metadata": {
        "id": "HTqZx7UVH4O7"
      }
    },
    {
      "cell_type": "code",
      "source": [
        "num = int(input(\"Eneter a number :\"))\n",
        "if num % 2 == 0:\n",
        "  print(\"This is a even number\")\n",
        "\n",
        "else:\n",
        "  print(\"This is a odd number\")"
      ],
      "metadata": {
        "colab": {
          "base_uri": "https://localhost:8080/"
        },
        "id": "EvksbaKrH02R",
        "outputId": "948e3875-a2ba-4015-fb36-a9e82dea65fe"
      },
      "execution_count": 30,
      "outputs": [
        {
          "output_type": "stream",
          "name": "stdout",
          "text": [
            "Eneter a number :3\n",
            "This is a odd number\n"
          ]
        }
      ]
    },
    {
      "cell_type": "markdown",
      "source": [
        "13 Write a Python program to Check leap Year."
      ],
      "metadata": {
        "id": "mmbL525aI1-s"
      }
    },
    {
      "cell_type": "code",
      "source": [
        "year = int(input(\"Enter a year:\"))\n",
        "\n",
        "if (year % 400 ==0) and (year % 100 ==0):\n",
        "  print(\"{0} is leap year\" . format(year))\n",
        "\n",
        "elif (year % 4==0) and (year % 100 != 0):\n",
        "  print(\"{0} is a leap year\".format(year))\n",
        "\n",
        "else:\n",
        "    print(\"{0} is not a leap year\".format(year))\n"
      ],
      "metadata": {
        "colab": {
          "base_uri": "https://localhost:8080/"
        },
        "id": "fUsUDtuwIs9t",
        "outputId": "ac9e255e-14e4-4532-efcb-5512a3099c47"
      },
      "execution_count": 32,
      "outputs": [
        {
          "output_type": "stream",
          "name": "stdout",
          "text": [
            "Enter a year:2023\n",
            "2023 is not a leap year\n"
          ]
        }
      ]
    },
    {
      "cell_type": "markdown",
      "source": [
        "14  Write a Python Program to check prime Number."
      ],
      "metadata": {
        "id": "zcFOX0E8K4Or"
      }
    },
    {
      "cell_type": "code",
      "source": [
        "num = int(input(\"Enter Number: \"))\n",
        "\n",
        "flag = False\n",
        "\n",
        "if num == 1:\n",
        "    print(f\"{num} is not a prime number\")\n",
        "elif num > 1:\n",
        "    for i in range(2, num):\n",
        "        if (num % i) == 0:\n",
        "            flag = True\n",
        "            break\n",
        "\n",
        "if flag:\n",
        "    print(f\"{num} is not a prime number\")\n",
        "else:\n",
        "    print(f\"{num} is a prime number\")\n",
        "\n"
      ],
      "metadata": {
        "colab": {
          "base_uri": "https://localhost:8080/"
        },
        "id": "idf_Zr64K0gg",
        "outputId": "71bbbae2-345d-4773-8675-f7bbfa6921fd"
      },
      "execution_count": 40,
      "outputs": [
        {
          "output_type": "stream",
          "name": "stdout",
          "text": [
            "Enter Number: 13\n",
            "13 is a prime number\n"
          ]
        }
      ]
    },
    {
      "cell_type": "markdown",
      "source": [
        "15 Write a python to print all Prime Number in an interval of 1 - 10\n",
        ""
      ],
      "metadata": {
        "id": "MVkpwr8P91sV"
      }
    },
    {
      "cell_type": "code",
      "source": [
        "lower = 1\n",
        "\n",
        "upper = 10\n",
        "\n",
        "print (\"Prime numbers between \", lower, \"and\" , upper, \"are:\")\n",
        "\n",
        "for num in range (lower, upper + 1):\n",
        "  if num>1:\n",
        "    for i in range(2, num):\n",
        "      if (num % i) ==0:\n",
        "        break\n",
        "\n",
        "    else:\n",
        "      print(num)"
      ],
      "metadata": {
        "colab": {
          "base_uri": "https://localhost:8080/"
        },
        "id": "sctANMcZsyDz",
        "outputId": "ec91a13c-f01a-4771-9d0c-1ad65f6b2b04"
      },
      "execution_count": 41,
      "outputs": [
        {
          "output_type": "stream",
          "name": "stdout",
          "text": [
            "Prime numbers between  1 and 10 are:\n",
            "2\n",
            "3\n",
            "5\n",
            "7\n"
          ]
        }
      ]
    },
    {
      "cell_type": "markdown",
      "source": [
        "16 Write python program to find the factorial of Number."
      ],
      "metadata": {
        "id": "0W8LcNT1_3SY"
      }
    },
    {
      "cell_type": "code",
      "source": [
        "num = int(input(\"Enter a number : \"))\n",
        "factorial = 1\n",
        "if num <0:\n",
        "  print(\"factorial does not exist for negative numbers\")\n",
        "\n",
        "elif num ==0:\n",
        "  print(\"factoial of 0 is 1\")\n",
        "for i in range(1,num+1):\n",
        "    factorial = factorial*i\n",
        "\n",
        "print(f\"The factorial of {num} is {factorial}\")\n"
      ],
      "metadata": {
        "colab": {
          "base_uri": "https://localhost:8080/"
        },
        "id": "BnE_sdew_zoH",
        "outputId": "9031296b-447b-471b-ccdd-dab846c1f49f"
      },
      "execution_count": 47,
      "outputs": [
        {
          "output_type": "stream",
          "name": "stdout",
          "text": [
            "Enter a number : 5\n",
            "The factorial of 5 is 120\n"
          ]
        }
      ]
    },
    {
      "cell_type": "markdown",
      "source": [
        "17 Write a Python Program to display the multipliation Table\n"
      ],
      "metadata": {
        "id": "nFD-s-wJCaNS"
      }
    },
    {
      "cell_type": "code",
      "source": [
        "num = int(input(\"Enter a number: \"))\n",
        "\n",
        "for i in range(1, 11):\n",
        "    print(f\"{num} X {i} = {num*i}\")"
      ],
      "metadata": {
        "colab": {
          "base_uri": "https://localhost:8080/"
        },
        "id": "G34i54LlAXtZ",
        "outputId": "e04f9631-e01c-419f-acfc-d73d0c7900ba"
      },
      "execution_count": 52,
      "outputs": [
        {
          "output_type": "stream",
          "name": "stdout",
          "text": [
            "Enter a number: 6\n",
            "6 X 1 = 6\n",
            "6 X 2 = 12\n",
            "6 X 3 = 18\n",
            "6 X 4 = 24\n",
            "6 X 5 = 30\n",
            "6 X 6 = 36\n",
            "6 X 7 = 42\n",
            "6 X 8 = 48\n",
            "6 X 9 = 54\n",
            "6 X 10 = 60\n"
          ]
        }
      ]
    },
    {
      "cell_type": "markdown",
      "source": [
        "18 Write a Python Program to print the fibonacci sequence ."
      ],
      "metadata": {
        "id": "h_cGj8qrEUvW"
      }
    },
    {
      "cell_type": "code",
      "source": [
        "def fib(n):\n",
        "    results = []\n",
        "    a, b = 0, 1\n",
        "    while a < n:\n",
        "        results.append(a)\n",
        "        a, b = b, a + b\n",
        "    return results\n",
        "\n",
        "print(fib(100))\n"
      ],
      "metadata": {
        "colab": {
          "base_uri": "https://localhost:8080/"
        },
        "id": "BhXcfDoQETIm",
        "outputId": "d7ccd1a3-372c-4f8c-a678-1ef762328743"
      },
      "execution_count": 56,
      "outputs": [
        {
          "output_type": "stream",
          "name": "stdout",
          "text": [
            "[0, 1, 1, 2, 3, 5, 8, 13, 21, 34, 55, 89]\n"
          ]
        }
      ]
    },
    {
      "cell_type": "code",
      "source": [
        "n = int(input(\"Enter a number :\"))\n",
        "def fib(n):\n",
        "    results = []\n",
        "    a, b = 0, 1\n",
        "    while a < n:\n",
        "        results.append(a)\n",
        "        a, b = b, a + b\n",
        "    return results\n",
        "\n",
        "print(fib(n))\n"
      ],
      "metadata": {
        "colab": {
          "base_uri": "https://localhost:8080/"
        },
        "id": "gsFmZvrlETdq",
        "outputId": "737b4209-f82f-42ee-9879-3609905e43ab"
      },
      "execution_count": 57,
      "outputs": [
        {
          "output_type": "stream",
          "name": "stdout",
          "text": [
            "Enter a number :100\n",
            "[0, 1, 1, 2, 3, 5, 8, 13, 21, 34, 55, 89]\n"
          ]
        }
      ]
    },
    {
      "cell_type": "markdown",
      "source": [
        " 19  Write a Python Program to Check Armstrong Number?\n",
        "\n",
        "It is a number that is equal to the sum of its own digits, each raised to a power equal to the\n",
        "number of digits in the number.\n",
        "For example, let's consider the number 153:\n",
        "It has three digits (1, 5, and 3).\n",
        "If we calculate + , we get , which is equal to 153.\n",
        ""
      ],
      "metadata": {
        "id": "roRjhIVPJWF0"
      }
    },
    {
      "cell_type": "code",
      "source": [
        "def is_armstrong(number):\n",
        "    # Count the number of digits\n",
        "    num_digits = len(str(number))\n",
        "\n",
        "    # Compute the sum of each digit raised to the power of the number of digits\n",
        "    sum_of_digits = sum(int(digit) ** num_digits for digit in str(number))\n",
        "\n",
        "    # Check if the sum equals the original number\n",
        "    return sum_of_digits == number\n",
        "\n",
        "# Input number from the user\n",
        "num = int(input(\"Enter a number: \"))\n",
        "\n",
        "# Check if the number is an Armstrong number\n",
        "if is_armstrong(num):\n",
        "    print(f\"{num} is an Armstrong number.\")\n",
        "else:\n",
        "    print(f\"{num} is not an Armstrong number.\")\n"
      ],
      "metadata": {
        "colab": {
          "base_uri": "https://localhost:8080/"
        },
        "id": "ObNUZXtAGmU1",
        "outputId": "c5e33866-3556-4c32-cd7a-35e147389063"
      },
      "execution_count": 59,
      "outputs": [
        {
          "output_type": "stream",
          "name": "stdout",
          "text": [
            "Enter a number: 153\n",
            "153 is an Armstrong number.\n"
          ]
        }
      ]
    },
    {
      "cell_type": "markdown",
      "source": [
        "20 Write a Python Program to Find Armstrong Number in an Interval."
      ],
      "metadata": {
        "id": "E3U37IS_KqNs"
      }
    },
    {
      "cell_type": "code",
      "source": [
        "lower = int(input(\"Enter the lower limit of the interval: \"))\n",
        "upper = int(input(\"Enter the upper limit of the interval: \"))\n",
        "\n",
        "print(\"Armstrong numbers between\", lower, \"and\", upper, \"are:\")\n",
        "\n",
        "for num in range(lower, upper + 1):\n",
        "    order = len(str(num))\n",
        "    temp_num = num\n",
        "    sum = 0\n",
        "\n",
        "    while temp_num > 0:\n",
        "        digit = temp_num % 10\n",
        "        sum += digit ** order\n",
        "        temp_num //= 10\n",
        "\n",
        "    if num == sum:\n",
        "        print(num)\n"
      ],
      "metadata": {
        "colab": {
          "base_uri": "https://localhost:8080/"
        },
        "id": "tThXmxn4KN4Z",
        "outputId": "14e5448f-3166-4905-fce3-58b62b2057a8"
      },
      "execution_count": 64,
      "outputs": [
        {
          "output_type": "stream",
          "name": "stdout",
          "text": [
            "Enter the lower limit of the interval: 10\n",
            "Enter the upper limit of the interval: 1000\n",
            "Armstrong numbers between 10 and 1000 are:\n",
            "153\n",
            "370\n",
            "371\n",
            "407\n"
          ]
        }
      ]
    },
    {
      "cell_type": "markdown",
      "source": [
        "21  Write a Python Program to Find the Sum of Natural Numbers.\n",
        "\n",
        "Natural numbers are a set of positive integers that are used to count and order objects.\n",
        "They are the numbers that typically start from 1 and continue indefinitely, including all the\n",
        "whole numbers greater than 0. In mathematical notation, the set of natural numbers is often\n",
        "denoted as \"N\" and can be expressed as:\n",
        "𝑁 = 1, 2, 3, 4, 5, 6, 7, 8, . . .\n",
        "\n"
      ],
      "metadata": {
        "id": "egX1IPUGNAJE"
      }
    },
    {
      "cell_type": "code",
      "source": [
        "limit = int(input(\"Enter the limit:\"))\n",
        "\n",
        "sum = 0\n",
        "\n",
        "for i in range (1 , limit+1):\n",
        "  sum +=i\n",
        "\n",
        "print(\"The sum of  natural numbers up to \", limit, \"is:\", sum)"
      ],
      "metadata": {
        "colab": {
          "base_uri": "https://localhost:8080/"
        },
        "id": "EVUSwoWgM3BT",
        "outputId": "d9f70916-3a11-42ba-8b7e-73df7d621dfd"
      },
      "execution_count": 66,
      "outputs": [
        {
          "output_type": "stream",
          "name": "stdout",
          "text": [
            "Enter the limit:10\n",
            "The sum of  natural numbers up to  10 is: 55\n"
          ]
        }
      ]
    },
    {
      "cell_type": "markdown",
      "source": [
        "22    Write a Python Program to Find LCM ?\n",
        "\n",
        "LCM, or Least Common Multiple, is the smallest multiple that is exactly divisible by two or\n",
        "more numbers.\n",
        "\n",
        "Formula: LCM (a,b) = |a.b| / GCD (a,b)\n",
        "                    \n",
        "For two numbers a and b, the LCM can be found using the formula:\n",
        "For more than two numbers, you can find the LCM step by step, taking the LCM of pairs of numbers at a time until you reach the last pair.\n",
        "Note: GCD stands for Greatest Common Divisor.\n",
        "\n"
      ],
      "metadata": {
        "id": "hpqU69MBOYlv"
      }
    },
    {
      "cell_type": "code",
      "source": [
        "from sre_constants import GROUPREF_IGNORE\n",
        "def Clcm(x , y):\n",
        "  if x > y:\n",
        "    greater = x\n",
        "  else:\n",
        "    greater = y\n",
        "\n",
        "  while (True):\n",
        "    if((greater % x == 0) and (greater % y ==0)):\n",
        "\n",
        "      lcm = greater\n",
        "      break\n",
        "    greater += 1\n",
        "\n",
        "  return lcm\n",
        "\n",
        "num1 = int(input(\"Enter the number: \"))\n",
        "num2 = int(input(\"Enter the 2nd number: \"))\n",
        "\n",
        "print(\"The L.C.M. is :\" , Clcm(num1,num2))\n"
      ],
      "metadata": {
        "colab": {
          "base_uri": "https://localhost:8080/"
        },
        "id": "EKeO4TCTOKPU",
        "outputId": "b51cc27b-155c-4b21-c3fc-16cce68728c6"
      },
      "execution_count": 69,
      "outputs": [
        {
          "output_type": "stream",
          "name": "stdout",
          "text": [
            "Enter the number: 5\n",
            "Enter the 2nd number: 6\n",
            "The L.C.M. is : 30\n"
          ]
        }
      ]
    },
    {
      "cell_type": "markdown",
      "source": [
        "23  Write a Python Program to Find HCF.\n",
        "\n",
        "Highest Common Factor(HCF):\n",
        "HCF, or Highest Common Factor, is the largest positive integer that divides two or more numbers without leaving a remainder.\n",
        "Formula: HFC (a,b) = GCD (a,b)\n",
        "\n",
        "\n",
        "\n"
      ],
      "metadata": {
        "id": "l0Pupcc2RJQc"
      }
    },
    {
      "cell_type": "code",
      "source": [
        "def find_hcf(x, y):\n",
        "    if x > y:\n",
        "        smaller = y\n",
        "    else:\n",
        "        smaller = x\n",
        "    for i in range(1, smaller + 1):\n",
        "        if (x % i == 0) and (y % i == 0):\n",
        "            hcf = i\n",
        "    return hcf\n",
        "\n",
        "num1 = int(input(\"Enter the first number: \"))\n",
        "num2 = int(input(\"Enter the second number: \"))\n",
        "\n",
        "print(\"The H.C.F is:\", find_hcf(num1, num2))\n",
        "\n"
      ],
      "metadata": {
        "colab": {
          "base_uri": "https://localhost:8080/"
        },
        "id": "livFsUruRH9m",
        "outputId": "de6efeef-2d3e-4b0b-d573-d8c0ba40a6b6"
      },
      "execution_count": 2,
      "outputs": [
        {
          "output_type": "stream",
          "name": "stdout",
          "text": [
            "Enter the first number: 30\n",
            "Enter the second number: 20\n",
            "The H.C.F is: 10\n"
          ]
        }
      ]
    },
    {
      "cell_type": "markdown",
      "source": [
        "24   Write a Python Program to Convert Decimal to Binary, Octal and\n",
        "    Hexadecimal.\n"
      ],
      "metadata": {
        "id": "NkWYVn0STwzw"
      }
    },
    {
      "cell_type": "code",
      "source": [
        "dec_num = int(input('Enter a decimal number: '))\n",
        "print(\"The decimal value of\", dec_num, \"is:\")\n",
        "print(bin(dec_num), \"in binary.\")\n",
        "print(oct(dec_num), \"in octal.\")\n",
        "print(hex(dec_num), \"in hexadecimal.\")"
      ],
      "metadata": {
        "colab": {
          "base_uri": "https://localhost:8080/"
        },
        "id": "pcX2hFMkRIGG",
        "outputId": "fafbf866-b6a8-4f41-af1b-98b42743c2d2"
      },
      "execution_count": 3,
      "outputs": [
        {
          "output_type": "stream",
          "name": "stdout",
          "text": [
            "Enter a decimal number: 101\n",
            "The decimal value of 101 is:\n",
            "0b1100101 in binary.\n",
            "0o145 in octal.\n",
            "0x65 in hexadecimal.\n"
          ]
        }
      ]
    },
    {
      "cell_type": "markdown",
      "source": [
        "25 Write a Python Program to Make a Simple Calculator with 4 basic mathematical\n",
        "operations."
      ],
      "metadata": {
        "id": "d6ixWDc_Usn1"
      }
    },
    {
      "cell_type": "code",
      "source": [
        "def add(x, y):\n",
        "    return x + y\n",
        "\n",
        "def subtract(x, y):\n",
        "    return x - y\n",
        "\n",
        "def multiply(x, y):\n",
        "    return x * y\n",
        "\n",
        "def divide(x, y):\n",
        "    if y == 0:\n",
        "        return \"Cannot divide by zero!\"\n",
        "    else:\n",
        "        return x / y\n",
        "\n",
        "print(\"Select operation:\")\n",
        "print(\"1. Addition\")\n",
        "print(\"2. Subtraction\")\n",
        "print(\"3. Multiplication\")\n",
        "print(\"4. Division\")\n",
        "\n",
        "while True:\n",
        "    choice = input(\"Enter choice (1/2/3/4): \")\n",
        "\n",
        "    if choice in ('1', '2', '3', '4'):\n",
        "        num1 = float(input(\"Enter first number: \"))\n",
        "        num2 = float(input(\"Enter second number: \"))\n",
        "\n",
        "        if choice == '1':\n",
        "            print(\"Result:\", add(num1, num2))\n",
        "        elif choice == '2':\n",
        "            print(\"Result:\", subtract(num1, num2))\n",
        "        elif choice == '3':\n",
        "            print(\"Result:\", multiply(num1, num2))\n",
        "        elif choice == '4':\n",
        "            print(\"Result:\", divide(num1, num2))\n",
        "    else:\n",
        "        print(\"Invalid Input\")\n",
        "\n",
        "    next_calculation = input(\"Do you want to perform another calculation? (yes/no): \")\n",
        "    if next_calculation.lower() != 'yes':\n",
        "        break"
      ],
      "metadata": {
        "colab": {
          "base_uri": "https://localhost:8080/"
        },
        "id": "vBKmw5MwUrFF",
        "outputId": "85a81331-fac5-4479-8dfe-3dda0e5c5a12"
      },
      "execution_count": 4,
      "outputs": [
        {
          "name": "stdout",
          "output_type": "stream",
          "text": [
            "Select operation:\n",
            "1. Addition\n",
            "2. Subtraction\n",
            "3. Multiplication\n",
            "4. Division\n",
            "Enter choice (1/2/3/4): 1\n",
            "Enter first number: 5\n",
            "Enter second number: 6\n",
            "Result: 11.0\n",
            "Do you want to perform another calculation? (yes/no): yes\n",
            "Enter choice (1/2/3/4): 4\n",
            "Enter first number: 6\n",
            "Enter second number: 2\n",
            "Result: 3.0\n",
            "Do you want to perform another calculation? (yes/no): no\n"
          ]
        }
      ]
    },
    {
      "cell_type": "markdown",
      "source": [
        "26  Write a Python Program to Display Fibonacci Sequence Using Recursion.\n"
      ],
      "metadata": {
        "id": "no2V9ojgWvR-"
      }
    },
    {
      "cell_type": "code",
      "source": [
        "def fibonacci(n):\n",
        "    if n <= 1:\n",
        "        return n\n",
        "    else:\n",
        "        return fibonacci(n-1) + fibonacci(n-2)\n",
        "\n",
        "def print_fibonacci_sequence(count):\n",
        "    if count <= 0:\n",
        "        print(\"Please enter a positive integer.\")\n",
        "    else:\n",
        "        print(\"Fibonacci sequence:\")\n",
        "        for i in range(count):\n",
        "            print(fibonacci(i), end=\" \")\n",
        "\n",
        "count = int(input(\"Enter the number of terms in Fibonacci sequence: \"))\n",
        "print_fibonacci_sequence(count)\n"
      ],
      "metadata": {
        "colab": {
          "base_uri": "https://localhost:8080/"
        },
        "id": "tx2ryKAnUrIq",
        "outputId": "56feba31-bf2b-496e-91bd-1eac906a3cea"
      },
      "execution_count": 5,
      "outputs": [
        {
          "output_type": "stream",
          "name": "stdout",
          "text": [
            "Enter the number of terms in Fibonacci sequence: 10\n",
            "Fibonacci sequence:\n",
            "0 1 1 2 3 5 8 13 21 34 "
          ]
        }
      ]
    },
    {
      "cell_type": "markdown",
      "source": [
        "27 Write a Python Program to Find Factorial of Number Using Recursion.\n"
      ],
      "metadata": {
        "id": "lwhpmBz8XYYg"
      }
    },
    {
      "cell_type": "code",
      "source": [
        "def factorial(n):\n",
        "    if n == 0:\n",
        "        return 1\n",
        "    else:\n",
        "        return n * factorial(n - 1)\n",
        "\n",
        "# Input from user\n",
        "num = int(input(\"Enter a number: \"))\n",
        "\n",
        "# Check if the number is negative\n",
        "if num < 0:\n",
        "    print(\"Factorial is not defined for negative numbers.\")\n",
        "elif num == 0:\n",
        "    print(\"Factorial of 0 is 1\")\n",
        "else:\n",
        "    print(\"Factorial of\", num, \"is\", factorial(num))\n"
      ],
      "metadata": {
        "colab": {
          "base_uri": "https://localhost:8080/"
        },
        "id": "JTtLCcGsUrLg",
        "outputId": "768a561c-a738-4b31-9094-1029fed85223"
      },
      "execution_count": 10,
      "outputs": [
        {
          "output_type": "stream",
          "name": "stdout",
          "text": [
            "Enter a number: 5\n",
            "Factorial of 5 is 120\n"
          ]
        }
      ]
    },
    {
      "cell_type": "markdown",
      "source": [
        "28  Write a Python Program to calculate your Body Mass Index."
      ],
      "metadata": {
        "id": "LOZAia9BYghS"
      }
    },
    {
      "cell_type": "code",
      "source": [
        "def calculate_bmi(weight, height):\n",
        "    return weight / (height ** 2)\n",
        "\n",
        "weight = float(input(\"Enter your weight in kilograms: \"))\n",
        "height = float(input(\"Enter your height in meters: \"))\n",
        "\n",
        "bmi = calculate_bmi(weight, height)\n",
        "\n",
        "print(\"Your Body Mass Index (BMI) is:\", bmi)"
      ],
      "metadata": {
        "colab": {
          "base_uri": "https://localhost:8080/"
        },
        "id": "BF-eDfRyUrOb",
        "outputId": "33240d71-5fe8-448c-fe1f-542bfd795d45"
      },
      "execution_count": 13,
      "outputs": [
        {
          "output_type": "stream",
          "name": "stdout",
          "text": [
            "Enter your weight in kilograms: 72\n",
            "Enter your height in meters: 167\n",
            "Your Body Mass Index (BMI) is: 0.0025816630212628635\n"
          ]
        }
      ]
    }
  ]
}