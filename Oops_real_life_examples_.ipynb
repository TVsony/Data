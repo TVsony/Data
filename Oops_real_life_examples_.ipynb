{
  "nbformat": 4,
  "nbformat_minor": 0,
  "metadata": {
    "colab": {
      "provenance": [],
      "authorship_tag": "ABX9TyNntkOGYQRns7ADjPvnTbdZ",
      "include_colab_link": true
    },
    "kernelspec": {
      "name": "python3",
      "display_name": "Python 3"
    },
    "language_info": {
      "name": "python"
    }
  },
  "cells": [
    {
      "cell_type": "markdown",
      "metadata": {
        "id": "view-in-github",
        "colab_type": "text"
      },
      "source": [
        "<a href=\"https://colab.research.google.com/github/TVsony/Data/blob/main/Oops_real_life_examples_.ipynb\" target=\"_parent\"><img src=\"https://colab.research.google.com/assets/colab-badge.svg\" alt=\"Open In Colab\"/></a>"
      ]
    },
    {
      "cell_type": "markdown",
      "source": [
        "**Oops**\n",
        "\n",
        "Person Class"
      ],
      "metadata": {
        "id": "jyibpxJHYW_n"
      }
    },
    {
      "cell_type": "code",
      "execution_count": null,
      "metadata": {
        "colab": {
          "base_uri": "https://localhost:8080/"
        },
        "id": "Fez9Qm2gA2B-",
        "outputId": "4aa09411-aad3-479e-ee71-18093ae11cc7"
      },
      "outputs": [
        {
          "output_type": "stream",
          "name": "stdout",
          "text": [
            "The name is Bhimrao and last name is Pawar\n",
            "The name is Krish and last name is Naik\n",
            "The name is Samarth and last name is Pawar\n",
            "['Bhimrao', 'Krish', 'Samarth']\n"
          ]
        }
      ],
      "source": [
        "class Person:\n",
        "    name_of_people = []\n",
        "\n",
        "    def __init__(self, first_name, last_name):\n",
        "        self.name = first_name\n",
        "        self.last = last_name\n",
        "        Person.name_of_people.append(self.name)\n",
        "\n",
        "    def __str__(self):\n",
        "        return \"The name is {} and last name is {}\".format(self.name, self.last)\n",
        "\n",
        "# Create instances of the Person class\n",
        "person1 = Person(\"Bhimrao\", \"Pawar\")\n",
        "print(person1)\n",
        "\n",
        "person2 = Person(\"Krish\", \"Naik\")\n",
        "print(person2)\n",
        "\n",
        "person3 = Person(\"Samarth\", \"Pawar\")\n",
        "print(person3)\n",
        "\n",
        "# Access the list of names using the class variable\n",
        "print(Person.name_of_people)\n"
      ]
    },
    {
      "cell_type": "code",
      "source": [
        "from google.colab import drive\n",
        "drive.mount('/content/drive')"
      ],
      "metadata": {
        "id": "hZvir3ZDqqRE"
      },
      "execution_count": null,
      "outputs": []
    },
    {
      "cell_type": "markdown",
      "source": [
        "**Mobile**"
      ],
      "metadata": {
        "id": "VRsr5YEvbDYJ"
      }
    },
    {
      "cell_type": "code",
      "source": [
        "class mobile:\n",
        "    def __init__(self, Brand, Model, Processor, Price):\n",
        "        self.Brand = Brand\n",
        "        self.Model = Model\n",
        "        self.Processor = Processor\n",
        "        self.Price = Price\n",
        "\n",
        "    def make_calls(self):\n",
        "        print(\"The call is done with {} \".format(self.Brand))\n",
        "\n",
        "    def play_game(self):\n",
        "        print(\"The game play with {} \".format(self.Processor))\n",
        "\n",
        "    def send_msgs(self):\n",
        "        print(\"The msgs sent through {} \".format(self.Brand))\n",
        "\n",
        "    def __str__(self):\n",
        "       return \"Mobile: {} {} ({}), Price: {}\".format(self.Brand, self.Model, self.Processor, self.Price)\n",
        "\n",
        "\n",
        "Iphone = mobile(\"Pro14\", \"Iphone\", \"8th gen\", \"120000\")\n",
        "Samsung = mobile(\"MI\", \"Sansung\", \"12th gen\", \"60000\")\n",
        "One_plus = mobile(\"Pro\", \"Oneplus\", \"5th gen\", \"80000\")\n",
        "print(Iphone)\n",
        "print(Samsung)\n",
        "print(One_plus)"
      ],
      "metadata": {
        "colab": {
          "base_uri": "https://localhost:8080/"
        },
        "id": "YpvelruNUaAk",
        "outputId": "bde7d6fc-9c2b-4a82-c264-2b2e033993ea"
      },
      "execution_count": null,
      "outputs": [
        {
          "output_type": "stream",
          "name": "stdout",
          "text": [
            "Mobile: Pro14 Iphone (8th gen), Price: 120000\n",
            "Mobile: MI Sansung (12th gen), Price: 60000\n",
            "Mobile: Pro Oneplus (5th gen), Price: 80000\n"
          ]
        }
      ]
    },
    {
      "cell_type": "markdown",
      "source": [
        "**Bank Account Class**"
      ],
      "metadata": {
        "id": "8OBR-kp3a5JM"
      }
    },
    {
      "cell_type": "code",
      "source": [
        "class Account:\n",
        "    def __init__(self, bank_name, branch_address, city, owner_name, account_number, pan_number, balance=0):\n",
        "        self.bank_name = bank_name\n",
        "        self.branch = branch_address\n",
        "        self.city = city\n",
        "        self.owner_name = owner_name\n",
        "        self.account_number = account_number\n",
        "        self.pan_number = pan_number\n",
        "        self.balance = balance\n",
        "\n",
        "    def deposit(self, deposit):\n",
        "        self.balance = self.balance + deposit\n",
        "\n",
        "    def withdrawl(self, withdrawal_amount):\n",
        "        if withdrawal_amount <= self.balance:\n",
        "            self.balance = self.balance - withdrawal_amount\n",
        "        else:\n",
        "            print(\"Your Balance is less \")\n",
        "\n",
        "Account1 = Account(\"ICICI\", \"Cidco\", \"Aurangabad\", \"Bhimrao Pawar\", \"BSPP7845J\", 0)\n",
        "Account2 = Account(\"HDFC\", \"Hadco\", \"Aurangabad Gramin\", \"Samarth Pawar\", \"BSPP4446J\", 0)\n",
        "Account3 = Account(\"SBI\", \"Main\", \"Aurangabad City\", \"Krish Naik\", \"BSPP4444K\", 0)\n"
      ],
      "metadata": {
        "id": "zguLXA8qRvIJ"
      },
      "execution_count": null,
      "outputs": []
    },
    {
      "cell_type": "code",
      "source": [
        "print(Account1.owner_name)\n",
        "print(Account1.balance)\n",
        "print(\"----------------\")\n",
        "Account1.deposit(1000)\n",
        "print(Account1.balance)\n",
        "print(\"----------------\")\n",
        "print(Account1.branch)\n",
        "print(\"---------------\")\n",
        "Account1.withdrawl(600)\n",
        "print(Account1.balance)"
      ],
      "metadata": {
        "colab": {
          "base_uri": "https://localhost:8080/"
        },
        "id": "vGWWD36dS56a",
        "outputId": "defe57f5-7236-468a-8672-edfe593232c5"
      },
      "execution_count": null,
      "outputs": [
        {
          "output_type": "stream",
          "name": "stdout",
          "text": [
            "Bhimrao Pawar\n",
            "0\n",
            "----------------\n",
            "1000\n",
            "----------------\n",
            "Cidco\n",
            "---------------\n",
            "400\n"
          ]
        }
      ]
    },
    {
      "cell_type": "code",
      "source": [
        "print(Account2.owner_name)\n",
        "print(\"Initial Bal:\",Account2.balance)\n",
        "print(\"----------------\")\n",
        "Account2.deposit(10000)\n",
        "print(\"After Deposit:\",Account2.balance)\n",
        "print(\"----------------\")\n",
        "print(Account2.branch)\n",
        "print(\"---------------\")\n",
        "Account2.withdrawl(3000)\n",
        "print(\"After withdrawal:\",Account2.balance)"
      ],
      "metadata": {
        "colab": {
          "base_uri": "https://localhost:8080/"
        },
        "id": "TiUtl_o_TC4_",
        "outputId": "193a218f-9225-4cbe-a3b9-3097c6ebe835"
      },
      "execution_count": null,
      "outputs": [
        {
          "output_type": "stream",
          "name": "stdout",
          "text": [
            "Samarth Pawar\n",
            "Initial Bal: 0\n",
            "----------------\n",
            "After Deposit: 10000\n",
            "----------------\n",
            "Hadco\n",
            "---------------\n",
            "After withdrawal: 7000\n"
          ]
        }
      ]
    },
    {
      "cell_type": "code",
      "source": [
        "print(Account3.owner_name)\n",
        "print(\"Initial Bal:\",Account3.balance)\n",
        "print(\"----------------\")\n",
        "Account3.deposit(100000)\n",
        "print(\"After Deposit:\",Account3.balance)\n",
        "print(\"----------------\")\n",
        "print(Account3.branch)\n",
        "print(\"---------------\")\n",
        "Account3.withdrawl(2000)\n",
        "print(\"After withdrawal:\",Account3.balance)"
      ],
      "metadata": {
        "colab": {
          "base_uri": "https://localhost:8080/"
        },
        "id": "kdVUUOOWToAq",
        "outputId": "958c3bb3-6149-483a-ec30-57e87ce53c07"
      },
      "execution_count": null,
      "outputs": [
        {
          "output_type": "stream",
          "name": "stdout",
          "text": [
            "Krish Naik\n",
            "Initial Bal: 0\n",
            "----------------\n",
            "After Deposit: 100000\n",
            "----------------\n",
            "Main\n",
            "---------------\n",
            "After withdrawal: 98000\n"
          ]
        }
      ]
    },
    {
      "cell_type": "markdown",
      "source": [
        "**Car**"
      ],
      "metadata": {
        "id": "9WJttjMYbMJB"
      }
    },
    {
      "cell_type": "code",
      "source": [
        "class car:\n",
        "  def __init__(self,Brand,model,color):\n",
        "    self.Brand = Brand\n",
        "    self.model = model\n",
        "    self.color = color\n",
        "  def start_enging(self):\n",
        "    return \"The {} {} and {} is starting\".format(self.Brand,self.model,self.color)\n",
        "  def stop_enging(self):\n",
        "    return \"The {} {} and {} is stoping\".format(self.Brand,self.model,self.color)\n",
        "\n",
        "\n",
        "\n",
        "car1 = car(\"BMW\", \"EV\", \"White\")\n",
        "car2 = car(\"MG\", \"Hybrid\", \"Red\")\n",
        "print(car1.Brand)\n",
        "print(car1.color)\n",
        "print(car1.model)"
      ],
      "metadata": {
        "id": "s8PLCHaiYTtK",
        "colab": {
          "base_uri": "https://localhost:8080/"
        },
        "outputId": "e4cc9ea2-aba9-4332-b0de-14779396b65a"
      },
      "execution_count": null,
      "outputs": [
        {
          "output_type": "stream",
          "name": "stdout",
          "text": [
            "BMW\n",
            "White\n",
            "EV\n"
          ]
        }
      ]
    },
    {
      "cell_type": "code",
      "source": [
        "print(car2.Brand)\n",
        "print(car2.color)\n",
        "print(car2.model)"
      ],
      "metadata": {
        "colab": {
          "base_uri": "https://localhost:8080/"
        },
        "id": "Q6HVMs_D9jfP",
        "outputId": "27f595f2-deab-45be-e502-ed2b9b0c9330"
      },
      "execution_count": null,
      "outputs": [
        {
          "output_type": "stream",
          "name": "stdout",
          "text": [
            "MG\n",
            "Red\n",
            "Hybrid\n"
          ]
        }
      ]
    },
    {
      "cell_type": "markdown",
      "source": [
        "**Make To_Do_List**"
      ],
      "metadata": {
        "id": "PaPXnqtcDZ6j"
      }
    },
    {
      "cell_type": "code",
      "source": [
        " class to_do_list:\n",
        "  # Constructor\n",
        "  def __init__(self,owner):\n",
        "    self.owner = owner\n",
        "    self.tasks = []\n",
        "\n",
        "  def add_task(self,task):\n",
        "    self.tasks.append(task)\n",
        "\n",
        "\n",
        "  def complite_task(self,task):\n",
        "    if task in self.tasks:\n",
        "      self.tasks.remove(task)\n",
        "      print(f\"The Task '{task}' is complited\")\n",
        "    else:\n",
        "      print(\"The task is not found\")\n",
        "\n",
        "\n",
        "  def display_tasks(self):\n",
        "    print(f\"The To_do_list of {self.owner}:\")\n",
        "    for task in self.tasks:\n",
        "      print(task)\n",
        "\n",
        "\n",
        "\n",
        "Bhimrao = to_do_list(\"Bhimrao\")\n",
        "\n",
        "Bhimrao.tasks\n",
        "Bhimrao.add_task(\"Wakeup at 5:30 am \")\n",
        "\n",
        "Bhimrao.add_task(\"Meditation with Sadguru at 6:30am \")\n",
        "Bhimrao.add_task(\"Faresh up to 6:45 am\")\n",
        "Bhimrao.add_task(\"Morning Walk upto 8 am\")\n",
        "Bhimrao.add_task(\"Break fast upto 8:30\")\n",
        "Bhimrao.add_task(\"Reading Book 9:30\")\n",
        "\n",
        "Bhimrao.add_task(\"Practice coding with ineuron 10 to 2 am \")\n",
        "Bhimrao.add_task(\"I will took lunch at 2:30 upto\")\n",
        "Bhimrao.add_task(\"I Practice coding with Data Trained upto 6 \")\n",
        "Bhimrao.add_task(\"I will took break for refreshment upto 7:30 pm\")\n",
        "Bhimrao.add_task(\"I complite 21 day chalege by Vishal Malchandani upto 8:30\")\n",
        "\n",
        "Bhimrao.add_task(\"I will took Diner upto 9:00\")\n",
        "Bhimrao.add_task(\"Start coding Practice upto 12 am\")\n",
        "Bhimrao.add_task(\"I will go to slep 5:30am\")\n",
        "Bhimrao.add_task(\"I will took lunch\") # Here we can add tasks\n",
        "Bhimrao.add_task(\"I will took lunch\")# Here we can add tasks\n",
        "\n",
        "Bhimrao.display_tasks()"
      ],
      "metadata": {
        "colab": {
          "base_uri": "https://localhost:8080/"
        },
        "id": "YJ_jGm7oDEPs",
        "outputId": "45d5b312-d33d-416e-c03e-97e5f6278dd6"
      },
      "execution_count": null,
      "outputs": [
        {
          "output_type": "stream",
          "name": "stdout",
          "text": [
            "The To_do_list of Bhimrao:\n",
            "Wakeup at 5:30 am \n",
            "Meditation with Sadguru at 6:30am \n",
            "Faresh up to 6:45 am\n",
            "Morning Walk upto 8 am\n",
            "Break fast upto 8:30\n",
            "Reading Book 9:30\n",
            "Practice coding with ineuron 10 to 2 am \n",
            "I will took lunch at 2:30 upto\n",
            "I Practice coding with Data Trained upto 6 \n",
            "I will took break for refreshment upto 7:30 pm\n",
            "I complite 21 day chalege by Vishal Malchandani upto 8:30\n",
            "I will took Diner upto 9:00\n",
            "Start coding Practice upto 12 am\n",
            "I will go to slep 5:30am\n",
            "I will took lunch\n",
            "I will took lunch\n"
          ]
        }
      ]
    },
    {
      "cell_type": "markdown",
      "source": [
        "**Self Introduction for Job interview **"
      ],
      "metadata": {
        "id": "uDaVc3O0gOlP"
      }
    },
    {
      "cell_type": "code",
      "source": [
        "class introductions:\n",
        "    # Constructor\n",
        "    def __init__(self, owner):\n",
        "        self.owner = owner\n",
        "        self.introductions = []\n",
        "\n",
        "    def add_introduction(self, introduction):\n",
        "        self.introductions.append(introduction)\n",
        "\n",
        "    def complete_introduction(self, introduction):\n",
        "        if introduction in self.introductions:\n",
        "            self.introductions.remove(introduction)\n",
        "            print(f\"The Task '{introduction}' is completed\")\n",
        "        else:\n",
        "            print(\"The introduction is not found\")\n",
        "\n",
        "    def display_introductions(self):\n",
        "        print(f\"The introduction of {self.owner}:\")\n",
        "        for introduction in self.introductions:\n",
        "            print(introduction)\n",
        "\n",
        "Bhimrao = introductions(\"Bhimrao\")\n",
        "\n",
        "Bhimrao.add_introduction(\"Greetings to all: Good Morning, Good Afternoon, Good Evening\")\n",
        "Bhimrao.add_introduction(\"First of all, thank you for giving me this opportunity to introduce myself.\")\n",
        "Bhimrao.add_introduction(\"My name is Bhimrao Pawar.\")\n",
        "Bhimrao.add_introduction(\"I would like to share My Qualification Credentials.\")\n",
        "Bhimrao.add_introduction(\"I did my graduation in Bsc Mathematics from Dr.Babasaheb Ambedkar Marathwada University Aurangabad.\\n\"\n",
        "                         \"Currently, I am pursuing Data Science from Data trained Education.\")\n",
        "Bhimrao.add_introduction(\"I belong to a nuclear family.\")\n",
        "\n",
        "Bhimrao.add_introduction(\"I would like to share My Industrial Credentials. I have 12+ years of experience in various positions like Data Scientist,\\n\"\n",
        "                         \"Data Analyst, and Statistician in Sterlite Tech.\")\n",
        "Bhimrao.add_introduction(\"My strengths are I am honest, self-motivated, and a quick learner.\")\n",
        "Bhimrao.add_introduction(\"My short-term goal is to get a job in a reputed company, and long-term goal is to achieve a good position where I can \\n\"\n",
        "                         \"build my career and help the Organization too.\")\n",
        "Bhimrao.add_introduction(\"My hobbies are reading books and playing cricket.\")\n",
        "Bhimrao.add_introduction(\"Lastly, I am a disciplined person and believe in learning from my past mistakes and experiences.\")\n",
        "Bhimrao.add_introduction(\"That's all about me!\")\n",
        "Bhimrao.add_introduction(\"Thank you very much!\")\n",
        "\n",
        "Bhimrao.display_introductions()\n"
      ],
      "metadata": {
        "colab": {
          "base_uri": "https://localhost:8080/"
        },
        "id": "79mWW_dkDESu",
        "outputId": "ac7f0ece-29c8-4118-a048-2c181de83d14"
      },
      "execution_count": null,
      "outputs": [
        {
          "output_type": "stream",
          "name": "stdout",
          "text": [
            "The introduction of Bhimrao:\n",
            "Greetings to all: Good Morning, Good Afternoon, Good Evening\n",
            "First of all, thank you for giving me this opportunity to introduce myself.\n",
            "My name is Bhimrao Pawar.\n",
            "I would like to share My Qualification Credentials.\n",
            "I did my graduation in Bsc Mathematics from Dr.Babasaheb Ambedkar Marathwada University Aurangabad.\n",
            "Currently, I am pursuing Data Science from Data trained Education.\n",
            "I belong to a nuclear family.\n",
            "I would like to share My Industrial Credentials. I have 12+ years of experience in various positions like Data Scientist,\n",
            "Data Analyst, and Statistician in Sterlite Tech.\n",
            "My strengths are I am honest, self-motivated, and a quick learner.\n",
            "My short-term goal is to get a job in a reputed company, and long-term goal is to achieve a good position where I can \n",
            "build my career and help the Organization too.\n",
            "My hobbies are reading books and playing cricket.\n",
            "Lastly, I am a disciplined person and believe in learning from my past mistakes and experiences.\n",
            "That's all about me!\n",
            "Thank you very much!\n"
          ]
        }
      ]
    },
    {
      "cell_type": "code",
      "source": [
        "\n",
        "class camera:\n",
        "    def __init__(self, Brand, Quality, Memory):\n",
        "        self.Brand = Brand\n",
        "        self.Quality = Quality\n",
        "        self.Memory = Memory\n",
        "\n",
        "    def photo(self):\n",
        "        print(\"The {} {} is nice\".format(self.Brand, self.Quality))\n",
        "\n",
        "    def price(self):\n",
        "        print(\"The {} price is high due to {} and its quality low\".format(self.Brand, self.Quality))\n",
        "\n",
        "    def __str__(self):\n",
        "        return \"Camera: {} {} Memory: {}\".format(self.Brand, self.Quality, self.Memory)\n",
        "\n",
        "canon = camera(\"Canon\", \"HD\", \"256 GB\")\n",
        "print(canon)\n",
        "\n",
        "\n"
      ],
      "metadata": {
        "colab": {
          "base_uri": "https://localhost:8080/"
        },
        "id": "34m6q5HnQGz-",
        "outputId": "de4ec59b-b777-4452-cccf-8b71b5cabbe8"
      },
      "execution_count": null,
      "outputs": [
        {
          "output_type": "stream",
          "name": "stdout",
          "text": [
            "Camera: Canon HD Memory: 256 GB\n"
          ]
        }
      ]
    },
    {
      "cell_type": "code",
      "source": [],
      "metadata": {
        "id": "vOrYfnQsydUB"
      },
      "execution_count": null,
      "outputs": []
    }
  ]
}