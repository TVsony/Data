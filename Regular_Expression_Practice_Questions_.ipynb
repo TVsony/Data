{
  "nbformat": 4,
  "nbformat_minor": 0,
  "metadata": {
    "colab": {
      "provenance": [],
      "authorship_tag": "ABX9TyPkSxPIQCmqrXdbNJN6xwR1",
      "include_colab_link": true
    },
    "kernelspec": {
      "name": "python3",
      "display_name": "Python 3"
    },
    "language_info": {
      "name": "python"
    }
  },
  "cells": [
    {
      "cell_type": "markdown",
      "metadata": {
        "id": "view-in-github",
        "colab_type": "text"
      },
      "source": [
        "<a href=\"https://colab.research.google.com/github/TVsony/Data/blob/main/Regular_Expression_Practice_Questions_.ipynb\" target=\"_parent\"><img src=\"https://colab.research.google.com/assets/colab-badge.svg\" alt=\"Open In Colab\"/></a>"
      ]
    },
    {
      "cell_type": "markdown",
      "source": [
        "Question 1- Write a RegEx pattern in python program to check that a string\n",
        "\n",
        "contains only a certain set of characters (in this case a-z, A-Z and 0-9)."
      ],
      "metadata": {
        "id": "bSf6N3ZWuZje"
      }
    },
    {
      "cell_type": "code",
      "source": [
        "import re\n",
        "text = \"There are three apples and two oranges.\"\n",
        "# Match the str contains any word characters from a to z digits from 0-9 and the _ charector\n",
        "pattern = \"\\w\"\n",
        "results = re.findall(pattern,text)\n",
        "print(results)\n"
      ],
      "metadata": {
        "colab": {
          "base_uri": "https://localhost:8080/"
        },
        "id": "TUYQ005queSa",
        "outputId": "1b7157ef-d17b-455d-ea79-95c4b3d185ae"
      },
      "execution_count": 3,
      "outputs": [
        {
          "output_type": "stream",
          "name": "stdout",
          "text": [
            "['T', 'h', 'e', 'r', 'e', 'a', 'r', 'e', 't', 'h', 'r', 'e', 'e', 'a', 'p', 'p', 'l', 'e', 's', 'a', 'n', 'd', 't', 'w', 'o', 'o', 'r', 'a', 'n', 'g', 'e', 's']\n"
          ]
        }
      ]
    },
    {
      "cell_type": "markdown",
      "source": [
        "Question 2- Write a RegEx pattern that matches a string that has an a followed by zero or more b's"
      ],
      "metadata": {
        "id": "DP5EDgI43yAc"
      }
    },
    {
      "cell_type": "code",
      "source": [
        "\n",
        "text = \"There are three apples and two oranges.\"\n",
        "pattern = \"ab*\"\n",
        "results = re.findall(pattern , text)\n",
        "print(results)\n"
      ],
      "metadata": {
        "colab": {
          "base_uri": "https://localhost:8080/"
        },
        "id": "tHFCsCpr3NK_",
        "outputId": "4af0fb6a-a843-4f8f-c60c-18c834890a5d"
      },
      "execution_count": 10,
      "outputs": [
        {
          "output_type": "stream",
          "name": "stdout",
          "text": [
            "['a', 'a', 'a', 'a']\n"
          ]
        }
      ]
    },
    {
      "cell_type": "markdown",
      "source": [
        "Question 3-  Write a RegEx pattern that matches a string that has an a followed by one or more b's"
      ],
      "metadata": {
        "id": "3cf60HAR9OiS"
      }
    },
    {
      "cell_type": "code",
      "source": [
        "text = \"There are three apples and two oranges.\"\n",
        "pattern = \"ab+\"\n",
        "results = re.findall(pattern , text)\n",
        "print(results)\n"
      ],
      "metadata": {
        "colab": {
          "base_uri": "https://localhost:8080/"
        },
        "id": "vJqOU2_F7cgl",
        "outputId": "155f4f69-4bd4-42b2-8d3c-5eefc6db60b4"
      },
      "execution_count": 14,
      "outputs": [
        {
          "output_type": "stream",
          "name": "stdout",
          "text": [
            "[]\n"
          ]
        }
      ]
    },
    {
      "cell_type": "markdown",
      "source": [
        "Question 4- Write a RegEx pattern that matches a string that has an a followed by zero or one 'b'."
      ],
      "metadata": {
        "id": "8elBzgLK-qjf"
      }
    },
    {
      "cell_type": "code",
      "source": [
        "text = \"There are three apples absent two oranges.\"\n",
        "pattern = \"ab?\"\n",
        "results = re.findall(pattern , text)\n",
        "print(results)"
      ],
      "metadata": {
        "colab": {
          "base_uri": "https://localhost:8080/"
        },
        "id": "qonZTQk_9vxn",
        "outputId": "bf4511f4-65e9-4a1e-c16d-44872e69973f"
      },
      "execution_count": 20,
      "outputs": [
        {
          "output_type": "stream",
          "name": "stdout",
          "text": [
            "['a', 'a', 'ab', 'a']\n"
          ]
        }
      ]
    },
    {
      "cell_type": "markdown",
      "source": [
        "Question 5- Write a RegEx pattern in python program that matches a string that has an a followed by three 'b'."
      ],
      "metadata": {
        "id": "axmn_s9l_2vH"
      }
    },
    {
      "cell_type": "code",
      "source": [
        "text = \"There are three apples abbbdul absent two oranges.\"\n",
        "pattern = \"ab{3}\"\n",
        "results = re.findall(pattern , text)\n",
        "print(results)"
      ],
      "metadata": {
        "colab": {
          "base_uri": "https://localhost:8080/"
        },
        "id": "FR6kuqNQ_Smm",
        "outputId": "be76d5ad-b474-4793-df09-827e3eaa0fed"
      },
      "execution_count": 28,
      "outputs": [
        {
          "output_type": "stream",
          "name": "stdout",
          "text": [
            "['abbb']\n"
          ]
        }
      ]
    },
    {
      "cell_type": "markdown",
      "source": [
        "Question 6- Write a RegEx pattern in python program that matches a string that has an a followed by two to three 'b'."
      ],
      "metadata": {
        "id": "bNp2y43HA-g-"
      }
    },
    {
      "cell_type": "code",
      "source": [
        "text = \"abb There are three apples abbbdul absent two oranges.\"\n",
        "pattern = \"ab{2,3}\"\n",
        "results = re.findall(pattern , text)\n",
        "print(results)"
      ],
      "metadata": {
        "colab": {
          "base_uri": "https://localhost:8080/"
        },
        "id": "DQzP6GmCAh5y",
        "outputId": "ae65ba32-f2e1-4d3f-d689-7944d036f5c7"
      },
      "execution_count": 31,
      "outputs": [
        {
          "output_type": "stream",
          "name": "stdout",
          "text": [
            "['abb', 'abbb']\n"
          ]
        }
      ]
    },
    {
      "cell_type": "markdown",
      "source": [
        "Question 7- Write a Python program that matches a string that has an 'a' followed by anything, ending in 'b'."
      ],
      "metadata": {
        "id": "Q7LWPRpjCvD7"
      }
    },
    {
      "cell_type": "code",
      "source": [
        "text = \"There are three apples abbbdul absent two oranges.\"\n",
        "pattern = \"a.*b\"\n",
        "results = re.findall(pattern , text)\n",
        "print(results)"
      ],
      "metadata": {
        "colab": {
          "base_uri": "https://localhost:8080/"
        },
        "id": "KEwUFLtkC0_i",
        "outputId": "81fd3127-5971-442d-82bc-add3c59516ea"
      },
      "execution_count": 40,
      "outputs": [
        {
          "output_type": "stream",
          "name": "stdout",
          "text": [
            "['are three apples abbbdul ab']\n"
          ]
        }
      ]
    },
    {
      "cell_type": "markdown",
      "source": [
        "Question 8- Write a RegEx pattern in python program that matches a word at the beginning of a string."
      ],
      "metadata": {
        "id": "xAz56p1nDYyF"
      }
    },
    {
      "cell_type": "code",
      "source": [
        "text = \"APJ Abdul Kalam wrote the wings of fire books\"\n",
        "pattern = \"^\\w+\"\n",
        "results = re.match(pattern , text)\n",
        "print(results)"
      ],
      "metadata": {
        "colab": {
          "base_uri": "https://localhost:8080/"
        },
        "id": "QZqDL0CbDVuw",
        "outputId": "3b618b10-7c24-4c2f-b9de-cb18cd7eb007"
      },
      "execution_count": 37,
      "outputs": [
        {
          "output_type": "stream",
          "name": "stdout",
          "text": [
            "<re.Match object; span=(0, 3), match='APJ'>\n"
          ]
        }
      ]
    },
    {
      "cell_type": "code",
      "source": [
        "text = \"APJ Abdul Kalam wrote the wings of fire books\"\n",
        "pattern = r\"\\b\\w+\\b$\"\n",
        "results = re.search(pattern , text)\n",
        "print(results)\n"
      ],
      "metadata": {
        "colab": {
          "base_uri": "https://localhost:8080/"
        },
        "id": "ocMnGgyWEDuc",
        "outputId": "7f6929e8-f1d2-4be3-af4e-9aee1758d527"
      },
      "execution_count": 44,
      "outputs": [
        {
          "output_type": "stream",
          "name": "stdout",
          "text": [
            "<re.Match object; span=(40, 45), match='books'>\n"
          ]
        }
      ]
    },
    {
      "cell_type": "markdown",
      "source": [
        "Question 10- Write a RegEx pattern in python program to find all words that are 4 digits long in a string.\n",
        "Sample text- '01 0132 231875 1458 301 2725.'\n"
      ],
      "metadata": {
        "id": "QHgoWZ6kFRq8"
      }
    },
    {
      "cell_type": "code",
      "source": [
        "text = '01 0132 231875 1458 301 2725.'\n",
        "pattern = r'\\b\\d{4}\\b'\n",
        "results = re.findall(pattern, text)\n",
        "print(results)"
      ],
      "metadata": {
        "colab": {
          "base_uri": "https://localhost:8080/"
        },
        "id": "W9vOE4S3Ezly",
        "outputId": "b1101540-cc07-4fd2-b393-6ad01c51f854"
      },
      "execution_count": 45,
      "outputs": [
        {
          "output_type": "stream",
          "name": "stdout",
          "text": [
            "['0132', '1458', '2725']\n"
          ]
        }
      ]
    },
    {
      "cell_type": "code",
      "source": [],
      "metadata": {
        "id": "-2bXWDkLFgHd"
      },
      "execution_count": null,
      "outputs": []
    }
  ]
}