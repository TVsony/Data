{
 "cells": [
  {
   "cell_type": "code",
   "execution_count": 1,
   "id": "b661f7ed-87cb-4ef9-8797-ba509d767ca3",
   "metadata": {},
   "outputs": [
    {
     "name": "stdout",
     "output_type": "stream",
     "text": [
      "This Python Program\n"
     ]
    }
   ],
   "source": [
    "print(\"This Python Program\")"
   ]
  },
  {
   "cell_type": "code",
   "execution_count": 2,
   "id": "b6ea8b14-01ea-4bbb-9a59-5f3439fdb43f",
   "metadata": {},
   "outputs": [
    {
     "name": "stdout",
     "output_type": "stream",
     "text": [
      "Sum = 7\n"
     ]
    }
   ],
   "source": [
    "# First Python program to add two numbers\n",
    "a = 2\n",
    "b = 5 \n",
    "c = a + b\n",
    "print(\"Sum =\",c)"
   ]
  },
  {
   "cell_type": "markdown",
   "id": "a6ac793c-d99b-444e-92aa-03082c41d095",
   "metadata": {},
   "source": [
    "### Comments in Python  \n",
    "### There are two types of ways single-line and multi-comment  "
   ]
  },
  {
   "cell_type": "code",
   "execution_count": 3,
   "id": "439f6c37-a007-489f-a04d-b5c9a0e4b6a7",
   "metadata": {},
   "outputs": [
    {
     "name": "stdout",
     "output_type": "stream",
     "text": [
      "Sum : 15\n"
     ]
    }
   ],
   "source": [
    "# Single-line comment  start with hash ( # ) \n",
    "\n",
    "a = 10\n",
    "b = 5 \n",
    "c = a + b # c is sum of a and b \n",
    "\n",
    "print(\"Sum :\",c)"
   ]
  },
  {
   "cell_type": "code",
   "execution_count": 4,
   "id": "dc1a9f09-d324-4867-9192-49c820eefd32",
   "metadata": {},
   "outputs": [
    {
     "data": {
      "text/plain": [
       "' This is the multiline comment system in the python. This is a program to find the net salary of an employee\\nbased on the basic salary, provident fund, house rent allowance,\\ndearness allowance and income tax.'"
      ]
     },
     "execution_count": 4,
     "metadata": {},
     "output_type": "execute_result"
    }
   ],
   "source": [
    "# Multi-Line comment \n",
    "\"\"\" This is the multiline comment system in the python. This is a program to find the net salary of an employee\n",
    "based on the basic salary, provident fund, house rent allowance,\n",
    "dearness allowance and income tax.\"\"\"    "
   ]
  },
  {
   "cell_type": "code",
   "execution_count": 5,
   "id": "0deb0176-b146-45f0-b958-acdd2795b97a",
   "metadata": {},
   "outputs": [
    {
     "data": {
      "text/plain": [
       "' This is the multiline comment system in the python. This is a program to find the net salary of an employee\\nbased on the basic salary, provident fund, house rent allowance,\\ndearness allowance and income tax. '"
      ]
     },
     "execution_count": 5,
     "metadata": {},
     "output_type": "execute_result"
    }
   ],
   "source": [
    "''' This is the multiline comment system in the python. This is a program to find the net salary of an employee\n",
    "based on the basic salary, provident fund, house rent allowance,\n",
    "dearness allowance and income tax. '''"
   ]
  },
  {
   "cell_type": "code",
   "execution_count": 6,
   "id": "9faebaeb-f9eb-430f-8410-947c7d374732",
   "metadata": {},
   "outputs": [],
   "source": [
    "# Program with two functions \n",
    "def add (x,y):\n",
    "    \"\"\" This function takes two numbers and finds their sum.\n",
    "        It displays the sum as a result.\n",
    "    \"\"\"\n",
    "    print(\"Sum =\",(x+y))"
   ]
  },
  {
   "cell_type": "code",
   "execution_count": 7,
   "id": "998d8285-a950-4c8b-bdda-d82bf6b0931e",
   "metadata": {},
   "outputs": [
    {
     "name": "stdout",
     "output_type": "stream",
     "text": [
      "Sum = 15\n"
     ]
    }
   ],
   "source": [
    "# call function \n",
    "add(10,5)"
   ]
  },
  {
   "cell_type": "code",
   "execution_count": 8,
   "id": "9cc89fc4-90c3-4d1d-b5f8-dbc0cac451f7",
   "metadata": {},
   "outputs": [
    {
     "name": "stdout",
     "output_type": "stream",
     "text": [
      "Welcome to Python magic\n"
     ]
    }
   ],
   "source": [
    "def message():\n",
    "    \"This function displays a message\"\n",
    "    print(\"Welcome to Python magic\")\n",
    "\n",
    "# call function \n",
    "message()\n"
   ]
  },
  {
   "cell_type": "markdown",
   "id": "0c44dac4-0efe-4440-8679-67a763c733e9",
   "metadata": {},
   "source": [
    "# Variable \n",
    "variable is holding the data or Variables are containers for storing data values."
   ]
  },
  {
   "cell_type": "code",
   "execution_count": 9,
   "id": "689d341f-a288-488a-b056-89a81f15783a",
   "metadata": {},
   "outputs": [],
   "source": [
    "a = 1"
   ]
  },
  {
   "cell_type": "code",
   "execution_count": 10,
   "id": "29bff936-d5fa-4e6c-9a5a-9a45b458657f",
   "metadata": {},
   "outputs": [],
   "source": [
    "b = 10 "
   ]
  },
  {
   "cell_type": "code",
   "execution_count": 11,
   "id": "c927f55d-571f-445f-93bc-2472b65e2a87",
   "metadata": {},
   "outputs": [
    {
     "data": {
      "text/plain": [
       "1"
      ]
     },
     "execution_count": 11,
     "metadata": {},
     "output_type": "execute_result"
    }
   ],
   "source": [
    "a"
   ]
  },
  {
   "cell_type": "code",
   "execution_count": 12,
   "id": "8558c5bf-102e-4794-a0a4-6087584b91e8",
   "metadata": {},
   "outputs": [
    {
     "data": {
      "text/plain": [
       "10"
      ]
     },
     "execution_count": 12,
     "metadata": {},
     "output_type": "execute_result"
    }
   ],
   "source": [
    "b"
   ]
  },
  {
   "cell_type": "code",
   "execution_count": 13,
   "id": "b82e4791-7c39-4986-945d-fca441497f5c",
   "metadata": {},
   "outputs": [],
   "source": [
    "a , b =( 10 , 5)"
   ]
  },
  {
   "cell_type": "code",
   "execution_count": 14,
   "id": "964d1288-7a02-4d2e-952f-feafaa035006",
   "metadata": {},
   "outputs": [
    {
     "data": {
      "text/plain": [
       "10"
      ]
     },
     "execution_count": 14,
     "metadata": {},
     "output_type": "execute_result"
    }
   ],
   "source": [
    "a"
   ]
  },
  {
   "cell_type": "code",
   "execution_count": 15,
   "id": "5d98062c-e384-46fd-957f-ad0b60662a6e",
   "metadata": {},
   "outputs": [
    {
     "data": {
      "text/plain": [
       "5"
      ]
     },
     "execution_count": 15,
     "metadata": {},
     "output_type": "execute_result"
    }
   ],
   "source": [
    "b "
   ]
  },
  {
   "cell_type": "code",
   "execution_count": 16,
   "id": "e676ef7d-825a-4674-a9bf-7fe02b9e94ae",
   "metadata": {},
   "outputs": [],
   "source": [
    "a,b,c,d = (10,2,11,10)"
   ]
  },
  {
   "cell_type": "code",
   "execution_count": 17,
   "id": "2b863701-6f2d-47f3-8c96-1e91ca797537",
   "metadata": {},
   "outputs": [
    {
     "data": {
      "text/plain": [
       "10"
      ]
     },
     "execution_count": 17,
     "metadata": {},
     "output_type": "execute_result"
    }
   ],
   "source": [
    "a"
   ]
  },
  {
   "cell_type": "code",
   "execution_count": 18,
   "id": "98696228-68a5-4b55-aa3c-b5eae595287a",
   "metadata": {},
   "outputs": [
    {
     "data": {
      "text/plain": [
       "2"
      ]
     },
     "execution_count": 18,
     "metadata": {},
     "output_type": "execute_result"
    }
   ],
   "source": [
    "b"
   ]
  },
  {
   "cell_type": "code",
   "execution_count": 19,
   "id": "1a3037a9-4986-4333-ab76-9988778a3832",
   "metadata": {},
   "outputs": [
    {
     "data": {
      "text/plain": [
       "11"
      ]
     },
     "execution_count": 19,
     "metadata": {},
     "output_type": "execute_result"
    }
   ],
   "source": [
    "c"
   ]
  },
  {
   "cell_type": "code",
   "execution_count": 20,
   "id": "63cbf516-227c-4fc5-b66e-f055b0ca0e33",
   "metadata": {},
   "outputs": [
    {
     "data": {
      "text/plain": [
       "10"
      ]
     },
     "execution_count": 20,
     "metadata": {},
     "output_type": "execute_result"
    }
   ],
   "source": [
    "d"
   ]
  },
  {
   "cell_type": "code",
   "execution_count": 21,
   "id": "0062251f-3c85-4673-91d1-03d831389a3a",
   "metadata": {},
   "outputs": [],
   "source": [
    "fruit = 'mango'"
   ]
  },
  {
   "cell_type": "code",
   "execution_count": 22,
   "id": "d6fcd2da-dc5f-455e-a244-fe78922bca47",
   "metadata": {},
   "outputs": [
    {
     "data": {
      "text/plain": [
       "'mango'"
      ]
     },
     "execution_count": 22,
     "metadata": {},
     "output_type": "execute_result"
    }
   ],
   "source": [
    "fruit"
   ]
  },
  {
   "cell_type": "code",
   "execution_count": 23,
   "id": "cb9a67da-08f7-4a18-ba79-434cbec6c748",
   "metadata": {},
   "outputs": [],
   "source": [
    "fruit = \"mango\",\"Banana\""
   ]
  },
  {
   "cell_type": "code",
   "execution_count": 24,
   "id": "e978dd32-7ca2-4144-afc2-1449f72b5ea5",
   "metadata": {},
   "outputs": [
    {
     "data": {
      "text/plain": [
       "('mango', 'Banana')"
      ]
     },
     "execution_count": 24,
     "metadata": {},
     "output_type": "execute_result"
    }
   ],
   "source": [
    "fruit"
   ]
  },
  {
   "cell_type": "code",
   "execution_count": 25,
   "id": "bbe76ca9-a2c9-4033-95a8-763f212c3ee2",
   "metadata": {},
   "outputs": [
    {
     "data": {
      "text/plain": [
       "int"
      ]
     },
     "execution_count": 25,
     "metadata": {},
     "output_type": "execute_result"
    }
   ],
   "source": [
    "x = 5  # Checking Data type of variables\n",
    "type(x)"
   ]
  },
  {
   "cell_type": "code",
   "execution_count": 26,
   "id": "fc222595-0d59-4a5a-8ce5-9f9f4c1710ee",
   "metadata": {},
   "outputs": [
    {
     "data": {
      "text/plain": [
       "str"
      ]
     },
     "execution_count": 26,
     "metadata": {},
     "output_type": "execute_result"
    }
   ],
   "source": [
    "y = \"John\" # Checking type of variable \n",
    "type(y)"
   ]
  },
  {
   "cell_type": "code",
   "execution_count": 27,
   "id": "94a461e0-8cb0-46de-af10-0ad04ce3fb0a",
   "metadata": {},
   "outputs": [
    {
     "data": {
      "text/plain": [
       "float"
      ]
     },
     "execution_count": 27,
     "metadata": {},
     "output_type": "execute_result"
    }
   ],
   "source": [
    "z = 3.4  # \n",
    "type(z)"
   ]
  },
  {
   "cell_type": "code",
   "execution_count": 28,
   "id": "3111ccb4-24a4-4350-b0c7-7cfc6137bc5e",
   "metadata": {},
   "outputs": [
    {
     "name": "stdout",
     "output_type": "stream",
     "text": [
      "4\n",
      "0\n"
     ]
    }
   ],
   "source": [
    "print(True + True + True +False + True)  # True = 1 and False = 0 \n",
    "print(False - True + True)"
   ]
  },
  {
   "cell_type": "code",
   "execution_count": 29,
   "id": "6087f190-856f-424c-8d77-ae36dfd7c2e3",
   "metadata": {},
   "outputs": [
    {
     "data": {
      "text/plain": [
       "int"
      ]
     },
     "execution_count": 29,
     "metadata": {},
     "output_type": "execute_result"
    }
   ],
   "source": [
    "a = 4 \n",
    "type(a)"
   ]
  },
  {
   "cell_type": "code",
   "execution_count": 30,
   "id": "3a1e82ea-9c26-447f-9a11-deaffe3de1df",
   "metadata": {},
   "outputs": [],
   "source": [
    "x = 15.3 "
   ]
  },
  {
   "cell_type": "code",
   "execution_count": 31,
   "id": "3095df91-8b1b-43fb-b095-035856b8de78",
   "metadata": {},
   "outputs": [],
   "source": [
    "num = 15 "
   ]
  },
  {
   "cell_type": "code",
   "execution_count": 32,
   "id": "c1da75e5-31c0-4536-8e8e-b09e5e083ead",
   "metadata": {},
   "outputs": [
    {
     "data": {
      "text/plain": [
       "15.3"
      ]
     },
     "execution_count": 32,
     "metadata": {},
     "output_type": "execute_result"
    }
   ],
   "source": [
    "float(x)"
   ]
  },
  {
   "cell_type": "code",
   "execution_count": 33,
   "id": "1cdbd71e-8b3d-4939-9dab-26b9854634f6",
   "metadata": {},
   "outputs": [
    {
     "data": {
      "text/plain": [
       "15.0"
      ]
     },
     "execution_count": 33,
     "metadata": {},
     "output_type": "execute_result"
    }
   ],
   "source": [
    "float(num)"
   ]
  },
  {
   "cell_type": "code",
   "execution_count": 34,
   "id": "5ef0f607-b9b4-41de-840e-5fbe3067aa34",
   "metadata": {},
   "outputs": [
    {
     "data": {
      "text/plain": [
       "15"
      ]
     },
     "execution_count": 34,
     "metadata": {},
     "output_type": "execute_result"
    }
   ],
   "source": [
    "int(x)"
   ]
  },
  {
   "cell_type": "code",
   "execution_count": 35,
   "id": "ed0c8729-8659-4fc7-a9db-eb430ea83054",
   "metadata": {},
   "outputs": [
    {
     "data": {
      "text/plain": [
       "15"
      ]
     },
     "execution_count": 35,
     "metadata": {},
     "output_type": "execute_result"
    }
   ],
   "source": [
    "int(num)"
   ]
  },
  {
   "cell_type": "code",
   "execution_count": 36,
   "id": "44c2ece5-a738-4149-bdb3-1bda1863ecf2",
   "metadata": {},
   "outputs": [
    {
     "ename": "TypeError",
     "evalue": "unsupported operand type(s) for +: 'int' and 'str'",
     "output_type": "error",
     "traceback": [
      "\u001b[1;31m---------------------------------------------------------------------------\u001b[0m",
      "\u001b[1;31mTypeError\u001b[0m                                 Traceback (most recent call last)",
      "Cell \u001b[1;32mIn[36], line 1\u001b[0m\n\u001b[1;32m----> 1\u001b[0m \u001b[38;5;241m1\u001b[39m \u001b[38;5;241m+\u001b[39m \u001b[38;5;124m\"\u001b[39m\u001b[38;5;124mSudh\u001b[39m\u001b[38;5;124m\"\u001b[39m\n",
      "\u001b[1;31mTypeError\u001b[0m: unsupported operand type(s) for +: 'int' and 'str'"
     ]
    }
   ],
   "source": [
    "1 + \"Sudh\"\n"
   ]
  },
  {
   "cell_type": "code",
   "execution_count": 37,
   "id": "889141de-4c22-4944-b15c-354ecd49bb44",
   "metadata": {},
   "outputs": [
    {
     "data": {
      "text/plain": [
       "'1Sudh'"
      ]
     },
     "execution_count": 37,
     "metadata": {},
     "output_type": "execute_result"
    }
   ],
   "source": [
    "str(1) + \"Sudh\"  # Type casting "
   ]
  },
  {
   "cell_type": "code",
   "execution_count": 39,
   "id": "9a8cc3b7-c244-4ea1-bc9d-f42327887006",
   "metadata": {},
   "outputs": [
    {
     "data": {
      "text/plain": [
       "2.0"
      ]
     },
     "execution_count": 39,
     "metadata": {},
     "output_type": "execute_result"
    }
   ],
   "source": [
    " 1 + 1.0 "
   ]
  },
  {
   "cell_type": "code",
   "execution_count": 38,
   "id": "a68bf889-5ae1-4f49-97ad-054d93113b3c",
   "metadata": {},
   "outputs": [
    {
     "data": {
      "text/plain": [
       "2"
      ]
     },
     "execution_count": 38,
     "metadata": {},
     "output_type": "execute_result"
    }
   ],
   "source": [
    "int(1+1.0) # type casting "
   ]
  },
  {
   "cell_type": "code",
   "execution_count": 41,
   "id": "644fb475-a1dc-4a89-b3bc-4c8644863bf4",
   "metadata": {},
   "outputs": [
    {
     "name": "stdout",
     "output_type": "stream",
     "text": [
      "********************\n"
     ]
    }
   ],
   "source": [
    "print(\"**\" * (10)) # only multiplication and + work but not others like subtraction devision "
   ]
  },
  {
   "cell_type": "markdown",
   "id": "e849c5c9-0ea8-4dbf-90bd-b7bdb3123862",
   "metadata": {},
   "source": [
    "# Input from user "
   ]
  },
  {
   "cell_type": "code",
   "execution_count": 40,
   "id": "777886aa-793d-4be5-ae95-8d6193e1f86b",
   "metadata": {},
   "outputs": [
    {
     "ename": "SyntaxError",
     "evalue": "invalid syntax (2792523948.py, line 1)",
     "output_type": "error",
     "traceback": [
      "\u001b[1;36m  Cell \u001b[1;32mIn[40], line 1\u001b[1;36m\u001b[0m\n\u001b[1;33m    a =\u001b[0m\n\u001b[1;37m        ^\u001b[0m\n\u001b[1;31mSyntaxError\u001b[0m\u001b[1;31m:\u001b[0m invalid syntax\n"
     ]
    }
   ],
   "source": [
    "a = "
   ]
  },
  {
   "cell_type": "code",
   "execution_count": 42,
   "id": "30540983-806f-49cf-ad6c-3d29f685c082",
   "metadata": {},
   "outputs": [
    {
     "name": "stdout",
     "output_type": "stream",
     "text": [
      "enter a interger 10\n"
     ]
    }
   ],
   "source": [
    "a = input(\"enter a interger\")"
   ]
  },
  {
   "cell_type": "code",
   "execution_count": 43,
   "id": "73bc01ec-1446-4067-84f6-a25fc0a4f026",
   "metadata": {},
   "outputs": [
    {
     "name": "stdout",
     "output_type": "stream",
     "text": [
      "Eneter a interger 10\n",
      "Eneter a interger 10\n",
      "Eneter a interger 10\n"
     ]
    },
    {
     "name": "stdout",
     "output_type": "stream",
     "text": [
      "(31+10j)\n",
      "(31+10j)  Bhimrao\n"
     ]
    }
   ],
   "source": [
    "a = int(input(\"Eneter a interger\"))\n",
    "b = int(input(\"Eneter a interger\"))\n",
    "c = int(input(\"Eneter a interger\"))\n",
    "e = ( a + b / c)\n",
    "d =e  + 20 + 10j\n",
    "print(d)\n",
    "print(d,\"\", \"Bhimrao\")"
   ]
  },
  {
   "cell_type": "code",
   "execution_count": 44,
   "id": "bcf3c30a-f9bd-4a99-8cad-c2888ecc968a",
   "metadata": {},
   "outputs": [
    {
     "name": "stdout",
     "output_type": "stream",
     "text": [
      "Eneter a interger 10\n",
      "Eneter a interger 10\n",
      "Eneter a interger 10\n"
     ]
    }
   ],
   "source": [
    "a = int(input(\"Eneter a interger\"))\n",
    "b = int(input(\"Eneter a interger\"))\n",
    "c = int(input(\"Eneter a interger\"))"
   ]
  },
  {
   "cell_type": "code",
   "execution_count": 45,
   "id": "cf94d4a5-eef6-4c05-a9ec-95bff4778e5c",
   "metadata": {},
   "outputs": [
    {
     "data": {
      "text/plain": [
       "(10, 10, 10)"
      ]
     },
     "execution_count": 45,
     "metadata": {},
     "output_type": "execute_result"
    }
   ],
   "source": [
    "a,b,c"
   ]
  },
  {
   "cell_type": "code",
   "execution_count": 46,
   "id": "7fa1836a-c1b2-4a42-9156-93451f4607e9",
   "metadata": {},
   "outputs": [],
   "source": [
    "o = a+b/c"
   ]
  },
  {
   "cell_type": "code",
   "execution_count": 47,
   "id": "5948f2d9-4c02-4670-b25f-4390b974cd06",
   "metadata": {},
   "outputs": [
    {
     "data": {
      "text/plain": [
       "11.0"
      ]
     },
     "execution_count": 47,
     "metadata": {},
     "output_type": "execute_result"
    }
   ],
   "source": [
    "o"
   ]
  },
  {
   "cell_type": "code",
   "execution_count": 50,
   "id": "87eaae6d-8be4-4513-aa8a-3653196112eb",
   "metadata": {},
   "outputs": [],
   "source": [
    "o1 = o + 78+10j"
   ]
  },
  {
   "cell_type": "code",
   "execution_count": 49,
   "id": "742d6a00-ea0e-4305-a436-3e2cc26376bc",
   "metadata": {},
   "outputs": [
    {
     "data": {
      "text/plain": [
       "(89+10j)"
      ]
     },
     "execution_count": 49,
     "metadata": {},
     "output_type": "execute_result"
    }
   ],
   "source": [
    "o1"
   ]
  },
  {
   "cell_type": "code",
   "execution_count": 51,
   "id": "2f5e6bef-8ed6-4908-86ce-63cec929366a",
   "metadata": {},
   "outputs": [
    {
     "data": {
      "text/plain": [
       "'(89+10j)Bhim'"
      ]
     },
     "execution_count": 51,
     "metadata": {},
     "output_type": "execute_result"
    }
   ],
   "source": [
    "str(o1) + \"Bhim\""
   ]
  },
  {
   "cell_type": "code",
   "execution_count": 53,
   "id": "b7f99dd9-fcff-486e-8f85-e17bb10dd129",
   "metadata": {},
   "outputs": [
    {
     "name": "stdout",
     "output_type": "stream",
     "text": [
      "Enter a number lesser then 34 ---- 10\n"
     ]
    }
   ],
   "source": [
    "a = int(input(\"Enter a number lesser then 34 ----\"))"
   ]
  },
  {
   "cell_type": "code",
   "execution_count": 54,
   "id": "ee4ef5c3-78a0-4e32-8c98-343ca8c01254",
   "metadata": {},
   "outputs": [],
   "source": [
    "if a < 34:\n",
    "    pass "
   ]
  },
  {
   "cell_type": "code",
   "execution_count": 55,
   "id": "25ca0f56-0280-4b2f-a3b5-8067c2174ac4",
   "metadata": {},
   "outputs": [
    {
     "name": "stdout",
     "output_type": "stream",
     "text": [
      "Enter a number lesser then ---- 55\n"
     ]
    },
    {
     "name": "stdout",
     "output_type": "stream",
     "text": [
      "Data input lesser then 34 and I am not fine with\n"
     ]
    }
   ],
   "source": [
    "a = int(input(\"Enter a number lesser then ----\"))\n",
    "if a < 34:\n",
    "    print(\"Data input is lesser then 34 and  i an fine with\")\n",
    "else:\n",
    "    print(\"Data input lesser then 34 and I am not fine with\")"
   ]
  },
  {
   "cell_type": "code",
   "execution_count": 56,
   "id": "b5cfd7f1-5d5d-43e9-80a6-d1e3cf9c4d30",
   "metadata": {},
   "outputs": [
    {
     "name": "stdout",
     "output_type": "stream",
     "text": [
      "Enter number 10\n"
     ]
    },
    {
     "name": "stdout",
     "output_type": "stream",
     "text": [
      "Data input is lesser than 34 \n"
     ]
    }
   ],
   "source": [
    "a = int(input(\"Enter number\"))\n",
    "if a < 34:\n",
    "    print(\"Data input is lesser than 34 \")\n",
    "elif a < 100:\n",
    "    print(\"My data is lesser than 100\")\n",
    "else:\n",
    "    print(\"user input is no lesser than 34\")"
   ]
  },
  {
   "cell_type": "markdown",
   "id": "939805b8-b3f9-41d1-8caf-308d65dd5641",
   "metadata": {},
   "source": [
    "# Write program to find the leaf year "
   ]
  },
  {
   "cell_type": "code",
   "execution_count": 57,
   "id": "19f070e3-d433-4962-985b-173aaa1d686e",
   "metadata": {},
   "outputs": [
    {
     "name": "stdout",
     "output_type": "stream",
     "text": [
      "Enter a year  2022\n"
     ]
    },
    {
     "name": "stdout",
     "output_type": "stream",
     "text": [
      "This is not a leaf year\n"
     ]
    }
   ],
   "source": [
    "# Write program to find the leaf year \n",
    "year = int(input(\"Enter a year \"))\n",
    "\n",
    "if year % 4 ==0:\n",
    "    print(\"This is leaf year\")\n",
    "\n",
    "    if year % 100 ==0:\n",
    "        print(\"this is not leaf year\")\n",
    "\n",
    "        if year % 400 == 0:\n",
    "                print(\"This is leaf year\")\n",
    "else:\n",
    "    print(\"This is not a leaf year\")\n",
    "          "
   ]
  },
  {
   "cell_type": "code",
   "execution_count": 58,
   "id": "def15261-33f4-4d6a-9613-f10a4a344a78",
   "metadata": {},
   "outputs": [
    {
     "name": "stdout",
     "output_type": "stream",
     "text": [
      "Enter a year 2024\n"
     ]
    },
    {
     "name": "stdout",
     "output_type": "stream",
     "text": [
      "This is a leaf year\n"
     ]
    }
   ],
   "source": [
    "year = int(input(\"Enter a year\"))\n",
    "if year % 4 ==0:\n",
    "    print(\"This is a leaf year\")\n",
    "elif year % 100 ==0:\n",
    "    print(\"this is not a leaf year\")\n",
    "elif year % 400 ==0:\n",
    "    print(\"This a leaf year\")\n",
    "else:\n",
    "    print(\"This is a not a leaf year\")"
   ]
  },
  {
   "cell_type": "code",
   "execution_count": 64,
   "id": "44259f06-e191-40bb-98c8-4e4f55463fec",
   "metadata": {},
   "outputs": [
    {
     "name": "stdout",
     "output_type": "stream",
     "text": [
      "Enter a Your salary 10\n"
     ]
    },
    {
     "name": "stdout",
     "output_type": "stream",
     "text": [
      "Don't do any things\n"
     ]
    }
   ],
   "source": [
    "salary = int(input(\"Enter a Your salary\"))\n",
    "if salary > 1000:\n",
    "    print(\" I will buy a car\")\n",
    "        \n",
    "elif salary > 500 :\n",
    "    print(\"I will buy a Bike\")\n",
    "\n",
    "elif salary > 100:\n",
    "    print(\" Go for savings\")\n",
    "\n",
    "else:\n",
    "    print(\"Don't do any things\")\n",
    "             "
   ]
  },
  {
   "cell_type": "code",
   "execution_count": 65,
   "id": "a9b61456-4fd5-4e39-892a-c2205a177e69",
   "metadata": {},
   "outputs": [
    {
     "name": "stdout",
     "output_type": "stream",
     "text": [
      "Enter a Your salary 100000\n"
     ]
    },
    {
     "name": "stdout",
     "output_type": "stream",
     "text": [
      " I will buy a car\n",
      " I will go for swept car\n",
      "False code\n"
     ]
    }
   ],
   "source": [
    "salary = int(input(\"Enter a Your salary\"))\n",
    "if salary > 1000:\n",
    "    print(\" I will buy a car\")\n",
    "    if salary > 5000:\n",
    "        print(\" I will go for swept car\")\n",
    "        if True:\n",
    "            print(\"False code\")\n",
    "    elif salary > 10000:\n",
    "        print(\"I will go for Punch car \")\n",
    "    elif salary > 50000:\n",
    "        print(\"I will go for creata car\")\n",
    "        \n",
    "    else:\n",
    "        print(\" I will go through rent\")\n",
    "elif salary > 500 :\n",
    "    print(\"I will buy a Bike\")\n",
    "\n",
    "elif salary > 100:\n",
    "    print(\" Go for savings\")\n",
    "\n",
    "else:\n",
    "    print(\"Don't do any things\")"
   ]
  },
  {
   "cell_type": "code",
   "execution_count": 1,
   "id": "9d8c4604-c11d-4ab2-88b7-f88f1bbc953d",
   "metadata": {},
   "outputs": [
    {
     "name": "stdout",
     "output_type": "stream",
     "text": [
      "This is a valid statement\n"
     ]
    }
   ],
   "source": [
    "a = 10\n",
    "b = 20\n",
    "\n",
    "if a == 10 and b == 20 :\n",
    "    print(\"This is a valid statement\")"
   ]
  },
  {
   "cell_type": "code",
   "execution_count": 5,
   "id": "9d3c4ff7-3ca0-41a4-bc43-57b4084ae1e0",
   "metadata": {},
   "outputs": [
    {
     "data": {
      "text/plain": [
       "True"
      ]
     },
     "execution_count": 5,
     "metadata": {},
     "output_type": "execute_result"
    }
   ],
   "source": [
    "a == 10"
   ]
  },
  {
   "cell_type": "code",
   "execution_count": 6,
   "id": "d9aa5300-7915-499e-b958-a3af280994d1",
   "metadata": {},
   "outputs": [
    {
     "data": {
      "text/plain": [
       "True"
      ]
     },
     "execution_count": 6,
     "metadata": {},
     "output_type": "execute_result"
    }
   ],
   "source": [
    "b == 20 "
   ]
  },
  {
   "cell_type": "code",
   "execution_count": 7,
   "id": "63a05214-bc11-4072-bb2d-591226e4c227",
   "metadata": {},
   "outputs": [
    {
     "data": {
      "text/plain": [
       "True"
      ]
     },
     "execution_count": 7,
     "metadata": {},
     "output_type": "execute_result"
    }
   ],
   "source": [
    "a == 10 and b == 20 "
   ]
  },
  {
   "cell_type": "code",
   "execution_count": 8,
   "id": "2d266811-1de4-4216-b183-7f20938338c8",
   "metadata": {},
   "outputs": [
    {
     "data": {
      "text/plain": [
       "False"
      ]
     },
     "execution_count": 8,
     "metadata": {},
     "output_type": "execute_result"
    }
   ],
   "source": [
    "a == 10 and b > 20 "
   ]
  },
  {
   "cell_type": "code",
   "execution_count": 9,
   "id": "a025f0ef-8351-483f-8476-02d0e375af95",
   "metadata": {},
   "outputs": [
    {
     "data": {
      "text/plain": [
       "True"
      ]
     },
     "execution_count": 9,
     "metadata": {},
     "output_type": "execute_result"
    }
   ],
   "source": [
    "a == 10"
   ]
  },
  {
   "cell_type": "code",
   "execution_count": 10,
   "id": "e894f212-8e7d-4980-833c-71db39cf7144",
   "metadata": {},
   "outputs": [
    {
     "data": {
      "text/plain": [
       "False"
      ]
     },
     "execution_count": 10,
     "metadata": {},
     "output_type": "execute_result"
    }
   ],
   "source": [
    "b > 20 "
   ]
  },
  {
   "cell_type": "code",
   "execution_count": 11,
   "id": "43170c00-3f5d-436b-ac2f-5d62cb0e7b9a",
   "metadata": {},
   "outputs": [
    {
     "name": "stdout",
     "output_type": "stream",
     "text": [
      "This is invalid\n"
     ]
    }
   ],
   "source": [
    "if a ==10 and b > 10:\n",
    "    print(\"This is invalid\")\n",
    "elif a ==10 and b < 20 :\n",
    "    print(\"This is valid\")\n",
    "\n",
    "else:\n",
    "    print(\"Condition is ok\")"
   ]
  },
  {
   "cell_type": "code",
   "execution_count": 13,
   "id": "6e120d33-6e15-455b-8627-2e5a644cc294",
   "metadata": {},
   "outputs": [
    {
     "name": "stdout",
     "output_type": "stream",
     "text": [
      "This is invalid\n"
     ]
    }
   ],
   "source": [
    "a = 10 \n",
    "b = 20 \n",
    "if a == 10 or b > 20 :\n",
    "    print(\"This is invalid\")\n",
    "elif  a== 10 or b <= 20 :\n",
    "    print(\"This is correct one \")\n",
    "\n",
    "else:\n",
    "    print(\"Condition is not valid \")"
   ]
  },
  {
   "cell_type": "code",
   "execution_count": 18,
   "id": "887b9288-d43a-4c9e-b461-2c188e312338",
   "metadata": {},
   "outputs": [
    {
     "name": "stdout",
     "output_type": "stream",
     "text": [
      "Enter a name:  bhimrao\n",
      "Enter a last name:  Pawar\n"
     ]
    },
    {
     "name": "stdout",
     "output_type": "stream",
     "text": [
      "This is the correct name\n"
     ]
    }
   ],
   "source": [
    "name = input(\"Enter a name: \")\n",
    "last_name = input(\"Enter a last name: \")\n",
    "\n",
    "if name == \"bhimrao\" and last_name == \"Pawar\":\n",
    "    print(\"This is the correct name\")\n",
    "elif name == \"Pawar\" and last_name == \"bhimrao\":\n",
    "    print(\"This is the reverse name\")\n",
    "else:\n",
    "    print(\"This is an invalid name\")\n"
   ]
  },
  {
   "cell_type": "markdown",
   "id": "b2bb1657-140d-4e91-ab0e-c6d54a7a407f",
   "metadata": {},
   "source": [
    "# While loop "
   ]
  },
  {
   "cell_type": "code",
   "execution_count": 1,
   "id": "1ce9d49f-b87b-44c0-a1dc-6a5d9273755d",
   "metadata": {},
   "outputs": [
    {
     "name": "stdout",
     "output_type": "stream",
     "text": [
      "This is my Speed\n",
      "This is my Speed\n",
      "This is my Speed\n",
      "This is my Speed\n",
      "This is my Speed\n",
      "This is my Speed\n",
      "This is my Speed\n",
      "This is my Speed\n",
      "This is my Speed\n"
     ]
    }
   ],
   "source": [
    "initial_speed = 0\n",
    "final_speed = 100\n",
    "count = 1\n",
    "while initial_speed < final_speed :\n",
    "    print(\"This is my Speed\")\n",
    "    count = count + 1 \n",
    "    if count == 10 :\n",
    "        break\n"
   ]
  },
  {
   "cell_type": "code",
   "execution_count": 2,
   "id": "6efefddc-53d8-4040-9c7f-4e7f1ad754d0",
   "metadata": {},
   "outputs": [
    {
     "name": "stdout",
     "output_type": "stream",
     "text": [
      "1\n",
      "2\n",
      "3\n",
      "4\n"
     ]
    }
   ],
   "source": [
    "i = 1\n",
    "j = 5\n",
    "\n",
    "while i < j :\n",
    "    print(i)\n",
    "    i= i + 1 "
   ]
  },
  {
   "cell_type": "code",
   "execution_count": 9,
   "id": "244605e2-b892-41ea-9c07-6ce9400bb2d9",
   "metadata": {},
   "outputs": [
    {
     "name": "stdout",
     "output_type": "stream",
     "text": [
      "1\n",
      "2\n",
      "3\n",
      "4\n",
      "5\n",
      "6\n",
      "7\n",
      "8\n",
      "9\n",
      "10\n",
      "End\n"
     ]
    }
   ],
   "source": [
    "# Write python program to display 1 to 10 \n",
    "x = 1\n",
    "while x <=10 :\n",
    "    print(x)\n",
    "    x += 1\n",
    "print(\"End\")"
   ]
  },
  {
   "cell_type": "code",
   "execution_count": 8,
   "id": "868d6d42-4239-4cde-8be6-01338d0dd013",
   "metadata": {},
   "outputs": [
    {
     "name": "stdout",
     "output_type": "stream",
     "text": [
      "1\n",
      "End\n",
      "2\n",
      "End\n",
      "3\n",
      "End\n",
      "4\n",
      "End\n",
      "5\n",
      "End\n",
      "6\n",
      "End\n",
      "7\n",
      "End\n",
      "8\n",
      "End\n",
      "9\n",
      "End\n",
      "10\n",
      "End\n"
     ]
    }
   ],
   "source": [
    "x = 1\n",
    "while x <=10 :\n",
    "    print(x)\n",
    "    x += 1\n",
    "    print(\"End\")"
   ]
  },
  {
   "cell_type": "code",
   "execution_count": 15,
   "id": "ffe0f297-58a6-4536-b758-87b812982fab",
   "metadata": {},
   "outputs": [
    {
     "name": "stdout",
     "output_type": "stream",
     "text": [
      "0\n",
      "2\n",
      "4\n",
      "6\n",
      "8\n",
      "10\n",
      "12\n",
      "14\n",
      "16\n",
      "18\n",
      "20\n",
      "22\n",
      "24\n",
      "26\n",
      "28\n",
      "30\n",
      "32\n",
      "34\n",
      "36\n",
      "38\n",
      "40\n",
      "42\n",
      "44\n",
      "46\n",
      "48\n",
      "50\n",
      "52\n",
      "54\n",
      "56\n",
      "58\n",
      "60\n",
      "62\n",
      "64\n",
      "66\n",
      "68\n",
      "70\n",
      "72\n",
      "74\n",
      "76\n",
      "78\n",
      "80\n",
      "82\n",
      "84\n",
      "86\n",
      "88\n",
      "90\n",
      "92\n",
      "94\n",
      "96\n",
      "98\n",
      "100\n"
     ]
    }
   ],
   "source": [
    "# Write python program to display even numbers 1 to 100 \n",
    "x = 0\n",
    "while x >= 0 and x <= 100:\n",
    "    print(x)\n",
    "    x+=2"
   ]
  },
  {
   "cell_type": "code",
   "execution_count": 1,
   "id": "a22cfb42-b736-436f-afb7-e4c86fd6b0cb",
   "metadata": {},
   "outputs": [
    {
     "name": "stdout",
     "output_type": "stream",
     "text": [
      "1\n",
      "2\n",
      "3\n",
      "4\n",
      "No 10 rs notes are available\n"
     ]
    }
   ],
   "source": [
    "notes = 5\n",
    "i = 1\n",
    "while i <notes:\n",
    "    print(i)\n",
    "    i += 1\n",
    "else:\n",
    "    print(\"No 10 rs notes are available\")"
   ]
  },
  {
   "cell_type": "markdown",
   "id": "a8a3016f-3c71-48de-ac42-5239f3f9ab0f",
   "metadata": {},
   "source": [
    "# Indexing "
   ]
  },
  {
   "cell_type": "code",
   "execution_count": 4,
   "id": "afd2f950-1a78-44bc-a8f0-56052d40eb62",
   "metadata": {},
   "outputs": [
    {
     "data": {
      "text/plain": [
       "7"
      ]
     },
     "execution_count": 4,
     "metadata": {},
     "output_type": "execute_result"
    }
   ],
   "source": [
    "B = \"Bhimrao\"\n",
    "len(B)"
   ]
  },
  {
   "cell_type": "code",
   "execution_count": 9,
   "id": "a322ccea-3adb-4097-b364-f843a269a6ae",
   "metadata": {},
   "outputs": [
    {
     "data": {
      "text/plain": [
       "'r'"
      ]
     },
     "execution_count": 9,
     "metadata": {},
     "output_type": "execute_result"
    }
   ],
   "source": [
    "B[4]"
   ]
  },
  {
   "cell_type": "code",
   "execution_count": 10,
   "id": "63695950-fc81-42d7-9e84-6b475a55b95b",
   "metadata": {},
   "outputs": [
    {
     "data": {
      "text/plain": [
       "'r'"
      ]
     },
     "execution_count": 10,
     "metadata": {},
     "output_type": "execute_result"
    }
   ],
   "source": [
    "B[4:5]"
   ]
  },
  {
   "cell_type": "code",
   "execution_count": 11,
   "id": "13376949-ac78-4641-82b6-5a7680e866a8",
   "metadata": {},
   "outputs": [],
   "source": [
    "C = \"Bhimrao Pawar\""
   ]
  },
  {
   "cell_type": "code",
   "execution_count": 12,
   "id": "7adc5f76-75f9-4e8f-98d7-7ef841206642",
   "metadata": {},
   "outputs": [
    {
     "data": {
      "text/plain": [
       "'Pawar'"
      ]
     },
     "execution_count": 12,
     "metadata": {},
     "output_type": "execute_result"
    }
   ],
   "source": [
    "C[8:13]"
   ]
  },
  {
   "cell_type": "code",
   "execution_count": 16,
   "id": "da85f0a6-4d14-4faa-9f2d-42d2acc241a0",
   "metadata": {},
   "outputs": [
    {
     "data": {
      "text/plain": [
       "'Pawar'"
      ]
     },
     "execution_count": 16,
     "metadata": {},
     "output_type": "execute_result"
    }
   ],
   "source": [
    "C[-5:]# Negative indexing "
   ]
  },
  {
   "cell_type": "code",
   "execution_count": 44,
   "id": "6dfde977-bd2b-472b-925f-84eb7b3943ae",
   "metadata": {},
   "outputs": [
    {
     "data": {
      "text/plain": [
       "' Pawar'"
      ]
     },
     "execution_count": 44,
     "metadata": {},
     "output_type": "execute_result"
    }
   ],
   "source": [
    "C[-6:] # Negative indexing "
   ]
  },
  {
   "cell_type": "code",
   "execution_count": 45,
   "id": "e802fe02-ce40-45aa-884f-0e9e18325888",
   "metadata": {},
   "outputs": [
    {
     "data": {
      "text/plain": [
       "'Bhimrao Pawa'"
      ]
     },
     "execution_count": 45,
     "metadata": {},
     "output_type": "execute_result"
    }
   ],
   "source": [
    "C[-13:-1] # Negative indexing "
   ]
  },
  {
   "cell_type": "code",
   "execution_count": 46,
   "id": "7bf6bb21-09ea-4ab8-977f-57cdee274371",
   "metadata": {},
   "outputs": [
    {
     "data": {
      "text/plain": [
       "'Bhimrao Pawar'"
      ]
     },
     "execution_count": 46,
     "metadata": {},
     "output_type": "execute_result"
    }
   ],
   "source": [
    "C[-13:] # Negative indexing "
   ]
  },
  {
   "cell_type": "code",
   "execution_count": 47,
   "id": "57430416-334b-4c91-9bc2-a9f466a579e8",
   "metadata": {},
   "outputs": [
    {
     "data": {
      "text/plain": [
       "'Bhimrao Pawar'"
      ]
     },
     "execution_count": 47,
     "metadata": {},
     "output_type": "execute_result"
    }
   ],
   "source": [
    "C[:]"
   ]
  },
  {
   "cell_type": "code",
   "execution_count": 24,
   "id": "55bdb517-bbe8-4357-acf9-f31fa375736e",
   "metadata": {},
   "outputs": [
    {
     "data": {
      "text/plain": [
       "'B'"
      ]
     },
     "execution_count": 24,
     "metadata": {},
     "output_type": "execute_result"
    }
   ],
   "source": [
    "C[:1]"
   ]
  },
  {
   "cell_type": "code",
   "execution_count": 48,
   "id": "8512e25c-9994-45e6-9612-1a63cb5bcd94",
   "metadata": {},
   "outputs": [
    {
     "data": {
      "text/plain": [
       "'Bhimrao Pawar'"
      ]
     },
     "execution_count": 48,
     "metadata": {},
     "output_type": "execute_result"
    }
   ],
   "source": [
    "C[::1] #  indexing steps"
   ]
  },
  {
   "cell_type": "code",
   "execution_count": 25,
   "id": "ec2f5d20-588e-4f01-b33e-58e0f45ce77b",
   "metadata": {},
   "outputs": [
    {
     "data": {
      "text/plain": [
       "'Bhimrao Pawar'"
      ]
     },
     "execution_count": 25,
     "metadata": {},
     "output_type": "execute_result"
    }
   ],
   "source": [
    "C[:]"
   ]
  },
  {
   "cell_type": "code",
   "execution_count": 26,
   "id": "53ec11e6-8157-4eba-aff3-297990181671",
   "metadata": {},
   "outputs": [
    {
     "data": {
      "text/plain": [
       "'Bhimrao'"
      ]
     },
     "execution_count": 26,
     "metadata": {},
     "output_type": "execute_result"
    }
   ],
   "source": [
    "C[:7]"
   ]
  },
  {
   "cell_type": "code",
   "execution_count": 31,
   "id": "a249a5a4-6e37-45a9-bc9a-de7336851baf",
   "metadata": {},
   "outputs": [
    {
     "data": {
      "text/plain": [
       "'rawaP oarmihB'"
      ]
     },
     "execution_count": 31,
     "metadata": {},
     "output_type": "execute_result"
    }
   ],
   "source": [
    "C[13::-1]  # Reversre direction "
   ]
  },
  {
   "cell_type": "code",
   "execution_count": 37,
   "id": "57658284-4e4a-4e0e-98de-4085ab6efe47",
   "metadata": {},
   "outputs": [
    {
     "data": {
      "text/plain": [
       "'rawaP oarmihB'"
      ]
     },
     "execution_count": 37,
     "metadata": {},
     "output_type": "execute_result"
    }
   ],
   "source": [
    "C[::-1] Reversre direction "
   ]
  },
  {
   "cell_type": "code",
   "execution_count": 38,
   "id": "a07ee556-5cc9-44cd-b387-50b17e77e5ec",
   "metadata": {},
   "outputs": [
    {
     "data": {
      "text/plain": [
       "'Bhimrao Pawar'"
      ]
     },
     "execution_count": 38,
     "metadata": {},
     "output_type": "execute_result"
    }
   ],
   "source": [
    "C[::1] # Forword direction "
   ]
  },
  {
   "cell_type": "code",
   "execution_count": 36,
   "id": "ca2f85a9-0afd-4167-a3ba-610947e66cda",
   "metadata": {},
   "outputs": [
    {
     "data": {
      "text/plain": [
       "'rawaP '"
      ]
     },
     "execution_count": 36,
     "metadata": {},
     "output_type": "execute_result"
    }
   ],
   "source": [
    "C[13:6:-1] # Reverse Direction "
   ]
  },
  {
   "cell_type": "markdown",
   "id": "38a10bce-41ab-4f91-af42-471a430e1592",
   "metadata": {},
   "source": [
    "# For loop "
   ]
  },
  {
   "cell_type": "code",
   "execution_count": 55,
   "id": "eb9a0bcf-6e1c-4922-999e-0fe2262c7047",
   "metadata": {},
   "outputs": [
    {
     "name": "stdout",
     "output_type": "stream",
     "text": [
      "B\n",
      "h\n",
      "i\n",
      "m\n",
      "r\n",
      "a\n",
      "o\n",
      " \n",
      "P\n",
      "a\n",
      "w\n",
      "a\n",
      "r\n"
     ]
    }
   ],
   "source": [
    "C = \"Bhimrao Pawar\"\n",
    "for i in C :\n",
    "    print(i)"
   ]
  },
  {
   "cell_type": "code",
   "execution_count": 56,
   "id": "970ef78b-cbb0-4a28-bce8-d1c74776de89",
   "metadata": {},
   "outputs": [
    {
     "name": "stdout",
     "output_type": "stream",
     "text": [
      "B\n",
      "h\n",
      "i\n",
      "I got M\n",
      "m\n",
      "r\n",
      "a\n",
      "o\n",
      " \n",
      "P\n",
      "a\n",
      "w\n",
      "a\n",
      "r\n"
     ]
    }
   ],
   "source": [
    "C = \"Bhimrao Pawar\"\n",
    "for i in C :\n",
    "    if i == \"m\":\n",
    "        print(\"I got M\")\n",
    "    print(i)"
   ]
  },
  {
   "cell_type": "code",
   "execution_count": 57,
   "id": "4aa1e152-4b79-4386-adeb-093f18f63e0f",
   "metadata": {},
   "outputs": [
    {
     "name": "stdout",
     "output_type": "stream",
     "text": [
      "2\n",
      "3\n",
      "4\n",
      "5\n",
      "6\n",
      "7\n",
      "8\n",
      "9\n",
      "10\n"
     ]
    }
   ],
   "source": [
    "X = [2,3,4,5,6,7,8,9,10]\n",
    "for i in X:\n",
    "    print(i)"
   ]
  },
  {
   "cell_type": "code",
   "execution_count": 52,
   "id": "fc5ddf32-aa31-427d-8930-d64ede6cf2e0",
   "metadata": {},
   "outputs": [
    {
     "name": "stdout",
     "output_type": "stream",
     "text": [
      "B\n",
      "h\n",
      "i\n",
      "m\n",
      " I got String\n",
      "r\n",
      "a\n",
      "o\n",
      " \n",
      "P\n",
      "a\n",
      "w\n",
      "a\n",
      " I got String\n",
      "r\n"
     ]
    }
   ],
   "source": [
    "for i in C :\n",
    "    if i == \"r\":\n",
    "        print(\" I got String\")\n",
    "    print(i)"
   ]
  },
  {
   "cell_type": "code",
   "execution_count": null,
   "id": "6a193d5f-7e99-4787-99e5-98baceac19bc",
   "metadata": {},
   "outputs": [],
   "source": []
  },
  {
   "cell_type": "code",
   "execution_count": 70,
   "id": "b4914658-a912-46c8-9d98-c46d11c96480",
   "metadata": {},
   "outputs": [
    {
     "name": "stdout",
     "output_type": "stream",
     "text": [
      "B\n",
      "h\n",
      "i\n",
      "m\n",
      "a\n",
      "o\n",
      " \n",
      "P\n",
      "a\n",
      "w\n",
      "a\n",
      "this is the else condition\n"
     ]
    }
   ],
   "source": [
    "for i in C :\n",
    "    if i =='r':\n",
    "        continue   # Contiue is the skip particular iteration  \n",
    "    print(i)\n",
    "else:\n",
    "    if i =='P':\n",
    "        print(\"last name first char\")\n",
    "    print(\"this is the else condition\")"
   ]
  },
  {
   "cell_type": "code",
   "execution_count": 71,
   "id": "6c803f0b-541b-42e8-980e-b4095dde4aba",
   "metadata": {},
   "outputs": [
    {
     "name": "stdout",
     "output_type": "stream",
     "text": [
      "B\n",
      "h\n",
      "i\n"
     ]
    }
   ],
   "source": [
    "for i in C :\n",
    "    if i =='m':\n",
    "        break    # Break is stop the iterations\n",
    "    print(i)\n",
    "else:\n",
    "    if i =='P':\n",
    "        print(\"last name first char\")\n",
    "    print(\"this is the else condition\")"
   ]
  },
  {
   "cell_type": "code",
   "execution_count": 72,
   "id": "f4505374-fbb1-419e-8725-477942e01b27",
   "metadata": {},
   "outputs": [],
   "source": [
    "s = \"ineuron\"       # remove all n from the given s \n",
    "ss =\"\"\n",
    "for i in range(len(s)):\n",
    "    if s[i] ==\"n\":\n",
    "        continue\n",
    "\n",
    "    else:\n",
    "        ss = ss + s[i]"
   ]
  },
  {
   "cell_type": "code",
   "execution_count": 73,
   "id": "536b51c8-bc10-47f4-8d23-d505501d5ac0",
   "metadata": {},
   "outputs": [
    {
     "data": {
      "text/plain": [
       "'ieuro'"
      ]
     },
     "execution_count": 73,
     "metadata": {},
     "output_type": "execute_result"
    }
   ],
   "source": [
    "ss"
   ]
  },
  {
   "cell_type": "code",
   "execution_count": 74,
   "id": "35dbee2e-e782-4b88-9302-6177ad2ad6ce",
   "metadata": {},
   "outputs": [
    {
     "data": {
      "text/plain": [
       "7"
      ]
     },
     "execution_count": 74,
     "metadata": {},
     "output_type": "execute_result"
    }
   ],
   "source": [
    "len(s)"
   ]
  },
  {
   "cell_type": "markdown",
   "id": "be396bdf-f1e2-4c2b-9307-14ee295e12ec",
   "metadata": {},
   "source": [
    "# Pattern draw "
   ]
  },
  {
   "cell_type": "code",
   "execution_count": 75,
   "id": "61f5f0b1-6eae-42a3-b343-1f703dcbece0",
   "metadata": {},
   "outputs": [
    {
     "name": "stdout",
     "output_type": "stream",
     "text": [
      "+ \n",
      "+ + \n",
      "+ + + \n",
      "+ + + + \n",
      "+ + + + + \n",
      "+ + + + + + \n",
      "+ + + + + + + \n"
     ]
    }
   ],
   "source": [
    "n = 7\n",
    "for i in range(0,n):\n",
    "    for j in range(0, i + 1):\n",
    "        print(\"+ \", end = \"\")\n",
    "    print(\"\\r\")"
   ]
  },
  {
   "cell_type": "code",
   "execution_count": 143,
   "id": "184e00bb-edcb-41a7-a073-dec95f4b5aba",
   "metadata": {},
   "outputs": [
    {
     "name": "stdout",
     "output_type": "stream",
     "text": [
      "        * \n",
      "      * * * \n",
      "    * * * * * \n",
      "  * * * * * * * \n",
      "* * * * * * * * * \n"
     ]
    }
   ],
   "source": [
    "n = 5\n",
    "for i in range(1, n+1):\n",
    "    for j in range(n - i):\n",
    "        print(' ', end=' ')\n",
    "    for k in range(2 * i - 1):\n",
    "        print('*', end=' ')\n",
    "    print()"
   ]
  },
  {
   "cell_type": "code",
   "execution_count": 144,
   "id": "abe50eb9-ea4d-4aa3-8993-fd8fb5cda10b",
   "metadata": {},
   "outputs": [
    {
     "name": "stdout",
     "output_type": "stream",
     "text": [
      "        * \n",
      "      *   * \n",
      "    *       * \n",
      "  *           * \n",
      "* * * * * * * * * \n"
     ]
    }
   ],
   "source": [
    "# Q Hollow Pyramid Pattern In Python\n",
    "n = 5\n",
    "for i in range(1, n+1):\n",
    "    # printing spaces\n",
    "    for j in range(n - i):\n",
    "        print(' ', end=' ')\n",
    "\n",
    "    # printing stars\n",
    "    for k in range(2 * i - 1):\n",
    "        # print star at start and end of the row\n",
    "        if k == 0 or k == 2 * i - 2:\n",
    "            print('*', end=' ')\n",
    "        else:\n",
    "            if i == n:\n",
    "                print('*', end=' ')\n",
    "            else:\n",
    "                print(' ', end=' ')\n",
    "    print()"
   ]
  },
  {
   "cell_type": "code",
   "execution_count": 87,
   "id": "e7afe4bd-434c-45e0-bc1a-9b777b8eadc5",
   "metadata": {},
   "outputs": [
    {
     "name": "stdout",
     "output_type": "stream",
     "text": [
      "Enter a number of rows required : 9\n"
     ]
    },
    {
     "name": "stdout",
     "output_type": "stream",
     "text": [
      "*****************\n",
      " ***************\n",
      "  *************\n",
      "   ***********\n",
      "    *********\n",
      "     *******\n",
      "      *****\n",
      "       ***\n",
      "        *\n"
     ]
    }
   ],
   "source": [
    "n = int(input(\"Enter a number of rows required :\"))\n",
    "for i in range(n,0,-1):\n",
    "    for j in range(n-i):\n",
    "        print(\" \" , end=\"\")\n",
    "    for j in range(2*i-1):\n",
    "        print('*', end='')\n",
    "    print()"
   ]
  },
  {
   "cell_type": "code",
   "execution_count": 108,
   "id": "f0776cfb-1af2-40eb-aa2e-57866785b075",
   "metadata": {},
   "outputs": [
    {
     "name": "stdout",
     "output_type": "stream",
     "text": [
      "*********\n",
      " *******\n",
      "  *****\n",
      "   ***\n",
      "    *\n"
     ]
    }
   ],
   "source": [
    "n = 5  # or any value you want\n",
    "\n",
    "for i in range(n, 0, -1):  # Corrected the step value to -1\n",
    "    for j in range(n-i):   # Changed the range for spacing\n",
    "        print(\" \", end=\"\")\n",
    "    for j in range(2*i-1):  # Corrected the range for asterisks\n",
    "        print(\"*\", end=\"\")\n",
    "    print()\n"
   ]
  },
  {
   "cell_type": "code",
   "execution_count": 112,
   "id": "6be77ad5-ffb2-4b30-a846-a17bb0c06732",
   "metadata": {},
   "outputs": [
    {
     "name": "stdout",
     "output_type": "stream",
     "text": [
      "*  *  *  *  *  \n",
      "*  *  *  *  *  \n",
      "*  *  *  *  *  \n",
      "*  *  *  *  *  \n",
      "*  *  *  *  *  \n"
     ]
    }
   ],
   "source": [
    "# Create a square pattern \n",
    "# count the row \n",
    "rows = 5\n",
    "for i in range(0,5,1):\n",
    "    for j in range(0,5):\n",
    "        print(\"*\",end=\"  \")\n",
    "    print()"
   ]
  },
  {
   "cell_type": "code",
   "execution_count": 116,
   "id": "ab12cc01-b084-4fff-86ec-b53097fa7ba2",
   "metadata": {},
   "outputs": [
    {
     "name": "stdout",
     "output_type": "stream",
     "text": [
      "*  *  *  *  *  \n",
      "*           *  \n",
      "*           *  \n",
      "*           *  \n",
      "*  *  *  *  *  \n"
     ]
    }
   ],
   "source": [
    "# Create empty square \n",
    "rows=5 \n",
    "for i in range(0,rows,1):\n",
    "    for j in range(rows):\n",
    "        if i == 0 or i ==rows-1 or j==0 or j==rows-1:\n",
    "            print(\"*\" ,end=\"  \")\n",
    "        else:\n",
    "            print(\" \" , end=\"  \")\n",
    "    print()"
   ]
  },
  {
   "cell_type": "code",
   "execution_count": 142,
   "id": "761dcf63-9ec1-4567-b34c-9f09fb7edf5c",
   "metadata": {},
   "outputs": [
    {
     "name": "stdout",
     "output_type": "stream",
     "text": [
      "* \n",
      "* * \n",
      "*   * \n",
      "*     * \n",
      "*       * \n",
      "* * * * * * \n"
     ]
    }
   ],
   "source": [
    "# Hallow tringle Star Pattern\n",
    "n = 6\n",
    "for i in range(1, n+1):\n",
    "    for j in range(i):\n",
    "        # print star only at start and end of the row\n",
    "        if j == 0 or j == i-1:\n",
    "            print('*', end=' ')\n",
    "        # print only star if it's last row\n",
    "        else:\n",
    "            if i != n:\n",
    "                print('  ', end='')\n",
    "            else:\n",
    "                print('*', end=' ')\n",
    "    print()"
   ]
  },
  {
   "cell_type": "code",
   "execution_count": 118,
   "id": "55eb6d26-1d54-4ab0-9572-d01f0cd445a1",
   "metadata": {},
   "outputs": [
    {
     "name": "stdout",
     "output_type": "stream",
     "text": [
      "* \n",
      "* * \n",
      "* * * \n",
      "* * * * \n",
      "* * * * * \n"
     ]
    }
   ],
   "source": [
    "# left triangle \n",
    "rows = 5 \n",
    "for i in range(rows):\n",
    "    for j in range(i+1):\n",
    "        print(\"*\",end=\" \")\n",
    "    print()"
   ]
  },
  {
   "cell_type": "code",
   "execution_count": 121,
   "id": "be52886d-b62e-4cbe-9f31-96ea281990cd",
   "metadata": {},
   "outputs": [
    {
     "name": "stdout",
     "output_type": "stream",
     "text": [
      "        + \n",
      "      + + \n",
      "    + + + \n",
      "  + + + + \n",
      "+ + + + + \n"
     ]
    }
   ],
   "source": [
    "# write triangle \n",
    "rows = 5 \n",
    "for i in range(rows):\n",
    "    for j in range(1,rows -i):\n",
    "        print(\" \", end=\" \")\n",
    "\n",
    "    for k in range(0, i + 1):\n",
    "        print(\"+\", end=\" \")\n",
    "    print()"
   ]
  },
  {
   "cell_type": "code",
   "execution_count": 122,
   "id": "f8b0ea07-a2c4-4ef6-9e86-d646ab912ea1",
   "metadata": {},
   "outputs": [
    {
     "name": "stdout",
     "output_type": "stream",
     "text": [
      "      * \n",
      "      * * \n",
      "      * * * \n",
      "      * * * * \n",
      "      * * * * * \n"
     ]
    }
   ],
   "source": [
    "# left tringle \n",
    "size = 5\n",
    "for i in range(size):\n",
    "    for j in range(1, size - 1):\n",
    "        print(\" \", end=\" \")\n",
    "    for k in range(0, i + 1):\n",
    "        print(\"*\", end=\" \")\n",
    "    print()"
   ]
  },
  {
   "cell_type": "code",
   "execution_count": 123,
   "id": "1d6fffb1-0210-4bf9-b187-7c1e83d83f61",
   "metadata": {},
   "outputs": [
    {
     "name": "stdout",
     "output_type": "stream",
     "text": [
      "* * * * * \n",
      "* * * * \n",
      "* * * \n",
      "* * \n",
      "* \n"
     ]
    }
   ],
   "source": [
    "# left down Tringle \n",
    "rows = 5 \n",
    "for i in range(rows):\n",
    "    for j in range(rows - i):\n",
    "        print(\"*\" ,end=\" \")\n",
    "    print()\n",
    "    "
   ]
  },
  {
   "cell_type": "code",
   "execution_count": 125,
   "id": "f4c0324d-abf2-4c86-8038-62e7492b6eec",
   "metadata": {},
   "outputs": [
    {
     "name": "stdout",
     "output_type": "stream",
     "text": [
      "* * * * * \n",
      "  * * * * \n",
      "    * * * \n",
      "      * * \n",
      "        * \n"
     ]
    }
   ],
   "source": [
    "# Right down tringles tringle \n",
    "rows = 5\n",
    "for i in range(rows):\n",
    "    for j in range(rows):\n",
    "        if j>=i :\n",
    "            print(\"*\", end=\" \")\n",
    "        else:\n",
    "            print(\" \" ,end=\" \")\n",
    "    print()"
   ]
  },
  {
   "cell_type": "code",
   "execution_count": 146,
   "id": "3656190c-66cc-4647-bfb5-db4490eba185",
   "metadata": {},
   "outputs": [
    {
     "name": "stdout",
     "output_type": "stream",
     "text": [
      "* * * * * * * * * \n",
      "  * * * * * * * \n",
      "    * * * * * \n",
      "      * * * \n",
      "        * \n",
      "      * * * \n",
      "    * * * * * \n",
      "  * * * * * * * \n",
      "* * * * * * * * * \n"
     ]
    }
   ],
   "source": [
    "n = 5 \n",
    "# downward pyramid\n",
    "for i in range(n-1):\n",
    "    for j in range(i):\n",
    "        print(' ', end=' ')\n",
    "    for k in range(2*(n-i)-1):\n",
    "        print('*', end=' ')\n",
    "    print()\n",
    "# upward pyramid\n",
    "for i in range(n):\n",
    "    for j in range(n-i-1):\n",
    "        print(' ', end=' ')\n",
    "    for k in range(2*i+1):\n",
    "        print('*', end=' ')\n",
    "    print()"
   ]
  },
  {
   "cell_type": "markdown",
   "id": "44fc7be4-e8a1-471c-b03e-bb596eb6ed96",
   "metadata": {},
   "source": [
    "# Strings"
   ]
  },
  {
   "cell_type": "code",
   "execution_count": 147,
   "id": "0e854595-2e0a-4d7c-98de-e827effa069a",
   "metadata": {},
   "outputs": [],
   "source": [
    "c = \"This is my first class for full statck data science that's why i have joined this class \""
   ]
  },
  {
   "cell_type": "code",
   "execution_count": 148,
   "id": "d334f8bc-fc14-42ce-b6a0-fe8eb5c53c34",
   "metadata": {},
   "outputs": [
    {
     "data": {
      "text/plain": [
       "\"This is my first class for full statck data science that's why i have joined this class \""
      ]
     },
     "execution_count": 148,
     "metadata": {},
     "output_type": "execute_result"
    }
   ],
   "source": [
    "c"
   ]
  },
  {
   "cell_type": "code",
   "execution_count": 4,
   "id": "c15e7448-5214-497d-9261-6b0a24852100",
   "metadata": {},
   "outputs": [],
   "source": [
    "d = \"This is full stack class\""
   ]
  },
  {
   "cell_type": "code",
   "execution_count": 5,
   "id": "72106b2a-5835-4f26-8822-63015e7a0dfc",
   "metadata": {},
   "outputs": [
    {
     "data": {
      "text/plain": [
       "'ssalc kcats lluf si sihT'"
      ]
     },
     "execution_count": 5,
     "metadata": {},
     "output_type": "execute_result"
    }
   ],
   "source": [
    "d[::-1]"
   ]
  },
  {
   "cell_type": "code",
   "execution_count": 6,
   "id": "23bfd861-045e-4273-b485-f9451a8a7944",
   "metadata": {},
   "outputs": [
    {
     "name": "stdout",
     "output_type": "stream",
     "text": [
      "This is full stack class"
     ]
    }
   ],
   "source": [
    "for i in d:\n",
    "    print(i,end=\"\")"
   ]
  },
  {
   "cell_type": "code",
   "execution_count": 7,
   "id": "a457e41d-87cc-4ba7-b762-7fc65d96f098",
   "metadata": {},
   "outputs": [],
   "source": [
    " # string is the immutable \n",
    "# i.e this is not going to be manipulated but the list is mutable \n"
   ]
  },
  {
   "cell_type": "code",
   "execution_count": 8,
   "id": "36b5ef6a-ae0a-4963-a31d-c818c4ad6b84",
   "metadata": {},
   "outputs": [
    {
     "data": {
      "text/plain": [
       "'Bhimrao Pawar'"
      ]
     },
     "execution_count": 8,
     "metadata": {},
     "output_type": "execute_result"
    }
   ],
   "source": [
    "\"Bhimrao\"  +  \" Pawar\""
   ]
  },
  {
   "cell_type": "code",
   "execution_count": 9,
   "id": "992c500a-6a4d-48b6-83c6-95f6a4bf7898",
   "metadata": {},
   "outputs": [
    {
     "data": {
      "text/plain": [
       "'Bhim3'"
      ]
     },
     "execution_count": 9,
     "metadata": {},
     "output_type": "execute_result"
    }
   ],
   "source": [
    "\"Bhim\" + str(3)"
   ]
  },
  {
   "cell_type": "code",
   "execution_count": 10,
   "id": "ea57dfff-2ccc-4691-a449-abeec669f255",
   "metadata": {},
   "outputs": [
    {
     "ename": "TypeError",
     "evalue": "can only concatenate str (not \"list\") to str",
     "output_type": "error",
     "traceback": [
      "\u001b[1;31m---------------------------------------------------------------------------\u001b[0m",
      "\u001b[1;31mTypeError\u001b[0m                                 Traceback (most recent call last)",
      "Cell \u001b[1;32mIn[10], line 1\u001b[0m\n\u001b[1;32m----> 1\u001b[0m \u001b[38;5;124m\"\u001b[39m\u001b[38;5;124mBhimrao\u001b[39m\u001b[38;5;124m\"\u001b[39m \u001b[38;5;241m+\u001b[39m [\u001b[38;5;124m\"\u001b[39m\u001b[38;5;124mPawar\u001b[39m\u001b[38;5;124m\"\u001b[39m , \u001b[38;5;241m123\u001b[39m]\n",
      "\u001b[1;31mTypeError\u001b[0m: can only concatenate str (not \"list\") to str"
     ]
    }
   ],
   "source": [
    "\"Bhimrao\" + [\"Pawar\" , 123]"
   ]
  },
  {
   "cell_type": "code",
   "execution_count": 13,
   "id": "5f351137-c0b2-440f-a32a-8729ff55d508",
   "metadata": {},
   "outputs": [
    {
     "data": {
      "text/plain": [
       "'Bhimrao Bhimrao Bhimrao Bhimrao '"
      ]
     },
     "execution_count": 13,
     "metadata": {},
     "output_type": "execute_result"
    }
   ],
   "source": [
    "\"Bhimrao \" * 4"
   ]
  },
  {
   "cell_type": "code",
   "execution_count": 14,
   "id": "b7552d07-c780-47e0-9d2d-26dc69bcd351",
   "metadata": {},
   "outputs": [],
   "source": [
    "B = \" Bhimrao\""
   ]
  },
  {
   "cell_type": "code",
   "execution_count": 16,
   "id": "cf41a855-4005-42e9-9ec0-4c96f8e0cfba",
   "metadata": {},
   "outputs": [
    {
     "data": {
      "text/plain": [
       "4"
      ]
     },
     "execution_count": 16,
     "metadata": {},
     "output_type": "execute_result"
    }
   ],
   "source": [
    "B.find(\"m\")"
   ]
  },
  {
   "cell_type": "code",
   "execution_count": 17,
   "id": "f8fd69cc-2bae-48c9-a38f-286ae708134d",
   "metadata": {},
   "outputs": [],
   "source": [
    "s = \" my name is \""
   ]
  },
  {
   "cell_type": "code",
   "execution_count": null,
   "id": "f1d4711f-be82-414c-a4d8-3ec3a179d3d4",
   "metadata": {},
   "outputs": [],
   "source": []
  },
  {
   "cell_type": "code",
   "execution_count": 29,
   "id": "d3b8a182-3177-41bd-ad96-119108d15273",
   "metadata": {},
   "outputs": [
    {
     "name": "stdout",
     "output_type": "stream",
     "text": [
      "4\n",
      "5\n",
      "6\n",
      "7\n"
     ]
    }
   ],
   "source": [
    "b = s.find(\"name\")\n",
    "for i in range(len(\"name\")):\n",
    "    print(b+i)\n",
    "               "
   ]
  },
  {
   "cell_type": "code",
   "execution_count": 30,
   "id": "470d59a5-809a-41ae-9b87-528b4bf9ed6f",
   "metadata": {},
   "outputs": [
    {
     "data": {
      "text/plain": [
       "2"
      ]
     },
     "execution_count": 30,
     "metadata": {},
     "output_type": "execute_result"
    }
   ],
   "source": [
    "s.count(\"m\")"
   ]
  },
  {
   "cell_type": "code",
   "execution_count": 31,
   "id": "f83eed7d-25db-44e1-8f22-5198cd650d39",
   "metadata": {},
   "outputs": [],
   "source": [
    " s = \" this is not going to be manipulated but the list is mutable \""
   ]
  },
  {
   "cell_type": "code",
   "execution_count": 33,
   "id": "af467f35-65eb-446d-af43-cedb09a172b5",
   "metadata": {},
   "outputs": [
    {
     "data": {
      "text/plain": [
       "1"
      ]
     },
     "execution_count": 33,
     "metadata": {},
     "output_type": "execute_result"
    }
   ],
   "source": [
    "s.count(\"to\")"
   ]
  },
  {
   "cell_type": "code",
   "execution_count": 39,
   "id": "1c85ca10-2e4d-42be-8e03-e4c341cdf3b1",
   "metadata": {},
   "outputs": [
    {
     "data": {
      "text/plain": [
       "[' this is not going to be manipulated but the list is mutable ']"
      ]
     },
     "execution_count": 39,
     "metadata": {},
     "output_type": "execute_result"
    }
   ],
   "source": [
    "s.split(sep=\",\")"
   ]
  },
  {
   "cell_type": "code",
   "execution_count": 40,
   "id": "77d0c2cb-666c-4249-b4c5-ce8fe359f31a",
   "metadata": {},
   "outputs": [
    {
     "data": {
      "text/plain": [
       "['this',\n",
       " 'is',\n",
       " 'not',\n",
       " 'going',\n",
       " 'to',\n",
       " 'be',\n",
       " 'manipulated',\n",
       " 'but',\n",
       " 'the',\n",
       " 'list',\n",
       " 'is',\n",
       " 'mutable']"
      ]
     },
     "execution_count": 40,
     "metadata": {},
     "output_type": "execute_result"
    }
   ],
   "source": [
    "s.split()"
   ]
  },
  {
   "cell_type": "code",
   "execution_count": 41,
   "id": "fff0554a-0e5b-4337-a959-254c13f54722",
   "metadata": {},
   "outputs": [
    {
     "data": {
      "text/plain": [
       "[' this is ', 'ot goi', 'g to be ma', 'ipulated but the list is mutable ']"
      ]
     },
     "execution_count": 41,
     "metadata": {},
     "output_type": "execute_result"
    }
   ],
   "source": [
    "s.split(\"n\")"
   ]
  },
  {
   "cell_type": "code",
   "execution_count": 47,
   "id": "17f52524-718c-468f-abdb-0773676e86ee",
   "metadata": {},
   "outputs": [
    {
     "data": {
      "text/plain": [
       "[' this is not going to be manipulated but the list is mutable ']"
      ]
     },
     "execution_count": 47,
     "metadata": {},
     "output_type": "execute_result"
    }
   ],
   "source": [
    "s.split(sep=\"  \")"
   ]
  },
  {
   "cell_type": "code",
   "execution_count": 48,
   "id": "dc8aa061-80a1-4090-975d-a28101a5e57c",
   "metadata": {},
   "outputs": [
    {
     "data": {
      "text/plain": [
       "' THIS IS NOT GOING TO BE MANIPULATED BUT THE LIST IS MUTABLE '"
      ]
     },
     "execution_count": 48,
     "metadata": {},
     "output_type": "execute_result"
    }
   ],
   "source": [
    "s.upper()"
   ]
  },
  {
   "cell_type": "code",
   "execution_count": 49,
   "id": "371e3801-db42-4384-a734-55832ca45b24",
   "metadata": {},
   "outputs": [
    {
     "data": {
      "text/plain": [
       "' this is not going to be manipulated but the list is mutable '"
      ]
     },
     "execution_count": 49,
     "metadata": {},
     "output_type": "execute_result"
    }
   ],
   "source": [
    "s.lower()"
   ]
  },
  {
   "cell_type": "code",
   "execution_count": 50,
   "id": "144783d4-b46f-405c-98c5-97fb02292612",
   "metadata": {},
   "outputs": [
    {
     "data": {
      "text/plain": [
       "' THIS IS NOT GOING TO BE MANIPULATED BUT THE LIST IS MUTABLE '"
      ]
     },
     "execution_count": 50,
     "metadata": {},
     "output_type": "execute_result"
    }
   ],
   "source": [
    "s.swapcase()"
   ]
  },
  {
   "cell_type": "code",
   "execution_count": 51,
   "id": "553ed75c-758f-41cc-ae97-a39c3529ebb8",
   "metadata": {},
   "outputs": [
    {
     "data": {
      "text/plain": [
       "True"
      ]
     },
     "execution_count": 51,
     "metadata": {},
     "output_type": "execute_result"
    }
   ],
   "source": [
    "s.islower()"
   ]
  },
  {
   "cell_type": "code",
   "execution_count": 52,
   "id": "ef7b6fa6-8f5f-4355-ae96-603ba946171d",
   "metadata": {},
   "outputs": [
    {
     "data": {
      "text/plain": [
       "'  t h i s   i s   n o t   g o i n g   t o   b e   m a n i p u l a t e d   b u t   t h e   l i s t   i s   m u t a b l e  '"
      ]
     },
     "execution_count": 52,
     "metadata": {},
     "output_type": "execute_result"
    }
   ],
   "source": [
    "\" \".join(s)"
   ]
  },
  {
   "cell_type": "code",
   "execution_count": 54,
   "id": "4b9f038c-617e-4047-9a58-f063e1040364",
   "metadata": {},
   "outputs": [
    {
     "name": "stdout",
     "output_type": "stream",
     "text": [
      " elbatum si tsil eht tub detalupinam eb ot gniog ton si siht "
     ]
    }
   ],
   "source": [
    "for i in reversed(s):\n",
    "    print(i,end=\"\")"
   ]
  },
  {
   "cell_type": "code",
   "execution_count": 57,
   "id": "68f90a0c-8188-42c7-9b33-09174df23aa5",
   "metadata": {},
   "outputs": [],
   "source": [
    "c =\"    My Name is    \""
   ]
  },
  {
   "cell_type": "code",
   "execution_count": 58,
   "id": "60a22ff0-cca7-4b21-9c1a-e0b05290c921",
   "metadata": {},
   "outputs": [
    {
     "data": {
      "text/plain": [
       "'My Name is'"
      ]
     },
     "execution_count": 58,
     "metadata": {},
     "output_type": "execute_result"
    }
   ],
   "source": [
    "c.strip()"
   ]
  },
  {
   "cell_type": "code",
   "execution_count": 59,
   "id": "4eda2b5a-ef64-41ac-aaba-201e500590b7",
   "metadata": {},
   "outputs": [],
   "source": [
    "d = \"My name is     \""
   ]
  },
  {
   "cell_type": "code",
   "execution_count": 60,
   "id": "c8bb2726-595a-4529-b78d-b40dccb74778",
   "metadata": {},
   "outputs": [
    {
     "data": {
      "text/plain": [
       "'My name is     '"
      ]
     },
     "execution_count": 60,
     "metadata": {},
     "output_type": "execute_result"
    }
   ],
   "source": [
    "d.lstrip()"
   ]
  },
  {
   "cell_type": "code",
   "execution_count": 61,
   "id": "fc6fa92f-227b-4ff9-bccb-cf6592d07fb0",
   "metadata": {},
   "outputs": [
    {
     "data": {
      "text/plain": [
       "'My name is'"
      ]
     },
     "execution_count": 61,
     "metadata": {},
     "output_type": "execute_result"
    }
   ],
   "source": [
    "d.rstrip()"
   ]
  },
  {
   "cell_type": "code",
   "execution_count": 62,
   "id": "e2a09b13-efac-49bd-b8c3-d56519903eb2",
   "metadata": {},
   "outputs": [],
   "source": [
    "s = \"Bhimrao Pawar\""
   ]
  },
  {
   "cell_type": "code",
   "execution_count": 63,
   "id": "96978392-91e6-41ac-982b-293cc078a574",
   "metadata": {},
   "outputs": [
    {
     "data": {
      "text/plain": [
       "'bhimrao Pawar'"
      ]
     },
     "execution_count": 63,
     "metadata": {},
     "output_type": "execute_result"
    }
   ],
   "source": [
    "s.replace(\"B\",\"b\")"
   ]
  },
  {
   "cell_type": "code",
   "execution_count": 64,
   "id": "bbf6b279-227e-449f-ad48-0d4a552e578e",
   "metadata": {},
   "outputs": [
    {
     "data": {
      "text/plain": [
       "'Bhimrao Pawar'"
      ]
     },
     "execution_count": 64,
     "metadata": {},
     "output_type": "execute_result"
    }
   ],
   "source": [
    "s"
   ]
  },
  {
   "cell_type": "code",
   "execution_count": 65,
   "id": "8d6224f4-7b5f-4296-9e44-64ab822da455",
   "metadata": {},
   "outputs": [
    {
     "data": {
      "text/plain": [
       "'Bhimrav Pawar'"
      ]
     },
     "execution_count": 65,
     "metadata": {},
     "output_type": "execute_result"
    }
   ],
   "source": [
    "s.replace(\"o\",\"v\")"
   ]
  },
  {
   "cell_type": "code",
   "execution_count": 66,
   "id": "ad4f7619-75f5-4b1d-9fe5-40da11e7231e",
   "metadata": {},
   "outputs": [
    {
     "data": {
      "text/plain": [
       "'Bhimrao Pawar'"
      ]
     },
     "execution_count": 66,
     "metadata": {},
     "output_type": "execute_result"
    }
   ],
   "source": [
    "s"
   ]
  },
  {
   "cell_type": "code",
   "execution_count": 68,
   "id": "41d9827d-9418-48a6-aaae-020a58095a75",
   "metadata": {},
   "outputs": [
    {
     "name": "stdout",
     "output_type": "stream",
     "text": [
      "Bhimrao Pawar"
     ]
    }
   ],
   "source": [
    "for i in s:\n",
    "    print(i,end=\"\")"
   ]
  },
  {
   "cell_type": "code",
   "execution_count": 71,
   "id": "cc196c12-61c2-4366-8062-99d9c0925698",
   "metadata": {},
   "outputs": [
    {
     "name": "stdout",
     "output_type": "stream",
     "text": [
      "8\n",
      "9\n",
      "10\n",
      "11\n",
      "12\n"
     ]
    }
   ],
   "source": [
    "b = s.find(\"Pawar\")  # This is give the index of Pawar name index \n",
    "for i in range(len(\"Pawar\")):\n",
    "    print(b+i)\n"
   ]
  },
  {
   "cell_type": "code",
   "execution_count": 72,
   "id": "e15df77a-b1dd-4f4b-a780-5fc7a35b4333",
   "metadata": {},
   "outputs": [],
   "source": [
    "s = \"sudh\""
   ]
  },
  {
   "cell_type": "code",
   "execution_count": 74,
   "id": "3eeb7761-c031-4b94-8c4d-4abf02968ab9",
   "metadata": {},
   "outputs": [
    {
     "data": {
      "text/plain": [
       "'--------sudh--------'"
      ]
     },
     "execution_count": 74,
     "metadata": {},
     "output_type": "execute_result"
    }
   ],
   "source": [
    "s.center(20, \"-\")  "
   ]
  },
  {
   "cell_type": "code",
   "execution_count": 75,
   "id": "488fecdb-1259-4ff6-8514-0e4c2cc43c98",
   "metadata": {},
   "outputs": [
    {
     "data": {
      "text/plain": [
       "'bbbbbbbbsudhbbbbbbbb'"
      ]
     },
     "execution_count": 75,
     "metadata": {},
     "output_type": "execute_result"
    }
   ],
   "source": [
    "s.center(20,\"b\")"
   ]
  },
  {
   "cell_type": "code",
   "execution_count": 76,
   "id": "d68813d5-b220-4b8f-9a9c-8dfcaf2c17ea",
   "metadata": {},
   "outputs": [
    {
     "data": {
      "text/plain": [
       "'********sudh********'"
      ]
     },
     "execution_count": 76,
     "metadata": {},
     "output_type": "execute_result"
    }
   ],
   "source": [
    "s.center(20,\"*\")"
   ]
  },
  {
   "cell_type": "code",
   "execution_count": 77,
   "id": "111496de-93f1-467d-ad1d-b692bf032736",
   "metadata": {},
   "outputs": [
    {
     "data": {
      "text/plain": [
       "'@@@@@@@@sudh@@@@@@@@'"
      ]
     },
     "execution_count": 77,
     "metadata": {},
     "output_type": "execute_result"
    }
   ],
   "source": [
    "s.center(20,\"@\")"
   ]
  },
  {
   "cell_type": "code",
   "execution_count": 78,
   "id": "f3220e78-a2ce-4488-addf-8c82f55df5c1",
   "metadata": {},
   "outputs": [],
   "source": [
    "s = \"sudg\\tkumar\""
   ]
  },
  {
   "cell_type": "code",
   "execution_count": 79,
   "id": "9d0b1c81-4281-4943-89bd-568e9a7cbbf6",
   "metadata": {},
   "outputs": [
    {
     "data": {
      "text/plain": [
       "'sudg\\tkumar'"
      ]
     },
     "execution_count": 79,
     "metadata": {},
     "output_type": "execute_result"
    }
   ],
   "source": [
    "s"
   ]
  },
  {
   "cell_type": "code",
   "execution_count": 80,
   "id": "48fccfa1-022a-410d-bf61-0e58d259b1dc",
   "metadata": {},
   "outputs": [
    {
     "data": {
      "text/plain": [
       "'sudg    kumar'"
      ]
     },
     "execution_count": 80,
     "metadata": {},
     "output_type": "execute_result"
    }
   ],
   "source": [
    "s.expandtabs()"
   ]
  },
  {
   "cell_type": "code",
   "execution_count": 81,
   "id": "d96c180a-ba46-41ff-a3a7-945e9c543ea9",
   "metadata": {},
   "outputs": [
    {
     "data": {
      "text/plain": [
       "'SUDG\\tKUMAR'"
      ]
     },
     "execution_count": 81,
     "metadata": {},
     "output_type": "execute_result"
    }
   ],
   "source": [
    "s.upper()"
   ]
  },
  {
   "cell_type": "code",
   "execution_count": 82,
   "id": "a1285933-a8f0-4e3b-b084-624129a97d15",
   "metadata": {},
   "outputs": [],
   "source": [
    "a = \"We all are a part of full stack\""
   ]
  },
  {
   "cell_type": "code",
   "execution_count": 83,
   "id": "c0a47546-0a84-4e8a-ba30-1a24052deae9",
   "metadata": {},
   "outputs": [
    {
     "data": {
      "text/plain": [
       "'we all are a part of full stack'"
      ]
     },
     "execution_count": 83,
     "metadata": {},
     "output_type": "execute_result"
    }
   ],
   "source": [
    "a.lower()"
   ]
  },
  {
   "cell_type": "code",
   "execution_count": 84,
   "id": "eac33b07-1e54-4ba0-a9f0-40ed2fe1d50d",
   "metadata": {},
   "outputs": [
    {
     "data": {
      "text/plain": [
       "3"
      ]
     },
     "execution_count": 84,
     "metadata": {},
     "output_type": "execute_result"
    }
   ],
   "source": [
    "a.find(\"a\")"
   ]
  },
  {
   "cell_type": "code",
   "execution_count": 92,
   "id": "1e8ac4ca-cef8-4816-b2e0-98d2988178fa",
   "metadata": {},
   "outputs": [
    {
     "data": {
      "text/plain": [
       "5"
      ]
     },
     "execution_count": 92,
     "metadata": {},
     "output_type": "execute_result"
    }
   ],
   "source": [
    "a.count(\"a\")"
   ]
  },
  {
   "cell_type": "code",
   "execution_count": 98,
   "id": "f173ea62-b6e0-4b1f-a711-f336d6706165",
   "metadata": {},
   "outputs": [
    {
     "name": "stdout",
     "output_type": "stream",
     "text": [
      "3\n",
      "7\n",
      "11\n",
      "14\n",
      "28\n"
     ]
    }
   ],
   "source": [
    "b = a.find(\"a\")\n",
    "for i in range(len(a)):\n",
    "    if (a[i]==\"a\"):\n",
    "        print(i)"
   ]
  },
  {
   "cell_type": "code",
   "execution_count": 86,
   "id": "1a231619-6d79-4e76-bc67-cd254e2844aa",
   "metadata": {},
   "outputs": [
    {
     "data": {
      "text/plain": [
       "'We ineuronll ineuronre ineuron pineuronrt of full stineuronck'"
      ]
     },
     "execution_count": 86,
     "metadata": {},
     "output_type": "execute_result"
    }
   ],
   "source": [
    "a.replace(\"a\",\"ineuron\")"
   ]
  },
  {
   "cell_type": "code",
   "execution_count": 91,
   "id": "1974016f-b171-4de5-a8d8-9c411f976709",
   "metadata": {},
   "outputs": [
    {
     "data": {
      "text/plain": [
       "['W',\n",
       " 'e',\n",
       " ' ',\n",
       " 'a',\n",
       " 'l',\n",
       " 'l',\n",
       " ' ',\n",
       " 'a',\n",
       " 'r',\n",
       " 'e',\n",
       " ' ',\n",
       " 'a',\n",
       " ' ',\n",
       " 'p',\n",
       " 'a',\n",
       " 'r',\n",
       " 't',\n",
       " ' ',\n",
       " 'o',\n",
       " 'f',\n",
       " ' ',\n",
       " 'f',\n",
       " 'u',\n",
       " 'l',\n",
       " 'l',\n",
       " ' ',\n",
       " 's',\n",
       " 't',\n",
       " 'a',\n",
       " 'c',\n",
       " 'k']"
      ]
     },
     "execution_count": 91,
     "metadata": {},
     "output_type": "execute_result"
    }
   ],
   "source": [
    "list(a)"
   ]
  },
  {
   "cell_type": "code",
   "execution_count": 105,
   "id": "e558f469-8eb7-4887-a0ca-79b4fabeb614",
   "metadata": {},
   "outputs": [],
   "source": [
    "s = \"sudh\""
   ]
  },
  {
   "cell_type": "code",
   "execution_count": 101,
   "id": "d72d04fc-5904-4d4a-a432-4f2494f1f9ac",
   "metadata": {},
   "outputs": [
    {
     "data": {
      "text/plain": [
       "True"
      ]
     },
     "execution_count": 101,
     "metadata": {},
     "output_type": "execute_result"
    }
   ],
   "source": [
    "s.isalnum()"
   ]
  },
  {
   "cell_type": "code",
   "execution_count": 102,
   "id": "cfb43724-a59b-457f-8e7b-682e6891ab8a",
   "metadata": {},
   "outputs": [
    {
     "data": {
      "text/plain": [
       "False"
      ]
     },
     "execution_count": 102,
     "metadata": {},
     "output_type": "execute_result"
    }
   ],
   "source": [
    "s.isupper()"
   ]
  },
  {
   "cell_type": "code",
   "execution_count": 103,
   "id": "eea35bb3-a153-4d96-a752-960f367b7ebc",
   "metadata": {},
   "outputs": [
    {
     "data": {
      "text/plain": [
       "'SUDH'"
      ]
     },
     "execution_count": 103,
     "metadata": {},
     "output_type": "execute_result"
    }
   ],
   "source": [
    "s.upper()"
   ]
  },
  {
   "cell_type": "code",
   "execution_count": 106,
   "id": "57a36591-61cf-487c-b3fc-7432ae43db23",
   "metadata": {},
   "outputs": [
    {
     "data": {
      "text/plain": [
       "True"
      ]
     },
     "execution_count": 106,
     "metadata": {},
     "output_type": "execute_result"
    }
   ],
   "source": [
    "s.islower()"
   ]
  },
  {
   "cell_type": "code",
   "execution_count": 107,
   "id": "2e238c23-56ee-47ce-8346-eee8f4d7f863",
   "metadata": {},
   "outputs": [
    {
     "data": {
      "text/plain": [
       "'sudh'"
      ]
     },
     "execution_count": 107,
     "metadata": {},
     "output_type": "execute_result"
    }
   ],
   "source": [
    "s.lower()"
   ]
  },
  {
   "cell_type": "code",
   "execution_count": 108,
   "id": "09db5859-8841-4ce6-b5bc-76ac15dc9e36",
   "metadata": {},
   "outputs": [],
   "source": [
    "s = \"Sudh 1\""
   ]
  },
  {
   "cell_type": "code",
   "execution_count": 110,
   "id": "1cca6292-d256-4422-aae7-9fef60e16b25",
   "metadata": {},
   "outputs": [
    {
     "data": {
      "text/plain": [
       "False"
      ]
     },
     "execution_count": 110,
     "metadata": {},
     "output_type": "execute_result"
    }
   ],
   "source": [
    "s.isnumeric()"
   ]
  },
  {
   "cell_type": "code",
   "execution_count": 111,
   "id": "34721ff0-fed6-467d-b829-cd01976ac910",
   "metadata": {},
   "outputs": [
    {
     "data": {
      "text/plain": [
       "False"
      ]
     },
     "execution_count": 111,
     "metadata": {},
     "output_type": "execute_result"
    }
   ],
   "source": [
    "s.isspace()"
   ]
  },
  {
   "cell_type": "code",
   "execution_count": 112,
   "id": "035ce079-52b5-4d7a-8432-d9db2fbc9999",
   "metadata": {},
   "outputs": [
    {
     "data": {
      "text/plain": [
       "False"
      ]
     },
     "execution_count": 112,
     "metadata": {},
     "output_type": "execute_result"
    }
   ],
   "source": [
    "s.isdigit()"
   ]
  },
  {
   "cell_type": "code",
   "execution_count": 118,
   "id": "166358b8-2b8a-4161-a425-859d3ec85715",
   "metadata": {},
   "outputs": [],
   "source": [
    "s = \"123\""
   ]
  },
  {
   "cell_type": "code",
   "execution_count": 119,
   "id": "bda80ec9-0564-448f-b282-23634ed99863",
   "metadata": {},
   "outputs": [
    {
     "data": {
      "text/plain": [
       "True"
      ]
     },
     "execution_count": 119,
     "metadata": {},
     "output_type": "execute_result"
    }
   ],
   "source": [
    "s.isdigit()"
   ]
  },
  {
   "cell_type": "code",
   "execution_count": 120,
   "id": "b02d9363-b040-49b8-bd2c-365748b929d7",
   "metadata": {},
   "outputs": [],
   "source": [
    "s = \" Find\""
   ]
  },
  {
   "cell_type": "code",
   "execution_count": 122,
   "id": "4c3fea1c-734e-4cbb-88ae-c87c60bdc5d4",
   "metadata": {},
   "outputs": [
    {
     "data": {
      "text/plain": [
       "True"
      ]
     },
     "execution_count": 122,
     "metadata": {},
     "output_type": "execute_result"
    }
   ],
   "source": [
    "s.endswith(\"d\")"
   ]
  },
  {
   "cell_type": "code",
   "execution_count": 123,
   "id": "663acf43-fe77-4c17-a702-a9f5af3dc106",
   "metadata": {},
   "outputs": [
    {
     "data": {
      "text/plain": [
       "False"
      ]
     },
     "execution_count": 123,
     "metadata": {},
     "output_type": "execute_result"
    }
   ],
   "source": [
    "s.startswith(\"F\")"
   ]
  },
  {
   "cell_type": "code",
   "execution_count": 124,
   "id": "85feb5c6-5e16-403b-a168-30643c866ede",
   "metadata": {},
   "outputs": [
    {
     "data": {
      "text/plain": [
       "True"
      ]
     },
     "execution_count": 124,
     "metadata": {},
     "output_type": "execute_result"
    }
   ],
   "source": [
    "s.startswith(\" \")"
   ]
  },
  {
   "cell_type": "code",
   "execution_count": 127,
   "id": "d6a3f201-dd74-4d15-af2c-108e8052f1e4",
   "metadata": {},
   "outputs": [],
   "source": [
    "s = \"absc\""
   ]
  },
  {
   "cell_type": "code",
   "execution_count": 128,
   "id": "3bfd3660-2912-4b39-bb38-7d7580fdf4b0",
   "metadata": {},
   "outputs": [
    {
     "data": {
      "text/plain": [
       "True"
      ]
     },
     "execution_count": 128,
     "metadata": {},
     "output_type": "execute_result"
    }
   ],
   "source": [
    "s.isalpha()"
   ]
  },
  {
   "cell_type": "code",
   "execution_count": 130,
   "id": "3b822884-acf6-4a11-83df-f8c8def65749",
   "metadata": {},
   "outputs": [
    {
     "data": {
      "text/plain": [
       "b'absc'"
      ]
     },
     "execution_count": 130,
     "metadata": {},
     "output_type": "execute_result"
    }
   ],
   "source": [
    "s.encode()"
   ]
  },
  {
   "cell_type": "code",
   "execution_count": 131,
   "id": "c02fb791-02bc-443e-8862-055081b90d72",
   "metadata": {},
   "outputs": [
    {
     "data": {
      "text/plain": [
       "'absc'"
      ]
     },
     "execution_count": 131,
     "metadata": {},
     "output_type": "execute_result"
    }
   ],
   "source": [
    "s.format()"
   ]
  },
  {
   "cell_type": "code",
   "execution_count": 132,
   "id": "448b9d24-4537-495b-885e-7618fa4b3d95",
   "metadata": {},
   "outputs": [],
   "source": [
    "s = \"This is a full stack batch\""
   ]
  },
  {
   "cell_type": "code",
   "execution_count": 133,
   "id": "a7489a6e-055f-419e-bf60-538fdddd5ae2",
   "metadata": {},
   "outputs": [
    {
     "data": {
      "text/plain": [
       "26"
      ]
     },
     "execution_count": 133,
     "metadata": {},
     "output_type": "execute_result"
    }
   ],
   "source": [
    "len(s)"
   ]
  },
  {
   "cell_type": "code",
   "execution_count": 134,
   "id": "dca3d117-7a2a-402a-9bfe-0386b2b21961",
   "metadata": {},
   "outputs": [
    {
     "name": "stdout",
     "output_type": "stream",
     "text": [
      "26\n"
     ]
    }
   ],
   "source": [
    "count = 0\n",
    "for i in s:\n",
    "    count = count + 1\n",
    "print(count)"
   ]
  },
  {
   "cell_type": "code",
   "execution_count": 137,
   "id": "d28deb81-e92f-412c-aa15-8d231b637fa2",
   "metadata": {},
   "outputs": [
    {
     "name": "stdout",
     "output_type": "stream",
     "text": [
      "T\n",
      "h\n",
      "i\n",
      "s\n",
      " \n",
      "i\n",
      "s\n",
      " \n",
      "a\n",
      " \n",
      "f\n",
      "u\n",
      "l\n",
      "l\n",
      " \n",
      "s\n",
      "t\n",
      "a\n",
      "c\n",
      "k\n",
      " \n",
      "b\n",
      "a\n",
      "t\n",
      "c\n",
      "h\n"
     ]
    }
   ],
   "source": [
    "for i in range(len(s)):\n",
    "    print(s[i])"
   ]
  },
  {
   "cell_type": "code",
   "execution_count": 138,
   "id": "67fa786b-feef-47a6-835b-05ea04b0ecd9",
   "metadata": {},
   "outputs": [
    {
     "name": "stdout",
     "output_type": "stream",
     "text": [
      "T\n",
      "h\n",
      "c\n",
      "t\n",
      "a\n",
      "b\n",
      " \n",
      "k\n",
      "c\n",
      "a\n",
      "t\n",
      "s\n",
      " \n",
      "l\n",
      "l\n",
      "u\n",
      "f\n",
      " \n",
      "a\n",
      " \n",
      "s\n",
      "i\n",
      " \n",
      "s\n",
      "i\n",
      "h\n"
     ]
    }
   ],
   "source": [
    "for i in range(len(s)):\n",
    "    print(s[-i])"
   ]
  },
  {
   "cell_type": "code",
   "execution_count": 139,
   "id": "edfefea2-94c7-4cc7-a159-dad6d3154f4c",
   "metadata": {},
   "outputs": [],
   "source": [
    "s = \"sudh\""
   ]
  },
  {
   "cell_type": "code",
   "execution_count": 140,
   "id": "d95cd241-8581-40d5-82ee-baca92be0ae4",
   "metadata": {},
   "outputs": [
    {
     "name": "stdout",
     "output_type": "stream",
     "text": [
      "h\n",
      "d\n",
      "u\n",
      "s\n"
     ]
    }
   ],
   "source": [
    "ch = len(s) -1 \n",
    "while ch >=0:\n",
    "    print(s[ch])\n",
    "    ch = ch -1"
   ]
  },
  {
   "cell_type": "code",
   "execution_count": 141,
   "id": "8eb412c0-c5ab-424e-a699-d69b2c0d5e72",
   "metadata": {},
   "outputs": [
    {
     "name": "stdout",
     "output_type": "stream",
     "text": [
      "i this is vowels\n",
      "n is not a vowels\n",
      "e this is vowels\n",
      "u this is vowels\n",
      "r is not a vowels\n",
      "o this is vowels\n",
      "n is not a vowels\n"
     ]
    }
   ],
   "source": [
    "name = \"ineuron\"\n",
    "vowels = \"AaEeIiOoUu\"\n",
    "\n",
    "for i in name:\n",
    "    if i in vowels :\n",
    "        print(\"{} this is vowels\".format(i))\n",
    "    else:\n",
    "        print(\"{} is not a vowels\".format(i))\n",
    "        "
   ]
  },
  {
   "cell_type": "code",
   "execution_count": 143,
   "id": "823e16e4-1e51-42fa-9ca7-5a4368e11849",
   "metadata": {},
   "outputs": [
    {
     "data": {
      "text/plain": [
       "'Pangavhan is my home town'"
      ]
     },
     "execution_count": 143,
     "metadata": {},
     "output_type": "execute_result"
    }
   ],
   "source": [
    "\"{} is my home town\".format(\"Pangavhan\") "
   ]
  },
  {
   "cell_type": "code",
   "execution_count": 144,
   "id": "17ce80f1-5fb9-437b-9a01-3806696bb798",
   "metadata": {},
   "outputs": [
    {
     "data": {
      "text/plain": [
       "'we like ice crime '"
      ]
     },
     "execution_count": 144,
     "metadata": {},
     "output_type": "execute_result"
    }
   ],
   "source": [
    "\"{} like ice crime \".format(\"we\")"
   ]
  },
  {
   "cell_type": "code",
   "execution_count": null,
   "id": "c703d7f2-ccf7-445e-84f8-891e5dc1f641",
   "metadata": {},
   "outputs": [],
   "source": [
    "# Write a program to check the palindrome check "
   ]
  },
  {
   "cell_type": "code",
   "execution_count": 149,
   "id": "d8f703fe-6efb-41fb-b640-484b423aaf49",
   "metadata": {},
   "outputs": [
    {
     "name": "stdout",
     "output_type": "stream",
     "text": [
      "Eneter a data for which you would you like to check palindrome maam\n"
     ]
    },
    {
     "name": "stdout",
     "output_type": "stream",
     "text": [
      "its a some\n"
     ]
    }
   ],
   "source": [
    "s = input(\"Eneter a data for which you would you like to check palindrome\")\n",
    "s1 = s[::-1]\n",
    "if s == s1:\n",
    "    print(\"its a some\")\n",
    "else:\n",
    "    print(\"its not a same\")"
   ]
  },
  {
   "cell_type": "markdown",
   "id": "30401c99-672c-4260-82a0-f47c22cf9ec6",
   "metadata": {},
   "source": [
    "# List "
   ]
  },
  {
   "cell_type": "code",
   "execution_count": 151,
   "id": "f44ef1c1-5ec8-4b7f-b4ca-d29fcaec2352",
   "metadata": {},
   "outputs": [],
   "source": [
    "l = [\"Bhimrao\",\"Now\",123,43,54,[23,98]] "
   ]
  },
  {
   "cell_type": "code",
   "execution_count": 152,
   "id": "b3fd5c68-2c30-4714-8fbb-dbb6e2d54d27",
   "metadata": {},
   "outputs": [
    {
     "data": {
      "text/plain": [
       "43"
      ]
     },
     "execution_count": 152,
     "metadata": {},
     "output_type": "execute_result"
    }
   ],
   "source": [
    "l[3]"
   ]
  },
  {
   "cell_type": "code",
   "execution_count": 153,
   "id": "09799f02-0cc9-4fc2-9ec6-4507086f6794",
   "metadata": {},
   "outputs": [
    {
     "data": {
      "text/plain": [
       "[43, 123, 'Now']"
      ]
     },
     "execution_count": 153,
     "metadata": {},
     "output_type": "execute_result"
    }
   ],
   "source": [
    "l[3:0:-1]"
   ]
  },
  {
   "cell_type": "code",
   "execution_count": 154,
   "id": "c7a81f69-237c-46c5-b5a3-e5cc0f07dc36",
   "metadata": {},
   "outputs": [],
   "source": [
    "list = [\"sudh\",34,34,45,[34,45]]"
   ]
  },
  {
   "cell_type": "code",
   "execution_count": 155,
   "id": "146cb209-b22b-480b-a400-981b257d8eb8",
   "metadata": {},
   "outputs": [
    {
     "data": {
      "text/plain": [
       "['sudh', 34, 34, 45, [34, 45]]"
      ]
     },
     "execution_count": 155,
     "metadata": {},
     "output_type": "execute_result"
    }
   ],
   "source": [
    "list"
   ]
  },
  {
   "cell_type": "code",
   "execution_count": 156,
   "id": "96efac11-d705-41d4-ba5a-89d1c109a32d",
   "metadata": {},
   "outputs": [
    {
     "data": {
      "text/plain": [
       "45"
      ]
     },
     "execution_count": 156,
     "metadata": {},
     "output_type": "execute_result"
    }
   ],
   "source": [
    "list[3]"
   ]
  },
  {
   "cell_type": "code",
   "execution_count": 157,
   "id": "f4b24ca6-8eb0-4d08-94ce-062c3c605f5a",
   "metadata": {},
   "outputs": [
    {
     "data": {
      "text/plain": [
       "[]"
      ]
     },
     "execution_count": 157,
     "metadata": {},
     "output_type": "execute_result"
    }
   ],
   "source": [
    "list [0:3:-1]"
   ]
  },
  {
   "cell_type": "code",
   "execution_count": 158,
   "id": "176bd24e-eb5f-46e2-968b-91b48de3bba6",
   "metadata": {},
   "outputs": [
    {
     "data": {
      "text/plain": [
       "[45, 34, 34]"
      ]
     },
     "execution_count": 158,
     "metadata": {},
     "output_type": "execute_result"
    }
   ],
   "source": [
    "list[3:0:-1]"
   ]
  },
  {
   "cell_type": "code",
   "execution_count": 159,
   "id": "257f3261-1f22-4ff5-a1f3-b71c92f0b36d",
   "metadata": {},
   "outputs": [
    {
     "data": {
      "text/plain": [
       "['sudh', 34, 34, 45, [34, 45]]"
      ]
     },
     "execution_count": 159,
     "metadata": {},
     "output_type": "execute_result"
    }
   ],
   "source": [
    "list[::1]"
   ]
  },
  {
   "cell_type": "code",
   "execution_count": 160,
   "id": "f4dff155-f398-41ff-8d65-dbdafdf24e7d",
   "metadata": {},
   "outputs": [
    {
     "data": {
      "text/plain": [
       "[[34, 45], 45, 34, 34, 'sudh']"
      ]
     },
     "execution_count": 160,
     "metadata": {},
     "output_type": "execute_result"
    }
   ],
   "source": [
    "list[::-1]"
   ]
  },
  {
   "cell_type": "code",
   "execution_count": 2,
   "id": "f69020dc-c188-45dc-a771-ed91d868c819",
   "metadata": {},
   "outputs": [],
   "source": [
    "l = [\"Bhimrao\",\"Now\",123,43,54,[23,98]]"
   ]
  },
  {
   "cell_type": "code",
   "execution_count": 3,
   "id": "b56b20dc-eb22-44ec-bb59-360b2efd68f0",
   "metadata": {},
   "outputs": [
    {
     "data": {
      "text/plain": [
       "['Bhimrao', 'Now', 123, 43, 54, [23, 98]]"
      ]
     },
     "execution_count": 3,
     "metadata": {},
     "output_type": "execute_result"
    }
   ],
   "source": [
    "l"
   ]
  },
  {
   "cell_type": "code",
   "execution_count": 4,
   "id": "a50f2033-9d79-4355-8b64-9df4e8350cc8",
   "metadata": {},
   "outputs": [],
   "source": [
    "list = [\"sudh\",34,34,45,[34,45]]"
   ]
  },
  {
   "cell_type": "code",
   "execution_count": 5,
   "id": "ad0dcc2d-c4f0-44e1-8794-e5138e07097e",
   "metadata": {},
   "outputs": [
    {
     "data": {
      "text/plain": [
       "['Bhimrao', 'Now', 123, 43, 54, [23, 98], 'sudh', 34, 34, 45, [34, 45]]"
      ]
     },
     "execution_count": 5,
     "metadata": {},
     "output_type": "execute_result"
    }
   ],
   "source": [
    "l + list"
   ]
  },
  {
   "cell_type": "code",
   "execution_count": 6,
   "id": "6092ba73-ebfd-44a0-8337-fd2e192a73b0",
   "metadata": {},
   "outputs": [],
   "source": [
    "B = l + list"
   ]
  },
  {
   "cell_type": "code",
   "execution_count": 8,
   "id": "076abd7d-1e0b-4f33-b12a-69ee49c327dc",
   "metadata": {},
   "outputs": [
    {
     "data": {
      "text/plain": [
       "['Bhimrao', 'Now', 123, 43, 54, [23, 98], 'sudh', 34, 34, 45, [34, 45]]"
      ]
     },
     "execution_count": 8,
     "metadata": {},
     "output_type": "execute_result"
    }
   ],
   "source": [
    "B"
   ]
  },
  {
   "cell_type": "code",
   "execution_count": 10,
   "id": "3a10b4b2-c6f7-4110-b31a-6e869ed04f83",
   "metadata": {},
   "outputs": [
    {
     "data": {
      "text/plain": [
       "'My first name is Bhimrao and last name is Pawar'"
      ]
     },
     "execution_count": 10,
     "metadata": {},
     "output_type": "execute_result"
    }
   ],
   "source": [
    "\"My first name is {} and last name is {}\".format(\"Bhimrao\",\"Pawar\")"
   ]
  },
  {
   "cell_type": "code",
   "execution_count": 16,
   "id": "24cfc75f-581a-4427-ba17-f11e339ff22f",
   "metadata": {},
   "outputs": [
    {
     "name": "stdout",
     "output_type": "stream",
     "text": [
      "thctab kcats lluf a si sih"
     ]
    }
   ],
   "source": [
    "s = \"this is a full stack batch\"\n",
    "for i in range(len(s)):\n",
    "    print(s[-i],end=\"\")"
   ]
  },
  {
   "cell_type": "code",
   "execution_count": 15,
   "id": "5caa2ff3-c116-4e10-90b0-1f5980c5d79a",
   "metadata": {},
   "outputs": [
    {
     "name": "stdout",
     "output_type": "stream",
     "text": [
      "hctab kcats lluf a si siht"
     ]
    }
   ],
   "source": [
    "s = \"this is a full stack batch\"\n",
    "for i in range(len(s)):\n",
    "    print(s[-(i+1)],end=\"\")"
   ]
  },
  {
   "cell_type": "code",
   "execution_count": 13,
   "id": "f6a20d3b-29b8-4f20-8190-810f9672d66b",
   "metadata": {},
   "outputs": [
    {
     "name": "stdout",
     "output_type": "stream",
     "text": [
      "hctab kcats lluf a si siht"
     ]
    }
   ],
   "source": [
    "s = \"this is a full stack batch\"\n",
    "for i in range(len(s)):\n",
    "    print(s[-(i+1)], end=\"\")"
   ]
  },
  {
   "cell_type": "code",
   "execution_count": 18,
   "id": "0676f220-a485-493b-aed7-d67b56a82981",
   "metadata": {},
   "outputs": [
    {
     "name": "stdout",
     "output_type": "stream",
     "text": [
      "hctab kcats lluf a si siht"
     ]
    }
   ],
   "source": [
    "s = \"this is a full stack batch\"\n",
    "for i in range(len(s)):\n",
    "    print(s[-i-1],end=\"\")"
   ]
  },
  {
   "cell_type": "code",
   "execution_count": 19,
   "id": "2ed2b2c9-176d-42ee-977e-def9d76fb618",
   "metadata": {},
   "outputs": [],
   "source": [
    "str1=\"Saikiran\"\n",
    "str = \"Sai\""
   ]
  },
  {
   "cell_type": "code",
   "execution_count": 20,
   "id": "fbdf38dc-04d5-4e2f-99ae-b5282eff55f0",
   "metadata": {},
   "outputs": [
    {
     "data": {
      "text/plain": [
       "'Sai'"
      ]
     },
     "execution_count": 20,
     "metadata": {},
     "output_type": "execute_result"
    }
   ],
   "source": [
    "str"
   ]
  },
  {
   "cell_type": "code",
   "execution_count": 21,
   "id": "8fc192a2-77a9-49c4-a31e-ce7033fc868f",
   "metadata": {},
   "outputs": [
    {
     "data": {
      "text/plain": [
       "'Saikiran'"
      ]
     },
     "execution_count": 21,
     "metadata": {},
     "output_type": "execute_result"
    }
   ],
   "source": [
    "str1"
   ]
  },
  {
   "cell_type": "code",
   "execution_count": 22,
   "id": "6497c40c-fcd1-4126-8fe6-3e2f34d15c31",
   "metadata": {},
   "outputs": [],
   "source": [
    "l = [\"sudh\" ,234,45,56,[45,56,6,\"c\"],True]"
   ]
  },
  {
   "cell_type": "code",
   "execution_count": 23,
   "id": "48627fb6-8fe1-40a0-afbe-1c677e431eda",
   "metadata": {},
   "outputs": [
    {
     "name": "stdout",
     "output_type": "stream",
     "text": [
      "sudh\n",
      "234\n",
      "45\n",
      "56\n",
      "[45, 56, 6, 'c']\n",
      "True\n"
     ]
    }
   ],
   "source": [
    "for i in l:\n",
    "    print(i)"
   ]
  },
  {
   "cell_type": "code",
   "execution_count": 24,
   "id": "cde61b4d-c13b-452b-b125-6f679f87ad7a",
   "metadata": {},
   "outputs": [
    {
     "data": {
      "text/plain": [
       "'sudh'"
      ]
     },
     "execution_count": 24,
     "metadata": {},
     "output_type": "execute_result"
    }
   ],
   "source": [
    "l[0]"
   ]
  },
  {
   "cell_type": "code",
   "execution_count": 25,
   "id": "f2f517d1-290f-43fc-b725-9f1908694c4c",
   "metadata": {},
   "outputs": [
    {
     "data": {
      "text/plain": [
       "[True, [45, 56, 6, 'c'], 56, 45, 234, 'sudh']"
      ]
     },
     "execution_count": 25,
     "metadata": {},
     "output_type": "execute_result"
    }
   ],
   "source": [
    "l[::-1]"
   ]
  },
  {
   "cell_type": "code",
   "execution_count": 26,
   "id": "2cd799f8-4c5f-478a-a29e-225b3dddc1fe",
   "metadata": {},
   "outputs": [
    {
     "name": "stdout",
     "output_type": "stream",
     "text": [
      "no element is in list sudh\n",
      "no element is in list 234\n",
      "no element is in list 45\n",
      "no element is in list 56\n",
      "this is a list  [45, 56, 6, 'c']\n",
      "no element is in list True\n"
     ]
    }
   ],
   "source": [
    "for i in l:\n",
    "    if type(i)==list:\n",
    "        print(\"this is a list \",i)\n",
    "    else:\n",
    "        print(\"no element is in list\",i)\n",
    "        "
   ]
  },
  {
   "cell_type": "code",
   "execution_count": 27,
   "id": "8795664c-b051-451f-8ca9-4a86d6cbac4f",
   "metadata": {},
   "outputs": [],
   "source": [
    "l1 = [345,2232,\"Inueron\",\"tech\"]"
   ]
  },
  {
   "cell_type": "code",
   "execution_count": 28,
   "id": "5467fe37-a91a-4c49-820f-928a9b2b2583",
   "metadata": {},
   "outputs": [
    {
     "data": {
      "text/plain": [
       "['sudh', 234, 45, 56, [45, 56, 6, 'c'], True, 345, 2232, 'Inueron', 'tech']"
      ]
     },
     "execution_count": 28,
     "metadata": {},
     "output_type": "execute_result"
    }
   ],
   "source": [
    "l + l1"
   ]
  },
  {
   "cell_type": "code",
   "execution_count": 29,
   "id": "6d259c89-ca82-487b-bb55-4e611fe1a5a6",
   "metadata": {},
   "outputs": [
    {
     "data": {
      "text/plain": [
       "['sudh',\n",
       " 234,\n",
       " 45,\n",
       " 56,\n",
       " [45, 56, 6, 'c'],\n",
       " True,\n",
       " 'sudh',\n",
       " 234,\n",
       " 45,\n",
       " 56,\n",
       " [45, 56, 6, 'c'],\n",
       " True]"
      ]
     },
     "execution_count": 29,
     "metadata": {},
     "output_type": "execute_result"
    }
   ],
   "source": [
    "l * 2"
   ]
  },
  {
   "cell_type": "code",
   "execution_count": 30,
   "id": "3145e2e0-a073-4b16-ad7e-9855ed0e3c58",
   "metadata": {},
   "outputs": [
    {
     "data": {
      "text/plain": [
       "4"
      ]
     },
     "execution_count": 30,
     "metadata": {},
     "output_type": "execute_result"
    }
   ],
   "source": [
    "len(l1)"
   ]
  },
  {
   "cell_type": "code",
   "execution_count": 31,
   "id": "9a900f3d-6bf6-47ae-b826-522c400463c4",
   "metadata": {},
   "outputs": [
    {
     "data": {
      "text/plain": [
       "True"
      ]
     },
     "execution_count": 31,
     "metadata": {},
     "output_type": "execute_result"
    }
   ],
   "source": [
    "True in l"
   ]
  },
  {
   "cell_type": "code",
   "execution_count": 34,
   "id": "25d617f1-4419-4aa3-883e-2c7292d8a499",
   "metadata": {},
   "outputs": [
    {
     "data": {
      "text/plain": [
       "True"
      ]
     },
     "execution_count": 34,
     "metadata": {},
     "output_type": "execute_result"
    }
   ],
   "source": [
    "345 in l1"
   ]
  },
  {
   "cell_type": "code",
   "execution_count": 35,
   "id": "3b045fbf-2aec-4338-a711-94b3835319f2",
   "metadata": {},
   "outputs": [
    {
     "data": {
      "text/plain": [
       "True"
      ]
     },
     "execution_count": 35,
     "metadata": {},
     "output_type": "execute_result"
    }
   ],
   "source": [
    "\"tech\" in l1"
   ]
  },
  {
   "cell_type": "code",
   "execution_count": 40,
   "id": "88548f9b-ece3-4483-b4f6-59c5142efd10",
   "metadata": {},
   "outputs": [
    {
     "name": "stdout",
     "output_type": "stream",
     "text": [
      "6\n"
     ]
    }
   ],
   "source": [
    "print(max([2,5,6,4,3]))"
   ]
  },
  {
   "cell_type": "code",
   "execution_count": 41,
   "id": "bfa0266b-7ea9-4967-8cf1-fbdec4962ebf",
   "metadata": {},
   "outputs": [
    {
     "data": {
      "text/plain": [
       "'abcd'"
      ]
     },
     "execution_count": 41,
     "metadata": {},
     "output_type": "execute_result"
    }
   ],
   "source": [
    "min([\"abcd\",\"dgdkj\",\"dhwe\"])"
   ]
  },
  {
   "cell_type": "code",
   "execution_count": 42,
   "id": "cbf494db-863e-4889-b9e0-0bc6c35e6e58",
   "metadata": {},
   "outputs": [
    {
     "data": {
      "text/plain": [
       "'dhwe'"
      ]
     },
     "execution_count": 42,
     "metadata": {},
     "output_type": "execute_result"
    }
   ],
   "source": [
    "max([\"abcd\",\"dgdkj\",\"dhwe\"])"
   ]
  },
  {
   "cell_type": "code",
   "execution_count": 43,
   "id": "3c3d02a9-cee6-4bfe-b3e9-4981460b9d80",
   "metadata": {},
   "outputs": [],
   "source": [
    "l = [1,2,3,4]"
   ]
  },
  {
   "cell_type": "code",
   "execution_count": 46,
   "id": "4474a6b8-d2fe-440c-a24d-b885bb7e6fc5",
   "metadata": {},
   "outputs": [],
   "source": [
    "l.append(\"Bhim\") # append element at the end "
   ]
  },
  {
   "cell_type": "code",
   "execution_count": 45,
   "id": "94869c78-1a90-4725-b7c3-8a4adf89c41f",
   "metadata": {},
   "outputs": [
    {
     "data": {
      "text/plain": [
       "[1, 2, 3, 4, 'Bhim']"
      ]
     },
     "execution_count": 45,
     "metadata": {},
     "output_type": "execute_result"
    }
   ],
   "source": [
    "l"
   ]
  },
  {
   "cell_type": "code",
   "execution_count": 47,
   "id": "44e61816-161d-4fe9-87f1-fc7720ca4c4a",
   "metadata": {},
   "outputs": [],
   "source": [
    "l1 = [5,6,7,8]"
   ]
  },
  {
   "cell_type": "code",
   "execution_count": 48,
   "id": "6037fdf1-5df2-4b4a-b0e3-17d204550477",
   "metadata": {},
   "outputs": [],
   "source": [
    "l.append(l1)"
   ]
  },
  {
   "cell_type": "code",
   "execution_count": 49,
   "id": "e62b6a80-1126-445c-8696-7a53992692ba",
   "metadata": {},
   "outputs": [
    {
     "data": {
      "text/plain": [
       "[1, 2, 3, 4, 'Bhim', 'Bhim', [5, 6, 7, 8]]"
      ]
     },
     "execution_count": 49,
     "metadata": {},
     "output_type": "execute_result"
    }
   ],
   "source": [
    "l"
   ]
  },
  {
   "cell_type": "code",
   "execution_count": 57,
   "id": "fb84dc18-eb98-47ab-9bd3-09045e93f675",
   "metadata": {},
   "outputs": [],
   "source": [
    "# insert opration at any where using index "
   ]
  },
  {
   "cell_type": "code",
   "execution_count": 51,
   "id": "258da099-bbf7-4b73-b365-6123dd2cda98",
   "metadata": {},
   "outputs": [],
   "source": [
    "l.insert(5,\"Pawar\")"
   ]
  },
  {
   "cell_type": "code",
   "execution_count": 52,
   "id": "111fd068-1474-4b4f-9a4b-f8c9496418fb",
   "metadata": {},
   "outputs": [
    {
     "data": {
      "text/plain": [
       "[1, 2, 3, 4, 'Bhim', 'Pawar', 'Bhim', [5, 6, 7, 8]]"
      ]
     },
     "execution_count": 52,
     "metadata": {},
     "output_type": "execute_result"
    }
   ],
   "source": [
    "l"
   ]
  },
  {
   "cell_type": "code",
   "execution_count": 55,
   "id": "f22c6bee-dbca-4590-a2ce-093a6a41280c",
   "metadata": {},
   "outputs": [],
   "source": [
    "l.insert(-1-1,\"Nice\")"
   ]
  },
  {
   "cell_type": "code",
   "execution_count": 56,
   "id": "ea049c6a-746d-41b9-83ed-80784b54421a",
   "metadata": {},
   "outputs": [
    {
     "data": {
      "text/plain": [
       "[1, 2, 3, 4, 'Bhim', 'Pawar', 'Bhim', 'Nice', 'Nice', [5, 6, 7, 8]]"
      ]
     },
     "execution_count": 56,
     "metadata": {},
     "output_type": "execute_result"
    }
   ],
   "source": [
    "l"
   ]
  },
  {
   "cell_type": "code",
   "execution_count": 59,
   "id": "b1896175-5586-4d8b-8cca-79be640edbbd",
   "metadata": {},
   "outputs": [
    {
     "data": {
      "text/plain": [
       "2"
      ]
     },
     "execution_count": 59,
     "metadata": {},
     "output_type": "execute_result"
    }
   ],
   "source": [
    "l.count(\"Bhim\")"
   ]
  },
  {
   "cell_type": "code",
   "execution_count": 60,
   "id": "9c3912d5-c03b-4bd7-b948-0ed79d23767d",
   "metadata": {},
   "outputs": [
    {
     "data": {
      "text/plain": [
       "0"
      ]
     },
     "execution_count": 60,
     "metadata": {},
     "output_type": "execute_result"
    }
   ],
   "source": [
    "l.count(5)"
   ]
  },
  {
   "cell_type": "code",
   "execution_count": 61,
   "id": "34a7cd6e-7562-4e7f-8204-e5bb7c6e30fe",
   "metadata": {},
   "outputs": [
    {
     "data": {
      "text/plain": [
       "2"
      ]
     },
     "execution_count": 61,
     "metadata": {},
     "output_type": "execute_result"
    }
   ],
   "source": [
    "l.count(\"Nice\")"
   ]
  },
  {
   "cell_type": "code",
   "execution_count": 62,
   "id": "ab075b83-9c97-4228-96a0-9d39f5a37cbb",
   "metadata": {},
   "outputs": [],
   "source": [
    "l = [1,2,3,4]\n"
   ]
  },
  {
   "cell_type": "code",
   "execution_count": 63,
   "id": "b17e0b34-f416-42b7-913a-e8c0cf75e883",
   "metadata": {},
   "outputs": [],
   "source": [
    "l.append(\"Bhim\")"
   ]
  },
  {
   "cell_type": "code",
   "execution_count": 64,
   "id": "174d5127-e4e3-4c74-aff1-b4c9eb53f880",
   "metadata": {},
   "outputs": [
    {
     "data": {
      "text/plain": [
       "[1, 2, 3, 4, 'Bhim']"
      ]
     },
     "execution_count": 64,
     "metadata": {},
     "output_type": "execute_result"
    }
   ],
   "source": [
    "l"
   ]
  },
  {
   "cell_type": "code",
   "execution_count": 70,
   "id": "cb450634-6170-45b8-90fc-3151f5ad9fe9",
   "metadata": {},
   "outputs": [],
   "source": [
    "l.extend(\"test1\") # alway try to unwraped "
   ]
  },
  {
   "cell_type": "code",
   "execution_count": 66,
   "id": "4fb0b526-0312-48bd-921b-56a48a1c847d",
   "metadata": {},
   "outputs": [
    {
     "data": {
      "text/plain": [
       "[1, 2, 3, 4, 'Bhim', 't', 'e', 's', 't', '1']"
      ]
     },
     "execution_count": 66,
     "metadata": {},
     "output_type": "execute_result"
    }
   ],
   "source": [
    "l"
   ]
  },
  {
   "cell_type": "code",
   "execution_count": 69,
   "id": "22feda27-83f6-4f06-b3eb-18e21cbe7ca1",
   "metadata": {},
   "outputs": [
    {
     "data": {
      "text/plain": [
       "['t', 'e', 's', 't']"
      ]
     },
     "execution_count": 69,
     "metadata": {},
     "output_type": "execute_result"
    }
   ],
   "source": [
    "s = \"test\"\n",
    "list(s)"
   ]
  },
  {
   "cell_type": "code",
   "execution_count": 71,
   "id": "4e4dd580-7b2a-4675-aa09-77251c51f569",
   "metadata": {},
   "outputs": [],
   "source": [
    "l.append ([2,3,4,5])"
   ]
  },
  {
   "cell_type": "code",
   "execution_count": 72,
   "id": "793a257c-dba6-4917-95cd-c3b5980c7ebb",
   "metadata": {},
   "outputs": [
    {
     "data": {
      "text/plain": [
       "[1,\n",
       " 2,\n",
       " 3,\n",
       " 4,\n",
       " 'Bhim',\n",
       " 't',\n",
       " 'e',\n",
       " 's',\n",
       " 't',\n",
       " '1',\n",
       " 't',\n",
       " 'e',\n",
       " 's',\n",
       " 't',\n",
       " '1',\n",
       " [2, 3, 4, 5]]"
      ]
     },
     "execution_count": 72,
     "metadata": {},
     "output_type": "execute_result"
    }
   ],
   "source": [
    "l"
   ]
  },
  {
   "cell_type": "code",
   "execution_count": 76,
   "id": "aa03ae96-549d-4f6e-b5ef-35628dea6268",
   "metadata": {},
   "outputs": [
    {
     "data": {
      "text/plain": [
       "'Bhim'"
      ]
     },
     "execution_count": 76,
     "metadata": {},
     "output_type": "execute_result"
    }
   ],
   "source": [
    "l"
   ]
  },
  {
   "cell_type": "code",
   "execution_count": 78,
   "id": "7a1f22ef-d52a-4b38-9113-c9bd14ce739e",
   "metadata": {},
   "outputs": [
    {
     "data": {
      "text/plain": [
       "0"
      ]
     },
     "execution_count": 78,
     "metadata": {},
     "output_type": "execute_result"
    }
   ],
   "source": [
    "l.index(\"Bhim\")"
   ]
  },
  {
   "cell_type": "code",
   "execution_count": 79,
   "id": "fabed490-2572-4434-96d0-127595757b0f",
   "metadata": {},
   "outputs": [],
   "source": [
    "l = [1,2,3,4,5,6,7,8,\"Bhim\"]"
   ]
  },
  {
   "cell_type": "code",
   "execution_count": 80,
   "id": "7874c430-a111-450d-b5f4-cc0fec576f9b",
   "metadata": {},
   "outputs": [
    {
     "data": {
      "text/plain": [
       "0"
      ]
     },
     "execution_count": 80,
     "metadata": {},
     "output_type": "execute_result"
    }
   ],
   "source": [
    "l.index(1)"
   ]
  },
  {
   "cell_type": "code",
   "execution_count": 81,
   "id": "634d485f-cfe1-42df-94ec-a825f3da6f3b",
   "metadata": {},
   "outputs": [
    {
     "data": {
      "text/plain": [
       "6"
      ]
     },
     "execution_count": 81,
     "metadata": {},
     "output_type": "execute_result"
    }
   ],
   "source": [
    "l.index(7)"
   ]
  },
  {
   "cell_type": "code",
   "execution_count": 82,
   "id": "15bcd5bd-be5b-4e05-9534-92d78741515f",
   "metadata": {},
   "outputs": [
    {
     "data": {
      "text/plain": [
       "8"
      ]
     },
     "execution_count": 82,
     "metadata": {},
     "output_type": "execute_result"
    }
   ],
   "source": [
    "l.index(\"Bhim\")"
   ]
  },
  {
   "cell_type": "code",
   "execution_count": 84,
   "id": "d81b5dc5-29a6-4b68-8585-1d9c0fccaa80",
   "metadata": {},
   "outputs": [
    {
     "data": {
      "text/plain": [
       "'Bhim'"
      ]
     },
     "execution_count": 84,
     "metadata": {},
     "output_type": "execute_result"
    }
   ],
   "source": [
    "l[8]"
   ]
  },
  {
   "cell_type": "code",
   "execution_count": 85,
   "id": "fd8440cd-6641-49fc-af3b-5d8ffdef3eff",
   "metadata": {},
   "outputs": [
    {
     "data": {
      "text/plain": [
       "'Bhim'"
      ]
     },
     "execution_count": 85,
     "metadata": {},
     "output_type": "execute_result"
    }
   ],
   "source": [
    "l.pop() # removed the last index element permanatly"
   ]
  },
  {
   "cell_type": "code",
   "execution_count": 86,
   "id": "1a2d609a-b7a5-4a70-8a74-e4c2269ef906",
   "metadata": {},
   "outputs": [
    {
     "data": {
      "text/plain": [
       "[1, 2, 3, 4, 5, 6, 7, 8]"
      ]
     },
     "execution_count": 86,
     "metadata": {},
     "output_type": "execute_result"
    }
   ],
   "source": [
    "l"
   ]
  },
  {
   "cell_type": "code",
   "execution_count": 87,
   "id": "60bbe79e-1e1a-4f7e-a7ef-c00976316665",
   "metadata": {},
   "outputs": [
    {
     "data": {
      "text/plain": [
       "1"
      ]
     },
     "execution_count": 87,
     "metadata": {},
     "output_type": "execute_result"
    }
   ],
   "source": [
    "l.pop(0)"
   ]
  },
  {
   "cell_type": "code",
   "execution_count": 88,
   "id": "5cfe9b51-2647-4e10-af4a-9971aa02b1de",
   "metadata": {},
   "outputs": [
    {
     "data": {
      "text/plain": [
       "[2, 3, 4, 5, 6, 7, 8]"
      ]
     },
     "execution_count": 88,
     "metadata": {},
     "output_type": "execute_result"
    }
   ],
   "source": [
    "l"
   ]
  },
  {
   "cell_type": "code",
   "execution_count": 89,
   "id": "8e6f6687-bb33-4ca5-b3da-ad1ce05a15cb",
   "metadata": {},
   "outputs": [
    {
     "data": {
      "text/plain": [
       "4"
      ]
     },
     "execution_count": 89,
     "metadata": {},
     "output_type": "execute_result"
    }
   ],
   "source": [
    "l.pop(2)"
   ]
  },
  {
   "cell_type": "code",
   "execution_count": 90,
   "id": "c9dc9c0e-3fb8-4f5c-9f1e-7186a1761ee0",
   "metadata": {},
   "outputs": [
    {
     "data": {
      "text/plain": [
       "[2, 3, 5, 6, 7, 8]"
      ]
     },
     "execution_count": 90,
     "metadata": {},
     "output_type": "execute_result"
    }
   ],
   "source": [
    "l"
   ]
  },
  {
   "cell_type": "code",
   "execution_count": 91,
   "id": "6976e287-287c-4f8b-a080-774a2a85da9b",
   "metadata": {},
   "outputs": [],
   "source": [
    "l.remove(6)"
   ]
  },
  {
   "cell_type": "code",
   "execution_count": 92,
   "id": "5e484219-6da6-43da-b3d9-b47e4179c1bb",
   "metadata": {},
   "outputs": [
    {
     "data": {
      "text/plain": [
       "[2, 3, 5, 7, 8]"
      ]
     },
     "execution_count": 92,
     "metadata": {},
     "output_type": "execute_result"
    }
   ],
   "source": [
    "l"
   ]
  },
  {
   "cell_type": "code",
   "execution_count": 93,
   "id": "5a54840d-f1ed-4c5a-b4f3-82391532ca37",
   "metadata": {},
   "outputs": [],
   "source": [
    "l.remove(2)"
   ]
  },
  {
   "cell_type": "code",
   "execution_count": 94,
   "id": "da86b6da-d28d-40a0-ba44-50b5d6f6d8b6",
   "metadata": {},
   "outputs": [
    {
     "data": {
      "text/plain": [
       "[3, 5, 7, 8]"
      ]
     },
     "execution_count": 94,
     "metadata": {},
     "output_type": "execute_result"
    }
   ],
   "source": [
    "l"
   ]
  },
  {
   "cell_type": "code",
   "execution_count": 95,
   "id": "62208b41-bf8f-4b6f-b5cf-407101b2454b",
   "metadata": {},
   "outputs": [],
   "source": [
    "l = [6,6,6,6,6,6,5,4,3,2,1]"
   ]
  },
  {
   "cell_type": "code",
   "execution_count": 96,
   "id": "178e1e04-50f3-4007-ae80-b1652a111ba3",
   "metadata": {},
   "outputs": [
    {
     "data": {
      "text/plain": [
       "[6, 6, 6, 6, 6, 6, 5, 4, 3, 2, 1]"
      ]
     },
     "execution_count": 96,
     "metadata": {},
     "output_type": "execute_result"
    }
   ],
   "source": [
    "l"
   ]
  },
  {
   "cell_type": "code",
   "execution_count": 97,
   "id": "dce10ee2-d90a-4474-88de-38d2efb966fd",
   "metadata": {},
   "outputs": [],
   "source": [
    "l.remove(6) "
   ]
  },
  {
   "cell_type": "code",
   "execution_count": 98,
   "id": "13a9db58-f01c-4fe3-a369-30bd93787217",
   "metadata": {},
   "outputs": [
    {
     "data": {
      "text/plain": [
       "[6, 6, 6, 6, 6, 5, 4, 3, 2, 1]"
      ]
     },
     "execution_count": 98,
     "metadata": {},
     "output_type": "execute_result"
    }
   ],
   "source": [
    "l"
   ]
  },
  {
   "cell_type": "code",
   "execution_count": 99,
   "id": "0b780ee3-07b5-41d4-9ea2-42a2590cc64a",
   "metadata": {},
   "outputs": [
    {
     "data": {
      "text/plain": [
       "[6, 6, 6, 6, 6, 5, 4, 3, 2, 1]"
      ]
     },
     "execution_count": 99,
     "metadata": {},
     "output_type": "execute_result"
    }
   ],
   "source": [
    "l"
   ]
  },
  {
   "cell_type": "code",
   "execution_count": 101,
   "id": "9943857b-0fd6-447c-9f11-2b19f6a53c1b",
   "metadata": {},
   "outputs": [],
   "source": [
    "l.reverse()"
   ]
  },
  {
   "cell_type": "code",
   "execution_count": 102,
   "id": "99cccde2-a680-46f6-b566-230d289059ed",
   "metadata": {},
   "outputs": [
    {
     "data": {
      "text/plain": [
       "[1, 2, 3, 4, 5, 6, 6, 6, 6, 6]"
      ]
     },
     "execution_count": 102,
     "metadata": {},
     "output_type": "execute_result"
    }
   ],
   "source": [
    "l"
   ]
  },
  {
   "cell_type": "code",
   "execution_count": 103,
   "id": "20006c66-2351-43da-8c6e-97c432c27a01",
   "metadata": {},
   "outputs": [],
   "source": [
    "l.sort()"
   ]
  },
  {
   "cell_type": "code",
   "execution_count": 104,
   "id": "e8116e3c-0bf9-4a4d-825d-69a909548d72",
   "metadata": {},
   "outputs": [
    {
     "data": {
      "text/plain": [
       "[1, 2, 3, 4, 5, 6, 6, 6, 6, 6]"
      ]
     },
     "execution_count": 104,
     "metadata": {},
     "output_type": "execute_result"
    }
   ],
   "source": [
    "l"
   ]
  },
  {
   "cell_type": "code",
   "execution_count": 105,
   "id": "b1c8c723-21a1-47c3-83ab-ec71191cc9d9",
   "metadata": {},
   "outputs": [],
   "source": [
    "l = [\"Apple\",\"Rice\" , \"Wine\" ,\"Banana\"]"
   ]
  },
  {
   "cell_type": "code",
   "execution_count": 106,
   "id": "f7c379f9-fa81-434f-9c8f-6b3a3158b152",
   "metadata": {},
   "outputs": [],
   "source": [
    "l.sort()"
   ]
  },
  {
   "cell_type": "code",
   "execution_count": 107,
   "id": "0407d37f-a6a7-496d-acc2-ff728eb8131e",
   "metadata": {},
   "outputs": [
    {
     "data": {
      "text/plain": [
       "['Apple', 'Banana', 'Rice', 'Wine']"
      ]
     },
     "execution_count": 107,
     "metadata": {},
     "output_type": "execute_result"
    }
   ],
   "source": [
    "l"
   ]
  },
  {
   "cell_type": "code",
   "execution_count": 108,
   "id": "bb8d4e7a-9772-41cf-ab5f-c9b1ecd7c28c",
   "metadata": {},
   "outputs": [],
   "source": [
    "l = [[],[],[],[]]"
   ]
  },
  {
   "cell_type": "code",
   "execution_count": 109,
   "id": "e6979faf-c275-41c9-8a49-0000ecf007c0",
   "metadata": {},
   "outputs": [],
   "source": [
    "l.append([])"
   ]
  },
  {
   "cell_type": "code",
   "execution_count": 110,
   "id": "97085860-03e0-4f8d-aa59-7c0b3aa76538",
   "metadata": {},
   "outputs": [
    {
     "data": {
      "text/plain": [
       "[[], [], [], [], []]"
      ]
     },
     "execution_count": 110,
     "metadata": {},
     "output_type": "execute_result"
    }
   ],
   "source": [
    "l"
   ]
  },
  {
   "cell_type": "code",
   "execution_count": 111,
   "id": "a74a41bc-b7f3-4c65-a651-45524e527d4d",
   "metadata": {},
   "outputs": [],
   "source": [
    "l.append([])"
   ]
  },
  {
   "cell_type": "code",
   "execution_count": 117,
   "id": "5f3a61bf-0739-4439-8a30-eca0dd5d9ba1",
   "metadata": {},
   "outputs": [],
   "source": [
    "l.insert(1,[2+3j])"
   ]
  },
  {
   "cell_type": "code",
   "execution_count": 118,
   "id": "69f3bfd4-55bf-4238-9460-e1f36c292522",
   "metadata": {},
   "outputs": [
    {
     "data": {
      "text/plain": [
       "[[], [(2+3j)], [], [], [], [], []]"
      ]
     },
     "execution_count": 118,
     "metadata": {},
     "output_type": "execute_result"
    }
   ],
   "source": [
    "l"
   ]
  },
  {
   "cell_type": "code",
   "execution_count": 122,
   "id": "9498e865-5c64-4f4b-ac7f-bf94f4ba4dc8",
   "metadata": {},
   "outputs": [
    {
     "name": "stdout",
     "output_type": "stream",
     "text": [
      " 5\n",
      " 5\n",
      " 54\n",
      " 4\n",
      " 4\n"
     ]
    },
    {
     "name": "stdout",
     "output_type": "stream",
     "text": [
      "[5, 5, 54, 4, 4]\n"
     ]
    }
   ],
   "source": [
    "l = []\n",
    "for i in range(5):\n",
    "    l.append(int(input()))\n",
    "print(l)"
   ]
  },
  {
   "cell_type": "code",
   "execution_count": 123,
   "id": "9000a4a3-83df-4c63-9f77-187db68a8b95",
   "metadata": {},
   "outputs": [],
   "source": []
  },
  {
   "cell_type": "code",
   "execution_count": 2,
   "id": "50bd2cba-145e-40bf-ab35-14cf8e3c35a0",
   "metadata": {},
   "outputs": [
    {
     "name": "stdout",
     "output_type": "stream",
     "text": [
      "Index of string b is  2\n",
      "Index of string b is  3\n",
      "Index of string b is  4\n",
      "The string in nested list is 'b'\n",
      "The string in nested list is 'b'\n",
      "The string in nested list is 'b'\n",
      "Index of string t is  1\n",
      "The string in nested list is 't'\n",
      " [[1, 2, 3], [11, 12], [21, 223], [4, 5, 6], [7, 8, 9], 'demo', 12.5] \n",
      "\n"
     ]
    }
   ],
   "source": [
    "# Find the index of the string element in the nested list and remove the string \n",
    "\n",
    "l = [[1,2,3],\n",
    "     [11,12,'b','b','b'],\n",
    "     [21,'t',223],\n",
    "     [4,5,6],\n",
    "     [7,8,9],\n",
    "     'demo'\n",
    "     ,12.5]\n",
    "\n",
    "for i in l:\n",
    "    if type(i) == list:\n",
    "        j=0\n",
    "        while j < len(i):\n",
    "            if type(i[j]) is str:\n",
    "                print(\"Index of string {} is \".format(i[j]),j)\n",
    "            j = j + 1\n",
    "\n",
    "        j=0            \n",
    "\n",
    "        while j < len(i):\n",
    "            if type(i[j]) is str:\n",
    "                print(\"The string in nested list is '{}'\".format(i[j]))\n",
    "                i.remove(i[j])\n",
    "                continue\n",
    "            j = j + 1\n",
    "\n",
    "print(\"List after removal of string from nested list is \\r\",l,'\\n')"
   ]
  },
  {
   "cell_type": "code",
   "execution_count": 1,
   "id": "14c47275-5c33-46ea-8353-cd0fa21ec211",
   "metadata": {},
   "outputs": [
    {
     "name": "stdout",
     "output_type": "stream",
     "text": [
      "Index of string 'b' is 4\n",
      "Index of string 'b' is 3\n",
      "Index of string 'b' is 2\n",
      "Index of string 't' is 1\n",
      "List after removal of string from nested list is:\n",
      "[1, 2, 3]\n",
      "[11, 12]\n",
      "[21, 223]\n",
      "[4, 5, 6]\n",
      "[7, 8, 9]\n",
      "demo\n",
      "12.5\n"
     ]
    }
   ],
   "source": [
    "l = [[1, 2, 3],\n",
    "     [11, 12, 'b', 'b', 'b'],\n",
    "     [21, 't', 223],\n",
    "     [4, 5, 6],\n",
    "     [7, 8, 9],\n",
    "     'demo',\n",
    "     12.5]\n",
    "\n",
    "for i in l:\n",
    "    if isinstance(i, list):\n",
    "        string_indices = [index for index, val in enumerate(i) if isinstance(val, str)]\n",
    "        for index in reversed(string_indices):\n",
    "            print(\"Index of string '{}' is {}\".format(i[index], index))\n",
    "            i.pop(index)\n",
    "\n",
    "print(\"List after removal of string from nested list is:\")\n",
    "for sublist in l:\n",
    "    print(sublist)\n"
   ]
  },
  {
   "cell_type": "code",
   "execution_count": 1,
   "id": "271ed19f-6c1f-456b-8081-0456b0cb2a28",
   "metadata": {},
   "outputs": [],
   "source": [
    "l = [1,2,3,4,5]"
   ]
  },
  {
   "cell_type": "code",
   "execution_count": 2,
   "id": "1d60447a-c117-49d9-a422-073087087e9e",
   "metadata": {},
   "outputs": [],
   "source": [
    "l1 = []"
   ]
  },
  {
   "cell_type": "code",
   "execution_count": 6,
   "id": "7395e7ee-896d-4fc7-8e6a-d4aefa5dabbb",
   "metadata": {},
   "outputs": [],
   "source": [
    "for i in \"sudh\":   # list comprehensing\n",
    "    l1.append(i)"
   ]
  },
  {
   "cell_type": "code",
   "execution_count": 4,
   "id": "8648153e-1d03-4ec4-b8b7-11e4f7ac7eec",
   "metadata": {},
   "outputs": [
    {
     "data": {
      "text/plain": [
       "['s', 'u', 'd', 'h']"
      ]
     },
     "execution_count": 4,
     "metadata": {},
     "output_type": "execute_result"
    }
   ],
   "source": [
    "l1"
   ]
  },
  {
   "cell_type": "code",
   "execution_count": 5,
   "id": "57ce8fc4-4df3-4dbb-98f6-9d8051442d00",
   "metadata": {},
   "outputs": [
    {
     "data": {
      "text/plain": [
       "['s', 'u', 'd', 'h']"
      ]
     },
     "execution_count": 5,
     "metadata": {},
     "output_type": "execute_result"
    }
   ],
   "source": [
    "[i for i in \"sudh\"]  # comprehensing list "
   ]
  },
  {
   "cell_type": "code",
   "execution_count": 7,
   "id": "435958ad-601d-4bc4-8901-84794e46396e",
   "metadata": {},
   "outputs": [
    {
     "data": {
      "text/plain": [
       "[['s'], ['u'], ['d'], ['h']]"
      ]
     },
     "execution_count": 7,
     "metadata": {},
     "output_type": "execute_result"
    }
   ],
   "source": [
    "[[i] for i in \"sudh\"]"
   ]
  },
  {
   "cell_type": "code",
   "execution_count": 8,
   "id": "8bb951bc-c3f6-4253-99f4-44f3a5c821b2",
   "metadata": {},
   "outputs": [],
   "source": [
    "l = []                  \n",
    "for i in range(10):\n",
    "    if i%2 == 0:\n",
    "        l.append(i)\n"
   ]
  },
  {
   "cell_type": "code",
   "execution_count": 9,
   "id": "27e92bd8-f070-40ba-a0bc-92eaf596c1a4",
   "metadata": {},
   "outputs": [
    {
     "data": {
      "text/plain": [
       "[0, 2, 4, 6, 8]"
      ]
     },
     "execution_count": 9,
     "metadata": {},
     "output_type": "execute_result"
    }
   ],
   "source": [
    "l"
   ]
  },
  {
   "cell_type": "code",
   "execution_count": 10,
   "id": "7c48de25-b802-44b9-bf78-9a4b270b8cfa",
   "metadata": {},
   "outputs": [
    {
     "data": {
      "text/plain": [
       "[0, 2, 4, 6, 8]"
      ]
     },
     "execution_count": 10,
     "metadata": {},
     "output_type": "execute_result"
    }
   ],
   "source": [
    "[i for i in range(10) if i% 2== 0]  # list comprehension "
   ]
  },
  {
   "cell_type": "code",
   "execution_count": 11,
   "id": "3efc4ee2-2555-4b6e-8d74-7eeabb5e3d15",
   "metadata": {},
   "outputs": [],
   "source": [
    "l = []                    # list comprehension \n",
    "for i in range(10):   \n",
    "    if i % 2 !=0:\n",
    "        l.append(\"odd\")\n",
    "    else:\n",
    "        l.append(\"Even\")"
   ]
  },
  {
   "cell_type": "code",
   "execution_count": 12,
   "id": "5591ea33-3751-4e04-9324-bc528c132f59",
   "metadata": {},
   "outputs": [
    {
     "data": {
      "text/plain": [
       "['Even', 'odd', 'Even', 'odd', 'Even', 'odd', 'Even', 'odd', 'Even', 'odd']"
      ]
     },
     "execution_count": 12,
     "metadata": {},
     "output_type": "execute_result"
    }
   ],
   "source": [
    "l"
   ]
  },
  {
   "cell_type": "code",
   "execution_count": 13,
   "id": "1fe10164-62fd-4fde-8a2f-50f2af38853c",
   "metadata": {},
   "outputs": [
    {
     "data": {
      "text/plain": [
       "['even', 'odd', 'even', 'odd', 'even', 'odd', 'even', 'odd', 'even', 'odd']"
      ]
     },
     "execution_count": 13,
     "metadata": {},
     "output_type": "execute_result"
    }
   ],
   "source": [
    "[\"odd\" if i% 2 !=0 else \"even\"  for i in range(10)] # List comprehension"
   ]
  },
  {
   "cell_type": "code",
   "execution_count": 14,
   "id": "c380afbb-d7a6-4b6e-b030-e2135040910e",
   "metadata": {},
   "outputs": [
    {
     "data": {
      "text/plain": [
       "[[0, 1, 2], [0, 1, 2], [0, 1, 2]]"
      ]
     },
     "execution_count": 14,
     "metadata": {},
     "output_type": "execute_result"
    }
   ],
   "source": [
    "mat = []\n",
    "for i in range(3):\n",
    "    mat.append([])\n",
    "    for j in range(3):\n",
    "        mat[i].append(j)\n",
    "\n",
    "mat"
   ]
  },
  {
   "cell_type": "code",
   "execution_count": 16,
   "id": "0eff6249-0cb3-497c-8daa-c64398964ae3",
   "metadata": {},
   "outputs": [
    {
     "data": {
      "text/plain": [
       "[[0, 1, 2], [0, 1, 2], [0, 1, 2]]"
      ]
     },
     "execution_count": 16,
     "metadata": {},
     "output_type": "execute_result"
    }
   ],
   "source": [
    "[[j for j in range (3)]for i in range(3)]"
   ]
  },
  {
   "cell_type": "code",
   "execution_count": 20,
   "id": "5522b31e-03f4-4ea1-af99-664054e72cfa",
   "metadata": {},
   "outputs": [
    {
     "data": {
      "text/plain": [
       "[0, 6]"
      ]
     },
     "execution_count": 20,
     "metadata": {},
     "output_type": "execute_result"
    }
   ],
   "source": [
    "[i for i in range(8) if i % 2 == 0 if i % 3 == 0]"
   ]
  },
  {
   "cell_type": "code",
   "execution_count": 21,
   "id": "35287ed5-ddea-4606-a7f0-5d350f5f5d59",
   "metadata": {},
   "outputs": [],
   "source": [
    "l = []\n",
    "for i in range(8):\n",
    "    if i % 2 == 0:\n",
    "        if i%3 == 0:\n",
    "            l.append(i)"
   ]
  },
  {
   "cell_type": "code",
   "execution_count": 22,
   "id": "0f949925-f416-4095-843c-7c0d39e28050",
   "metadata": {},
   "outputs": [
    {
     "data": {
      "text/plain": [
       "[0, 6]"
      ]
     },
     "execution_count": 22,
     "metadata": {},
     "output_type": "execute_result"
    }
   ],
   "source": [
    "l"
   ]
  },
  {
   "cell_type": "code",
   "execution_count": 25,
   "id": "2ea60cb5-9882-41e1-a8f3-68fdf1f34c0e",
   "metadata": {},
   "outputs": [],
   "source": [
    "l = [] \n",
    "for i in range(10):\n",
    "    l.append(i)\n"
   ]
  },
  {
   "cell_type": "code",
   "execution_count": 26,
   "id": "a5a61b95-10a2-46c1-bc6b-4771a8faecd5",
   "metadata": {},
   "outputs": [
    {
     "data": {
      "text/plain": [
       "[0, 1, 2, 3, 4, 5, 6, 7, 8, 9]"
      ]
     },
     "execution_count": 26,
     "metadata": {},
     "output_type": "execute_result"
    }
   ],
   "source": [
    "l"
   ]
  },
  {
   "cell_type": "code",
   "execution_count": 27,
   "id": "68a3098c-04fa-4ff7-9a45-25fa5fc52d50",
   "metadata": {},
   "outputs": [
    {
     "data": {
      "text/plain": [
       "['test', 'yes', 'no', 'test', 'test', 'test', 'test', 'test', 'test', 'test']"
      ]
     },
     "execution_count": 27,
     "metadata": {},
     "output_type": "execute_result"
    }
   ],
   "source": [
    "[\"yes\" if i == 1 else \"no\" if i == 2 else \"test\" for i in l ]"
   ]
  },
  {
   "cell_type": "code",
   "execution_count": 30,
   "id": "c31e2a7d-0959-4857-b23b-68d7c959aa41",
   "metadata": {},
   "outputs": [],
   "source": [
    "res = []\n",
    "for i in l :\n",
    "    if i == 1:\n",
    "        res.append(\"yes\")\n",
    "    elif i == 2:\n",
    "        res.append(\"no\")\n",
    "    else:\n",
    "        res.append(\"test\")"
   ]
  },
  {
   "cell_type": "code",
   "execution_count": 32,
   "id": "9093ab0c-1844-40cf-8b95-0cc940f4fb0a",
   "metadata": {},
   "outputs": [
    {
     "data": {
      "text/plain": [
       "['test', 'yes', 'no', 'test', 'test', 'test', 'test', 'test', 'test', 'test']"
      ]
     },
     "execution_count": 32,
     "metadata": {},
     "output_type": "execute_result"
    }
   ],
   "source": [
    "res"
   ]
  },
  {
   "cell_type": "code",
   "execution_count": 35,
   "id": "449c03fa-3fcc-4f49-9d2b-42c642c17ec2",
   "metadata": {},
   "outputs": [],
   "source": [
    "l = [ \"Bhim\" ,'a','b']"
   ]
  },
  {
   "cell_type": "code",
   "execution_count": 36,
   "id": "ec03c705-598c-4bce-9053-a62bff0f6de5",
   "metadata": {},
   "outputs": [],
   "source": [
    "l.sort()"
   ]
  },
  {
   "cell_type": "code",
   "execution_count": 37,
   "id": "13eb3b3a-a705-45c7-9a42-12b4a88569b5",
   "metadata": {},
   "outputs": [
    {
     "data": {
      "text/plain": [
       "['Bhim', 'a', 'b']"
      ]
     },
     "execution_count": 37,
     "metadata": {},
     "output_type": "execute_result"
    }
   ],
   "source": [
    "l"
   ]
  },
  {
   "cell_type": "code",
   "execution_count": 38,
   "id": "88407e6d-b99f-40b2-807b-74bdb7eff6ee",
   "metadata": {},
   "outputs": [],
   "source": [
    "l.reverse()"
   ]
  },
  {
   "cell_type": "code",
   "execution_count": 39,
   "id": "1942d528-1e6f-43a2-8dc7-d98145533ae2",
   "metadata": {},
   "outputs": [
    {
     "data": {
      "text/plain": [
       "['b', 'a', 'Bhim']"
      ]
     },
     "execution_count": 39,
     "metadata": {},
     "output_type": "execute_result"
    }
   ],
   "source": [
    "l"
   ]
  },
  {
   "cell_type": "markdown",
   "id": "adcd92b3-b7e8-41fc-b0e7-74e6e29f5be1",
   "metadata": {},
   "source": [
    "# Tuple"
   ]
  },
  {
   "cell_type": "code",
   "execution_count": 41,
   "id": "fda73c1a-373a-463a-ad23-addb3136b3cd",
   "metadata": {},
   "outputs": [],
   "source": [
    "t = ()"
   ]
  },
  {
   "cell_type": "code",
   "execution_count": 42,
   "id": "4f368b04-c285-436f-8094-c79302502fb6",
   "metadata": {},
   "outputs": [
    {
     "data": {
      "text/plain": [
       "tuple"
      ]
     },
     "execution_count": 42,
     "metadata": {},
     "output_type": "execute_result"
    }
   ],
   "source": [
    "type(t)"
   ]
  },
  {
   "cell_type": "code",
   "execution_count": 43,
   "id": "463cf820-5180-4c4a-8454-cad3fbf991d1",
   "metadata": {},
   "outputs": [],
   "source": [
    "l = []"
   ]
  },
  {
   "cell_type": "code",
   "execution_count": 44,
   "id": "425add1f-8254-482a-9cd5-8946fdb35e30",
   "metadata": {},
   "outputs": [
    {
     "data": {
      "text/plain": [
       "list"
      ]
     },
     "execution_count": 44,
     "metadata": {},
     "output_type": "execute_result"
    }
   ],
   "source": [
    "type(l)"
   ]
  },
  {
   "cell_type": "code",
   "execution_count": 45,
   "id": "7e05e5aa-0d89-47b4-bc5b-e8b77ceaa156",
   "metadata": {},
   "outputs": [],
   "source": [
    "t1 = (234,34,\"sudh\",3.45,True)"
   ]
  },
  {
   "cell_type": "code",
   "execution_count": 46,
   "id": "3a0b4291-ac24-43bc-aaf1-a7381345a621",
   "metadata": {},
   "outputs": [],
   "source": [
    "l = [234,34,\"sudh\",3.45,True]"
   ]
  },
  {
   "cell_type": "code",
   "execution_count": 48,
   "id": "1d070b94-aad5-4562-b136-6a5e94b44a64",
   "metadata": {},
   "outputs": [
    {
     "data": {
      "text/plain": [
       "234"
      ]
     },
     "execution_count": 48,
     "metadata": {},
     "output_type": "execute_result"
    }
   ],
   "source": [
    "t1[0]"
   ]
  },
  {
   "cell_type": "code",
   "execution_count": 49,
   "id": "a4c20d25-da7c-48eb-aefe-00b2d19a550e",
   "metadata": {},
   "outputs": [
    {
     "data": {
      "text/plain": [
       "234"
      ]
     },
     "execution_count": 49,
     "metadata": {},
     "output_type": "execute_result"
    }
   ],
   "source": [
    "l[0]"
   ]
  },
  {
   "cell_type": "code",
   "execution_count": 51,
   "id": "55832be8-28bf-45db-93e6-02109d5300d2",
   "metadata": {},
   "outputs": [
    {
     "ename": "IndexError",
     "evalue": "tuple index out of range",
     "output_type": "error",
     "traceback": [
      "\u001b[1;31m---------------------------------------------------------------------------\u001b[0m",
      "\u001b[1;31mIndexError\u001b[0m                                Traceback (most recent call last)",
      "Cell \u001b[1;32mIn[51], line 1\u001b[0m\n\u001b[1;32m----> 1\u001b[0m t[\u001b[38;5;241m5\u001b[39m]\n",
      "\u001b[1;31mIndexError\u001b[0m: tuple index out of range"
     ]
    }
   ],
   "source": [
    "t[5]  # index does not exist "
   ]
  },
  {
   "cell_type": "code",
   "execution_count": 52,
   "id": "f7d51ee1-76f3-43fe-898e-05e73b8ebf59",
   "metadata": {},
   "outputs": [
    {
     "data": {
      "text/plain": [
       "(234, 34, 'sudh', 3.45)"
      ]
     },
     "execution_count": 52,
     "metadata": {},
     "output_type": "execute_result"
    }
   ],
   "source": [
    "t1[0:4]"
   ]
  },
  {
   "cell_type": "code",
   "execution_count": 54,
   "id": "b88c3cc2-5791-4968-b673-ea4521c2b0e2",
   "metadata": {},
   "outputs": [
    {
     "data": {
      "text/plain": [
       "(True, 3.45, 'sudh', 34, 234)"
      ]
     },
     "execution_count": 54,
     "metadata": {},
     "output_type": "execute_result"
    }
   ],
   "source": [
    "t1[::-1]  # data in revese "
   ]
  },
  {
   "cell_type": "code",
   "execution_count": 55,
   "id": "2a2642e4-5136-439a-a409-c1574ac72905",
   "metadata": {},
   "outputs": [
    {
     "data": {
      "text/plain": [
       "True"
      ]
     },
     "execution_count": 55,
     "metadata": {},
     "output_type": "execute_result"
    }
   ],
   "source": [
    "t1[-1]"
   ]
  },
  {
   "cell_type": "code",
   "execution_count": 57,
   "id": "57bc5cf4-1720-49ba-a7b8-b32e42bce9a0",
   "metadata": {},
   "outputs": [
    {
     "data": {
      "text/plain": [
       "[234, 34, 'sudh', 3.45, True]"
      ]
     },
     "execution_count": 57,
     "metadata": {},
     "output_type": "execute_result"
    }
   ],
   "source": [
    "l"
   ]
  },
  {
   "cell_type": "code",
   "execution_count": 58,
   "id": "23a45f0e-2046-4002-a595-d79e2e8ac935",
   "metadata": {},
   "outputs": [],
   "source": [
    "l[1] = \"Harish\" # list is mutable "
   ]
  },
  {
   "cell_type": "code",
   "execution_count": 59,
   "id": "1f23f828-8423-4c69-aed1-d568d89f47c6",
   "metadata": {},
   "outputs": [
    {
     "data": {
      "text/plain": [
       "[234, 'Harish', 'sudh', 3.45, True]"
      ]
     },
     "execution_count": 59,
     "metadata": {},
     "output_type": "execute_result"
    }
   ],
   "source": [
    "l"
   ]
  },
  {
   "cell_type": "code",
   "execution_count": 61,
   "id": "38dd04b9-d615-473b-896e-9362bab0139a",
   "metadata": {},
   "outputs": [
    {
     "ename": "TypeError",
     "evalue": "'tuple' object does not support item assignment",
     "output_type": "error",
     "traceback": [
      "\u001b[1;31m---------------------------------------------------------------------------\u001b[0m",
      "\u001b[1;31mTypeError\u001b[0m                                 Traceback (most recent call last)",
      "Cell \u001b[1;32mIn[61], line 1\u001b[0m\n\u001b[1;32m----> 1\u001b[0m t1 [\u001b[38;5;241m2\u001b[39m] \u001b[38;5;241m=\u001b[39m \u001b[38;5;124m\"\u001b[39m\u001b[38;5;124mMarks\u001b[39m\u001b[38;5;124m\"\u001b[39m\n",
      "\u001b[1;31mTypeError\u001b[0m: 'tuple' object does not support item assignment"
     ]
    }
   ],
   "source": [
    "t1 [2] = \"Marks\" # tuples is immutable "
   ]
  },
  {
   "cell_type": "code",
   "execution_count": 62,
   "id": "16cef41e-bd81-4675-8183-f13151693b9a",
   "metadata": {},
   "outputs": [],
   "source": [
    "t2 = (234,45,565)"
   ]
  },
  {
   "cell_type": "code",
   "execution_count": 64,
   "id": "78436f32-d08e-4108-9ad4-3212349c543c",
   "metadata": {},
   "outputs": [
    {
     "data": {
      "text/plain": [
       "(234, 34, 'sudh', 3.45, True, 234, 45, 565)"
      ]
     },
     "execution_count": 64,
     "metadata": {},
     "output_type": "execute_result"
    }
   ],
   "source": [
    "t1 + t2   # complitly new location"
   ]
  },
  {
   "cell_type": "code",
   "execution_count": 65,
   "id": "23cb209e-bcc8-46f0-b268-a830fa4e54db",
   "metadata": {},
   "outputs": [
    {
     "data": {
      "text/plain": [
       "(234, 34, 'sudh', 3.45, True)"
      ]
     },
     "execution_count": 65,
     "metadata": {},
     "output_type": "execute_result"
    }
   ],
   "source": [
    "t1"
   ]
  },
  {
   "cell_type": "code",
   "execution_count": 66,
   "id": "ac6b22a1-e9f6-4fde-9bdc-0470c8717c42",
   "metadata": {},
   "outputs": [
    {
     "data": {
      "text/plain": [
       "True"
      ]
     },
     "execution_count": 66,
     "metadata": {},
     "output_type": "execute_result"
    }
   ],
   "source": [
    "34 in t1"
   ]
  },
  {
   "cell_type": "code",
   "execution_count": 68,
   "id": "44657b64-bbc5-4877-b8e2-1ca141886f51",
   "metadata": {},
   "outputs": [
    {
     "data": {
      "text/plain": [
       "False"
      ]
     },
     "execution_count": 68,
     "metadata": {},
     "output_type": "execute_result"
    }
   ],
   "source": [
    "\"dgd\" in t1"
   ]
  },
  {
   "cell_type": "code",
   "execution_count": 69,
   "id": "c766d6e1-b9e8-4c65-af87-8e2a14dc5282",
   "metadata": {},
   "outputs": [
    {
     "ename": "TypeError",
     "evalue": "'>' not supported between instances of 'str' and 'int'",
     "output_type": "error",
     "traceback": [
      "\u001b[1;31m---------------------------------------------------------------------------\u001b[0m",
      "\u001b[1;31mTypeError\u001b[0m                                 Traceback (most recent call last)",
      "Cell \u001b[1;32mIn[69], line 1\u001b[0m\n\u001b[1;32m----> 1\u001b[0m \u001b[38;5;28mmax\u001b[39m(t1)\n",
      "\u001b[1;31mTypeError\u001b[0m: '>' not supported between instances of 'str' and 'int'"
     ]
    }
   ],
   "source": [
    "max(t1)"
   ]
  },
  {
   "cell_type": "code",
   "execution_count": 70,
   "id": "7e9408ea-d014-48ab-85cb-c2e2b39c95e8",
   "metadata": {},
   "outputs": [],
   "source": [
    "t3 = (1,2,3,4,5,6)"
   ]
  },
  {
   "cell_type": "code",
   "execution_count": 72,
   "id": "aad65911-597a-4c7a-88fe-b2037dfa0c9a",
   "metadata": {},
   "outputs": [
    {
     "data": {
      "text/plain": [
       "6"
      ]
     },
     "execution_count": 72,
     "metadata": {},
     "output_type": "execute_result"
    }
   ],
   "source": [
    "max(t3)"
   ]
  },
  {
   "cell_type": "code",
   "execution_count": 73,
   "id": "eb2998f8-d0d7-4ad5-a42b-f72be39e64b4",
   "metadata": {},
   "outputs": [],
   "source": [
    "t4 = ( \" a\" , \"b\" ,\"c\")"
   ]
  },
  {
   "cell_type": "code",
   "execution_count": 74,
   "id": "1c888cd9-8e63-47af-b787-def18fff1e38",
   "metadata": {},
   "outputs": [
    {
     "data": {
      "text/plain": [
       "'c'"
      ]
     },
     "execution_count": 74,
     "metadata": {},
     "output_type": "execute_result"
    }
   ],
   "source": [
    "max(t4)"
   ]
  },
  {
   "cell_type": "code",
   "execution_count": 4,
   "id": "8d26e8c6-cd6c-4382-bc8b-b60b814d554f",
   "metadata": {},
   "outputs": [
    {
     "data": {
      "text/plain": [
       "1"
      ]
     },
     "execution_count": 4,
     "metadata": {},
     "output_type": "execute_result"
    }
   ],
   "source": [
    "t3 = (1,2,3,4,5,6)\n",
    "t3.count(1)"
   ]
  },
  {
   "cell_type": "code",
   "execution_count": 5,
   "id": "7b07591f-79db-4d58-8818-1ed45d254acf",
   "metadata": {},
   "outputs": [
    {
     "data": {
      "text/plain": [
       "1"
      ]
     },
     "execution_count": 5,
     "metadata": {},
     "output_type": "execute_result"
    }
   ],
   "source": [
    "min(t3)"
   ]
  },
  {
   "cell_type": "code",
   "execution_count": 6,
   "id": "297f68e1-5260-4c2a-81a6-409dd6bfcfef",
   "metadata": {},
   "outputs": [
    {
     "data": {
      "text/plain": [
       "6"
      ]
     },
     "execution_count": 6,
     "metadata": {},
     "output_type": "execute_result"
    }
   ],
   "source": [
    "max(t3)"
   ]
  },
  {
   "cell_type": "code",
   "execution_count": 7,
   "id": "826f6f2b-156a-4ed5-bf04-864b3355073a",
   "metadata": {},
   "outputs": [
    {
     "data": {
      "text/plain": [
       "(1, 2, 3, 4, 5, 6)"
      ]
     },
     "execution_count": 7,
     "metadata": {},
     "output_type": "execute_result"
    }
   ],
   "source": [
    "t3"
   ]
  },
  {
   "cell_type": "code",
   "execution_count": 8,
   "id": "3bc7587f-920d-4d35-aa3c-53af132238ae",
   "metadata": {},
   "outputs": [],
   "source": [
    "t1 = (234,34,'sudh',3.44,34,34,34,True)"
   ]
  },
  {
   "cell_type": "code",
   "execution_count": 9,
   "id": "61941004-44b4-43aa-b772-2418b3bc4368",
   "metadata": {},
   "outputs": [
    {
     "data": {
      "text/plain": [
       "(234, 34, 'sudh', 3.44, 34, 34, 34, True)"
      ]
     },
     "execution_count": 9,
     "metadata": {},
     "output_type": "execute_result"
    }
   ],
   "source": [
    "t1"
   ]
  },
  {
   "cell_type": "code",
   "execution_count": 10,
   "id": "3a02e0b2-5e71-4e65-a17e-f4c29757ba4d",
   "metadata": {},
   "outputs": [],
   "source": [
    "t5 = list(t1)  # convert tuple to list and performing operations because of immutability "
   ]
  },
  {
   "cell_type": "code",
   "execution_count": 11,
   "id": "85f32d63-1dc6-4138-a417-ca1ba07c79c7",
   "metadata": {},
   "outputs": [
    {
     "data": {
      "text/plain": [
       "[234, 34, 'sudh', 3.44, 34, 34, 34, True]"
      ]
     },
     "execution_count": 11,
     "metadata": {},
     "output_type": "execute_result"
    }
   ],
   "source": [
    "t5"
   ]
  },
  {
   "cell_type": "code",
   "execution_count": 12,
   "id": "df76b9dc-f0d3-4d48-8733-24af864bb590",
   "metadata": {},
   "outputs": [],
   "source": [
    "t5.append(\"Bhim\")"
   ]
  },
  {
   "cell_type": "code",
   "execution_count": 13,
   "id": "f6e9edb8-1dda-4171-8567-c35f0505c8cb",
   "metadata": {},
   "outputs": [
    {
     "data": {
      "text/plain": [
       "[234, 34, 'sudh', 3.44, 34, 34, 34, True, 'Bhim']"
      ]
     },
     "execution_count": 13,
     "metadata": {},
     "output_type": "execute_result"
    }
   ],
   "source": [
    "t5"
   ]
  },
  {
   "cell_type": "code",
   "execution_count": 16,
   "id": "d64ad392-2ed3-49e7-a21f-812853c32cc9",
   "metadata": {},
   "outputs": [],
   "source": [
    "t6 = tuple(t5)  # convert list into tuples"
   ]
  },
  {
   "cell_type": "code",
   "execution_count": 15,
   "id": "34e464a7-3d6f-47da-946e-c4b36a40c14b",
   "metadata": {},
   "outputs": [
    {
     "data": {
      "text/plain": [
       "(234, 34, 'sudh', 3.44, 34, 34, 34, True, 'Bhim')"
      ]
     },
     "execution_count": 15,
     "metadata": {},
     "output_type": "execute_result"
    }
   ],
   "source": [
    "t6"
   ]
  },
  {
   "cell_type": "code",
   "execution_count": 18,
   "id": "12e074ce-898f-4d52-8aa4-e9cbaae179fd",
   "metadata": {},
   "outputs": [],
   "source": [
    "t = ((3,5,6,6),(\"dfhe\",45,43))"
   ]
  },
  {
   "cell_type": "code",
   "execution_count": 19,
   "id": "140b68b0-914e-407b-95ad-e05bbc2baab7",
   "metadata": {},
   "outputs": [
    {
     "data": {
      "text/plain": [
       "((3, 5, 6, 6), ('dfhe', 45, 43))"
      ]
     },
     "execution_count": 19,
     "metadata": {},
     "output_type": "execute_result"
    }
   ],
   "source": [
    "t "
   ]
  },
  {
   "cell_type": "code",
   "execution_count": 20,
   "id": "6ebe2486-aa7c-4bbe-bc2a-a1d6f75475ee",
   "metadata": {},
   "outputs": [
    {
     "data": {
      "text/plain": [
       "('dfhe', 45, 43)"
      ]
     },
     "execution_count": 20,
     "metadata": {},
     "output_type": "execute_result"
    }
   ],
   "source": [
    "t[1]"
   ]
  },
  {
   "cell_type": "code",
   "execution_count": 21,
   "id": "a51acb85-2ce1-42fd-8ae0-be7bfa1ac761",
   "metadata": {},
   "outputs": [
    {
     "data": {
      "text/plain": [
       "(3, 5, 6, 6)"
      ]
     },
     "execution_count": 21,
     "metadata": {},
     "output_type": "execute_result"
    }
   ],
   "source": [
    "t[0]"
   ]
  },
  {
   "cell_type": "code",
   "execution_count": 22,
   "id": "4f71df08-d6cf-4f2f-ae81-cb8a83c872a4",
   "metadata": {},
   "outputs": [
    {
     "name": "stdout",
     "output_type": "stream",
     "text": [
      "(3, 5, 6, 6)\n",
      "('dfhe', 45, 43)\n"
     ]
    }
   ],
   "source": [
    "for i in t:\n",
    "    print(i)"
   ]
  },
  {
   "cell_type": "code",
   "execution_count": 23,
   "id": "fcefbe12-99d3-49e9-826f-a66bb1e2db38",
   "metadata": {},
   "outputs": [
    {
     "name": "stdout",
     "output_type": "stream",
     "text": [
      "3\n",
      "dfhe\n"
     ]
    }
   ],
   "source": [
    "for i in t:\n",
    "    if type(i)==tuple:\n",
    "        print(i[0])"
   ]
  },
  {
   "cell_type": "code",
   "execution_count": 24,
   "id": "1ce933e8-1b8f-4db6-8aad-d5ca84eac97d",
   "metadata": {},
   "outputs": [
    {
     "data": {
      "text/plain": [
       "(234, 34, 'sudh', 3.44, 34, 34, 34, True)"
      ]
     },
     "execution_count": 24,
     "metadata": {},
     "output_type": "execute_result"
    }
   ],
   "source": [
    "t1"
   ]
  },
  {
   "cell_type": "code",
   "execution_count": 26,
   "id": "4710976e-1e42-4522-abe4-effa1d97412a",
   "metadata": {},
   "outputs": [
    {
     "data": {
      "text/plain": [
       "[234, 34, 'sudh', 3.44, 34, 34, 34, True, 'Bhim']"
      ]
     },
     "execution_count": 26,
     "metadata": {},
     "output_type": "execute_result"
    }
   ],
   "source": [
    "t5"
   ]
  },
  {
   "cell_type": "code",
   "execution_count": 27,
   "id": "42d22e12-6286-4c07-8263-3988ff8f4970",
   "metadata": {},
   "outputs": [
    {
     "name": "stdout",
     "output_type": "stream",
     "text": [
      "its not same\n"
     ]
    }
   ],
   "source": [
    "if len(t1)==len(t5):\n",
    "    print(\"it is same\")\n",
    "else:\n",
    "    print(\"its not same\")"
   ]
  },
  {
   "cell_type": "code",
   "execution_count": 30,
   "id": "57743c16-3a24-4bba-8dcd-8a40cbbcf564",
   "metadata": {},
   "outputs": [
    {
     "name": "stdout",
     "output_type": "stream",
     "text": [
      "take user input Bhim\n"
     ]
    },
    {
     "name": "stdout",
     "output_type": "stream",
     "text": [
      "Yes ur name is available\n"
     ]
    }
   ],
   "source": [
    "i = input(\"take user input\")\n",
    "\n",
    "if i in t5:\n",
    "    print(\"Yes ur name is available\")\n",
    "else:\n",
    "    print(\"Your name is not available\")"
   ]
  },
  {
   "cell_type": "markdown",
   "id": "5d1ed094-c739-405e-be81-b438372c9999",
   "metadata": {},
   "source": [
    "# set"
   ]
  },
  {
   "cell_type": "code",
   "execution_count": 35,
   "id": "839c64ea-7351-4083-8fb6-0dfeaddfd2f8",
   "metadata": {},
   "outputs": [],
   "source": [
    "x = set()   # set is given distinct elements, indexing does not support, unordered collection or not sorted "
   ]
  },
  {
   "cell_type": "code",
   "execution_count": 32,
   "id": "0a251386-adaa-4671-bae3-262f30246eab",
   "metadata": {},
   "outputs": [
    {
     "data": {
      "text/plain": [
       "set"
      ]
     },
     "execution_count": 32,
     "metadata": {},
     "output_type": "execute_result"
    }
   ],
   "source": [
    "type(x)"
   ]
  },
  {
   "cell_type": "code",
   "execution_count": 33,
   "id": "17944345-a458-4076-bd5b-20c6b86d8068",
   "metadata": {},
   "outputs": [],
   "source": [
    "l =[34,45,64,74,55,11,55,48,45,45,45]"
   ]
  },
  {
   "cell_type": "code",
   "execution_count": 34,
   "id": "9463d6ff-10ef-466c-9704-3907f4a14337",
   "metadata": {},
   "outputs": [
    {
     "data": {
      "text/plain": [
       "{11, 34, 45, 48, 55, 64, 74}"
      ]
     },
     "execution_count": 34,
     "metadata": {},
     "output_type": "execute_result"
    }
   ],
   "source": [
    "set(l)"
   ]
  },
  {
   "cell_type": "code",
   "execution_count": 36,
   "id": "15f69c29-6e47-4239-b5ae-d84a894ee15b",
   "metadata": {},
   "outputs": [],
   "source": [
    "s = set(l)"
   ]
  },
  {
   "cell_type": "code",
   "execution_count": 37,
   "id": "eaba25c4-fbd1-440e-9b4b-e5d8b28d9ef3",
   "metadata": {},
   "outputs": [
    {
     "data": {
      "text/plain": [
       "{11, 34, 45, 48, 55, 64, 74}"
      ]
     },
     "execution_count": 37,
     "metadata": {},
     "output_type": "execute_result"
    }
   ],
   "source": [
    "s"
   ]
  },
  {
   "cell_type": "code",
   "execution_count": 39,
   "id": "6e30d43f-b433-4868-b05c-4b4157107011",
   "metadata": {},
   "outputs": [
    {
     "name": "stdout",
     "output_type": "stream",
     "text": [
      "64\n",
      "34\n",
      "74\n",
      "11\n",
      "45\n",
      "48\n",
      "55\n"
     ]
    }
   ],
   "source": [
    "for i in s:\n",
    "    print(i)"
   ]
  },
  {
   "cell_type": "code",
   "execution_count": 40,
   "id": "d8875e18-394b-4196-88e3-bf01118e5341",
   "metadata": {},
   "outputs": [
    {
     "data": {
      "text/plain": [
       "True"
      ]
     },
     "execution_count": 40,
     "metadata": {},
     "output_type": "execute_result"
    }
   ],
   "source": [
    "74 in s"
   ]
  },
  {
   "cell_type": "code",
   "execution_count": 42,
   "id": "040a6e69-c0e2-43d2-ad9c-88b3526ec768",
   "metadata": {},
   "outputs": [],
   "source": [
    "s = set()\n",
    "s.add(\"bhim\")"
   ]
  },
  {
   "cell_type": "code",
   "execution_count": 43,
   "id": "c4496258-f1ad-4679-8782-65364506ee4f",
   "metadata": {},
   "outputs": [
    {
     "data": {
      "text/plain": [
       "{'bhim'}"
      ]
     },
     "execution_count": 43,
     "metadata": {},
     "output_type": "execute_result"
    }
   ],
   "source": [
    "s"
   ]
  },
  {
   "cell_type": "code",
   "execution_count": 44,
   "id": "b7234df6-b6eb-4c8d-a29b-5b2b462c3c46",
   "metadata": {},
   "outputs": [],
   "source": [
    "s.clear()"
   ]
  },
  {
   "cell_type": "code",
   "execution_count": 45,
   "id": "517c3a92-3e41-4311-a055-e36c57e2a50d",
   "metadata": {},
   "outputs": [
    {
     "data": {
      "text/plain": [
       "set()"
      ]
     },
     "execution_count": 45,
     "metadata": {},
     "output_type": "execute_result"
    }
   ],
   "source": [
    "s"
   ]
  },
  {
   "cell_type": "code",
   "execution_count": 8,
   "id": "1e2297ec-7b58-47ab-9c63-b5b5e208df01",
   "metadata": {},
   "outputs": [],
   "source": [
    "s={45,33,34,22,23,39}"
   ]
  },
  {
   "cell_type": "code",
   "execution_count": 9,
   "id": "c4f5f5db-fc17-4a13-a59c-f5234ed5723d",
   "metadata": {},
   "outputs": [],
   "source": [
    "s.remove(23)"
   ]
  },
  {
   "cell_type": "code",
   "execution_count": 10,
   "id": "47896a8e-f568-470d-afda-563c3d63fa2a",
   "metadata": {},
   "outputs": [
    {
     "data": {
      "text/plain": [
       "{22, 33, 34, 39, 45}"
      ]
     },
     "execution_count": 10,
     "metadata": {},
     "output_type": "execute_result"
    }
   ],
   "source": [
    "s"
   ]
  },
  {
   "cell_type": "code",
   "execution_count": 11,
   "id": "314adff8-4d26-4943-b3c3-dafe5ccd1e88",
   "metadata": {},
   "outputs": [
    {
     "data": {
      "text/plain": [
       "{22, 33, 34, 39, 45}"
      ]
     },
     "execution_count": 11,
     "metadata": {},
     "output_type": "execute_result"
    }
   ],
   "source": [
    "s "
   ]
  },
  {
   "cell_type": "code",
   "execution_count": 12,
   "id": "04bbbe4b-8bc1-4841-8454-d94e7d43dae5",
   "metadata": {},
   "outputs": [],
   "source": [
    "s.add(23)"
   ]
  },
  {
   "cell_type": "code",
   "execution_count": 13,
   "id": "92af140f-0179-43ca-b53e-ffebf084ffc8",
   "metadata": {},
   "outputs": [
    {
     "data": {
      "text/plain": [
       "{22, 23, 33, 34, 39, 45}"
      ]
     },
     "execution_count": 13,
     "metadata": {},
     "output_type": "execute_result"
    }
   ],
   "source": [
    "s"
   ]
  },
  {
   "cell_type": "code",
   "execution_count": 14,
   "id": "0c3fcaa8-de8f-43e1-aa0d-e5997e2e6a90",
   "metadata": {},
   "outputs": [],
   "source": [
    "s1 = set()"
   ]
  },
  {
   "cell_type": "code",
   "execution_count": 15,
   "id": "955187c4-d021-44ba-a0dd-edf12cf86798",
   "metadata": {},
   "outputs": [],
   "source": [
    "l = [232,33,333,53,44,55]"
   ]
  },
  {
   "cell_type": "code",
   "execution_count": 16,
   "id": "9e3d237a-93a8-49e8-bc66-bbe32626435f",
   "metadata": {},
   "outputs": [
    {
     "ename": "TypeError",
     "evalue": "unsupported operand type(s) for +: 'set' and 'set'",
     "output_type": "error",
     "traceback": [
      "\u001b[1;31m---------------------------------------------------------------------------\u001b[0m",
      "\u001b[1;31mTypeError\u001b[0m                                 Traceback (most recent call last)",
      "Cell \u001b[1;32mIn[16], line 1\u001b[0m\n\u001b[1;32m----> 1\u001b[0m s \u001b[38;5;241m+\u001b[39m s1\n",
      "\u001b[1;31mTypeError\u001b[0m: unsupported operand type(s) for +: 'set' and 'set'"
     ]
    }
   ],
   "source": [
    "s + s1"
   ]
  },
  {
   "cell_type": "code",
   "execution_count": 17,
   "id": "9df2ae19-7b88-4c39-9937-64cece3f37cc",
   "metadata": {},
   "outputs": [
    {
     "ename": "TypeError",
     "evalue": "unsupported operand type(s) for *: 'set' and 'int'",
     "output_type": "error",
     "traceback": [
      "\u001b[1;31m---------------------------------------------------------------------------\u001b[0m",
      "\u001b[1;31mTypeError\u001b[0m                                 Traceback (most recent call last)",
      "Cell \u001b[1;32mIn[17], line 1\u001b[0m\n\u001b[1;32m----> 1\u001b[0m s \u001b[38;5;241m*\u001b[39m \u001b[38;5;241m4\u001b[39m\n",
      "\u001b[1;31mTypeError\u001b[0m: unsupported operand type(s) for *: 'set' and 'int'"
     ]
    }
   ],
   "source": [
    "s * 4"
   ]
  },
  {
   "cell_type": "code",
   "execution_count": 19,
   "id": "ec067dbc-3587-412b-b081-17466f12c315",
   "metadata": {},
   "outputs": [],
   "source": [
    "l4 =list(s)"
   ]
  },
  {
   "cell_type": "code",
   "execution_count": 20,
   "id": "e5f62164-1d00-4af3-be49-03662201ffd5",
   "metadata": {},
   "outputs": [],
   "source": [
    "l4.append(123)"
   ]
  },
  {
   "cell_type": "code",
   "execution_count": 21,
   "id": "4d773137-a3d3-4395-8e6e-c9d07084d540",
   "metadata": {},
   "outputs": [
    {
     "data": {
      "text/plain": [
       "[33, 34, 23, 22, 39, 45, 123]"
      ]
     },
     "execution_count": 21,
     "metadata": {},
     "output_type": "execute_result"
    }
   ],
   "source": [
    "l4"
   ]
  },
  {
   "cell_type": "code",
   "execution_count": 23,
   "id": "b6a9cd1c-7c89-478e-90d1-78204cac8f1f",
   "metadata": {},
   "outputs": [],
   "source": [
    "t4 = tuple(l4)"
   ]
  },
  {
   "cell_type": "code",
   "execution_count": 24,
   "id": "f465e45a-ad96-48a5-a112-5296b6be879a",
   "metadata": {},
   "outputs": [
    {
     "data": {
      "text/plain": [
       "{22, 23, 33, 34, 39, 45, 123}"
      ]
     },
     "execution_count": 24,
     "metadata": {},
     "output_type": "execute_result"
    }
   ],
   "source": [
    "set(l4)"
   ]
  },
  {
   "cell_type": "markdown",
   "id": "3e06fce6-e2e9-42a6-9bc4-d1c2a389a215",
   "metadata": {},
   "source": [
    "# Dictionary "
   ]
  },
  {
   "cell_type": "code",
   "execution_count": 25,
   "id": "9471c60f-e87d-4914-b629-a9d0b25108eb",
   "metadata": {},
   "outputs": [],
   "source": [
    "x = {}"
   ]
  },
  {
   "cell_type": "code",
   "execution_count": 26,
   "id": "68e71894-c796-49f1-a08b-122b2bccf640",
   "metadata": {},
   "outputs": [
    {
     "data": {
      "text/plain": [
       "dict"
      ]
     },
     "execution_count": 26,
     "metadata": {},
     "output_type": "execute_result"
    }
   ],
   "source": [
    "type(x)"
   ]
  },
  {
   "cell_type": "code",
   "execution_count": 27,
   "id": "2713d37b-b06a-4432-8334-8a28cfb0c9e9",
   "metadata": {},
   "outputs": [],
   "source": [
    "x = {23,12}"
   ]
  },
  {
   "cell_type": "code",
   "execution_count": 28,
   "id": "59a1a3bd-c936-436d-ad76-300051a59990",
   "metadata": {},
   "outputs": [
    {
     "data": {
      "text/plain": [
       "set"
      ]
     },
     "execution_count": 28,
     "metadata": {},
     "output_type": "execute_result"
    }
   ],
   "source": [
    "type(x)"
   ]
  },
  {
   "cell_type": "code",
   "execution_count": 31,
   "id": "59cd25ee-c55b-4cf7-ae31-2ce2b0278b9c",
   "metadata": {},
   "outputs": [],
   "source": [
    "x = {\"name\": \"Bhima\", \"age\":29}  # store data based on indexs = key pair and value "
   ]
  },
  {
   "cell_type": "code",
   "execution_count": 30,
   "id": "1a31153f-7bb1-4f2b-b8a0-00d2a6e31dba",
   "metadata": {},
   "outputs": [
    {
     "data": {
      "text/plain": [
       "dict"
      ]
     },
     "execution_count": 30,
     "metadata": {},
     "output_type": "execute_result"
    }
   ],
   "source": [
    "type(x)"
   ]
  },
  {
   "cell_type": "code",
   "execution_count": 34,
   "id": "dcf8f032-219c-4121-be50-7e8393c4c5a6",
   "metadata": {},
   "outputs": [
    {
     "data": {
      "text/plain": [
       "dict_keys(['name', 'age'])"
      ]
     },
     "execution_count": 34,
     "metadata": {},
     "output_type": "execute_result"
    }
   ],
   "source": [
    "x.keys()"
   ]
  },
  {
   "cell_type": "code",
   "execution_count": 35,
   "id": "f1c6dc0f-948c-4c40-b51e-00940519525b",
   "metadata": {},
   "outputs": [
    {
     "data": {
      "text/plain": [
       "dict_values(['Bhima', 29])"
      ]
     },
     "execution_count": 35,
     "metadata": {},
     "output_type": "execute_result"
    }
   ],
   "source": [
    "x.values()"
   ]
  },
  {
   "cell_type": "code",
   "execution_count": 36,
   "id": "cd2ee85a-cc43-406c-a794-9031eddd078d",
   "metadata": {},
   "outputs": [],
   "source": [
    "x = {\"name\": \"Bhima\", \"age\":29, \"name\": \"Pawar\", True: \"how\"} # update the latest one  Key will be always be unique "
   ]
  },
  {
   "cell_type": "code",
   "execution_count": 37,
   "id": "c6b01f84-0498-4616-b4fc-b1ee84c1d77e",
   "metadata": {},
   "outputs": [
    {
     "data": {
      "text/plain": [
       "{'name': 'Pawar', 'age': 29, True: 'how'}"
      ]
     },
     "execution_count": 37,
     "metadata": {},
     "output_type": "execute_result"
    }
   ],
   "source": [
    "x"
   ]
  },
  {
   "cell_type": "code",
   "execution_count": 1,
   "id": "1ce27d82-1359-4f36-a06d-e8c2aff1584b",
   "metadata": {},
   "outputs": [],
   "source": [
    "x = {\"name\" : \"bhim\" ,\"age\" :29} # name, age = key and values = bhim and 26  value are duplicate but key not allowed "
   ]
  },
  {
   "cell_type": "code",
   "execution_count": 2,
   "id": "fcf06772-3305-440a-a04a-e3af4c37d750",
   "metadata": {},
   "outputs": [
    {
     "data": {
      "text/plain": [
       "{'name': 'bhim', 'age': 29}"
      ]
     },
     "execution_count": 2,
     "metadata": {},
     "output_type": "execute_result"
    }
   ],
   "source": [
    "x"
   ]
  },
  {
   "cell_type": "code",
   "execution_count": 4,
   "id": "ddb69d7a-7ce0-4667-8e3f-6347686d1970",
   "metadata": {},
   "outputs": [],
   "source": [
    "x1 = {\"name\" : \"Bhim\" , \"age\" : 24 , True : {45,333342,23,44,}, \"Key\" : False , 2345: (34,46,55,) , \"fdgd\" : [10,11,12,13]}"
   ]
  },
  {
   "cell_type": "code",
   "execution_count": 5,
   "id": "57be25cb-86d1-440d-b4c0-03fe550c86ff",
   "metadata": {},
   "outputs": [
    {
     "data": {
      "text/plain": [
       "{'name': 'Bhim',\n",
       " 'age': 24,\n",
       " True: {23, 44, 45, 333342},\n",
       " 'Key': False,\n",
       " 2345: (34, 46, 55),\n",
       " 'fdgd': [10, 11, 12, 13]}"
      ]
     },
     "execution_count": 5,
     "metadata": {},
     "output_type": "execute_result"
    }
   ],
   "source": [
    "x1"
   ]
  },
  {
   "cell_type": "code",
   "execution_count": 6,
   "id": "c46a1ed5-589d-4d06-8e38-db53cfdf33b5",
   "metadata": {},
   "outputs": [],
   "source": [
    "l = [24,34,22,2] "
   ]
  },
  {
   "cell_type": "code",
   "execution_count": 7,
   "id": "84ea03d7-9851-4c9e-bd60-227d88ca810b",
   "metadata": {},
   "outputs": [
    {
     "data": {
      "text/plain": [
       "2"
      ]
     },
     "execution_count": 7,
     "metadata": {},
     "output_type": "execute_result"
    }
   ],
   "source": [
    "l[3]"
   ]
  },
  {
   "cell_type": "code",
   "execution_count": 9,
   "id": "b28f0970-ca3f-48b7-901a-03427ba37a8d",
   "metadata": {},
   "outputs": [
    {
     "data": {
      "text/plain": [
       "{'name': 'Bhim',\n",
       " 'age': 24,\n",
       " True: {23, 44, 45, 333342},\n",
       " 'Key': False,\n",
       " 2345: (34, 46, 55),\n",
       " 'fdgd': [10, 11, 12, 13]}"
      ]
     },
     "execution_count": 9,
     "metadata": {},
     "output_type": "execute_result"
    }
   ],
   "source": [
    "x1"
   ]
  },
  {
   "cell_type": "code",
   "execution_count": 13,
   "id": "38b805ed-8435-40be-b8b9-2224b312b1dd",
   "metadata": {},
   "outputs": [
    {
     "data": {
      "text/plain": [
       "24"
      ]
     },
     "execution_count": 13,
     "metadata": {},
     "output_type": "execute_result"
    }
   ],
   "source": [
    "x1 [\"age\"]"
   ]
  },
  {
   "cell_type": "code",
   "execution_count": 14,
   "id": "488c7a73-a88a-4a6c-afb5-85808d75b358",
   "metadata": {},
   "outputs": [
    {
     "data": {
      "text/plain": [
       "False"
      ]
     },
     "execution_count": 14,
     "metadata": {},
     "output_type": "execute_result"
    }
   ],
   "source": [
    "x1[\"Key\"]"
   ]
  },
  {
   "cell_type": "code",
   "execution_count": 16,
   "id": "b6fe47fc-a612-4c0a-8626-060fb0d019a2",
   "metadata": {},
   "outputs": [
    {
     "data": {
      "text/plain": [
       "{23, 44, 45, 333342}"
      ]
     },
     "execution_count": 16,
     "metadata": {},
     "output_type": "execute_result"
    }
   ],
   "source": [
    "x1 [True]"
   ]
  },
  {
   "cell_type": "code",
   "execution_count": 18,
   "id": "be78162b-dd9f-4151-848b-41abe527dbe5",
   "metadata": {},
   "outputs": [
    {
     "data": {
      "text/plain": [
       "[10, 11, 12, 13]"
      ]
     },
     "execution_count": 18,
     "metadata": {},
     "output_type": "execute_result"
    }
   ],
   "source": [
    "x1['fdgd']"
   ]
  },
  {
   "cell_type": "code",
   "execution_count": 19,
   "id": "5ba33573-e50a-4b09-a4f3-ef4e68a2136d",
   "metadata": {},
   "outputs": [
    {
     "data": {
      "text/plain": [
       "list"
      ]
     },
     "execution_count": 19,
     "metadata": {},
     "output_type": "execute_result"
    }
   ],
   "source": [
    "type(x1['fdgd'])"
   ]
  },
  {
   "cell_type": "code",
   "execution_count": 21,
   "id": "65dc092b-9b54-4a26-a677-91e1bf14d525",
   "metadata": {},
   "outputs": [
    {
     "data": {
      "text/plain": [
       "12"
      ]
     },
     "execution_count": 21,
     "metadata": {},
     "output_type": "execute_result"
    }
   ],
   "source": [
    "x1[\"fdgd\"][2]"
   ]
  },
  {
   "cell_type": "code",
   "execution_count": 23,
   "id": "a78daa74-f6d9-4f4a-a7a7-2422ee0696c5",
   "metadata": {},
   "outputs": [
    {
     "data": {
      "text/plain": [
       "dict_values(['Bhim', 24, {44, 45, 333342, 23}, False, (34, 46, 55), [10, 11, 12, 13]])"
      ]
     },
     "execution_count": 23,
     "metadata": {},
     "output_type": "execute_result"
    }
   ],
   "source": [
    "x1.values()"
   ]
  },
  {
   "cell_type": "code",
   "execution_count": 25,
   "id": "4b5df578-40e8-448f-8774-2e51eb653ec2",
   "metadata": {},
   "outputs": [
    {
     "data": {
      "text/plain": [
       "dict_keys(['name', 'age', True, 'Key', 2345, 'fdgd'])"
      ]
     },
     "execution_count": 25,
     "metadata": {},
     "output_type": "execute_result"
    }
   ],
   "source": [
    "x1.keys()"
   ]
  },
  {
   "cell_type": "code",
   "execution_count": 26,
   "id": "e151bf95-98e2-4aaa-9c26-05351ef3a5f6",
   "metadata": {},
   "outputs": [],
   "source": [
    "x4 = {\"k4\" : \"Fsdfs\"}"
   ]
  },
  {
   "cell_type": "code",
   "execution_count": 27,
   "id": "5a16b7a4-5f55-4e86-85dd-0389878d88a3",
   "metadata": {},
   "outputs": [
    {
     "ename": "TypeError",
     "evalue": "unsupported operand type(s) for +: 'dict' and 'dict'",
     "output_type": "error",
     "traceback": [
      "\u001b[1;31m---------------------------------------------------------------------------\u001b[0m",
      "\u001b[1;31mTypeError\u001b[0m                                 Traceback (most recent call last)",
      "Cell \u001b[1;32mIn[27], line 1\u001b[0m\n\u001b[1;32m----> 1\u001b[0m x1 \u001b[38;5;241m+\u001b[39m x4\n",
      "\u001b[1;31mTypeError\u001b[0m: unsupported operand type(s) for +: 'dict' and 'dict'"
     ]
    }
   ],
   "source": [
    "x1 + x4"
   ]
  },
  {
   "cell_type": "code",
   "execution_count": 28,
   "id": "2bd53843-1f62-4bea-a7d2-1b27347e72a2",
   "metadata": {},
   "outputs": [
    {
     "ename": "TypeError",
     "evalue": "unsupported operand type(s) for *: 'dict' and 'int'",
     "output_type": "error",
     "traceback": [
      "\u001b[1;31m---------------------------------------------------------------------------\u001b[0m",
      "\u001b[1;31mTypeError\u001b[0m                                 Traceback (most recent call last)",
      "Cell \u001b[1;32mIn[28], line 1\u001b[0m\n\u001b[1;32m----> 1\u001b[0m x4 \u001b[38;5;241m*\u001b[39m \u001b[38;5;241m3\u001b[39m\n",
      "\u001b[1;31mTypeError\u001b[0m: unsupported operand type(s) for *: 'dict' and 'int'"
     ]
    }
   ],
   "source": [
    "x4 * 3"
   ]
  },
  {
   "cell_type": "code",
   "execution_count": 31,
   "id": "c7979704-ecaa-4d56-9865-2df917c60e5d",
   "metadata": {},
   "outputs": [],
   "source": [
    "x4[\"k4\"] = \"Bhim\"   # Dictionary is mutable "
   ]
  },
  {
   "cell_type": "code",
   "execution_count": 30,
   "id": "30f4e30c-ad81-47c0-85d8-7f224983e8f3",
   "metadata": {},
   "outputs": [
    {
     "data": {
      "text/plain": [
       "{'k4': 'Bhim'}"
      ]
     },
     "execution_count": 30,
     "metadata": {},
     "output_type": "execute_result"
    }
   ],
   "source": [
    "x4"
   ]
  },
  {
   "cell_type": "code",
   "execution_count": 33,
   "id": "eaa96cf3-0e54-44d1-b9dc-c226216b9641",
   "metadata": {},
   "outputs": [],
   "source": [
    "x4 ['k4'] = 456"
   ]
  },
  {
   "cell_type": "code",
   "execution_count": 34,
   "id": "1e6feb62-d7e6-41ba-aebd-496fcc77bda1",
   "metadata": {},
   "outputs": [
    {
     "data": {
      "text/plain": [
       "{'k4': 456}"
      ]
     },
     "execution_count": 34,
     "metadata": {},
     "output_type": "execute_result"
    }
   ],
   "source": [
    "x4"
   ]
  },
  {
   "cell_type": "code",
   "execution_count": 36,
   "id": "c0a58bbd-b256-4424-9283-d764598da316",
   "metadata": {},
   "outputs": [],
   "source": [
    "x4['k4'] -= 10"
   ]
  },
  {
   "cell_type": "code",
   "execution_count": 37,
   "id": "d316357b-0995-43cc-8b6c-c00bc748b48d",
   "metadata": {},
   "outputs": [
    {
     "data": {
      "text/plain": [
       "{'k4': 446}"
      ]
     },
     "execution_count": 37,
     "metadata": {},
     "output_type": "execute_result"
    }
   ],
   "source": [
    "x4"
   ]
  },
  {
   "cell_type": "code",
   "execution_count": 40,
   "id": "f5d843a7-c010-4203-a70b-7ff6f42e0b42",
   "metadata": {},
   "outputs": [],
   "source": [
    "x4 ['k4'] = x4['k4'] - 10"
   ]
  },
  {
   "cell_type": "code",
   "execution_count": 42,
   "id": "e7dcce1d-18d0-4d80-8bb6-7eae5ca30f80",
   "metadata": {},
   "outputs": [
    {
     "name": "stdout",
     "output_type": "stream",
     "text": [
      "k4\n"
     ]
    }
   ],
   "source": [
    "for i in x4:     # only give me key \n",
    "    print(i)"
   ]
  },
  {
   "cell_type": "code",
   "execution_count": 44,
   "id": "2b8ecd8b-c085-425c-8462-5950f436e218",
   "metadata": {},
   "outputs": [
    {
     "name": "stdout",
     "output_type": "stream",
     "text": [
      "436\n"
     ]
    }
   ],
   "source": [
    "for i in x4:     # gives the value s \n",
    "    print(x4[i])"
   ]
  },
  {
   "cell_type": "code",
   "execution_count": 45,
   "id": "66138cf4-56a2-4f29-a0d9-53ca2c0b5542",
   "metadata": {},
   "outputs": [
    {
     "data": {
      "text/plain": [
       "{'name': 'Bhim',\n",
       " 'age': 24,\n",
       " True: {23, 44, 45, 333342},\n",
       " 'Key': False,\n",
       " 2345: (34, 46, 55),\n",
       " 'fdgd': [10, 11, 12, 13]}"
      ]
     },
     "execution_count": 45,
     "metadata": {},
     "output_type": "execute_result"
    }
   ],
   "source": [
    "x1"
   ]
  },
  {
   "cell_type": "code",
   "execution_count": 46,
   "id": "392c0b9b-27ad-4a41-b269-ddc5e4d45345",
   "metadata": {},
   "outputs": [
    {
     "name": "stdout",
     "output_type": "stream",
     "text": [
      "Bhim\n",
      "24\n",
      "{44, 45, 333342, 23}\n",
      "False\n",
      "(34, 46, 55)\n",
      "[10, 11, 12, 13]\n"
     ]
    }
   ],
   "source": [
    "for i in x1.keys():\n",
    "    print(x1[i])"
   ]
  },
  {
   "cell_type": "code",
   "execution_count": 48,
   "id": "718b6f96-2831-43a6-b2e9-384ad7b589e0",
   "metadata": {},
   "outputs": [
    {
     "name": "stdout",
     "output_type": "stream",
     "text": [
      "<class 'str'>\n",
      "<class 'int'>\n",
      "<class 'set'>\n",
      "<class 'bool'>\n",
      "<class 'tuple'>\n",
      "<class 'list'>\n"
     ]
    }
   ],
   "source": [
    "for i in x1.keys():\n",
    "    print(type(x1[i]))"
   ]
  },
  {
   "cell_type": "code",
   "execution_count": 50,
   "id": "1699e872-fa49-4f49-9aa0-09e21bad484d",
   "metadata": {},
   "outputs": [
    {
     "data": {
      "text/plain": [
       "dict_items([('name', 'Bhim'), ('age', 24), (True, {44, 45, 333342, 23}), ('Key', False), (2345, (34, 46, 55)), ('fdgd', [10, 11, 12, 13])])"
      ]
     },
     "execution_count": 50,
     "metadata": {},
     "output_type": "execute_result"
    }
   ],
   "source": [
    "x1.items()"
   ]
  },
  {
   "cell_type": "code",
   "execution_count": 51,
   "id": "97671dbc-c3e2-4513-900e-891630bda72c",
   "metadata": {},
   "outputs": [
    {
     "name": "stdout",
     "output_type": "stream",
     "text": [
      "('name', 'Bhim')\n",
      "('age', 24)\n",
      "(True, {44, 45, 333342, 23})\n",
      "('Key', False)\n",
      "(2345, (34, 46, 55))\n",
      "('fdgd', [10, 11, 12, 13])\n"
     ]
    }
   ],
   "source": [
    "for i in x1.items():\n",
    "    print(i)"
   ]
  },
  {
   "cell_type": "code",
   "execution_count": 53,
   "id": "c867118b-789d-4738-978f-4f55ca4f05d3",
   "metadata": {},
   "outputs": [
    {
     "name": "stdout",
     "output_type": "stream",
     "text": [
      "name\n",
      "age\n",
      "True\n",
      "Key\n",
      "2345\n",
      "fdgd\n"
     ]
    }
   ],
   "source": [
    "for i in x1.items():  # only keys \n",
    "    print(i[0])"
   ]
  },
  {
   "cell_type": "code",
   "execution_count": 55,
   "id": "8a33877a-2d2d-4e3f-b027-16cba218cc59",
   "metadata": {},
   "outputs": [
    {
     "name": "stdout",
     "output_type": "stream",
     "text": [
      "Bhim\n",
      "24\n",
      "{44, 45, 333342, 23}\n",
      "False\n",
      "(34, 46, 55)\n",
      "[10, 11, 12, 13]\n"
     ]
    }
   ],
   "source": [
    "for i in x1.items():  # only values\n",
    "    print(i[1])"
   ]
  },
  {
   "cell_type": "code",
   "execution_count": 56,
   "id": "ff911bd9-478f-4da7-a7ac-32c8cf9ea478",
   "metadata": {},
   "outputs": [
    {
     "data": {
      "text/plain": [
       "{'name': 'Bhim',\n",
       " 'age': 24,\n",
       " True: {23, 44, 45, 333342},\n",
       " 'Key': False,\n",
       " 2345: (34, 46, 55),\n",
       " 'fdgd': [10, 11, 12, 13]}"
      ]
     },
     "execution_count": 56,
     "metadata": {},
     "output_type": "execute_result"
    }
   ],
   "source": [
    "x1"
   ]
  },
  {
   "cell_type": "code",
   "execution_count": 57,
   "id": "2d0bf25a-7870-4663-877a-53a0f46508a6",
   "metadata": {},
   "outputs": [
    {
     "data": {
      "text/plain": [
       "6"
      ]
     },
     "execution_count": 57,
     "metadata": {},
     "output_type": "execute_result"
    }
   ],
   "source": [
    "len(x1)"
   ]
  },
  {
   "cell_type": "code",
   "execution_count": 58,
   "id": "a4242cc2-c5dc-4324-93e6-027ba46d87d3",
   "metadata": {},
   "outputs": [],
   "source": [
    "e = {56:{45,78 , 89}}"
   ]
  },
  {
   "cell_type": "code",
   "execution_count": 59,
   "id": "eeadd096-21f8-400b-8b70-b06c2678f0fa",
   "metadata": {},
   "outputs": [
    {
     "data": {
      "text/plain": [
       "{45, 78, 89}"
      ]
     },
     "execution_count": 59,
     "metadata": {},
     "output_type": "execute_result"
    }
   ],
   "source": [
    "e[56]"
   ]
  },
  {
   "cell_type": "code",
   "execution_count": 99,
   "id": "dad00162-9ba3-48be-8d44-4b1a0bc176d5",
   "metadata": {},
   "outputs": [
    {
     "data": {
      "text/plain": [
       "89"
      ]
     },
     "execution_count": 99,
     "metadata": {},
     "output_type": "execute_result"
    }
   ],
   "source": [
    "list(e[56])[]"
   ]
  },
  {
   "cell_type": "code",
   "execution_count": 64,
   "id": "3638c48b-1272-4d11-b861-ad80ff0c1e62",
   "metadata": {},
   "outputs": [
    {
     "name": "stdout",
     "output_type": "stream",
     "text": [
      "Enter a para   bhimrao devidas pawar \n"
     ]
    }
   ],
   "source": [
    "page = input(\"Enter a para \")"
   ]
  },
  {
   "cell_type": "code",
   "execution_count": 65,
   "id": "4aac0c95-e92d-4468-a374-1e75edb074fb",
   "metadata": {},
   "outputs": [],
   "source": [
    "para = list[page]"
   ]
  },
  {
   "cell_type": "code",
   "execution_count": 66,
   "id": "bbab9915-93d6-498f-a0e2-2c2f43f1272b",
   "metadata": {},
   "outputs": [
    {
     "data": {
      "text/plain": [
       "list[' bhimrao devidas pawar ']"
      ]
     },
     "execution_count": 66,
     "metadata": {},
     "output_type": "execute_result"
    }
   ],
   "source": [
    "para"
   ]
  },
  {
   "cell_type": "code",
   "execution_count": 67,
   "id": "e46b977f-9a32-448f-87b3-9e201a655481",
   "metadata": {},
   "outputs": [],
   "source": [
    "dict = {\"para\": \"bhimrao devidas pawar\"}"
   ]
  },
  {
   "cell_type": "code",
   "execution_count": 68,
   "id": "9202a64c-abb8-44c9-9201-fddf70f82d60",
   "metadata": {},
   "outputs": [],
   "source": [
    "t = (\"para\",\"bhimrao devidas pawar\")"
   ]
  },
  {
   "cell_type": "code",
   "execution_count": 72,
   "id": "eb20e1b3-1586-40e1-bd43-902443e7687c",
   "metadata": {},
   "outputs": [
    {
     "name": "stdout",
     "output_type": "stream",
     "text": [
      "para\n"
     ]
    }
   ],
   "source": [
    "for i in dict.items():\n",
    "    print(i[0])\n",
    "\n"
   ]
  },
  {
   "cell_type": "code",
   "execution_count": 73,
   "id": "b826a318-7e25-42d3-ab94-5513e45da579",
   "metadata": {},
   "outputs": [
    {
     "name": "stdout",
     "output_type": "stream",
     "text": [
      "bhimrao devidas pawar\n"
     ]
    }
   ],
   "source": [
    "for i in dict.items():\n",
    "    print(i[1])"
   ]
  },
  {
   "cell_type": "code",
   "execution_count": 74,
   "id": "fe58419c-be1a-4a43-b4fd-bdad56c67a5c",
   "metadata": {},
   "outputs": [],
   "source": [
    "d  = {\"company\" : \"inueron\" , \"course\" : \"Full stack data science\", \"year\": 2021}"
   ]
  },
  {
   "cell_type": "code",
   "execution_count": 76,
   "id": "8d817ea6-fb86-44f4-aa1f-6ca4255d0fdb",
   "metadata": {},
   "outputs": [
    {
     "name": "stdout",
     "output_type": "stream",
     "text": [
      "print a key :  company  ;  value wise : inueron\n",
      "print a key :  course  ;  value wise : Full stack data science\n",
      "print a key :  year  ;  value wise : 2021\n"
     ]
    }
   ],
   "source": [
    "for i in d:\n",
    "    print(\"print a key : \" , i , \" ; \" ,\"value wise :\" , d[i])"
   ]
  },
  {
   "cell_type": "code",
   "execution_count": 78,
   "id": "70de69b1-b0a9-49e8-a262-841ecbac2246",
   "metadata": {},
   "outputs": [
    {
     "data": {
      "text/plain": [
       "True"
      ]
     },
     "execution_count": 78,
     "metadata": {},
     "output_type": "execute_result"
    }
   ],
   "source": [
    "\"course\" in d"
   ]
  },
  {
   "cell_type": "code",
   "execution_count": 81,
   "id": "3a64bf0d-7639-40b5-a026-9edbff5209ce",
   "metadata": {},
   "outputs": [
    {
     "name": "stdout",
     "output_type": "stream",
     "text": [
      "year is fine \n"
     ]
    }
   ],
   "source": [
    "for i in d:\n",
    "    if i == \"year\":\n",
    "        if d[i] > 2021:\n",
    "            print(\"year is fine \")\n",
    "        else:\n",
    "            d[i] = 2022"
   ]
  },
  {
   "cell_type": "code",
   "execution_count": 82,
   "id": "c20de971-b945-497d-9c0f-3038e8d687f2",
   "metadata": {},
   "outputs": [
    {
     "data": {
      "text/plain": [
       "{'company': 'inueron', 'course': 'Full stack data science', 'year': 2022}"
      ]
     },
     "execution_count": 82,
     "metadata": {},
     "output_type": "execute_result"
    }
   ],
   "source": [
    "d"
   ]
  },
  {
   "cell_type": "code",
   "execution_count": 84,
   "id": "32225210-30ca-4fa0-a80e-a6872c330afb",
   "metadata": {},
   "outputs": [],
   "source": [
    "my_dict = {}\n",
    "for i in range(10):\n",
    "    my_dict[i] = i * i\n",
    "    "
   ]
  },
  {
   "cell_type": "code",
   "execution_count": 85,
   "id": "614d1001-e9b8-4f8e-a3f0-2074eaa098c8",
   "metadata": {},
   "outputs": [
    {
     "data": {
      "text/plain": [
       "{0: 0, 1: 1, 2: 4, 3: 9, 4: 16, 5: 25, 6: 36, 7: 49, 8: 64, 9: 81}"
      ]
     },
     "execution_count": 85,
     "metadata": {},
     "output_type": "execute_result"
    }
   ],
   "source": [
    "my_dict"
   ]
  },
  {
   "cell_type": "code",
   "execution_count": 91,
   "id": "de771571-82b0-4e65-8e3f-893ce1a28f03",
   "metadata": {},
   "outputs": [
    {
     "data": {
      "text/plain": [
       "{0: 0, 1: 1, 2: 4, 3: 9, 4: 16, 5: 25, 6: 36, 7: 49, 8: 64, 9: 81}"
      ]
     },
     "execution_count": 91,
     "metadata": {},
     "output_type": "execute_result"
    }
   ],
   "source": [
    "{i:i*i for i in range(10)}"
   ]
  },
  {
   "cell_type": "code",
   "execution_count": 93,
   "id": "f1a98e93-a05f-4a84-967c-d4be5fc5b222",
   "metadata": {},
   "outputs": [
    {
     "data": {
      "text/plain": [
       "{0: 0, 3: 9, 6: 36, 9: 81}"
      ]
     },
     "execution_count": 93,
     "metadata": {},
     "output_type": "execute_result"
    }
   ],
   "source": [
    "{i:i*i for i in range(0,10,3)}"
   ]
  },
  {
   "cell_type": "markdown",
   "id": "9a68ac56-bdce-4595-852c-f3cefcad352c",
   "metadata": {},
   "source": [
    "# Function"
   ]
  },
  {
   "cell_type": "code",
   "execution_count": 100,
   "id": "e4066c34-86b6-4d7d-9a3b-4902430dec73",
   "metadata": {},
   "outputs": [
    {
     "data": {
      "text/plain": [
       "5"
      ]
     },
     "execution_count": 100,
     "metadata": {},
     "output_type": "execute_result"
    }
   ],
   "source": [
    "a = 2\n",
    "b = 3\n",
    "\n",
    "a + b "
   ]
  },
  {
   "cell_type": "code",
   "execution_count": 114,
   "id": "a714e0ea-1611-42d5-a717-102078d7d3db",
   "metadata": {},
   "outputs": [
    {
     "name": "stdout",
     "output_type": "stream",
     "text": [
      "5\n"
     ]
    }
   ],
   "source": [
    "# def is nothing but a definition function. function is used to reusability \n",
    "def test(x,y):\n",
    "    print(x + y)   # Body of functions \n",
    "\n",
    "# Call the function \n",
    "test(2,3)               # Here x = 2 and y = 3   then  x + y  you will get results "
   ]
  },
  {
   "cell_type": "code",
   "execution_count": 109,
   "id": "741efe6f-4e9a-4b92-8328-f53cabfebab7",
   "metadata": {},
   "outputs": [
    {
     "data": {
      "text/plain": [
       "12"
      ]
     },
     "execution_count": 109,
     "metadata": {},
     "output_type": "execute_result"
    }
   ],
   "source": [
    "test(10,2)"
   ]
  },
  {
   "cell_type": "code",
   "execution_count": 110,
   "id": "a1f26208-3438-4a95-8508-073e0a1795dc",
   "metadata": {},
   "outputs": [
    {
     "data": {
      "text/plain": [
       "12"
      ]
     },
     "execution_count": 110,
     "metadata": {},
     "output_type": "execute_result"
    }
   ],
   "source": [
    "test(2,10)"
   ]
  },
  {
   "cell_type": "code",
   "execution_count": 111,
   "id": "924d8698-88c4-4170-bfa4-80dd3010a779",
   "metadata": {},
   "outputs": [
    {
     "data": {
      "text/plain": [
       "223332"
      ]
     },
     "execution_count": 111,
     "metadata": {},
     "output_type": "execute_result"
    }
   ],
   "source": [
    "test(222222 , 1110)"
   ]
  },
  {
   "cell_type": "code",
   "execution_count": 113,
   "id": "3a8b561d-29df-4ce1-94d8-32a8b2a776cf",
   "metadata": {},
   "outputs": [
    {
     "data": {
      "text/plain": [
       "30"
      ]
     },
     "execution_count": 113,
     "metadata": {},
     "output_type": "execute_result"
    }
   ],
   "source": [
    "def test1(b,m):\n",
    "    return b * m \n",
    "\n",
    "# Call function \n",
    "test1(10,3)"
   ]
  },
  {
   "cell_type": "code",
   "execution_count": 115,
   "id": "31621f07-dc8e-4ca1-b7e5-c0eb029c05e8",
   "metadata": {},
   "outputs": [
    {
     "name": "stdout",
     "output_type": "stream",
     "text": [
      "5\n"
     ]
    },
    {
     "ename": "TypeError",
     "evalue": "unsupported operand type(s) for +: 'NoneType' and 'int'",
     "output_type": "error",
     "traceback": [
      "\u001b[1;31m---------------------------------------------------------------------------\u001b[0m",
      "\u001b[1;31mTypeError\u001b[0m                                 Traceback (most recent call last)",
      "Cell \u001b[1;32mIn[115], line 5\u001b[0m\n\u001b[0;32m      2\u001b[0m     \u001b[38;5;28mprint\u001b[39m(x \u001b[38;5;241m+\u001b[39m y)   \n\u001b[0;32m      4\u001b[0m \u001b[38;5;66;03m# Call the function \u001b[39;00m\n\u001b[1;32m----> 5\u001b[0m test(\u001b[38;5;241m2\u001b[39m,\u001b[38;5;241m3\u001b[39m) \u001b[38;5;241m+\u001b[39m \u001b[38;5;241m3\u001b[39m\n",
      "\u001b[1;31mTypeError\u001b[0m: unsupported operand type(s) for +: 'NoneType' and 'int'"
     ]
    }
   ],
   "source": [
    "def test(x,y):\n",
    "    print(x + y)   \n",
    "\n",
    "# Call the function \n",
    "test(2,3) + 3  # Here we not get the result "
   ]
  },
  {
   "cell_type": "code",
   "execution_count": 120,
   "id": "efb6013c-25d3-4015-bdc7-d6a9d87575c6",
   "metadata": {},
   "outputs": [
    {
     "name": "stdout",
     "output_type": "stream",
     "text": [
      "5\n"
     ]
    },
    {
     "data": {
      "text/plain": [
       "NoneType"
      ]
     },
     "execution_count": 120,
     "metadata": {},
     "output_type": "execute_result"
    }
   ],
   "source": [
    "type(test(2,3))"
   ]
  },
  {
   "cell_type": "code",
   "execution_count": 116,
   "id": "d874644d-c117-408b-b30f-3f2f6d04faed",
   "metadata": {},
   "outputs": [
    {
     "data": {
      "text/plain": [
       "36"
      ]
     },
     "execution_count": 116,
     "metadata": {},
     "output_type": "execute_result"
    }
   ],
   "source": [
    "def test1(b,m):           \n",
    "    return b * m \n",
    "\n",
    "# Call function           \n",
    "test1(10,3) + 6          # here we get results "
   ]
  },
  {
   "cell_type": "code",
   "execution_count": 121,
   "id": "91dbf8e0-d686-405f-9acd-404a5ae9d334",
   "metadata": {},
   "outputs": [
    {
     "data": {
      "text/plain": [
       "int"
      ]
     },
     "execution_count": 121,
     "metadata": {},
     "output_type": "execute_result"
    }
   ],
   "source": [
    "type(test1(10,3))"
   ]
  },
  {
   "cell_type": "code",
   "execution_count": 122,
   "id": "10648622-fc34-44a6-86b5-4d8ba00dbe0f",
   "metadata": {},
   "outputs": [
    {
     "ename": "TypeError",
     "evalue": "test2() missing 1 required positional argument: 'm'",
     "output_type": "error",
     "traceback": [
      "\u001b[1;31m---------------------------------------------------------------------------\u001b[0m",
      "\u001b[1;31mTypeError\u001b[0m                                 Traceback (most recent call last)",
      "Cell \u001b[1;32mIn[122], line 6\u001b[0m\n\u001b[0;32m      2\u001b[0m     \u001b[38;5;28;01mreturn\u001b[39;00m t \u001b[38;5;241m+\u001b[39m n \n\u001b[0;32m      4\u001b[0m \u001b[38;5;66;03m# Call function\u001b[39;00m\n\u001b[1;32m----> 6\u001b[0m test2(\u001b[38;5;241m10\u001b[39m,\u001b[38;5;241m2\u001b[39m)\n",
      "\u001b[1;31mTypeError\u001b[0m: test2() missing 1 required positional argument: 'm'"
     ]
    }
   ],
   "source": [
    "def test2(t,n,m):\n",
    "    return t + n \n",
    "\n",
    "# Call function\n",
    "\n",
    "test2(10,2)\n"
   ]
  },
  {
   "cell_type": "code",
   "execution_count": 123,
   "id": "10483fe5-f2ec-41c3-8778-806863d4242c",
   "metadata": {},
   "outputs": [
    {
     "data": {
      "text/plain": [
       "12"
      ]
     },
     "execution_count": 123,
     "metadata": {},
     "output_type": "execute_result"
    }
   ],
   "source": [
    "def test2(t,n,m):\n",
    "    return t + n \n",
    "\n",
    "# Call function\n",
    "\n",
    "test2(10,2,3)   # given argument but operation done only two number "
   ]
  },
  {
   "cell_type": "code",
   "execution_count": 124,
   "id": "f0dcd938-f709-4550-8295-f7eee7b49d09",
   "metadata": {},
   "outputs": [
    {
     "data": {
      "text/plain": [
       "(20, 35, 9)"
      ]
     },
     "execution_count": 124,
     "metadata": {},
     "output_type": "execute_result"
    }
   ],
   "source": [
    "def test3(n,m):\n",
    "    return n*10 , m*5 , m+n\n",
    "\n",
    "# Call function \n",
    "test3(2,7)"
   ]
  },
  {
   "cell_type": "code",
   "execution_count": 125,
   "id": "9fe4f9b3-f733-4732-8c95-68cedf82b883",
   "metadata": {},
   "outputs": [
    {
     "data": {
      "text/plain": [
       "tuple"
      ]
     },
     "execution_count": 125,
     "metadata": {},
     "output_type": "execute_result"
    }
   ],
   "source": [
    "type(test3(2,7))"
   ]
  },
  {
   "cell_type": "code",
   "execution_count": 126,
   "id": "fc9feae2-922b-43b7-90e7-94683babd55d",
   "metadata": {},
   "outputs": [
    {
     "data": {
      "text/plain": [
       "(50, 10, 7)"
      ]
     },
     "execution_count": 126,
     "metadata": {},
     "output_type": "execute_result"
    }
   ],
   "source": [
    "test3(5,2)"
   ]
  },
  {
   "cell_type": "code",
   "execution_count": 127,
   "id": "0d621e67-9ab9-4d38-ad8f-e480b57607a7",
   "metadata": {},
   "outputs": [],
   "source": [
    "c , x , v = test3(2,7)\n"
   ]
  },
  {
   "cell_type": "code",
   "execution_count": 128,
   "id": "42f7e5c4-d3de-43c9-a3a2-3106a1e7ea18",
   "metadata": {},
   "outputs": [
    {
     "data": {
      "text/plain": [
       "20"
      ]
     },
     "execution_count": 128,
     "metadata": {},
     "output_type": "execute_result"
    }
   ],
   "source": [
    "c"
   ]
  },
  {
   "cell_type": "code",
   "execution_count": 129,
   "id": "a45ebb27-36c8-47ea-a41e-06d3dcec9702",
   "metadata": {},
   "outputs": [
    {
     "data": {
      "text/plain": [
       "35"
      ]
     },
     "execution_count": 129,
     "metadata": {},
     "output_type": "execute_result"
    }
   ],
   "source": [
    "x"
   ]
  },
  {
   "cell_type": "code",
   "execution_count": 130,
   "id": "4e996b11-4498-4408-a7fe-baae6eea0f12",
   "metadata": {},
   "outputs": [
    {
     "data": {
      "text/plain": [
       "9"
      ]
     },
     "execution_count": 130,
     "metadata": {},
     "output_type": "execute_result"
    }
   ],
   "source": [
    "v"
   ]
  },
  {
   "cell_type": "code",
   "execution_count": 138,
   "id": "4fd2cafa-a46f-4eb4-bca0-9c7e603f5b10",
   "metadata": {},
   "outputs": [],
   "source": [
    "c , x ,  _ = test3(2,7)   # place holder "
   ]
  },
  {
   "cell_type": "code",
   "execution_count": 139,
   "id": "ab978969-2bb1-4577-9ed5-14c1963dc3d6",
   "metadata": {},
   "outputs": [
    {
     "data": {
      "text/plain": [
       "20"
      ]
     },
     "execution_count": 139,
     "metadata": {},
     "output_type": "execute_result"
    }
   ],
   "source": [
    "c"
   ]
  },
  {
   "cell_type": "code",
   "execution_count": 140,
   "id": "d5c8f7d1-f37b-4778-a64c-a5fc5b4d463e",
   "metadata": {},
   "outputs": [
    {
     "data": {
      "text/plain": [
       "35"
      ]
     },
     "execution_count": 140,
     "metadata": {},
     "output_type": "execute_result"
    }
   ],
   "source": [
    "x"
   ]
  },
  {
   "cell_type": "code",
   "execution_count": 141,
   "id": "c0fc74d7-4f47-4ff1-9808-da2ea999b2fe",
   "metadata": {},
   "outputs": [
    {
     "data": {
      "text/plain": [
       "35"
      ]
     },
     "execution_count": 141,
     "metadata": {},
     "output_type": "execute_result"
    }
   ],
   "source": [
    "_        # previous value hold "
   ]
  },
  {
   "cell_type": "code",
   "execution_count": 142,
   "id": "a6527104-6ee4-423f-ad8e-5331f5fc01e3",
   "metadata": {},
   "outputs": [],
   "source": [
    "c , _ , m = test3(2,7) "
   ]
  },
  {
   "cell_type": "code",
   "execution_count": 143,
   "id": "7f1f55ef-f649-4a2e-bee7-54cf37706c59",
   "metadata": {},
   "outputs": [
    {
     "data": {
      "text/plain": [
       "20"
      ]
     },
     "execution_count": 143,
     "metadata": {},
     "output_type": "execute_result"
    }
   ],
   "source": [
    "c"
   ]
  },
  {
   "cell_type": "code",
   "execution_count": 144,
   "id": "bed03250-b563-4b6e-b5e2-eded9e4db08e",
   "metadata": {},
   "outputs": [
    {
     "data": {
      "text/plain": [
       "20"
      ]
     },
     "execution_count": 144,
     "metadata": {},
     "output_type": "execute_result"
    }
   ],
   "source": [
    "_        # return previous hold value "
   ]
  },
  {
   "cell_type": "code",
   "execution_count": 145,
   "id": "8cb63885-2926-4751-912c-f73961cd3dd0",
   "metadata": {},
   "outputs": [
    {
     "data": {
      "text/plain": [
       "9"
      ]
     },
     "execution_count": 145,
     "metadata": {},
     "output_type": "execute_result"
    }
   ],
   "source": [
    "m"
   ]
  },
  {
   "cell_type": "code",
   "execution_count": 150,
   "id": "4cdca98f-7fdd-40c3-8a3e-bd4876962ff7",
   "metadata": {},
   "outputs": [],
   "source": [
    "def test7():\n",
    "    return \"this first class\""
   ]
  },
  {
   "cell_type": "code",
   "execution_count": 151,
   "id": "401b6a77-0505-4fbb-b35f-b12d5759f22f",
   "metadata": {},
   "outputs": [],
   "source": [
    "n = test7()"
   ]
  },
  {
   "cell_type": "code",
   "execution_count": 152,
   "id": "539d4b02-8270-4383-bd81-34f53f263685",
   "metadata": {},
   "outputs": [
    {
     "data": {
      "text/plain": [
       "'this first classdjdfg'"
      ]
     },
     "execution_count": 152,
     "metadata": {},
     "output_type": "execute_result"
    }
   ],
   "source": [
    "n + \"djdfg\""
   ]
  },
  {
   "cell_type": "code",
   "execution_count": 153,
   "id": "8f76c350-2801-4733-a1f1-30065258eb33",
   "metadata": {},
   "outputs": [],
   "source": [
    "def test8(n):\n",
    "    return n * 3"
   ]
  },
  {
   "cell_type": "code",
   "execution_count": 154,
   "id": "7450a65f-c855-45af-bbc2-947603eab3bf",
   "metadata": {},
   "outputs": [
    {
     "data": {
      "text/plain": [
       "[3, 4, 5, 6, 7, 3, 4, 5, 6, 7, 3, 4, 5, 6, 7]"
      ]
     },
     "execution_count": 154,
     "metadata": {},
     "output_type": "execute_result"
    }
   ],
   "source": [
    "test8([3,4,5,6,7])"
   ]
  },
  {
   "cell_type": "code",
   "execution_count": 155,
   "id": "597138ad-9bff-4011-8266-10d0e67240bc",
   "metadata": {},
   "outputs": [
    {
     "data": {
      "text/plain": [
       "201"
      ]
     },
     "execution_count": 155,
     "metadata": {},
     "output_type": "execute_result"
    }
   ],
   "source": [
    "test8(67)"
   ]
  },
  {
   "cell_type": "code",
   "execution_count": 158,
   "id": "099c8083-6386-48fd-949b-40b4b850330c",
   "metadata": {},
   "outputs": [],
   "source": [
    "def test9(n):\n",
    "    return n , n*2"
   ]
  },
  {
   "cell_type": "code",
   "execution_count": 159,
   "id": "ebecf404-e21c-44ca-b569-2e8dd9db2484",
   "metadata": {},
   "outputs": [
    {
     "data": {
      "text/plain": [
       "([2, 3, 4, 5, 6, 7], [2, 3, 4, 5, 6, 7, 2, 3, 4, 5, 6, 7])"
      ]
     },
     "execution_count": 159,
     "metadata": {},
     "output_type": "execute_result"
    }
   ],
   "source": [
    "test9([2,3,4,5,6,7])"
   ]
  },
  {
   "cell_type": "code",
   "execution_count": 160,
   "id": "59e70c69-69cd-4d59-b231-87dbb8a508b6",
   "metadata": {},
   "outputs": [],
   "source": [
    "b = test9([2,3,4,5,6,7])"
   ]
  },
  {
   "cell_type": "code",
   "execution_count": 161,
   "id": "b3e20d5b-5b0a-46e3-8fee-cde8a33ff006",
   "metadata": {},
   "outputs": [
    {
     "data": {
      "text/plain": [
       "[2, 3, 4, 5, 6, 7]"
      ]
     },
     "execution_count": 161,
     "metadata": {},
     "output_type": "execute_result"
    }
   ],
   "source": [
    "b[0]"
   ]
  },
  {
   "cell_type": "code",
   "execution_count": 162,
   "id": "6ce0e624-0e6c-4aab-bb5b-c254f7811841",
   "metadata": {},
   "outputs": [
    {
     "data": {
      "text/plain": [
       "[2, 3, 4, 5, 6, 7, 2, 3, 4, 5, 6, 7]"
      ]
     },
     "execution_count": 162,
     "metadata": {},
     "output_type": "execute_result"
    }
   ],
   "source": [
    "b[1]"
   ]
  },
  {
   "cell_type": "code",
   "execution_count": 2,
   "id": "24506493-1fee-48ad-bbe0-05f04cd10b32",
   "metadata": {},
   "outputs": [],
   "source": [
    "def test10(n , m = 90):\n",
    "    return n + m"
   ]
  },
  {
   "cell_type": "code",
   "execution_count": 4,
   "id": "2d95f64e-c86b-4a72-8310-9bb99dc71ccf",
   "metadata": {},
   "outputs": [
    {
     "data": {
      "text/plain": [
       "130"
      ]
     },
     "execution_count": 4,
     "metadata": {},
     "output_type": "execute_result"
    }
   ],
   "source": [
    "test10(40)"
   ]
  },
  {
   "cell_type": "code",
   "execution_count": 5,
   "id": "5a2e85f0-4a13-44a1-9f3d-15e979c9e388",
   "metadata": {},
   "outputs": [],
   "source": [
    "def test10(n , m = 90):  # over write \n",
    "    return n + m"
   ]
  },
  {
   "cell_type": "code",
   "execution_count": 7,
   "id": "ae561308-71ba-46e3-85da-2919236ae0df",
   "metadata": {},
   "outputs": [
    {
     "data": {
      "text/plain": [
       "90"
      ]
     },
     "execution_count": 7,
     "metadata": {},
     "output_type": "execute_result"
    }
   ],
   "source": [
    "test10(60,30)"
   ]
  },
  {
   "cell_type": "code",
   "execution_count": 8,
   "id": "b6fc78f5-e233-4cc3-8f02-c5939fe31077",
   "metadata": {},
   "outputs": [],
   "source": [
    "def boolx(x =True , y =False):\n",
    "    return x + y"
   ]
  },
  {
   "cell_type": "code",
   "execution_count": 9,
   "id": "bc91b829-5c36-4d0c-9fff-aee19c809950",
   "metadata": {},
   "outputs": [
    {
     "data": {
      "text/plain": [
       "1"
      ]
     },
     "execution_count": 9,
     "metadata": {},
     "output_type": "execute_result"
    }
   ],
   "source": [
    "boolx()"
   ]
  },
  {
   "cell_type": "code",
   "execution_count": 10,
   "id": "4d5eaad9-7393-45df-a271-5e0d7c826040",
   "metadata": {},
   "outputs": [
    {
     "data": {
      "text/plain": [
       "0"
      ]
     },
     "execution_count": 10,
     "metadata": {},
     "output_type": "execute_result"
    }
   ],
   "source": [
    "boolx(False)"
   ]
  },
  {
   "cell_type": "code",
   "execution_count": 11,
   "id": "83fc028e-98ea-4a3d-a8c1-8143dcf61346",
   "metadata": {},
   "outputs": [
    {
     "data": {
      "text/plain": [
       "8"
      ]
     },
     "execution_count": 11,
     "metadata": {},
     "output_type": "execute_result"
    }
   ],
   "source": [
    "boolx(False , 8)"
   ]
  },
  {
   "cell_type": "code",
   "execution_count": 12,
   "id": "02465a70-a125-42a2-a970-011457f613bc",
   "metadata": {},
   "outputs": [
    {
     "data": {
      "text/plain": [
       "1"
      ]
     },
     "execution_count": 12,
     "metadata": {},
     "output_type": "execute_result"
    }
   ],
   "source": [
    "True + False"
   ]
  },
  {
   "cell_type": "code",
   "execution_count": 16,
   "id": "22bfbab3-5227-4d35-8eca-5365c8e95ab5",
   "metadata": {},
   "outputs": [
    {
     "data": {
      "text/plain": [
       "(True, False, True)"
      ]
     },
     "execution_count": 16,
     "metadata": {},
     "output_type": "execute_result"
    }
   ],
   "source": [
    "def traval(bike=True, Car=False):\n",
    "    plan_traval = bike or Car\n",
    "    return bike, Car, plan_traval\n",
    "\n",
    "traval()"
   ]
  },
  {
   "cell_type": "markdown",
   "id": "4c066d5f-6da5-4ccb-9ca9-d2878ffa45df",
   "metadata": {},
   "source": [
    "# *args"
   ]
  },
  {
   "cell_type": "code",
   "execution_count": 17,
   "id": "9511ba2d-6414-46ae-9c60-f65d11af8145",
   "metadata": {},
   "outputs": [
    {
     "data": {
      "text/plain": [
       "(True, True, True)"
      ]
     },
     "execution_count": 17,
     "metadata": {},
     "output_type": "execute_result"
    }
   ],
   "source": [
    "traval(Car = True )   # over write Car False value "
   ]
  },
  {
   "cell_type": "code",
   "execution_count": 18,
   "id": "cb67edc4-5278-45df-ab6c-36b4f79d093a",
   "metadata": {},
   "outputs": [
    {
     "data": {
      "text/plain": [
       "(' Bhim', ' Pawar', 34, [34, 4, 4, 5, 45, 343])"
      ]
     },
     "execution_count": 18,
     "metadata": {},
     "output_type": "execute_result"
    }
   ],
   "source": [
    "def test11(*args) :   # pass any number of argument (*) any numbers \n",
    "   return args        # its gives the tuple internally \n",
    "\n",
    "test11(\" Bhim\", \" Pawar\" ,34 ,[34,4,4,5,45,343])"
   ]
  },
  {
   "cell_type": "code",
   "execution_count": 22,
   "id": "7b57401a-3126-41be-8726-332b667fd3f2",
   "metadata": {},
   "outputs": [
    {
     "name": "stdout",
     "output_type": "stream",
     "text": [
      "('Bhim', 'pawar', [2, 3, 4], [4, 5, 6])\n"
     ]
    }
   ],
   "source": [
    "def create_list(*args):\n",
    "    return args\n",
    "    \n",
    "print(create_list(\"Bhim\", \"pawar\", [2, 3, 4], [4, 5, 6]))\n"
   ]
  },
  {
   "cell_type": "code",
   "execution_count": 23,
   "id": "5f4fe56e-9c1d-4857-8c1e-d820aed9d498",
   "metadata": {},
   "outputs": [
    {
     "data": {
      "text/plain": [
       "[1, 2, 3, 4, 5, 6, 7, 3, 4, 5]"
      ]
     },
     "execution_count": 23,
     "metadata": {},
     "output_type": "execute_result"
    }
   ],
   "source": [
    "def test12(a,b,c):\n",
    "    return a + b + c\n",
    "\n",
    "test12([1,2,3],[4,5,6,7],[3,4,5])"
   ]
  },
  {
   "cell_type": "code",
   "execution_count": 26,
   "id": "1b938bb0-616c-472b-9218-5299df4e5677",
   "metadata": {},
   "outputs": [
    {
     "data": {
      "text/plain": [
       "[1, 2, 3, 3, 4, 5, 6, 5, 6, 7, 8]"
      ]
     },
     "execution_count": 26,
     "metadata": {},
     "output_type": "execute_result"
    }
   ],
   "source": [
    "def test13(*args):\n",
    "    l = []\n",
    "    for i in args:\n",
    "        l = l + i\n",
    "    return l\n",
    "\n",
    "test13([1, 2, 3], [3, 4, 5, 6], [5, 6, 7, 8])       "
   ]
  },
  {
   "cell_type": "code",
   "execution_count": 28,
   "id": "cbed1bae-6b52-431c-b1e2-af8404fd27a3",
   "metadata": {},
   "outputs": [
    {
     "data": {
      "text/plain": [
       "[1, 2, 3, 4, 1, 9, 8, 7]"
      ]
     },
     "execution_count": 28,
     "metadata": {},
     "output_type": "execute_result"
    }
   ],
   "source": [
    "test13([1,2,3,4],[1,9,8,7])"
   ]
  },
  {
   "cell_type": "code",
   "execution_count": 29,
   "id": "6348185a-9b5f-43d4-ac8b-a9a425f4487f",
   "metadata": {},
   "outputs": [],
   "source": [
    "def test14(*args):\n",
    "    return [i for i in args]"
   ]
  },
  {
   "cell_type": "code",
   "execution_count": 30,
   "id": "5a9ee48f-22ea-4926-83c0-1cc9a68a904c",
   "metadata": {},
   "outputs": [
    {
     "data": {
      "text/plain": [
       "[[12, 13, 14], [13, 14, 15], [12, 23, 21]]"
      ]
     },
     "execution_count": 30,
     "metadata": {},
     "output_type": "execute_result"
    }
   ],
   "source": [
    "test14([12,13,14],[13 , 14,15],[12,23,21])"
   ]
  },
  {
   "cell_type": "code",
   "execution_count": 11,
   "id": "a8d979c1-5ea0-41ef-b4d7-4c78d736f4b9",
   "metadata": {},
   "outputs": [],
   "source": [
    " def test15(*args):\n",
    "     l = []\n",
    "     for i in args:\n",
    "         if type(i) == list:\n",
    "\n",
    "             l = l + i\n",
    "     return l"
   ]
  },
  {
   "cell_type": "code",
   "execution_count": 12,
   "id": "392b4240-13ad-4a94-8ba4-a773d2957c91",
   "metadata": {},
   "outputs": [
    {
     "data": {
      "text/plain": [
       "[2, 4, 5, 5, 4, 3, 6, 7]"
      ]
     },
     "execution_count": 12,
     "metadata": {},
     "output_type": "execute_result"
    }
   ],
   "source": [
    "test15(\"fdsfd\",234,[2,4,5],[5,4,3,6,7])"
   ]
  },
  {
   "cell_type": "markdown",
   "id": "2cf75df3-995e-4f57-bf2f-23f4f0d64fab",
   "metadata": {},
   "source": [
    "#  **kwargs"
   ]
  },
  {
   "cell_type": "code",
   "execution_count": 14,
   "id": "ad7ffaab-5f84-4c5d-9a33-24808c749abc",
   "metadata": {},
   "outputs": [
    {
     "ename": "TypeError",
     "evalue": "test16() takes 0 positional arguments but 4 were given",
     "output_type": "error",
     "traceback": [
      "\u001b[1;31m---------------------------------------------------------------------------\u001b[0m",
      "\u001b[1;31mTypeError\u001b[0m                                 Traceback (most recent call last)",
      "Cell \u001b[1;32mIn[14], line 5\u001b[0m\n\u001b[0;32m      2\u001b[0m     \u001b[38;5;28;01mreturn\u001b[39;00m kwargs\n\u001b[0;32m      3\u001b[0m                          \u001b[38;5;66;03m# any number of data with key valu epair \u001b[39;00m\n\u001b[1;32m----> 5\u001b[0m test16( \u001b[38;5;241m4\u001b[39m,\u001b[38;5;241m5\u001b[39m,\u001b[38;5;241m6\u001b[39m,\u001b[38;5;241m74\u001b[39m)\n",
      "\u001b[1;31mTypeError\u001b[0m: test16() takes 0 positional arguments but 4 were given"
     ]
    }
   ],
   "source": [
    "def test16(**kwargs):     # kw key word argument (Dictionary key & value pair \n",
    "    return kwargs\n",
    "                         # any number of data with key-value pair and its giving Dictionary internally \n",
    "    \n",
    "test16( 4,5,6,74)"
   ]
  },
  {
   "cell_type": "code",
   "execution_count": 15,
   "id": "db026b77-ec63-452f-b922-7c562be17c24",
   "metadata": {},
   "outputs": [
    {
     "data": {
      "text/plain": [
       "{'a': 8, 'b': 4, 'c': 7, 'd': 10}"
      ]
     },
     "execution_count": 15,
     "metadata": {},
     "output_type": "execute_result"
    }
   ],
   "source": [
    "test16( a = 8 ,b = 4, c=7, d = 10)"
   ]
  },
  {
   "cell_type": "code",
   "execution_count": 16,
   "id": "c049d0b5-ea07-49d4-a9b1-38d35a08a318",
   "metadata": {},
   "outputs": [
    {
     "data": {
      "text/plain": [
       "{'a': 6, 'b': True, 'c': [3, 4, 5, 67, 8, 'Bhim'], 'd': 'Pawar'}"
      ]
     },
     "execution_count": 16,
     "metadata": {},
     "output_type": "execute_result"
    }
   ],
   "source": [
    "test16( a = 6 , b = True, c =[3,4,5,67,8,\"Bhim\"], d = \"Pawar\")"
   ]
  },
  {
   "cell_type": "code",
   "execution_count": 1,
   "id": "ee5aec38-d436-43ca-bf05-06596378a25b",
   "metadata": {},
   "outputs": [],
   "source": [
    "def test18(**kwargs):\n",
    "    return kwargs\n",
    "    "
   ]
  },
  {
   "cell_type": "code",
   "execution_count": 6,
   "id": "4a9850b1-91b7-48de-bbe8-8b3d8e0d40c9",
   "metadata": {},
   "outputs": [
    {
     "data": {
      "text/plain": [
       "{'a': 6, 'c': [4, 5, 6, 7], 'd': ['Bhim', 'Pawar', 5.6], 'n': (3+5j)}"
      ]
     },
     "execution_count": 6,
     "metadata": {},
     "output_type": "execute_result"
    }
   ],
   "source": [
    "test18(a = 6, c=[4,5,6,7], d =[\"Bhim\", \"Pawar\",5.6],n =3 + 5j)"
   ]
  },
  {
   "cell_type": "code",
   "execution_count": 11,
   "id": "36211d9e-7a9d-43a4-8576-aec072ffcd92",
   "metadata": {},
   "outputs": [],
   "source": [
    "def test19(**kwargs):\n",
    "    for i in kwargs.items():\n",
    "        if type(i[1]) == list:\n",
    "            if \"Bhim\" in i[1] :\n",
    "                print(\"I am able to find your name in input\")\n",
    "                print(i[1])\n",
    "    return kwargs"
   ]
  },
  {
   "cell_type": "code",
   "execution_count": 12,
   "id": "d2625cb6-bd97-4838-a848-81483c728459",
   "metadata": {},
   "outputs": [
    {
     "name": "stdout",
     "output_type": "stream",
     "text": [
      "I am able to find your name in input\n",
      "['Bhim', 'Pawar', 5.6]\n"
     ]
    },
    {
     "data": {
      "text/plain": [
       "{'a': 6, 'c': [4, 5, 6, 7], 'd': ['Bhim', 'Pawar', 5.6], 'n': (3+5j)}"
      ]
     },
     "execution_count": 12,
     "metadata": {},
     "output_type": "execute_result"
    }
   ],
   "source": [
    "test19(a = 6, c=[4,5,6,7], d =[\"Bhim\", \"Pawar\",5.6],n =3 + 5j)"
   ]
  },
  {
   "cell_type": "code",
   "execution_count": 22,
   "id": "13142b9a-f963-4295-93eb-4ef5b9b188f0",
   "metadata": {},
   "outputs": [
    {
     "data": {
      "text/plain": [
       "{int: [1, 2, 3], list: [[5, 6, 7]], str: ['hi', 'nice'], complex: [(3+7j)]}"
      ]
     },
     "execution_count": 22,
     "metadata": {},
     "output_type": "execute_result"
    }
   ],
   "source": [
    "def func1(*args):\n",
    "    df = {}\n",
    "    for i in args:\n",
    "        if type(i) in df:\n",
    "             df[type(i)].append(i)\n",
    "        else:\n",
    "            df[type(i)] = [i]\n",
    "    return df\n",
    "\n",
    "func1(1,2,3,[5,6,7],\"hi\", \"nice\", 3 + 7j)\n"
   ]
  },
  {
   "cell_type": "code",
   "execution_count": 1,
   "id": "cd971594-cb2c-4ee5-80fa-dbcea53d05c4",
   "metadata": {},
   "outputs": [],
   "source": [
    "def test(**kwargs):\n",
    "    print(kwargs)"
   ]
  },
  {
   "cell_type": "code",
   "execution_count": 3,
   "id": "aff6c068-ef0b-4ae1-8f92-09ca5d74838f",
   "metadata": {},
   "outputs": [
    {
     "name": "stdout",
     "output_type": "stream",
     "text": [
      "{'x': 'bhim', 'y': 56, 'z': 45.67}\n"
     ]
    }
   ],
   "source": [
    "test(x = \"bhim\",y = 56, z = 45.67)"
   ]
  },
  {
   "cell_type": "code",
   "execution_count": 4,
   "id": "dde704a5-70a5-41a3-ae7b-e279c26bce01",
   "metadata": {},
   "outputs": [],
   "source": [
    "def test(**kwargs):\n",
    "    print(kwargs.items())"
   ]
  },
  {
   "cell_type": "code",
   "execution_count": 5,
   "id": "f57d67f3-5a62-4ccd-8a16-5b1864e71cc0",
   "metadata": {},
   "outputs": [
    {
     "name": "stdout",
     "output_type": "stream",
     "text": [
      "dict_items([('x', 'bhim'), ('y', 56), ('z', [45.67, 2, 3, 5])])\n"
     ]
    }
   ],
   "source": [
    "test(x = \"bhim\",y = 56, z = [45.67,2,3,5])"
   ]
  },
  {
   "cell_type": "markdown",
   "id": "1c352e1e-d95c-4317-8435-b8b8fdf70c1b",
   "metadata": {},
   "source": [
    "# Anomus or Lambda function"
   ]
  },
  {
   "cell_type": "code",
   "execution_count": 8,
   "id": "291ef497-2d44-4289-95ab-66c1883c56ca",
   "metadata": {},
   "outputs": [],
   "source": [
    "def test(name , mail_id):\n",
    "    con = name + mail_id\n",
    "    return mail_id, name , con"
   ]
  },
  {
   "cell_type": "code",
   "execution_count": 9,
   "id": "b4fb5a5b-e179-4e07-a486-4564365b5030",
   "metadata": {},
   "outputs": [
    {
     "data": {
      "text/plain": [
       "(' bhimrao.pawar07@gmail.com', 'Bhim', 'Bhim bhimrao.pawar07@gmail.com')"
      ]
     },
     "execution_count": 9,
     "metadata": {},
     "output_type": "execute_result"
    }
   ],
   "source": [
    "test(\"Bhim\" , \" bhimrao.pawar07@gmail.com\")"
   ]
  },
  {
   "cell_type": "code",
   "execution_count": 10,
   "id": "d1ce3225-4951-4d6f-beb2-486df9dd5560",
   "metadata": {},
   "outputs": [
    {
     "data": {
      "text/plain": [
       "(20, 10, 30)"
      ]
     },
     "execution_count": 10,
     "metadata": {},
     "output_type": "execute_result"
    }
   ],
   "source": [
    "a = 10 \n",
    "b = 20 \n",
    "\n",
    "def test1(x , y) :\n",
    "    return x + y \n",
    "\n",
    "\n",
    "test(a,b)\n"
   ]
  },
  {
   "cell_type": "code",
   "execution_count": 15,
   "id": "aeb5a4c5-27be-4533-b469-0c1bcf77976c",
   "metadata": {},
   "outputs": [],
   "source": [
    "m = lambda x,y : x+y  # A Function without name "
   ]
  },
  {
   "cell_type": "code",
   "execution_count": 14,
   "id": "b7c95d6f-8dff-4dd6-9559-aca90c33f529",
   "metadata": {},
   "outputs": [
    {
     "data": {
      "text/plain": [
       "30"
      ]
     },
     "execution_count": 14,
     "metadata": {},
     "output_type": "execute_result"
    }
   ],
   "source": [
    "m(a,b)"
   ]
  },
  {
   "cell_type": "code",
   "execution_count": 16,
   "id": "1ca55550-6681-4a16-81d1-7ce27b81983d",
   "metadata": {},
   "outputs": [
    {
     "data": {
      "text/plain": [
       "'Bhimbhimrao.pawar@gmail.com'"
      ]
     },
     "execution_count": 16,
     "metadata": {},
     "output_type": "execute_result"
    }
   ],
   "source": [
    "m(\"Bhim\", \"bhimrao.pawar@gmail.com\")"
   ]
  },
  {
   "cell_type": "code",
   "execution_count": 17,
   "id": "675aa752-8d27-458f-8e8e-7ac32ceb1589",
   "metadata": {},
   "outputs": [],
   "source": [
    "b = \"Bhim\" \n",
    "c = \"test\"\n",
    "n = lambda arg1 , arg2, : print(arg1, arg2)"
   ]
  },
  {
   "cell_type": "code",
   "execution_count": 18,
   "id": "f4fba75d-aed1-4a46-9f33-9ac8d6d1e3cb",
   "metadata": {},
   "outputs": [
    {
     "name": "stdout",
     "output_type": "stream",
     "text": [
      "Bhim test\n"
     ]
    }
   ],
   "source": [
    "n(b, c)"
   ]
  },
  {
   "cell_type": "code",
   "execution_count": 19,
   "id": "5529f44a-8325-4062-b61f-718ece2300a5",
   "metadata": {},
   "outputs": [],
   "source": [
    "r = 10        # Global variable \n",
    "def test3(a ,b ):\n",
    "    r = a / b  # Local variable \n",
    "    print(r)"
   ]
  },
  {
   "cell_type": "code",
   "execution_count": 20,
   "id": "2f18de80-d44a-41a7-8906-53b21d6b7730",
   "metadata": {},
   "outputs": [
    {
     "name": "stdout",
     "output_type": "stream",
     "text": [
      "1.0\n"
     ]
    }
   ],
   "source": [
    "test3(10,10)"
   ]
  },
  {
   "cell_type": "markdown",
   "id": "158721b0-543d-4a32-8763-1384303a91aa",
   "metadata": {},
   "source": [
    "# local and Global variable "
   ]
  },
  {
   "cell_type": "code",
   "execution_count": 21,
   "id": "7af12555-92f1-4d6e-82a6-39e8febe4314",
   "metadata": {},
   "outputs": [],
   "source": [
    "r = 10        # Global variable \n",
    "def test3(a ,b ):\n",
    "    r = a / b  # Local variable \n",
    "    print(r)"
   ]
  },
  {
   "cell_type": "code",
   "execution_count": 22,
   "id": "cf583b02-3ca8-4c6d-8d84-f120841ce5a4",
   "metadata": {},
   "outputs": [
    {
     "name": "stdout",
     "output_type": "stream",
     "text": [
      "1.0\n"
     ]
    }
   ],
   "source": [
    "test3(10,10)"
   ]
  },
  {
   "cell_type": "code",
   "execution_count": 23,
   "id": "389e659d-44b1-48ca-9c0b-0177f14e0488",
   "metadata": {},
   "outputs": [
    {
     "name": "stdout",
     "output_type": "stream",
     "text": [
      "Help on built-in function print in module builtins:\n",
      "\n",
      "print(*args, sep=' ', end='\\n', file=None, flush=False)\n",
      "    Prints the values to a stream, or to sys.stdout by default.\n",
      "    \n",
      "    sep\n",
      "      string inserted between values, default a space.\n",
      "    end\n",
      "      string appended after the last value, default a newline.\n",
      "    file\n",
      "      a file-like object (stream); defaults to the current sys.stdout.\n",
      "    flush\n",
      "      whether to forcibly flush the stream.\n",
      "\n"
     ]
    }
   ],
   "source": [
    "help(print)"
   ]
  },
  {
   "cell_type": "markdown",
   "id": "6d6d5029-5ccb-4535-a28f-5d8e641565de",
   "metadata": {},
   "source": [
    "# iterable and iterator"
   ]
  },
  {
   "cell_type": "code",
   "execution_count": 31,
   "id": "22386840-0b27-40e7-9909-76b7b87add60",
   "metadata": {},
   "outputs": [
    {
     "ename": "TypeError",
     "evalue": "'int' object is not iterable",
     "output_type": "error",
     "traceback": [
      "\u001b[1;31m---------------------------------------------------------------------------\u001b[0m",
      "\u001b[1;31mTypeError\u001b[0m                                 Traceback (most recent call last)",
      "Cell \u001b[1;32mIn[31], line 2\u001b[0m\n\u001b[0;32m      1\u001b[0m a \u001b[38;5;241m=\u001b[39m \u001b[38;5;241m10\u001b[39m \n\u001b[1;32m----> 2\u001b[0m \u001b[38;5;28;01mfor\u001b[39;00m i \u001b[38;5;129;01min\u001b[39;00m a : \n\u001b[0;32m      3\u001b[0m     \u001b[38;5;28mprint\u001b[39m(i)\n",
      "\u001b[1;31mTypeError\u001b[0m: 'int' object is not iterable"
     ]
    }
   ],
   "source": [
    "a = 10          # iterable is kind of data  extract the data into iterator \n",
    "for i in a : \n",
    "    print(i)"
   ]
  },
  {
   "cell_type": "code",
   "execution_count": 35,
   "id": "490c90f7-2938-4ed0-a9fd-882b77123295",
   "metadata": {},
   "outputs": [
    {
     "name": "stdout",
     "output_type": "stream",
     "text": [
      "B\n",
      "h\n",
      "i\n",
      "m\n"
     ]
    }
   ],
   "source": [
    "for i in \"Bhim\":     # convert string to iterator \n",
    "    print(i)"
   ]
  },
  {
   "cell_type": "code",
   "execution_count": 34,
   "id": "453c691b-eb05-4dcd-bc03-ebba9588dc4d",
   "metadata": {},
   "outputs": [
    {
     "ename": "TypeError",
     "evalue": "'str' object is not an iterator",
     "output_type": "error",
     "traceback": [
      "\u001b[1;31m---------------------------------------------------------------------------\u001b[0m",
      "\u001b[1;31mTypeError\u001b[0m                                 Traceback (most recent call last)",
      "Cell \u001b[1;32mIn[34], line 2\u001b[0m\n\u001b[0;32m      1\u001b[0m b \u001b[38;5;241m=\u001b[39m \u001b[38;5;124m\"\u001b[39m\u001b[38;5;124mBhim\u001b[39m\u001b[38;5;124m\"\u001b[39m\n\u001b[1;32m----> 2\u001b[0m \u001b[38;5;28mnext\u001b[39m(b)\n",
      "\u001b[1;31mTypeError\u001b[0m: 'str' object is not an iterator"
     ]
    }
   ],
   "source": [
    "b = \"Bhim\"    # iterator kind of data \n",
    "next(b)"
   ]
  },
  {
   "cell_type": "code",
   "execution_count": 37,
   "id": "75529e89-2944-4463-8c28-5e60c2401cb6",
   "metadata": {},
   "outputs": [],
   "source": [
    "s = iter(b)"
   ]
  },
  {
   "cell_type": "code",
   "execution_count": 39,
   "id": "fc847a7a-73fa-44a2-8e0b-162500bd1d52",
   "metadata": {},
   "outputs": [
    {
     "data": {
      "text/plain": [
       "'B'"
      ]
     },
     "execution_count": 39,
     "metadata": {},
     "output_type": "execute_result"
    }
   ],
   "source": [
    "next(s)"
   ]
  },
  {
   "cell_type": "code",
   "execution_count": 43,
   "id": "742f1309-a341-4d26-bd54-bc15ecdf9817",
   "metadata": {},
   "outputs": [
    {
     "data": {
      "text/plain": [
       "'h'"
      ]
     },
     "execution_count": 43,
     "metadata": {},
     "output_type": "execute_result"
    }
   ],
   "source": [
    "next(s)"
   ]
  },
  {
   "cell_type": "code",
   "execution_count": 44,
   "id": "de6511d5-c07e-4e7f-8c56-01187503c0a3",
   "metadata": {},
   "outputs": [
    {
     "data": {
      "text/plain": [
       "'i'"
      ]
     },
     "execution_count": 44,
     "metadata": {},
     "output_type": "execute_result"
    }
   ],
   "source": [
    "next(s)"
   ]
  },
  {
   "cell_type": "code",
   "execution_count": 45,
   "id": "4f6c4a5c-e5f0-4d77-87b0-cf167ad081d1",
   "metadata": {},
   "outputs": [
    {
     "data": {
      "text/plain": [
       "'m'"
      ]
     },
     "execution_count": 45,
     "metadata": {},
     "output_type": "execute_result"
    }
   ],
   "source": [
    "next(s)"
   ]
  },
  {
   "cell_type": "code",
   "execution_count": 40,
   "id": "5cacfb91-c416-4481-85ea-306ff2bbc2ca",
   "metadata": {},
   "outputs": [
    {
     "ename": "TypeError",
     "evalue": "'int' object is not an iterator",
     "output_type": "error",
     "traceback": [
      "\u001b[1;31m---------------------------------------------------------------------------\u001b[0m",
      "\u001b[1;31mTypeError\u001b[0m                                 Traceback (most recent call last)",
      "Cell \u001b[1;32mIn[40], line 2\u001b[0m\n\u001b[0;32m      1\u001b[0m a \u001b[38;5;241m=\u001b[39m \u001b[38;5;241m10\u001b[39m\n\u001b[1;32m----> 2\u001b[0m \u001b[38;5;28mnext\u001b[39m(a)\n",
      "\u001b[1;31mTypeError\u001b[0m: 'int' object is not an iterator"
     ]
    }
   ],
   "source": [
    "a = 10\n",
    "next(a)"
   ]
  },
  {
   "cell_type": "code",
   "execution_count": 41,
   "id": "2ea8d893-f5f5-4299-a301-275c9de2dd68",
   "metadata": {},
   "outputs": [
    {
     "ename": "TypeError",
     "evalue": "'int' object is not iterable",
     "output_type": "error",
     "traceback": [
      "\u001b[1;31m---------------------------------------------------------------------------\u001b[0m",
      "\u001b[1;31mTypeError\u001b[0m                                 Traceback (most recent call last)",
      "Cell \u001b[1;32mIn[41], line 1\u001b[0m\n\u001b[1;32m----> 1\u001b[0m \u001b[38;5;28miter\u001b[39m(a)\n",
      "\u001b[1;31mTypeError\u001b[0m: 'int' object is not iterable"
     ]
    }
   ],
   "source": [
    "iter(a)"
   ]
  },
  {
   "cell_type": "code",
   "execution_count": 46,
   "id": "49181d22-c1a8-4115-a178-2c9f559ae262",
   "metadata": {},
   "outputs": [],
   "source": [
    "s = \"sudh\""
   ]
  },
  {
   "cell_type": "code",
   "execution_count": 47,
   "id": "e9968e41-e706-4890-ab3c-a2e5b8ff3d94",
   "metadata": {},
   "outputs": [],
   "source": [
    "s = iter(s)"
   ]
  },
  {
   "cell_type": "code",
   "execution_count": 48,
   "id": "2280c6f4-59d4-42a7-93d3-0467e34099b8",
   "metadata": {},
   "outputs": [
    {
     "data": {
      "text/plain": [
       "'s'"
      ]
     },
     "execution_count": 48,
     "metadata": {},
     "output_type": "execute_result"
    }
   ],
   "source": [
    "next(s)"
   ]
  },
  {
   "cell_type": "code",
   "execution_count": 49,
   "id": "d0eda618-925b-44af-8a73-bd7a4eed295d",
   "metadata": {},
   "outputs": [
    {
     "data": {
      "text/plain": [
       "'u'"
      ]
     },
     "execution_count": 49,
     "metadata": {},
     "output_type": "execute_result"
    }
   ],
   "source": [
    "next(s)"
   ]
  },
  {
   "cell_type": "code",
   "execution_count": 50,
   "id": "0b7cf3f8-1c7c-435a-a1f4-e30d64ecf203",
   "metadata": {},
   "outputs": [
    {
     "data": {
      "text/plain": [
       "'d'"
      ]
     },
     "execution_count": 50,
     "metadata": {},
     "output_type": "execute_result"
    }
   ],
   "source": [
    "next(s)"
   ]
  },
  {
   "cell_type": "code",
   "execution_count": 51,
   "id": "19f1b2bc-3e15-47dc-890e-3f9267b1578d",
   "metadata": {},
   "outputs": [
    {
     "data": {
      "text/plain": [
       "'h'"
      ]
     },
     "execution_count": 51,
     "metadata": {},
     "output_type": "execute_result"
    }
   ],
   "source": [
    "next(s)"
   ]
  },
  {
   "cell_type": "code",
   "execution_count": 52,
   "id": "a04c78b0-2754-4960-be74-251ac2d182a6",
   "metadata": {},
   "outputs": [
    {
     "ename": "StopIteration",
     "evalue": "",
     "output_type": "error",
     "traceback": [
      "\u001b[1;31m---------------------------------------------------------------------------\u001b[0m",
      "\u001b[1;31mStopIteration\u001b[0m                             Traceback (most recent call last)",
      "Cell \u001b[1;32mIn[52], line 1\u001b[0m\n\u001b[1;32m----> 1\u001b[0m \u001b[38;5;28mnext\u001b[39m(s)\n",
      "\u001b[1;31mStopIteration\u001b[0m: "
     ]
    }
   ],
   "source": [
    "next(s)"
   ]
  },
  {
   "cell_type": "code",
   "execution_count": 53,
   "id": "a69c1ba5-ee86-4dcf-a4d0-3fc5a0a14899",
   "metadata": {},
   "outputs": [],
   "source": [
    "l = [1,2,3,4,5]"
   ]
  },
  {
   "cell_type": "code",
   "execution_count": 55,
   "id": "0c46f5e6-507b-4934-bbb4-9cb14cb422f5",
   "metadata": {},
   "outputs": [],
   "source": [
    "p=iter(l)"
   ]
  },
  {
   "cell_type": "code",
   "execution_count": 56,
   "id": "5a700bfd-74fe-4fa3-a0ab-96b1abbc7c73",
   "metadata": {},
   "outputs": [
    {
     "data": {
      "text/plain": [
       "1"
      ]
     },
     "execution_count": 56,
     "metadata": {},
     "output_type": "execute_result"
    }
   ],
   "source": [
    "next(p)"
   ]
  },
  {
   "cell_type": "code",
   "execution_count": 57,
   "id": "d9202a16-21f9-42c3-854d-742562a731aa",
   "metadata": {},
   "outputs": [
    {
     "data": {
      "text/plain": [
       "2"
      ]
     },
     "execution_count": 57,
     "metadata": {},
     "output_type": "execute_result"
    }
   ],
   "source": [
    "next(p)"
   ]
  },
  {
   "cell_type": "code",
   "execution_count": 58,
   "id": "9119343a-31c5-497b-a161-0f7b8bddd2a9",
   "metadata": {},
   "outputs": [
    {
     "data": {
      "text/plain": [
       "3"
      ]
     },
     "execution_count": 58,
     "metadata": {},
     "output_type": "execute_result"
    }
   ],
   "source": [
    "next(p)"
   ]
  },
  {
   "cell_type": "code",
   "execution_count": 59,
   "id": "263518fa-edb5-4e8e-8aa4-1c2aaf808d2d",
   "metadata": {},
   "outputs": [
    {
     "data": {
      "text/plain": [
       "4"
      ]
     },
     "execution_count": 59,
     "metadata": {},
     "output_type": "execute_result"
    }
   ],
   "source": [
    "next(p)"
   ]
  },
  {
   "cell_type": "code",
   "execution_count": 60,
   "id": "9ae2d54e-6270-4b0f-af3d-d48dec962820",
   "metadata": {},
   "outputs": [
    {
     "data": {
      "text/plain": [
       "5"
      ]
     },
     "execution_count": 60,
     "metadata": {},
     "output_type": "execute_result"
    }
   ],
   "source": [
    "next(p)"
   ]
  },
  {
   "cell_type": "code",
   "execution_count": 62,
   "id": "472093d1-5d6d-4428-938a-5e90a2b7ad53",
   "metadata": {},
   "outputs": [],
   "source": [
    "t = (4,5,6,7)"
   ]
  },
  {
   "cell_type": "code",
   "execution_count": 63,
   "id": "459336d7-3795-49ba-b9ba-95c208ae07e9",
   "metadata": {},
   "outputs": [],
   "source": [
    "t = iter(t)"
   ]
  },
  {
   "cell_type": "code",
   "execution_count": 64,
   "id": "41077f74-cf1e-4e61-8163-0b9078f1cda5",
   "metadata": {},
   "outputs": [
    {
     "data": {
      "text/plain": [
       "4"
      ]
     },
     "execution_count": 64,
     "metadata": {},
     "output_type": "execute_result"
    }
   ],
   "source": [
    "next(t)"
   ]
  },
  {
   "cell_type": "code",
   "execution_count": 65,
   "id": "70bcc895-0a56-4668-9ec7-895831374ec6",
   "metadata": {},
   "outputs": [
    {
     "data": {
      "text/plain": [
       "5"
      ]
     },
     "execution_count": 65,
     "metadata": {},
     "output_type": "execute_result"
    }
   ],
   "source": [
    "next(t)"
   ]
  },
  {
   "cell_type": "code",
   "execution_count": 66,
   "id": "95638fbc-5030-4cd7-9ce8-cef4933d7e66",
   "metadata": {},
   "outputs": [
    {
     "data": {
      "text/plain": [
       "6"
      ]
     },
     "execution_count": 66,
     "metadata": {},
     "output_type": "execute_result"
    }
   ],
   "source": [
    "next(t)"
   ]
  },
  {
   "cell_type": "code",
   "execution_count": 67,
   "id": "0a83c1f8-6564-4203-aef4-17ef4b21f8b4",
   "metadata": {},
   "outputs": [
    {
     "data": {
      "text/plain": [
       "7"
      ]
     },
     "execution_count": 67,
     "metadata": {},
     "output_type": "execute_result"
    }
   ],
   "source": [
    "next(t)"
   ]
  },
  {
   "cell_type": "markdown",
   "id": "2fae4015-bf10-44d3-b83d-16741604abff",
   "metadata": {},
   "source": [
    "# Generator "
   ]
  },
  {
   "cell_type": "code",
   "execution_count": 73,
   "id": "4745ae4d-01cb-4f15-9c02-adbd573c61c5",
   "metadata": {},
   "outputs": [],
   "source": [
    "def test4(n):\n",
    "    l = []\n",
    "    for i in range(n):\n",
    "        l.append(i)\n",
    "    return l"
   ]
  },
  {
   "cell_type": "code",
   "execution_count": 74,
   "id": "ca25b306-21a4-4adc-b9a8-939387797e6f",
   "metadata": {},
   "outputs": [
    {
     "data": {
      "text/plain": [
       "[0, 1, 2, 3, 4, 5]"
      ]
     },
     "execution_count": 74,
     "metadata": {},
     "output_type": "execute_result"
    }
   ],
   "source": [
    "test4(6)"
   ]
  },
  {
   "cell_type": "code",
   "execution_count": 75,
   "id": "ec939cb3-db3f-40be-928d-273d694511cf",
   "metadata": {},
   "outputs": [],
   "source": [
    "def test4(n):\n",
    "    l = []\n",
    "    for i in range(n):\n",
    "        l.append(i**3)\n",
    "    return l"
   ]
  },
  {
   "cell_type": "code",
   "execution_count": 76,
   "id": "19e4edc7-9106-482c-b741-06dde4a937aa",
   "metadata": {},
   "outputs": [
    {
     "data": {
      "text/plain": [
       "[0, 1, 8, 27, 64, 125]"
      ]
     },
     "execution_count": 76,
     "metadata": {},
     "output_type": "execute_result"
    }
   ],
   "source": [
    "test4(6)"
   ]
  },
  {
   "cell_type": "code",
   "execution_count": 78,
   "id": "5e2b06cb-156b-4dda-b8f3-f95621f66868",
   "metadata": {},
   "outputs": [],
   "source": [
    "def test5(n):\n",
    "    for i in range(n):\n",
    "        yield i **3          # yield keyword help out what done last time \n",
    "    \n",
    "    "
   ]
  },
  {
   "cell_type": "code",
   "execution_count": 79,
   "id": "82b574ff-a7b8-4af5-b935-c44c7f39e11e",
   "metadata": {},
   "outputs": [
    {
     "data": {
      "text/plain": [
       "<generator object test5 at 0x000001D1C1AEF850>"
      ]
     },
     "execution_count": 79,
     "metadata": {},
     "output_type": "execute_result"
    }
   ],
   "source": [
    "test5(30)"
   ]
  },
  {
   "cell_type": "code",
   "execution_count": 82,
   "id": "3756d724-f8c5-4ae2-805f-ebbfc1c2f64c",
   "metadata": {},
   "outputs": [
    {
     "name": "stdout",
     "output_type": "stream",
     "text": [
      "0\n",
      "1\n",
      "8\n",
      "27\n",
      "64\n",
      "125\n",
      "216\n",
      "343\n",
      "512\n",
      "729\n",
      "1000\n",
      "1331\n",
      "1728\n",
      "2197\n",
      "2744\n",
      "3375\n",
      "4096\n",
      "4913\n",
      "5832\n",
      "6859\n",
      "8000\n",
      "9261\n",
      "10648\n",
      "12167\n",
      "13824\n",
      "15625\n",
      "17576\n",
      "19683\n",
      "21952\n",
      "24389\n"
     ]
    }
   ],
   "source": [
    "for i in test5(30):\n",
    "    print(i)"
   ]
  },
  {
   "cell_type": "code",
   "execution_count": 80,
   "id": "54d90dae-acb2-48b9-8c5f-3d391ab6b004",
   "metadata": {},
   "outputs": [
    {
     "data": {
      "text/plain": [
       "[0, 1, 2, 3, 4, 5, 6, 7, 8, 9, 10, 11, 12, 13, 14, 15, 16, 17, 18, 19]"
      ]
     },
     "execution_count": 80,
     "metadata": {},
     "output_type": "execute_result"
    }
   ],
   "source": [
    "list(range(20))"
   ]
  },
  {
   "cell_type": "code",
   "execution_count": 81,
   "id": "f0c41422-ff25-48a6-9651-1bc0174e9b3b",
   "metadata": {},
   "outputs": [
    {
     "name": "stdout",
     "output_type": "stream",
     "text": [
      "0\n",
      "1\n",
      "2\n",
      "3\n",
      "4\n",
      "5\n",
      "6\n",
      "7\n",
      "8\n",
      "9\n",
      "10\n",
      "11\n",
      "12\n",
      "13\n",
      "14\n",
      "15\n",
      "16\n",
      "17\n",
      "18\n",
      "19\n"
     ]
    }
   ],
   "source": [
    "for i in range(20):\n",
    "    print(i)"
   ]
  },
  {
   "cell_type": "markdown",
   "id": "380619fd-c734-4869-b81b-4a8a28669941",
   "metadata": {},
   "source": [
    "# Fibonachi series "
   ]
  },
  {
   "cell_type": "code",
   "execution_count": 87,
   "id": "c2660bc8-a2ef-468a-bd22-6fb21373a6ae",
   "metadata": {},
   "outputs": [],
   "source": [
    "def genfib(n):\n",
    "    a = 1\n",
    "    b = 1\n",
    "    output =[]\n",
    "    for i in range(n):\n",
    "        output.append(a)\n",
    "        a , b = b , a + b\n",
    "    return output"
   ]
  },
  {
   "cell_type": "code",
   "execution_count": 88,
   "id": "2fb6a6ef-0d0e-4ede-8d48-dfd02f018476",
   "metadata": {},
   "outputs": [
    {
     "data": {
      "text/plain": [
       "[1, 1, 2, 3, 5, 8, 13, 21, 34, 55]"
      ]
     },
     "execution_count": 88,
     "metadata": {},
     "output_type": "execute_result"
    }
   ],
   "source": [
    "genfib(10)"
   ]
  },
  {
   "cell_type": "code",
   "execution_count": 89,
   "id": "ffaab108-feb4-4fb1-997f-5f249708d884",
   "metadata": {},
   "outputs": [],
   "source": [
    "def genfib(n):\n",
    "    a = 1\n",
    "    b = 1\n",
    "    for i in range(n):\n",
    "        yield a\n",
    "        a , b = b , a+b"
   ]
  },
  {
   "cell_type": "code",
   "execution_count": 90,
   "id": "96e7258e-941b-410a-a718-2a0caa7792af",
   "metadata": {},
   "outputs": [
    {
     "data": {
      "text/plain": [
       "<generator object genfib at 0x000001D1C25B2890>"
      ]
     },
     "execution_count": 90,
     "metadata": {},
     "output_type": "execute_result"
    }
   ],
   "source": [
    "genfib(6)"
   ]
  },
  {
   "cell_type": "code",
   "execution_count": 91,
   "id": "e3fc190a-8ead-4fb6-8264-a63bfcbd0e56",
   "metadata": {},
   "outputs": [
    {
     "name": "stdout",
     "output_type": "stream",
     "text": [
      "1\n",
      "1\n",
      "2\n",
      "3\n",
      "5\n",
      "8\n"
     ]
    }
   ],
   "source": [
    "for i in genfib(6):\n",
    "    print(i)\n"
   ]
  },
  {
   "cell_type": "markdown",
   "id": "fe900bba-d39f-494f-8a39-6f7c13f7ed4c",
   "metadata": {},
   "source": [
    "# read and write file "
   ]
  },
  {
   "cell_type": "code",
   "execution_count": 100,
   "id": "c2c345f2-4c57-46a0-a160-c823bb94e0c4",
   "metadata": {},
   "outputs": [],
   "source": [
    "f = open(\"test.txt\",\"w\")  # \"w\" crite file "
   ]
  },
  {
   "cell_type": "code",
   "execution_count": 101,
   "id": "a65565e7-195d-4ed2-8bc1-88d14e4db07b",
   "metadata": {},
   "outputs": [
    {
     "data": {
      "text/plain": [
       "13"
      ]
     },
     "execution_count": 101,
     "metadata": {},
     "output_type": "execute_result"
    }
   ],
   "source": [
    "f.write(r\"Bhimrao Pawar\") # you can write data into file "
   ]
  },
  {
   "cell_type": "code",
   "execution_count": 120,
   "id": "604e14c4-b81c-47a4-8365-a666f74212d3",
   "metadata": {},
   "outputs": [],
   "source": [
    "f.close()  # you can close file "
   ]
  },
  {
   "cell_type": "code",
   "execution_count": 103,
   "id": "f7fa4c41-7074-4698-a6d8-0767f0a08898",
   "metadata": {},
   "outputs": [],
   "source": [
    "f = open(\"test.txt\")  # again open file "
   ]
  },
  {
   "cell_type": "code",
   "execution_count": 104,
   "id": "adb2cc68-5d32-4401-b653-f16a5462512e",
   "metadata": {},
   "outputs": [
    {
     "data": {
      "text/plain": [
       "'Bhimrao Pawar'"
      ]
     },
     "execution_count": 104,
     "metadata": {},
     "output_type": "execute_result"
    }
   ],
   "source": [
    "f.read()  # read text.txt file "
   ]
  },
  {
   "cell_type": "code",
   "execution_count": 105,
   "id": "d708629c-7fba-4c96-ac6b-67e911876a2a",
   "metadata": {},
   "outputs": [
    {
     "data": {
      "text/plain": [
       "' is the best Data Scientist he has practised Hard \\nHe will get huge package job in the Data Science community.\\nBhimrao should be keeping the practice code \\nThen and then he will achieve his dream jobs \\n'"
      ]
     },
     "execution_count": 105,
     "metadata": {},
     "output_type": "execute_result"
    }
   ],
   "source": [
    "f.read()"
   ]
  },
  {
   "cell_type": "code",
   "execution_count": 106,
   "id": "d0142778-5064-477a-af67-3ee41e6f8ab0",
   "metadata": {},
   "outputs": [
    {
     "data": {
      "text/plain": [
       "10"
      ]
     },
     "execution_count": 106,
     "metadata": {},
     "output_type": "execute_result"
    }
   ],
   "source": [
    "f.seek(10)   # reset coursor on 10 th position "
   ]
  },
  {
   "cell_type": "code",
   "execution_count": 107,
   "id": "deee77cf-0ff2-4551-9bc2-c3ea3f7aa493",
   "metadata": {},
   "outputs": [
    {
     "data": {
      "text/plain": [
       "'war is the best Data Scientist he has practised Hard \\nHe will get huge package job in the Data Science community.\\nBhimrao should be keeping the practice code \\nThen and then he will achieve his dream jobs \\n'"
      ]
     },
     "execution_count": 107,
     "metadata": {},
     "output_type": "execute_result"
    }
   ],
   "source": [
    "f.read()  # you can read data from 10 position "
   ]
  },
  {
   "cell_type": "code",
   "execution_count": 108,
   "id": "59bf88f3-d572-495b-a77a-3c413b2dd372",
   "metadata": {},
   "outputs": [
    {
     "data": {
      "text/plain": [
       "''"
      ]
     },
     "execution_count": 108,
     "metadata": {},
     "output_type": "execute_result"
    }
   ],
   "source": [
    "f.read()"
   ]
  },
  {
   "cell_type": "code",
   "execution_count": 111,
   "id": "111dc8e5-49cf-4b3a-a1bf-27ba60374ab0",
   "metadata": {},
   "outputs": [
    {
     "data": {
      "text/plain": [
       "0"
      ]
     },
     "execution_count": 111,
     "metadata": {},
     "output_type": "execute_result"
    }
   ],
   "source": [
    "f.seek(0) # again you can reset the coursor & read data from that point"
   ]
  },
  {
   "cell_type": "code",
   "execution_count": 112,
   "id": "5fac4a88-b23d-46af-b2dc-332cdf5867c3",
   "metadata": {},
   "outputs": [
    {
     "data": {
      "text/plain": [
       "'Bhimrao Pawar is the best Data Scientist he has practised Hard \\nHe will get huge package job in the Data Science community.\\nBhimrao should be keeping the practice code \\nThen and then he will achieve his dream jobs \\n'"
      ]
     },
     "execution_count": 112,
     "metadata": {},
     "output_type": "execute_result"
    }
   ],
   "source": [
    "f.read()"
   ]
  },
  {
   "cell_type": "code",
   "execution_count": 114,
   "id": "85c92f44-fa50-434b-b764-e3fe8cd83318",
   "metadata": {},
   "outputs": [],
   "source": [
    "f = open(\"test.txt\",\"r\")  # you can only read file not write on it "
   ]
  },
  {
   "cell_type": "code",
   "execution_count": 115,
   "id": "ddda13e0-549e-4113-b204-82f7edd47dd0",
   "metadata": {},
   "outputs": [
    {
     "ename": "UnsupportedOperation",
     "evalue": "not writable",
     "output_type": "error",
     "traceback": [
      "\u001b[1;31m---------------------------------------------------------------------------\u001b[0m",
      "\u001b[1;31mUnsupportedOperation\u001b[0m                      Traceback (most recent call last)",
      "Cell \u001b[1;32mIn[115], line 1\u001b[0m\n\u001b[1;32m----> 1\u001b[0m f\u001b[38;5;241m.\u001b[39mwrite(\u001b[38;5;124m\"\u001b[39m\u001b[38;5;124mDevidas\u001b[39m\u001b[38;5;124m\"\u001b[39m)\n",
      "\u001b[1;31mUnsupportedOperation\u001b[0m: not writable"
     ]
    }
   ],
   "source": [
    "f.write(\"Devidas\")"
   ]
  },
  {
   "cell_type": "code",
   "execution_count": 116,
   "id": "347d9f8a-dd62-49a4-a51e-585179beaa11",
   "metadata": {},
   "outputs": [
    {
     "data": {
      "text/plain": [
       "'Bhimrao Pawar is the best Data Scientist he has practised Hard \\nHe will get huge package job in the Data Science community.\\nBhimrao should be keeping the practice code \\nThen and then he will achieve his dream jobs \\n'"
      ]
     },
     "execution_count": 116,
     "metadata": {},
     "output_type": "execute_result"
    }
   ],
   "source": [
    "f.read()"
   ]
  },
  {
   "cell_type": "code",
   "execution_count": 117,
   "id": "7c05d716-ccb4-4837-8e4c-6862dd615bf4",
   "metadata": {},
   "outputs": [
    {
     "data": {
      "text/plain": [
       "1"
      ]
     },
     "execution_count": 117,
     "metadata": {},
     "output_type": "execute_result"
    }
   ],
   "source": [
    "f.seek(1)"
   ]
  },
  {
   "cell_type": "code",
   "execution_count": 119,
   "id": "5ec8f963-2a2e-400b-849a-8c6bf9a33e8e",
   "metadata": {},
   "outputs": [
    {
     "data": {
      "text/plain": [
       "'Data Scientist he has pra'"
      ]
     },
     "execution_count": 119,
     "metadata": {},
     "output_type": "execute_result"
    }
   ],
   "source": [
    "f.read(25)  # from the coursor to the 25 th charector "
   ]
  },
  {
   "cell_type": "code",
   "execution_count": 121,
   "id": "0f1cc526-eebf-4955-b13a-ab7f8422d8a4",
   "metadata": {},
   "outputs": [],
   "source": [
    "f.close()"
   ]
  },
  {
   "cell_type": "code",
   "execution_count": 123,
   "id": "6260bcf2-f904-44f4-bb86-5572e76ec05a",
   "metadata": {},
   "outputs": [],
   "source": [
    "f =  open(\"test.txt\",'w')"
   ]
  },
  {
   "cell_type": "code",
   "execution_count": 124,
   "id": "96d647e4-36e7-4071-950f-a88ac8b13c92",
   "metadata": {},
   "outputs": [
    {
     "data": {
      "text/plain": [
       "27"
      ]
     },
     "execution_count": 124,
     "metadata": {},
     "output_type": "execute_result"
    }
   ],
   "source": [
    "f.write(\"Again open need to practice\")"
   ]
  },
  {
   "cell_type": "code",
   "execution_count": 125,
   "id": "a92133d4-18d7-4c23-8d43-fa70dd7d3780",
   "metadata": {},
   "outputs": [],
   "source": [
    "f.close()"
   ]
  },
  {
   "cell_type": "code",
   "execution_count": 126,
   "id": "286f6ffd-04ba-42f4-ba75-d0a7f07eeec0",
   "metadata": {},
   "outputs": [],
   "source": [
    "f =  open(\"test.txt\",'a')"
   ]
  },
  {
   "cell_type": "code",
   "execution_count": 127,
   "id": "b14e5969-b28d-403b-b989-85b3d0aa2706",
   "metadata": {},
   "outputs": [
    {
     "data": {
      "text/plain": [
       "7"
      ]
     },
     "execution_count": 127,
     "metadata": {},
     "output_type": "execute_result"
    }
   ],
   "source": [
    "f.write(\"Ohhh!!!\")"
   ]
  },
  {
   "cell_type": "code",
   "execution_count": 128,
   "id": "4053f27a-4f37-4602-8e10-b0c517d9f7b2",
   "metadata": {},
   "outputs": [],
   "source": [
    "f.close()"
   ]
  },
  {
   "cell_type": "code",
   "execution_count": 130,
   "id": "b356e3b5-8c94-413b-8de7-a45005dabe40",
   "metadata": {},
   "outputs": [],
   "source": [
    "f =  open(\"test.txt\")"
   ]
  },
  {
   "cell_type": "code",
   "execution_count": 131,
   "id": "70a8e4d2-1a90-465d-af2d-5790c535235c",
   "metadata": {},
   "outputs": [
    {
     "data": {
      "text/plain": [
       "'Again open need to practiceOhhh!!!'"
      ]
     },
     "execution_count": 131,
     "metadata": {},
     "output_type": "execute_result"
    }
   ],
   "source": [
    "f.read()"
   ]
  },
  {
   "cell_type": "code",
   "execution_count": 132,
   "id": "ef506b55-2647-4d91-91c0-fb92926c82dc",
   "metadata": {},
   "outputs": [],
   "source": [
    "f =  open(\"test.txt\",'w')"
   ]
  },
  {
   "cell_type": "code",
   "execution_count": 133,
   "id": "1efcc531-39fa-4476-88e5-f4bf86f94525",
   "metadata": {},
   "outputs": [
    {
     "data": {
      "text/plain": [
       "33"
      ]
     },
     "execution_count": 133,
     "metadata": {},
     "output_type": "execute_result"
    }
   ],
   "source": [
    "f.write(\"Bhim are practice in data science\")"
   ]
  },
  {
   "cell_type": "code",
   "execution_count": 139,
   "id": "178ee6c0-a8e0-4fef-893a-6f6842464e2c",
   "metadata": {},
   "outputs": [],
   "source": [
    "f =  open(\"test.txt\",'r')"
   ]
  },
  {
   "cell_type": "code",
   "execution_count": 136,
   "id": "f03e3301-3146-4f34-87e6-7d5466125de1",
   "metadata": {},
   "outputs": [
    {
     "data": {
      "text/plain": [
       "'Bhim are practice in data science'"
      ]
     },
     "execution_count": 136,
     "metadata": {},
     "output_type": "execute_result"
    }
   ],
   "source": [
    "f.readline()"
   ]
  },
  {
   "cell_type": "code",
   "execution_count": 140,
   "id": "531d6adf-6a94-4822-a1fe-c371a0f622f4",
   "metadata": {},
   "outputs": [
    {
     "name": "stdout",
     "output_type": "stream",
     "text": [
      "Bhim are practice in data science "
     ]
    }
   ],
   "source": [
    "for i in f :\n",
    "    print( i , end =\" \")"
   ]
  },
  {
   "cell_type": "code",
   "execution_count": 141,
   "id": "a1b35d71-df60-4a29-b0d9-2622cb57ead1",
   "metadata": {},
   "outputs": [],
   "source": [
    "f.close()"
   ]
  },
  {
   "cell_type": "code",
   "execution_count": 145,
   "id": "4d002944-7491-4606-9731-9e62e7539976",
   "metadata": {},
   "outputs": [],
   "source": [
    "f = open(\"test.txt\", \"r\")  # Its will only read mode "
   ]
  },
  {
   "cell_type": "code",
   "execution_count": 146,
   "id": "b40a348f-eb67-4d26-9255-f9b41f3e5a26",
   "metadata": {},
   "outputs": [],
   "source": [
    "f = open(\"test.txt\" , \"r+\")  # this will read and write data mode "
   ]
  },
  {
   "cell_type": "code",
   "execution_count": 147,
   "id": "1970296f-dbd2-4599-b771-5f43f5d3f890",
   "metadata": {},
   "outputs": [
    {
     "data": {
      "text/plain": [
       "25"
      ]
     },
     "execution_count": 147,
     "metadata": {},
     "output_type": "execute_result"
    }
   ],
   "source": [
    "f.write(\"Practice make man perfect\")"
   ]
  },
  {
   "cell_type": "code",
   "execution_count": 148,
   "id": "db20d408-513f-42c5-8d02-9f86835c55e6",
   "metadata": {},
   "outputs": [
    {
     "data": {
      "text/plain": [
       "' science'"
      ]
     },
     "execution_count": 148,
     "metadata": {},
     "output_type": "execute_result"
    }
   ],
   "source": [
    "f.read()"
   ]
  },
  {
   "cell_type": "code",
   "execution_count": 149,
   "id": "038aed94-310e-4ec7-93ba-f238238acd62",
   "metadata": {},
   "outputs": [
    {
     "data": {
      "text/plain": [
       "''"
      ]
     },
     "execution_count": 149,
     "metadata": {},
     "output_type": "execute_result"
    }
   ],
   "source": [
    "f.readline()"
   ]
  },
  {
   "cell_type": "code",
   "execution_count": 150,
   "id": "55784137-336d-4d0e-b0e7-7c424d045192",
   "metadata": {},
   "outputs": [],
   "source": [
    "f.close()"
   ]
  },
  {
   "cell_type": "code",
   "execution_count": 151,
   "id": "4cec5bfb-4fbe-45c6-9982-1caca57b45e4",
   "metadata": {},
   "outputs": [],
   "source": [
    "f = open(\"test.txt\" , \"r+\")"
   ]
  },
  {
   "cell_type": "code",
   "execution_count": 152,
   "id": "fa27dbbe-76cf-423b-98e7-fc9841555f77",
   "metadata": {},
   "outputs": [],
   "source": [
    "f.writelines(\"python is best tool for data science community\")"
   ]
  },
  {
   "cell_type": "code",
   "execution_count": 153,
   "id": "f300e531-14d8-498f-9414-867b3dcdb1f9",
   "metadata": {},
   "outputs": [],
   "source": [
    "f.close()"
   ]
  },
  {
   "cell_type": "code",
   "execution_count": 154,
   "id": "477533b0-c213-487b-a64b-81f76f756f95",
   "metadata": {},
   "outputs": [],
   "source": [
    "f = open(\"test.txt\", \"r\")"
   ]
  },
  {
   "cell_type": "code",
   "execution_count": 155,
   "id": "9f87631f-3981-464c-88a6-32a25b1729c1",
   "metadata": {},
   "outputs": [
    {
     "data": {
      "text/plain": [
       "'python is best tool for data science community'"
      ]
     },
     "execution_count": 155,
     "metadata": {},
     "output_type": "execute_result"
    }
   ],
   "source": [
    "f.read()"
   ]
  },
  {
   "cell_type": "code",
   "execution_count": 157,
   "id": "2f877c86-5361-495c-b9ee-685309d60d57",
   "metadata": {},
   "outputs": [
    {
     "data": {
      "text/plain": [
       "''"
      ]
     },
     "execution_count": 157,
     "metadata": {},
     "output_type": "execute_result"
    }
   ],
   "source": [
    "f.read()"
   ]
  },
  {
   "cell_type": "code",
   "execution_count": 158,
   "id": "c37bb616-ad13-4008-86cd-aa9038786024",
   "metadata": {},
   "outputs": [
    {
     "data": {
      "text/plain": [
       "0"
      ]
     },
     "execution_count": 158,
     "metadata": {},
     "output_type": "execute_result"
    }
   ],
   "source": [
    "f.seek(0)"
   ]
  },
  {
   "cell_type": "code",
   "execution_count": 159,
   "id": "a8559656-9df3-4b43-aae3-73824a7fa92b",
   "metadata": {},
   "outputs": [
    {
     "data": {
      "text/plain": [
       "'python is the best tool for the data science community.\\n'"
      ]
     },
     "execution_count": 159,
     "metadata": {},
     "output_type": "execute_result"
    }
   ],
   "source": [
    "f.read()"
   ]
  },
  {
   "cell_type": "code",
   "execution_count": 160,
   "id": "4413b123-40cd-449e-a26a-7564d6481cff",
   "metadata": {},
   "outputs": [
    {
     "data": {
      "text/plain": [
       "3"
      ]
     },
     "execution_count": 160,
     "metadata": {},
     "output_type": "execute_result"
    }
   ],
   "source": [
    "f.fileno()"
   ]
  },
  {
   "cell_type": "code",
   "execution_count": 161,
   "id": "bce96ab9-1cc7-4b2c-a303-45226591d801",
   "metadata": {},
   "outputs": [
    {
     "name": "stdout",
     "output_type": "stream",
     "text": [
      "Overwriting test.txt\n"
     ]
    }
   ],
   "source": [
    "%%writefile test.txt\n",
    "this is another option to write the command in the file "
   ]
  },
  {
   "cell_type": "code",
   "execution_count": 162,
   "id": "2852fdde-f481-49dc-819a-0aa1eafb6434",
   "metadata": {},
   "outputs": [],
   "source": [
    "f.close()"
   ]
  },
  {
   "cell_type": "code",
   "execution_count": 163,
   "id": "dd455373-bc04-4bad-8edb-0e67ac67caed",
   "metadata": {},
   "outputs": [],
   "source": [
    "import os"
   ]
  },
  {
   "cell_type": "code",
   "execution_count": 165,
   "id": "efd69388-1e5a-403d-a021-c9390100981a",
   "metadata": {},
   "outputs": [
    {
     "data": {
      "text/plain": [
       "'C:\\\\Users\\\\bhimr'"
      ]
     },
     "execution_count": 165,
     "metadata": {},
     "output_type": "execute_result"
    }
   ],
   "source": [
    "pwd() # present working Dictory of this notebook"
   ]
  },
  {
   "cell_type": "code",
   "execution_count": 167,
   "id": "197c1f9b-5cae-44d3-8d01-5a23f631223a",
   "metadata": {},
   "outputs": [
    {
     "data": {
      "text/plain": [
       "'C:\\\\Users\\\\bhimr'"
      ]
     },
     "execution_count": 167,
     "metadata": {},
     "output_type": "execute_result"
    }
   ],
   "source": [
    "os.getcwd() # current working directory "
   ]
  },
  {
   "cell_type": "code",
   "execution_count": 169,
   "id": "865f0b3a-fe1b-455a-9de3-791dc19caf35",
   "metadata": {},
   "outputs": [
    {
     "data": {
      "text/plain": [
       "[' Hands on NLP (Data trends) .ipynb',\n",
       " ' KNeighborsClassifier CODE.ipynb',\n",
       " '.anaconda',\n",
       " '.astropy',\n",
       " '.bash_history',\n",
       " '.cache',\n",
       " '.conda',\n",
       " '.condarc',\n",
       " '.continuum',\n",
       " '.git',\n",
       " '.gitconfig',\n",
       " '.idlerc',\n",
       " '.ipynb_checkpoints',\n",
       " '.ipython',\n",
       " '.jupyter',\n",
       " '.keras',\n",
       " '.lesshst',\n",
       " '.matplotlib',\n",
       " '.spyder-py3',\n",
       " '.viminfo',\n",
       " '.vscode',\n",
       " '100 Day python .ipynb',\n",
       " '3D Objects',\n",
       " 'abalone.csv',\n",
       " 'AgglomerativeClustering Codes .ipynb',\n",
       " 'alexa_review.txt',\n",
       " 'All practise on Iris data set .ipynb',\n",
       " 'All Regression.ipynb',\n",
       " 'Amazon_Alexa_reviews .ipynb',\n",
       " 'anaconda3',\n",
       " 'AppData',\n",
       " 'Application Data',\n",
       " 'archive.zip',\n",
       " 'Assignment on web scraping  .ipynb',\n",
       " 'Assignments-1   Python .ipynb',\n",
       " 'AUC an ROC CURVE  CODE.ipynb',\n",
       " 'avocado.csv',\n",
       " 'Bank Marketing',\n",
       " 'Base ball case study .ipynb',\n",
       " 'Baseball Case Study.ipynb',\n",
       " 'baseball.csv',\n",
       " 'bikes.csv',\n",
       " 'blood_pressure.csv',\n",
       " 'Boston housing.csv',\n",
       " 'boston.csv',\n",
       " 'brainsize1.csv',\n",
       " 'brain_size.csv',\n",
       " 'Break count in python.ipynb',\n",
       " 'Calculation.py',\n",
       " 'Calculation.py.ipynb',\n",
       " 'CLASSIFICATION    Classifiers   iris dataset .ipynb',\n",
       " 'cleaned_data.csv',\n",
       " 'Concrete_Data.csv',\n",
       " 'conda',\n",
       " 'Contacts',\n",
       " 'Cookies',\n",
       " 'Core Python Programs .ipynb',\n",
       " 'correlation matrix .ipynb',\n",
       " 'Data Science Numpy 1.ipynb',\n",
       " 'Data Science PANDAS.ipynb',\n",
       " 'Data Structures in python .ipynb',\n",
       " 'Data_Test.xlsx',\n",
       " 'Data_Train.xlsx',\n",
       " 'DBSCAN clustering code.ipynb',\n",
       " 'Decision Tree with Gini & Entropy CODE.ipynb',\n",
       " 'DecisionTreeClassifier CODE.ipynb',\n",
       " 'DecisionTreeRegressor CODE.ipynb',\n",
       " 'diabetes.csv',\n",
       " 'Documents',\n",
       " 'Downloads',\n",
       " 'Dr. Angela program practice .ipynb',\n",
       " 'DT Classification with Post Pruning pre pruning. (iris dataset) .ipynb',\n",
       " 'DT Regression with Cross validation (boston dataset) .ipynb',\n",
       " 'dtcfile.obj',\n",
       " 'dt_regressor_model.joblib',\n",
       " 'E6 CUTOFF MODEL.csv',\n",
       " 'E6 CUTOFF PREDICTION MODEL .ipynb',\n",
       " 'E6 MDF Predictions Model regressor problems statement  .ipynb',\n",
       " 'E6 MFD Model .csv',\n",
       " 'E6 ZD MODEL .csv',\n",
       " 'EDA --Titanic Train.ipynb',\n",
       " 'ElasticNet CODE.ipynb',\n",
       " 'empl.csv',\n",
       " 'emptest.csv',\n",
       " 'ENCODING TECHNIQUES & HANDLING MISSING OR NULL VALUES .ipynb',\n",
       " 'Favorites',\n",
       " 'file.txt',\n",
       " 'Flaskpractice',\n",
       " 'Functions, user def, Lambda, recursion function .ipynb',\n",
       " 'Gaussian Naive Bayes classifier Algorithms on cancer data set.ipynb',\n",
       " 'git_project1',\n",
       " 'Glass Predictions .ipynb',\n",
       " 'glass.csv',\n",
       " 'Grades.csv',\n",
       " 'GradientBoostingClassifier CODE.ipynb',\n",
       " 'GradientBoostingRegressor CODE.ipynb',\n",
       " 'Hands on feature engineering.ipynb',\n",
       " 'Hands_on_Statistics .ipynb',\n",
       " 'house.csv',\n",
       " 'house_price_data_median.csv',\n",
       " 'hrdata.csv',\n",
       " 'images',\n",
       " 'Ineuron python practice .ipynb',\n",
       " 'input_text.txt',\n",
       " 'install.log',\n",
       " 'insurance.xlsx',\n",
       " 'IntelGraphicsProfiles',\n",
       " 'Internship',\n",
       " 'iris.csv',\n",
       " 'K Neighbors Classifier with Iris Datasets .ipynb',\n",
       " 'Keras-Tuner Hidden Layers And Hidden Neurons.ipynb',\n",
       " 'Kmean Unsuperwised Learning CODE.ipynb',\n",
       " 'KNeighborsRegressor CODE.ipynb',\n",
       " 'KNN Details .ipynb',\n",
       " 'L3 correlation matrix.ipynb',\n",
       " 'L3New clad to core ratio..ipynb',\n",
       " 'L5 Correlation matrix.ipynb',\n",
       " 'L5New.csv',\n",
       " 'LASSO  REGRESSION CODE.ipynb',\n",
       " 'Linear Regression model -2 on Concrete_data.csv.ipynb',\n",
       " 'Linear+Regression-Full+Material.zip',\n",
       " 'LinearRgression CODE .ipynb',\n",
       " 'Links',\n",
       " 'Local Settings',\n",
       " 'Logistic Regression  Lasso Ridge ElasticNet SVM kernel Regressor cross validation, KFold.ipynb',\n",
       " 'LogisticRegression  CODE.ipynb',\n",
       " 'Love calculator.ipynb',\n",
       " 'LR boston data set .ipynb',\n",
       " 'LSA.ipynb',\n",
       " 'MACHINE LEARNING LIBRARIES .ipynb',\n",
       " 'Medical_cost.ipynb',\n",
       " 'medical_cost_insurance.csv',\n",
       " 'Microsoft',\n",
       " 'ML  DATA SETS .ipynb',\n",
       " 'ML first model .ipynb',\n",
       " 'ML on iris data set.ipynb',\n",
       " 'Mnist.ipynb',\n",
       " 'mnist_model.h5',\n",
       " 'mobiledata.csv',\n",
       " 'Multicollinearity with Variance Inflation Factor.ipynb',\n",
       " 'Music',\n",
       " 'My Documents',\n",
       " 'myenv',\n",
       " 'myhrmodified24sep.csv',\n",
       " 'my_project1',\n",
       " 'naive_bayes  GaussianNB CODE.ipynb',\n",
       " 'NetHood',\n",
       " 'Neural Network MLPRegressor  CODE.ipynb',\n",
       " 'new_text.txt',\n",
       " 'Now',\n",
       " 'NTUSER.DAT',\n",
       " 'ntuser.dat.LOG1',\n",
       " 'ntuser.dat.LOG2',\n",
       " 'NTUSER.DAT{b80f1db4-06ea-11ee-9786-d3e1e45cac8c}.TM.blf',\n",
       " 'NTUSER.DAT{b80f1db4-06ea-11ee-9786-d3e1e45cac8c}.TMContainer00000000000000000001.regtrans-ms',\n",
       " 'NTUSER.DAT{b80f1db4-06ea-11ee-9786-d3e1e45cac8c}.TMContainer00000000000000000002.regtrans-ms',\n",
       " 'ntuser.ini',\n",
       " 'Numpy.ipynb',\n",
       " 'Ok Snake Game 1 .ipynb',\n",
       " 'old_text.txt',\n",
       " 'OneDrive',\n",
       " 'Only Game & All Programs',\n",
       " 'output_text.txt',\n",
       " 'Pandas Library.ipynb',\n",
       " 'Pipeline CODE .ipynb',\n",
       " 'placement.csv',\n",
       " 'Postman',\n",
       " 'Predicting Whether the Customer Will Subscribe to Term Deposit (FIXED DEPOSIT) or not.ipynb',\n",
       " 'president_heights.csv',\n",
       " 'PrintHood',\n",
       " 'project',\n",
       " 'Pumpkin_Seeds_Dataset (1).csv',\n",
       " 'Python built in function. .ipynb',\n",
       " 'PYTHON – WORKSHEET 1.ipynb',\n",
       " 'RandomForestClassifier  CODE.ipynb',\n",
       " 'RandomForestClassifier_WineQuality.pkl',\n",
       " 'RandomForestRegressor CODE.ipynb',\n",
       " 'randomization .ipynb',\n",
       " 'Real_Combine.csv',\n",
       " 'Recent',\n",
       " 'Regular Expressions Assignment 1 .ipynb',\n",
       " 'Regularization Lasso and Ridge Regression .ipynb',\n",
       " 'Remove Correlated Features Mobile dataset! .ipynb',\n",
       " 'Restaurant Food Cost.ipynb',\n",
       " 'rf_individualtree.png',\n",
       " 'rf_model2_individualtree.png',\n",
       " 'rf_model3_individualtree.png',\n",
       " 'Ridge Regression  CODE.ipynb',\n",
       " 'role_website.csv',\n",
       " 'Rondom Number Guess game .ipynb',\n",
       " 'sample .csv',\n",
       " 'sample_text.docx',\n",
       " 'sample_text.txt',\n",
       " 'Sample_text1.txt',\n",
       " 'Saved Games',\n",
       " 'School Python notes ....ipynb',\n",
       " 'scikit_learn_data',\n",
       " 'SciPy Library & Hypothesis & EDA -- DATA SCIENCE .ipynb',\n",
       " 'Searches',\n",
       " 'SendTo',\n",
       " 'Sentiment_Analysis_using_LSTM.ipynb',\n",
       " 'seq2seq.h5',\n",
       " 'SGD CLASSIFIER CODE.ipynb',\n",
       " 'SGDClassifier CODE.ipynb',\n",
       " 'Snake Game 1 .ipynb',\n",
       " 'Social_Network_Ads.csv',\n",
       " 'Star pattern in python .ipynb',\n",
       " 'Start Menu',\n",
       " 'Stemming and Lemmatization in NLP .ipynb',\n",
       " 'Stop Words.ipynb',\n",
       " 'string function school notes .ipynb',\n",
       " 'Student Grade Predictions .ipynb',\n",
       " 'student.csv',\n",
       " 'student_marks.csv',\n",
       " 'Suport Vector Regression CODE.ipynb',\n",
       " 'support regressor code for any file .ipynb',\n",
       " 'SVM regressor code Not working. .ipynb',\n",
       " 'sweetviz_report.html',\n",
       " 'sweetviz_report.htmp',\n",
       " 'TAJ Game .ipynb',\n",
       " 'Templates',\n",
       " 'termdeposit_test.csv',\n",
       " 'termdeposit_train.csv',\n",
       " 'terrorist attacks data set linear Regression. .ipynb',\n",
       " 'terrorist-attacks.csv',\n",
       " 'test.txt',\n",
       " 'titanic_train.csv',\n",
       " 'Titanic_train_model.ipynb',\n",
       " 'Tokenization in NLP .ipynb',\n",
       " 'train,test and validation split .ipynb',\n",
       " 'Treasure Island Game.ipynb',\n",
       " 'Untitled.ipynb',\n",
       " 'untitled.txt',\n",
       " 'Untitled1.ipynb',\n",
       " 'Untitled10.ipynb',\n",
       " 'Untitled11.ipynb',\n",
       " 'Untitled12.ipynb',\n",
       " 'Untitled13.ipynb',\n",
       " 'Untitled14.ipynb',\n",
       " 'User define function def .ipynb',\n",
       " 'Videos',\n",
       " 'VIF Abalone data sets .ipynb',\n",
       " 'Web Scraping - Beautiful Soup  .ipynb',\n",
       " 'winequality-red.csv',\n",
       " 'WineQuality.ipynb',\n",
       " 'World_happiness_predictions.csv',\n",
       " 'World_happyness_Prediction',\n",
       " 'World_happyness_Prediction.ipynb',\n",
       " '__pycache__']"
      ]
     },
     "execution_count": 169,
     "metadata": {},
     "output_type": "execute_result"
    }
   ],
   "source": [
    "os.listdir()"
   ]
  },
  {
   "cell_type": "code",
   "execution_count": 175,
   "id": "fb42725e-daf9-4616-8b4d-c1d20c524170",
   "metadata": {},
   "outputs": [],
   "source": [
    "os.chdir('C:\\\\Users\\\\bhimr')"
   ]
  },
  {
   "cell_type": "code",
   "execution_count": 176,
   "id": "b896de3e-62a7-41e5-8e2b-205c8e89c89f",
   "metadata": {},
   "outputs": [
    {
     "data": {
      "text/plain": [
       "'C:\\\\Users\\\\bhimr'"
      ]
     },
     "execution_count": 176,
     "metadata": {},
     "output_type": "execute_result"
    }
   ],
   "source": [
    "pwd()"
   ]
  },
  {
   "cell_type": "code",
   "execution_count": 177,
   "id": "04350d0d-b8ec-4604-9438-dc0155389416",
   "metadata": {},
   "outputs": [],
   "source": [
    "os.mkdir(\"Bhimrao\")"
   ]
  },
  {
   "cell_type": "code",
   "execution_count": 178,
   "id": "784867dc-0f02-45b1-9366-bd9a83955b00",
   "metadata": {},
   "outputs": [
    {
     "data": {
      "text/plain": [
       "'C:\\\\Users\\\\bhimr'"
      ]
     },
     "execution_count": 178,
     "metadata": {},
     "output_type": "execute_result"
    }
   ],
   "source": [
    "pwd()"
   ]
  },
  {
   "cell_type": "code",
   "execution_count": 179,
   "id": "31cc6ded-3a08-4dd4-a6c3-3f097571fcc2",
   "metadata": {},
   "outputs": [
    {
     "data": {
      "text/plain": [
       "[' Hands on NLP (Data trends) .ipynb',\n",
       " ' KNeighborsClassifier CODE.ipynb',\n",
       " '.anaconda',\n",
       " '.astropy',\n",
       " '.bash_history',\n",
       " '.cache',\n",
       " '.conda',\n",
       " '.condarc',\n",
       " '.continuum',\n",
       " '.git',\n",
       " '.gitconfig',\n",
       " '.idlerc',\n",
       " '.ipynb_checkpoints',\n",
       " '.ipython',\n",
       " '.jupyter',\n",
       " '.keras',\n",
       " '.lesshst',\n",
       " '.matplotlib',\n",
       " '.spyder-py3',\n",
       " '.viminfo',\n",
       " '.vscode',\n",
       " '100 Day python .ipynb',\n",
       " '3D Objects',\n",
       " 'abalone.csv',\n",
       " 'AgglomerativeClustering Codes .ipynb',\n",
       " 'alexa_review.txt',\n",
       " 'All practise on Iris data set .ipynb',\n",
       " 'All Regression.ipynb',\n",
       " 'Amazon_Alexa_reviews .ipynb',\n",
       " 'anaconda3',\n",
       " 'AppData',\n",
       " 'Application Data',\n",
       " 'archive.zip',\n",
       " 'Assignment on web scraping  .ipynb',\n",
       " 'Assignments-1   Python .ipynb',\n",
       " 'AUC an ROC CURVE  CODE.ipynb',\n",
       " 'avocado.csv',\n",
       " 'Bank Marketing',\n",
       " 'Base ball case study .ipynb',\n",
       " 'Baseball Case Study.ipynb',\n",
       " 'baseball.csv',\n",
       " 'Bhimrao',\n",
       " 'bikes.csv',\n",
       " 'blood_pressure.csv',\n",
       " 'Boston housing.csv',\n",
       " 'boston.csv',\n",
       " 'brainsize1.csv',\n",
       " 'brain_size.csv',\n",
       " 'Break count in python.ipynb',\n",
       " 'Calculation.py',\n",
       " 'Calculation.py.ipynb',\n",
       " 'CLASSIFICATION    Classifiers   iris dataset .ipynb',\n",
       " 'cleaned_data.csv',\n",
       " 'Concrete_Data.csv',\n",
       " 'conda',\n",
       " 'Contacts',\n",
       " 'Cookies',\n",
       " 'Core Python Programs .ipynb',\n",
       " 'correlation matrix .ipynb',\n",
       " 'Data Science Numpy 1.ipynb',\n",
       " 'Data Science PANDAS.ipynb',\n",
       " 'Data Structures in python .ipynb',\n",
       " 'Data_Test.xlsx',\n",
       " 'Data_Train.xlsx',\n",
       " 'DBSCAN clustering code.ipynb',\n",
       " 'Decision Tree with Gini & Entropy CODE.ipynb',\n",
       " 'DecisionTreeClassifier CODE.ipynb',\n",
       " 'DecisionTreeRegressor CODE.ipynb',\n",
       " 'diabetes.csv',\n",
       " 'Documents',\n",
       " 'Downloads',\n",
       " 'Dr. Angela program practice .ipynb',\n",
       " 'DT Classification with Post Pruning pre pruning. (iris dataset) .ipynb',\n",
       " 'DT Regression with Cross validation (boston dataset) .ipynb',\n",
       " 'dtcfile.obj',\n",
       " 'dt_regressor_model.joblib',\n",
       " 'E6 CUTOFF MODEL.csv',\n",
       " 'E6 CUTOFF PREDICTION MODEL .ipynb',\n",
       " 'E6 MDF Predictions Model regressor problems statement  .ipynb',\n",
       " 'E6 MFD Model .csv',\n",
       " 'E6 ZD MODEL .csv',\n",
       " 'EDA --Titanic Train.ipynb',\n",
       " 'ElasticNet CODE.ipynb',\n",
       " 'empl.csv',\n",
       " 'emptest.csv',\n",
       " 'ENCODING TECHNIQUES & HANDLING MISSING OR NULL VALUES .ipynb',\n",
       " 'Favorites',\n",
       " 'file.txt',\n",
       " 'Flaskpractice',\n",
       " 'Functions, user def, Lambda, recursion function .ipynb',\n",
       " 'Gaussian Naive Bayes classifier Algorithms on cancer data set.ipynb',\n",
       " 'git_project1',\n",
       " 'Glass Predictions .ipynb',\n",
       " 'glass.csv',\n",
       " 'Grades.csv',\n",
       " 'GradientBoostingClassifier CODE.ipynb',\n",
       " 'GradientBoostingRegressor CODE.ipynb',\n",
       " 'Hands on feature engineering.ipynb',\n",
       " 'Hands_on_Statistics .ipynb',\n",
       " 'house.csv',\n",
       " 'house_price_data_median.csv',\n",
       " 'hrdata.csv',\n",
       " 'images',\n",
       " 'Ineuron python practice .ipynb',\n",
       " 'input_text.txt',\n",
       " 'install.log',\n",
       " 'insurance.xlsx',\n",
       " 'IntelGraphicsProfiles',\n",
       " 'Internship',\n",
       " 'iris.csv',\n",
       " 'K Neighbors Classifier with Iris Datasets .ipynb',\n",
       " 'Keras-Tuner Hidden Layers And Hidden Neurons.ipynb',\n",
       " 'Kmean Unsuperwised Learning CODE.ipynb',\n",
       " 'KNeighborsRegressor CODE.ipynb',\n",
       " 'KNN Details .ipynb',\n",
       " 'L3 correlation matrix.ipynb',\n",
       " 'L3New clad to core ratio..ipynb',\n",
       " 'L5 Correlation matrix.ipynb',\n",
       " 'L5New.csv',\n",
       " 'LASSO  REGRESSION CODE.ipynb',\n",
       " 'Linear Regression model -2 on Concrete_data.csv.ipynb',\n",
       " 'Linear+Regression-Full+Material.zip',\n",
       " 'LinearRgression CODE .ipynb',\n",
       " 'Links',\n",
       " 'Local Settings',\n",
       " 'Logistic Regression  Lasso Ridge ElasticNet SVM kernel Regressor cross validation, KFold.ipynb',\n",
       " 'LogisticRegression  CODE.ipynb',\n",
       " 'Love calculator.ipynb',\n",
       " 'LR boston data set .ipynb',\n",
       " 'LSA.ipynb',\n",
       " 'MACHINE LEARNING LIBRARIES .ipynb',\n",
       " 'Medical_cost.ipynb',\n",
       " 'medical_cost_insurance.csv',\n",
       " 'Microsoft',\n",
       " 'ML  DATA SETS .ipynb',\n",
       " 'ML first model .ipynb',\n",
       " 'ML on iris data set.ipynb',\n",
       " 'Mnist.ipynb',\n",
       " 'mnist_model.h5',\n",
       " 'mobiledata.csv',\n",
       " 'Multicollinearity with Variance Inflation Factor.ipynb',\n",
       " 'Music',\n",
       " 'My Documents',\n",
       " 'myenv',\n",
       " 'myhrmodified24sep.csv',\n",
       " 'my_project1',\n",
       " 'naive_bayes  GaussianNB CODE.ipynb',\n",
       " 'NetHood',\n",
       " 'Neural Network MLPRegressor  CODE.ipynb',\n",
       " 'new_text.txt',\n",
       " 'Now',\n",
       " 'NTUSER.DAT',\n",
       " 'ntuser.dat.LOG1',\n",
       " 'ntuser.dat.LOG2',\n",
       " 'NTUSER.DAT{b80f1db4-06ea-11ee-9786-d3e1e45cac8c}.TM.blf',\n",
       " 'NTUSER.DAT{b80f1db4-06ea-11ee-9786-d3e1e45cac8c}.TMContainer00000000000000000001.regtrans-ms',\n",
       " 'NTUSER.DAT{b80f1db4-06ea-11ee-9786-d3e1e45cac8c}.TMContainer00000000000000000002.regtrans-ms',\n",
       " 'ntuser.ini',\n",
       " 'Numpy.ipynb',\n",
       " 'Ok Snake Game 1 .ipynb',\n",
       " 'old_text.txt',\n",
       " 'OneDrive',\n",
       " 'Only Game & All Programs',\n",
       " 'output_text.txt',\n",
       " 'Pandas Library.ipynb',\n",
       " 'Pipeline CODE .ipynb',\n",
       " 'placement.csv',\n",
       " 'Postman',\n",
       " 'Predicting Whether the Customer Will Subscribe to Term Deposit (FIXED DEPOSIT) or not.ipynb',\n",
       " 'president_heights.csv',\n",
       " 'PrintHood',\n",
       " 'project',\n",
       " 'Pumpkin_Seeds_Dataset (1).csv',\n",
       " 'Python built in function. .ipynb',\n",
       " 'PYTHON – WORKSHEET 1.ipynb',\n",
       " 'RandomForestClassifier  CODE.ipynb',\n",
       " 'RandomForestClassifier_WineQuality.pkl',\n",
       " 'RandomForestRegressor CODE.ipynb',\n",
       " 'randomization .ipynb',\n",
       " 'Real_Combine.csv',\n",
       " 'Recent',\n",
       " 'Regular Expressions Assignment 1 .ipynb',\n",
       " 'Regularization Lasso and Ridge Regression .ipynb',\n",
       " 'Remove Correlated Features Mobile dataset! .ipynb',\n",
       " 'Restaurant Food Cost.ipynb',\n",
       " 'rf_individualtree.png',\n",
       " 'rf_model2_individualtree.png',\n",
       " 'rf_model3_individualtree.png',\n",
       " 'Ridge Regression  CODE.ipynb',\n",
       " 'role_website.csv',\n",
       " 'Rondom Number Guess game .ipynb',\n",
       " 'sample .csv',\n",
       " 'sample_text.docx',\n",
       " 'sample_text.txt',\n",
       " 'Sample_text1.txt',\n",
       " 'Saved Games',\n",
       " 'School Python notes ....ipynb',\n",
       " 'scikit_learn_data',\n",
       " 'SciPy Library & Hypothesis & EDA -- DATA SCIENCE .ipynb',\n",
       " 'Searches',\n",
       " 'SendTo',\n",
       " 'Sentiment_Analysis_using_LSTM.ipynb',\n",
       " 'seq2seq.h5',\n",
       " 'SGD CLASSIFIER CODE.ipynb',\n",
       " 'SGDClassifier CODE.ipynb',\n",
       " 'Snake Game 1 .ipynb',\n",
       " 'Social_Network_Ads.csv',\n",
       " 'Star pattern in python .ipynb',\n",
       " 'Start Menu',\n",
       " 'Stemming and Lemmatization in NLP .ipynb',\n",
       " 'Stop Words.ipynb',\n",
       " 'string function school notes .ipynb',\n",
       " 'Student Grade Predictions .ipynb',\n",
       " 'student.csv',\n",
       " 'student_marks.csv',\n",
       " 'Suport Vector Regression CODE.ipynb',\n",
       " 'support regressor code for any file .ipynb',\n",
       " 'SVM regressor code Not working. .ipynb',\n",
       " 'sweetviz_report.html',\n",
       " 'sweetviz_report.htmp',\n",
       " 'TAJ Game .ipynb',\n",
       " 'Templates',\n",
       " 'termdeposit_test.csv',\n",
       " 'termdeposit_train.csv',\n",
       " 'terrorist attacks data set linear Regression. .ipynb',\n",
       " 'terrorist-attacks.csv',\n",
       " 'test.txt',\n",
       " 'titanic_train.csv',\n",
       " 'Titanic_train_model.ipynb',\n",
       " 'Tokenization in NLP .ipynb',\n",
       " 'train,test and validation split .ipynb',\n",
       " 'Treasure Island Game.ipynb',\n",
       " 'Untitled.ipynb',\n",
       " 'untitled.txt',\n",
       " 'Untitled1.ipynb',\n",
       " 'Untitled10.ipynb',\n",
       " 'Untitled11.ipynb',\n",
       " 'Untitled12.ipynb',\n",
       " 'Untitled13.ipynb',\n",
       " 'Untitled14.ipynb',\n",
       " 'User define function def .ipynb',\n",
       " 'Videos',\n",
       " 'VIF Abalone data sets .ipynb',\n",
       " 'Web Scraping - Beautiful Soup  .ipynb',\n",
       " 'winequality-red.csv',\n",
       " 'WineQuality.ipynb',\n",
       " 'World_happiness_predictions.csv',\n",
       " 'World_happyness_Prediction',\n",
       " 'World_happyness_Prediction.ipynb',\n",
       " '__pycache__']"
      ]
     },
     "execution_count": 179,
     "metadata": {},
     "output_type": "execute_result"
    }
   ],
   "source": [
    "os.listdir()"
   ]
  },
  {
   "cell_type": "code",
   "execution_count": 180,
   "id": "4b064b49-9440-4f66-8435-8993aef4ef1b",
   "metadata": {},
   "outputs": [
    {
     "name": "stdout",
     "output_type": "stream",
     "text": [
      "Yes availeble\n"
     ]
    }
   ],
   "source": [
    "if \"test.txt\" in os.listdir():\n",
    "    print(\"Yes availeble\")\n",
    "else:\n",
    "    print(\"No this file is not availeble\")"
   ]
  },
  {
   "cell_type": "code",
   "execution_count": 185,
   "id": "57724668-a14f-4ff2-82b5-a050bcbff268",
   "metadata": {},
   "outputs": [],
   "source": [
    "if not os.path.isdir(\"test1.txt\"):\n",
    "    os.mkdir(\"test1.txt\")"
   ]
  },
  {
   "cell_type": "code",
   "execution_count": 191,
   "id": "ad97fed8-ecd4-4aa0-b863-518713a6c648",
   "metadata": {},
   "outputs": [],
   "source": [
    "f = open(\"test.txt\", \"r+\")\n"
   ]
  },
  {
   "cell_type": "code",
   "execution_count": 192,
   "id": "cc2e2c79-8a75-46e9-810a-14dc30f0753e",
   "metadata": {},
   "outputs": [],
   "source": [
    "f.close()"
   ]
  },
  {
   "cell_type": "code",
   "execution_count": 197,
   "id": "4d382cd1-ecc9-46a7-a953-1f3e162e63da",
   "metadata": {},
   "outputs": [
    {
     "name": "stdout",
     "output_type": "stream",
     "text": [
      "My name is bhimrao\n",
      "My name is bhimrao\n",
      "My name is bhimrao\n",
      "My name is bhimrao\n",
      "My name is bhimrao\n",
      "My name is bhimrao\n",
      "My name is bhimrao\n",
      "My name is bhimrao\n",
      "My name is bhimrao\n",
      "My name is bhimrao\n",
      "['My name is bhimrao', 'My name is bhimrao', 'My name is bhimrao', 'My name is bhimrao', 'My name is bhimrao', 'My name is bhimrao', 'My name is bhimrao', 'My name is bhimrao', 'My name is bhimrao', 'My name is bhimrao']\n"
     ]
    }
   ],
   "source": [
    "import os\n",
    "\n",
    "# Step 1: Create a new directory\n",
    "new_directory = \"bhimraop\"\n",
    "if not os.path.exists(new_directory):\n",
    "    os.mkdir(new_directory)\n",
    "\n",
    "# Step 2: Change the current working directory to the new directory\n",
    "os.chdir(new_directory)\n",
    "\n",
    "# Step 3: Create 10 text files and write \"My name is bhimrao\" to each file\n",
    "for i in range(10):\n",
    "    file_name = f\"test{i}.txt\"\n",
    "    with open(file_name, 'w') as f:\n",
    "        f.write(\"My name is bhimrao\")\n",
    "\n",
    "# Step 4: Read and print the contents of each file\n",
    "for i in range(10):\n",
    "    file_name = f\"test{i}.txt\"\n",
    "    with open(file_name, 'r') as f:\n",
    "        data = f.read()\n",
    "        print(data)\n",
    "\n",
    "# Step 5: Store the contents of each file into a list\n",
    "content_list = []\n",
    "for i in range(10):\n",
    "    file_name = f\"test{i}.txt\"\n",
    "    with open(file_name, 'r') as f:\n",
    "        content_list.append(f.read())\n",
    "\n",
    "print(content_list)\n",
    "\n",
    "# Step 6: Write the contents from the list into a new file named 'new_file.txt'\n",
    "with open('new_file.txt', 'w') as f:\n",
    "    for content in content_list:\n",
    "        f.write(content)\n"
   ]
  },
  {
   "cell_type": "code",
   "execution_count": 203,
   "id": "0f0963c5-970a-4898-be34-3f7c5d857c8e",
   "metadata": {},
   "outputs": [
    {
     "name": "stdout",
     "output_type": "stream",
     "text": [
      "My name is bhimrao\n",
      "\n",
      "My name is bhimrao\n",
      "\n",
      "My name is bhimrao\n",
      "\n",
      "My name is bhimrao\n",
      "\n",
      "My name is bhimrao\n",
      "\n",
      "My name is bhimrao\n",
      "\n",
      "My name is bhimrao\n",
      "\n",
      "My name is bhimrao\n",
      "\n",
      "My name is bhimrao\n",
      "\n",
      "My name is bhimrao\n",
      "\n",
      "['My name is bhimrao\\n', 'My name is bhimrao\\n', 'My name is bhimrao\\n', 'My name is bhimrao\\n', 'My name is bhimrao\\n', 'My name is bhimrao\\n', 'My name is bhimrao\\n', 'My name is bhimrao\\n', 'My name is bhimrao\\n', 'My name is bhimrao\\n']\n"
     ]
    }
   ],
   "source": [
    "import os\n",
    "\n",
    "os.mkdir(\"bhimraoH\")\n",
    "os.chdir(os.path.join(os.getcwd(), \"bhimraoH\"))\n",
    "\n",
    "# Create and write to files\n",
    "for i in range(10):\n",
    "    file = \"test\" + str(i) + \".txt\"\n",
    "    f = open(file, 'w')\n",
    "    f.write(\"My name is bhimrao\\n\")  # Added newline character\n",
    "    f.close()\n",
    "\n",
    "# Read and print content of each file\n",
    "for i in range(10):\n",
    "    file = \"test\" + str(i) + \".txt\"\n",
    "    f = open(file, 'r')\n",
    "    data = f.read()\n",
    "    f.close()\n",
    "    print(data)\n",
    "\n",
    "# Store content of each file in a list\n",
    "l = []\n",
    "for i in range(10):\n",
    "    file = \"test\" + str(i) + \".txt\"\n",
    "    f = open(file, 'r')\n",
    "    l.append(f.read())\n",
    "    f.close()\n",
    "\n",
    "print(l)\n",
    "\n",
    "# Write contents of all files into a new file\n",
    "f = open('new_file.txt', 'w')\n",
    "for i in l:\n",
    "    f.write(i)\n",
    "    f.write(\"\\n\")  # Added newline character\n",
    "f.close()\n"
   ]
  },
  {
   "cell_type": "markdown",
   "id": "f17f5342-5ff1-4cf5-bd16-060ae322e082",
   "metadata": {},
   "source": [
    "# Logging "
   ]
  },
  {
   "cell_type": "code",
   "execution_count": 1,
   "id": "3802b27e-5ea8-4424-a645-22c24e7e4aa8",
   "metadata": {},
   "outputs": [],
   "source": [
    "import logging as lg  # import logging "
   ]
  },
  {
   "cell_type": "code",
   "execution_count": 2,
   "id": "03e016c9-4c12-41fb-8c10-1070cb36699c",
   "metadata": {},
   "outputs": [],
   "source": [
    "import os  # import os "
   ]
  },
  {
   "cell_type": "code",
   "execution_count": 3,
   "id": "b750e283-c3a3-41d1-8377-5bf513597f95",
   "metadata": {},
   "outputs": [
    {
     "ename": "FileExistsError",
     "evalue": "[WinError 183] Cannot create a file when that file already exists: 'logging'",
     "output_type": "error",
     "traceback": [
      "\u001b[1;31m---------------------------------------------------------------------------\u001b[0m",
      "\u001b[1;31mFileExistsError\u001b[0m                           Traceback (most recent call last)",
      "Cell \u001b[1;32mIn[3], line 1\u001b[0m\n\u001b[1;32m----> 1\u001b[0m os\u001b[38;5;241m.\u001b[39mmkdir(\u001b[38;5;124m\"\u001b[39m\u001b[38;5;124mlogging\u001b[39m\u001b[38;5;124m\"\u001b[39m)\n",
      "\u001b[1;31mFileExistsError\u001b[0m: [WinError 183] Cannot create a file when that file already exists: 'logging'"
     ]
    }
   ],
   "source": [
    "os.mkdir(\"logging\")  # make directory "
   ]
  },
  {
   "cell_type": "code",
   "execution_count": 4,
   "id": "c6bb91bb-087b-45fb-ab64-7e103685e8f1",
   "metadata": {},
   "outputs": [],
   "source": [
    "os.chdir(os.getcwd() + \"/\" + \"logging\")  # checking current dir "
   ]
  },
  {
   "cell_type": "code",
   "execution_count": 5,
   "id": "97cdd90e-b3fa-481b-853d-39c13fc3d72e",
   "metadata": {},
   "outputs": [],
   "source": [
    "lg.basicConfig(filename = 'test.log', level = lg.INFO)  "
   ]
  },
  {
   "cell_type": "code",
   "execution_count": 6,
   "id": "575e601b-7556-44d2-9c39-cd8c64288bca",
   "metadata": {},
   "outputs": [],
   "source": [
    "lg.info(\" This is  going to start my work\")"
   ]
  },
  {
   "cell_type": "code",
   "execution_count": 7,
   "id": "25d649ad-c8af-4ae5-a8d0-a8c6bdecf0a6",
   "metadata": {},
   "outputs": [],
   "source": [
    "lg.warning(\"This is a first warning of a program to modify it \")"
   ]
  },
  {
   "cell_type": "code",
   "execution_count": 8,
   "id": "b529a3dd-2f22-444a-b125-b7b965e7da03",
   "metadata": {},
   "outputs": [],
   "source": [
    "lg.error(\"This is error we can receive\")"
   ]
  },
  {
   "cell_type": "code",
   "execution_count": 9,
   "id": "e6c16def-d07c-4865-8820-6dda8a35517c",
   "metadata": {},
   "outputs": [],
   "source": [
    "lg.basicConfig(\n",
    "    filename='test.log',\n",
    "    level=lg.INFO,\n",
    "    format='%(asctime)s - %(message)s'\n",
    ")"
   ]
  },
  {
   "cell_type": "code",
   "execution_count": 10,
   "id": "577767ad-d5fc-4aa2-8cf0-fce0be25c66e",
   "metadata": {},
   "outputs": [],
   "source": [
    "lg.error(\"This is error we can receive\")"
   ]
  },
  {
   "cell_type": "code",
   "execution_count": 11,
   "id": "3c812e65-2a0a-4e4b-a02e-00dca2b4a8d1",
   "metadata": {},
   "outputs": [],
   "source": [
    "lg.warning(\"This is a first warning of a program to modify it \")"
   ]
  },
  {
   "cell_type": "code",
   "execution_count": 15,
   "id": "72896c2a-006b-4127-be76-46de4f88d37e",
   "metadata": {},
   "outputs": [],
   "source": [
    "def test(a,b):\n",
    "    try:\n",
    "        div = a/b\n",
    "        return div \n",
    "    except Exception as e :\n",
    "        print(\"Check your loggin file \")\n",
    "        lg.error(\"error has occured\")\n",
    "        lg.exception(str(e))"
   ]
  },
  {
   "cell_type": "code",
   "execution_count": 17,
   "id": "d00a7e96-1abf-46fc-8e32-4dec161cb21b",
   "metadata": {},
   "outputs": [
    {
     "name": "stdout",
     "output_type": "stream",
     "text": [
      "Check your loggin file \n"
     ]
    }
   ],
   "source": [
    "test(4,0) "
   ]
  },
  {
   "cell_type": "code",
   "execution_count": 18,
   "id": "77396bb7-5745-40ff-8725-e39651512692",
   "metadata": {},
   "outputs": [
    {
     "data": {
      "text/plain": [
       "2.0"
      ]
     },
     "execution_count": 18,
     "metadata": {},
     "output_type": "execute_result"
    }
   ],
   "source": [
    "test(4,2)"
   ]
  },
  {
   "cell_type": "code",
   "execution_count": 19,
   "id": "3e0b2059-0400-479c-8067-6f15ec1e24c3",
   "metadata": {},
   "outputs": [],
   "source": [
    "lg.shutdown()"
   ]
  },
  {
   "cell_type": "code",
   "execution_count": 20,
   "id": "e6ff849d-5358-4b8d-947a-1d005ee17575",
   "metadata": {},
   "outputs": [],
   "source": [
    "import logging as lg"
   ]
  },
  {
   "cell_type": "code",
   "execution_count": 21,
   "id": "95cd99ef-af92-4fc3-ad3c-46fb6a0d1fe7",
   "metadata": {},
   "outputs": [],
   "source": [
    "lg.basicConfig(filename = 'test.log1', level = lg.INFO)"
   ]
  },
  {
   "cell_type": "code",
   "execution_count": 22,
   "id": "ed0476fa-d975-498d-b0ec-ba0e6fd01d35",
   "metadata": {},
   "outputs": [],
   "source": [
    "lg.debug(\"this is debugging\")"
   ]
  },
  {
   "cell_type": "code",
   "execution_count": 23,
   "id": "208d54e8-99eb-48c8-820b-c30d006b736c",
   "metadata": {},
   "outputs": [],
   "source": [
    "lg.info(\"this is info log\")"
   ]
  },
  {
   "cell_type": "code",
   "execution_count": 24,
   "id": "65654e36-1951-465d-a2ce-9ddef51d00dd",
   "metadata": {},
   "outputs": [],
   "source": [
    "lg.warning(\"this is my warning error log\")"
   ]
  },
  {
   "cell_type": "code",
   "execution_count": 25,
   "id": "2bff642c-5567-4650-8576-b590311ef15e",
   "metadata": {},
   "outputs": [],
   "source": [
    "lg.error(\"this is log error\")"
   ]
  },
  {
   "cell_type": "code",
   "execution_count": 26,
   "id": "ad6483ec-bc69-43b0-8845-7464ec514d01",
   "metadata": {},
   "outputs": [],
   "source": [
    "lg.exception(\"this is my exception log\")"
   ]
  },
  {
   "cell_type": "code",
   "execution_count": 27,
   "id": "83b5b946-ce32-49a8-8bf6-0d3dba67c241",
   "metadata": {},
   "outputs": [],
   "source": [
    "lg.critical(\"this is critical log\")"
   ]
  },
  {
   "cell_type": "code",
   "execution_count": 1,
   "id": "fb9ebdcb-7c07-4a41-a844-b9845017338b",
   "metadata": {},
   "outputs": [
    {
     "name": "stdout",
     "output_type": "stream",
     "text": [
      "The result of the addition is: 15\n",
      "2024-05-21 19:38:44,934 - This is my addition function\n",
      "2024-05-21 19:38:44,934 - 1\n",
      "2024-05-21 19:38:44,935 - 2\n",
      "2024-05-21 19:38:44,935 - 3\n",
      "2024-05-21 19:38:44,935 - 4\n",
      "2024-05-21 19:38:44,935 - 5\n",
      "\n"
     ]
    }
   ],
   "source": [
    "import logging as lg\n",
    "\n",
    "# Configure logging\n",
    "lg.basicConfig(filename='test2.log', level=lg.INFO, format='%(asctime)s - %(message)s')\n",
    "\n",
    "def addition(*args):\n",
    "    lg.info(\"This is my addition function\")\n",
    "    sum1 = 0\n",
    "    for i in args:\n",
    "        lg.info(str(i))\n",
    "        sum1 = sum1 + i\n",
    "    return sum1\n",
    "\n",
    "# Call the addition function\n",
    "result = addition(1, 2, 3, 4, 5)\n",
    "print(f\"The result of the addition is: {result}\")\n",
    "\n",
    "# Ensure all logging messages are written to the file\n",
    "lg.shutdown()\n",
    "\n",
    "# Read and print the log file content\n",
    "with open(\"test2.log\", \"r\") as f:\n",
    "    print(f.read())\n"
   ]
  },
  {
   "cell_type": "code",
   "execution_count": 1,
   "id": "6b63c695-3f52-4769-ab97-8d636d4a5187",
   "metadata": {},
   "outputs": [],
   "source": [
    "import logging as lg\n",
    "lg.basicConfig(filename = \"test3.log\" , level = lg.DEBUG , format='%(asctime)s %(levelname)s %(message)s')"
   ]
  },
  {
   "cell_type": "code",
   "execution_count": 2,
   "id": "a10eee97-f92e-4b04-9f75-37b8a5733b6e",
   "metadata": {},
   "outputs": [],
   "source": [
    "console_log = lg.StreamHandler()\n",
    "console_log.setLevel(lg.INFO)"
   ]
  },
  {
   "cell_type": "code",
   "execution_count": 3,
   "id": "29687181-04ed-48f2-b256-e73b1c3a147d",
   "metadata": {},
   "outputs": [],
   "source": [
    "format ='%(asctime)s %(levelname)s %(message)s'"
   ]
  },
  {
   "cell_type": "code",
   "execution_count": 4,
   "id": "88b5da78-bc95-4884-b5cf-37b3af7a0772",
   "metadata": {},
   "outputs": [],
   "source": [
    "console_log.setFormatter(format)"
   ]
  },
  {
   "cell_type": "code",
   "execution_count": 5,
   "id": "5c2bfa4c-ab57-4bdf-965b-0eb941f02389",
   "metadata": {},
   "outputs": [],
   "source": [
    "lg.getLogger('').addHandler(console_log)"
   ]
  },
  {
   "cell_type": "code",
   "execution_count": 6,
   "id": "90959afc-691d-4757-a922-eb1607a3b979",
   "metadata": {},
   "outputs": [
    {
     "name": "stderr",
     "output_type": "stream",
     "text": [
      "%(asctime)s %(levelname)s %(message)s\n"
     ]
    }
   ],
   "source": [
    "lg.info(\"this is my first test code for log\")"
   ]
  },
  {
   "cell_type": "code",
   "execution_count": 7,
   "id": "3c68801d-e313-4331-b622-f07bc414bcb7",
   "metadata": {},
   "outputs": [],
   "source": [
    "lg1 = lg.getLogger('lg1.area1')\n",
    "lg2 = lg.getLogger('lg2.area2')"
   ]
  },
  {
   "cell_type": "code",
   "execution_count": 8,
   "id": "b8eeb4ac-718a-4c3d-a026-fba1da68e3ca",
   "metadata": {},
   "outputs": [
    {
     "name": "stderr",
     "output_type": "stream",
     "text": [
      "%(asctime)s %(levelname)s %(message)s\n",
      "%(asctime)s %(levelname)s %(message)s\n"
     ]
    }
   ],
   "source": [
    "lg1.info(\"this is info for logger one\")\n",
    "lg2.debug(\"this is a debug for logger two\")\n",
    "lg2.info(\"This is a info for logger two\")"
   ]
  },
  {
   "cell_type": "code",
   "execution_count": 10,
   "id": "91dff358-106f-4c49-b529-3d0f16b97c7d",
   "metadata": {},
   "outputs": [
    {
     "name": "stderr",
     "output_type": "stream",
     "text": [
      "%(asctime)s %(levelname)s %(message)s\n",
      "root- 2024-05-21 20:24:48,384- INFO- main log\n",
      "%(asctime)s %(levelname)s %(message)s\n",
      "user1- 2024-05-21 20:24:48,386- INFO- this is from user1 info\n",
      "user2- 2024-05-21 20:24:48,387- DEBUG- this is from user2 debug\n"
     ]
    }
   ],
   "source": [
    "import logging as lg\n",
    "lg.basicConfig(filename = \"app1.log\" , level = lg.DEBUG , format='%(asctime)s %(levelname)s %(message)s')\n",
    "console_log = lg.StreamHandler()\n",
    "console_log.setLevel(lg.DEBUG)\n",
    "format =lg.Formatter('%(name)s- %(asctime)s- %(levelname)s- %(message)s')\n",
    "console_log.setFormatter(format)\n",
    "# create a custom logger\n",
    "lg.getLogger('').addHandler(console_log)\n",
    "lg.info('main log')\n",
    "lg1 = lg.getLogger('user1')\n",
    "lg2 = lg.getLogger('user2')\n",
    "lg1.info('this is from user1 info')\n",
    "lg2.debug(\"this is from user2 debug\")"
   ]
  },
  {
   "cell_type": "markdown",
   "id": "8b6c086e-b958-41d3-a274-49c906cf50e9",
   "metadata": {},
   "source": [
    "# Debugger "
   ]
  },
  {
   "cell_type": "code",
   "execution_count": 11,
   "id": "a42c5f89-de32-4657-9fd6-9aeb94b6bb36",
   "metadata": {},
   "outputs": [],
   "source": [
    "def testdebug():\n",
    "    l = []\n",
    "    for i in range(10):\n",
    "        l.append(i)\n",
    "        print(\"We have append data list\")\n",
    "    return l"
   ]
  },
  {
   "cell_type": "code",
   "execution_count": 12,
   "id": "276c2a30-f118-45d5-a38c-2458e2d36f2f",
   "metadata": {},
   "outputs": [
    {
     "name": "stdout",
     "output_type": "stream",
     "text": [
      "We have append data list\n",
      "We have append data list\n",
      "We have append data list\n",
      "We have append data list\n",
      "We have append data list\n",
      "We have append data list\n",
      "We have append data list\n",
      "We have append data list\n",
      "We have append data list\n",
      "We have append data list\n"
     ]
    },
    {
     "data": {
      "text/plain": [
       "[0, 1, 2, 3, 4, 5, 6, 7, 8, 9]"
      ]
     },
     "execution_count": 12,
     "metadata": {},
     "output_type": "execute_result"
    }
   ],
   "source": [
    "testdebug()"
   ]
  },
  {
   "cell_type": "code",
   "execution_count": 3,
   "id": "da14fbc6-04f3-48e1-9e9e-290c5d1c7017",
   "metadata": {},
   "outputs": [],
   "source": [
    "import ipdb # i python debugger "
   ]
  },
  {
   "cell_type": "code",
   "execution_count": 5,
   "id": "2b37a9d3-54f9-4a61-929e-f92ed725fa3a",
   "metadata": {},
   "outputs": [],
   "source": [
    "def testdebug():\n",
    "    ipdb.set_trace()\n",
    "    l = []\n",
    "    for i in range(10):\n",
    "        l.append(i)\n",
    "        print(\"We have append data list\")\n",
    "    return l"
   ]
  },
  {
   "cell_type": "code",
   "execution_count": null,
   "id": "35a1e348-30c6-45c0-9726-0fac889cde1c",
   "metadata": {},
   "outputs": [],
   "source": [
    "# testdebug()"
   ]
  },
  {
   "cell_type": "markdown",
   "id": "6d2cbbc1-47f7-4196-b1ad-fc0719c3cfc9",
   "metadata": {},
   "source": [
    "# module "
   ]
  },
  {
   "cell_type": "code",
   "execution_count": 1,
   "id": "501d54de-0e84-4ef1-a692-3acf482be7d3",
   "metadata": {},
   "outputs": [],
   "source": [
    "import math"
   ]
  },
  {
   "cell_type": "code",
   "execution_count": 3,
   "id": "b877e822-4bf4-4168-b7f0-4eebda1bdbdf",
   "metadata": {},
   "outputs": [
    {
     "data": {
      "text/plain": [
       "2.0"
      ]
     },
     "execution_count": 3,
     "metadata": {},
     "output_type": "execute_result"
    }
   ],
   "source": [
    "math.sqrt(4)"
   ]
  },
  {
   "cell_type": "code",
   "execution_count": 4,
   "id": "d9146eed-7557-40e8-b9fe-eb9a749db765",
   "metadata": {},
   "outputs": [],
   "source": [
    "from math import sqrt"
   ]
  },
  {
   "cell_type": "code",
   "execution_count": 5,
   "id": "0ea866f1-602c-41de-ae15-306b115fddc7",
   "metadata": {},
   "outputs": [
    {
     "data": {
      "text/plain": [
       "2.23606797749979"
      ]
     },
     "execution_count": 5,
     "metadata": {},
     "output_type": "execute_result"
    }
   ],
   "source": [
    "sqrt(5)"
   ]
  },
  {
   "cell_type": "code",
   "execution_count": 6,
   "id": "d363793a-981d-4277-bbc9-d5182b73ce25",
   "metadata": {},
   "outputs": [],
   "source": [
    "from math import sqrt , pi"
   ]
  },
  {
   "cell_type": "code",
   "execution_count": 7,
   "id": "83e3807f-2e89-4a63-b72e-cf36a9f5bfd0",
   "metadata": {},
   "outputs": [
    {
     "data": {
      "text/plain": [
       "3.141592653589793"
      ]
     },
     "execution_count": 7,
     "metadata": {},
     "output_type": "execute_result"
    }
   ],
   "source": [
    "pi"
   ]
  },
  {
   "cell_type": "code",
   "execution_count": 13,
   "id": "7c31596a-087f-4e95-a9c9-d6cdc27e17b1",
   "metadata": {},
   "outputs": [],
   "source": [
    "from math import *  # import any thing availabe in math modules"
   ]
  },
  {
   "cell_type": "code",
   "execution_count": 9,
   "id": "b8f0ce97-5eb4-4abb-bb13-6d844907af84",
   "metadata": {},
   "outputs": [
    {
     "data": {
      "text/plain": [
       "-0.3048106211022167"
      ]
     },
     "execution_count": 9,
     "metadata": {},
     "output_type": "execute_result"
    }
   ],
   "source": [
    "sin(60)"
   ]
  },
  {
   "cell_type": "code",
   "execution_count": 10,
   "id": "cbe45dca-53fe-4d30-89d6-c432d546c3bf",
   "metadata": {},
   "outputs": [
    {
     "data": {
      "text/plain": [
       "-0.9524129804151563"
      ]
     },
     "execution_count": 10,
     "metadata": {},
     "output_type": "execute_result"
    }
   ],
   "source": [
    "cos(60)"
   ]
  },
  {
   "cell_type": "code",
   "execution_count": 12,
   "id": "4fe9f0a9-02db-4de8-af69-9430cc43d39d",
   "metadata": {},
   "outputs": [
    {
     "data": {
      "text/plain": [
       "3.1622776601683795"
      ]
     },
     "execution_count": 12,
     "metadata": {},
     "output_type": "execute_result"
    }
   ],
   "source": [
    "sqrt(10)"
   ]
  },
  {
   "cell_type": "code",
   "execution_count": 14,
   "id": "6318f465-08d7-4ea4-a5c1-e79a9794e268",
   "metadata": {},
   "outputs": [
    {
     "data": {
      "text/plain": [
       "'C:\\\\Users\\\\bhimr'"
      ]
     },
     "execution_count": 14,
     "metadata": {},
     "output_type": "execute_result"
    }
   ],
   "source": [
    "pwd()"
   ]
  },
  {
   "cell_type": "code",
   "execution_count": 24,
   "id": "0b08acb3-dc64-4ce5-a780-07f106494a9c",
   "metadata": {},
   "outputs": [],
   "source": [
    "# create one file.py write some thing and save \n",
    "import text"
   ]
  },
  {
   "cell_type": "code",
   "execution_count": 25,
   "id": "e0fa64df-bc04-495d-b3fc-4f8cacc61e42",
   "metadata": {},
   "outputs": [],
   "source": [
    "import imp"
   ]
  },
  {
   "cell_type": "code",
   "execution_count": 26,
   "id": "1ba39bc4-f004-4543-bbed-cf9b13db6bc4",
   "metadata": {},
   "outputs": [
    {
     "name": "stdout",
     "output_type": "stream",
     "text": [
      "this is my first ever module\n"
     ]
    },
    {
     "data": {
      "text/plain": [
       "<module 'text' from 'C:\\\\Users\\\\bhimr\\\\text.py'>"
      ]
     },
     "execution_count": 26,
     "metadata": {},
     "output_type": "execute_result"
    }
   ],
   "source": [
    "imp.reload(text)"
   ]
  },
  {
   "cell_type": "code",
   "execution_count": 28,
   "id": "15f5603f-5949-4fe8-a527-fabe38ffc06e",
   "metadata": {},
   "outputs": [],
   "source": [
    "import addition"
   ]
  },
  {
   "cell_type": "code",
   "execution_count": 30,
   "id": "8c425119-5ebc-459a-8767-2353c511bff8",
   "metadata": {},
   "outputs": [
    {
     "data": {
      "text/plain": [
       "22"
      ]
     },
     "execution_count": 30,
     "metadata": {},
     "output_type": "execute_result"
    }
   ],
   "source": [
    "addition.addition1(10,12)\n"
   ]
  },
  {
   "cell_type": "code",
   "execution_count": 1,
   "id": "146b678b-bcec-4f8d-a884-bb4f8b2afbc8",
   "metadata": {},
   "outputs": [],
   "source": [
    "import test1 # Create a test1.py file on your home write code "
   ]
  },
  {
   "cell_type": "code",
   "execution_count": 2,
   "id": "e87bae53-2a85-4e4a-8296-324847e3e935",
   "metadata": {},
   "outputs": [],
   "source": [
    "import addition"
   ]
  },
  {
   "cell_type": "code",
   "execution_count": 6,
   "id": "3cf43243-77d8-4f01-ab5a-a290466458c9",
   "metadata": {},
   "outputs": [
    {
     "data": {
      "text/plain": [
       "29"
      ]
     },
     "execution_count": 6,
     "metadata": {},
     "output_type": "execute_result"
    }
   ],
   "source": [
    "test1.addition(25,4)"
   ]
  },
  {
   "cell_type": "code",
   "execution_count": 5,
   "id": "bf9b8ad8-17d8-49ed-bdb8-c02f1c7ebf10",
   "metadata": {},
   "outputs": [
    {
     "data": {
      "text/plain": [
       "20"
      ]
     },
     "execution_count": 5,
     "metadata": {},
     "output_type": "execute_result"
    }
   ],
   "source": [
    "test1.mul(10,2)"
   ]
  },
  {
   "cell_type": "code",
   "execution_count": 7,
   "id": "8764a849-ddb4-4f85-9f17-a2dcc7a0aa50",
   "metadata": {},
   "outputs": [
    {
     "data": {
      "text/plain": [
       "8000"
      ]
     },
     "execution_count": 7,
     "metadata": {},
     "output_type": "execute_result"
    }
   ],
   "source": [
    "test1.power(20,3)"
   ]
  },
  {
   "cell_type": "code",
   "execution_count": 8,
   "id": "3d12354a-dbe9-45f3-a2b9-720d9a09001d",
   "metadata": {},
   "outputs": [
    {
     "data": {
      "text/plain": [
       "20"
      ]
     },
     "execution_count": 8,
     "metadata": {},
     "output_type": "execute_result"
    }
   ],
   "source": [
    "test1.mul(10,2)"
   ]
  },
  {
   "cell_type": "code",
   "execution_count": 9,
   "id": "bb659726-8856-4206-b495-c1cbb807c08b",
   "metadata": {},
   "outputs": [],
   "source": [
    "from test1 import mul     # you can import any function within module "
   ]
  },
  {
   "cell_type": "markdown",
   "id": "e299efbf-2799-4c8c-9af1-fe18010806aa",
   "metadata": {},
   "source": [
    "# Exception Handling "
   ]
  },
  {
   "cell_type": "code",
   "execution_count": 3,
   "id": "ca7f4283-56c7-4a9c-820b-83ae1c6f7064",
   "metadata": {},
   "outputs": [
    {
     "ename": "SyntaxError",
     "evalue": "unterminated string literal (detected at line 1) (2017693901.py, line 1)",
     "output_type": "error",
     "traceback": [
      "\u001b[1;36m  Cell \u001b[1;32mIn[3], line 1\u001b[1;36m\u001b[0m\n\u001b[1;33m    print('hcudhf)\u001b[0m\n\u001b[1;37m          ^\u001b[0m\n\u001b[1;31mSyntaxError\u001b[0m\u001b[1;31m:\u001b[0m unterminated string literal (detected at line 1)\n"
     ]
    }
   ],
   "source": [
    "print('hcudhf)"
   ]
  },
  {
   "cell_type": "code",
   "execution_count": 4,
   "id": "ff664e15-2277-45c9-98cd-6785eb9dd532",
   "metadata": {},
   "outputs": [
    {
     "ename": "ZeroDivisionError",
     "evalue": "division by zero",
     "output_type": "error",
     "traceback": [
      "\u001b[1;31m---------------------------------------------------------------------------\u001b[0m",
      "\u001b[1;31mZeroDivisionError\u001b[0m                         Traceback (most recent call last)",
      "Cell \u001b[1;32mIn[4], line 4\u001b[0m\n\u001b[0;32m      1\u001b[0m \u001b[38;5;28;01mdef\u001b[39;00m \u001b[38;5;21mfun\u001b[39m(a,b):\n\u001b[0;32m      2\u001b[0m     \u001b[38;5;28;01mreturn\u001b[39;00m a\u001b[38;5;241m/\u001b[39mb \n\u001b[1;32m----> 4\u001b[0m fun(\u001b[38;5;241m5\u001b[39m,\u001b[38;5;241m0\u001b[39m)\n",
      "Cell \u001b[1;32mIn[4], line 2\u001b[0m, in \u001b[0;36mfun\u001b[1;34m(a, b)\u001b[0m\n\u001b[0;32m      1\u001b[0m \u001b[38;5;28;01mdef\u001b[39;00m \u001b[38;5;21mfun\u001b[39m(a,b):\n\u001b[1;32m----> 2\u001b[0m     \u001b[38;5;28;01mreturn\u001b[39;00m a\u001b[38;5;241m/\u001b[39mb\n",
      "\u001b[1;31mZeroDivisionError\u001b[0m: division by zero"
     ]
    }
   ],
   "source": [
    "def fun(a,b):\n",
    "    return a/b \n",
    "\n",
    "fun(5,0)"
   ]
  },
  {
   "cell_type": "code",
   "execution_count": 7,
   "id": "773b66f3-2c4e-4c73-a134-9ed656962ece",
   "metadata": {},
   "outputs": [
    {
     "ename": "FileNotFoundError",
     "evalue": "[Errno 2] No such file or directory: 'test1.txt'",
     "output_type": "error",
     "traceback": [
      "\u001b[1;31m---------------------------------------------------------------------------\u001b[0m",
      "\u001b[1;31mFileNotFoundError\u001b[0m                         Traceback (most recent call last)",
      "Cell \u001b[1;32mIn[7], line 1\u001b[0m\n\u001b[1;32m----> 1\u001b[0m a \u001b[38;5;241m=\u001b[39m \u001b[38;5;28mopen\u001b[39m(\u001b[38;5;124m\"\u001b[39m\u001b[38;5;124mtest1.txt\u001b[39m\u001b[38;5;124m\"\u001b[39m,\u001b[38;5;124m\"\u001b[39m\u001b[38;5;124mr\u001b[39m\u001b[38;5;124m\"\u001b[39m)\n",
      "File \u001b[1;32m~\\Documents\\Downloads\\Lib\\site-packages\\IPython\\core\\interactiveshell.py:310\u001b[0m, in \u001b[0;36m_modified_open\u001b[1;34m(file, *args, **kwargs)\u001b[0m\n\u001b[0;32m    303\u001b[0m \u001b[38;5;28;01mif\u001b[39;00m file \u001b[38;5;129;01min\u001b[39;00m {\u001b[38;5;241m0\u001b[39m, \u001b[38;5;241m1\u001b[39m, \u001b[38;5;241m2\u001b[39m}:\n\u001b[0;32m    304\u001b[0m     \u001b[38;5;28;01mraise\u001b[39;00m \u001b[38;5;167;01mValueError\u001b[39;00m(\n\u001b[0;32m    305\u001b[0m         \u001b[38;5;124mf\u001b[39m\u001b[38;5;124m\"\u001b[39m\u001b[38;5;124mIPython won\u001b[39m\u001b[38;5;124m'\u001b[39m\u001b[38;5;124mt let you open fd=\u001b[39m\u001b[38;5;132;01m{\u001b[39;00mfile\u001b[38;5;132;01m}\u001b[39;00m\u001b[38;5;124m by default \u001b[39m\u001b[38;5;124m\"\u001b[39m\n\u001b[0;32m    306\u001b[0m         \u001b[38;5;124m\"\u001b[39m\u001b[38;5;124mas it is likely to crash IPython. If you know what you are doing, \u001b[39m\u001b[38;5;124m\"\u001b[39m\n\u001b[0;32m    307\u001b[0m         \u001b[38;5;124m\"\u001b[39m\u001b[38;5;124myou can use builtins\u001b[39m\u001b[38;5;124m'\u001b[39m\u001b[38;5;124m open.\u001b[39m\u001b[38;5;124m\"\u001b[39m\n\u001b[0;32m    308\u001b[0m     )\n\u001b[1;32m--> 310\u001b[0m \u001b[38;5;28;01mreturn\u001b[39;00m io_open(file, \u001b[38;5;241m*\u001b[39margs, \u001b[38;5;241m*\u001b[39m\u001b[38;5;241m*\u001b[39mkwargs)\n",
      "\u001b[1;31mFileNotFoundError\u001b[0m: [Errno 2] No such file or directory: 'test1.txt'"
     ]
    }
   ],
   "source": [
    "a = open(\"test1.txt\",\"r\")"
   ]
  },
  {
   "cell_type": "code",
   "execution_count": 10,
   "id": "9721aaeb-1465-4674-9ccc-008024f0497c",
   "metadata": {},
   "outputs": [
    {
     "name": "stdout",
     "output_type": "stream",
     "text": [
      "there is some issue with my code\n"
     ]
    }
   ],
   "source": [
    "try:\n",
    "    a = open(\"test1.txt\",\"r\")\n",
    "except:\n",
    "    print(\"there is some issue with my code\")"
   ]
  },
  {
   "cell_type": "code",
   "execution_count": 11,
   "id": "3e6e61d2-c76b-4758-9da9-f95a451b1be5",
   "metadata": {},
   "outputs": [],
   "source": [
    "try:\n",
    "    a = open(\"test1.txt\",\"r\")\n",
    "except:\n",
    "    pass"
   ]
  },
  {
   "cell_type": "code",
   "execution_count": 12,
   "id": "99018ad1-e87b-4ece-9ae1-5e32e0b803d7",
   "metadata": {},
   "outputs": [
    {
     "name": "stdout",
     "output_type": "stream",
     "text": [
      "this is some issue with my code division by zero\n"
     ]
    }
   ],
   "source": [
    "try:\n",
    "    a = 5/0\n",
    "except ArithmeticError as e:\n",
    "    print(\"this is some issue with my code\",e)"
   ]
  },
  {
   "cell_type": "code",
   "execution_count": 13,
   "id": "57c8f297-e285-454a-a31c-367c306f25be",
   "metadata": {},
   "outputs": [
    {
     "name": "stdout",
     "output_type": "stream",
     "text": [
      "This will excute once try will excute with sucess\n"
     ]
    }
   ],
   "source": [
    "try:\n",
    "    a = 5/2\n",
    "except ArithmeticError as e:\n",
    "    print(\"this is some issue with my code\",e)\n",
    "else:\n",
    "    print(\"This will excute once try will excute with sucess\")"
   ]
  },
  {
   "cell_type": "code",
   "execution_count": 14,
   "id": "b0207787-51d1-4ba0-b472-5a618f93155f",
   "metadata": {},
   "outputs": [
    {
     "name": "stdout",
     "output_type": "stream",
     "text": [
      "This will excute once try will excute with sucess\n",
      "This is as issue with internal try block\n"
     ]
    }
   ],
   "source": [
    "try:\n",
    "    a = 5/2\n",
    "except ArithmeticError as e:\n",
    "    print(\"this is some issue with my code\",e)\n",
    "else:\n",
    "    print(\"This will excute once try will excute with sucess\")\n",
    "    try:\n",
    "         f = open(\"test1.txt\",\"r\")\n",
    "    except:\n",
    "        print(\"This is as issue with internal try block\")"
   ]
  },
  {
   "cell_type": "code",
   "execution_count": 16,
   "id": "5f5dc3a2-7cf1-4fad-9551-6240ec14f755",
   "metadata": {},
   "outputs": [
    {
     "name": "stdout",
     "output_type": "stream",
     "text": [
      "Enter a first number 5\n",
      "Enter a second number 0\n"
     ]
    },
    {
     "name": "stdout",
     "output_type": "stream",
     "text": [
      "There is some issue with code division by zero\n"
     ]
    }
   ],
   "source": [
    "try:\n",
    "    a = int(input(\"Enter a first number\"))\n",
    "    b = int(input(\"Enter a second number\"))\n",
    "    c = a / b\n",
    "except ArithmeticError as e:\n",
    "    print(\"There is some issue with code\",e)\n",
    "    f = open(\"test1.txt\",\"w+\")\n",
    "    f.read()\n",
    "else:\n",
    "    print(\"This will excute once try will excute with sucess\")\n",
    "    try:\n",
    "        f = open(\"test1.txt\",\"r\")\n",
    "    except:\n",
    "        print(\"This is as issue with internal try block\")"
   ]
  },
  {
   "cell_type": "code",
   "execution_count": 17,
   "id": "ccf8d598-d301-476e-af0d-d287100dcdc0",
   "metadata": {},
   "outputs": [
    {
     "ename": "IndexError",
     "evalue": "list index out of range",
     "output_type": "error",
     "traceback": [
      "\u001b[1;31m---------------------------------------------------------------------------\u001b[0m",
      "\u001b[1;31mIndexError\u001b[0m                                Traceback (most recent call last)",
      "Cell \u001b[1;32mIn[17], line 2\u001b[0m\n\u001b[0;32m      1\u001b[0m l \u001b[38;5;241m=\u001b[39m [\u001b[38;5;241m4\u001b[39m,\u001b[38;5;241m5\u001b[39m,\u001b[38;5;241m6\u001b[39m,\u001b[38;5;241m7\u001b[39m,\u001b[38;5;241m8\u001b[39m,\u001b[38;5;241m9\u001b[39m]\n\u001b[1;32m----> 2\u001b[0m \u001b[38;5;28mprint\u001b[39m(l[\u001b[38;5;241m100\u001b[39m])\n\u001b[0;32m      3\u001b[0m t \u001b[38;5;241m=\u001b[39m (\u001b[38;5;241m4\u001b[39m,\u001b[38;5;241m5\u001b[39m,\u001b[38;5;241m6\u001b[39m,\u001b[38;5;241m7\u001b[39m,\u001b[38;5;241m8\u001b[39m,\u001b[38;5;241m9\u001b[39m)\n\u001b[0;32m      4\u001b[0m \u001b[38;5;28mprint\u001b[39m(t)\n",
      "\u001b[1;31mIndexError\u001b[0m: list index out of range"
     ]
    }
   ],
   "source": [
    "l = [4,5,6,7,8,9]\n",
    "print(l[100])\n",
    "t = (4,5,6,7,8,9)\n",
    "print(t)"
   ]
  },
  {
   "cell_type": "code",
   "execution_count": 19,
   "id": "b6504f07-27d0-47ad-b9f0-e1d322775b49",
   "metadata": {},
   "outputs": [
    {
     "name": "stdout",
     "output_type": "stream",
     "text": [
      "there is issue with the code \n",
      "(4, 5, 6, 7, 8, 9)\n"
     ]
    }
   ],
   "source": [
    "try:\n",
    "    l = [4,5,6,7,8,9]\n",
    "    l[100]\n",
    "\n",
    "except:\n",
    "    print(\"there is issue with the code \")\n",
    "    t = (4,5,6,7,8,9)\n",
    "    print(t)\n",
    "    try:\n",
    "        t[0] = \"Bhim\"\n",
    "    except:\n",
    "        pass\n",
    "else:\n",
    "    print(\"this is no issue with my code\")"
   ]
  },
  {
   "cell_type": "code",
   "execution_count": 21,
   "id": "ebb92793-b575-4d98-a754-4260dfd58c27",
   "metadata": {},
   "outputs": [
    {
     "name": "stdout",
     "output_type": "stream",
     "text": [
      "Enter date: 12/12/2021\n"
     ]
    }
   ],
   "source": [
    "date = eval(input(\"Enter date:\"))"
   ]
  },
  {
   "cell_type": "code",
   "execution_count": 30,
   "id": "5427ff49-62fe-4302-a757-d0ada5091040",
   "metadata": {},
   "outputs": [
    {
     "name": "stdout",
     "output_type": "stream",
     "text": [
      "Enter date: 2021,10,21\n"
     ]
    },
    {
     "name": "stdout",
     "output_type": "stream",
     "text": [
      "You entered:  (2021, 10, 21)\n"
     ]
    }
   ],
   "source": [
    "# syntaxError\n",
    "try:\n",
    "    date = eval(input(\"Enter date:\"))\n",
    "except syntaxError as se:\n",
    "    print(\"Invalid date entered\",se)\n",
    "else:\n",
    "    print(\"You entered: \",date)\n",
    "    "
   ]
  },
  {
   "cell_type": "code",
   "execution_count": 29,
   "id": "93b475ca-e0bf-4b78-9268-1f17258332fc",
   "metadata": {},
   "outputs": [
    {
     "name": "stdout",
     "output_type": "stream",
     "text": [
      "Enter date: 2021, 10b, 3\n"
     ]
    },
    {
     "name": "stdout",
     "output_type": "stream",
     "text": [
      "Invalid date entered invalid decimal literal (<string>, line 1)\n"
     ]
    }
   ],
   "source": [
    "# syntaxError\n",
    "try:\n",
    "    date = eval(input(\"Enter date:\"))\n",
    "except SyntaxError as se:\n",
    "    print(\"Invalid date entered\", se)\n",
    "else:\n",
    "    print(\"You entered: \", date)"
   ]
  },
  {
   "cell_type": "code",
   "execution_count": 41,
   "id": "b2f1b7b9-94d5-4428-8f03-fbdb453e8153",
   "metadata": {},
   "outputs": [
    {
     "name": "stdout",
     "output_type": "stream",
     "text": [
      "Enter filename:  abcd\n"
     ]
    },
    {
     "name": "stdout",
     "output_type": "stream",
     "text": [
      "File not found: abcd\n"
     ]
    }
   ],
   "source": [
    "# File not found IOError\n",
    "try:\n",
    "    name = input(\"Enter filename: \")\n",
    "    with open(name, 'r') as f:\n",
    "        n = len(f.readlines())\n",
    "except FileNotFoundError:\n",
    "    print(\"File not found:\", name)\n",
    "except IOError as e:\n",
    "    print(\"An IOError occurred:\", e)\n",
    "else:\n",
    "    print(name, \"has\", n, \"lines\")\n"
   ]
  },
  {
   "cell_type": "code",
   "execution_count": 51,
   "id": "f8bdf738-499a-4f65-b4c1-7661efd3e1e1",
   "metadata": {},
   "outputs": [
    {
     "name": "stdout",
     "output_type": "stream",
     "text": [
      "this is my error  [Errno 2] No such file or directory: 'test3.txt'\n"
     ]
    }
   ],
   "source": [
    "try:\n",
    "    f = open(\"test3.txt\", \"r\")\n",
    "except IOError as e :\n",
    "    print(\"this is my error \" ,e)"
   ]
  },
  {
   "cell_type": "code",
   "execution_count": 54,
   "id": "83b1b543-ed01-4074-988b-20eb63643e6f",
   "metadata": {},
   "outputs": [
    {
     "name": "stdout",
     "output_type": "stream",
     "text": [
      "Enter filename:  456\n"
     ]
    },
    {
     "name": "stdout",
     "output_type": "stream",
     "text": [
      "File not found: 456\n"
     ]
    }
   ],
   "source": [
    "try:\n",
    "    name = input(\"Enter filename: \")\n",
    "    with open(name, 'r') as f:\n",
    "        n = len(f.readlines())\n",
    "except FileNotFoundError:\n",
    "    print(\"File not found:\", name)\n",
    "except IOError as e:\n",
    "    print(\"An IOError occurred:\", e)\n",
    "else:\n",
    "    print(name, \"has\", n, \"lines\")"
   ]
  },
  {
   "cell_type": "code",
   "execution_count": 48,
   "id": "1b61648b-f7e3-4d47-a242-b7c210395a8b",
   "metadata": {},
   "outputs": [
    {
     "name": "stdout",
     "output_type": "stream",
     "text": [
      "finally I will excute in any case\n"
     ]
    }
   ],
   "source": [
    "try:\n",
    "    f = open(\"test1.txt\",\"r\")\n",
    "finally:\n",
    "    print(\"finally I will excute in any case\")\n",
    "             "
   ]
  },
  {
   "cell_type": "code",
   "execution_count": 49,
   "id": "ead00cf7-b19c-4497-810d-a6f3e4c0dc6e",
   "metadata": {},
   "outputs": [
    {
     "name": "stdout",
     "output_type": "stream",
     "text": [
      "finally I will excute in any case\n",
      "4\n"
     ]
    }
   ],
   "source": [
    "try:\n",
    "    f = open(\"test1.txt\",\"r\")\n",
    "finally:\n",
    "    print(\"finally I will excute in any case\")\n",
    "    l = [4,5,6,7,8]\n",
    "    print(l[0])\n",
    "             "
   ]
  },
  {
   "cell_type": "code",
   "execution_count": 50,
   "id": "1647b46e-e4f6-4c7d-9f08-3a7e093e43ca",
   "metadata": {},
   "outputs": [
    {
     "name": "stdout",
     "output_type": "stream",
     "text": [
      "else will excute if try will excute with suc\n",
      "finally i will excute in any case\n"
     ]
    }
   ],
   "source": [
    "try:\n",
    "    f = open(\"test1.txt\",\"r\")\n",
    "except:\n",
    "    pass\n",
    "else:\n",
    "    print(\"else will excute if try will excute with suc\")\n",
    "\n",
    "finally:\n",
    "    print(\"finally i will excute in any case\")\n",
    "    l = [4,5,6,7]\n",
    "    try:\n",
    "        print(l[10])\n",
    "    except:\n",
    "        pass"
   ]
  },
  {
   "cell_type": "code",
   "execution_count": 1,
   "id": "a00233d0-42de-4350-a95a-39055c352d6f",
   "metadata": {},
   "outputs": [],
   "source": [
    "def askforint():\n",
    "    while True:\n",
    "        try:\n",
    "            a = int(input(\"Enter an integer\"))\n",
    "        except Exception as e:\n",
    "            print(\"this is my error msg\",e)\n",
    "        else:\n",
    "            print(\"person has enter a correct value\")\n",
    "            break\n",
    "            \n",
    "        finally:\n",
    "            print(\"close this issue\")"
   ]
  },
  {
   "cell_type": "code",
   "execution_count": 2,
   "id": "9169b621-6e6d-4563-964c-ed084e819cdd",
   "metadata": {},
   "outputs": [
    {
     "name": "stdout",
     "output_type": "stream",
     "text": [
      "Enter an integer gjg\n"
     ]
    },
    {
     "name": "stdout",
     "output_type": "stream",
     "text": [
      "this is my error msg invalid literal for int() with base 10: 'gjg'\n",
      "close this issue\n"
     ]
    },
    {
     "name": "stdout",
     "output_type": "stream",
     "text": [
      "Enter an integer gyt\n"
     ]
    },
    {
     "name": "stdout",
     "output_type": "stream",
     "text": [
      "this is my error msg invalid literal for int() with base 10: 'gyt'\n",
      "close this issue\n"
     ]
    },
    {
     "name": "stdout",
     "output_type": "stream",
     "text": [
      "Enter an integer 1234\n"
     ]
    },
    {
     "name": "stdout",
     "output_type": "stream",
     "text": [
      "person has enter a correct value\n",
      "close this issue\n"
     ]
    }
   ],
   "source": [
    "askforint()"
   ]
  },
  {
   "cell_type": "code",
   "execution_count": 12,
   "id": "60555b40-9998-4a72-beef-fdd0edc75a36",
   "metadata": {},
   "outputs": [],
   "source": [
    "def askforint():\n",
    "    while True:\n",
    "        try:\n",
    "            a = int(input(\"Enter an integer\"))\n",
    "            c = 8/a\n",
    "            \n",
    "        except FileNotFoundError as e:\n",
    "            print(\"this is my error msg\",e)\n",
    "        except IOError as e:\n",
    "            print(e)\n",
    "        except ValueError as e:\n",
    "            print(e)\n",
    "        except Exception as e:\n",
    "            print(e)\n",
    "        except ArithmaticError as e:\n",
    "            print(e)\n",
    "        except ZeroDivisionError as e :\n",
    "            print(e)\n",
    "        else:\n",
    "            print(\"person has enter a correct value\")\n",
    "            break\n",
    "            \n",
    "        finally:\n",
    "            print(\"close this issue\")"
   ]
  },
  {
   "cell_type": "code",
   "execution_count": 13,
   "id": "1333ac07-d205-4e2e-9407-ab749f5c738b",
   "metadata": {},
   "outputs": [
    {
     "name": "stdout",
     "output_type": "stream",
     "text": [
      "Enter an integer dge\n"
     ]
    },
    {
     "name": "stdout",
     "output_type": "stream",
     "text": [
      "invalid literal for int() with base 10: 'dge'\n",
      "close this issue\n"
     ]
    },
    {
     "name": "stdout",
     "output_type": "stream",
     "text": [
      "Enter an integer dkwe\n"
     ]
    },
    {
     "name": "stdout",
     "output_type": "stream",
     "text": [
      "invalid literal for int() with base 10: 'dkwe'\n",
      "close this issue\n"
     ]
    },
    {
     "name": "stdout",
     "output_type": "stream",
     "text": [
      "Enter an integer 0\n"
     ]
    },
    {
     "name": "stdout",
     "output_type": "stream",
     "text": [
      "division by zero\n",
      "close this issue\n"
     ]
    },
    {
     "name": "stdout",
     "output_type": "stream",
     "text": [
      "Enter an integer 5\n"
     ]
    },
    {
     "name": "stdout",
     "output_type": "stream",
     "text": [
      "person has enter a correct value\n",
      "close this issue\n"
     ]
    }
   ],
   "source": [
    "askforint()"
   ]
  },
  {
   "cell_type": "code",
   "execution_count": 30,
   "id": "71cfe6eb-8924-4bd9-806b-11e0b6e1ba3e",
   "metadata": {},
   "outputs": [],
   "source": [
    "def create_your_exception(a):\n",
    "    if a ==6 :\n",
    "        raise Exception(a)\n",
    "    else:\n",
    "        print(\"input is ok\")\n",
    "        return a"
   ]
  },
  {
   "cell_type": "code",
   "execution_count": 31,
   "id": "4c1ba5f4-3a97-47fb-88cb-1e8705a1cec7",
   "metadata": {},
   "outputs": [
    {
     "name": "stdout",
     "output_type": "stream",
     "text": [
      "6\n"
     ]
    }
   ],
   "source": [
    "try :\n",
    "    create_your_exception(6)\n",
    "except Exception as e:\n",
    "    print(e)"
   ]
  },
  {
   "cell_type": "code",
   "execution_count": 36,
   "id": "3affee4d-c196-4b59-ad19-b6f1c552140d",
   "metadata": {},
   "outputs": [],
   "source": [
    "def create_your_exception(a):\n",
    "    if a > 6 :\n",
    "        raise Exception(\"error is \", a)\n",
    "    else:\n",
    "        print(\"input is ok\")\n",
    "        return a"
   ]
  },
  {
   "cell_type": "code",
   "execution_count": 37,
   "id": "b0f5dcab-2005-4f82-9c60-39bf0a8b6bd7",
   "metadata": {},
   "outputs": [
    {
     "name": "stdout",
     "output_type": "stream",
     "text": [
      "('error is ', 10)\n"
     ]
    }
   ],
   "source": [
    "try :\n",
    "    create_your_exception(10)\n",
    "except Exception as e:\n",
    "    print(e)"
   ]
  },
  {
   "cell_type": "markdown",
   "id": "745e8cb3-1099-486a-ae37-db888dd64581",
   "metadata": {},
   "source": [
    "# Object Oriented Programming System (OOPS) "
   ]
  },
  {
   "cell_type": "markdown",
   "id": "3aeabe3f-cff3-4f4f-b128-60496cf0f250",
   "metadata": {},
   "source": [
    "**A class is module which itself contains data and methods (functions) to achive the task.\n",
    "The main task is divided into several sub tasks , and these are represented as classes. Object belong to same category called as a class. A class is a group name and does not exist physically**\n",
    "- class is blue print / Architecture of an object\n",
    "- object -->> Dict,list,str,tuple \n",
    "- An object is anything that really exists in the world is an object. Object is exist in Physically\n",
    "- An object does not exist without a class But a class can exist without any objects.\n",
    "- function is used for multiple time (reuseability) "
   ]
  },
  {
   "cell_type": "code",
   "execution_count": 1,
   "id": "e1f57585-47aa-4a3a-8f25-ac064510b874",
   "metadata": {},
   "outputs": [],
   "source": [
    "class car:\n",
    "    pass"
   ]
  },
  {
   "cell_type": "code",
   "execution_count": 2,
   "id": "58785a67-ed04-4322-81b1-6c2f174a057c",
   "metadata": {},
   "outputs": [],
   "source": [
    "audiq7 = car()   # audiq7 is object or variable and car is car "
   ]
  },
  {
   "cell_type": "code",
   "execution_count": 3,
   "id": "db4cc88f-aa30-450c-9923-873c62fd134a",
   "metadata": {},
   "outputs": [],
   "source": [
    "audiq7.milage = 10\n",
    "audiq7.year   = 2021\n",
    "audiq7.make   = 345\n",
    "audiq7.model  = \"Hifi\""
   ]
  },
  {
   "cell_type": "code",
   "execution_count": 4,
   "id": "b6f4dafa-b8a6-4f2f-9e8e-637f87667c3b",
   "metadata": {},
   "outputs": [
    {
     "data": {
      "text/plain": [
       "10"
      ]
     },
     "execution_count": 4,
     "metadata": {},
     "output_type": "execute_result"
    }
   ],
   "source": [
    "audiq7.milage"
   ]
  },
  {
   "cell_type": "code",
   "execution_count": 5,
   "id": "700af525-cc19-4f6e-8fe0-98004a4a217b",
   "metadata": {},
   "outputs": [
    {
     "data": {
      "text/plain": [
       "2021"
      ]
     },
     "execution_count": 5,
     "metadata": {},
     "output_type": "execute_result"
    }
   ],
   "source": [
    "audiq7.year"
   ]
  },
  {
   "cell_type": "code",
   "execution_count": 6,
   "id": "f4af783d-1526-411a-b9b5-7fc5961cbc17",
   "metadata": {},
   "outputs": [
    {
     "data": {
      "text/plain": [
       "345"
      ]
     },
     "execution_count": 6,
     "metadata": {},
     "output_type": "execute_result"
    }
   ],
   "source": [
    "audiq7.make"
   ]
  },
  {
   "cell_type": "code",
   "execution_count": 7,
   "id": "20748a31-e836-4401-9582-cbdd553adc6d",
   "metadata": {},
   "outputs": [
    {
     "data": {
      "text/plain": [
       "'Hifi'"
      ]
     },
     "execution_count": 7,
     "metadata": {},
     "output_type": "execute_result"
    }
   ],
   "source": [
    "audiq7.model"
   ]
  },
  {
   "cell_type": "code",
   "execution_count": 8,
   "id": "32002194-fc02-4989-80c6-e3ffb3269d17",
   "metadata": {},
   "outputs": [],
   "source": [
    "nano = car() # car is class nano is object "
   ]
  },
  {
   "cell_type": "code",
   "execution_count": 9,
   "id": "e6830652-38fa-40bd-b254-427c72c81e9d",
   "metadata": {},
   "outputs": [],
   "source": [
    "nano.milage = 20\n",
    "nano.year   = 2019\n",
    "nano.make   = 210\n",
    "nano.model  = \"Basic\"\n",
    "nano.enginno = 1234"
   ]
  },
  {
   "cell_type": "code",
   "execution_count": 10,
   "id": "046e1c4e-f72b-40ba-bc8a-32c89cfdd60a",
   "metadata": {},
   "outputs": [
    {
     "name": "stdout",
     "output_type": "stream",
     "text": [
      "20 10\n"
     ]
    }
   ],
   "source": [
    "print(nano.milage, audiq7.milage)"
   ]
  },
  {
   "cell_type": "code",
   "execution_count": 11,
   "id": "8fd87607-3fac-473f-b085-8d7c883d39e2",
   "metadata": {},
   "outputs": [],
   "source": [
    "class car :     #  car is class   \n",
    "# init function is provider of data. init function is in built of python and used to pass data to a classes\n",
    "    def __init__(self , milage, year , make , model):  \n",
    "\n",
    "        # self is variable of class or instance name \n",
    "        self.milage = milage\n",
    "        self.year   = year\n",
    "        self.make   = make\n",
    "        self.model  = model      "
   ]
  },
  {
   "cell_type": "code",
   "execution_count": 12,
   "id": "ea173b93-74ed-47f7-a4ca-08cec0c01738",
   "metadata": {},
   "outputs": [
    {
     "ename": "TypeError",
     "evalue": "car.__init__() missing 4 required positional arguments: 'milage', 'year', 'make', and 'model'",
     "output_type": "error",
     "traceback": [
      "\u001b[1;31m---------------------------------------------------------------------------\u001b[0m",
      "\u001b[1;31mTypeError\u001b[0m                                 Traceback (most recent call last)",
      "Cell \u001b[1;32mIn[12], line 1\u001b[0m\n\u001b[1;32m----> 1\u001b[0m nano1 \u001b[38;5;241m=\u001b[39m car()\n",
      "\u001b[1;31mTypeError\u001b[0m: car.__init__() missing 4 required positional arguments: 'milage', 'year', 'make', and 'model'"
     ]
    }
   ],
   "source": [
    "nano1 = car()   # data not provided so we can't create class variable "
   ]
  },
  {
   "cell_type": "code",
   "execution_count": 16,
   "id": "87c7fca9-83b2-4e96-9a21-e52eb7b887c4",
   "metadata": {},
   "outputs": [],
   "source": [
    "nano1 = car(20, 2019 , 210 , \"Basic\")  # Here we give data into initialiation fuction this is role of init all varible are associte with varible \n",
    "audiq71 = car(10,2021,345,\"HiFi\") "
   ]
  },
  {
   "cell_type": "code",
   "execution_count": 19,
   "id": "f82d1cb8-2a16-43ce-bdf4-4a8cac98955b",
   "metadata": {},
   "outputs": [],
   "source": [
    "# we can as many as variables \n",
    "nano2   = car(21, 2020 , 211 , \"Basic1\") \n",
    "audiq72 = car(11,2021,346,\"HiFi1\") \n",
    "nano3   = car(22, 2021 , 212 , \"Basic2\") \n",
    "audiq73 = car(12,2021,347,\"HiFi3\") \n",
    "nano4   = car(23, 2022 , 213 , \"Basic3\") \n",
    "audiq74 = car(13,2022,348,\"HiFi4\") \n",
    "nano5   = car(24, 2023 , 215 , \"Basic5\") \n",
    "audiq75 = car(15,2024,350,\"HiFi5\") "
   ]
  },
  {
   "cell_type": "code",
   "execution_count": 20,
   "id": "752cc385-320f-4650-b1f9-439ca762ee5c",
   "metadata": {},
   "outputs": [
    {
     "data": {
      "text/plain": [
       "22"
      ]
     },
     "execution_count": 20,
     "metadata": {},
     "output_type": "execute_result"
    }
   ],
   "source": [
    "nano3.milage"
   ]
  },
  {
   "cell_type": "code",
   "execution_count": 23,
   "id": "b686feef-4e83-4ada-a112-b620770d60dd",
   "metadata": {},
   "outputs": [],
   "source": [
    "class car :\n",
    "    def __init__(a,milage, year , make , model):\n",
    "        a.milage = milage      # a.milage varable associate with data \n",
    "        a.year   = year\n",
    "        a.make   = make\n",
    "        a.model  = model \n",
    "\n",
    "audiq75 = car(15,2024,350,\"HiFi5\") "
   ]
  },
  {
   "cell_type": "code",
   "execution_count": 25,
   "id": "a9605a7f-e38e-47af-8fc4-5faccf71234b",
   "metadata": {},
   "outputs": [
    {
     "data": {
      "text/plain": [
       "15"
      ]
     },
     "execution_count": 25,
     "metadata": {},
     "output_type": "execute_result"
    }
   ],
   "source": [
    "audiq75.milage"
   ]
  },
  {
   "cell_type": "code",
   "execution_count": 28,
   "id": "ba4adf38-44ff-47ef-854f-ccfd68e039e7",
   "metadata": {},
   "outputs": [],
   "source": [
    "class car :\n",
    "    def __init__(a,m, y , ma , mo):\n",
    "        a.milage = m      # a.milage varable associate with data \n",
    "        a.year   = y\n",
    "        a.make   = ma\n",
    "        a.model  = mo \n",
    "\n",
    "audiq75 = car(20,2024,350,\"HiFi5\") "
   ]
  },
  {
   "cell_type": "code",
   "execution_count": 29,
   "id": "98658201-251f-4d32-8e19-04da66044c47",
   "metadata": {},
   "outputs": [
    {
     "data": {
      "text/plain": [
       "20"
      ]
     },
     "execution_count": 29,
     "metadata": {},
     "output_type": "execute_result"
    }
   ],
   "source": [
    "audiq75.milage"
   ]
  },
  {
   "cell_type": "code",
   "execution_count": 49,
   "id": "f16caff5-f8c6-4d80-9aa4-ca18e9e59a2e",
   "metadata": {},
   "outputs": [],
   "source": [
    "class car :\n",
    "    def __init__(a,m, y , ma , mo):\n",
    "        a.milage = m      # a.milage varable associate with data \n",
    "        a.year   = y\n",
    "        a.make   = ma\n",
    "        a.model  = mo \n",
    "\n",
    "    def age(b,current_year):               # b is local pointer \n",
    "       return current_year - b.year\n",
    "\n",
    "    def milage1(self):                   # self is local pointer \n",
    "        return self.milage\n",
    "\n",
    "    def __str__(c):\n",
    "        return \"This is my car class\"\n",
    "\n",
    "audiq75 = car(20,2021,350,\"HiFi5\") "
   ]
  },
  {
   "cell_type": "code",
   "execution_count": 50,
   "id": "09bafea3-e8b0-40ab-b7f0-561c376d1c00",
   "metadata": {},
   "outputs": [
    {
     "data": {
      "text/plain": [
       "3"
      ]
     },
     "execution_count": 50,
     "metadata": {},
     "output_type": "execute_result"
    }
   ],
   "source": [
    "audiq75.age(2024)"
   ]
  },
  {
   "cell_type": "code",
   "execution_count": 51,
   "id": "5d956439-1866-489d-91dd-f5bdda7c7c48",
   "metadata": {},
   "outputs": [
    {
     "data": {
      "text/plain": [
       "20"
      ]
     },
     "execution_count": 51,
     "metadata": {},
     "output_type": "execute_result"
    }
   ],
   "source": [
    "audiq75.milage1()"
   ]
  },
  {
   "cell_type": "code",
   "execution_count": 52,
   "id": "fe4c3f88-2b5e-483b-8e89-f65626482aba",
   "metadata": {},
   "outputs": [
    {
     "name": "stdout",
     "output_type": "stream",
     "text": [
      "This is my car class\n"
     ]
    }
   ],
   "source": [
    "print(audiq75)"
   ]
  },
  {
   "cell_type": "code",
   "execution_count": 7,
   "id": "ee87122b-7f48-4ca0-92cd-853a22de92fc",
   "metadata": {},
   "outputs": [],
   "source": [
    "class student:\n",
    "\n",
    "    def __init__(self, name, rollno, joining_date, current_topic):\n",
    "        self.name = name\n",
    "        self.rollno = rollno\n",
    "        self.joining_date = joining_date\n",
    "        self.current_topic = current_topic\n",
    "\n",
    "\n",
    "    def crt_topic(self):\n",
    "        print(\"current topic discussed in my class is \", self.current_topic)\n",
    "\n",
    "    def str_rollno(self):\n",
    "\n",
    "        if type(self.rollno) == str:\n",
    "            print(\"do nothisng\")\n",
    "        else:\n",
    "            return str(self.rollno)\n",
    "\n",
    "    def duration(self,current_date):\n",
    "        print(\"Duration of student in my class is \", current_date - self.joining_date)\n",
    "\n",
    "    def __str__(self):\n",
    "\n",
    "        return \"This is student class where they can try to input there own data and they can try\"\n",
    "\n",
    "srini = student('srini',101,2021,'opps')"
   ]
  },
  {
   "cell_type": "code",
   "execution_count": 3,
   "id": "3df4ac55-e5fc-418a-9607-6d6aa6524afc",
   "metadata": {},
   "outputs": [
    {
     "name": "stdout",
     "output_type": "stream",
     "text": [
      "Duration of student in my class is  0\n"
     ]
    }
   ],
   "source": [
    "srini.duration(2021)"
   ]
  },
  {
   "cell_type": "code",
   "execution_count": 5,
   "id": "b9efc855-2ddd-46ba-aa48-a4313e6ef29f",
   "metadata": {},
   "outputs": [
    {
     "data": {
      "text/plain": [
       "'101'"
      ]
     },
     "execution_count": 5,
     "metadata": {},
     "output_type": "execute_result"
    }
   ],
   "source": [
    "srini.str_rollno()"
   ]
  },
  {
   "cell_type": "code",
   "execution_count": 6,
   "id": "bb3c808b-508f-479f-904e-ff3f9b4bd571",
   "metadata": {},
   "outputs": [
    {
     "name": "stdout",
     "output_type": "stream",
     "text": [
      "This is student class where they can try to input there own data and they can try\n"
     ]
    }
   ],
   "source": [
    "print(srini)"
   ]
  },
  {
   "cell_type": "code",
   "execution_count": 19,
   "id": "ad5ce1b5-eaf7-44ae-b496-aefc2c5d5ab3",
   "metadata": {},
   "outputs": [],
   "source": [
    "class student:\n",
    "\n",
    "    def __init__(self, name, rollno, joining_date, current_topic):\n",
    "        self.name = name\n",
    "        self.rollno = rollno\n",
    "        self.joining_date = joining_date\n",
    "        self.current_topic = current_topic\n",
    "\n",
    "    def name_Parshing(self):\n",
    "        if type(self.name) == list:\n",
    "            for i in self.name:\n",
    "                print(\"name of the student\",i)\n",
    "        else:\n",
    "            print(\"provide name is not in a form of list\")\n",
    "\n",
    "    \n",
    "    def crt_topic(self):\n",
    "        print(\"current topic discussed in my class is \", self.current_topic)\n",
    "\n",
    "    def str_rollno(self):\n",
    "        try:\n",
    "            \n",
    "            if type(self.rollno) == str:\n",
    "                print(\"do nothisng\")\n",
    "            else:\n",
    "                return str(self.rollno)\n",
    "        except Exception as e :\n",
    "            print(\"this is my error msg\",e ) \n",
    "\n",
    "    def duration(self,current_date):\n",
    "        print(\"Duration of student in my class is \", current_date - self.joining_date)\n",
    "\n",
    "    def __str__(self):\n",
    "\n",
    "        return \"This is student class where they can try to input there own data and they can try\"\n",
    "\n",
    "\n",
    "\n",
    "Pawan = student([\"Naveen\",\"Jay\",\"Himashu\",\"Prakash\"],[101,102,103,104],2021,\"OOPS\")"
   ]
  },
  {
   "cell_type": "code",
   "execution_count": 17,
   "id": "93265d37-9207-4745-8f30-1f8487b6426c",
   "metadata": {},
   "outputs": [
    {
     "name": "stdout",
     "output_type": "stream",
     "text": [
      "name of the student Naveen\n",
      "name of the student Jay\n",
      "name of the student Himashu\n",
      "name of the student Prakash\n"
     ]
    }
   ],
   "source": [
    "Pawan.name_Parshing()"
   ]
  },
  {
   "cell_type": "code",
   "execution_count": 21,
   "id": "ca3697fc-04af-4716-a842-1d3d603f3e12",
   "metadata": {},
   "outputs": [],
   "source": [
    "class data:\n",
    "\n",
    "    def __init__(self,file_name,file_type,date,size):\n",
    "        self.file_name = file_name\n",
    "        self.file_type = file_type\n",
    "        self.date      = date\n",
    "        self.size      = size\n",
    "\n",
    "    def file_open(self):\n",
    "        f = open(self.file_name,'w')\n",
    "        f.write(\"This is writing in class object\")\n",
    "        \n",
    "    def file_read(self):\n",
    "        f = open(self.file_name,'r')\n",
    "        return f.read()\n",
    "    \n",
    "    def append_data(self):\n",
    "        f = open(self.file_name,'w+')\n",
    "        f.write(\"This is appending data in file\")\n",
    "\n",
    "\n",
    "file = data('Bhimrao','.txt','10/08/2021',5)\n",
    "        "
   ]
  },
  {
   "cell_type": "code",
   "execution_count": 22,
   "id": "55b39e28-14eb-460e-a815-144f67c3bb40",
   "metadata": {},
   "outputs": [],
   "source": [
    "file.file_open()"
   ]
  },
  {
   "cell_type": "code",
   "execution_count": 23,
   "id": "f2a8e4cb-ebaf-4ae5-a995-74dc23d6a7d9",
   "metadata": {},
   "outputs": [
    {
     "data": {
      "text/plain": [
       "'This is writing in class object'"
      ]
     },
     "execution_count": 23,
     "metadata": {},
     "output_type": "execute_result"
    }
   ],
   "source": [
    "file.file_read()"
   ]
  },
  {
   "cell_type": "code",
   "execution_count": 25,
   "id": "f4ecae59-4b03-4dc0-ae86-6f507d5fea83",
   "metadata": {},
   "outputs": [],
   "source": [
    "file.append_data()"
   ]
  },
  {
   "cell_type": "code",
   "execution_count": 43,
   "id": "a1171505-15a3-4988-bfb9-f1bcf919ead5",
   "metadata": {},
   "outputs": [],
   "source": [
    "import logging as lg\n",
    "\n",
    "# Configure logging\n",
    "lg.basicConfig(filename='OOPS.log', level=lg.ERROR)\n",
    "\n",
    "class Data:\n",
    "    def __init__(self, filename, filetype, data, size):\n",
    "        self.filename = filename\n",
    "        self.filetype = filetype\n",
    "        self.data = data\n",
    "        self.size = size\n",
    "    \n",
    "    def logging(self, message):\n",
    "        lg.error(message)\n",
    "\n",
    "    def file_open(self):\n",
    "        try:\n",
    "            with open(self.filename + self.filetype, 'w') as f:\n",
    "                f.write(self.data)\n",
    "        except Exception as e:\n",
    "            self.logging(e)\n",
    "    \n",
    "    def file_read(self):\n",
    "        try:\n",
    "            with open(self.filename + self.filetype, 'r') as f:\n",
    "                f.read()\n",
    "        except FileNotFoundError as e:\n",
    "            self.logging(e)\n",
    "        except Exception as e:\n",
    "            self.logging(e)\n",
    "    \n",
    "    def file_append(self, data):\n",
    "        try:\n",
    "            with open(self.filename + self.filetype, 'a') as f:\n",
    "                f.write(data)\n",
    "        except Exception as e:\n",
    "            self.logging(e)\n",
    "\n",
    "    def logging(self,log):\n",
    "        lg.error(log)\n",
    "\n",
    "data = Data('example', '.txt', 'Hello', 12)\n",
    "           "
   ]
  },
  {
   "cell_type": "code",
   "execution_count": 50,
   "id": "e6608676-3102-4e1d-b5e9-410c13dc057b",
   "metadata": {},
   "outputs": [],
   "source": [
    "data.file_open() "
   ]
  },
  {
   "cell_type": "code",
   "execution_count": 51,
   "id": "f4e3f7d4-2a31-49f3-be87-9aa5035e0acd",
   "metadata": {},
   "outputs": [],
   "source": [
    "data.file_append('\\nAppended text.')  "
   ]
  },
  {
   "cell_type": "code",
   "execution_count": 52,
   "id": "61b98f2c-c5eb-43a4-aa01-07e44fada54b",
   "metadata": {},
   "outputs": [],
   "source": [
    "content = data_instance.file_read() "
   ]
  },
  {
   "cell_type": "code",
   "execution_count": 53,
   "id": "c42978d8-663f-45d7-a297-d0f28fa8921c",
   "metadata": {},
   "outputs": [
    {
     "name": "stdout",
     "output_type": "stream",
     "text": [
      "None\n"
     ]
    }
   ],
   "source": [
    "print(content)"
   ]
  },
  {
   "cell_type": "markdown",
   "id": "0e9d2939-c54d-40c4-a9c1-8bd891c3f515",
   "metadata": {},
   "source": [
    "# Abstraction\n",
    "- This is hide the unnecessory data fromuser and expose only that data is of inerest to the user this is called Abstraction. "
   ]
  },
  {
   "cell_type": "code",
   "execution_count": 1,
   "id": "46f4fe3c-0171-4cd2-849f-5cd313361739",
   "metadata": {},
   "outputs": [],
   "source": [
    "class test:\n",
    "    def __init__(self,a , b, c, d):\n",
    "        self._a=a    # (._) protected variable )\n",
    "        self.b=b     # public variables \n",
    "        self.c=c\n",
    "        self.d=d\n",
    "    def test_customer(self , v):\n",
    "        return v - self._a\n",
    "\n",
    "    def __str__(self):\n",
    "        return \"this is my code for abstraction\""
   ]
  },
  {
   "cell_type": "code",
   "execution_count": 2,
   "id": "ae8a9bca-fd57-4ae1-a761-c9aa5ae7415d",
   "metadata": {},
   "outputs": [],
   "source": [
    "o = test(4,5,6,7)"
   ]
  },
  {
   "cell_type": "code",
   "execution_count": 3,
   "id": "b30715fe-cdaa-4e82-94b4-22e5468dd78c",
   "metadata": {},
   "outputs": [
    {
     "data": {
      "text/plain": [
       "3"
      ]
     },
     "execution_count": 3,
     "metadata": {},
     "output_type": "execute_result"
    }
   ],
   "source": [
    "o.test_customer(7)"
   ]
  },
  {
   "cell_type": "code",
   "execution_count": 4,
   "id": "919d00f5-51aa-4c9f-9d9f-fd4363d84060",
   "metadata": {},
   "outputs": [],
   "source": [
    "class test:\n",
    "    def __init__(self,a , b, c, d):\n",
    "        self.__a=a    # (.__)priviate variable )\n",
    "        self.b=b     # public variables \n",
    "        self.c=c\n",
    "        self.d=d\n",
    "    def test_customer(self , v):\n",
    "        return v - self.__a   # (.__)priviate variable not able to access \n",
    "\n",
    "    def __str__(self):\n",
    "        return \"this is my code for abstraction\""
   ]
  },
  {
   "cell_type": "code",
   "execution_count": 5,
   "id": "d0f4b8eb-9cb5-4fd8-ac43-22cce6ca0189",
   "metadata": {},
   "outputs": [],
   "source": [
    "o = test(4,5,6,7)"
   ]
  },
  {
   "cell_type": "code",
   "execution_count": 6,
   "id": "d040cc44-dce8-474c-9008-5922eae87ae2",
   "metadata": {},
   "outputs": [
    {
     "data": {
      "text/plain": [
       "3"
      ]
     },
     "execution_count": 6,
     "metadata": {},
     "output_type": "execute_result"
    }
   ],
   "source": [
    "o.test_customer(7)"
   ]
  },
  {
   "cell_type": "code",
   "execution_count": 7,
   "id": "9cc0307c-dcea-4b19-8fce-06944a23a336",
   "metadata": {},
   "outputs": [
    {
     "data": {
      "text/plain": [
       "4"
      ]
     },
     "execution_count": 7,
     "metadata": {},
     "output_type": "execute_result"
    }
   ],
   "source": [
    "o._test__a"
   ]
  },
  {
   "cell_type": "code",
   "execution_count": 10,
   "id": "5122fb62-b680-4a4c-967f-bf78188425ff",
   "metadata": {},
   "outputs": [
    {
     "name": "stdout",
     "output_type": "stream",
     "text": [
      "Accessing variable through instance:\n",
      "1\n",
      "2\n",
      "1\n",
      "2\n"
     ]
    }
   ],
   "source": [
    "class MyClass:\n",
    "\n",
    "    def __init__(self):\n",
    "        self.x = 1\n",
    "        self.__y = 2  # (.__)priviate variable\n",
    "\n",
    "    def display(self):\n",
    "        print(self.x)\n",
    "        print(self.__y)\n",
    "\n",
    "# Create an instance of MyClass\n",
    "m = MyClass()\n",
    "\n",
    "print(\"Accessing variable through instance:\")\n",
    "print(m.x)            # This will print 1\n",
    "print(m._MyClass__y)  # This will print 2\n",
    "\n",
    "# Using the display method to print the values\n",
    "m.display()           # This will print 1 and 2"
   ]
  },
  {
   "cell_type": "code",
   "execution_count": 11,
   "id": "9e81ffa3-25cc-4bb7-8580-47036e4e84c3",
   "metadata": {},
   "outputs": [],
   "source": [
    "class student:\n",
    "\n",
    "    def __init__(self):\n",
    "        self.__y=3 # this is private variable "
   ]
  },
  {
   "cell_type": "code",
   "execution_count": 12,
   "id": "fbe88639-1dbd-4e71-a784-77537b8e47f8",
   "metadata": {},
   "outputs": [
    {
     "ename": "AttributeError",
     "evalue": "'MyClass' object has no attribute 'y'",
     "output_type": "error",
     "traceback": [
      "\u001b[1;31m---------------------------------------------------------------------------\u001b[0m",
      "\u001b[1;31mAttributeError\u001b[0m                            Traceback (most recent call last)",
      "Cell \u001b[1;32mIn[12], line 2\u001b[0m\n\u001b[0;32m      1\u001b[0m s \u001b[38;5;241m=\u001b[39m student()\n\u001b[1;32m----> 2\u001b[0m \u001b[38;5;28mprint\u001b[39m(m\u001b[38;5;241m.\u001b[39my)\n",
      "\u001b[1;31mAttributeError\u001b[0m: 'MyClass' object has no attribute 'y'"
     ]
    }
   ],
   "source": [
    "s = student()\n",
    "print(m.y)  "
   ]
  },
  {
   "cell_type": "code",
   "execution_count": 13,
   "id": "866cc119-8000-4068-97d6-0232be044eb4",
   "metadata": {},
   "outputs": [
    {
     "name": "stdout",
     "output_type": "stream",
     "text": [
      "3\n"
     ]
    }
   ],
   "source": [
    "print(s._student__y)  # we can display the private varibles y "
   ]
  },
  {
   "cell_type": "code",
   "execution_count": 15,
   "id": "8957a1ae-45f8-4e3e-8fdf-2baa232aa9e0",
   "metadata": {},
   "outputs": [
    {
     "name": "stdout",
     "output_type": "stream",
     "text": [
      "10\n",
      "20\n",
      "10\n",
      "20\n"
     ]
    }
   ],
   "source": [
    "class MyClass:\n",
    "    # This is the constructor \n",
    "    def __init__(self, a, b):\n",
    "        self.x = a  # public variable\n",
    "        self.__y = b  # private variable \n",
    "\n",
    "    # Instance method to access the variables \n",
    "    def display(self):\n",
    "        print(self.x)  # Accessing public variable directly\n",
    "        print(self.__y)  # Accessing private variable within the class\n",
    "\n",
    "# Create an instance of MyClass with arguments for a and b\n",
    "m = MyClass(10, 20)\n",
    "m.display()\n",
    "\n",
    "# Accessing public variable directly\n",
    "print(m.x)\n",
    "\n",
    "# Accessing private variable using name mangling\n",
    "print(m._MyClass__y)\n"
   ]
  },
  {
   "cell_type": "code",
   "execution_count": 19,
   "id": "3486a4b4-0a82-4971-8107-26f7538d6564",
   "metadata": {},
   "outputs": [],
   "source": [
    "class Bank:\n",
    "    def __init__(self):\n",
    "        self.accno = 10\n",
    "        self.name = \"Bhima\"\n",
    "        self.balence = 15000.00\n",
    "        self.__loan = 15000000.00\n",
    "\n",
    "    def display(self):\n",
    "        print(self.accno)\n",
    "        print(self.name)\n",
    "        print(self.balence)\n",
    "    "
   ]
  },
  {
   "cell_type": "markdown",
   "id": "1f38d7c0-ea38-4236-89ff-2de1c5e5ff9c",
   "metadata": {},
   "source": [
    "# INHERITANCE \n",
    "- Creating new classes from the existing classes, so that the new classes will acquire all the feature of the existing classes is called inheritace\n",
    "- Inheritance is property of the parent class inherit inside the child class "
   ]
  },
  {
   "cell_type": "code",
   "execution_count": 6,
   "id": "231d55d8-c030-4851-b227-65c0b2eb13e0",
   "metadata": {},
   "outputs": [
    {
     "name": "stdout",
     "output_type": "stream",
     "text": [
      "1\n",
      "2\n",
      "3\n"
     ]
    }
   ],
   "source": [
    "# creating class B from class A \n",
    "class A :\n",
    "    a = 1\n",
    "    b = 2\n",
    "\n",
    "    def method1(cls):\n",
    "        print(cls.a)\n",
    "        print(cls.b)\n",
    "    \n",
    "class B(A):\n",
    "    c = 3\n",
    "    def method2(cls):\n",
    "        print(cls.c)\n",
    "\n",
    "\n",
    "b = B()\n",
    "b.method1()\n",
    "b.method2()\n"
   ]
  },
  {
   "cell_type": "code",
   "execution_count": 5,
   "id": "efbc1e0e-e692-40d0-980e-9b76c226dc07",
   "metadata": {},
   "outputs": [
    {
     "name": "stdout",
     "output_type": "stream",
     "text": [
      "sparrow chirping\n",
      "Bird specking\n"
     ]
    }
   ],
   "source": [
    "class Bird:\n",
    "    def speak(self):\n",
    "        print(\"Bird specking\")\n",
    "\n",
    "class sparrow(Bird):\n",
    "    def chirp(self):\n",
    "        print(\"sparrow chirping\")\n",
    "\n",
    "\n",
    "sp = sparrow()\n",
    "sp.chirp()\n",
    "sp.speak()"
   ]
  },
  {
   "cell_type": "code",
   "execution_count": 10,
   "id": "b5315cc4-b5f1-4336-aa62-fe299e508e1e",
   "metadata": {},
   "outputs": [],
   "source": [
    "class test:\n",
    "    def __init__(self, a, b, c, d):\n",
    "        self.__a = a\n",
    "        self.b = b\n",
    "        self.c = c\n",
    "        self.d = d\n",
    "    def test_custome(self , v):\n",
    "        return v - self.__a\n",
    "\n",
    "    def __str__(self):\n",
    "        return \"this is my test code for abstraction\" \n",
    "\n",
    "\n",
    "o = test(4,5,6,7)\n"
   ]
  },
  {
   "cell_type": "code",
   "execution_count": 11,
   "id": "3cbc2c07-500a-44b9-bb23-14b2503231af",
   "metadata": {},
   "outputs": [
    {
     "data": {
      "text/plain": [
       "3"
      ]
     },
     "execution_count": 11,
     "metadata": {},
     "output_type": "execute_result"
    }
   ],
   "source": [
    "o.test_custome(7)"
   ]
  },
  {
   "cell_type": "code",
   "execution_count": 12,
   "id": "5ad0c058-b625-4c3d-a4b8-0418374f60a1",
   "metadata": {},
   "outputs": [
    {
     "data": {
      "text/plain": [
       "4"
      ]
     },
     "execution_count": 12,
     "metadata": {},
     "output_type": "execute_result"
    }
   ],
   "source": [
    "o._test__a"
   ]
  },
  {
   "cell_type": "code",
   "execution_count": 17,
   "id": "1c335ab0-921b-4f08-943f-481543b70299",
   "metadata": {},
   "outputs": [],
   "source": [
    "class test1(test):\n",
    "    def __init__(self, j , *args):\n",
    "        super(test1,self).__init__(*args) # super is function \n",
    "        self.j = j\n",
    "\n",
    "m = test1(4, 5, 6, 7, 8)\n"
   ]
  },
  {
   "cell_type": "code",
   "execution_count": 18,
   "id": "54739668-0270-4a23-b6f5-ce530575c3c4",
   "metadata": {},
   "outputs": [
    {
     "data": {
      "text/plain": [
       "4"
      ]
     },
     "execution_count": 18,
     "metadata": {},
     "output_type": "execute_result"
    }
   ],
   "source": [
    "m.j"
   ]
  },
  {
   "cell_type": "code",
   "execution_count": 19,
   "id": "c4afcefc-857a-448c-a61b-4bce2bf23638",
   "metadata": {},
   "outputs": [
    {
     "data": {
      "text/plain": [
       "6"
      ]
     },
     "execution_count": 19,
     "metadata": {},
     "output_type": "execute_result"
    }
   ],
   "source": [
    "m.b"
   ]
  },
  {
   "cell_type": "code",
   "execution_count": 25,
   "id": "c99ae8de-c493-4e09-86de-12c0bd81a6fb",
   "metadata": {},
   "outputs": [
    {
     "data": {
      "text/plain": [
       "3"
      ]
     },
     "execution_count": 25,
     "metadata": {},
     "output_type": "execute_result"
    }
   ],
   "source": [
    "m.test_custome(8)"
   ]
  },
  {
   "cell_type": "code",
   "execution_count": 26,
   "id": "7a60600b-ab0c-4866-8d97-eb44a5f06e0d",
   "metadata": {},
   "outputs": [
    {
     "data": {
      "text/plain": [
       "7"
      ]
     },
     "execution_count": 26,
     "metadata": {},
     "output_type": "execute_result"
    }
   ],
   "source": [
    "m.c"
   ]
  },
  {
   "cell_type": "code",
   "execution_count": 27,
   "id": "7b9b986b-5fac-486c-b3aa-7291bcb57ee8",
   "metadata": {},
   "outputs": [
    {
     "data": {
      "text/plain": [
       "8"
      ]
     },
     "execution_count": 27,
     "metadata": {},
     "output_type": "execute_result"
    }
   ],
   "source": [
    "m.d"
   ]
  },
  {
   "cell_type": "code",
   "execution_count": 29,
   "id": "b0454e16-e63b-4a2e-b428-fbad9b02846a",
   "metadata": {},
   "outputs": [
    {
     "name": "stdout",
     "output_type": "stream",
     "text": [
      "Grandfather specking\n",
      "father sleeping\n",
      "Eating bread\n"
     ]
    }
   ],
   "source": [
    "class Grandfather:\n",
    "    def speak(self):\n",
    "        print(\"Grandfather specking\")\n",
    "\n",
    "class father(Grandfather):\n",
    "    def sleep(self):\n",
    "        print(\"father sleeping\")\n",
    "\n",
    "class child(father):\n",
    "    def eat(self):\n",
    "        print(\"Eating bread\")\n",
    "\n",
    "\n",
    "ch = child()\n",
    "ch.speak()\n",
    "ch.sleep()\n",
    "ch.eat()"
   ]
  },
  {
   "cell_type": "code",
   "execution_count": 30,
   "id": "133affd7-1e23-4794-8603-312e1929c639",
   "metadata": {},
   "outputs": [
    {
     "name": "stdout",
     "output_type": "stream",
     "text": [
      "function a from class test\n",
      "function from class test1\n"
     ]
    }
   ],
   "source": [
    "class test:\n",
    "\n",
    "    def a(self):\n",
    "        print('function a from class test')\n",
    "\n",
    "class test1:\n",
    "    def a(self):\n",
    "        print(\"function from class test1\")\n",
    "\n",
    "class test2(test,test1):\n",
    "    def a(self):\n",
    "        test.a(self)\n",
    "        test1.a(self)\n",
    "\n",
    "\n",
    "t = test2()\n",
    "t.a()\n",
    "              "
   ]
  },
  {
   "cell_type": "code",
   "execution_count": 34,
   "id": "153ab701-0103-4249-b27d-326e348d8c0d",
   "metadata": {},
   "outputs": [
    {
     "name": "stdout",
     "output_type": "stream",
     "text": [
      "35\n",
      "12\n",
      "2.0\n"
     ]
    }
   ],
   "source": [
    "class calculation1:\n",
    "    def summation(self, a, b):\n",
    "        return a + b\n",
    "\n",
    "class calculation2:\n",
    "    def multiplication(self, a, b):\n",
    "        return a * b\n",
    "\n",
    "class calculation3:\n",
    "    def divide(self, a, b):\n",
    "        return a / b\n",
    "\n",
    "class derived(calculation1, calculation2, calculation3):\n",
    "    pass\n",
    "\n",
    "d = derived()\n",
    "print(d.summation(10, 25))\n",
    "print(d.multiplication(3, 4))\n",
    "print(d.divide(10, 5))\n",
    "    "
   ]
  },
  {
   "cell_type": "code",
   "execution_count": 37,
   "id": "63692597-0c20-4e67-8bb2-a22dbc80ade6",
   "metadata": {},
   "outputs": [
    {
     "name": "stdout",
     "output_type": "stream",
     "text": [
      "iNeuron Company was established in 2018\n"
     ]
    }
   ],
   "source": [
    "class Ineuron:\n",
    "    company_website = 'https://ineuron.ai/'\n",
    "    name = 'iNeuron'\n",
    "\n",
    "    def contact_details(self):\n",
    "        print(\"Contact them at\",self.company_website)\n",
    "\n",
    "class Datascience(Ineuron):\n",
    "    def __init__(self):\n",
    "        self.year_of_establishment=2018 \n",
    "        \n",
    "    def est_details(self):\n",
    "         print('{0} Company was established in {1}'\n",
    "                  .format(self.name,self.year_of_establishment))\n",
    "\n",
    "ds = Datascience()\n",
    "ds.est_details()\n",
    "    "
   ]
  },
  {
   "cell_type": "code",
   "execution_count": 38,
   "id": "a9306e9b-85fb-47c2-9ccd-50f03f2a8c5c",
   "metadata": {},
   "outputs": [
    {
     "name": "stdout",
     "output_type": "stream",
     "text": [
      "multi_task\n",
      "Name:iNeuron\n"
     ]
    }
   ],
   "source": [
    "class OS:\n",
    "    multi_task = True\n",
    "    os_name =\"Window OS\"\n",
    "\n",
    "class windows(OS, Ineuron):\n",
    "    def __init__(self):\n",
    "        if self.multi_task is True:\n",
    "            print('multi_task')\n",
    "        print(\"Name:{}\".format(self.name))\n",
    "\n",
    "window = windows()\n",
    "    "
   ]
  },
  {
   "cell_type": "code",
   "execution_count": 39,
   "id": "b081bd0f-b0e3-49f9-9d2e-9ae0e3e19157",
   "metadata": {},
   "outputs": [
    {
     "name": "stdout",
     "output_type": "stream",
     "text": [
      "multi_task\n",
      "Name:Krish\n"
     ]
    }
   ],
   "source": [
    "class OS:\n",
    "    multi_task = True\n",
    "    os_name =\"Window OS\"\n",
    "    name = \"Krish\"\n",
    "class windows(OS, Ineuron):\n",
    "    def __init__(self):\n",
    "        if self.multi_task is True:\n",
    "            print('multi_task')\n",
    "        print(\"Name:{}\".format(self.name))\n",
    "\n",
    "window = windows()\n",
    "    "
   ]
  },
  {
   "cell_type": "code",
   "execution_count": 40,
   "id": "93377bc2-7dda-4633-9c29-b2157644ace1",
   "metadata": {},
   "outputs": [
    {
     "name": "stdout",
     "output_type": "stream",
     "text": [
      "multi_task\n",
      "Name:iNeuron\n"
     ]
    }
   ],
   "source": [
    "class OS:\n",
    "    multi_task = True\n",
    "    os_name =\"Window OS\"\n",
    "    name = \"Krish\"\n",
    "class windows(Ineuron , OS ):\n",
    "    def __init__(self):\n",
    "        if self.multi_task is True:\n",
    "            print('multi_task')\n",
    "        print(\"Name:{}\".format(self.name))\n",
    "\n",
    "window = windows()"
   ]
  },
  {
   "cell_type": "code",
   "execution_count": 44,
   "id": "cd8f7cbe-982c-4201-b19b-a7c4682b3c85",
   "metadata": {},
   "outputs": [
    {
     "name": "stdout",
     "output_type": "stream",
     "text": [
      "The company {0} offers total {1} diffrent types of cources. Most of trending in world\n"
     ]
    }
   ],
   "source": [
    "class iNeuron:\n",
    "    num_of_courses = 250\n",
    "\n",
    "class Datascience(iNeuron):\n",
    "    course_type = \"Data-Science\"\n",
    "\n",
    "class AI(Datascience):\n",
    "    def __init__(self):\n",
    "        self.company = 'iNeuron'\n",
    "        print(\"The company {0} offers total {1} diffrent types of cources. Most of trending in world\")\n",
    "\n",
    "AI = AI()"
   ]
  },
  {
   "cell_type": "markdown",
   "id": "18e7fd67-9a06-4883-9092-66d30544ed05",
   "metadata": {},
   "source": [
    "# Encapsulation \n",
    "- It is nothing but writing attributes (varible) and methods inside a class data and code are bounded up together in the class.\n",
    "- Encapsulation is a mechanisum where varible and method that act on the data & will bind together "
   ]
  },
  {
   "cell_type": "code",
   "execution_count": 48,
   "id": "009e6a97-c01d-4d86-ab29-a0bbedb1ba17",
   "metadata": {},
   "outputs": [
    {
     "name": "stdout",
     "output_type": "stream",
     "text": [
      "this is a print from class: test(a=4, b=5, c=6) test1(a=3, b=4, c=5) this is return from my test2 class\n"
     ]
    }
   ],
   "source": [
    "class test:\n",
    "    def __init__(self, a, b, c):\n",
    "        self.a = a\n",
    "        self.b = b\n",
    "        self.c = c\n",
    "\n",
    "    def __str__(self):\n",
    "        return f\"test(a={self.a}, b={self.b}, c={self.c})\"\n",
    "\n",
    "class test1:\n",
    "    def __init__(self, a, b, c):\n",
    "        self.a = a\n",
    "        self.b = b\n",
    "        self.c = c\n",
    "\n",
    "    def __str__(self):\n",
    "        return f\"test1(a={self.a}, b={self.b}, c={self.c})\"\n",
    "\n",
    "class test2:\n",
    "    def __init__(self, a, b, c):\n",
    "        self.a = a\n",
    "        self.b = b\n",
    "        self.c = c\n",
    "\n",
    "    def __str__(self):\n",
    "        return \"this is return from my test2 class\"\n",
    "\n",
    "class final:\n",
    "    def __init__(self, test, test1, test2):\n",
    "        self.test = test\n",
    "        self.test1 = test1\n",
    "        self.test2 = test2\n",
    "\n",
    "    def __str__(self):\n",
    "        return \"this is a print from class: \" + str(self.test) + \" \" + str(self.test1) + \" \" + str(self.test2)\n",
    "\n",
    "t = test(4, 5, 6)\n",
    "t1 = test1(3, 4, 5)\n",
    "t2 = test2(5, 6, 7)\n",
    "f = final(t, t1, t2)\n",
    "\n",
    "print(f)\n"
   ]
  },
  {
   "cell_type": "code",
   "execution_count": 49,
   "id": "013a2026-25d6-4d6f-ad6d-7270fc14400e",
   "metadata": {},
   "outputs": [],
   "source": [
    "class student:\n",
    "    def __init__(self):\n",
    "        self.id = 10\n",
    "        self.name =\"Bhim\"\n",
    "\n",
    "    def display (self):\n",
    "        print(self.id)\n",
    "        print(self.name)"
   ]
  },
  {
   "cell_type": "code",
   "execution_count": 50,
   "id": "1af67c82-3c62-4db9-ba6e-a4bcb7ed6ac7",
   "metadata": {},
   "outputs": [],
   "source": [
    "s = student()"
   ]
  },
  {
   "cell_type": "markdown",
   "id": "1ffd3a7a-3b6e-44be-adbb-3db72c8c5481",
   "metadata": {},
   "source": [
    "# Pandas"
   ]
  },
  {
   "cell_type": "code",
   "execution_count": 2,
   "id": "c6ecb740-5a0e-4b37-a257-999bb124e9b9",
   "metadata": {},
   "outputs": [],
   "source": [
    "import pandas as pd"
   ]
  },
  {
   "cell_type": "code",
   "execution_count": 15,
   "id": "a05b1378-4186-4476-913a-ecee6f9837e4",
   "metadata": {},
   "outputs": [],
   "source": [
    "file =pd.read_csv(\"Telecom_customer_churn.csv\")"
   ]
  },
  {
   "cell_type": "code",
   "execution_count": 16,
   "id": "e6f2f313-1072-4349-b324-83bc86d2845c",
   "metadata": {},
   "outputs": [],
   "source": [
    "file_path=pd.read_csv(r\"C:\\Users\\bhimr\\OneDrive\\Desktop\\Telecom_customer_churn.csv\")"
   ]
  },
  {
   "cell_type": "code",
   "execution_count": 17,
   "id": "74c0c8bf-58c0-4eca-824f-10f017d95e55",
   "metadata": {},
   "outputs": [],
   "source": [
    "file2=pd.read_excel(\"Book1.xlsx\")"
   ]
  },
  {
   "cell_type": "code",
   "execution_count": 18,
   "id": "854b1fc8-6d5b-424a-8ff7-289ef15a3044",
   "metadata": {},
   "outputs": [],
   "source": [
    "# file path \n",
    "file_path2=pd.read_excel(r\"C:\\Users\\bhimr\\OneDrive\\Desktop\\Book1.xlsx\")"
   ]
  },
  {
   "cell_type": "code",
   "execution_count": 19,
   "id": "c337a8f2-941a-4b1b-b1bc-c07729e2ebe6",
   "metadata": {},
   "outputs": [
    {
     "data": {
      "text/html": [
       "<div>\n",
       "<style scoped>\n",
       "    .dataframe tbody tr th:only-of-type {\n",
       "        vertical-align: middle;\n",
       "    }\n",
       "\n",
       "    .dataframe tbody tr th {\n",
       "        vertical-align: top;\n",
       "    }\n",
       "\n",
       "    .dataframe thead th {\n",
       "        text-align: right;\n",
       "    }\n",
       "</style>\n",
       "<table border=\"1\" class=\"dataframe\">\n",
       "  <thead>\n",
       "    <tr style=\"text-align: right;\">\n",
       "      <th></th>\n",
       "      <th>customerID</th>\n",
       "      <th>gender</th>\n",
       "      <th>SeniorCitizen</th>\n",
       "      <th>Partner</th>\n",
       "      <th>Dependents</th>\n",
       "      <th>tenure</th>\n",
       "      <th>PhoneService</th>\n",
       "      <th>MultipleLines</th>\n",
       "      <th>InternetService</th>\n",
       "      <th>OnlineSecurity</th>\n",
       "      <th>...</th>\n",
       "      <th>DeviceProtection</th>\n",
       "      <th>TechSupport</th>\n",
       "      <th>StreamingTV</th>\n",
       "      <th>StreamingMovies</th>\n",
       "      <th>Contract</th>\n",
       "      <th>PaperlessBilling</th>\n",
       "      <th>PaymentMethod</th>\n",
       "      <th>MonthlyCharges</th>\n",
       "      <th>TotalCharges</th>\n",
       "      <th>Churn</th>\n",
       "    </tr>\n",
       "  </thead>\n",
       "  <tbody>\n",
       "    <tr>\n",
       "      <th>0</th>\n",
       "      <td>7590-VHVEG</td>\n",
       "      <td>Female</td>\n",
       "      <td>0</td>\n",
       "      <td>Yes</td>\n",
       "      <td>No</td>\n",
       "      <td>1</td>\n",
       "      <td>No</td>\n",
       "      <td>No phone service</td>\n",
       "      <td>DSL</td>\n",
       "      <td>No</td>\n",
       "      <td>...</td>\n",
       "      <td>No</td>\n",
       "      <td>No</td>\n",
       "      <td>No</td>\n",
       "      <td>No</td>\n",
       "      <td>Month-to-month</td>\n",
       "      <td>Yes</td>\n",
       "      <td>Electronic check</td>\n",
       "      <td>29.85</td>\n",
       "      <td>29.85</td>\n",
       "      <td>No</td>\n",
       "    </tr>\n",
       "    <tr>\n",
       "      <th>1</th>\n",
       "      <td>5575-GNVDE</td>\n",
       "      <td>Male</td>\n",
       "      <td>0</td>\n",
       "      <td>No</td>\n",
       "      <td>No</td>\n",
       "      <td>34</td>\n",
       "      <td>Yes</td>\n",
       "      <td>No</td>\n",
       "      <td>DSL</td>\n",
       "      <td>Yes</td>\n",
       "      <td>...</td>\n",
       "      <td>Yes</td>\n",
       "      <td>No</td>\n",
       "      <td>No</td>\n",
       "      <td>No</td>\n",
       "      <td>One year</td>\n",
       "      <td>No</td>\n",
       "      <td>Mailed check</td>\n",
       "      <td>56.95</td>\n",
       "      <td>1889.5</td>\n",
       "      <td>No</td>\n",
       "    </tr>\n",
       "  </tbody>\n",
       "</table>\n",
       "<p>2 rows × 21 columns</p>\n",
       "</div>"
      ],
      "text/plain": [
       "   customerID  gender  SeniorCitizen Partner Dependents  tenure PhoneService  \\\n",
       "0  7590-VHVEG  Female              0     Yes         No       1           No   \n",
       "1  5575-GNVDE    Male              0      No         No      34          Yes   \n",
       "\n",
       "      MultipleLines InternetService OnlineSecurity  ... DeviceProtection  \\\n",
       "0  No phone service             DSL             No  ...               No   \n",
       "1                No             DSL            Yes  ...              Yes   \n",
       "\n",
       "  TechSupport StreamingTV StreamingMovies        Contract PaperlessBilling  \\\n",
       "0          No          No              No  Month-to-month              Yes   \n",
       "1          No          No              No        One year               No   \n",
       "\n",
       "      PaymentMethod MonthlyCharges  TotalCharges Churn  \n",
       "0  Electronic check          29.85         29.85    No  \n",
       "1      Mailed check          56.95        1889.5    No  \n",
       "\n",
       "[2 rows x 21 columns]"
      ]
     },
     "execution_count": 19,
     "metadata": {},
     "output_type": "execute_result"
    }
   ],
   "source": [
    "file.head(2)"
   ]
  },
  {
   "cell_type": "code",
   "execution_count": 20,
   "id": "ec85ca11-03d8-41cb-b015-21fca7661e08",
   "metadata": {},
   "outputs": [
    {
     "data": {
      "text/html": [
       "<div>\n",
       "<style scoped>\n",
       "    .dataframe tbody tr th:only-of-type {\n",
       "        vertical-align: middle;\n",
       "    }\n",
       "\n",
       "    .dataframe tbody tr th {\n",
       "        vertical-align: top;\n",
       "    }\n",
       "\n",
       "    .dataframe thead th {\n",
       "        text-align: right;\n",
       "    }\n",
       "</style>\n",
       "<table border=\"1\" class=\"dataframe\">\n",
       "  <thead>\n",
       "    <tr style=\"text-align: right;\">\n",
       "      <th></th>\n",
       "      <th>customerID</th>\n",
       "      <th>gender</th>\n",
       "      <th>SeniorCitizen</th>\n",
       "      <th>Partner</th>\n",
       "      <th>Dependents</th>\n",
       "      <th>tenure</th>\n",
       "      <th>PhoneService</th>\n",
       "      <th>MultipleLines</th>\n",
       "      <th>InternetService</th>\n",
       "      <th>OnlineSecurity</th>\n",
       "      <th>...</th>\n",
       "      <th>DeviceProtection</th>\n",
       "      <th>TechSupport</th>\n",
       "      <th>StreamingTV</th>\n",
       "      <th>StreamingMovies</th>\n",
       "      <th>Contract</th>\n",
       "      <th>PaperlessBilling</th>\n",
       "      <th>PaymentMethod</th>\n",
       "      <th>MonthlyCharges</th>\n",
       "      <th>TotalCharges</th>\n",
       "      <th>Churn</th>\n",
       "    </tr>\n",
       "  </thead>\n",
       "  <tbody>\n",
       "    <tr>\n",
       "      <th>0</th>\n",
       "      <td>7590-VHVEG</td>\n",
       "      <td>Female</td>\n",
       "      <td>0</td>\n",
       "      <td>Yes</td>\n",
       "      <td>No</td>\n",
       "      <td>1</td>\n",
       "      <td>No</td>\n",
       "      <td>No phone service</td>\n",
       "      <td>DSL</td>\n",
       "      <td>No</td>\n",
       "      <td>...</td>\n",
       "      <td>No</td>\n",
       "      <td>No</td>\n",
       "      <td>No</td>\n",
       "      <td>No</td>\n",
       "      <td>Month-to-month</td>\n",
       "      <td>Yes</td>\n",
       "      <td>Electronic check</td>\n",
       "      <td>29.85</td>\n",
       "      <td>29.85</td>\n",
       "      <td>No</td>\n",
       "    </tr>\n",
       "    <tr>\n",
       "      <th>1</th>\n",
       "      <td>5575-GNVDE</td>\n",
       "      <td>Male</td>\n",
       "      <td>0</td>\n",
       "      <td>No</td>\n",
       "      <td>No</td>\n",
       "      <td>34</td>\n",
       "      <td>Yes</td>\n",
       "      <td>No</td>\n",
       "      <td>DSL</td>\n",
       "      <td>Yes</td>\n",
       "      <td>...</td>\n",
       "      <td>Yes</td>\n",
       "      <td>No</td>\n",
       "      <td>No</td>\n",
       "      <td>No</td>\n",
       "      <td>One year</td>\n",
       "      <td>No</td>\n",
       "      <td>Mailed check</td>\n",
       "      <td>56.95</td>\n",
       "      <td>1889.5</td>\n",
       "      <td>No</td>\n",
       "    </tr>\n",
       "  </tbody>\n",
       "</table>\n",
       "<p>2 rows × 21 columns</p>\n",
       "</div>"
      ],
      "text/plain": [
       "   customerID  gender  SeniorCitizen Partner Dependents  tenure PhoneService  \\\n",
       "0  7590-VHVEG  Female              0     Yes         No       1           No   \n",
       "1  5575-GNVDE    Male              0      No         No      34          Yes   \n",
       "\n",
       "      MultipleLines InternetService OnlineSecurity  ... DeviceProtection  \\\n",
       "0  No phone service             DSL             No  ...               No   \n",
       "1                No             DSL            Yes  ...              Yes   \n",
       "\n",
       "  TechSupport StreamingTV StreamingMovies        Contract PaperlessBilling  \\\n",
       "0          No          No              No  Month-to-month              Yes   \n",
       "1          No          No              No        One year               No   \n",
       "\n",
       "      PaymentMethod MonthlyCharges  TotalCharges Churn  \n",
       "0  Electronic check          29.85         29.85    No  \n",
       "1      Mailed check          56.95        1889.5    No  \n",
       "\n",
       "[2 rows x 21 columns]"
      ]
     },
     "execution_count": 20,
     "metadata": {},
     "output_type": "execute_result"
    }
   ],
   "source": [
    "file_path.head(2)"
   ]
  },
  {
   "cell_type": "code",
   "execution_count": 21,
   "id": "52c8f639-f975-4056-b74e-d2c397d97a24",
   "metadata": {},
   "outputs": [
    {
     "data": {
      "text/html": [
       "<div>\n",
       "<style scoped>\n",
       "    .dataframe tbody tr th:only-of-type {\n",
       "        vertical-align: middle;\n",
       "    }\n",
       "\n",
       "    .dataframe tbody tr th {\n",
       "        vertical-align: top;\n",
       "    }\n",
       "\n",
       "    .dataframe thead th {\n",
       "        text-align: right;\n",
       "    }\n",
       "</style>\n",
       "<table border=\"1\" class=\"dataframe\">\n",
       "  <thead>\n",
       "    <tr style=\"text-align: right;\">\n",
       "      <th></th>\n",
       "      <th>ROLL NO</th>\n",
       "      <th>1</th>\n",
       "      <th>2</th>\n",
       "      <th>3</th>\n",
       "      <th>4</th>\n",
       "      <th>5</th>\n",
       "      <th>6</th>\n",
       "      <th>7</th>\n",
       "      <th>8</th>\n",
       "      <th>9</th>\n",
       "      <th>...</th>\n",
       "      <th>23</th>\n",
       "      <th>24</th>\n",
       "      <th>25</th>\n",
       "      <th>26</th>\n",
       "      <th>27</th>\n",
       "      <th>28</th>\n",
       "      <th>29</th>\n",
       "      <th>30</th>\n",
       "      <th>PDAY</th>\n",
       "      <th>ADAY</th>\n",
       "    </tr>\n",
       "  </thead>\n",
       "  <tbody>\n",
       "    <tr>\n",
       "      <th>0</th>\n",
       "      <td>1</td>\n",
       "      <td>P</td>\n",
       "      <td>P</td>\n",
       "      <td>P</td>\n",
       "      <td>P</td>\n",
       "      <td>P</td>\n",
       "      <td>P</td>\n",
       "      <td>A</td>\n",
       "      <td>P</td>\n",
       "      <td>P</td>\n",
       "      <td>...</td>\n",
       "      <td>A</td>\n",
       "      <td>P</td>\n",
       "      <td>P</td>\n",
       "      <td>P</td>\n",
       "      <td>P</td>\n",
       "      <td>P</td>\n",
       "      <td>P</td>\n",
       "      <td>P</td>\n",
       "      <td>26</td>\n",
       "      <td>4</td>\n",
       "    </tr>\n",
       "    <tr>\n",
       "      <th>1</th>\n",
       "      <td>2</td>\n",
       "      <td>P</td>\n",
       "      <td>P</td>\n",
       "      <td>P</td>\n",
       "      <td>A</td>\n",
       "      <td>P</td>\n",
       "      <td>P</td>\n",
       "      <td>P</td>\n",
       "      <td>P</td>\n",
       "      <td>P</td>\n",
       "      <td>...</td>\n",
       "      <td>P</td>\n",
       "      <td>P</td>\n",
       "      <td>P</td>\n",
       "      <td>A</td>\n",
       "      <td>P</td>\n",
       "      <td>P</td>\n",
       "      <td>P</td>\n",
       "      <td>P</td>\n",
       "      <td>27</td>\n",
       "      <td>3</td>\n",
       "    </tr>\n",
       "  </tbody>\n",
       "</table>\n",
       "<p>2 rows × 33 columns</p>\n",
       "</div>"
      ],
      "text/plain": [
       "   ROLL NO  1  2  3  4  5  6  7  8  9  ... 23 24 25 26 27 28 29 30 PDAY ADAY\n",
       "0        1  P  P  P  P  P  P  A  P  P  ...  A  P  P  P  P  P  P  P   26    4\n",
       "1        2  P  P  P  A  P  P  P  P  P  ...  P  P  P  A  P  P  P  P   27    3\n",
       "\n",
       "[2 rows x 33 columns]"
      ]
     },
     "execution_count": 21,
     "metadata": {},
     "output_type": "execute_result"
    }
   ],
   "source": [
    "file2.head(2)"
   ]
  },
  {
   "cell_type": "code",
   "execution_count": 22,
   "id": "a3ea3a3b-5091-4236-ae10-9dd756b881a4",
   "metadata": {},
   "outputs": [
    {
     "data": {
      "text/html": [
       "<div>\n",
       "<style scoped>\n",
       "    .dataframe tbody tr th:only-of-type {\n",
       "        vertical-align: middle;\n",
       "    }\n",
       "\n",
       "    .dataframe tbody tr th {\n",
       "        vertical-align: top;\n",
       "    }\n",
       "\n",
       "    .dataframe thead th {\n",
       "        text-align: right;\n",
       "    }\n",
       "</style>\n",
       "<table border=\"1\" class=\"dataframe\">\n",
       "  <thead>\n",
       "    <tr style=\"text-align: right;\">\n",
       "      <th></th>\n",
       "      <th>customerID</th>\n",
       "      <th>gender</th>\n",
       "      <th>SeniorCitizen</th>\n",
       "      <th>Partner</th>\n",
       "      <th>Dependents</th>\n",
       "      <th>tenure</th>\n",
       "      <th>PhoneService</th>\n",
       "      <th>MultipleLines</th>\n",
       "      <th>InternetService</th>\n",
       "      <th>OnlineSecurity</th>\n",
       "      <th>...</th>\n",
       "      <th>DeviceProtection</th>\n",
       "      <th>TechSupport</th>\n",
       "      <th>StreamingTV</th>\n",
       "      <th>StreamingMovies</th>\n",
       "      <th>Contract</th>\n",
       "      <th>PaperlessBilling</th>\n",
       "      <th>PaymentMethod</th>\n",
       "      <th>MonthlyCharges</th>\n",
       "      <th>TotalCharges</th>\n",
       "      <th>Churn</th>\n",
       "    </tr>\n",
       "  </thead>\n",
       "  <tbody>\n",
       "    <tr>\n",
       "      <th>0</th>\n",
       "      <td>7590-VHVEG</td>\n",
       "      <td>Female</td>\n",
       "      <td>0</td>\n",
       "      <td>Yes</td>\n",
       "      <td>No</td>\n",
       "      <td>1</td>\n",
       "      <td>No</td>\n",
       "      <td>No phone service</td>\n",
       "      <td>DSL</td>\n",
       "      <td>No</td>\n",
       "      <td>...</td>\n",
       "      <td>No</td>\n",
       "      <td>No</td>\n",
       "      <td>No</td>\n",
       "      <td>No</td>\n",
       "      <td>Month-to-month</td>\n",
       "      <td>Yes</td>\n",
       "      <td>Electronic check</td>\n",
       "      <td>29.85</td>\n",
       "      <td>29.85</td>\n",
       "      <td>No</td>\n",
       "    </tr>\n",
       "    <tr>\n",
       "      <th>1</th>\n",
       "      <td>5575-GNVDE</td>\n",
       "      <td>Male</td>\n",
       "      <td>0</td>\n",
       "      <td>No</td>\n",
       "      <td>No</td>\n",
       "      <td>34</td>\n",
       "      <td>Yes</td>\n",
       "      <td>No</td>\n",
       "      <td>DSL</td>\n",
       "      <td>Yes</td>\n",
       "      <td>...</td>\n",
       "      <td>Yes</td>\n",
       "      <td>No</td>\n",
       "      <td>No</td>\n",
       "      <td>No</td>\n",
       "      <td>One year</td>\n",
       "      <td>No</td>\n",
       "      <td>Mailed check</td>\n",
       "      <td>56.95</td>\n",
       "      <td>1889.5</td>\n",
       "      <td>No</td>\n",
       "    </tr>\n",
       "  </tbody>\n",
       "</table>\n",
       "<p>2 rows × 21 columns</p>\n",
       "</div>"
      ],
      "text/plain": [
       "   customerID  gender  SeniorCitizen Partner Dependents  tenure PhoneService  \\\n",
       "0  7590-VHVEG  Female              0     Yes         No       1           No   \n",
       "1  5575-GNVDE    Male              0      No         No      34          Yes   \n",
       "\n",
       "      MultipleLines InternetService OnlineSecurity  ... DeviceProtection  \\\n",
       "0  No phone service             DSL             No  ...               No   \n",
       "1                No             DSL            Yes  ...              Yes   \n",
       "\n",
       "  TechSupport StreamingTV StreamingMovies        Contract PaperlessBilling  \\\n",
       "0          No          No              No  Month-to-month              Yes   \n",
       "1          No          No              No        One year               No   \n",
       "\n",
       "      PaymentMethod MonthlyCharges  TotalCharges Churn  \n",
       "0  Electronic check          29.85         29.85    No  \n",
       "1      Mailed check          56.95        1889.5    No  \n",
       "\n",
       "[2 rows x 21 columns]"
      ]
     },
     "execution_count": 22,
     "metadata": {},
     "output_type": "execute_result"
    }
   ],
   "source": [
    "file_path.head(2)"
   ]
  },
  {
   "cell_type": "code",
   "execution_count": 23,
   "id": "eced00e9-46ab-452a-a5b7-d940da22c9ba",
   "metadata": {},
   "outputs": [],
   "source": [
    "df = file2"
   ]
  },
  {
   "cell_type": "code",
   "execution_count": 30,
   "id": "64903a91-9219-4d7a-a19d-839d3fb30751",
   "metadata": {},
   "outputs": [
    {
     "data": {
      "text/html": [
       "<div>\n",
       "<style scoped>\n",
       "    .dataframe tbody tr th:only-of-type {\n",
       "        vertical-align: middle;\n",
       "    }\n",
       "\n",
       "    .dataframe tbody tr th {\n",
       "        vertical-align: top;\n",
       "    }\n",
       "\n",
       "    .dataframe thead th {\n",
       "        text-align: right;\n",
       "    }\n",
       "</style>\n",
       "<table border=\"1\" class=\"dataframe\">\n",
       "  <thead>\n",
       "    <tr style=\"text-align: right;\">\n",
       "      <th></th>\n",
       "      <th>ROLL NO</th>\n",
       "      <th>1</th>\n",
       "      <th>2</th>\n",
       "      <th>3</th>\n",
       "      <th>4</th>\n",
       "      <th>5</th>\n",
       "      <th>6</th>\n",
       "      <th>7</th>\n",
       "      <th>8</th>\n",
       "      <th>9</th>\n",
       "      <th>...</th>\n",
       "      <th>23</th>\n",
       "      <th>24</th>\n",
       "      <th>25</th>\n",
       "      <th>26</th>\n",
       "      <th>27</th>\n",
       "      <th>28</th>\n",
       "      <th>29</th>\n",
       "      <th>30</th>\n",
       "      <th>PDAY</th>\n",
       "      <th>ADAY</th>\n",
       "    </tr>\n",
       "  </thead>\n",
       "  <tbody>\n",
       "    <tr>\n",
       "      <th>8</th>\n",
       "      <td>9</td>\n",
       "      <td>P</td>\n",
       "      <td>P</td>\n",
       "      <td>P</td>\n",
       "      <td>P</td>\n",
       "      <td>P</td>\n",
       "      <td>P</td>\n",
       "      <td>A</td>\n",
       "      <td>P</td>\n",
       "      <td>P</td>\n",
       "      <td>...</td>\n",
       "      <td>P</td>\n",
       "      <td>A</td>\n",
       "      <td>P</td>\n",
       "      <td>P</td>\n",
       "      <td>P</td>\n",
       "      <td>P</td>\n",
       "      <td>P</td>\n",
       "      <td>P</td>\n",
       "      <td>25</td>\n",
       "      <td>5</td>\n",
       "    </tr>\n",
       "    <tr>\n",
       "      <th>9</th>\n",
       "      <td>10</td>\n",
       "      <td>P</td>\n",
       "      <td>P</td>\n",
       "      <td>P</td>\n",
       "      <td>P</td>\n",
       "      <td>P</td>\n",
       "      <td>P</td>\n",
       "      <td>P</td>\n",
       "      <td>P</td>\n",
       "      <td>P</td>\n",
       "      <td>...</td>\n",
       "      <td>P</td>\n",
       "      <td>P</td>\n",
       "      <td>P</td>\n",
       "      <td>P</td>\n",
       "      <td>P</td>\n",
       "      <td>P</td>\n",
       "      <td>A</td>\n",
       "      <td>P</td>\n",
       "      <td>28</td>\n",
       "      <td>2</td>\n",
       "    </tr>\n",
       "  </tbody>\n",
       "</table>\n",
       "<p>2 rows × 33 columns</p>\n",
       "</div>"
      ],
      "text/plain": [
       "   ROLL NO  1  2  3  4  5  6  7  8  9  ... 23 24 25 26 27 28 29 30 PDAY ADAY\n",
       "8        9  P  P  P  P  P  P  A  P  P  ...  P  A  P  P  P  P  P  P   25    5\n",
       "9       10  P  P  P  P  P  P  P  P  P  ...  P  P  P  P  P  P  A  P   28    2\n",
       "\n",
       "[2 rows x 33 columns]"
      ]
     },
     "execution_count": 30,
     "metadata": {},
     "output_type": "execute_result"
    }
   ],
   "source": [
    "df.tail(2)"
   ]
  },
  {
   "cell_type": "code",
   "execution_count": 31,
   "id": "01f761cf-ff60-478c-ae31-3eb27185e4f9",
   "metadata": {},
   "outputs": [
    {
     "data": {
      "text/plain": [
       "pandas.core.frame.DataFrame"
      ]
     },
     "execution_count": 31,
     "metadata": {},
     "output_type": "execute_result"
    }
   ],
   "source": [
    "type(df)"
   ]
  },
  {
   "cell_type": "code",
   "execution_count": 33,
   "id": "52d210df-7815-46c6-ac7a-24ada7184202",
   "metadata": {},
   "outputs": [],
   "source": [
    "df1 = df.head(5)"
   ]
  },
  {
   "cell_type": "code",
   "execution_count": 36,
   "id": "0b93d258-2ff7-45e7-92d1-9ed8d8467a3c",
   "metadata": {},
   "outputs": [],
   "source": [
    "# Data store in csv file \n",
    "df1.to_csv(\"test.csv\")"
   ]
  },
  {
   "cell_type": "code",
   "execution_count": 35,
   "id": "f994c711-50b7-4d98-931c-a2450d4dafa4",
   "metadata": {},
   "outputs": [
    {
     "data": {
      "text/html": [
       "<div>\n",
       "<style scoped>\n",
       "    .dataframe tbody tr th:only-of-type {\n",
       "        vertical-align: middle;\n",
       "    }\n",
       "\n",
       "    .dataframe tbody tr th {\n",
       "        vertical-align: top;\n",
       "    }\n",
       "\n",
       "    .dataframe thead th {\n",
       "        text-align: right;\n",
       "    }\n",
       "</style>\n",
       "<table border=\"1\" class=\"dataframe\">\n",
       "  <thead>\n",
       "    <tr style=\"text-align: right;\">\n",
       "      <th></th>\n",
       "      <th>ROLL NO</th>\n",
       "      <th>1</th>\n",
       "      <th>2</th>\n",
       "      <th>3</th>\n",
       "      <th>4</th>\n",
       "      <th>5</th>\n",
       "      <th>6</th>\n",
       "      <th>7</th>\n",
       "      <th>8</th>\n",
       "      <th>9</th>\n",
       "      <th>...</th>\n",
       "      <th>23</th>\n",
       "      <th>24</th>\n",
       "      <th>25</th>\n",
       "      <th>26</th>\n",
       "      <th>27</th>\n",
       "      <th>28</th>\n",
       "      <th>29</th>\n",
       "      <th>30</th>\n",
       "      <th>PDAY</th>\n",
       "      <th>ADAY</th>\n",
       "    </tr>\n",
       "  </thead>\n",
       "  <tbody>\n",
       "    <tr>\n",
       "      <th>0</th>\n",
       "      <td>1</td>\n",
       "      <td>P</td>\n",
       "      <td>P</td>\n",
       "      <td>P</td>\n",
       "      <td>P</td>\n",
       "      <td>P</td>\n",
       "      <td>P</td>\n",
       "      <td>A</td>\n",
       "      <td>P</td>\n",
       "      <td>P</td>\n",
       "      <td>...</td>\n",
       "      <td>A</td>\n",
       "      <td>P</td>\n",
       "      <td>P</td>\n",
       "      <td>P</td>\n",
       "      <td>P</td>\n",
       "      <td>P</td>\n",
       "      <td>P</td>\n",
       "      <td>P</td>\n",
       "      <td>26</td>\n",
       "      <td>4</td>\n",
       "    </tr>\n",
       "    <tr>\n",
       "      <th>1</th>\n",
       "      <td>2</td>\n",
       "      <td>P</td>\n",
       "      <td>P</td>\n",
       "      <td>P</td>\n",
       "      <td>A</td>\n",
       "      <td>P</td>\n",
       "      <td>P</td>\n",
       "      <td>P</td>\n",
       "      <td>P</td>\n",
       "      <td>P</td>\n",
       "      <td>...</td>\n",
       "      <td>P</td>\n",
       "      <td>P</td>\n",
       "      <td>P</td>\n",
       "      <td>A</td>\n",
       "      <td>P</td>\n",
       "      <td>P</td>\n",
       "      <td>P</td>\n",
       "      <td>P</td>\n",
       "      <td>27</td>\n",
       "      <td>3</td>\n",
       "    </tr>\n",
       "    <tr>\n",
       "      <th>2</th>\n",
       "      <td>3</td>\n",
       "      <td>P</td>\n",
       "      <td>P</td>\n",
       "      <td>P</td>\n",
       "      <td>P</td>\n",
       "      <td>P</td>\n",
       "      <td>P</td>\n",
       "      <td>P</td>\n",
       "      <td>P</td>\n",
       "      <td>P</td>\n",
       "      <td>...</td>\n",
       "      <td>P</td>\n",
       "      <td>P</td>\n",
       "      <td>P</td>\n",
       "      <td>P</td>\n",
       "      <td>P</td>\n",
       "      <td>P</td>\n",
       "      <td>P</td>\n",
       "      <td>P</td>\n",
       "      <td>28</td>\n",
       "      <td>2</td>\n",
       "    </tr>\n",
       "    <tr>\n",
       "      <th>3</th>\n",
       "      <td>4</td>\n",
       "      <td>P</td>\n",
       "      <td>P</td>\n",
       "      <td>P</td>\n",
       "      <td>P</td>\n",
       "      <td>A</td>\n",
       "      <td>P</td>\n",
       "      <td>P</td>\n",
       "      <td>P</td>\n",
       "      <td>P</td>\n",
       "      <td>...</td>\n",
       "      <td>P</td>\n",
       "      <td>A</td>\n",
       "      <td>P</td>\n",
       "      <td>P</td>\n",
       "      <td>P</td>\n",
       "      <td>A</td>\n",
       "      <td>P</td>\n",
       "      <td>P</td>\n",
       "      <td>25</td>\n",
       "      <td>5</td>\n",
       "    </tr>\n",
       "    <tr>\n",
       "      <th>4</th>\n",
       "      <td>5</td>\n",
       "      <td>P</td>\n",
       "      <td>A</td>\n",
       "      <td>P</td>\n",
       "      <td>P</td>\n",
       "      <td>P</td>\n",
       "      <td>P</td>\n",
       "      <td>P</td>\n",
       "      <td>P</td>\n",
       "      <td>P</td>\n",
       "      <td>...</td>\n",
       "      <td>P</td>\n",
       "      <td>P</td>\n",
       "      <td>P</td>\n",
       "      <td>P</td>\n",
       "      <td>P</td>\n",
       "      <td>P</td>\n",
       "      <td>P</td>\n",
       "      <td>P</td>\n",
       "      <td>28</td>\n",
       "      <td>2</td>\n",
       "    </tr>\n",
       "  </tbody>\n",
       "</table>\n",
       "<p>5 rows × 33 columns</p>\n",
       "</div>"
      ],
      "text/plain": [
       "   ROLL NO  1  2  3  4  5  6  7  8  9  ... 23 24 25 26 27 28 29 30 PDAY ADAY\n",
       "0        1  P  P  P  P  P  P  A  P  P  ...  A  P  P  P  P  P  P  P   26    4\n",
       "1        2  P  P  P  A  P  P  P  P  P  ...  P  P  P  A  P  P  P  P   27    3\n",
       "2        3  P  P  P  P  P  P  P  P  P  ...  P  P  P  P  P  P  P  P   28    2\n",
       "3        4  P  P  P  P  A  P  P  P  P  ...  P  A  P  P  P  A  P  P   25    5\n",
       "4        5  P  A  P  P  P  P  P  P  P  ...  P  P  P  P  P  P  P  P   28    2\n",
       "\n",
       "[5 rows x 33 columns]"
      ]
     },
     "execution_count": 35,
     "metadata": {},
     "output_type": "execute_result"
    }
   ],
   "source": [
    "df1"
   ]
  },
  {
   "cell_type": "code",
   "execution_count": 37,
   "id": "e3bd1b5e-fc25-41f9-b678-3cfb1058ca79",
   "metadata": {},
   "outputs": [
    {
     "data": {
      "text/plain": [
       "'C:\\\\Users\\\\bhimr'"
      ]
     },
     "execution_count": 37,
     "metadata": {},
     "output_type": "execute_result"
    }
   ],
   "source": [
    "pwd() # checking file path "
   ]
  },
  {
   "cell_type": "code",
   "execution_count": 39,
   "id": "44b2bd72-9a6b-4f33-89b9-95026a9c8de4",
   "metadata": {},
   "outputs": [
    {
     "name": "stdout",
     "output_type": "stream",
     "text": [
      " Hands on NLP (Data trends) .ipynb\n",
      " KNeighborsClassifier CODE.ipynb\n",
      "100 Day python .ipynb\n",
      "3D Objects\n",
      "AUC an ROC CURVE  CODE.ipynb\n",
      "Advance Python .ipynb\n",
      "AgglomerativeClustering Codes .ipynb\n",
      "All Regression.ipynb\n",
      "All practise on Iris data set .ipynb\n",
      "Amazon_Alexa_reviews .ipynb\n",
      "AppData\n",
      "Application Data\n",
      "Assignment on web scraping  .ipynb\n",
      "Assignments-1   Python .ipynb\n",
      "Bank Marketing\n",
      "Base ball case study .ipynb\n",
      "Baseball Case Study.ipynb\n",
      "Bhimrao\n",
      "Book1.xlsx\n",
      "Boston housing.csv\n",
      "Break count in python.ipynb\n",
      "CLASSIFICATION    Classifiers   iris dataset .ipynb\n",
      "Calculation.py\n",
      "Calculation.py.ipynb\n",
      "Concrete_Data.csv\n",
      "Contacts\n",
      "Cookies\n",
      "Core Python Programs .ipynb\n",
      "DBSCAN clustering code.ipynb\n",
      "DT Classification with Post Pruning pre pruning. (iris dataset) .ipynb\n",
      "DT Regression with Cross validation (boston dataset) .ipynb\n",
      "Data Science Numpy 1.ipynb\n",
      "Data Science PANDAS.ipynb\n",
      "Data Structures in python .ipynb\n",
      "Data_Test.xlsx\n",
      "Data_Train.xlsx\n",
      "Decision Tree with Gini & Entropy CODE.ipynb\n",
      "DecisionTreeClassifier CODE.ipynb\n",
      "DecisionTreeRegressor CODE.ipynb\n",
      "Documents\n",
      "Downloads\n",
      "Dr. Angela program practice .ipynb\n",
      "E6 CUTOFF MODEL.csv\n",
      "E6 CUTOFF PREDICTION MODEL .ipynb\n",
      "E6 MDF Predictions Model regressor problems statement  .ipynb\n",
      "E6 MFD Model .csv\n",
      "E6 ZD MODEL .csv\n",
      "EDA --Titanic Train.ipynb\n",
      "ENCODING TECHNIQUES & HANDLING MISSING OR NULL VALUES .ipynb\n",
      "ElasticNet CODE.ipynb\n",
      "Favorites\n",
      "Flaskpractice\n",
      "Functions, user def, Lambda, recursion function .ipynb\n",
      "Gaussian Naive Bayes classifier Algorithms on cancer data set.ipynb\n",
      "Glass Predictions .ipynb\n",
      "Grades.csv\n",
      "GradientBoostingClassifier CODE.ipynb\n",
      "GradientBoostingRegressor CODE.ipynb\n",
      "Hands on feature engineering.ipynb\n",
      "Hands_on_Statistics .ipynb\n",
      "Ineuron python practice .ipynb\n",
      "IntelGraphicsProfiles\n",
      "Internship\n",
      "K Neighbors Classifier with Iris Datasets .ipynb\n",
      "KNN Details .ipynb\n",
      "KNeighborsRegressor CODE.ipynb\n",
      "Keras-Tuner Hidden Layers And Hidden Neurons.ipynb\n",
      "Kmean Unsuperwised Learning CODE.ipynb\n",
      "L3 correlation matrix.ipynb\n",
      "L3New clad to core ratio..ipynb\n",
      "L5 Correlation matrix.ipynb\n",
      "L5New.csv\n",
      "LASSO  REGRESSION CODE.ipynb\n",
      "LR boston data set .ipynb\n",
      "LSA.ipynb\n",
      "Linear Regression model -2 on Concrete_data.csv.ipynb\n",
      "Linear+Regression-Full+Material.zip\n",
      "LinearRgression CODE .ipynb\n",
      "Links\n",
      "Local Settings\n",
      "Logistic Regression  Lasso Ridge ElasticNet SVM kernel Regressor cross validation, KFold.ipynb\n",
      "LogisticRegression  CODE.ipynb\n",
      "Love calculator.ipynb\n",
      "MACHINE LEARNING LIBRARIES .ipynb\n",
      "ML  DATA SETS .ipynb\n",
      "ML first model .ipynb\n",
      "ML on iris data set.ipynb\n",
      "Medical_cost.ipynb\n",
      "Microsoft\n",
      "Mnist.ipynb\n",
      "Multicollinearity with Variance Inflation Factor.ipynb\n",
      "Music\n",
      "My Documents\n",
      "NTUSER.DAT\n",
      "NTUSER.DAT{b80f1db4-06ea-11ee-9786-d3e1e45cac8c}.TM.blf\n",
      "NTUSER.DAT{b80f1db4-06ea-11ee-9786-d3e1e45cac8c}.TMContainer00000000000000000001.regtrans-ms\n",
      "NTUSER.DAT{b80f1db4-06ea-11ee-9786-d3e1e45cac8c}.TMContainer00000000000000000002.regtrans-ms\n",
      "NetHood\n",
      "Neural Network MLPRegressor  CODE.ipynb\n",
      "Now\n",
      "Numpy.ipynb\n",
      "OOPS.log\n",
      "Ok Snake Game 1 .ipynb\n",
      "OneDrive\n",
      "Only Game & All Programs\n",
      "PYTHON â€“ WORKSHEET 1.ipynb\n",
      "Pandas Library.ipynb\n",
      "Pipeline CODE .ipynb\n",
      "Postman\n",
      "Practice.py\n",
      "Predicting Whether the Customer Will Subscribe to Term Deposit (FIXED DEPOSIT) or not.ipynb\n",
      "PrintHood\n",
      "Pumpkin_Seeds_Dataset (1).csv\n",
      "PycharmProjects\n",
      "Python built in function. .ipynb\n",
      "RandomForestClassifier  CODE.ipynb\n",
      "RandomForestClassifier_WineQuality.pkl\n",
      "RandomForestRegressor CODE.ipynb\n",
      "Real_Combine.csv\n",
      "Recent\n",
      "Regular Expressions Assignment 1 .ipynb\n",
      "Regularization Lasso and Ridge Regression .ipynb\n",
      "Remove Correlated Features Mobile dataset! .ipynb\n",
      "Restaurant Food Cost.ipynb\n",
      "Ridge Regression  CODE.ipynb\n",
      "Rondom Number Guess game .ipynb\n",
      "SGD CLASSIFIER CODE.ipynb\n",
      "SGDClassifier CODE.ipynb\n",
      "SVM regressor code Not working. .ipynb\n",
      "Sample_text1.txt\n",
      "Saved Games\n",
      "School Python notes ....ipynb\n",
      "SciPy Library & Hypothesis & EDA -- DATA SCIENCE .ipynb\n",
      "Searches\n",
      "SendTo\n",
      "Snake Game 1 .ipynb\n",
      "Social_Network_Ads.csv\n",
      "Star pattern in python .ipynb\n",
      "Start Menu\n",
      "Stemming and Lemmatization in NLP .ipynb\n",
      "Stop Words.ipynb\n",
      "Student Grade Predictions .ipynb\n",
      "Suport Vector Regression CODE.ipynb\n",
      "TAJ Game .ipynb\n",
      "Telecom Customer churn Analysis.ipynb\n",
      "Telecom_customer_churn.csv\n",
      "Templates\n",
      "Titanic_train_model.ipynb\n",
      "Tokenization in NLP .ipynb\n",
      "Treasure Island Game.ipynb\n",
      "Untitled.ipynb\n",
      "Untitled1.ipynb\n",
      "Untitled10.ipynb\n",
      "Untitled11.ipynb\n",
      "Untitled12.ipynb\n",
      "Untitled13.ipynb\n",
      "Untitled2.ipynb\n",
      "User define function def .ipynb\n",
      "VIF Abalone data sets .ipynb\n",
      "Videos\n",
      "Web Scraping - Beautiful Soup  .ipynb\n",
      "WineQuality.ipynb\n",
      "World_happiness_predictions.csv\n",
      "World_happyness_Prediction\n",
      "World_happyness_Prediction.ipynb\n",
      "__pycache__\n",
      "abalone.csv\n",
      "addition.py\n",
      "alexa_review.txt\n",
      "anaconda3\n",
      "archive.zip\n",
      "avocado.csv\n",
      "baseball.csv\n",
      "bhimraop\n",
      "bikes.csv\n",
      "blood_pressure.csv\n",
      "boston.csv\n",
      "brain_size.csv\n",
      "brainsize1.csv\n",
      "cleaned_data.csv\n",
      "conda\n",
      "correlation matrix .ipynb\n",
      "diabetes.csv\n",
      "dt_regressor_model.joblib\n",
      "dtcfile.obj\n",
      "empl.csv\n",
      "emptest.csv\n",
      "example.txt\n",
      "file.txt\n",
      "git_project1\n",
      "glass.csv\n",
      "house.csv\n",
      "house_price_data_median.csv\n",
      "hrdata.csv\n",
      "images\n",
      "input_text.txt\n",
      "install.log\n",
      "insurance.xlsx\n",
      "iris.csv\n",
      "logging\n",
      "medical_cost_insurance.csv\n",
      "mnist_model.h5\n",
      "mobiledata.csv\n",
      "my_project1\n",
      "myenv\n",
      "myhrmodified24sep.csv\n",
      "naive_bayes  GaussianNB CODE.ipynb\n",
      "new_text.txt\n",
      "ntuser.dat.LOG1\n",
      "ntuser.dat.LOG2\n",
      "ntuser.ini\n",
      "old_text.txt\n",
      "output_text.txt\n",
      "placement.csv\n",
      "president_heights.csv\n",
      "project\n",
      "randomization .ipynb\n",
      "rf_individualtree.png\n",
      "rf_model2_individualtree.png\n",
      "rf_model3_individualtree.png\n",
      "role_website.csv\n",
      "sample .csv\n",
      "sample_text.docx\n",
      "sample_text.txt\n",
      "scikit_learn_data\n",
      "seq2seq.h5\n",
      "string function school notes .ipynb\n",
      "student.csv\n",
      "student_marks.csv\n",
      "support regressor code for any file .ipynb\n",
      "sweetviz_report.html\n",
      "sweetviz_report.htmp\n",
      "termdeposit_test.csv\n",
      "termdeposit_train.csv\n",
      "terrorist attacks data set linear Regression. .ipynb\n",
      "terrorist-attacks.csv\n",
      "test.csv\n",
      "test.txt\n",
      "test1.py\n",
      "test1.txt\n",
      "test2.log\n",
      "test3.log\n",
      "titanic_train.csv\n",
      "train,test and validation split .ipynb\n",
      "untitled.txt\n",
      "winequality-red.csv\n"
     ]
    }
   ],
   "source": [
    "!ls   # file is created "
   ]
  },
  {
   "cell_type": "code",
   "execution_count": 41,
   "id": "55f12cb7-5a79-4aa0-a017-e958309506e4",
   "metadata": {},
   "outputs": [],
   "source": [
    "df = pd.read_csv(\"test.csv\")  # again read data here one column is more unnamed one "
   ]
  },
  {
   "cell_type": "code",
   "execution_count": 42,
   "id": "fd45746e-6c2f-4dbf-b9ed-1e0540430eae",
   "metadata": {},
   "outputs": [
    {
     "data": {
      "text/html": [
       "<div>\n",
       "<style scoped>\n",
       "    .dataframe tbody tr th:only-of-type {\n",
       "        vertical-align: middle;\n",
       "    }\n",
       "\n",
       "    .dataframe tbody tr th {\n",
       "        vertical-align: top;\n",
       "    }\n",
       "\n",
       "    .dataframe thead th {\n",
       "        text-align: right;\n",
       "    }\n",
       "</style>\n",
       "<table border=\"1\" class=\"dataframe\">\n",
       "  <thead>\n",
       "    <tr style=\"text-align: right;\">\n",
       "      <th></th>\n",
       "      <th>Unnamed: 0</th>\n",
       "      <th>ROLL NO</th>\n",
       "      <th>1</th>\n",
       "      <th>2</th>\n",
       "      <th>3</th>\n",
       "      <th>4</th>\n",
       "      <th>5</th>\n",
       "      <th>6</th>\n",
       "      <th>7</th>\n",
       "      <th>8</th>\n",
       "      <th>...</th>\n",
       "      <th>23</th>\n",
       "      <th>24</th>\n",
       "      <th>25</th>\n",
       "      <th>26</th>\n",
       "      <th>27</th>\n",
       "      <th>28</th>\n",
       "      <th>29</th>\n",
       "      <th>30</th>\n",
       "      <th>PDAY</th>\n",
       "      <th>ADAY</th>\n",
       "    </tr>\n",
       "  </thead>\n",
       "  <tbody>\n",
       "    <tr>\n",
       "      <th>0</th>\n",
       "      <td>0</td>\n",
       "      <td>1</td>\n",
       "      <td>P</td>\n",
       "      <td>P</td>\n",
       "      <td>P</td>\n",
       "      <td>P</td>\n",
       "      <td>P</td>\n",
       "      <td>P</td>\n",
       "      <td>A</td>\n",
       "      <td>P</td>\n",
       "      <td>...</td>\n",
       "      <td>A</td>\n",
       "      <td>P</td>\n",
       "      <td>P</td>\n",
       "      <td>P</td>\n",
       "      <td>P</td>\n",
       "      <td>P</td>\n",
       "      <td>P</td>\n",
       "      <td>P</td>\n",
       "      <td>26</td>\n",
       "      <td>4</td>\n",
       "    </tr>\n",
       "    <tr>\n",
       "      <th>1</th>\n",
       "      <td>1</td>\n",
       "      <td>2</td>\n",
       "      <td>P</td>\n",
       "      <td>P</td>\n",
       "      <td>P</td>\n",
       "      <td>A</td>\n",
       "      <td>P</td>\n",
       "      <td>P</td>\n",
       "      <td>P</td>\n",
       "      <td>P</td>\n",
       "      <td>...</td>\n",
       "      <td>P</td>\n",
       "      <td>P</td>\n",
       "      <td>P</td>\n",
       "      <td>A</td>\n",
       "      <td>P</td>\n",
       "      <td>P</td>\n",
       "      <td>P</td>\n",
       "      <td>P</td>\n",
       "      <td>27</td>\n",
       "      <td>3</td>\n",
       "    </tr>\n",
       "    <tr>\n",
       "      <th>2</th>\n",
       "      <td>2</td>\n",
       "      <td>3</td>\n",
       "      <td>P</td>\n",
       "      <td>P</td>\n",
       "      <td>P</td>\n",
       "      <td>P</td>\n",
       "      <td>P</td>\n",
       "      <td>P</td>\n",
       "      <td>P</td>\n",
       "      <td>P</td>\n",
       "      <td>...</td>\n",
       "      <td>P</td>\n",
       "      <td>P</td>\n",
       "      <td>P</td>\n",
       "      <td>P</td>\n",
       "      <td>P</td>\n",
       "      <td>P</td>\n",
       "      <td>P</td>\n",
       "      <td>P</td>\n",
       "      <td>28</td>\n",
       "      <td>2</td>\n",
       "    </tr>\n",
       "    <tr>\n",
       "      <th>3</th>\n",
       "      <td>3</td>\n",
       "      <td>4</td>\n",
       "      <td>P</td>\n",
       "      <td>P</td>\n",
       "      <td>P</td>\n",
       "      <td>P</td>\n",
       "      <td>A</td>\n",
       "      <td>P</td>\n",
       "      <td>P</td>\n",
       "      <td>P</td>\n",
       "      <td>...</td>\n",
       "      <td>P</td>\n",
       "      <td>A</td>\n",
       "      <td>P</td>\n",
       "      <td>P</td>\n",
       "      <td>P</td>\n",
       "      <td>A</td>\n",
       "      <td>P</td>\n",
       "      <td>P</td>\n",
       "      <td>25</td>\n",
       "      <td>5</td>\n",
       "    </tr>\n",
       "    <tr>\n",
       "      <th>4</th>\n",
       "      <td>4</td>\n",
       "      <td>5</td>\n",
       "      <td>P</td>\n",
       "      <td>A</td>\n",
       "      <td>P</td>\n",
       "      <td>P</td>\n",
       "      <td>P</td>\n",
       "      <td>P</td>\n",
       "      <td>P</td>\n",
       "      <td>P</td>\n",
       "      <td>...</td>\n",
       "      <td>P</td>\n",
       "      <td>P</td>\n",
       "      <td>P</td>\n",
       "      <td>P</td>\n",
       "      <td>P</td>\n",
       "      <td>P</td>\n",
       "      <td>P</td>\n",
       "      <td>P</td>\n",
       "      <td>28</td>\n",
       "      <td>2</td>\n",
       "    </tr>\n",
       "  </tbody>\n",
       "</table>\n",
       "<p>5 rows × 34 columns</p>\n",
       "</div>"
      ],
      "text/plain": [
       "   Unnamed: 0  ROLL NO  1  2  3  4  5  6  7  8  ... 23 24 25 26 27 28 29 30  \\\n",
       "0           0        1  P  P  P  P  P  P  A  P  ...  A  P  P  P  P  P  P  P   \n",
       "1           1        2  P  P  P  A  P  P  P  P  ...  P  P  P  A  P  P  P  P   \n",
       "2           2        3  P  P  P  P  P  P  P  P  ...  P  P  P  P  P  P  P  P   \n",
       "3           3        4  P  P  P  P  A  P  P  P  ...  P  A  P  P  P  A  P  P   \n",
       "4           4        5  P  A  P  P  P  P  P  P  ...  P  P  P  P  P  P  P  P   \n",
       "\n",
       "  PDAY ADAY  \n",
       "0   26    4  \n",
       "1   27    3  \n",
       "2   28    2  \n",
       "3   25    5  \n",
       "4   28    2  \n",
       "\n",
       "[5 rows x 34 columns]"
      ]
     },
     "execution_count": 42,
     "metadata": {},
     "output_type": "execute_result"
    }
   ],
   "source": [
    "df.head()"
   ]
  },
  {
   "cell_type": "code",
   "execution_count": 45,
   "id": "ae586f46-7230-4dff-b6b8-e0635e311a7f",
   "metadata": {},
   "outputs": [],
   "source": [
    "df = pd.read_csv(\"test.csv\", header=None)  # we can change header , names=['a','b','c',d'] give s the name of columns , sep = '#' "
   ]
  },
  {
   "cell_type": "code",
   "execution_count": 44,
   "id": "4b62ceb6-d667-4d3d-a074-4689fb9721ec",
   "metadata": {},
   "outputs": [
    {
     "data": {
      "text/html": [
       "<div>\n",
       "<style scoped>\n",
       "    .dataframe tbody tr th:only-of-type {\n",
       "        vertical-align: middle;\n",
       "    }\n",
       "\n",
       "    .dataframe tbody tr th {\n",
       "        vertical-align: top;\n",
       "    }\n",
       "\n",
       "    .dataframe thead th {\n",
       "        text-align: right;\n",
       "    }\n",
       "</style>\n",
       "<table border=\"1\" class=\"dataframe\">\n",
       "  <thead>\n",
       "    <tr style=\"text-align: right;\">\n",
       "      <th></th>\n",
       "      <th>0</th>\n",
       "      <th>1</th>\n",
       "      <th>2</th>\n",
       "      <th>3</th>\n",
       "      <th>4</th>\n",
       "      <th>5</th>\n",
       "      <th>6</th>\n",
       "      <th>7</th>\n",
       "      <th>8</th>\n",
       "      <th>9</th>\n",
       "      <th>...</th>\n",
       "      <th>24</th>\n",
       "      <th>25</th>\n",
       "      <th>26</th>\n",
       "      <th>27</th>\n",
       "      <th>28</th>\n",
       "      <th>29</th>\n",
       "      <th>30</th>\n",
       "      <th>31</th>\n",
       "      <th>32</th>\n",
       "      <th>33</th>\n",
       "    </tr>\n",
       "  </thead>\n",
       "  <tbody>\n",
       "    <tr>\n",
       "      <th>0</th>\n",
       "      <td>NaN</td>\n",
       "      <td>ROLL NO</td>\n",
       "      <td>1</td>\n",
       "      <td>2</td>\n",
       "      <td>3</td>\n",
       "      <td>4</td>\n",
       "      <td>5</td>\n",
       "      <td>6</td>\n",
       "      <td>7</td>\n",
       "      <td>8</td>\n",
       "      <td>...</td>\n",
       "      <td>23</td>\n",
       "      <td>24</td>\n",
       "      <td>25</td>\n",
       "      <td>26</td>\n",
       "      <td>27</td>\n",
       "      <td>28</td>\n",
       "      <td>29</td>\n",
       "      <td>30</td>\n",
       "      <td>PDAY</td>\n",
       "      <td>ADAY</td>\n",
       "    </tr>\n",
       "    <tr>\n",
       "      <th>1</th>\n",
       "      <td>0.0</td>\n",
       "      <td>1</td>\n",
       "      <td>P</td>\n",
       "      <td>P</td>\n",
       "      <td>P</td>\n",
       "      <td>P</td>\n",
       "      <td>P</td>\n",
       "      <td>P</td>\n",
       "      <td>A</td>\n",
       "      <td>P</td>\n",
       "      <td>...</td>\n",
       "      <td>A</td>\n",
       "      <td>P</td>\n",
       "      <td>P</td>\n",
       "      <td>P</td>\n",
       "      <td>P</td>\n",
       "      <td>P</td>\n",
       "      <td>P</td>\n",
       "      <td>P</td>\n",
       "      <td>26</td>\n",
       "      <td>4</td>\n",
       "    </tr>\n",
       "    <tr>\n",
       "      <th>2</th>\n",
       "      <td>1.0</td>\n",
       "      <td>2</td>\n",
       "      <td>P</td>\n",
       "      <td>P</td>\n",
       "      <td>P</td>\n",
       "      <td>A</td>\n",
       "      <td>P</td>\n",
       "      <td>P</td>\n",
       "      <td>P</td>\n",
       "      <td>P</td>\n",
       "      <td>...</td>\n",
       "      <td>P</td>\n",
       "      <td>P</td>\n",
       "      <td>P</td>\n",
       "      <td>A</td>\n",
       "      <td>P</td>\n",
       "      <td>P</td>\n",
       "      <td>P</td>\n",
       "      <td>P</td>\n",
       "      <td>27</td>\n",
       "      <td>3</td>\n",
       "    </tr>\n",
       "    <tr>\n",
       "      <th>3</th>\n",
       "      <td>2.0</td>\n",
       "      <td>3</td>\n",
       "      <td>P</td>\n",
       "      <td>P</td>\n",
       "      <td>P</td>\n",
       "      <td>P</td>\n",
       "      <td>P</td>\n",
       "      <td>P</td>\n",
       "      <td>P</td>\n",
       "      <td>P</td>\n",
       "      <td>...</td>\n",
       "      <td>P</td>\n",
       "      <td>P</td>\n",
       "      <td>P</td>\n",
       "      <td>P</td>\n",
       "      <td>P</td>\n",
       "      <td>P</td>\n",
       "      <td>P</td>\n",
       "      <td>P</td>\n",
       "      <td>28</td>\n",
       "      <td>2</td>\n",
       "    </tr>\n",
       "    <tr>\n",
       "      <th>4</th>\n",
       "      <td>3.0</td>\n",
       "      <td>4</td>\n",
       "      <td>P</td>\n",
       "      <td>P</td>\n",
       "      <td>P</td>\n",
       "      <td>P</td>\n",
       "      <td>A</td>\n",
       "      <td>P</td>\n",
       "      <td>P</td>\n",
       "      <td>P</td>\n",
       "      <td>...</td>\n",
       "      <td>P</td>\n",
       "      <td>A</td>\n",
       "      <td>P</td>\n",
       "      <td>P</td>\n",
       "      <td>P</td>\n",
       "      <td>A</td>\n",
       "      <td>P</td>\n",
       "      <td>P</td>\n",
       "      <td>25</td>\n",
       "      <td>5</td>\n",
       "    </tr>\n",
       "  </tbody>\n",
       "</table>\n",
       "<p>5 rows × 34 columns</p>\n",
       "</div>"
      ],
      "text/plain": [
       "    0        1  2  3  4  5  6  7  8  9   ...  24  25  26  27  28  29  30  31  \\\n",
       "0  NaN  ROLL NO  1  2  3  4  5  6  7  8  ...  23  24  25  26  27  28  29  30   \n",
       "1  0.0        1  P  P  P  P  P  P  A  P  ...   A   P   P   P   P   P   P   P   \n",
       "2  1.0        2  P  P  P  A  P  P  P  P  ...   P   P   P   A   P   P   P   P   \n",
       "3  2.0        3  P  P  P  P  P  P  P  P  ...   P   P   P   P   P   P   P   P   \n",
       "4  3.0        4  P  P  P  P  A  P  P  P  ...   P   A   P   P   P   A   P   P   \n",
       "\n",
       "     32    33  \n",
       "0  PDAY  ADAY  \n",
       "1    26     4  \n",
       "2    27     3  \n",
       "3    28     2  \n",
       "4    25     5  \n",
       "\n",
       "[5 rows x 34 columns]"
      ]
     },
     "execution_count": 44,
     "metadata": {},
     "output_type": "execute_result"
    }
   ],
   "source": [
    "df.head()"
   ]
  },
  {
   "cell_type": "code",
   "execution_count": 46,
   "id": "d2cb69a2-7373-4d8e-b618-67a497dd6818",
   "metadata": {},
   "outputs": [],
   "source": [
    "df = pd.read_csv(\"test.csv\", header=None,skiprows=[0,3])  # skipping the rows also "
   ]
  },
  {
   "cell_type": "code",
   "execution_count": 47,
   "id": "4efebede-2379-4b4f-b988-3fff37159c74",
   "metadata": {},
   "outputs": [
    {
     "data": {
      "text/html": [
       "<div>\n",
       "<style scoped>\n",
       "    .dataframe tbody tr th:only-of-type {\n",
       "        vertical-align: middle;\n",
       "    }\n",
       "\n",
       "    .dataframe tbody tr th {\n",
       "        vertical-align: top;\n",
       "    }\n",
       "\n",
       "    .dataframe thead th {\n",
       "        text-align: right;\n",
       "    }\n",
       "</style>\n",
       "<table border=\"1\" class=\"dataframe\">\n",
       "  <thead>\n",
       "    <tr style=\"text-align: right;\">\n",
       "      <th></th>\n",
       "      <th>0</th>\n",
       "      <th>1</th>\n",
       "      <th>2</th>\n",
       "      <th>3</th>\n",
       "      <th>4</th>\n",
       "      <th>5</th>\n",
       "      <th>6</th>\n",
       "      <th>7</th>\n",
       "      <th>8</th>\n",
       "      <th>9</th>\n",
       "      <th>...</th>\n",
       "      <th>24</th>\n",
       "      <th>25</th>\n",
       "      <th>26</th>\n",
       "      <th>27</th>\n",
       "      <th>28</th>\n",
       "      <th>29</th>\n",
       "      <th>30</th>\n",
       "      <th>31</th>\n",
       "      <th>32</th>\n",
       "      <th>33</th>\n",
       "    </tr>\n",
       "  </thead>\n",
       "  <tbody>\n",
       "    <tr>\n",
       "      <th>0</th>\n",
       "      <td>0</td>\n",
       "      <td>1</td>\n",
       "      <td>P</td>\n",
       "      <td>P</td>\n",
       "      <td>P</td>\n",
       "      <td>P</td>\n",
       "      <td>P</td>\n",
       "      <td>P</td>\n",
       "      <td>A</td>\n",
       "      <td>P</td>\n",
       "      <td>...</td>\n",
       "      <td>A</td>\n",
       "      <td>P</td>\n",
       "      <td>P</td>\n",
       "      <td>P</td>\n",
       "      <td>P</td>\n",
       "      <td>P</td>\n",
       "      <td>P</td>\n",
       "      <td>P</td>\n",
       "      <td>26</td>\n",
       "      <td>4</td>\n",
       "    </tr>\n",
       "    <tr>\n",
       "      <th>1</th>\n",
       "      <td>1</td>\n",
       "      <td>2</td>\n",
       "      <td>P</td>\n",
       "      <td>P</td>\n",
       "      <td>P</td>\n",
       "      <td>A</td>\n",
       "      <td>P</td>\n",
       "      <td>P</td>\n",
       "      <td>P</td>\n",
       "      <td>P</td>\n",
       "      <td>...</td>\n",
       "      <td>P</td>\n",
       "      <td>P</td>\n",
       "      <td>P</td>\n",
       "      <td>A</td>\n",
       "      <td>P</td>\n",
       "      <td>P</td>\n",
       "      <td>P</td>\n",
       "      <td>P</td>\n",
       "      <td>27</td>\n",
       "      <td>3</td>\n",
       "    </tr>\n",
       "    <tr>\n",
       "      <th>2</th>\n",
       "      <td>3</td>\n",
       "      <td>4</td>\n",
       "      <td>P</td>\n",
       "      <td>P</td>\n",
       "      <td>P</td>\n",
       "      <td>P</td>\n",
       "      <td>A</td>\n",
       "      <td>P</td>\n",
       "      <td>P</td>\n",
       "      <td>P</td>\n",
       "      <td>...</td>\n",
       "      <td>P</td>\n",
       "      <td>A</td>\n",
       "      <td>P</td>\n",
       "      <td>P</td>\n",
       "      <td>P</td>\n",
       "      <td>A</td>\n",
       "      <td>P</td>\n",
       "      <td>P</td>\n",
       "      <td>25</td>\n",
       "      <td>5</td>\n",
       "    </tr>\n",
       "    <tr>\n",
       "      <th>3</th>\n",
       "      <td>4</td>\n",
       "      <td>5</td>\n",
       "      <td>P</td>\n",
       "      <td>A</td>\n",
       "      <td>P</td>\n",
       "      <td>P</td>\n",
       "      <td>P</td>\n",
       "      <td>P</td>\n",
       "      <td>P</td>\n",
       "      <td>P</td>\n",
       "      <td>...</td>\n",
       "      <td>P</td>\n",
       "      <td>P</td>\n",
       "      <td>P</td>\n",
       "      <td>P</td>\n",
       "      <td>P</td>\n",
       "      <td>P</td>\n",
       "      <td>P</td>\n",
       "      <td>P</td>\n",
       "      <td>28</td>\n",
       "      <td>2</td>\n",
       "    </tr>\n",
       "  </tbody>\n",
       "</table>\n",
       "<p>4 rows × 34 columns</p>\n",
       "</div>"
      ],
      "text/plain": [
       "   0   1  2  3  4  5  6  7  8  9   ... 24 25 26 27 28 29 30 31  32 33\n",
       "0   0   1  P  P  P  P  P  P  A  P  ...  A  P  P  P  P  P  P  P  26  4\n",
       "1   1   2  P  P  P  A  P  P  P  P  ...  P  P  P  A  P  P  P  P  27  3\n",
       "2   3   4  P  P  P  P  A  P  P  P  ...  P  A  P  P  P  A  P  P  25  5\n",
       "3   4   5  P  A  P  P  P  P  P  P  ...  P  P  P  P  P  P  P  P  28  2\n",
       "\n",
       "[4 rows x 34 columns]"
      ]
     },
     "execution_count": 47,
     "metadata": {},
     "output_type": "execute_result"
    }
   ],
   "source": [
    "df"
   ]
  },
  {
   "cell_type": "code",
   "execution_count": 51,
   "id": "db65346e-4580-4bb6-9761-84186ee5138e",
   "metadata": {},
   "outputs": [],
   "source": [
    "df = pd.read_csv(\"test.csv\", header=None,na_values=['PDAY']) # puting the values NAN where ever PDAY is present "
   ]
  },
  {
   "cell_type": "code",
   "execution_count": 52,
   "id": "88d8fca7-6ab4-4782-8c3e-d8f49cf48ff4",
   "metadata": {},
   "outputs": [
    {
     "data": {
      "text/html": [
       "<div>\n",
       "<style scoped>\n",
       "    .dataframe tbody tr th:only-of-type {\n",
       "        vertical-align: middle;\n",
       "    }\n",
       "\n",
       "    .dataframe tbody tr th {\n",
       "        vertical-align: top;\n",
       "    }\n",
       "\n",
       "    .dataframe thead th {\n",
       "        text-align: right;\n",
       "    }\n",
       "</style>\n",
       "<table border=\"1\" class=\"dataframe\">\n",
       "  <thead>\n",
       "    <tr style=\"text-align: right;\">\n",
       "      <th></th>\n",
       "      <th>0</th>\n",
       "      <th>1</th>\n",
       "      <th>2</th>\n",
       "      <th>3</th>\n",
       "      <th>4</th>\n",
       "      <th>5</th>\n",
       "      <th>6</th>\n",
       "      <th>7</th>\n",
       "      <th>8</th>\n",
       "      <th>9</th>\n",
       "      <th>...</th>\n",
       "      <th>24</th>\n",
       "      <th>25</th>\n",
       "      <th>26</th>\n",
       "      <th>27</th>\n",
       "      <th>28</th>\n",
       "      <th>29</th>\n",
       "      <th>30</th>\n",
       "      <th>31</th>\n",
       "      <th>32</th>\n",
       "      <th>33</th>\n",
       "    </tr>\n",
       "  </thead>\n",
       "  <tbody>\n",
       "    <tr>\n",
       "      <th>0</th>\n",
       "      <td>NaN</td>\n",
       "      <td>ROLL NO</td>\n",
       "      <td>1</td>\n",
       "      <td>2</td>\n",
       "      <td>3</td>\n",
       "      <td>4</td>\n",
       "      <td>5</td>\n",
       "      <td>6</td>\n",
       "      <td>7</td>\n",
       "      <td>8</td>\n",
       "      <td>...</td>\n",
       "      <td>23</td>\n",
       "      <td>24</td>\n",
       "      <td>25</td>\n",
       "      <td>26</td>\n",
       "      <td>27</td>\n",
       "      <td>28</td>\n",
       "      <td>29</td>\n",
       "      <td>30</td>\n",
       "      <td>NaN</td>\n",
       "      <td>ADAY</td>\n",
       "    </tr>\n",
       "    <tr>\n",
       "      <th>1</th>\n",
       "      <td>0.0</td>\n",
       "      <td>1</td>\n",
       "      <td>P</td>\n",
       "      <td>P</td>\n",
       "      <td>P</td>\n",
       "      <td>P</td>\n",
       "      <td>P</td>\n",
       "      <td>P</td>\n",
       "      <td>A</td>\n",
       "      <td>P</td>\n",
       "      <td>...</td>\n",
       "      <td>A</td>\n",
       "      <td>P</td>\n",
       "      <td>P</td>\n",
       "      <td>P</td>\n",
       "      <td>P</td>\n",
       "      <td>P</td>\n",
       "      <td>P</td>\n",
       "      <td>P</td>\n",
       "      <td>26.0</td>\n",
       "      <td>4</td>\n",
       "    </tr>\n",
       "    <tr>\n",
       "      <th>2</th>\n",
       "      <td>1.0</td>\n",
       "      <td>2</td>\n",
       "      <td>P</td>\n",
       "      <td>P</td>\n",
       "      <td>P</td>\n",
       "      <td>A</td>\n",
       "      <td>P</td>\n",
       "      <td>P</td>\n",
       "      <td>P</td>\n",
       "      <td>P</td>\n",
       "      <td>...</td>\n",
       "      <td>P</td>\n",
       "      <td>P</td>\n",
       "      <td>P</td>\n",
       "      <td>A</td>\n",
       "      <td>P</td>\n",
       "      <td>P</td>\n",
       "      <td>P</td>\n",
       "      <td>P</td>\n",
       "      <td>27.0</td>\n",
       "      <td>3</td>\n",
       "    </tr>\n",
       "    <tr>\n",
       "      <th>3</th>\n",
       "      <td>2.0</td>\n",
       "      <td>3</td>\n",
       "      <td>P</td>\n",
       "      <td>P</td>\n",
       "      <td>P</td>\n",
       "      <td>P</td>\n",
       "      <td>P</td>\n",
       "      <td>P</td>\n",
       "      <td>P</td>\n",
       "      <td>P</td>\n",
       "      <td>...</td>\n",
       "      <td>P</td>\n",
       "      <td>P</td>\n",
       "      <td>P</td>\n",
       "      <td>P</td>\n",
       "      <td>P</td>\n",
       "      <td>P</td>\n",
       "      <td>P</td>\n",
       "      <td>P</td>\n",
       "      <td>28.0</td>\n",
       "      <td>2</td>\n",
       "    </tr>\n",
       "    <tr>\n",
       "      <th>4</th>\n",
       "      <td>3.0</td>\n",
       "      <td>4</td>\n",
       "      <td>P</td>\n",
       "      <td>P</td>\n",
       "      <td>P</td>\n",
       "      <td>P</td>\n",
       "      <td>A</td>\n",
       "      <td>P</td>\n",
       "      <td>P</td>\n",
       "      <td>P</td>\n",
       "      <td>...</td>\n",
       "      <td>P</td>\n",
       "      <td>A</td>\n",
       "      <td>P</td>\n",
       "      <td>P</td>\n",
       "      <td>P</td>\n",
       "      <td>A</td>\n",
       "      <td>P</td>\n",
       "      <td>P</td>\n",
       "      <td>25.0</td>\n",
       "      <td>5</td>\n",
       "    </tr>\n",
       "    <tr>\n",
       "      <th>5</th>\n",
       "      <td>4.0</td>\n",
       "      <td>5</td>\n",
       "      <td>P</td>\n",
       "      <td>A</td>\n",
       "      <td>P</td>\n",
       "      <td>P</td>\n",
       "      <td>P</td>\n",
       "      <td>P</td>\n",
       "      <td>P</td>\n",
       "      <td>P</td>\n",
       "      <td>...</td>\n",
       "      <td>P</td>\n",
       "      <td>P</td>\n",
       "      <td>P</td>\n",
       "      <td>P</td>\n",
       "      <td>P</td>\n",
       "      <td>P</td>\n",
       "      <td>P</td>\n",
       "      <td>P</td>\n",
       "      <td>28.0</td>\n",
       "      <td>2</td>\n",
       "    </tr>\n",
       "  </tbody>\n",
       "</table>\n",
       "<p>6 rows × 34 columns</p>\n",
       "</div>"
      ],
      "text/plain": [
       "    0        1  2  3  4  5  6  7  8  9   ...  24  25  26  27  28  29  30  31  \\\n",
       "0  NaN  ROLL NO  1  2  3  4  5  6  7  8  ...  23  24  25  26  27  28  29  30   \n",
       "1  0.0        1  P  P  P  P  P  P  A  P  ...   A   P   P   P   P   P   P   P   \n",
       "2  1.0        2  P  P  P  A  P  P  P  P  ...   P   P   P   A   P   P   P   P   \n",
       "3  2.0        3  P  P  P  P  P  P  P  P  ...   P   P   P   P   P   P   P   P   \n",
       "4  3.0        4  P  P  P  P  A  P  P  P  ...   P   A   P   P   P   A   P   P   \n",
       "5  4.0        5  P  A  P  P  P  P  P  P  ...   P   P   P   P   P   P   P   P   \n",
       "\n",
       "     32    33  \n",
       "0   NaN  ADAY  \n",
       "1  26.0     4  \n",
       "2  27.0     3  \n",
       "3  28.0     2  \n",
       "4  25.0     5  \n",
       "5  28.0     2  \n",
       "\n",
       "[6 rows x 34 columns]"
      ]
     },
     "execution_count": 52,
     "metadata": {},
     "output_type": "execute_result"
    }
   ],
   "source": [
    "df"
   ]
  },
  {
   "cell_type": "code",
   "execution_count": 54,
   "id": "6a71886f-1aea-495d-a3bd-44d7efe3c43f",
   "metadata": {},
   "outputs": [
    {
     "data": {
      "text/html": [
       "<div>\n",
       "<style scoped>\n",
       "    .dataframe tbody tr th:only-of-type {\n",
       "        vertical-align: middle;\n",
       "    }\n",
       "\n",
       "    .dataframe tbody tr th {\n",
       "        vertical-align: top;\n",
       "    }\n",
       "\n",
       "    .dataframe thead th {\n",
       "        text-align: right;\n",
       "    }\n",
       "</style>\n",
       "<table border=\"1\" class=\"dataframe\">\n",
       "  <thead>\n",
       "    <tr style=\"text-align: right;\">\n",
       "      <th></th>\n",
       "      <th>0</th>\n",
       "      <th>32</th>\n",
       "    </tr>\n",
       "  </thead>\n",
       "  <tbody>\n",
       "    <tr>\n",
       "      <th>count</th>\n",
       "      <td>5.000000</td>\n",
       "      <td>5.00000</td>\n",
       "    </tr>\n",
       "    <tr>\n",
       "      <th>mean</th>\n",
       "      <td>2.000000</td>\n",
       "      <td>26.80000</td>\n",
       "    </tr>\n",
       "    <tr>\n",
       "      <th>std</th>\n",
       "      <td>1.581139</td>\n",
       "      <td>1.30384</td>\n",
       "    </tr>\n",
       "    <tr>\n",
       "      <th>min</th>\n",
       "      <td>0.000000</td>\n",
       "      <td>25.00000</td>\n",
       "    </tr>\n",
       "    <tr>\n",
       "      <th>25%</th>\n",
       "      <td>1.000000</td>\n",
       "      <td>26.00000</td>\n",
       "    </tr>\n",
       "    <tr>\n",
       "      <th>50%</th>\n",
       "      <td>2.000000</td>\n",
       "      <td>27.00000</td>\n",
       "    </tr>\n",
       "    <tr>\n",
       "      <th>75%</th>\n",
       "      <td>3.000000</td>\n",
       "      <td>28.00000</td>\n",
       "    </tr>\n",
       "    <tr>\n",
       "      <th>max</th>\n",
       "      <td>4.000000</td>\n",
       "      <td>28.00000</td>\n",
       "    </tr>\n",
       "  </tbody>\n",
       "</table>\n",
       "</div>"
      ],
      "text/plain": [
       "             0         32\n",
       "count  5.000000   5.00000\n",
       "mean   2.000000  26.80000\n",
       "std    1.581139   1.30384\n",
       "min    0.000000  25.00000\n",
       "25%    1.000000  26.00000\n",
       "50%    2.000000  27.00000\n",
       "75%    3.000000  28.00000\n",
       "max    4.000000  28.00000"
      ]
     },
     "execution_count": 54,
     "metadata": {},
     "output_type": "execute_result"
    }
   ],
   "source": [
    "df.describe()"
   ]
  },
  {
   "cell_type": "code",
   "execution_count": 66,
   "id": "3b31e028-7dab-4d56-b1ef-bf382581457d",
   "metadata": {},
   "outputs": [
    {
     "data": {
      "text/html": [
       "<div>\n",
       "<style scoped>\n",
       "    .dataframe tbody tr th:only-of-type {\n",
       "        vertical-align: middle;\n",
       "    }\n",
       "\n",
       "    .dataframe tbody tr th {\n",
       "        vertical-align: top;\n",
       "    }\n",
       "\n",
       "    .dataframe thead th {\n",
       "        text-align: right;\n",
       "    }\n",
       "</style>\n",
       "<table border=\"1\" class=\"dataframe\">\n",
       "  <thead>\n",
       "    <tr style=\"text-align: right;\">\n",
       "      <th></th>\n",
       "      <th>count</th>\n",
       "      <th>mean</th>\n",
       "      <th>std</th>\n",
       "      <th>min</th>\n",
       "      <th>25%</th>\n",
       "      <th>50%</th>\n",
       "      <th>75%</th>\n",
       "      <th>max</th>\n",
       "    </tr>\n",
       "  </thead>\n",
       "  <tbody>\n",
       "    <tr>\n",
       "      <th>0</th>\n",
       "      <td>5.0</td>\n",
       "      <td>2.0</td>\n",
       "      <td>1.581139</td>\n",
       "      <td>0.0</td>\n",
       "      <td>1.0</td>\n",
       "      <td>2.0</td>\n",
       "      <td>3.0</td>\n",
       "      <td>4.0</td>\n",
       "    </tr>\n",
       "    <tr>\n",
       "      <th>32</th>\n",
       "      <td>5.0</td>\n",
       "      <td>26.8</td>\n",
       "      <td>1.303840</td>\n",
       "      <td>25.0</td>\n",
       "      <td>26.0</td>\n",
       "      <td>27.0</td>\n",
       "      <td>28.0</td>\n",
       "      <td>28.0</td>\n",
       "    </tr>\n",
       "  </tbody>\n",
       "</table>\n",
       "</div>"
      ],
      "text/plain": [
       "    count  mean       std   min   25%   50%   75%   max\n",
       "0     5.0   2.0  1.581139   0.0   1.0   2.0   3.0   4.0\n",
       "32    5.0  26.8  1.303840  25.0  26.0  27.0  28.0  28.0"
      ]
     },
     "execution_count": 66,
     "metadata": {},
     "output_type": "execute_result"
    }
   ],
   "source": [
    "df.describe().T  # only give the numerical Data by defalult "
   ]
  },
  {
   "cell_type": "code",
   "execution_count": null,
   "id": "53b99ca4-6802-495c-b94d-3a324b179043",
   "metadata": {},
   "outputs": [],
   "source": []
  },
  {
   "cell_type": "code",
   "execution_count": 65,
   "id": "d957babb-d1c4-48f3-b0d0-2fef1de09a53",
   "metadata": {},
   "outputs": [
    {
     "data": {
      "text/plain": [
       "0     float64\n",
       "1      object\n",
       "2      object\n",
       "3      object\n",
       "4      object\n",
       "5      object\n",
       "6      object\n",
       "7      object\n",
       "8      object\n",
       "9      object\n",
       "10     object\n",
       "11     object\n",
       "12     object\n",
       "13     object\n",
       "14     object\n",
       "15     object\n",
       "16     object\n",
       "17     object\n",
       "18     object\n",
       "19     object\n",
       "20     object\n",
       "21     object\n",
       "22     object\n",
       "23     object\n",
       "24     object\n",
       "25     object\n",
       "26     object\n",
       "27     object\n",
       "28     object\n",
       "29     object\n",
       "30     object\n",
       "31     object\n",
       "32    float64\n",
       "33     object\n",
       "dtype: object"
      ]
     },
     "execution_count": 65,
     "metadata": {},
     "output_type": "execute_result"
    }
   ],
   "source": [
    "df.dtypes"
   ]
  },
  {
   "cell_type": "code",
   "execution_count": 73,
   "id": "2269ee5d-d4dc-4cd7-ba77-ebe6f18237c7",
   "metadata": {},
   "outputs": [
    {
     "data": {
      "text/plain": [
       "Index(['Unnamed: 0', 'ROLL NO', '1', '2', '3', '4', '5', '6', '7', '8', '9',\n",
       "       '10', '11', '12', '13', '14', '15', '16', '17', '18', '19', '20', '21',\n",
       "       '22', '23', '24', '25', '26', '27', '28', '29', '30', 'PDAY', 'ADAY'],\n",
       "      dtype='object')"
      ]
     },
     "execution_count": 73,
     "metadata": {},
     "output_type": "execute_result"
    }
   ],
   "source": [
    "df.columns"
   ]
  },
  {
   "cell_type": "code",
   "execution_count": 74,
   "id": "f98e67cd-9cf6-451c-953c-b6c8b8ef995c",
   "metadata": {},
   "outputs": [
    {
     "data": {
      "text/plain": [
       "pandas.core.series.Series"
      ]
     },
     "execution_count": 74,
     "metadata": {},
     "output_type": "execute_result"
    }
   ],
   "source": [
    "type(df['ROLL NO'])"
   ]
  },
  {
   "cell_type": "code",
   "execution_count": 76,
   "id": "0c4ef91f-75d6-4629-8553-aee78fcf67ed",
   "metadata": {},
   "outputs": [
    {
     "data": {
      "text/plain": [
       "pandas.core.frame.DataFrame"
      ]
     },
     "execution_count": 76,
     "metadata": {},
     "output_type": "execute_result"
    }
   ],
   "source": [
    "type(df[['ROLL NO']])"
   ]
  },
  {
   "cell_type": "code",
   "execution_count": 77,
   "id": "f5e3888d-bea8-4b3e-9792-e54d088788fa",
   "metadata": {},
   "outputs": [
    {
     "data": {
      "text/plain": [
       "0    1\n",
       "1    2\n",
       "2    3\n",
       "3    4\n",
       "4    5\n",
       "Name: ROLL NO, dtype: int64"
      ]
     },
     "execution_count": 77,
     "metadata": {},
     "output_type": "execute_result"
    }
   ],
   "source": [
    "df['ROLL NO']  "
   ]
  },
  {
   "cell_type": "code",
   "execution_count": 79,
   "id": "5d408a51-8477-49ca-828c-3e43286861f6",
   "metadata": {},
   "outputs": [
    {
     "data": {
      "text/html": [
       "<div>\n",
       "<style scoped>\n",
       "    .dataframe tbody tr th:only-of-type {\n",
       "        vertical-align: middle;\n",
       "    }\n",
       "\n",
       "    .dataframe tbody tr th {\n",
       "        vertical-align: top;\n",
       "    }\n",
       "\n",
       "    .dataframe thead th {\n",
       "        text-align: right;\n",
       "    }\n",
       "</style>\n",
       "<table border=\"1\" class=\"dataframe\">\n",
       "  <thead>\n",
       "    <tr style=\"text-align: right;\">\n",
       "      <th></th>\n",
       "      <th>ROLL NO</th>\n",
       "      <th>PDAY</th>\n",
       "    </tr>\n",
       "  </thead>\n",
       "  <tbody>\n",
       "    <tr>\n",
       "      <th>0</th>\n",
       "      <td>1</td>\n",
       "      <td>26</td>\n",
       "    </tr>\n",
       "    <tr>\n",
       "      <th>1</th>\n",
       "      <td>2</td>\n",
       "      <td>27</td>\n",
       "    </tr>\n",
       "    <tr>\n",
       "      <th>2</th>\n",
       "      <td>3</td>\n",
       "      <td>28</td>\n",
       "    </tr>\n",
       "    <tr>\n",
       "      <th>3</th>\n",
       "      <td>4</td>\n",
       "      <td>25</td>\n",
       "    </tr>\n",
       "    <tr>\n",
       "      <th>4</th>\n",
       "      <td>5</td>\n",
       "      <td>28</td>\n",
       "    </tr>\n",
       "  </tbody>\n",
       "</table>\n",
       "</div>"
      ],
      "text/plain": [
       "   ROLL NO  PDAY\n",
       "0        1    26\n",
       "1        2    27\n",
       "2        3    28\n",
       "3        4    25\n",
       "4        5    28"
      ]
     },
     "execution_count": 79,
     "metadata": {},
     "output_type": "execute_result"
    }
   ],
   "source": [
    "df[['ROLL NO','PDAY']] # list "
   ]
  },
  {
   "cell_type": "code",
   "execution_count": 80,
   "id": "953e11ae-6721-4c92-8d3c-d37d6c6c2971",
   "metadata": {},
   "outputs": [
    {
     "data": {
      "text/html": [
       "<div>\n",
       "<style scoped>\n",
       "    .dataframe tbody tr th:only-of-type {\n",
       "        vertical-align: middle;\n",
       "    }\n",
       "\n",
       "    .dataframe tbody tr th {\n",
       "        vertical-align: top;\n",
       "    }\n",
       "\n",
       "    .dataframe thead th {\n",
       "        text-align: right;\n",
       "    }\n",
       "</style>\n",
       "<table border=\"1\" class=\"dataframe\">\n",
       "  <thead>\n",
       "    <tr style=\"text-align: right;\">\n",
       "      <th></th>\n",
       "      <th>ROLL NO</th>\n",
       "      <th>PDAY</th>\n",
       "      <th>ADAY</th>\n",
       "    </tr>\n",
       "  </thead>\n",
       "  <tbody>\n",
       "    <tr>\n",
       "      <th>0</th>\n",
       "      <td>1</td>\n",
       "      <td>26</td>\n",
       "      <td>4</td>\n",
       "    </tr>\n",
       "    <tr>\n",
       "      <th>1</th>\n",
       "      <td>2</td>\n",
       "      <td>27</td>\n",
       "      <td>3</td>\n",
       "    </tr>\n",
       "    <tr>\n",
       "      <th>2</th>\n",
       "      <td>3</td>\n",
       "      <td>28</td>\n",
       "      <td>2</td>\n",
       "    </tr>\n",
       "    <tr>\n",
       "      <th>3</th>\n",
       "      <td>4</td>\n",
       "      <td>25</td>\n",
       "      <td>5</td>\n",
       "    </tr>\n",
       "    <tr>\n",
       "      <th>4</th>\n",
       "      <td>5</td>\n",
       "      <td>28</td>\n",
       "      <td>2</td>\n",
       "    </tr>\n",
       "  </tbody>\n",
       "</table>\n",
       "</div>"
      ],
      "text/plain": [
       "   ROLL NO  PDAY  ADAY\n",
       "0        1    26     4\n",
       "1        2    27     3\n",
       "2        3    28     2\n",
       "3        4    25     5\n",
       "4        5    28     2"
      ]
     },
     "execution_count": 80,
     "metadata": {},
     "output_type": "execute_result"
    }
   ],
   "source": [
    "df[['ROLL NO','PDAY','ADAY']] #list of columns selection "
   ]
  },
  {
   "cell_type": "code",
   "execution_count": 4,
   "id": "034f1934-7667-45a3-b6cf-de6f51015900",
   "metadata": {},
   "outputs": [],
   "source": [
    "import pandas as pd"
   ]
  },
  {
   "cell_type": "code",
   "execution_count": null,
   "id": "76c9f7a8-d049-4181-b2f1-146aa2bd4f99",
   "metadata": {},
   "outputs": [],
   "source": []
  }
 ],
 "metadata": {
  "kernelspec": {
   "display_name": "Python 3 (ipykernel)",
   "language": "python",
   "name": "python3"
  },
  "language_info": {
   "codemirror_mode": {
    "name": "ipython",
    "version": 3
   },
   "file_extension": ".py",
   "mimetype": "text/x-python",
   "name": "python",
   "nbconvert_exporter": "python",
   "pygments_lexer": "ipython3",
   "version": "3.11.7"
  }
 },
 "nbformat": 4,
 "nbformat_minor": 5
}
