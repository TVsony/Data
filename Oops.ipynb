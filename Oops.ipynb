{
  "nbformat": 4,
  "nbformat_minor": 0,
  "metadata": {
    "colab": {
      "provenance": [],
      "authorship_tag": "ABX9TyNOKhO6SoYVgC1mnLiRKlmW",
      "include_colab_link": true
    },
    "kernelspec": {
      "name": "python3",
      "display_name": "Python 3"
    },
    "language_info": {
      "name": "python"
    }
  },
  "cells": [
    {
      "cell_type": "markdown",
      "metadata": {
        "id": "view-in-github",
        "colab_type": "text"
      },
      "source": [
        "<a href=\"https://colab.research.google.com/github/TVsony/Data/blob/main/Oops.ipynb\" target=\"_parent\"><img src=\"https://colab.research.google.com/assets/colab-badge.svg\" alt=\"Open In Colab\"/></a>"
      ]
    },
    {
      "cell_type": "markdown",
      "source": [
        "**Oops** Make three people list using Oops."
      ],
      "metadata": {
        "id": "jyibpxJHYW_n"
      }
    },
    {
      "cell_type": "code",
      "execution_count": null,
      "metadata": {
        "colab": {
          "base_uri": "https://localhost:8080/"
        },
        "id": "Fez9Qm2gA2B-",
        "outputId": "e77cc2f1-91b0-477e-eae9-27edac4ea52d"
      },
      "outputs": [
        {
          "output_type": "stream",
          "name": "stdout",
          "text": [
            "The name is Bhimrao and last name is Pawar\n",
            "The name is Krish and last name is Naik\n",
            "The name is Samarth and last name is Pawar\n",
            "['Bhimrao', 'Krish', 'Samarth']\n"
          ]
        }
      ],
      "source": [
        "class Person:\n",
        "    name_of_people = []\n",
        "\n",
        "    def __init__(self, first_name, last_name):\n",
        "        self.name = first_name\n",
        "        self.last = last_name\n",
        "        Person.name_of_people.append(self.name)\n",
        "\n",
        "    def __str__(self):\n",
        "        return \"The name is {} and last name is {}\".format(self.name, self.last)\n",
        "\n",
        "# Create instances of the Person class\n",
        "person1 = Person(\"Bhimrao\", \"Pawar\")\n",
        "print(person1)\n",
        "\n",
        "person2 = Person(\"Krish\", \"Naik\")\n",
        "print(person2)\n",
        "\n",
        "person3 = Person(\"Samarth\", \"Pawar\")\n",
        "print(person3)\n",
        "\n",
        "# Access the list of names using the class variable\n",
        "print(Person.name_of_people)\n"
      ]
    },
    {
      "cell_type": "markdown",
      "source": [
        "Make Class of Account above three person account"
      ],
      "metadata": {
        "id": "8OBR-kp3a5JM"
      }
    },
    {
      "cell_type": "code",
      "source": [
        "class Account:\n",
        "    def __init__(self, bank_name, branch_address, city, owner_name, account_number, pan_number, balance=0):\n",
        "        self.bank_name = bank_name\n",
        "        self.branch = branch_address\n",
        "        self.city = city\n",
        "        self.owner_name = owner_name\n",
        "        self.account_number = account_number\n",
        "        self.pan_number = pan_number\n",
        "        self.balance = balance\n",
        "\n",
        "    def deposit(self, deposit):\n",
        "        self.balance = self.balance + deposit\n",
        "\n",
        "    def withdrawl(self, withdrawal_amount):\n",
        "        if withdrawal_amount <= self.balance:\n",
        "            self.balance = self.balance - withdrawal_amount\n",
        "        else:\n",
        "            print(\"Your Balance is less \")\n",
        "\n",
        "Account1 = Account(\"ICICI\", \"Cidco\", \"Aurangabad\", \"Bhimrao Pawar\", \"BSPP7845J\", 0)\n",
        "Account2 = Account(\"HDFC\", \"Hadco\", \"Aurangabad Gramin\", \"Samarth Pawar\", \"BSPP4446J\", 0)\n",
        "Account3 = Account(\"SBI\", \"Main\", \"Aurangabad City\", \"Krish Naik\", \"BSPP4444K\", 0)\n"
      ],
      "metadata": {
        "id": "zguLXA8qRvIJ"
      },
      "execution_count": null,
      "outputs": []
    },
    {
      "cell_type": "code",
      "source": [
        "print(Account1.owner_name)\n",
        "print(Account1.balance)\n",
        "print(\"----------------\")\n",
        "Account1.deposit(1000)\n",
        "print(Account1.balance)\n",
        "print(\"----------------\")\n",
        "print(Account1.branch)\n",
        "print(\"---------------\")\n",
        "Account1.withdrawl(600)\n",
        "print(Account1.balance)"
      ],
      "metadata": {
        "colab": {
          "base_uri": "https://localhost:8080/"
        },
        "id": "vGWWD36dS56a",
        "outputId": "48837d2a-afca-4eae-dd94-985a3639fa8f"
      },
      "execution_count": null,
      "outputs": [
        {
          "output_type": "stream",
          "name": "stdout",
          "text": [
            "Bhimrao Pawar\n",
            "0\n",
            "----------------\n",
            "1000\n",
            "----------------\n",
            "Cidco\n",
            "---------------\n",
            "400\n"
          ]
        }
      ]
    },
    {
      "cell_type": "code",
      "source": [
        "print(Account2.owner_name)\n",
        "print(\"Initial Bal:\",Account2.balance)\n",
        "print(\"----------------\")\n",
        "Account2.deposit(10000)\n",
        "print(\"After Deposit:\",Account2.balance)\n",
        "print(\"----------------\")\n",
        "print(Account2.branch)\n",
        "print(\"---------------\")\n",
        "Account2.withdrawl(3000)\n",
        "print(\"After withdrawal:\",Account2.balance)"
      ],
      "metadata": {
        "colab": {
          "base_uri": "https://localhost:8080/"
        },
        "id": "TiUtl_o_TC4_",
        "outputId": "c25c726b-9749-4daf-c6db-195f27e5055f"
      },
      "execution_count": null,
      "outputs": [
        {
          "output_type": "stream",
          "name": "stdout",
          "text": [
            "Samarth Pawar\n",
            "Initial Bal: 0\n",
            "----------------\n",
            "After Deposit: 10000\n",
            "----------------\n",
            "Hadco\n",
            "---------------\n",
            "After withdrawal: 7000\n"
          ]
        }
      ]
    },
    {
      "cell_type": "code",
      "source": [
        "print(Account3.owner_name)\n",
        "print(\"Initial Bal:\",Account3.balance)\n",
        "print(\"----------------\")\n",
        "Account3.deposit(100000)\n",
        "print(\"After Deposit:\",Account3.balance)\n",
        "print(\"----------------\")\n",
        "print(Account3.branch)\n",
        "print(\"---------------\")\n",
        "Account3.withdrawl(2000)\n",
        "print(\"After withdrawal:\",Account3.balance)"
      ],
      "metadata": {
        "colab": {
          "base_uri": "https://localhost:8080/"
        },
        "id": "kdVUUOOWToAq",
        "outputId": "830ae9f5-089c-47bd-d958-b3153021155e"
      },
      "execution_count": null,
      "outputs": [
        {
          "output_type": "stream",
          "name": "stdout",
          "text": [
            "Krish Naik\n",
            "Initial Bal: 0\n",
            "----------------\n",
            "After Deposit: 100000\n",
            "----------------\n",
            "Main\n",
            "---------------\n",
            "After withdrawal: 98000\n"
          ]
        }
      ]
    },
    {
      "cell_type": "code",
      "source": [],
      "metadata": {
        "id": "s8PLCHaiYTtK"
      },
      "execution_count": null,
      "outputs": []
    }
  ]
}