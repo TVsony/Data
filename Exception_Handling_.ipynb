{
  "nbformat": 4,
  "nbformat_minor": 0,
  "metadata": {
    "colab": {
      "provenance": [],
      "authorship_tag": "ABX9TyPGQJTyr11Smh5AT3iDJ38B",
      "include_colab_link": true
    },
    "kernelspec": {
      "name": "python3",
      "display_name": "Python 3"
    },
    "language_info": {
      "name": "python"
    }
  },
  "cells": [
    {
      "cell_type": "markdown",
      "metadata": {
        "id": "view-in-github",
        "colab_type": "text"
      },
      "source": [
        "<a href=\"https://colab.research.google.com/github/TVsony/Data/blob/main/Exception_Handling_.ipynb\" target=\"_parent\"><img src=\"https://colab.research.google.com/assets/colab-badge.svg\" alt=\"Open In Colab\"/></a>"
      ]
    },
    {
      "cell_type": "markdown",
      "source": [
        "**Exceptions **\n",
        "\n",
        "\n",
        "The error in the coding(software) are called \"bugs\" and the process of removing then is called \"degugging\"\n",
        "\n",
        "Types of error in python\n",
        "\n",
        "1 Compile-time error\n",
        "\n",
        "2 Runtime error\n",
        "\n",
        "3 Logical Error\n",
        "\n"
      ],
      "metadata": {
        "id": "61MPI7S1tOVy"
      }
    },
    {
      "cell_type": "code",
      "source": [
        "# 1 Compile-time error"
      ],
      "metadata": {
        "id": "7glORKos00Q4"
      },
      "execution_count": null,
      "outputs": []
    },
    {
      "cell_type": "code",
      "execution_count": null,
      "metadata": {
        "colab": {
          "base_uri": "https://localhost:8080/",
          "height": 141
        },
        "id": "7otwkx-geeSA",
        "outputId": "20f77c2b-6314-4864-e57d-fc3b31c5007d"
      },
      "outputs": [
        {
          "output_type": "error",
          "ename": "SyntaxError",
          "evalue": "expected ':' (<ipython-input-29-1075c43bf49e>, line 3)",
          "traceback": [
            "\u001b[0;36m  File \u001b[0;32m\"<ipython-input-29-1075c43bf49e>\"\u001b[0;36m, line \u001b[0;32m3\u001b[0m\n\u001b[0;31m    if x == 1\u001b[0m\n\u001b[0m             ^\u001b[0m\n\u001b[0;31mSyntaxError\u001b[0m\u001b[0;31m:\u001b[0m expected ':'\n"
          ]
        }
      ],
      "source": [
        "# Eg 1 of compile-time error\n",
        "x = 1\n",
        "if x == 1\n",
        "print(\"Where is colon?\")\n"
      ]
    },
    {
      "cell_type": "code",
      "source": [
        "# Eg 2 compile time error\n",
        "x = 10\n",
        "if x % 2 ==0:\n",
        "  print(x,'is divisible by 2')\n",
        "       print(x,'is even function')\n"
      ],
      "metadata": {
        "colab": {
          "base_uri": "https://localhost:8080/",
          "height": 141
        },
        "id": "XlmO37FTtLWJ",
        "outputId": "46a037e2-494f-4f0a-acd2-c86dc34c43ea"
      },
      "execution_count": null,
      "outputs": [
        {
          "output_type": "error",
          "ename": "IndentationError",
          "evalue": "unexpected indent (<ipython-input-31-b234ea7f2c06>, line 5)",
          "traceback": [
            "\u001b[0;36m  File \u001b[0;32m\"<ipython-input-31-b234ea7f2c06>\"\u001b[0;36m, line \u001b[0;32m5\u001b[0m\n\u001b[0;31m    print(x,'is even function')\u001b[0m\n\u001b[0m    ^\u001b[0m\n\u001b[0;31mIndentationError\u001b[0m\u001b[0;31m:\u001b[0m unexpected indent\n"
          ]
        }
      ]
    },
    {
      "cell_type": "code",
      "source": [
        " # 2 Runtime error"
      ],
      "metadata": {
        "id": "htlnJqeH0_bF"
      },
      "execution_count": null,
      "outputs": []
    },
    {
      "cell_type": "code",
      "source": [
        "# Eg 1 Run-time error\n",
        "def cancat(a,b):\n",
        "  print(a+b)\n",
        "  # call concat and pass the arguments\n",
        "cancat('hai',20)\n"
      ],
      "metadata": {
        "colab": {
          "base_uri": "https://localhost:8080/",
          "height": 332
        },
        "id": "s7RQQLFctLaK",
        "outputId": "7da1fa3b-8fc1-464c-c123-a53125768a97"
      },
      "execution_count": null,
      "outputs": [
        {
          "output_type": "error",
          "ename": "TypeError",
          "evalue": "can only concatenate str (not \"int\") to str",
          "traceback": [
            "\u001b[0;31m---------------------------------------------------------------------------\u001b[0m",
            "\u001b[0;31mTypeError\u001b[0m                                 Traceback (most recent call last)",
            "\u001b[0;32m<ipython-input-32-0fd28f99605e>\u001b[0m in \u001b[0;36m<cell line: 5>\u001b[0;34m()\u001b[0m\n\u001b[1;32m      3\u001b[0m   \u001b[0mprint\u001b[0m\u001b[0;34m(\u001b[0m\u001b[0ma\u001b[0m\u001b[0;34m+\u001b[0m\u001b[0mb\u001b[0m\u001b[0;34m)\u001b[0m\u001b[0;34m\u001b[0m\u001b[0;34m\u001b[0m\u001b[0m\n\u001b[1;32m      4\u001b[0m   \u001b[0;31m# call concat and pass the arguments\u001b[0m\u001b[0;34m\u001b[0m\u001b[0;34m\u001b[0m\u001b[0m\n\u001b[0;32m----> 5\u001b[0;31m \u001b[0mcancat\u001b[0m\u001b[0;34m(\u001b[0m\u001b[0;34m'hai'\u001b[0m\u001b[0;34m,\u001b[0m\u001b[0;36m20\u001b[0m\u001b[0;34m)\u001b[0m\u001b[0;34m\u001b[0m\u001b[0;34m\u001b[0m\u001b[0m\n\u001b[0m",
            "\u001b[0;32m<ipython-input-32-0fd28f99605e>\u001b[0m in \u001b[0;36mcancat\u001b[0;34m(a, b)\u001b[0m\n\u001b[1;32m      1\u001b[0m \u001b[0;31m# Eg Run-time error\u001b[0m\u001b[0;34m\u001b[0m\u001b[0;34m\u001b[0m\u001b[0m\n\u001b[1;32m      2\u001b[0m \u001b[0;32mdef\u001b[0m \u001b[0mcancat\u001b[0m\u001b[0;34m(\u001b[0m\u001b[0ma\u001b[0m\u001b[0;34m,\u001b[0m\u001b[0mb\u001b[0m\u001b[0;34m)\u001b[0m\u001b[0;34m:\u001b[0m\u001b[0;34m\u001b[0m\u001b[0;34m\u001b[0m\u001b[0m\n\u001b[0;32m----> 3\u001b[0;31m   \u001b[0mprint\u001b[0m\u001b[0;34m(\u001b[0m\u001b[0ma\u001b[0m\u001b[0;34m+\u001b[0m\u001b[0mb\u001b[0m\u001b[0;34m)\u001b[0m\u001b[0;34m\u001b[0m\u001b[0;34m\u001b[0m\u001b[0m\n\u001b[0m\u001b[1;32m      4\u001b[0m   \u001b[0;31m# call concat and pass the arguments\u001b[0m\u001b[0;34m\u001b[0m\u001b[0;34m\u001b[0m\u001b[0m\n\u001b[1;32m      5\u001b[0m \u001b[0mcancat\u001b[0m\u001b[0;34m(\u001b[0m\u001b[0;34m'hai'\u001b[0m\u001b[0;34m,\u001b[0m\u001b[0;36m20\u001b[0m\u001b[0;34m)\u001b[0m\u001b[0;34m\u001b[0m\u001b[0;34m\u001b[0m\u001b[0m\n",
            "\u001b[0;31mTypeError\u001b[0m: can only concatenate str (not \"int\") to str"
          ]
        }
      ]
    },
    {
      "cell_type": "code",
      "source": [
        "# Eg 2 Run-time error\n",
        "animal = ['Dog', 'Cat', 'Hourse', 'Donkey']\n",
        "print(animal[4])\n",
        "\n"
      ],
      "metadata": {
        "colab": {
          "base_uri": "https://localhost:8080/",
          "height": 228
        },
        "id": "TNgDMZ7YtLda",
        "outputId": "299a1adf-a594-4eb9-acfb-0eba3a03553e"
      },
      "execution_count": null,
      "outputs": [
        {
          "output_type": "error",
          "ename": "IndexError",
          "evalue": "list index out of range",
          "traceback": [
            "\u001b[0;31m---------------------------------------------------------------------------\u001b[0m",
            "\u001b[0;31mIndexError\u001b[0m                                Traceback (most recent call last)",
            "\u001b[0;32m<ipython-input-33-980813cced73>\u001b[0m in \u001b[0;36m<cell line: 3>\u001b[0;34m()\u001b[0m\n\u001b[1;32m      1\u001b[0m \u001b[0;31m# Eg 2 Run-time error\u001b[0m\u001b[0;34m\u001b[0m\u001b[0;34m\u001b[0m\u001b[0m\n\u001b[1;32m      2\u001b[0m \u001b[0manimal\u001b[0m \u001b[0;34m=\u001b[0m \u001b[0;34m[\u001b[0m\u001b[0;34m'Dog'\u001b[0m\u001b[0;34m,\u001b[0m \u001b[0;34m'Cat'\u001b[0m\u001b[0;34m,\u001b[0m \u001b[0;34m'Hourse'\u001b[0m\u001b[0;34m,\u001b[0m \u001b[0;34m'Donkey'\u001b[0m\u001b[0;34m]\u001b[0m\u001b[0;34m\u001b[0m\u001b[0;34m\u001b[0m\u001b[0m\n\u001b[0;32m----> 3\u001b[0;31m \u001b[0mprint\u001b[0m\u001b[0;34m(\u001b[0m\u001b[0manimal\u001b[0m\u001b[0;34m[\u001b[0m\u001b[0;36m4\u001b[0m\u001b[0;34m]\u001b[0m\u001b[0;34m)\u001b[0m\u001b[0;34m\u001b[0m\u001b[0;34m\u001b[0m\u001b[0m\n\u001b[0m\u001b[1;32m      4\u001b[0m \u001b[0;34m\u001b[0m\u001b[0m\n",
            "\u001b[0;31mIndexError\u001b[0m: list index out of range"
          ]
        }
      ]
    },
    {
      "cell_type": "code",
      "source": [
        "# 3 Logical Error"
      ],
      "metadata": {
        "id": "k_l5FOoCtLga"
      },
      "execution_count": null,
      "outputs": []
    },
    {
      "cell_type": "code",
      "source": [
        "def increment(sal):\n",
        "  sal = sal * 15/100  # wrong formula (sal = sal + sal *15/100) so called logical error\n",
        "  return sal\n",
        "sal = increment(5000.00)\n",
        "print('Incrementted salary = %.2f' %sal)"
      ],
      "metadata": {
        "colab": {
          "base_uri": "https://localhost:8080/"
        },
        "id": "V7yoSCSEtLjZ",
        "outputId": "cc6acd0c-3f33-483b-884e-cf9d558c3955"
      },
      "execution_count": null,
      "outputs": [
        {
          "output_type": "stream",
          "name": "stdout",
          "text": [
            "Incrementted salary = 750.00\n"
          ]
        }
      ]
    },
    {
      "cell_type": "code",
      "source": [
        "n = int(input(\"Eneter 1st Number\"))\n",
        "d = int(input(\"Enter 2nd Number\"))\n",
        "\n",
        "result = n/d\n",
        "print(\"Results\",results)"
      ],
      "metadata": {
        "colab": {
          "base_uri": "https://localhost:8080/",
          "height": 263
        },
        "id": "KVWUjRFztLma",
        "outputId": "fc67d0ff-7e50-42fc-db20-fd4beada0685"
      },
      "execution_count": null,
      "outputs": [
        {
          "name": "stdout",
          "output_type": "stream",
          "text": [
            "Eneter 1st Number8\n",
            "Enter 2nd Number0\n"
          ]
        },
        {
          "output_type": "error",
          "ename": "ZeroDivisionError",
          "evalue": "division by zero",
          "traceback": [
            "\u001b[0;31m---------------------------------------------------------------------------\u001b[0m",
            "\u001b[0;31mZeroDivisionError\u001b[0m                         Traceback (most recent call last)",
            "\u001b[0;32m<ipython-input-38-a741b681252f>\u001b[0m in \u001b[0;36m<cell line: 4>\u001b[0;34m()\u001b[0m\n\u001b[1;32m      2\u001b[0m \u001b[0md\u001b[0m \u001b[0;34m=\u001b[0m \u001b[0mint\u001b[0m\u001b[0;34m(\u001b[0m\u001b[0minput\u001b[0m\u001b[0;34m(\u001b[0m\u001b[0;34m\"Enter 2nd Number\"\u001b[0m\u001b[0;34m)\u001b[0m\u001b[0;34m)\u001b[0m\u001b[0;34m\u001b[0m\u001b[0;34m\u001b[0m\u001b[0m\n\u001b[1;32m      3\u001b[0m \u001b[0;34m\u001b[0m\u001b[0m\n\u001b[0;32m----> 4\u001b[0;31m \u001b[0mresult\u001b[0m \u001b[0;34m=\u001b[0m \u001b[0mn\u001b[0m\u001b[0;34m/\u001b[0m\u001b[0md\u001b[0m\u001b[0;34m\u001b[0m\u001b[0;34m\u001b[0m\u001b[0m\n\u001b[0m\u001b[1;32m      5\u001b[0m \u001b[0mprint\u001b[0m\u001b[0;34m(\u001b[0m\u001b[0;34m\"Results\"\u001b[0m\u001b[0;34m,\u001b[0m\u001b[0mresults\u001b[0m\u001b[0;34m)\u001b[0m\u001b[0;34m\u001b[0m\u001b[0;34m\u001b[0m\u001b[0m\n",
            "\u001b[0;31mZeroDivisionError\u001b[0m: division by zero"
          ]
        }
      ]
    },
    {
      "cell_type": "markdown",
      "source": [
        "**Exceptions  Handling **"
      ],
      "metadata": {
        "id": "pOyR22Y82n1l"
      }
    },
    {
      "cell_type": "code",
      "source": [
        "# An Exception is a run time error which can be handle by the programmer.thats mean they gause the error in the program he can do something\n",
        "# to eleminate the by that error, then its called exceptions .\n"
      ],
      "metadata": {
        "id": "DUsPoEKptLpr"
      },
      "execution_count": null,
      "outputs": []
    },
    {
      "cell_type": "code",
      "source": [
        "# try :   coder use try the greatness of try that even if some exception arises inside it program will not be terminated.it jumps to next.\n"
      ],
      "metadata": {
        "id": "Vz8o1hKItLsv"
      },
      "execution_count": null,
      "outputs": []
    },
    {
      "cell_type": "code",
      "source": [
        "try :\n",
        "  print(x)\n",
        "except :\n",
        "  print(\"Their is no x\")\n",
        "else:                         # else part\n",
        "  print(\"No error\")"
      ],
      "metadata": {
        "id": "P-L2zsoptIn8"
      },
      "execution_count": null,
      "outputs": []
    },
    {
      "cell_type": "code",
      "source": [
        "try :\n",
        "  print(x)\n",
        "except :\n",
        "  print(\"Their is no x\")\n",
        "finally:                           # finally Try and except are excuted\n",
        "  print(\"Try and Except are excuted\")"
      ],
      "metadata": {
        "colab": {
          "base_uri": "https://localhost:8080/"
        },
        "id": "Bnw3WQevi0iK",
        "outputId": "dfafa442-93b6-474d-85c6-dfa19f6f4134"
      },
      "execution_count": null,
      "outputs": [
        {
          "output_type": "stream",
          "name": "stdout",
          "text": [
            "Their is no x\n",
            "Try and Except are excuted\n"
          ]
        }
      ]
    },
    {
      "cell_type": "code",
      "source": [
        "x = 10\n",
        "if x >= 20:\n",
        "  raise Exception (\"Their is issue ...x is below 20\")"
      ],
      "metadata": {
        "id": "DRtBSqpAjQ0g"
      },
      "execution_count": null,
      "outputs": []
    },
    {
      "cell_type": "code",
      "source": [
        "n = int(input(\"Eneter 1st Number\"))\n",
        "d = int(input(\"Enter 2nd Number\"))\n",
        "\n",
        "try :\n",
        "  results = n/d\n",
        "except ZeroDivisionError as err:   # Division by zero\n",
        "\n",
        "  print(\"You have divided by zero :\",err)"
      ],
      "metadata": {
        "colab": {
          "base_uri": "https://localhost:8080/"
        },
        "id": "0YSZV47wjt51",
        "outputId": "6127a704-f622-4682-fde8-59cc314e686c"
      },
      "execution_count": null,
      "outputs": [
        {
          "output_type": "stream",
          "name": "stdout",
          "text": [
            "Eneter 1st Number8\n",
            "Enter 2nd Number0\n",
            "You have divided by zero : division by zero\n"
          ]
        }
      ]
    },
    {
      "cell_type": "code",
      "source": [
        "try :\n",
        "  8 + m * 2\n",
        "except NameError as err:       # Name Error Handling\n",
        "  print(\"Handle run time error:\",err)"
      ],
      "metadata": {
        "colab": {
          "base_uri": "https://localhost:8080/"
        },
        "id": "WvnBIu8ikM-H",
        "outputId": "5a5f8e91-a622-423e-9db3-bbc7463c2e02"
      },
      "execution_count": null,
      "outputs": [
        {
          "output_type": "stream",
          "name": "stdout",
          "text": [
            "Handle run time error: name 'm' is not defined\n"
          ]
        }
      ]
    },
    {
      "cell_type": "code",
      "source": [
        "try :\n",
        "  n = int(input(\"Enter 1st number\"))\n",
        "  d = int(input(\"Enter 2nd number\"))\n",
        "  results = n/d\n",
        "  print(\"This is results\",results)\n",
        "except ValueError:                          # Value Error handling\n",
        "  print(\"It is integer but you enter float\")"
      ],
      "metadata": {
        "colab": {
          "base_uri": "https://localhost:8080/"
        },
        "id": "DtgnT8w3ky2M",
        "outputId": "b18aed38-e0e5-4a57-f1d7-f4a0bc8e47e2"
      },
      "execution_count": null,
      "outputs": [
        {
          "output_type": "stream",
          "name": "stdout",
          "text": [
            "Enter 1st number8\n",
            "Enter 2nd number2.1\n",
            "It is integer but you enter float\n"
          ]
        }
      ]
    },
    {
      "cell_type": "code",
      "source": [
        "try :\n",
        "  i = int(input(\"value\"))\n",
        "  p = 50/i\n",
        "except ZeroDivisionError:                # Zero Division error Handling\n",
        "  print(\"Zero Division Error\")\n",
        "\n",
        "except NameError:                      # Name Error Handling\n",
        "  print(\"Check name of variable: Name error\")\n",
        "else:\n",
        "  print(p)"
      ],
      "metadata": {
        "colab": {
          "base_uri": "https://localhost:8080/"
        },
        "id": "9fLcODMtoO-8",
        "outputId": "aa90a0be-f1e0-49ea-add2-322e7050d9c5"
      },
      "execution_count": null,
      "outputs": [
        {
          "output_type": "stream",
          "name": "stdout",
          "text": [
            "value0\n",
            "Zero Division Error\n"
          ]
        }
      ]
    },
    {
      "cell_type": "code",
      "source": [
        "try :\n",
        "  x = 10      # int data type\n",
        "  y = \"21\"   # str data type\n",
        "  z = x + y\n",
        "  print(z)\n",
        "except TypeError:   #  TypeError handling\n",
        "  print(\"Data type missing\")"
      ],
      "metadata": {
        "colab": {
          "base_uri": "https://localhost:8080/"
        },
        "id": "ZYgwgG_spxMv",
        "outputId": "1208adc6-2f7d-4283-b695-2b45fc3b0aef"
      },
      "execution_count": null,
      "outputs": [
        {
          "output_type": "stream",
          "name": "stdout",
          "text": [
            "Data type missing\n"
          ]
        }
      ]
    },
    {
      "cell_type": "code",
      "source": [
        "try :\n",
        "  a = [10,20,30,40]\n",
        "  print(a[0])\n",
        "  print(a[1])\n",
        "  print(a[2])\n",
        "  print(a[3])\n",
        "except:\n",
        "  print(\"Out of range\")\n",
        "else:\n",
        "  print(\"hello\")\n",
        "finally:\n",
        "  print(\"end of the program\")\n"
      ],
      "metadata": {
        "colab": {
          "base_uri": "https://localhost:8080/"
        },
        "id": "yTPpzOq2qprq",
        "outputId": "006b2395-d92d-4a94-b744-3aafcba18751"
      },
      "execution_count": null,
      "outputs": [
        {
          "output_type": "stream",
          "name": "stdout",
          "text": [
            "10\n",
            "20\n",
            "30\n",
            "40\n",
            "hello\n",
            "end of the program\n"
          ]
        }
      ]
    },
    {
      "cell_type": "code",
      "source": [
        "try:\n",
        "  a = [5,10,15]\n",
        "  print(a[4])\n",
        "except IndexError:\n",
        "  print(\"Wrong Indexed\")\n"
      ],
      "metadata": {
        "colab": {
          "base_uri": "https://localhost:8080/"
        },
        "id": "Ft6PslUwr3s8",
        "outputId": "ac33d209-3094-4993-df7b-0151be85e766"
      },
      "execution_count": null,
      "outputs": [
        {
          "output_type": "stream",
          "name": "stdout",
          "text": [
            "Wrong Indexed\n"
          ]
        }
      ]
    },
    {
      "cell_type": "code",
      "source": [
        "try :\n",
        "  dict ={\n",
        "      \"Name\":\"Bhimrao\",\n",
        "      \"Age\":36,\n",
        "      \"Birth_month\":7,\n",
        "      \"Birth_Year\":1987,\n",
        "      \"Birth_place\":\"Aurangabad\"\n",
        "  }\n",
        "  print(dict[\"City\"])\n",
        "except KeyError:\n",
        "  print(\"Key not found\")\n",
        "\n",
        "\n"
      ],
      "metadata": {
        "colab": {
          "base_uri": "https://localhost:8080/"
        },
        "id": "PzHOuHulv51s",
        "outputId": "d9ee7ec6-e003-437d-c266-3781b009f003"
      },
      "execution_count": null,
      "outputs": [
        {
          "output_type": "stream",
          "name": "stdout",
          "text": [
            "Key not found\n"
          ]
        }
      ]
    },
    {
      "cell_type": "code",
      "source": [
        "# file not found\n",
        "try :\n",
        "  file_location = \"my_file.text\"\n",
        "  with open (file_location,'r') as file :\n",
        "    contents = file.read()\n",
        "except FileNotFoundError:\n",
        "  print(\"File that you are looking for is not there\",)\n"
      ],
      "metadata": {
        "colab": {
          "base_uri": "https://localhost:8080/"
        },
        "id": "H0DLjIhlyGx-",
        "outputId": "b8a30e89-c8c5-4c79-fcdb-6b0fbe485cf7"
      },
      "execution_count": null,
      "outputs": [
        {
          "output_type": "stream",
          "name": "stdout",
          "text": [
            "File that you are looking for is not there\n"
          ]
        }
      ]
    },
    {
      "cell_type": "code",
      "source": [
        "try :\n",
        "  import library12345\n",
        "except ImportError:                     # importing Lib\n",
        "  print(\"perticular Library Missing\")"
      ],
      "metadata": {
        "colab": {
          "base_uri": "https://localhost:8080/"
        },
        "id": "b8NBmRJp68nb",
        "outputId": "260efed5-48c6-476d-f918-0767f224d235"
      },
      "execution_count": null,
      "outputs": [
        {
          "output_type": "stream",
          "name": "stdout",
          "text": [
            "perticular Library Missing\n"
          ]
        }
      ]
    },
    {
      "cell_type": "code",
      "source": [
        "try:\n",
        "  big_list = [1] * (10**12)\n",
        "except MemoryError:\n",
        "  print(\"Print insuficent Momory\")"
      ],
      "metadata": {
        "id": "RjoNT2_7OpaE"
      },
      "execution_count": null,
      "outputs": []
    },
    {
      "cell_type": "code",
      "source": [],
      "metadata": {
        "id": "5Nfsa-WDQXlL"
      },
      "execution_count": null,
      "outputs": []
    }
  ]
}